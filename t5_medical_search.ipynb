{
  "nbformat": 4,
  "nbformat_minor": 0,
  "metadata": {
    "colab": {
      "name": "t5_medical_search.ipynb",
      "provenance": [],
      "collapsed_sections": [],
      "toc_visible": true,
      "authorship_tag": "ABX9TyOnhzvXLuh1L7p0soGqoCSQ",
      "include_colab_link": true
    },
    "kernelspec": {
      "display_name": "Python 3",
      "name": "python3"
    },
    "widgets": {
      "application/vnd.jupyter.widget-state+json": {
        "e33f2b90c2bf40179188a24dae004431": {
          "model_module": "@jupyter-widgets/controls",
          "model_name": "HBoxModel",
          "state": {
            "_view_name": "HBoxView",
            "_dom_classes": [],
            "_model_name": "HBoxModel",
            "_view_module": "@jupyter-widgets/controls",
            "_model_module_version": "1.5.0",
            "_view_count": null,
            "_view_module_version": "1.5.0",
            "box_style": "",
            "layout": "IPY_MODEL_b5f37a78133e47a4bc1160438e30c732",
            "_model_module": "@jupyter-widgets/controls",
            "children": [
              "IPY_MODEL_a770e69480234d0bab2d673cc590910f",
              "IPY_MODEL_518fe3ce09d44b21801ae25e4edadd30"
            ]
          }
        },
        "b5f37a78133e47a4bc1160438e30c732": {
          "model_module": "@jupyter-widgets/base",
          "model_name": "LayoutModel",
          "state": {
            "_view_name": "LayoutView",
            "grid_template_rows": null,
            "right": null,
            "justify_content": null,
            "_view_module": "@jupyter-widgets/base",
            "overflow": null,
            "_model_module_version": "1.2.0",
            "_view_count": null,
            "flex_flow": null,
            "width": null,
            "min_width": null,
            "border": null,
            "align_items": null,
            "bottom": null,
            "_model_module": "@jupyter-widgets/base",
            "top": null,
            "grid_column": null,
            "overflow_y": null,
            "overflow_x": null,
            "grid_auto_flow": null,
            "grid_area": null,
            "grid_template_columns": null,
            "flex": null,
            "_model_name": "LayoutModel",
            "justify_items": null,
            "grid_row": null,
            "max_height": null,
            "align_content": null,
            "visibility": null,
            "align_self": null,
            "height": null,
            "min_height": null,
            "padding": null,
            "grid_auto_rows": null,
            "grid_gap": null,
            "max_width": null,
            "order": null,
            "_view_module_version": "1.2.0",
            "grid_template_areas": null,
            "object_position": null,
            "object_fit": null,
            "grid_auto_columns": null,
            "margin": null,
            "display": null,
            "left": null
          }
        },
        "a770e69480234d0bab2d673cc590910f": {
          "model_module": "@jupyter-widgets/controls",
          "model_name": "FloatProgressModel",
          "state": {
            "_view_name": "ProgressView",
            "style": "IPY_MODEL_10b3070347c64fa6b40a3aad710af295",
            "_dom_classes": [],
            "description": "Downloading: 100%",
            "_model_name": "FloatProgressModel",
            "bar_style": "success",
            "max": 1199,
            "_view_module": "@jupyter-widgets/controls",
            "_model_module_version": "1.5.0",
            "value": 1199,
            "_view_count": null,
            "_view_module_version": "1.5.0",
            "orientation": "horizontal",
            "min": 0,
            "description_tooltip": null,
            "_model_module": "@jupyter-widgets/controls",
            "layout": "IPY_MODEL_1c1003cf674b4053938b569bfb3477f8"
          }
        },
        "518fe3ce09d44b21801ae25e4edadd30": {
          "model_module": "@jupyter-widgets/controls",
          "model_name": "HTMLModel",
          "state": {
            "_view_name": "HTMLView",
            "style": "IPY_MODEL_941e695df3d54295a2dbb48e07750cb1",
            "_dom_classes": [],
            "description": "",
            "_model_name": "HTMLModel",
            "placeholder": "​",
            "_view_module": "@jupyter-widgets/controls",
            "_model_module_version": "1.5.0",
            "value": " 1.20k/1.20k [00:33&lt;00:00, 36.3B/s]",
            "_view_count": null,
            "_view_module_version": "1.5.0",
            "description_tooltip": null,
            "_model_module": "@jupyter-widgets/controls",
            "layout": "IPY_MODEL_1fa02e6c1d604b78bc6deaa81258e263"
          }
        },
        "10b3070347c64fa6b40a3aad710af295": {
          "model_module": "@jupyter-widgets/controls",
          "model_name": "ProgressStyleModel",
          "state": {
            "_view_name": "StyleView",
            "_model_name": "ProgressStyleModel",
            "description_width": "initial",
            "_view_module": "@jupyter-widgets/base",
            "_model_module_version": "1.5.0",
            "_view_count": null,
            "_view_module_version": "1.2.0",
            "bar_color": null,
            "_model_module": "@jupyter-widgets/controls"
          }
        },
        "1c1003cf674b4053938b569bfb3477f8": {
          "model_module": "@jupyter-widgets/base",
          "model_name": "LayoutModel",
          "state": {
            "_view_name": "LayoutView",
            "grid_template_rows": null,
            "right": null,
            "justify_content": null,
            "_view_module": "@jupyter-widgets/base",
            "overflow": null,
            "_model_module_version": "1.2.0",
            "_view_count": null,
            "flex_flow": null,
            "width": null,
            "min_width": null,
            "border": null,
            "align_items": null,
            "bottom": null,
            "_model_module": "@jupyter-widgets/base",
            "top": null,
            "grid_column": null,
            "overflow_y": null,
            "overflow_x": null,
            "grid_auto_flow": null,
            "grid_area": null,
            "grid_template_columns": null,
            "flex": null,
            "_model_name": "LayoutModel",
            "justify_items": null,
            "grid_row": null,
            "max_height": null,
            "align_content": null,
            "visibility": null,
            "align_self": null,
            "height": null,
            "min_height": null,
            "padding": null,
            "grid_auto_rows": null,
            "grid_gap": null,
            "max_width": null,
            "order": null,
            "_view_module_version": "1.2.0",
            "grid_template_areas": null,
            "object_position": null,
            "object_fit": null,
            "grid_auto_columns": null,
            "margin": null,
            "display": null,
            "left": null
          }
        },
        "941e695df3d54295a2dbb48e07750cb1": {
          "model_module": "@jupyter-widgets/controls",
          "model_name": "DescriptionStyleModel",
          "state": {
            "_view_name": "StyleView",
            "_model_name": "DescriptionStyleModel",
            "description_width": "",
            "_view_module": "@jupyter-widgets/base",
            "_model_module_version": "1.5.0",
            "_view_count": null,
            "_view_module_version": "1.2.0",
            "_model_module": "@jupyter-widgets/controls"
          }
        },
        "1fa02e6c1d604b78bc6deaa81258e263": {
          "model_module": "@jupyter-widgets/base",
          "model_name": "LayoutModel",
          "state": {
            "_view_name": "LayoutView",
            "grid_template_rows": null,
            "right": null,
            "justify_content": null,
            "_view_module": "@jupyter-widgets/base",
            "overflow": null,
            "_model_module_version": "1.2.0",
            "_view_count": null,
            "flex_flow": null,
            "width": null,
            "min_width": null,
            "border": null,
            "align_items": null,
            "bottom": null,
            "_model_module": "@jupyter-widgets/base",
            "top": null,
            "grid_column": null,
            "overflow_y": null,
            "overflow_x": null,
            "grid_auto_flow": null,
            "grid_area": null,
            "grid_template_columns": null,
            "flex": null,
            "_model_name": "LayoutModel",
            "justify_items": null,
            "grid_row": null,
            "max_height": null,
            "align_content": null,
            "visibility": null,
            "align_self": null,
            "height": null,
            "min_height": null,
            "padding": null,
            "grid_auto_rows": null,
            "grid_gap": null,
            "max_width": null,
            "order": null,
            "_view_module_version": "1.2.0",
            "grid_template_areas": null,
            "object_position": null,
            "object_fit": null,
            "grid_auto_columns": null,
            "margin": null,
            "display": null,
            "left": null
          }
        },
        "1d6ad17ccd2e40618b35a1dfe3b6249c": {
          "model_module": "@jupyter-widgets/controls",
          "model_name": "HBoxModel",
          "state": {
            "_view_name": "HBoxView",
            "_dom_classes": [],
            "_model_name": "HBoxModel",
            "_view_module": "@jupyter-widgets/controls",
            "_model_module_version": "1.5.0",
            "_view_count": null,
            "_view_module_version": "1.5.0",
            "box_style": "",
            "layout": "IPY_MODEL_d0a17cab1dcb4ea19c5dd75382429b63",
            "_model_module": "@jupyter-widgets/controls",
            "children": [
              "IPY_MODEL_812d2840d31c4779aa368f8c1d0735e9",
              "IPY_MODEL_50877076cf6745b2b0034d77aa00e221"
            ]
          }
        },
        "d0a17cab1dcb4ea19c5dd75382429b63": {
          "model_module": "@jupyter-widgets/base",
          "model_name": "LayoutModel",
          "state": {
            "_view_name": "LayoutView",
            "grid_template_rows": null,
            "right": null,
            "justify_content": null,
            "_view_module": "@jupyter-widgets/base",
            "overflow": null,
            "_model_module_version": "1.2.0",
            "_view_count": null,
            "flex_flow": null,
            "width": null,
            "min_width": null,
            "border": null,
            "align_items": null,
            "bottom": null,
            "_model_module": "@jupyter-widgets/base",
            "top": null,
            "grid_column": null,
            "overflow_y": null,
            "overflow_x": null,
            "grid_auto_flow": null,
            "grid_area": null,
            "grid_template_columns": null,
            "flex": null,
            "_model_name": "LayoutModel",
            "justify_items": null,
            "grid_row": null,
            "max_height": null,
            "align_content": null,
            "visibility": null,
            "align_self": null,
            "height": null,
            "min_height": null,
            "padding": null,
            "grid_auto_rows": null,
            "grid_gap": null,
            "max_width": null,
            "order": null,
            "_view_module_version": "1.2.0",
            "grid_template_areas": null,
            "object_position": null,
            "object_fit": null,
            "grid_auto_columns": null,
            "margin": null,
            "display": null,
            "left": null
          }
        },
        "812d2840d31c4779aa368f8c1d0735e9": {
          "model_module": "@jupyter-widgets/controls",
          "model_name": "FloatProgressModel",
          "state": {
            "_view_name": "ProgressView",
            "style": "IPY_MODEL_5cc91e792e9f4791b6aaf8873e89ba7a",
            "_dom_classes": [],
            "description": "Downloading: 100%",
            "_model_name": "FloatProgressModel",
            "bar_style": "success",
            "max": 891691430,
            "_view_module": "@jupyter-widgets/controls",
            "_model_module_version": "1.5.0",
            "value": 891691430,
            "_view_count": null,
            "_view_module_version": "1.5.0",
            "orientation": "horizontal",
            "min": 0,
            "description_tooltip": null,
            "_model_module": "@jupyter-widgets/controls",
            "layout": "IPY_MODEL_f1b0f3d9ec2248dc863eb42c9ee29160"
          }
        },
        "50877076cf6745b2b0034d77aa00e221": {
          "model_module": "@jupyter-widgets/controls",
          "model_name": "HTMLModel",
          "state": {
            "_view_name": "HTMLView",
            "style": "IPY_MODEL_cc15b8e7ed94489c82f4b0b604ee0bb1",
            "_dom_classes": [],
            "description": "",
            "_model_name": "HTMLModel",
            "placeholder": "​",
            "_view_module": "@jupyter-widgets/controls",
            "_model_module_version": "1.5.0",
            "value": " 892M/892M [00:32&lt;00:00, 27.3MB/s]",
            "_view_count": null,
            "_view_module_version": "1.5.0",
            "description_tooltip": null,
            "_model_module": "@jupyter-widgets/controls",
            "layout": "IPY_MODEL_2d69cb5ab8fa425dad5934821cf1e31d"
          }
        },
        "5cc91e792e9f4791b6aaf8873e89ba7a": {
          "model_module": "@jupyter-widgets/controls",
          "model_name": "ProgressStyleModel",
          "state": {
            "_view_name": "StyleView",
            "_model_name": "ProgressStyleModel",
            "description_width": "initial",
            "_view_module": "@jupyter-widgets/base",
            "_model_module_version": "1.5.0",
            "_view_count": null,
            "_view_module_version": "1.2.0",
            "bar_color": null,
            "_model_module": "@jupyter-widgets/controls"
          }
        },
        "f1b0f3d9ec2248dc863eb42c9ee29160": {
          "model_module": "@jupyter-widgets/base",
          "model_name": "LayoutModel",
          "state": {
            "_view_name": "LayoutView",
            "grid_template_rows": null,
            "right": null,
            "justify_content": null,
            "_view_module": "@jupyter-widgets/base",
            "overflow": null,
            "_model_module_version": "1.2.0",
            "_view_count": null,
            "flex_flow": null,
            "width": null,
            "min_width": null,
            "border": null,
            "align_items": null,
            "bottom": null,
            "_model_module": "@jupyter-widgets/base",
            "top": null,
            "grid_column": null,
            "overflow_y": null,
            "overflow_x": null,
            "grid_auto_flow": null,
            "grid_area": null,
            "grid_template_columns": null,
            "flex": null,
            "_model_name": "LayoutModel",
            "justify_items": null,
            "grid_row": null,
            "max_height": null,
            "align_content": null,
            "visibility": null,
            "align_self": null,
            "height": null,
            "min_height": null,
            "padding": null,
            "grid_auto_rows": null,
            "grid_gap": null,
            "max_width": null,
            "order": null,
            "_view_module_version": "1.2.0",
            "grid_template_areas": null,
            "object_position": null,
            "object_fit": null,
            "grid_auto_columns": null,
            "margin": null,
            "display": null,
            "left": null
          }
        },
        "cc15b8e7ed94489c82f4b0b604ee0bb1": {
          "model_module": "@jupyter-widgets/controls",
          "model_name": "DescriptionStyleModel",
          "state": {
            "_view_name": "StyleView",
            "_model_name": "DescriptionStyleModel",
            "description_width": "",
            "_view_module": "@jupyter-widgets/base",
            "_model_module_version": "1.5.0",
            "_view_count": null,
            "_view_module_version": "1.2.0",
            "_model_module": "@jupyter-widgets/controls"
          }
        },
        "2d69cb5ab8fa425dad5934821cf1e31d": {
          "model_module": "@jupyter-widgets/base",
          "model_name": "LayoutModel",
          "state": {
            "_view_name": "LayoutView",
            "grid_template_rows": null,
            "right": null,
            "justify_content": null,
            "_view_module": "@jupyter-widgets/base",
            "overflow": null,
            "_model_module_version": "1.2.0",
            "_view_count": null,
            "flex_flow": null,
            "width": null,
            "min_width": null,
            "border": null,
            "align_items": null,
            "bottom": null,
            "_model_module": "@jupyter-widgets/base",
            "top": null,
            "grid_column": null,
            "overflow_y": null,
            "overflow_x": null,
            "grid_auto_flow": null,
            "grid_area": null,
            "grid_template_columns": null,
            "flex": null,
            "_model_name": "LayoutModel",
            "justify_items": null,
            "grid_row": null,
            "max_height": null,
            "align_content": null,
            "visibility": null,
            "align_self": null,
            "height": null,
            "min_height": null,
            "padding": null,
            "grid_auto_rows": null,
            "grid_gap": null,
            "max_width": null,
            "order": null,
            "_view_module_version": "1.2.0",
            "grid_template_areas": null,
            "object_position": null,
            "object_fit": null,
            "grid_auto_columns": null,
            "margin": null,
            "display": null,
            "left": null
          }
        },
        "34bea88d46c84978a58547e4c2b6c146": {
          "model_module": "@jupyter-widgets/controls",
          "model_name": "HBoxModel",
          "state": {
            "_view_name": "HBoxView",
            "_dom_classes": [],
            "_model_name": "HBoxModel",
            "_view_module": "@jupyter-widgets/controls",
            "_model_module_version": "1.5.0",
            "_view_count": null,
            "_view_module_version": "1.5.0",
            "box_style": "",
            "layout": "IPY_MODEL_ab7c26956de84148b0b4ba9c3f637c9f",
            "_model_module": "@jupyter-widgets/controls",
            "children": [
              "IPY_MODEL_0a1b5a08044b493fa89bc1045a23dc4a",
              "IPY_MODEL_7ac76ed6fd914eb6b8c91496d5dd7ebe"
            ]
          }
        },
        "ab7c26956de84148b0b4ba9c3f637c9f": {
          "model_module": "@jupyter-widgets/base",
          "model_name": "LayoutModel",
          "state": {
            "_view_name": "LayoutView",
            "grid_template_rows": null,
            "right": null,
            "justify_content": null,
            "_view_module": "@jupyter-widgets/base",
            "overflow": null,
            "_model_module_version": "1.2.0",
            "_view_count": null,
            "flex_flow": null,
            "width": null,
            "min_width": null,
            "border": null,
            "align_items": null,
            "bottom": null,
            "_model_module": "@jupyter-widgets/base",
            "top": null,
            "grid_column": null,
            "overflow_y": null,
            "overflow_x": null,
            "grid_auto_flow": null,
            "grid_area": null,
            "grid_template_columns": null,
            "flex": null,
            "_model_name": "LayoutModel",
            "justify_items": null,
            "grid_row": null,
            "max_height": null,
            "align_content": null,
            "visibility": null,
            "align_self": null,
            "height": null,
            "min_height": null,
            "padding": null,
            "grid_auto_rows": null,
            "grid_gap": null,
            "max_width": null,
            "order": null,
            "_view_module_version": "1.2.0",
            "grid_template_areas": null,
            "object_position": null,
            "object_fit": null,
            "grid_auto_columns": null,
            "margin": null,
            "display": null,
            "left": null
          }
        },
        "0a1b5a08044b493fa89bc1045a23dc4a": {
          "model_module": "@jupyter-widgets/controls",
          "model_name": "FloatProgressModel",
          "state": {
            "_view_name": "ProgressView",
            "style": "IPY_MODEL_1e59efa4f1894fe99d5fa64b43616c17",
            "_dom_classes": [],
            "description": "Downloading: 100%",
            "_model_name": "FloatProgressModel",
            "bar_style": "success",
            "max": 791656,
            "_view_module": "@jupyter-widgets/controls",
            "_model_module_version": "1.5.0",
            "value": 791656,
            "_view_count": null,
            "_view_module_version": "1.5.0",
            "orientation": "horizontal",
            "min": 0,
            "description_tooltip": null,
            "_model_module": "@jupyter-widgets/controls",
            "layout": "IPY_MODEL_68aa471a145f400aa47eee7d72724b68"
          }
        },
        "7ac76ed6fd914eb6b8c91496d5dd7ebe": {
          "model_module": "@jupyter-widgets/controls",
          "model_name": "HTMLModel",
          "state": {
            "_view_name": "HTMLView",
            "style": "IPY_MODEL_d7d1f962c2ca4309bcda3cbbe373e33a",
            "_dom_classes": [],
            "description": "",
            "_model_name": "HTMLModel",
            "placeholder": "​",
            "_view_module": "@jupyter-widgets/controls",
            "_model_module_version": "1.5.0",
            "value": " 792k/792k [00:02&lt;00:00, 382kB/s]",
            "_view_count": null,
            "_view_module_version": "1.5.0",
            "description_tooltip": null,
            "_model_module": "@jupyter-widgets/controls",
            "layout": "IPY_MODEL_4420b7070b2d4f0f84cccd589a2a8f28"
          }
        },
        "1e59efa4f1894fe99d5fa64b43616c17": {
          "model_module": "@jupyter-widgets/controls",
          "model_name": "ProgressStyleModel",
          "state": {
            "_view_name": "StyleView",
            "_model_name": "ProgressStyleModel",
            "description_width": "initial",
            "_view_module": "@jupyter-widgets/base",
            "_model_module_version": "1.5.0",
            "_view_count": null,
            "_view_module_version": "1.2.0",
            "bar_color": null,
            "_model_module": "@jupyter-widgets/controls"
          }
        },
        "68aa471a145f400aa47eee7d72724b68": {
          "model_module": "@jupyter-widgets/base",
          "model_name": "LayoutModel",
          "state": {
            "_view_name": "LayoutView",
            "grid_template_rows": null,
            "right": null,
            "justify_content": null,
            "_view_module": "@jupyter-widgets/base",
            "overflow": null,
            "_model_module_version": "1.2.0",
            "_view_count": null,
            "flex_flow": null,
            "width": null,
            "min_width": null,
            "border": null,
            "align_items": null,
            "bottom": null,
            "_model_module": "@jupyter-widgets/base",
            "top": null,
            "grid_column": null,
            "overflow_y": null,
            "overflow_x": null,
            "grid_auto_flow": null,
            "grid_area": null,
            "grid_template_columns": null,
            "flex": null,
            "_model_name": "LayoutModel",
            "justify_items": null,
            "grid_row": null,
            "max_height": null,
            "align_content": null,
            "visibility": null,
            "align_self": null,
            "height": null,
            "min_height": null,
            "padding": null,
            "grid_auto_rows": null,
            "grid_gap": null,
            "max_width": null,
            "order": null,
            "_view_module_version": "1.2.0",
            "grid_template_areas": null,
            "object_position": null,
            "object_fit": null,
            "grid_auto_columns": null,
            "margin": null,
            "display": null,
            "left": null
          }
        },
        "d7d1f962c2ca4309bcda3cbbe373e33a": {
          "model_module": "@jupyter-widgets/controls",
          "model_name": "DescriptionStyleModel",
          "state": {
            "_view_name": "StyleView",
            "_model_name": "DescriptionStyleModel",
            "description_width": "",
            "_view_module": "@jupyter-widgets/base",
            "_model_module_version": "1.5.0",
            "_view_count": null,
            "_view_module_version": "1.2.0",
            "_model_module": "@jupyter-widgets/controls"
          }
        },
        "4420b7070b2d4f0f84cccd589a2a8f28": {
          "model_module": "@jupyter-widgets/base",
          "model_name": "LayoutModel",
          "state": {
            "_view_name": "LayoutView",
            "grid_template_rows": null,
            "right": null,
            "justify_content": null,
            "_view_module": "@jupyter-widgets/base",
            "overflow": null,
            "_model_module_version": "1.2.0",
            "_view_count": null,
            "flex_flow": null,
            "width": null,
            "min_width": null,
            "border": null,
            "align_items": null,
            "bottom": null,
            "_model_module": "@jupyter-widgets/base",
            "top": null,
            "grid_column": null,
            "overflow_y": null,
            "overflow_x": null,
            "grid_auto_flow": null,
            "grid_area": null,
            "grid_template_columns": null,
            "flex": null,
            "_model_name": "LayoutModel",
            "justify_items": null,
            "grid_row": null,
            "max_height": null,
            "align_content": null,
            "visibility": null,
            "align_self": null,
            "height": null,
            "min_height": null,
            "padding": null,
            "grid_auto_rows": null,
            "grid_gap": null,
            "max_width": null,
            "order": null,
            "_view_module_version": "1.2.0",
            "grid_template_areas": null,
            "object_position": null,
            "object_fit": null,
            "grid_auto_columns": null,
            "margin": null,
            "display": null,
            "left": null
          }
        },
        "8639f04897434b5d9887c83306047d3a": {
          "model_module": "@jupyter-widgets/controls",
          "model_name": "HBoxModel",
          "state": {
            "_view_name": "HBoxView",
            "_dom_classes": [],
            "_model_name": "HBoxModel",
            "_view_module": "@jupyter-widgets/controls",
            "_model_module_version": "1.5.0",
            "_view_count": null,
            "_view_module_version": "1.5.0",
            "box_style": "",
            "layout": "IPY_MODEL_c86ec74753df4bccabf242b5dd7a9bf1",
            "_model_module": "@jupyter-widgets/controls",
            "children": [
              "IPY_MODEL_6124b4dac32b4e828ab09a2ec92f12d5",
              "IPY_MODEL_e56cc28464a046249cef282dd84e2fd4"
            ]
          }
        },
        "c86ec74753df4bccabf242b5dd7a9bf1": {
          "model_module": "@jupyter-widgets/base",
          "model_name": "LayoutModel",
          "state": {
            "_view_name": "LayoutView",
            "grid_template_rows": null,
            "right": null,
            "justify_content": null,
            "_view_module": "@jupyter-widgets/base",
            "overflow": null,
            "_model_module_version": "1.2.0",
            "_view_count": null,
            "flex_flow": null,
            "width": null,
            "min_width": null,
            "border": null,
            "align_items": null,
            "bottom": null,
            "_model_module": "@jupyter-widgets/base",
            "top": null,
            "grid_column": null,
            "overflow_y": null,
            "overflow_x": null,
            "grid_auto_flow": null,
            "grid_area": null,
            "grid_template_columns": null,
            "flex": null,
            "_model_name": "LayoutModel",
            "justify_items": null,
            "grid_row": null,
            "max_height": null,
            "align_content": null,
            "visibility": null,
            "align_self": null,
            "height": null,
            "min_height": null,
            "padding": null,
            "grid_auto_rows": null,
            "grid_gap": null,
            "max_width": null,
            "order": null,
            "_view_module_version": "1.2.0",
            "grid_template_areas": null,
            "object_position": null,
            "object_fit": null,
            "grid_auto_columns": null,
            "margin": null,
            "display": null,
            "left": null
          }
        },
        "6124b4dac32b4e828ab09a2ec92f12d5": {
          "model_module": "@jupyter-widgets/controls",
          "model_name": "FloatProgressModel",
          "state": {
            "_view_name": "ProgressView",
            "style": "IPY_MODEL_9946d3d6823244fb8e63600505e59c36",
            "_dom_classes": [],
            "description": "Downloading: 100%",
            "_model_name": "FloatProgressModel",
            "bar_style": "success",
            "max": 1389353,
            "_view_module": "@jupyter-widgets/controls",
            "_model_module_version": "1.5.0",
            "value": 1389353,
            "_view_count": null,
            "_view_module_version": "1.5.0",
            "orientation": "horizontal",
            "min": 0,
            "description_tooltip": null,
            "_model_module": "@jupyter-widgets/controls",
            "layout": "IPY_MODEL_0bdd36854080407f8878ace75e6c46a2"
          }
        },
        "e56cc28464a046249cef282dd84e2fd4": {
          "model_module": "@jupyter-widgets/controls",
          "model_name": "HTMLModel",
          "state": {
            "_view_name": "HTMLView",
            "style": "IPY_MODEL_8846ead80c6640aa9dcd4bec080a1f1f",
            "_dom_classes": [],
            "description": "",
            "_model_name": "HTMLModel",
            "placeholder": "​",
            "_view_module": "@jupyter-widgets/controls",
            "_model_module_version": "1.5.0",
            "value": " 1.39M/1.39M [00:03&lt;00:00, 400kB/s]",
            "_view_count": null,
            "_view_module_version": "1.5.0",
            "description_tooltip": null,
            "_model_module": "@jupyter-widgets/controls",
            "layout": "IPY_MODEL_033d9cf23484466cae942b33424f57e7"
          }
        },
        "9946d3d6823244fb8e63600505e59c36": {
          "model_module": "@jupyter-widgets/controls",
          "model_name": "ProgressStyleModel",
          "state": {
            "_view_name": "StyleView",
            "_model_name": "ProgressStyleModel",
            "description_width": "initial",
            "_view_module": "@jupyter-widgets/base",
            "_model_module_version": "1.5.0",
            "_view_count": null,
            "_view_module_version": "1.2.0",
            "bar_color": null,
            "_model_module": "@jupyter-widgets/controls"
          }
        },
        "0bdd36854080407f8878ace75e6c46a2": {
          "model_module": "@jupyter-widgets/base",
          "model_name": "LayoutModel",
          "state": {
            "_view_name": "LayoutView",
            "grid_template_rows": null,
            "right": null,
            "justify_content": null,
            "_view_module": "@jupyter-widgets/base",
            "overflow": null,
            "_model_module_version": "1.2.0",
            "_view_count": null,
            "flex_flow": null,
            "width": null,
            "min_width": null,
            "border": null,
            "align_items": null,
            "bottom": null,
            "_model_module": "@jupyter-widgets/base",
            "top": null,
            "grid_column": null,
            "overflow_y": null,
            "overflow_x": null,
            "grid_auto_flow": null,
            "grid_area": null,
            "grid_template_columns": null,
            "flex": null,
            "_model_name": "LayoutModel",
            "justify_items": null,
            "grid_row": null,
            "max_height": null,
            "align_content": null,
            "visibility": null,
            "align_self": null,
            "height": null,
            "min_height": null,
            "padding": null,
            "grid_auto_rows": null,
            "grid_gap": null,
            "max_width": null,
            "order": null,
            "_view_module_version": "1.2.0",
            "grid_template_areas": null,
            "object_position": null,
            "object_fit": null,
            "grid_auto_columns": null,
            "margin": null,
            "display": null,
            "left": null
          }
        },
        "8846ead80c6640aa9dcd4bec080a1f1f": {
          "model_module": "@jupyter-widgets/controls",
          "model_name": "DescriptionStyleModel",
          "state": {
            "_view_name": "StyleView",
            "_model_name": "DescriptionStyleModel",
            "description_width": "",
            "_view_module": "@jupyter-widgets/base",
            "_model_module_version": "1.5.0",
            "_view_count": null,
            "_view_module_version": "1.2.0",
            "_model_module": "@jupyter-widgets/controls"
          }
        },
        "033d9cf23484466cae942b33424f57e7": {
          "model_module": "@jupyter-widgets/base",
          "model_name": "LayoutModel",
          "state": {
            "_view_name": "LayoutView",
            "grid_template_rows": null,
            "right": null,
            "justify_content": null,
            "_view_module": "@jupyter-widgets/base",
            "overflow": null,
            "_model_module_version": "1.2.0",
            "_view_count": null,
            "flex_flow": null,
            "width": null,
            "min_width": null,
            "border": null,
            "align_items": null,
            "bottom": null,
            "_model_module": "@jupyter-widgets/base",
            "top": null,
            "grid_column": null,
            "overflow_y": null,
            "overflow_x": null,
            "grid_auto_flow": null,
            "grid_area": null,
            "grid_template_columns": null,
            "flex": null,
            "_model_name": "LayoutModel",
            "justify_items": null,
            "grid_row": null,
            "max_height": null,
            "align_content": null,
            "visibility": null,
            "align_self": null,
            "height": null,
            "min_height": null,
            "padding": null,
            "grid_auto_rows": null,
            "grid_gap": null,
            "max_width": null,
            "order": null,
            "_view_module_version": "1.2.0",
            "grid_template_areas": null,
            "object_position": null,
            "object_fit": null,
            "grid_auto_columns": null,
            "margin": null,
            "display": null,
            "left": null
          }
        }
      }
    }
  },
  "cells": [
    {
      "cell_type": "markdown",
      "metadata": {
        "id": "view-in-github",
        "colab_type": "text"
      },
      "source": [
        "<a href=\"https://colab.research.google.com/github/spencervagg99/ArticleSummarizer/blob/master/t5_medical_search.ipynb\" target=\"_parent\"><img src=\"https://colab.research.google.com/assets/colab-badge.svg\" alt=\"Open In Colab\"/></a>"
      ]
    },
    {
      "cell_type": "markdown",
      "metadata": {
        "id": "moA_V7Npe6kh"
      },
      "source": [
        "# T5 Medical Search"
      ]
    },
    {
      "cell_type": "markdown",
      "metadata": {
        "id": "XOIIUDL9fA3i"
      },
      "source": [
        "This notebook will run through the setup and training of a T5 model that will be used to identify the labels for medical gloves and hopefully the labels for future categories we map. It will start out with the data preprocessing and setup then move into the model creation, fine tuning and evaluation."
      ]
    },
    {
      "cell_type": "markdown",
      "metadata": {
        "id": "TzuLKROrf6iK"
      },
      "source": [
        "## Setup\n",
        "This section aims to connect this notebook to a GPU and to our Google Storage Bucket"
      ]
    },
    {
      "cell_type": "markdown",
      "metadata": {
        "id": "agKI-dhuRqtG"
      },
      "source": [
        "### Checking the location of the Colab notebook\n",
        "We can guess the Google Cloud region on which the Colab notebook is running using gcping.\n",
        "\n",
        "In order to get around GCS network egress charges, it may be a good idea to “Factory reset” the Colab runtime until we land in a zone that is on the same continent as our GCS bucket.\n",
        "\n",
        "NOTE: Bucket crisis-nlp-needs is in us-central1 (i.e. the region should be Iowa)"
      ]
    },
    {
      "cell_type": "code",
      "metadata": {
        "colab": {
          "base_uri": "https://localhost:8080/"
        },
        "id": "O0N5dKYVDIx1",
        "outputId": "3025167e-08ed-40a6-95bf-4dffbb886423"
      },
      "source": [
        "# Check to make sure that th\n",
        "!curl ipinfo.io"
      ],
      "execution_count": 1,
      "outputs": [
        {
          "output_type": "stream",
          "text": [
            "{\n",
            "  \"ip\": \"35.227.174.152\",\n",
            "  \"hostname\": \"152.174.227.35.bc.googleusercontent.com\",\n",
            "  \"city\": \"The Dalles\",\n",
            "  \"region\": \"Oregon\",\n",
            "  \"country\": \"US\",\n",
            "  \"loc\": \"45.5946,-121.1787\",\n",
            "  \"org\": \"AS15169 Google LLC\",\n",
            "  \"postal\": \"97058\",\n",
            "  \"timezone\": \"America/Los_Angeles\",\n",
            "  \"readme\": \"https://ipinfo.io/missingauth\"\n",
            "}"
          ],
          "name": "stdout"
        }
      ]
    },
    {
      "cell_type": "markdown",
      "metadata": {
        "id": "Ikih5aQJtVnr"
      },
      "source": [
        "### Mounting To Drive\n",
        "This section can be used to connect to your Google Drive if you need to access files there later on"
      ]
    },
    {
      "cell_type": "code",
      "metadata": {
        "id": "VkqgMc8juknY"
      },
      "source": [
        "from google.colab import drive\n",
        "drive.mount('/content/drive')"
      ],
      "execution_count": null,
      "outputs": []
    },
    {
      "cell_type": "code",
      "metadata": {
        "id": "tdcMJZS6tvok"
      },
      "source": [
        "import os\n",
        "import sys\n",
        "\n",
        "# Fill in the Google Drive path where you uploaded the assignment\n",
        "FOLDER_PATH = 'Colab Notebooks/Initium/T5 Medical Search/' #@param { type: \"string\"}\n",
        "GOOGLE_DRIVE_PATH = os.path.join('drive', 'My Drive', FOLDER_PATH)\n",
        "sys.path.append(GOOGLE_DRIVE_PATH)\n",
        "print(os.listdir(GOOGLE_DRIVE_PATH))"
      ],
      "execution_count": null,
      "outputs": []
    },
    {
      "cell_type": "markdown",
      "metadata": {
        "id": "Zm-dPMN5R8uh"
      },
      "source": [
        "### Connecting To Storage Bucket\n",
        "We are going to connect to the google cloud storage bucket we have created by using Google Fuse"
      ]
    },
    {
      "cell_type": "code",
      "metadata": {
        "id": "Bb5wWyudSCRH",
        "colab": {
          "base_uri": "https://localhost:8080/"
        },
        "outputId": "5129fa04-a91e-4043-ffbd-a9c51b99f0d9"
      },
      "source": [
        "# Connecting to Google Cloud\n",
        "import os\n",
        "\n",
        "BASE_DIR = \"medical-search\" #@param { type: \"string\" }\n",
        "if not BASE_DIR or BASE_DIR == \"gs://\":\n",
        "  raise ValueError(\"You must enter a BASE_DIR.\")\n",
        "DATA_DIR = os.path.join(BASE_DIR, \"data\")\n",
        "MODELS_DIR = os.path.join(BASE_DIR, \"models\")\n",
        "ON_CLOUD = True\n",
        "\n",
        "if ON_CLOUD:\n",
        "  print(\"Setting up GCS access...\")\n",
        "  from google.colab import auth\n",
        "  auth.authenticate_user()\n",
        "  print('Connected!')"
      ],
      "execution_count": 1,
      "outputs": [
        {
          "output_type": "stream",
          "text": [
            "Setting up GCS access...\n",
            "Connected!\n"
          ],
          "name": "stdout"
        }
      ]
    },
    {
      "cell_type": "code",
      "metadata": {
        "id": "y3h8x-pvVo4m",
        "colab": {
          "base_uri": "https://localhost:8080/"
        },
        "outputId": "99e696f6-1acb-4a9b-df64-25d6bc494693"
      },
      "source": [
        "# Download Google Fuse\n",
        "!echo \"deb http://packages.cloud.google.com/apt gcsfuse-bionic main\" > /etc/apt/sources.list.d/gcsfuse.list\n",
        "!curl https://packages.cloud.google.com/apt/doc/apt-key.gpg | apt-key add -\n",
        "!apt -qq update\n",
        "!apt -qq install gcsfuse"
      ],
      "execution_count": 2,
      "outputs": [
        {
          "output_type": "stream",
          "text": [
            "  % Total    % Received % Xferd  Average Speed   Time    Time     Time  Current\n",
            "                                 Dload  Upload   Total   Spent    Left  Speed\n",
            "\r  0     0    0     0    0     0      0      0 --:--:-- --:--:-- --:--:--     0\r100  2537  100  2537    0     0  68567      0 --:--:-- --:--:-- --:--:-- 68567\n",
            "OK\n",
            "48 packages can be upgraded. Run 'apt list --upgradable' to see them.\n",
            "The following NEW packages will be installed:\n",
            "  gcsfuse\n",
            "0 upgraded, 1 newly installed, 0 to remove and 48 not upgraded.\n",
            "Need to get 10.8 MB of archives.\n",
            "After this operation, 23.1 MB of additional disk space will be used.\n",
            "Selecting previously unselected package gcsfuse.\n",
            "(Reading database ... 160772 files and directories currently installed.)\n",
            "Preparing to unpack .../gcsfuse_0.35.1_amd64.deb ...\n",
            "Unpacking gcsfuse (0.35.1) ...\n",
            "Setting up gcsfuse (0.35.1) ...\n"
          ],
          "name": "stdout"
        }
      ]
    },
    {
      "cell_type": "code",
      "metadata": {
        "id": "KELfeQhUVVaK",
        "colab": {
          "base_uri": "https://localhost:8080/"
        },
        "outputId": "73dbe6c7-c494-4477-c759-dfebc2c59e83"
      },
      "source": [
        "# Mount a local drive that is connected to our storage bucket\n",
        "# storage folder will be /folderOnColab/...\n",
        "!mkdir folderOnColab\n",
        "!gcsfuse --implicit-dirs --limit-bytes-per-sec -1 --limit-ops-per-sec -1 $BASE_DIR folderOnColab"
      ],
      "execution_count": 3,
      "outputs": [
        {
          "output_type": "stream",
          "text": [
            "2021/06/09 19:46:08.201884 Using mount point: /content/folderOnColab\n",
            "2021/06/09 19:46:08.208978 Opening GCS connection...\n",
            "2021/06/09 19:46:08.465566 Mounting file system \"medical-search\"...\n",
            "2021/06/09 19:46:08.502110 File system has been successfully mounted.\n"
          ],
          "name": "stdout"
        }
      ]
    },
    {
      "cell_type": "markdown",
      "metadata": {
        "id": "7vdSxc5kR42r"
      },
      "source": [
        "### Packages"
      ]
    },
    {
      "cell_type": "code",
      "metadata": {
        "id": "TOLXsaIwGJtl",
        "colab": {
          "base_uri": "https://localhost:8080/"
        },
        "outputId": "17805714-95ae-4034-8842-19c4a4d0da25"
      },
      "source": [
        "# Only if running on Colab or for the first time\n",
        "!pip install transformers\n",
        "!pip install sentencepiece\n",
        "!pip install wandb"
      ],
      "execution_count": 4,
      "outputs": [
        {
          "output_type": "stream",
          "text": [
            "Collecting transformers\n",
            "\u001b[?25l  Downloading https://files.pythonhosted.org/packages/d5/43/cfe4ee779bbd6a678ac6a97c5a5cdeb03c35f9eaebbb9720b036680f9a2d/transformers-4.6.1-py3-none-any.whl (2.2MB)\n",
            "\u001b[K     |████████████████████████████████| 2.3MB 2.9MB/s \n",
            "\u001b[?25hCollecting sacremoses\n",
            "\u001b[?25l  Downloading https://files.pythonhosted.org/packages/75/ee/67241dc87f266093c533a2d4d3d69438e57d7a90abb216fa076e7d475d4a/sacremoses-0.0.45-py3-none-any.whl (895kB)\n",
            "\u001b[K     |████████████████████████████████| 901kB 34.1MB/s \n",
            "\u001b[?25hCollecting tokenizers<0.11,>=0.10.1\n",
            "\u001b[?25l  Downloading https://files.pythonhosted.org/packages/d4/e2/df3543e8ffdab68f5acc73f613de9c2b155ac47f162e725dcac87c521c11/tokenizers-0.10.3-cp37-cp37m-manylinux_2_5_x86_64.manylinux1_x86_64.manylinux_2_12_x86_64.manylinux2010_x86_64.whl (3.3MB)\n",
            "\u001b[K     |████████████████████████████████| 3.3MB 36.2MB/s \n",
            "\u001b[?25hRequirement already satisfied: tqdm>=4.27 in /usr/local/lib/python3.7/dist-packages (from transformers) (4.41.1)\n",
            "Requirement already satisfied: importlib-metadata; python_version < \"3.8\" in /usr/local/lib/python3.7/dist-packages (from transformers) (4.0.1)\n",
            "Requirement already satisfied: regex!=2019.12.17 in /usr/local/lib/python3.7/dist-packages (from transformers) (2019.12.20)\n",
            "Collecting huggingface-hub==0.0.8\n",
            "  Downloading https://files.pythonhosted.org/packages/a1/88/7b1e45720ecf59c6c6737ff332f41c955963090a18e72acbcbeac6b25e86/huggingface_hub-0.0.8-py3-none-any.whl\n",
            "Requirement already satisfied: filelock in /usr/local/lib/python3.7/dist-packages (from transformers) (3.0.12)\n",
            "Requirement already satisfied: requests in /usr/local/lib/python3.7/dist-packages (from transformers) (2.23.0)\n",
            "Requirement already satisfied: packaging in /usr/local/lib/python3.7/dist-packages (from transformers) (20.9)\n",
            "Requirement already satisfied: numpy>=1.17 in /usr/local/lib/python3.7/dist-packages (from transformers) (1.19.5)\n",
            "Requirement already satisfied: click in /usr/local/lib/python3.7/dist-packages (from sacremoses->transformers) (7.1.2)\n",
            "Requirement already satisfied: joblib in /usr/local/lib/python3.7/dist-packages (from sacremoses->transformers) (1.0.1)\n",
            "Requirement already satisfied: six in /usr/local/lib/python3.7/dist-packages (from sacremoses->transformers) (1.15.0)\n",
            "Requirement already satisfied: typing-extensions>=3.6.4; python_version < \"3.8\" in /usr/local/lib/python3.7/dist-packages (from importlib-metadata; python_version < \"3.8\"->transformers) (3.7.4.3)\n",
            "Requirement already satisfied: zipp>=0.5 in /usr/local/lib/python3.7/dist-packages (from importlib-metadata; python_version < \"3.8\"->transformers) (3.4.1)\n",
            "Requirement already satisfied: urllib3!=1.25.0,!=1.25.1,<1.26,>=1.21.1 in /usr/local/lib/python3.7/dist-packages (from requests->transformers) (1.24.3)\n",
            "Requirement already satisfied: idna<3,>=2.5 in /usr/local/lib/python3.7/dist-packages (from requests->transformers) (2.10)\n",
            "Requirement already satisfied: certifi>=2017.4.17 in /usr/local/lib/python3.7/dist-packages (from requests->transformers) (2020.12.5)\n",
            "Requirement already satisfied: chardet<4,>=3.0.2 in /usr/local/lib/python3.7/dist-packages (from requests->transformers) (3.0.4)\n",
            "Requirement already satisfied: pyparsing>=2.0.2 in /usr/local/lib/python3.7/dist-packages (from packaging->transformers) (2.4.7)\n",
            "Installing collected packages: sacremoses, tokenizers, huggingface-hub, transformers\n",
            "Successfully installed huggingface-hub-0.0.8 sacremoses-0.0.45 tokenizers-0.10.3 transformers-4.6.1\n",
            "Collecting sentencepiece\n",
            "\u001b[?25l  Downloading https://files.pythonhosted.org/packages/f5/99/e0808cb947ba10f575839c43e8fafc9cc44e4a7a2c8f79c60db48220a577/sentencepiece-0.1.95-cp37-cp37m-manylinux2014_x86_64.whl (1.2MB)\n",
            "\u001b[K     |████████████████████████████████| 1.2MB 4.0MB/s \n",
            "\u001b[?25hInstalling collected packages: sentencepiece\n",
            "Successfully installed sentencepiece-0.1.95\n",
            "Collecting wandb\n",
            "\u001b[?25l  Downloading https://files.pythonhosted.org/packages/6c/48/b199e2b3b341ac842108c5db4956091dd75d961cfa77aceb033e99cac20f/wandb-0.10.31-py2.py3-none-any.whl (1.8MB)\n",
            "\u001b[K     |████████████████████████████████| 1.8MB 3.9MB/s \n",
            "\u001b[?25hRequirement already satisfied: PyYAML in /usr/local/lib/python3.7/dist-packages (from wandb) (3.13)\n",
            "Collecting pathtools\n",
            "  Downloading https://files.pythonhosted.org/packages/e7/7f/470d6fcdf23f9f3518f6b0b76be9df16dcc8630ad409947f8be2eb0ed13a/pathtools-0.1.2.tar.gz\n",
            "Collecting shortuuid>=0.5.0\n",
            "  Downloading https://files.pythonhosted.org/packages/25/a6/2ecc1daa6a304e7f1b216f0896b26156b78e7c38e1211e9b798b4716c53d/shortuuid-1.0.1-py3-none-any.whl\n",
            "Collecting subprocess32>=3.5.3\n",
            "\u001b[?25l  Downloading https://files.pythonhosted.org/packages/32/c8/564be4d12629b912ea431f1a50eb8b3b9d00f1a0b1ceff17f266be190007/subprocess32-3.5.4.tar.gz (97kB)\n",
            "\u001b[K     |████████████████████████████████| 102kB 10.7MB/s \n",
            "\u001b[?25hCollecting configparser>=3.8.1\n",
            "  Downloading https://files.pythonhosted.org/packages/fd/01/ff260a18caaf4457eb028c96eeb405c4a230ca06c8ec9c1379f813caa52e/configparser-5.0.2-py3-none-any.whl\n",
            "Requirement already satisfied: Click>=7.0 in /usr/local/lib/python3.7/dist-packages (from wandb) (7.1.2)\n",
            "Requirement already satisfied: python-dateutil>=2.6.1 in /usr/local/lib/python3.7/dist-packages (from wandb) (2.8.1)\n",
            "Requirement already satisfied: protobuf>=3.12.0 in /usr/local/lib/python3.7/dist-packages (from wandb) (3.12.4)\n",
            "Collecting docker-pycreds>=0.4.0\n",
            "  Downloading https://files.pythonhosted.org/packages/f5/e8/f6bd1eee09314e7e6dee49cbe2c5e22314ccdb38db16c9fc72d2fa80d054/docker_pycreds-0.4.0-py2.py3-none-any.whl\n",
            "Collecting GitPython>=1.0.0\n",
            "\u001b[?25l  Downloading https://files.pythonhosted.org/packages/27/da/6f6224fdfc47dab57881fe20c0d1bc3122be290198ba0bf26a953a045d92/GitPython-3.1.17-py3-none-any.whl (166kB)\n",
            "\u001b[K     |████████████████████████████████| 174kB 31.3MB/s \n",
            "\u001b[?25hCollecting sentry-sdk>=0.4.0\n",
            "\u001b[?25l  Downloading https://files.pythonhosted.org/packages/1c/4a/a54b254f67d8f4052338d54ebe90126f200693440a93ef76d254d581e3ec/sentry_sdk-1.1.0-py2.py3-none-any.whl (131kB)\n",
            "\u001b[K     |████████████████████████████████| 133kB 28.3MB/s \n",
            "\u001b[?25hRequirement already satisfied: six>=1.13.0 in /usr/local/lib/python3.7/dist-packages (from wandb) (1.15.0)\n",
            "Requirement already satisfied: promise<3,>=2.0 in /usr/local/lib/python3.7/dist-packages (from wandb) (2.3)\n",
            "Requirement already satisfied: psutil>=5.0.0 in /usr/local/lib/python3.7/dist-packages (from wandb) (5.4.8)\n",
            "Requirement already satisfied: requests<3,>=2.0.0 in /usr/local/lib/python3.7/dist-packages (from wandb) (2.23.0)\n",
            "Requirement already satisfied: setuptools in /usr/local/lib/python3.7/dist-packages (from protobuf>=3.12.0->wandb) (57.0.0)\n",
            "Requirement already satisfied: typing-extensions>=3.7.4.0; python_version < \"3.8\" in /usr/local/lib/python3.7/dist-packages (from GitPython>=1.0.0->wandb) (3.7.4.3)\n",
            "Collecting gitdb<5,>=4.0.1\n",
            "\u001b[?25l  Downloading https://files.pythonhosted.org/packages/ea/e8/f414d1a4f0bbc668ed441f74f44c116d9816833a48bf81d22b697090dba8/gitdb-4.0.7-py3-none-any.whl (63kB)\n",
            "\u001b[K     |████████████████████████████████| 71kB 8.3MB/s \n",
            "\u001b[?25hRequirement already satisfied: urllib3>=1.10.0 in /usr/local/lib/python3.7/dist-packages (from sentry-sdk>=0.4.0->wandb) (1.24.3)\n",
            "Requirement already satisfied: certifi in /usr/local/lib/python3.7/dist-packages (from sentry-sdk>=0.4.0->wandb) (2020.12.5)\n",
            "Requirement already satisfied: chardet<4,>=3.0.2 in /usr/local/lib/python3.7/dist-packages (from requests<3,>=2.0.0->wandb) (3.0.4)\n",
            "Requirement already satisfied: idna<3,>=2.5 in /usr/local/lib/python3.7/dist-packages (from requests<3,>=2.0.0->wandb) (2.10)\n",
            "Collecting smmap<5,>=3.0.1\n",
            "  Downloading https://files.pythonhosted.org/packages/68/ee/d540eb5e5996eb81c26ceffac6ee49041d473bc5125f2aa995cf51ec1cf1/smmap-4.0.0-py2.py3-none-any.whl\n",
            "Building wheels for collected packages: pathtools, subprocess32\n",
            "  Building wheel for pathtools (setup.py) ... \u001b[?25l\u001b[?25hdone\n",
            "  Created wheel for pathtools: filename=pathtools-0.1.2-cp37-none-any.whl size=8807 sha256=145d3836a2521f9f30c8449c9cde4ab25374cb223bdce26aea20d3222ddabfbd\n",
            "  Stored in directory: /root/.cache/pip/wheels/0b/04/79/c3b0c3a0266a3cb4376da31e5bfe8bba0c489246968a68e843\n",
            "  Building wheel for subprocess32 (setup.py) ... \u001b[?25l\u001b[?25hdone\n",
            "  Created wheel for subprocess32: filename=subprocess32-3.5.4-cp37-none-any.whl size=6502 sha256=b05099e71de5f78fef60e84fd3878247c7a5da7665dbe638fa21e56206f951a9\n",
            "  Stored in directory: /root/.cache/pip/wheels/68/39/1a/5e402bdfdf004af1786c8b853fd92f8c4a04f22aad179654d1\n",
            "Successfully built pathtools subprocess32\n",
            "Installing collected packages: pathtools, shortuuid, subprocess32, configparser, docker-pycreds, smmap, gitdb, GitPython, sentry-sdk, wandb\n",
            "Successfully installed GitPython-3.1.17 configparser-5.0.2 docker-pycreds-0.4.0 gitdb-4.0.7 pathtools-0.1.2 sentry-sdk-1.1.0 shortuuid-1.0.1 smmap-4.0.0 subprocess32-3.5.4 wandb-0.10.31\n"
          ],
          "name": "stdout"
        }
      ]
    },
    {
      "cell_type": "code",
      "metadata": {
        "id": "Q0c8-gXOevJM",
        "colab": {
          "base_uri": "https://localhost:8080/"
        },
        "outputId": "53d89544-d165-4e3b-b936-46c73fa3259e"
      },
      "source": [
        "# Initial packages/functions needed and set of stopwords\n",
        "import nltk\n",
        "import pickle\n",
        "import re\n",
        "import sentencepiece\n",
        "import string\n",
        "import sys\n",
        "import torch\n",
        "import wandb\n",
        "import pandas as pd\n",
        "import numpy as np\n",
        "from nltk.corpus import stopwords\n",
        "from sklearn.metrics import f1_score, precision_recall_fscore_support, jaccard_score\n",
        "from torch import nn, optim\n",
        "from torch.utils.data import Dataset\n",
        "from transformers import T5ForConditionalGeneration, T5Tokenizer\n",
        "from tqdm import tqdm\n",
        "nltk.download('stopwords')\n",
        "nltk.download('punkt')\n",
        "stop_words = set(stopwords.words('english'))"
      ],
      "execution_count": 5,
      "outputs": [
        {
          "output_type": "stream",
          "text": [
            "[nltk_data] Downloading package stopwords to /root/nltk_data...\n",
            "[nltk_data]   Unzipping corpora/stopwords.zip.\n",
            "[nltk_data] Downloading package punkt to /root/nltk_data...\n",
            "[nltk_data]   Unzipping tokenizers/punkt.zip.\n"
          ],
          "name": "stdout"
        }
      ]
    },
    {
      "cell_type": "code",
      "metadata": {
        "colab": {
          "base_uri": "https://localhost:8080/"
        },
        "id": "9WQRc2UoF_aG",
        "outputId": "824ccf73-f49e-4cdf-bcc8-624af4c5a505"
      },
      "source": [
        "# Make sure we have a GPU\n",
        "print('Checking running on correct device')\n",
        "if torch.cuda.is_available():\n",
        "  print('Good to go!')\n",
        "else:\n",
        "  print('Please set GPU via Edit -> Notebook Settings.')"
      ],
      "execution_count": 6,
      "outputs": [
        {
          "output_type": "stream",
          "text": [
            "Checking running on correct device\n",
            "Good to go!\n"
          ],
          "name": "stdout"
        }
      ]
    },
    {
      "cell_type": "markdown",
      "metadata": {
        "id": "HoAmc_TXEnaL"
      },
      "source": [
        "# Data Preparation\n",
        "\n",
        "In this section we want to format our data so that it can easily be used for our T5 setup. We also want to split the data into train/val/test."
      ]
    },
    {
      "cell_type": "markdown",
      "metadata": {
        "id": "TP6p9lrAlWKe"
      },
      "source": [
        "## Creating Input/Output"
      ]
    },
    {
      "cell_type": "code",
      "metadata": {
        "id": "1MBJblZL0KED"
      },
      "source": [
        "# LOCAL HOST\n",
        "# Read in dataframes for clean brand, labels and priamry/secondary brand\n",
        "df = pd.read_csv('/home/Resources/datasets/medical-search/Gloves/full_gloves_gudid_with_brand_corrected.tsv', sep='\\t')\n",
        "brand_df = pd.read_pickle('/home/Resources/datasets/medical-search/Gloves/clean_brand_diff_gloves_gudid_V3.pkl').drop_duplicates(subset='_brand_name_diff')\n",
        "label_df = pd.read_pickle('/home/Resources/datasets/medical-search/Gloves/gudid_gloves_labelled_V4.pkl').reset_index()"
      ],
      "execution_count": null,
      "outputs": []
    },
    {
      "cell_type": "code",
      "metadata": {
        "id": "rHdMVtLv0J0t"
      },
      "source": [
        "# HOSTED RUNTIME USING GOOGLE FUSE\n",
        "# Read in dataframes for clean brand, labels and priamry/secondary brand\n",
        "df = pd.read_csv('folderOnColab/Data/full_gloves_gudid_with_brand_corrected.tsv', sep='\\t')\n",
        "brand_df = pd.read_pickle('folderOnColab/Data/clean_brand_diff_gloves_gudid_V3.pkl').drop_duplicates(subset='_brand_name_diff')\n",
        "label_df = pd.read_pickle('folderOnColab/Data/gudid_gloves_labelled_V4.pkl').reset_index()"
      ],
      "execution_count": 10,
      "outputs": []
    },
    {
      "cell_type": "code",
      "metadata": {
        "colab": {
          "base_uri": "https://localhost:8080/",
          "height": 564
        },
        "id": "F3LI_sYpeAIR",
        "outputId": "eba3e4c7-3fde-46df-a851-25433c8e2858"
      },
      "source": [
        "# Fix dfs so they are joinable and contain only relevant info\n",
        "label_df = label_df[['primary_di', 'labels', 'brand_labels', 'ProductID']]\n",
        "df.primary_di = df.primary_di.apply(lambda x: x.zfill(14) if x[0].isdigit() else x)\n",
        "\n",
        "# Join dataframes\n",
        "df = df.merge(label_df, on='primary_di', how='left')\n",
        "df.head()"
      ],
      "execution_count": 11,
      "outputs": [
        {
          "output_type": "execute_result",
          "data": {
            "text/html": [
              "<div>\n",
              "<style scoped>\n",
              "    .dataframe tbody tr th:only-of-type {\n",
              "        vertical-align: middle;\n",
              "    }\n",
              "\n",
              "    .dataframe tbody tr th {\n",
              "        vertical-align: top;\n",
              "    }\n",
              "\n",
              "    .dataframe thead th {\n",
              "        text-align: right;\n",
              "    }\n",
              "</style>\n",
              "<table border=\"1\" class=\"dataframe\">\n",
              "  <thead>\n",
              "    <tr style=\"text-align: right;\">\n",
              "      <th></th>\n",
              "      <th>primary_di</th>\n",
              "      <th>product_code</th>\n",
              "      <th>product_code_name</th>\n",
              "      <th>brand_name</th>\n",
              "      <th>version_model_number</th>\n",
              "      <th>catalog_number</th>\n",
              "      <th>duns_number</th>\n",
              "      <th>company_name</th>\n",
              "      <th>device_count</th>\n",
              "      <th>device_description</th>\n",
              "      <th>device_sterile</th>\n",
              "      <th>device_description_color_raw</th>\n",
              "      <th>_company_name</th>\n",
              "      <th>_brand_name</th>\n",
              "      <th>_brand_name_diff</th>\n",
              "      <th>primary_brand</th>\n",
              "      <th>secondary_brand</th>\n",
              "      <th>primary_di_str</th>\n",
              "      <th>duns_number_str</th>\n",
              "      <th>labels</th>\n",
              "      <th>brand_labels</th>\n",
              "      <th>ProductID</th>\n",
              "    </tr>\n",
              "  </thead>\n",
              "  <tbody>\n",
              "    <tr>\n",
              "      <th>0</th>\n",
              "      <td>00787081126866</td>\n",
              "      <td>['LZA']</td>\n",
              "      <td>['Polymer Patient Examination Glove']</td>\n",
              "      <td>Hand Armor</td>\n",
              "      <td>GDNPF105XX</td>\n",
              "      <td>GDNPF105XX</td>\n",
              "      <td>90125555</td>\n",
              "      <td>TRANZONIC ACQUISITION CORP.</td>\n",
              "      <td>100</td>\n",
              "      <td>NITRILE POWDER FREE EXAM GLOVES BLACK 6 MIL 10...</td>\n",
              "      <td>NaN</td>\n",
              "      <td>[]</td>\n",
              "      <td>Tranzonic Acquisition</td>\n",
              "      <td>Hand Armor</td>\n",
              "      <td>Hand Armor</td>\n",
              "      <td>Hand Armor</td>\n",
              "      <td>NaN</td>\n",
              "      <td>787081126866</td>\n",
              "      <td>90125555</td>\n",
              "      <td>{'color': 'black', 'package': ('100 pairs', '1...</td>\n",
              "      <td>{'color': '', 'package': ('', ''), 'size': (''...</td>\n",
              "      <td>NaN</td>\n",
              "    </tr>\n",
              "    <tr>\n",
              "      <th>1</th>\n",
              "      <td>00787081126859</td>\n",
              "      <td>['LZA']</td>\n",
              "      <td>['Polymer Patient Examination Glove']</td>\n",
              "      <td>Hand Armor</td>\n",
              "      <td>GDNPF105X</td>\n",
              "      <td>GDNPF105X</td>\n",
              "      <td>90125555</td>\n",
              "      <td>TRANZONIC ACQUISITION CORP.</td>\n",
              "      <td>100</td>\n",
              "      <td>NITRILE POWDER FREE EXAM GLOVES BLACK 6 MIL 10...</td>\n",
              "      <td>NaN</td>\n",
              "      <td>[]</td>\n",
              "      <td>Tranzonic Acquisition</td>\n",
              "      <td>Hand Armor</td>\n",
              "      <td>Hand Armor</td>\n",
              "      <td>Hand Armor</td>\n",
              "      <td>NaN</td>\n",
              "      <td>787081126859</td>\n",
              "      <td>90125555</td>\n",
              "      <td>{'color': 'black', 'package': ('100 pairs', '1...</td>\n",
              "      <td>{'color': '', 'package': ('', ''), 'size': (''...</td>\n",
              "      <td>NaN</td>\n",
              "    </tr>\n",
              "    <tr>\n",
              "      <th>2</th>\n",
              "      <td>00787081126842</td>\n",
              "      <td>['LZA']</td>\n",
              "      <td>['Polymer Patient Examination Glove']</td>\n",
              "      <td>Hand Armor</td>\n",
              "      <td>GDNPF105L</td>\n",
              "      <td>GDNPF105L</td>\n",
              "      <td>90125555</td>\n",
              "      <td>TRANZONIC ACQUISITION CORP.</td>\n",
              "      <td>100</td>\n",
              "      <td>NITRILE POWDER FREE EXAM GLOVES BLACK 6 MIL 10...</td>\n",
              "      <td>NaN</td>\n",
              "      <td>[]</td>\n",
              "      <td>Tranzonic Acquisition</td>\n",
              "      <td>Hand Armor</td>\n",
              "      <td>Hand Armor</td>\n",
              "      <td>Hand Armor</td>\n",
              "      <td>NaN</td>\n",
              "      <td>787081126842</td>\n",
              "      <td>90125555</td>\n",
              "      <td>{'color': 'black', 'package': ('100 pairs', '1...</td>\n",
              "      <td>{'color': '', 'package': ('', ''), 'size': (''...</td>\n",
              "      <td>NaN</td>\n",
              "    </tr>\n",
              "    <tr>\n",
              "      <th>3</th>\n",
              "      <td>00787081126835</td>\n",
              "      <td>['LZA']</td>\n",
              "      <td>['Polymer Patient Examination Glove']</td>\n",
              "      <td>Hand Armor</td>\n",
              "      <td>GDNPF105M</td>\n",
              "      <td>GDNPF105M</td>\n",
              "      <td>90125555</td>\n",
              "      <td>TRANZONIC ACQUISITION CORP.</td>\n",
              "      <td>100</td>\n",
              "      <td>NITRILE POWDER FREE EXAM GLOVES BLACK 6 MIL 10...</td>\n",
              "      <td>NaN</td>\n",
              "      <td>[]</td>\n",
              "      <td>Tranzonic Acquisition</td>\n",
              "      <td>Hand Armor</td>\n",
              "      <td>Hand Armor</td>\n",
              "      <td>Hand Armor</td>\n",
              "      <td>NaN</td>\n",
              "      <td>787081126835</td>\n",
              "      <td>90125555</td>\n",
              "      <td>{'color': 'black', 'package': ('100 pairs', '1...</td>\n",
              "      <td>{'color': '', 'package': ('', ''), 'size': (''...</td>\n",
              "      <td>NaN</td>\n",
              "    </tr>\n",
              "    <tr>\n",
              "      <th>4</th>\n",
              "      <td>00787081126828</td>\n",
              "      <td>['LZA']</td>\n",
              "      <td>['Polymer Patient Examination Glove']</td>\n",
              "      <td>Hand Armor</td>\n",
              "      <td>GDNPF105S</td>\n",
              "      <td>GDNPF105S</td>\n",
              "      <td>90125555</td>\n",
              "      <td>TRANZONIC ACQUISITION CORP.</td>\n",
              "      <td>100</td>\n",
              "      <td>NITRILE POWDER FREE EXAM GLOVES BLACK 6 MIL 10...</td>\n",
              "      <td>NaN</td>\n",
              "      <td>[]</td>\n",
              "      <td>Tranzonic Acquisition</td>\n",
              "      <td>Hand Armor</td>\n",
              "      <td>Hand Armor</td>\n",
              "      <td>Hand Armor</td>\n",
              "      <td>NaN</td>\n",
              "      <td>787081126828</td>\n",
              "      <td>90125555</td>\n",
              "      <td>{'color': 'black', 'package': ('100 pairs', '1...</td>\n",
              "      <td>{'color': '', 'package': ('', ''), 'size': (''...</td>\n",
              "      <td>NaN</td>\n",
              "    </tr>\n",
              "  </tbody>\n",
              "</table>\n",
              "</div>"
            ],
            "text/plain": [
              "       primary_di  ... ProductID\n",
              "0  00787081126866  ...       NaN\n",
              "1  00787081126859  ...       NaN\n",
              "2  00787081126842  ...       NaN\n",
              "3  00787081126835  ...       NaN\n",
              "4  00787081126828  ...       NaN\n",
              "\n",
              "[5 rows x 22 columns]"
            ]
          },
          "metadata": {
            "tags": []
          },
          "execution_count": 11
        }
      ]
    },
    {
      "cell_type": "code",
      "metadata": {
        "id": "ZBEh1fZH5BjO"
      },
      "source": [
        "# Fix branding so that it doesn't cause null training inputs\n",
        "df.secondary_brand = ['None' if pd.isnull(x) else x for x in df.secondary_brand]\n",
        "df.primary_brand = ['None' if pd.isnull(x) else x for x in df.primary_brand]\n",
        "df.brand_name = ['' if pd.isnull(x) else x for x in df.brand_name]"
      ],
      "execution_count": 12,
      "outputs": []
    },
    {
      "cell_type": "code",
      "metadata": {
        "id": "5vY7DHReWY7t"
      },
      "source": [
        "def output_label(labels: dict, brand_labels: dict, company: str, brand: str,\n",
        "                 target: str = 'Query', format: str = 'Label') -> str:\n",
        "    '''\n",
        "    Input:\n",
        "        labels: Dictionary with all labels\n",
        "        company: Name of manufacturer\n",
        "        brand: Tuple (primary_brand, secondary_brand)\n",
        "        target: Str that is either \"Query\", \"Description\", or \"Single Description\" for the three different\n",
        "                training methods we have used\n",
        "        format: Str that indicates if we want the original T5 Training format\n",
        "                or the Label format ie color: none, size: medium ...\n",
        "                Options are Original and Label\n",
        "    Output:\n",
        "        Dictionary of labels converted to a string output that fits the rules needed\n",
        "        for either Query or Description training and then also the format rules for \n",
        "        either Original or Label formatting\n",
        "        Ex: color: xyz, material:abc, size: None, ... OR\n",
        "            <extra_id_0> xyz <extra_id_1> abc <extra_id_2> ...\n",
        "    '''\n",
        "    # Color\n",
        "    if labels['color'] == '':\n",
        "        if brand_labels['color'] == '':\n",
        "            color = 'None'\n",
        "        else:\n",
        "            color = brand_labels['color']\n",
        "    else:\n",
        "        color = labels['color']\n",
        "    \n",
        "    # Size\n",
        "    if labels['size'][1] == '' and labels['size'][0] == '':\n",
        "        size = ''\n",
        "    elif labels['size'][1] == '':\n",
        "        size = re.findall(r'[0-9]+\\.?[0-9]*', labels['size'][0])[0]\n",
        "    elif labels['size'][0] == '':\n",
        "        size = labels['size'][1] \n",
        "    else:\n",
        "        size = labels['size'][1] + ', ' + re.findall(r'[0-9]+\\.?[0-9]*', labels['size'][0])[0]\n",
        "    if size == '':\n",
        "        if isinstance(brand_labels['size'], tuple):\n",
        "            if brand_labels['size'][1] != '' and brand_labels['size'][0] != '':\n",
        "                size = brand_labels['size'][1] + ', ' + re.findall(r'[0-9]+\\.?[0-9]*', brand_labels['size'][0])[0]\n",
        "            elif brand_labels['size'][1] != '':\n",
        "                size = brand_labels['size'][1]\n",
        "            elif brand_labels['size'][0] != '':\n",
        "                size = re.findall(r'[0-9]+\\.?[0-9]*', brand_labels['size'][0])[0]\n",
        "            else:\n",
        "                size = 'None'\n",
        "        else:\n",
        "            size = 'None'\n",
        "\n",
        "    # Packaging\n",
        "    # Boxes\n",
        "    if labels['package'][0] == '':\n",
        "        if isinstance(brand_labels['package'], tuple) and brand_labels['package'][0] == '':\n",
        "            box = 'None'\n",
        "        elif isinstance(brand_labels['package'], tuple):\n",
        "            box = re.findall(r'[0-9]+\\.?[0-9]*', brand_labels['package'][0])[0] + ' pairs'\n",
        "        else:\n",
        "            box = 'None'\n",
        "    else:\n",
        "        box = re.findall(r'[0-9]+\\.?[0-9]*', labels['package'][0])[0] + ' pairs'\n",
        "\n",
        "    # Cases\n",
        "    if labels['package'][1] == '':\n",
        "        if isinstance(brand_labels['package'], tuple) and brand_labels['package'][1] == '':\n",
        "            case = 'None'\n",
        "        elif isinstance(brand_labels['package'], tuple):\n",
        "            case = re.findall(r'[0-9]+\\.?[0-9]*', brand_labels['package'][1])[0] + ' boxes'\n",
        "        else:\n",
        "            case = 'None'\n",
        "    else:\n",
        "        case = re.findall(r'[0-9]+\\.?[0-9]*', labels['package'][1])[0] + ' boxes'\n",
        "\n",
        "    # Types\n",
        "    if labels['type1'] == '':\n",
        "        if brand_labels['type1'] == '':\n",
        "            t1 = 'None'\n",
        "        else:\n",
        "            t1 = brand_labels['type1']\n",
        "    else:\n",
        "        t1 = labels['type1']\n",
        "    \n",
        "    if labels['type2'] == '':\n",
        "        if brand_labels['type2'] == '':\n",
        "            t2 = 'None'\n",
        "        else:\n",
        "            t2 = brand_labels['type2']\n",
        "    else:\n",
        "        t2 = labels['type2']\n",
        "    \n",
        "    # Use\n",
        "    if len(labels['use']) == 0:\n",
        "        if isinstance(brand_labels['use'], list) and len(brand_labels['use']) != 0:\n",
        "            use = ', '.join(brand_labels['use'])\n",
        "        else:\n",
        "            use = 'None'\n",
        "    else:\n",
        "        use = ', '.join(labels['use'])\n",
        "    \n",
        "    # Glove Thickness\n",
        "    if labels['thickness'] == '':\n",
        "        if brand_labels['thickness'] == '':\n",
        "            thickness = 'None'\n",
        "        else:\n",
        "            thickness = brand_labels['thickness']\n",
        "    else:\n",
        "        thickness = labels['thickness']\n",
        "    \n",
        "    if labels['length'] == '':\n",
        "        if brand_labels['length'] == '':\n",
        "            length = 'None'\n",
        "        else:\n",
        "            length = brand_labels['length']\n",
        "    else:\n",
        "        length = labels['length']\n",
        "\n",
        "    # Different items/formats needed for Query vs Description\n",
        "    if target == 'Query':\n",
        "        # Material\n",
        "        mat = labels['material']\n",
        "        if len(mat) == 0:\n",
        "            if isinstance(brand_labels['material'], list):\n",
        "                mat = brand_labels['material']\n",
        "                if len(mat) == 0:\n",
        "                    material = 'None'\n",
        "                else:\n",
        "                    material = ', '.join(mat)\n",
        "            else:\n",
        "                material = 'None'\n",
        "        else:\n",
        "            material = ', '.join(mat)\n",
        "\n",
        "        if labels['type3'] == '':\n",
        "            if brand_labels.get('type3', '') == '':\n",
        "                t3 = 'None'\n",
        "            else:\n",
        "                t3 = brand_labels['type3']\n",
        "        else:\n",
        "            t3 = labels['type3']\n",
        "        \n",
        "        c1 = (company != 'None' and not pd.isnull(company) and company != '')\n",
        "        b0 = (brand[0] != 'None' and not pd.isnull(brand[0]) and brand[0] != '')\n",
        "        b1 = (brand[1] != 'None' and not pd.isnull(brand[1]) and brand[0] != '')\n",
        "        company = re.sub(',', '', company)\n",
        "        brand0 = re.sub(',', '', brand[0])\n",
        "        brand1 = re.sub(',', '', brand[1])\n",
        "        if c1 and b0 and b1:\n",
        "            brand = f'{company}, {brand0}, {brand1}'\n",
        "        elif c1 and b0:\n",
        "            brand = f'{company}, {brand0}'\n",
        "        elif c1 and b1:\n",
        "            brand = f'{company}, {brand1}'\n",
        "        elif b0 and b1:\n",
        "            brand = f'{brand0}, {brand1}'\n",
        "        elif c1:\n",
        "            brand = company\n",
        "        elif b0:\n",
        "            brand = brand0\n",
        "        elif b1:\n",
        "            brand = brand1\n",
        "        else:\n",
        "            brand = 'None'\n",
        "        \n",
        "\n",
        "    \n",
        "        if format == 'Label':\n",
        "            output = f'color: {color} | size: {size} | type1: {t1} | type2: {t2} | type3: {t3} | ' \\\n",
        "                    + f'boxes: {box} | cases: {case} | use: {use} | material: {material} | ' \\\n",
        "                    + f'thickness: {thickness} | length: {length} | brand: {brand}'\n",
        "        else:\n",
        "            output = f'<extra_id_0> {color} <extra_id_1> {size} <extra_id_2> {t1} <extra_id_3> {t2}' \\\n",
        "                    + f' <extra_id_4> {t3} <extra_id_5> {box} <extra_id_6> {case} <extra_id_7> {use}' \\\n",
        "                    + f' <extra_id_8> {material} <extra_id_9> {thickness} <extra_id_10> {length}' \\\n",
        "                    + f' <extra_id_11> {brand} <extra_id_12>'\n",
        "\n",
        "    elif target == 'Description':\n",
        "        # Material\n",
        "        mat = [i for i in labels['material'] if i not in {'latex-free', 'synthetic', 'polymer'}]\n",
        "        if len(mat) == 0:\n",
        "            if isinstance(brand_labels['material'], list):\n",
        "                mat = [i for i in brand_labels['material'] if i not in {'latex-free', 'synthetic', 'polymer'}]\n",
        "                if len(mat) == 0:\n",
        "                    material = 'None'\n",
        "                else:\n",
        "                    material = ', '.join(mat)\n",
        "            else:\n",
        "                material = 'None'\n",
        "        else:\n",
        "            material = ', '.join(mat)\n",
        "        \n",
        "        company = re.sub(',', '', company)\n",
        "        brand0 = re.sub(',', '', brand[0])\n",
        "        brand1 = re.sub(',', '', brand[1])\n",
        "    \n",
        "        if format == 'Label':\n",
        "            output = f'color: {color} | size: {size} | type1: {t1} | type2: {t2} | boxes: {box} | ' \\\n",
        "                    + f'cases: {case} | use: {use} | material: {material} | thickness: {thickness} | ' \\\n",
        "                    + f'length: {length} | primary_brand: {brand0} | secondary_brand: {brand1} | company: {company}'\n",
        "        else:\n",
        "            output = f'<extra_id_0> {color} <extra_id_1> {size} <extra_id_2> {t1} <extra_id_3> {t2}' \\\n",
        "                    + f' <extra_id_4> {box} <extra_id_5> {case} <extra_id_6> {use}' \\\n",
        "                    + f' <extra_id_7> {material} <extra_id_8> {thickness} <extra_id_9> {length}' \\\n",
        "                    + f' <extra_id_10> {brand0} <extra_id_11> {brand1} <extra_id_12> {company} <extra_id_13>'\n",
        "    \n",
        "    elif target == 'Single Description':\n",
        "        # Material\n",
        "        mat = labels['material']\n",
        "        if len(mat) == 0:\n",
        "            if isinstance(brand_labels['material'], list):\n",
        "                mat = brand_labels['material']\n",
        "                if len(mat) == 0:\n",
        "                    material = 'None'\n",
        "                else:\n",
        "                    material = ', '.join(mat)\n",
        "            else:\n",
        "                material = 'None'\n",
        "        else:\n",
        "            material = ', '.join(mat)\n",
        "\n",
        "        if labels['type3'] == '':\n",
        "            if brand_labels.get('type3', '') == '':\n",
        "                t3 = 'None'\n",
        "            else:\n",
        "                t3 = brand_labels['type3']\n",
        "        else:\n",
        "            t3 = labels['type3']\n",
        "        \n",
        "        b0 = (brand[0] != 'None' and not pd.isnull(brand[0]) and brand[0] != '')\n",
        "        b1 = (brand[1] != 'None' and not pd.isnull(brand[1]) and brand[0] != '')\n",
        "        company = re.sub(',', '', company)\n",
        "        brand0 = re.sub(',', '', brand[0])\n",
        "        brand1 = re.sub(',', '', brand[1])\n",
        "        \n",
        "        if b0 and b1:\n",
        "            brand = f'{brand0}, {brand1}'\n",
        "        elif b0:\n",
        "            brand = brand0\n",
        "        elif b1:\n",
        "            brand = brand1\n",
        "        else:\n",
        "            brand = 'None'\n",
        "        \n",
        "\n",
        "    \n",
        "        if format == 'Label':\n",
        "            output = f'color: {color} | size: {size} | type1: {t1} | type2: {t2} | type3: {t3} | ' \\\n",
        "                    + f'boxes: {box} | cases: {case} | use: {use} | material: {material} | ' \\\n",
        "                    + f'thickness: {thickness} | length: {length} | brand: {brand} | company: {company}'\n",
        "        else:\n",
        "            output = f'<extra_id_0> {color} <extra_id_1> {size} <extra_id_2> {t1} <extra_id_3> {t2}' \\\n",
        "                    + f' <extra_id_4> {t3} <extra_id_5> {box} <extra_id_6> {case} <extra_id_7> {use}' \\\n",
        "                    + f' <extra_id_8> {material} <extra_id_9> {thickness} <extra_id_10> {length}' \\\n",
        "                    + f' <extra_id_11> {brand} <extra_id_12> {company} <extra_id_13>'\n",
        "\n",
        "    \n",
        "    return 'targets: ' + output.lower()"
      ],
      "execution_count": 13,
      "outputs": []
    },
    {
      "cell_type": "code",
      "metadata": {
        "id": "SO2CobiLukDs"
      },
      "source": [
        "np.random.seed(601)\n",
        "def input_text_brand_placement(device_description: str, brand_name: str, company_name: str) -> str:\n",
        "    '''\n",
        "    Returns the correct input string for the T5. We want \n",
        "    branding to be in front of description 70% of time and at the end the rest\n",
        "    '''\n",
        "    if np.random.uniform() >= 0.7:\n",
        "        return str(device_description) + ' ' + str(brand_name) + ' ' + str(company_name)\n",
        "    else:\n",
        "        return str(brand_name) + ' ' + str(company_name) + ' ' + str(device_description)"
      ],
      "execution_count": 14,
      "outputs": []
    },
    {
      "cell_type": "markdown",
      "metadata": {
        "id": "MuGLtJnB6C_S"
      },
      "source": [
        "### T5 Setup For Description\n",
        "This section creates the actual input text and target text from the dataframe that we have been creating above for a Description task training. If you want to create a mixture model setup, then you will need to skip to the next subsection\n",
        "\n",
        "\n"
      ]
    },
    {
      "cell_type": "code",
      "metadata": {
        "colab": {
          "base_uri": "https://localhost:8080/",
          "height": 564
        },
        "id": "cjUjeJcPGPwa",
        "outputId": "8e7c2fb4-b300-4768-f3f1-c1756569fa21"
      },
      "source": [
        "# Create input of brand name, device description, company name\n",
        "df['input_text'] = df.apply(lambda x: input_text_brand_placement(x.device_description, x.brand_name, x.company_name), axis=1)\n",
        "df.input_text = [re.sub(r'(?<![a-zA-Z])-(?=[a-zA-Z])',' - ',' '.join(nltk.word_tokenize(str(x).lower()))) for x in df.input_text] # Preprocessing\n",
        "\n",
        "df = df[df.input_text != 'nan'].copy().reset_index() # Drop any nan descriptions\n",
        "df.input_text = 'description: ' + df.input_text\n",
        "\n",
        "\n",
        "# Target text as specified from output_label function\n",
        "# Uncomment this line for label type target\n",
        "#df['target_text'] = df.apply(lambda x: output_label(x.labels,x.brand_labels, x.company_name, (x.primary_brand, x.secondary_brand)), axis = 1)\n",
        "\n",
        "# Uncomment this section one for original type target text\n",
        "df['target_text'] = df.apply(lambda x: output_label(x.labels,x.brand_labels, \n",
        "                                                              x.company_name, (x.primary_brand, x.secondary_brand), 'Single Description', format='Original'), axis = 1)\n",
        "input_prompts = '''The color of this item is <extra_id_0>. The size is <extra_id_1>. This item's sterile status is <extra_id_2>. ''' \\\n",
        "            + '''The powdered status is <extra_id_3>. Its latex-free status is <extra_id_4>. It comes in <extra_id_5> per box. ''' \\\n",
        "            + '''There are <extra_id_6> per case. It is used for <extra_id_7>. The material of this item is <extra_id_8>. This item ''' \\\n",
        "            + '''is <extra_id_9> thick. It is <extra_id_10> long. The product name is <extra_id_11>. <extra_id_12> manufactures this.'''\n",
        "df.input_text = df.input_text + '. ' + input_prompts\n",
        "\n",
        "df.head()"
      ],
      "execution_count": 15,
      "outputs": [
        {
          "output_type": "execute_result",
          "data": {
            "text/html": [
              "<div>\n",
              "<style scoped>\n",
              "    .dataframe tbody tr th:only-of-type {\n",
              "        vertical-align: middle;\n",
              "    }\n",
              "\n",
              "    .dataframe tbody tr th {\n",
              "        vertical-align: top;\n",
              "    }\n",
              "\n",
              "    .dataframe thead th {\n",
              "        text-align: right;\n",
              "    }\n",
              "</style>\n",
              "<table border=\"1\" class=\"dataframe\">\n",
              "  <thead>\n",
              "    <tr style=\"text-align: right;\">\n",
              "      <th></th>\n",
              "      <th>index</th>\n",
              "      <th>primary_di</th>\n",
              "      <th>product_code</th>\n",
              "      <th>product_code_name</th>\n",
              "      <th>brand_name</th>\n",
              "      <th>version_model_number</th>\n",
              "      <th>catalog_number</th>\n",
              "      <th>duns_number</th>\n",
              "      <th>company_name</th>\n",
              "      <th>device_count</th>\n",
              "      <th>device_description</th>\n",
              "      <th>device_sterile</th>\n",
              "      <th>device_description_color_raw</th>\n",
              "      <th>_company_name</th>\n",
              "      <th>_brand_name</th>\n",
              "      <th>_brand_name_diff</th>\n",
              "      <th>primary_brand</th>\n",
              "      <th>secondary_brand</th>\n",
              "      <th>primary_di_str</th>\n",
              "      <th>duns_number_str</th>\n",
              "      <th>labels</th>\n",
              "      <th>brand_labels</th>\n",
              "      <th>ProductID</th>\n",
              "      <th>input_text</th>\n",
              "      <th>target_text</th>\n",
              "    </tr>\n",
              "  </thead>\n",
              "  <tbody>\n",
              "    <tr>\n",
              "      <th>0</th>\n",
              "      <td>0</td>\n",
              "      <td>00787081126866</td>\n",
              "      <td>['LZA']</td>\n",
              "      <td>['Polymer Patient Examination Glove']</td>\n",
              "      <td>Hand Armor</td>\n",
              "      <td>GDNPF105XX</td>\n",
              "      <td>GDNPF105XX</td>\n",
              "      <td>90125555</td>\n",
              "      <td>TRANZONIC ACQUISITION CORP.</td>\n",
              "      <td>100</td>\n",
              "      <td>NITRILE POWDER FREE EXAM GLOVES BLACK 6 MIL 10...</td>\n",
              "      <td>NaN</td>\n",
              "      <td>[]</td>\n",
              "      <td>Tranzonic Acquisition</td>\n",
              "      <td>Hand Armor</td>\n",
              "      <td>Hand Armor</td>\n",
              "      <td>Hand Armor</td>\n",
              "      <td>None</td>\n",
              "      <td>787081126866</td>\n",
              "      <td>90125555</td>\n",
              "      <td>{'color': 'black', 'package': ('100 pairs', '1...</td>\n",
              "      <td>{'color': '', 'package': ('', ''), 'size': (''...</td>\n",
              "      <td>NaN</td>\n",
              "      <td>description: hand armor tranzonic acquisition ...</td>\n",
              "      <td>targets: &lt;extra_id_0&gt; black &lt;extra_id_1&gt; extra...</td>\n",
              "    </tr>\n",
              "    <tr>\n",
              "      <th>1</th>\n",
              "      <td>1</td>\n",
              "      <td>00787081126859</td>\n",
              "      <td>['LZA']</td>\n",
              "      <td>['Polymer Patient Examination Glove']</td>\n",
              "      <td>Hand Armor</td>\n",
              "      <td>GDNPF105X</td>\n",
              "      <td>GDNPF105X</td>\n",
              "      <td>90125555</td>\n",
              "      <td>TRANZONIC ACQUISITION CORP.</td>\n",
              "      <td>100</td>\n",
              "      <td>NITRILE POWDER FREE EXAM GLOVES BLACK 6 MIL 10...</td>\n",
              "      <td>NaN</td>\n",
              "      <td>[]</td>\n",
              "      <td>Tranzonic Acquisition</td>\n",
              "      <td>Hand Armor</td>\n",
              "      <td>Hand Armor</td>\n",
              "      <td>Hand Armor</td>\n",
              "      <td>None</td>\n",
              "      <td>787081126859</td>\n",
              "      <td>90125555</td>\n",
              "      <td>{'color': 'black', 'package': ('100 pairs', '1...</td>\n",
              "      <td>{'color': '', 'package': ('', ''), 'size': (''...</td>\n",
              "      <td>NaN</td>\n",
              "      <td>description: nitrile powder free exam gloves b...</td>\n",
              "      <td>targets: &lt;extra_id_0&gt; black &lt;extra_id_1&gt; extra...</td>\n",
              "    </tr>\n",
              "    <tr>\n",
              "      <th>2</th>\n",
              "      <td>2</td>\n",
              "      <td>00787081126842</td>\n",
              "      <td>['LZA']</td>\n",
              "      <td>['Polymer Patient Examination Glove']</td>\n",
              "      <td>Hand Armor</td>\n",
              "      <td>GDNPF105L</td>\n",
              "      <td>GDNPF105L</td>\n",
              "      <td>90125555</td>\n",
              "      <td>TRANZONIC ACQUISITION CORP.</td>\n",
              "      <td>100</td>\n",
              "      <td>NITRILE POWDER FREE EXAM GLOVES BLACK 6 MIL 10...</td>\n",
              "      <td>NaN</td>\n",
              "      <td>[]</td>\n",
              "      <td>Tranzonic Acquisition</td>\n",
              "      <td>Hand Armor</td>\n",
              "      <td>Hand Armor</td>\n",
              "      <td>Hand Armor</td>\n",
              "      <td>None</td>\n",
              "      <td>787081126842</td>\n",
              "      <td>90125555</td>\n",
              "      <td>{'color': 'black', 'package': ('100 pairs', '1...</td>\n",
              "      <td>{'color': '', 'package': ('', ''), 'size': (''...</td>\n",
              "      <td>NaN</td>\n",
              "      <td>description: hand armor tranzonic acquisition ...</td>\n",
              "      <td>targets: &lt;extra_id_0&gt; black &lt;extra_id_1&gt; large...</td>\n",
              "    </tr>\n",
              "    <tr>\n",
              "      <th>3</th>\n",
              "      <td>3</td>\n",
              "      <td>00787081126835</td>\n",
              "      <td>['LZA']</td>\n",
              "      <td>['Polymer Patient Examination Glove']</td>\n",
              "      <td>Hand Armor</td>\n",
              "      <td>GDNPF105M</td>\n",
              "      <td>GDNPF105M</td>\n",
              "      <td>90125555</td>\n",
              "      <td>TRANZONIC ACQUISITION CORP.</td>\n",
              "      <td>100</td>\n",
              "      <td>NITRILE POWDER FREE EXAM GLOVES BLACK 6 MIL 10...</td>\n",
              "      <td>NaN</td>\n",
              "      <td>[]</td>\n",
              "      <td>Tranzonic Acquisition</td>\n",
              "      <td>Hand Armor</td>\n",
              "      <td>Hand Armor</td>\n",
              "      <td>Hand Armor</td>\n",
              "      <td>None</td>\n",
              "      <td>787081126835</td>\n",
              "      <td>90125555</td>\n",
              "      <td>{'color': 'black', 'package': ('100 pairs', '1...</td>\n",
              "      <td>{'color': '', 'package': ('', ''), 'size': (''...</td>\n",
              "      <td>NaN</td>\n",
              "      <td>description: nitrile powder free exam gloves b...</td>\n",
              "      <td>targets: &lt;extra_id_0&gt; black &lt;extra_id_1&gt; mediu...</td>\n",
              "    </tr>\n",
              "    <tr>\n",
              "      <th>4</th>\n",
              "      <td>4</td>\n",
              "      <td>00787081126828</td>\n",
              "      <td>['LZA']</td>\n",
              "      <td>['Polymer Patient Examination Glove']</td>\n",
              "      <td>Hand Armor</td>\n",
              "      <td>GDNPF105S</td>\n",
              "      <td>GDNPF105S</td>\n",
              "      <td>90125555</td>\n",
              "      <td>TRANZONIC ACQUISITION CORP.</td>\n",
              "      <td>100</td>\n",
              "      <td>NITRILE POWDER FREE EXAM GLOVES BLACK 6 MIL 10...</td>\n",
              "      <td>NaN</td>\n",
              "      <td>[]</td>\n",
              "      <td>Tranzonic Acquisition</td>\n",
              "      <td>Hand Armor</td>\n",
              "      <td>Hand Armor</td>\n",
              "      <td>Hand Armor</td>\n",
              "      <td>None</td>\n",
              "      <td>787081126828</td>\n",
              "      <td>90125555</td>\n",
              "      <td>{'color': 'black', 'package': ('100 pairs', '1...</td>\n",
              "      <td>{'color': '', 'package': ('', ''), 'size': (''...</td>\n",
              "      <td>NaN</td>\n",
              "      <td>description: hand armor tranzonic acquisition ...</td>\n",
              "      <td>targets: &lt;extra_id_0&gt; black &lt;extra_id_1&gt; small...</td>\n",
              "    </tr>\n",
              "  </tbody>\n",
              "</table>\n",
              "</div>"
            ],
            "text/plain": [
              "   index  ...                                        target_text\n",
              "0      0  ...  targets: <extra_id_0> black <extra_id_1> extra...\n",
              "1      1  ...  targets: <extra_id_0> black <extra_id_1> extra...\n",
              "2      2  ...  targets: <extra_id_0> black <extra_id_1> large...\n",
              "3      3  ...  targets: <extra_id_0> black <extra_id_1> mediu...\n",
              "4      4  ...  targets: <extra_id_0> black <extra_id_1> small...\n",
              "\n",
              "[5 rows x 25 columns]"
            ]
          },
          "metadata": {
            "tags": []
          },
          "execution_count": 15
        }
      ]
    },
    {
      "cell_type": "markdown",
      "metadata": {
        "id": "39TrmhwRz7qd"
      },
      "source": [
        "### T5 Setup For Both Query And Description\n",
        "This section should be run instead of \"T5 Setup For Description\" if the task is to create a mixture model. It will create an input for both our Query Task and our Description Task.\n",
        "\n",
        "The Query Task is designed to be used for processing search queries that we may see through a website search bar. The Description Task would be used when helping process item descriptions on the backend and can be less detailed in some aspects because we would have time for backend processing.\n",
        "\n",
        "For this setup, we're also going to change where the branding is displayed (in front or behind the description) as we believe that will help train a more robust model\n",
        "\n"
      ]
    },
    {
      "cell_type": "markdown",
      "metadata": {
        "id": "fryCuEvwrV8a"
      },
      "source": [
        "### Create Label T5 Training Format\n",
        "The label format was created as a QA setup in which T5 would read the input of description, branding, and company and automatically fill in the labels for us. The target of this format looks as follows:\n",
        "\n",
        "```\n",
        "Input:\n",
        "[BRANDING] [COMPANY] [DEVICE_DESCRIPTION]\n",
        "\n",
        "Output:\n",
        "targets: color: xyz | size: abc | type1: efg, ...\n",
        "```"
      ]
    },
    {
      "cell_type": "code",
      "metadata": {
        "id": "GQ1Akef2vMb9"
      },
      "source": [
        "# Create input text, preprocess, and drop any unwanted inputs\n",
        "df['input_text'] = df.apply(lambda x: input_text_brand_placement(x.device_description, x.brand_name, x.company_name), axis=1)\n",
        "df.input_text = [re.sub(r'(?<![a-zA-Z])-(?=[a-zA-Z])',' - ',' '.join(nltk.word_tokenize(str(x).lower()))) for x in df.input_text]\n",
        "df_desc = df[df.input_text != 'nan'].copy().drop_duplicates(subset='input_text').reset_index(drop=True)\n",
        "df_query = df_desc.copy()\n",
        "\n",
        "# Description Task\n",
        "df_desc['type'] = 'Description'\n",
        "df_desc.input_text = 'description: ' + df_desc.input_text\n",
        "df_desc['target_text'] = df_desc.apply(lambda x: output_label(x.labels,x.brand_labels, \n",
        "                                                              x.company_name, (x.primary_brand, x.secondary_brand), 'Description'), axis = 1)\n",
        "\n",
        "# Query Task\n",
        "df_query['type'] = 'Query'\n",
        "df_query.input_text = 'query: ' + df_query.input_text\n",
        "df_query['target_text'] = df_query.apply(lambda x: output_label(x.labels,x.brand_labels, x.company_name, (x.primary_brand, x.secondary_brand)), axis = 1)\n"
      ],
      "execution_count": null,
      "outputs": []
    },
    {
      "cell_type": "markdown",
      "metadata": {
        "id": "Scoy8YyLexvv"
      },
      "source": [
        "#### Create Original T5 Training Format\n",
        "If you want to create the original T5 trianing format then you will want to run this cell instead of the one above. The key difference between the two is how the model is trained. The Orginal model is formatted closer to how T5 was originally trained. This format will take the input text and add a part saying that each label corresponds to an id token. The target goal is to then fill in that token. An example of this can be seen below:\n",
        "\n",
        "```\n",
        "Input:\n",
        "[BRANDING] [COMPANY] [DEVICE_DESCRIPTION] The color is <extra_id_0>. The size is <extra_id_1> ...\n",
        "\n",
        "Output:\n",
        "targets: <extra_id_0> abc <extra_id_1> xyz <extra_id_2> ...\n",
        "\n",
        "```"
      ]
    },
    {
      "cell_type": "code",
      "metadata": {
        "id": "qf1vVQGpfAiQ"
      },
      "source": [
        "# Place branding in front or back, preprocess, and delete unnecessary rows\n",
        "df['input_text'] = df.apply(lambda x: input_text_brand_placement(x.device_description, x.brand_name, x.company_name), axis=1)\n",
        "df.input_text = [re.sub(r'(?<![a-zA-Z])-(?=[a-zA-Z])',' - ',' '.join(nltk.word_tokenize(str(x).lower()))) for x in df.input_text]\n",
        "df_desc = df[df.input_text != 'nan'].copy().drop_duplicates(subset='input_text').reset_index(drop=True)\n",
        "df_query = df_desc.copy()\n",
        "\n",
        "# Description Task\n",
        "df_desc['type'] = 'Description'\n",
        "df_desc.input_text = 'description: ' + df_desc.input_text\n",
        "df_desc['target_text'] = df_desc.apply(lambda x: output_label(x.labels,x.brand_labels, \n",
        "                                                              x.company_name, (x.primary_brand, x.secondary_brand), 'Description', format='Original'), axis = 1)\n",
        "\n",
        "# Query Task\n",
        "df_query['type'] = 'Query'\n",
        "df_query.input_text = 'query: ' + df_query.input_text\n",
        "df_query['target_text'] = df_query.apply(lambda x: output_label(x.labels,x.brand_labels, x.company_name, (x.primary_brand, x.secondary_brand), format='Original'), axis = 1)\n",
        "\n",
        "\n",
        "# Add in input prompts\n",
        "extra_ids_query = 'The color is <extra_id_0> and size is <extra_id_1> and type1 is <extra_id_2> ' \\\n",
        "                  + ' and type2 is <extra_id_3> and type3 is <extra_id_4> and pairs per box is <extra_id_5> and boxes per case is <extra_id_6>' \\\n",
        "                  + ' and use is <extra_id_7> and material is <extra_id_8> and thickness is <extra_id_9> and length is <extra_id_10> and brand is <extra_id_11>'\n",
        "\n",
        "extra_ids_desc = 'The color is <extra_id_0> and size is <extra_id_1> and type1 is <extra_id_2> ' \\\n",
        "                  + ' and type2 is <extra_id_3> and pairs per box is <extra_id_4> and boxes per case is <extra_id_5>' \\\n",
        "                  + ' and use is <extra_id_6> and material is <extra_id_7> and thickness is <extra_id_8> and length is <extra_id_9>' \\\n",
        "                  + ' and primary brand is <extra_id_10> and secondary brand is <extra_id_11> and company name is <extra_id_12>'\n",
        "\n",
        "df_query.input_text = df_query.input_text + '. ' + extra_ids_query\n",
        "df_desc.input_text = df_desc.input_text + '. ' + extra_ids_desc"
      ],
      "execution_count": null,
      "outputs": []
    },
    {
      "cell_type": "markdown",
      "metadata": {
        "id": "ExyDlG5wlceX"
      },
      "source": [
        "## Splitting Into Train/Test/Val\n",
        "We will split the data into roughly\n",
        "- Train: 75% \n",
        "- Val: 13% \n",
        "- Test: 12% "
      ]
    },
    {
      "cell_type": "markdown",
      "metadata": {
        "id": "cjujQ7Q-0aPP"
      },
      "source": [
        "### Splitting For Description\n",
        "This section will split the description task data into the train/test/val splits. Again, if you are creating the mixture model, go to the Query and Description section"
      ]
    },
    {
      "cell_type": "code",
      "metadata": {
        "id": "6bPX60g-loFE"
      },
      "source": [
        "np.random.seed(601)\n",
        "df = df.drop_duplicates(subset='input_text').reset_index(drop=True)\n",
        "temp_df = df[pd.isnull(df.ProductID)]\n",
        "test_df = df[~ pd.isnull(df.ProductID)].reset_index(drop=True).copy()\n",
        "msk = np.random.rand(len(temp_df)) < 0.85\n",
        "train_df = temp_df[msk].reset_index(drop=True).copy()\n",
        "val_df = temp_df[~ msk].reset_index(drop=True).copy()"
      ],
      "execution_count": 16,
      "outputs": []
    },
    {
      "cell_type": "code",
      "metadata": {
        "id": "wgm3DQiPUYZv"
      },
      "source": [
        "# Run cell if using the Original format. Need to fix the target label function\n",
        "train_df.target_text = [re.sub('^targets:\\s*', '', x) for x in train_df.target_text]\n",
        "val_df.target_text = [re.sub('^targets:\\s*', '', x) for x in val_df.target_text]\n",
        "test_df.target_text = [re.sub('^targets:\\s*', '', x) for x in test_df.target_text]"
      ],
      "execution_count": 9,
      "outputs": []
    },
    {
      "cell_type": "code",
      "metadata": {
        "id": "Fzi_WXe57QZu"
      },
      "source": [
        "# If no sections below are needed we can save\n",
        "train_df.to_pickle('folderOnColab/Data/training_set_single_task_original_format.pkl')\n",
        "test_df.to_pickle('folderOnColab/Data/test_set_single_task_original_format.pkl')\n",
        "val_df.to_pickle('folderOnColab/Data/validation_set_single_task_original_format.pkl')"
      ],
      "execution_count": 13,
      "outputs": []
    },
    {
      "cell_type": "code",
      "metadata": {
        "id": "0j2OUmE-7q-X"
      },
      "source": [
        "train_df = pd.read_pickle('folderOnColab/Data/training_set_single_task_original_format.pkl')\n",
        "test_df = pd.read_pickle('folderOnColab/Data/test_set_single_task_original_format.pkl')\n",
        "val_df = pd.read_pickle('folderOnColab/Data/validation_set_single_task_original_format.pkl')"
      ],
      "execution_count": 14,
      "outputs": []
    },
    {
      "cell_type": "markdown",
      "metadata": {
        "id": "Loo_-5DCvqb_"
      },
      "source": [
        "#### Adding Regular and Lower Case\n",
        "If you want to train the model on both regular and lowercase input then you will need to have the df in regular cased text and then run this section below"
      ]
    },
    {
      "cell_type": "code",
      "metadata": {
        "id": "TdoY6q_7SVrz"
      },
      "source": [
        "#### IF YOU WANT BOTH NORMAL AND LOWER CASE ######\n",
        "def both_cases_dataset(df: pd.DataFrame) -> pd.DataFrame:\n",
        "    '''\n",
        "    Takes in a dataframe with regular casing text and doubles it with\n",
        "    input_text being both regular case and lowercase\n",
        "    '''\n",
        "    temp = df.copy()\n",
        "    temp.input_text = [str(x).lower() for x in temp.input_text]\n",
        "    return pd.concat([df, temp], axis=0).reset_index(drop=True)"
      ],
      "execution_count": null,
      "outputs": []
    },
    {
      "cell_type": "code",
      "metadata": {
        "id": "eiy8ILKkSuBe"
      },
      "source": [
        "train_df = both_cases_dataset(train_df)\n",
        "test_df = both_cases_dataset(test_df)\n",
        "val_df = both_cases_dataset(val_df)"
      ],
      "execution_count": null,
      "outputs": []
    },
    {
      "cell_type": "markdown",
      "metadata": {
        "id": "m_lr7MQ10iX8"
      },
      "source": [
        "### Splitting For Both Query And Description\n",
        "This section splits the data if you are training a mixture model. "
      ]
    },
    {
      "cell_type": "code",
      "metadata": {
        "id": "yoGHwHC-0mY0"
      },
      "source": [
        "np.random.seed(601)\n",
        "\n",
        "temp_df_query = df_query[pd.isnull(df_query.ProductID)]\n",
        "temp_df_desc = df_desc[pd.isnull(df_desc.ProductID)]\n",
        "\n",
        "test_df_query = df_query[~ pd.isnull(df_query.ProductID)].reset_index(drop=True).copy()\n",
        "test_df_desc = df_desc[~ pd.isnull(df_desc.ProductID)].reset_index(drop=True).copy()\n",
        "\n",
        "msk_q = np.random.rand(len(temp_df_query)) < 0.85\n",
        "#msk_d = np.random.rand(len(temp_df_desc)) < 0.85\n",
        "\n",
        "train_df_query = temp_df_query[msk_q].reset_index(drop=True).copy()\n",
        "train_df_desc = temp_df_desc[msk_q].reset_index(drop=True).copy()\n",
        "\n",
        "val_df_query = temp_df_query[~ msk_q].reset_index(drop=True).copy()\n",
        "val_df_desc = temp_df_desc[~ msk_q].reset_index(drop=True).copy()\n",
        "\n",
        "train_df = pd.concat([train_df_query, train_df_desc], axis=0).reset_index(drop=True)\n",
        "test_df = pd.concat([test_df_query, test_df_desc], axis=0).reset_index(drop=True)\n",
        "val_df = pd.concat([val_df_query, val_df_desc], axis=0).reset_index(drop=True)"
      ],
      "execution_count": null,
      "outputs": []
    },
    {
      "cell_type": "code",
      "metadata": {
        "id": "50njZwUhKXvT"
      },
      "source": [
        "train_df.to_pickle('/home/Resources/datasets/medical-search/Gloves/training_set_multiple_tasks_original_format.pkl')\n",
        "test_df.to_pickle('/home/Resources/datasets/medical-search/Gloves/test_set_multiple_tasks_original_format.pkl')\n",
        "val_df.to_pickle('/home/Resources/datasets/medical-search/Gloves/validation_set_multiple_tasks_original_format.pkl')"
      ],
      "execution_count": null,
      "outputs": []
    },
    {
      "cell_type": "code",
      "metadata": {
        "id": "qcP3XDcXZGRs"
      },
      "source": [
        "# Hosted Runtime read in datasets for training/eval\n",
        "train_df = pd.read_pickle('folderOnColab/Data/training_set_single_task_original_format.pkl')\n",
        "test_df = pd.read_pickle('folderOnColab/Data/test_set_single_task_original_format.pkl')\n",
        "val_df = pd.read_pickle('folderOnColab/Data/validation_set_single_task_original_format.pkl')"
      ],
      "execution_count": 7,
      "outputs": []
    },
    {
      "cell_type": "code",
      "metadata": {
        "id": "MxXQRar0Dshv"
      },
      "source": [
        "# Local Runtime read in datasets for training/eval\n",
        "train_df = pd.read_pickle('/home/Resources/datasets/medical-search/Gloves/training_set_multiple_tasks_original_format.pkl')\n",
        "test_df = pd.read_pickle('/home/Resources/datasets/medical-search/Gloves/test_set_multiple_tasks_original_format.pkl')\n",
        "val_df = pd.read_pickle('/home/Resources/datasets/medical-search/Gloves/validation_set_multiple_tasks_original_format.pkl')"
      ],
      "execution_count": null,
      "outputs": []
    },
    {
      "cell_type": "markdown",
      "metadata": {
        "id": "8LtW0DOiEyA0"
      },
      "source": [
        "# T5 Model and Dataset"
      ]
    },
    {
      "cell_type": "markdown",
      "metadata": {
        "id": "2br1Yv8AFow7"
      },
      "source": [
        "## Dataset"
      ]
    },
    {
      "cell_type": "code",
      "metadata": {
        "id": "Xli9W-fiE0xq"
      },
      "source": [
        "class T5MedSearchDataset(Dataset):\n",
        "    '''\n",
        "    Wrapper that holds the data we need to train our T5 Model\n",
        "    '''\n",
        "    def __init__(self, df: pd.DataFrame, device: torch.device, dataset_type: str = 'Train',\n",
        "                 task: str = 'Single', input_length: int = 256, output_length: int = 128):\n",
        "        '''\n",
        "        df: A dataframe with column names input_text and target_text\n",
        "        dataset_type: Type of dataset out of choices Train, Validation, and Test\n",
        "        device: Device to send tensors to\n",
        "        task: String of number of tasks in dataset. Either \"Single\" or \"Multiple\". \n",
        "                If Multiple then dataset returns task type as well\n",
        "        '''\n",
        "        assert(dataset_type in ['Train', 'Validation', 'Test'])\n",
        "        self.tokenizer = T5Tokenizer.from_pretrained('t5-base')\n",
        "        self.input_text = df.input_text\n",
        "        self.target_text = df.target_text\n",
        "        self.df = df\n",
        "        self.dataset_type = dataset_type\n",
        "        self.device = device\n",
        "        self.task = task\n",
        "        self.input_length = input_length\n",
        "        self.output_length = output_length\n",
        "    def get_labels(self) -> pd.Series:\n",
        "        return self.target_text\n",
        "    def __len__(self):\n",
        "        assert(len(self.input_text) == len(self.target_text))\n",
        "        return len(self.target_text)\n",
        "    def __getitem__(self, idx) -> dict:\n",
        "        inputs = self.input_text[idx]\n",
        "        targets = self.target_text[idx]\n",
        "        dctInput = self.tokenizer(inputs, max_length=self.input_length,\n",
        "                                  padding='max_length', return_tensors='pt')\n",
        "        dctOutput = self.tokenizer(targets, max_length=self.output_length,\n",
        "                                  padding='max_length', return_tensors='pt')\n",
        "        if self.task == 'Multiple':\n",
        "            return_dict = {\n",
        "                'input_ids': dctInput.input_ids,\n",
        "                'attention_mask': dctInput.attention_mask,\n",
        "                'labels': dctOutput.input_ids,\n",
        "                'targets': targets,\n",
        "                'type': self.df.at[idx, 'type']\n",
        "            }\n",
        "        else:\n",
        "            return_dict = {\n",
        "                'input_ids': dctInput.input_ids,\n",
        "                'attention_mask': dctInput.attention_mask,\n",
        "                'labels': dctOutput.input_ids,\n",
        "                'targets': targets\n",
        "            }\n",
        "        return return_dict"
      ],
      "execution_count": 8,
      "outputs": []
    },
    {
      "cell_type": "markdown",
      "metadata": {
        "id": "AOcq-HCNE1is"
      },
      "source": [
        "## Model Training/Eval Functions"
      ]
    },
    {
      "cell_type": "markdown",
      "metadata": {
        "id": "0Joqv_XKK__v"
      },
      "source": [
        "### Evaluation Metrics\n",
        "The V2 eval metrics allow for a better evaluation in which order matters for the target label phrases and also it can evaluate the Orginal Label Format with the extra id tokens"
      ]
    },
    {
      "cell_type": "code",
      "metadata": {
        "id": "5xFtR5n6_hE6"
      },
      "source": [
        "def comparing_labels(dict1: dict, dict2: dict) -> dict:\n",
        "    '''\n",
        "    Input:\n",
        "        dict1: Dictionary containing the true labels\n",
        "        dict2: Dictionary containing the predicted labels\n",
        "\n",
        "        **Uses the keys of the target dict only**\n",
        "    Output:\n",
        "        Dictionary containing old dicts keys and values of 1 if the\n",
        "        values matched and 0 if they dont\n",
        "    '''\n",
        "\n",
        "    dct = dict()\n",
        "    for k,v in zip(dict1.keys(), dict1.values()):\n",
        "        # Make sure that all elements for label are the same\n",
        "        dct[k] = 1. if set(v) == set(dict2.get(k, [])) else 0.\n",
        "    return dct\n",
        "\n",
        "def answer_to_dict(ans: str) -> dict:\n",
        "    '''\n",
        "    Input:\n",
        "        ans: String of the T5 output or target label\n",
        "    Output:\n",
        "        A dictionary with all of the label classes as keys and the\n",
        "        respective label as values\n",
        "    '''\n",
        "    labels = [i.strip() for i in re.sub(r'^targets:\\s', '', ans).split(',') if i != '' and i != ' ']\n",
        "    dct = dict()\n",
        "    #print(labels)\n",
        "    for i in labels:\n",
        "        lbl = str(i).split(':')\n",
        "        #print(lbl)\n",
        "        try:\n",
        "            dct[lbl[0]] = lbl[1].split()\n",
        "        except:\n",
        "            continue\n",
        "    return dct"
      ],
      "execution_count": 5,
      "outputs": []
    },
    {
      "cell_type": "code",
      "metadata": {
        "id": "Di34HJfiHNxv"
      },
      "source": [
        "def comparing_labels_V2(dict1: dict, dict2: dict, n_a: bool = False) -> dict:\n",
        "    '''\n",
        "    Input:\n",
        "        dict1: Dictionary containing the true labels\n",
        "        dict2: Dictionary containing the predicted labels\n",
        "        n_a: Bool that indicates if we want to include results of a label prediction if the target is none.\n",
        "            If true we won't include none\n",
        "\n",
        "        **Uses the keys of the target dict only**\n",
        "    Output:\n",
        "        Dictionary containing old dicts keys and values of 1 if the\n",
        "        values matched and 0 if they dont. If n_a is true then the value will\n",
        "        be np.nan if BOTH target and label are none, 0 if the label is wrong,\n",
        "        and 1 if the predicted label is correct\n",
        "    '''\n",
        "\n",
        "    #assert(set(dict1.keys()) == set(dict2.keys()))\n",
        "    dct = dict()\n",
        "    for k,v in zip(dict1.keys(), dict1.values()):\n",
        "        # Make sure that all elements for label are the same\n",
        "        if n_a:\n",
        "            if v == ['none']:\n",
        "                if dict2.get(k, []) == ['none']:\n",
        "                    dct[k] = np.nan\n",
        "                else:\n",
        "                    dct[k] = 0.\n",
        "            else:\n",
        "                dct[k] = 1. if set(v) == set(dict2.get(k, [])) else 0.\n",
        "        else:\n",
        "            dct[k] = 1. if set(v) == set(dict2.get(k, [])) else 0.\n",
        "    return dct\n",
        "\n",
        "def answer_to_dict_v2(ans: str, format: str = 'Label', id_to_label: dict = None, na = True) -> dict:\n",
        "    '''\n",
        "    Input:\n",
        "        ans: String of the T5 output or target label\n",
        "        format: str of 'Original' or 'Label' that tells the function how the input will look\n",
        "        id_to_label: If format equals Original then a id_to_label must be provided \n",
        "                        to change id number to label name\n",
        "        na: Boolean. If True then we include the keys with value predicted as none. If False\n",
        "            then we remove them\n",
        "    Output:\n",
        "        A dictionary with all of the label classes as keys and the\n",
        "        respective label as values\n",
        "    '''\n",
        "    if format == 'Label':\n",
        "        labels = [i.strip() for i in re.sub(r'^targets:\\s', '', ans).split('|') if i != '' and i != ' ']\n",
        "        dct = dict()\n",
        "        for i in labels:\n",
        "            lbl = str(i).split(':')\n",
        "            try:\n",
        "                dct[lbl[0]] = [j.strip() for j in lbl[1].split(',')]\n",
        "            except:\n",
        "                continue\n",
        "        return dct\n",
        "    elif format == 'Original':\n",
        "        if id_to_label == None:\n",
        "            raise ValueError(\"id_to_number can't be None when format is set to Original\")\n",
        "\n",
        "        labels = [i.strip() for i in re.sub('^targets:\\s', '', ans).split('<extra_id_') if i != '' and i != ' ']\n",
        "        dct = dict()\n",
        "        for i in labels:\n",
        "            lbl = re.split('>', str(i), maxsplit=1)\n",
        "            try:\n",
        "                if not na and lbl[1].strip() == 'none':\n",
        "                    continue\n",
        "                dct[id_to_label.get(lbl[0], None)] = [j.strip() for j in lbl[1].split(',')]\n",
        "            except:\n",
        "                continue\n",
        "        return dct\n",
        "    else:\n",
        "        raise ValueError('Incorrect value given for the format argument')"
      ],
      "execution_count": 13,
      "outputs": []
    },
    {
      "cell_type": "markdown",
      "metadata": {
        "id": "FLaA5Ci7LG-w"
      },
      "source": [
        "### Training and Validation Functions"
      ]
    },
    {
      "cell_type": "code",
      "metadata": {
        "id": "lu-q6U9PHu_R"
      },
      "source": [
        "def cleanup_T5_tokenization(lst: list, input: bool = False) -> list:\n",
        "    '''\n",
        "    Takes a list of predicted spans and cleans up each string so that they \n",
        "    match the output ie gets rid of padding and unnecessary tokens\n",
        "    '''\n",
        "    for i,v in enumerate(lst):\n",
        "        tmp = re.sub('^<pad> ', '', v)\n",
        "        tmp = re.sub('<pad>', '', tmp)\n",
        "        tmp = re.sub('</s>', '', tmp)\n",
        "        tmp = re.sub('<', ' <', tmp).strip()\n",
        "        if not input:\n",
        "            # Gets rid of last \"extra\" <extra_id_> token that target requires\n",
        "            tmp = re.sub('\\<extra_id_[0-9]+\\>$', '', tmp)\n",
        "        lst[i] = tmp.strip()\n",
        "    return lst "
      ],
      "execution_count": 10,
      "outputs": []
    },
    {
      "cell_type": "code",
      "metadata": {
        "id": "rfpwinWg0_uh"
      },
      "source": [
        "def validate_model(T5: T5ForConditionalGeneration, data_loader: torch.utils.data.DataLoader, \n",
        "                   label_format: str, id_to_label: dict, wand: bool = False, verbose: bool = False) -> None:\n",
        "    '''\n",
        "    Input:\n",
        "        T5: T5 model being validated\n",
        "        data_loader: Pytorch DataLoader\n",
        "        label_format: Str tells us if the targets are Original or Label format\n",
        "        id_to_label: dictionary with id numbers as keys and label as value. Must be not null when \n",
        "                    lable format is set to Original\n",
        "        wand: Teller for if we should log with wandb\n",
        "        verbose: Bool. If true prints Inputs, Predicted, and Targets\n",
        "    Output:\n",
        "        No output returned but it will print and send results\n",
        "        to wandb\n",
        "    '''\n",
        "    \n",
        "    print('Validating Model')\n",
        "    \n",
        "    device = torch.device(\"cuda\" if torch.cuda.is_available() else \"cpu\")\n",
        "    tokenizer = T5Tokenizer.from_pretrained('t5-base')\n",
        "    val_loss = []\n",
        "    results = []\n",
        "    with torch.no_grad():\n",
        "        for ind, val in tqdm(enumerate(data_loader)):\n",
        "            input_ids = val[\"input_ids\"].to(device).squeeze(1)\n",
        "            attention_mask = val[\"attention_mask\"].to(device).squeeze(1)\n",
        "            labels = val['labels'].to(device).squeeze(1)\n",
        "            targets = val['targets']\n",
        "\n",
        "            loss = T5.forward(input_ids=input_ids, attention_mask=attention_mask, labels=labels).loss\n",
        "            val_loss.append(loss.item())\n",
        "\n",
        "            generated_ids = T5.generate(input_ids=input_ids, attention_mask=attention_mask, max_length=100).squeeze()\n",
        "\n",
        "            if label_format == 'Label':\n",
        "                predicted_span = tokenizer.batch_decode(generated_ids, skip_special_tokens=True, clean_up_tokenization_spaces=True)\n",
        "\n",
        "                desc = [tokenizer.convert_tokens_to_string(tokenizer.convert_ids_to_tokens(input_ids[i], skip_special_tokens=True)) for i in range(input_ids.shape[0])]  \n",
        "\n",
        "                for i, v in enumerate(predicted_span):\n",
        "                    if verbose:\n",
        "                        print(f'Input: {desc[i]}')\n",
        "                        print(f'Predicted: {v}')\n",
        "                        print(f'Target: {targets[i]}', '\\n')\n",
        "                    pred_dict = answer_to_dict_v2(v)\n",
        "                    targ_dict = answer_to_dict_v2(targets[i])\n",
        "                    results.append(comparing_labels_V2(targ_dict, pred_dict))\n",
        "            else:\n",
        "                predicted_span = tokenizer.batch_decode(generated_ids, skip_special_tokens=False, clean_up_tokenization_spaces=False)\n",
        "                predicted_span = cleanup_T5_tokenization(predicted_span, input=False)\n",
        "                targets = [re.sub('\\<extra_id_[0-9]+\\>$', '', t).strip() for t in targets]\n",
        "\n",
        "                desc = [tokenizer.convert_tokens_to_string(tokenizer.convert_ids_to_tokens(input_ids[i], skip_special_tokens=False)) for i in range(input_ids.shape[0])]\n",
        "                desc = cleanup_T5_tokenization(desc, input=True)\n",
        "\n",
        "                for i, v in enumerate(predicted_span):\n",
        "                    if verbose:\n",
        "                        print(f'Input: {desc[i]}')\n",
        "                        print(f'Predicted: {v}')\n",
        "                        print(f'Target: {targets[i]}', '\\n')\n",
        "                    pred_dict = answer_to_dict_v2(v, 'Original', id_to_label)\n",
        "                    targ_dict = answer_to_dict_v2(targets[i], 'Original', id_to_label)\n",
        "                    results.append(comparing_labels_V2(targ_dict, pred_dict, n_a=False))\n",
        "    \n",
        "    \n",
        "    \n",
        "    results_df = pd.DataFrame(results)\n",
        "    print(f'Validation Loss: {np.mean(val_loss)}')\n",
        "    if wand:\n",
        "        wandb.log({'Validation Loss': np.mean(val_loss)})\n",
        "    \n",
        "    for i in results_df.columns:\n",
        "        print(f'Accuracy of {i} is: {np.nanmean(results_df[i])}')\n",
        "        if wand:\n",
        "            wandb.log({f'{str(i)} accuracy': np.nanmean(results_df[i])})\n",
        "\n",
        "    return\n"
      ],
      "execution_count": 11,
      "outputs": []
    },
    {
      "cell_type": "code",
      "metadata": {
        "id": "eFkmHiEyIb6H"
      },
      "source": [
        "####   TEMPORARY CELL USED TO TEST VALIDATION FUNCTION ######\n",
        "T5 = T5ForConditionalGeneration.from_pretrained('t5-base', return_dict=True)\n",
        "device = torch.device(\"cuda\" if torch.cuda.is_available() else \"cpu\")\n",
        "T5.to(device)\n",
        "val_data = T5MedSearchDataset(val_df, 'Validation', input_length=512)\n",
        "valloader = torch.utils.data.DataLoader(val_data, batch_size=10, shuffle=True)\n",
        "id_to_label = {'0': 'color', '1': 'size', '2': 'type1', '3': 'type2', '4': 'type3', '5': 'boxes', '6': 'case', \n",
        "                     '7': 'use', '8': 'material', '9': 'thickness', '10': 'length', '11': 'brand', '12': 'company'}\n",
        "validate_model(T5, valloader, 'Original', id_to_label)"
      ],
      "execution_count": null,
      "outputs": []
    },
    {
      "cell_type": "code",
      "metadata": {
        "id": "NgpH5xGlE35E"
      },
      "source": [
        "def train_T5(train_df: pd.DataFrame, model:T5ForConditionalGeneration, val_df: pd.DataFrame = None,\n",
        "             epochs: int = 1, batch_size: int = 2, lr: float = 1e-5, log: int = 20,\n",
        "             wand: bool = False, training_type: bool = False, input_length: int = 256,\n",
        "             label_format: str = 'Original', id_to_label: dict = None, val_verbose: bool = False) -> T5ForConditionalGeneration:\n",
        "    '''\n",
        "    This function aims to train a T5 model on our medical-search labelling task. It relies on wandb\n",
        "\n",
        "    Input:\n",
        "        train_df: Pandas df of our training set\n",
        "        val_df: Optional df used for validation\n",
        "        pretrain: String containing path to pretrained model\n",
        "        epochs: Number of epochs to train the model\n",
        "        batch_size: Number of values in each batch\n",
        "        lr: learning rate\n",
        "        log: Number of batches to run through before recording key metrics\n",
        "        wand: Teller for if we should log with wandb\n",
        "        training_type: Bool that tells if we are training on multiple tasks or not\n",
        "        input_length: Int max length of input for model\n",
        "        label_format: Str that tells us if our labels are original or label format\n",
        "        id_to_label: Dict if label_format is set to original. Has keys of the ints of the extra_id numbers\n",
        "                    and values of the corresponding label name\n",
        "        val_verbose: Bool if true then prints Inputs, Predicted, and Targets\n",
        "    Output:\n",
        "        Trained T5 model\n",
        "    '''\n",
        "    # Load model and tokenizer\n",
        "    device = torch.device(\"cuda\" if torch.cuda.is_available() else \"cpu\")\n",
        "    print('Loading model and tokenizer')\n",
        "    T5 = model\n",
        "    T5.to(device)\n",
        "\n",
        "\n",
        "    # Create the data loaders for training and validation if needed\n",
        "    print('Creating datasets')\n",
        "    if training_type:\n",
        "        train_data = T5MedSearchDataset(train_df, 'Train', task='Multiple', input_length=input_length)\n",
        "    else:\n",
        "        train_data = T5MedSearchDataset(train_df, 'Train', input_length=input_length)\n",
        "    trainloader = torch.utils.data.DataLoader(train_data, batch_size=batch_size, shuffle=True)\n",
        "\n",
        "    if val_df is not None:\n",
        "        val_data = T5MedSearchDataset(val_df, 'Validation', input_length=input_length)\n",
        "        valloader = torch.utils.data.DataLoader(val_data, batch_size=10, shuffle=True)\n",
        "    \n",
        "    # Set up the model's optimizer\n",
        "    optimizer = optim.Adam(T5.parameters(), lr=lr)\n",
        "\n",
        "    # Train the model and get the loss per iteration\n",
        "    print('Beginning Training')\n",
        "    for e in range(epochs):\n",
        "        print(f\"Training epoch {e + 1}\")\n",
        "        train_loss = []\n",
        "        temp_loss = []\n",
        "        for ind, val in tqdm(enumerate(trainloader)):\n",
        "            input_ids = val[\"input_ids\"].to(device).squeeze(1)\n",
        "            attention_mask = val[\"attention_mask\"].to(device).squeeze(1)\n",
        "            labels = val['labels'].to(device).squeeze(1)\n",
        "            optimizer.zero_grad()\n",
        "            loss = T5.forward(input_ids=input_ids, attention_mask=attention_mask, labels=labels).loss\n",
        "            loss.backward()\n",
        "            optimizer.step()\n",
        "            train_loss.append(loss.item())\n",
        "            temp_loss.append(loss.item())\n",
        "            if ind % log == 0:\n",
        "                if wand:\n",
        "                    wandb.log({'Train loss': np.mean(temp_loss)})\n",
        "                print(f'Train loss: {np.mean(temp_loss)}')\n",
        "                temp_loss = []\n",
        "                if val_df is not None and ind != 0:\n",
        "                    validate_model(T5, valloader, label_format, id_to_label, wand, val_verbose)\n",
        "        print(f'The average loss for this epoch was {np.mean(train_loss)}')\n",
        "    \n",
        "    print('Finished Training!')\n",
        "    return T5"
      ],
      "execution_count": 25,
      "outputs": []
    },
    {
      "cell_type": "markdown",
      "metadata": {
        "id": "zHXwjc4tKDhk"
      },
      "source": [
        "# Perplexity Scoring\n",
        "In hopes of not having to train different models to find out results, we are going to test the perplexity of the inputs to see which is the lowest. This should then indicate which format will train the best model"
      ]
    },
    {
      "cell_type": "code",
      "metadata": {
        "id": "4sV7pZkh_cuf"
      },
      "source": [
        "tokenizer = T5Tokenizer.from_pretrained('t5-base')\n",
        "device = torch.device(\"cuda\" if torch.cuda.is_available() else \"cpu\")\n",
        "T5 = T5ForConditionalGeneration.from_pretrained('t5-base', return_dict=True)\n",
        "T5.to(device)"
      ],
      "execution_count": null,
      "outputs": []
    },
    {
      "cell_type": "code",
      "metadata": {
        "id": "GNgw9xEAKS_B"
      },
      "source": [
        "desc = 'description: hand armor tranzonic acquisition corp. nitrile sterile powder free latex free exam gloves black 6 mil 10/100 - xx-large 12\" length. '\n",
        "add_on = \"\"\"The shade of this item is <extra_id_0>. The fit is <extra_id_1>. The type1 is <extra_id_2>. Its powdered status is <extra_id_3>. The latex-free status of this item is <extra_id_4>. This item comes in <extra_id_5> per box. Each item has <extra_id_6> per case. This item is used for <extra_id_7>. This item is made out of <extra_id_8>. It is <extra_id_9> thick. This item is <extra_id_10> long. The brand family of this item is <extra_id_11>. The company who produces this item is <extra_id_12>.\"\"\"\n",
        "#target = '<extra_id_0> tranzonic acquisition corp. <extra_id_1>'\n",
        "#good_add_on = \"The color of this item is <extra_id_0>. The size is <extra_id_1>. This item's sterile status is <extra_id_2>. The powdered status is <extra_id_3>. Its latex-free status is <extra_id_4>. It comes in <extra_id_5> per box. There are <extra_id_6> per case. It is used for <extra_id_7>. The material of this item is <extra_id_8>. This item is <extra_id_9> thick. It is <extra_id_10> long. The product name is <extra_id_11>. <extra_id_12> manufactures this\"\n",
        "#bad_add_on = \"Its color is <extra_id_0>. Its size is <extra_id_1>. The sterile status of this item is <extra_id_2>. The item's powdered status is <extra_id_3>. The item's latex-free status is <extra_id_4>. The pairs per box is <extra_id_5>. The boxes per case is <extra_id_6>. The use is <extra_id_7>. The material is <extra_id_8>. Thickness is <extra_id_9>. The length is <extra_id_10>. The branding for this item is <extra_id_11>. The company is <extra_id_12>\"\n",
        "target = 'targets: <extra_id_0> black <extra_id_1> extra-extra-large <extra_id_2> sterile <extra_id_3> powder-free <extra_id_4> latex-free <extra_id_5> 100 pairs <extra_id_6> 10 boxes <extra_id_7> exam <extra_id_8> nitrile <extra_id_9> 6mil <extra_id_10> 12in <extra_id_11> hand armor <extra_id_12> tranzonic acquisition corp. <extra_id_13>'\n",
        "\n",
        "#desc = 'description: uline wht 3 mil nitrile glvs - xl uline , inc. white gloves size x-large The color is <extra_id_0>. The size is <extra_id_1>. The type1 is <extra_id_2>. The type2 is <extra_id_3>. The pairs per box is <extra_id_4>. The number of boxes per case is <extra_id_5>. The use is <extra_id_6>. The material is <extra_id_7>. The thickness is <extra_id_8>. The length is <extra_id_9>. The brand is <extra_id_10>, and the variation is <extra_id_11>. The company is <extra_id_12>'\n",
        "#desc_target = 'targets: <extra_id_0> white <extra_id_1> extra-large <extra_id_2> none <extra_id_3> none <extra_id_4> none <extra_id_5> none <extra_id_6> none <extra_id_7> nitrile <extra_id_8> 3mil <extra_id_9> none <extra_id_10> none <extra_id_11> none <extra_id_12> uline inc. <extra_id_13>'"
      ],
      "execution_count": 17,
      "outputs": []
    },
    {
      "cell_type": "code",
      "metadata": {
        "colab": {
          "base_uri": "https://localhost:8080/"
        },
        "id": "92A8hU2GKV-b",
        "outputId": "ecdd413b-1e07-4656-feb0-568a50c3c035"
      },
      "source": [
        "inp = desc + add_on\n",
        "print(inp)\n",
        "dct = tokenizer(inp, max_length=512, padding='max_length', return_tensors='pt')\n",
        "desc_target = tokenizer(target, return_tensors='pt')['input_ids']\n",
        "tmp = T5.forward(input_ids=dct['input_ids'].to(device), attention_mask=dct['attention_mask'].to(device), labels=desc_target.to(device))\n",
        "desc_target.cpu(), dct['input_ids'].cpu(), dct['attention_mask'].cpu()\n",
        "print('')"
      ],
      "execution_count": 18,
      "outputs": [
        {
          "output_type": "stream",
          "text": [
            "description: hand armor tranzonic acquisition corp. nitrile sterile powder free latex free exam gloves black 6 mil 10/100 - xx-large 12\" length. The shade of this item is <extra_id_0>. The fit is <extra_id_1>. The type1 is <extra_id_2>. Its powdered status is <extra_id_3>. The latex-free status of this item is <extra_id_4>. This item comes in <extra_id_5> per box. Each item has <extra_id_6> per case. This item is used for <extra_id_7>. This item is made out of <extra_id_8>. It is <extra_id_9> thick. This item is <extra_id_10> long. The brand family of this item is <extra_id_11>. The company who produces this item is <extra_id_12>.\n",
            "\n"
          ],
          "name": "stdout"
        }
      ]
    },
    {
      "cell_type": "code",
      "metadata": {
        "colab": {
          "base_uri": "https://localhost:8080/"
        },
        "id": "wYhizsHyFDow",
        "outputId": "8c660d2c-9233-49cc-e453-e5dcc0834e30"
      },
      "source": [
        "tmp.loss"
      ],
      "execution_count": 19,
      "outputs": [
        {
          "output_type": "execute_result",
          "data": {
            "text/plain": [
              "tensor(2.8458, device='cuda:0', grad_fn=<NllLossBackward>)"
            ]
          },
          "metadata": {
            "tags": []
          },
          "execution_count": 19
        }
      ]
    },
    {
      "cell_type": "markdown",
      "metadata": {
        "id": "zLq9254JLM_d"
      },
      "source": [
        "# Training\n",
        "This section trains the T5 with the data we processed earlier"
      ]
    },
    {
      "cell_type": "code",
      "metadata": {
        "id": "kE4cgbDIK_mb",
        "colab": {
          "base_uri": "https://localhost:8080/",
          "height": 614
        },
        "outputId": "9400fc84-c1eb-45ec-eace-e1af3ae0b071"
      },
      "source": [
        "# Start a new run\n",
        "wandb.init(project='medical-search-gloves', entity='spencervagg')"
      ],
      "execution_count": 26,
      "outputs": [
        {
          "output_type": "display_data",
          "data": {
            "application/javascript": [
              "\n",
              "        window._wandbApiKey = new Promise((resolve, reject) => {\n",
              "            function loadScript(url) {\n",
              "            return new Promise(function(resolve, reject) {\n",
              "                let newScript = document.createElement(\"script\");\n",
              "                newScript.onerror = reject;\n",
              "                newScript.onload = resolve;\n",
              "                document.body.appendChild(newScript);\n",
              "                newScript.src = url;\n",
              "            });\n",
              "            }\n",
              "            loadScript(\"https://cdn.jsdelivr.net/npm/postmate/build/postmate.min.js\").then(() => {\n",
              "            const iframe = document.createElement('iframe')\n",
              "            iframe.style.cssText = \"width:0;height:0;border:none\"\n",
              "            document.body.appendChild(iframe)\n",
              "            const handshake = new Postmate({\n",
              "                container: iframe,\n",
              "                url: 'https://wandb.ai/authorize'\n",
              "            });\n",
              "            const timeout = setTimeout(() => reject(\"Couldn't auto authenticate\"), 5000)\n",
              "            handshake.then(function(child) {\n",
              "                child.on('authorize', data => {\n",
              "                    clearTimeout(timeout)\n",
              "                    resolve(data)\n",
              "                });\n",
              "            });\n",
              "            })\n",
              "        });\n",
              "    "
            ],
            "text/plain": [
              "<IPython.core.display.Javascript object>"
            ]
          },
          "metadata": {
            "tags": []
          }
        },
        {
          "output_type": "stream",
          "text": [
            "\u001b[34m\u001b[1mwandb\u001b[0m: Appending key for api.wandb.ai to your netrc file: /root/.netrc\n"
          ],
          "name": "stderr"
        },
        {
          "output_type": "display_data",
          "data": {
            "text/html": [
              "\n",
              "                Tracking run with wandb version 0.10.31<br/>\n",
              "                Syncing run <strong style=\"color:#cdcd00\">different-oath-11</strong> to <a href=\"https://wandb.ai\" target=\"_blank\">Weights & Biases</a> <a href=\"https://docs.wandb.com/integrations/jupyter.html\" target=\"_blank\">(Documentation)</a>.<br/>\n",
              "                Project page: <a href=\"https://wandb.ai/spencervagg/medical-search-gloves\" target=\"_blank\">https://wandb.ai/spencervagg/medical-search-gloves</a><br/>\n",
              "                Run page: <a href=\"https://wandb.ai/spencervagg/medical-search-gloves/runs/4mjfjgch\" target=\"_blank\">https://wandb.ai/spencervagg/medical-search-gloves/runs/4mjfjgch</a><br/>\n",
              "                Run data is saved locally in <code>/content/wandb/run-20210602_220241-4mjfjgch</code><br/><br/>\n",
              "            "
            ],
            "text/plain": [
              "<IPython.core.display.HTML object>"
            ]
          },
          "metadata": {
            "tags": []
          }
        },
        {
          "output_type": "execute_result",
          "data": {
            "text/plain": [
              "<wandb.sdk.wandb_run.Run at 0x7ff9d6f01790>"
            ],
            "text/html": [
              "<h1>Run(4mjfjgch)</h1><iframe src=\"https://wandb.ai/spencervagg/medical-search-gloves/runs/4mjfjgch\" style=\"border:none;width:100%;height:400px\"></iframe>"
            ]
          },
          "metadata": {
            "tags": []
          },
          "execution_count": 26
        }
      ]
    },
    {
      "cell_type": "code",
      "metadata": {
        "id": "s-SanuVS8yO0",
        "colab": {
          "base_uri": "https://localhost:8080/",
          "height": 132,
          "referenced_widgets": [
            "e33f2b90c2bf40179188a24dae004431",
            "b5f37a78133e47a4bc1160438e30c732",
            "a770e69480234d0bab2d673cc590910f",
            "518fe3ce09d44b21801ae25e4edadd30",
            "10b3070347c64fa6b40a3aad710af295",
            "1c1003cf674b4053938b569bfb3477f8",
            "941e695df3d54295a2dbb48e07750cb1",
            "1fa02e6c1d604b78bc6deaa81258e263",
            "1d6ad17ccd2e40618b35a1dfe3b6249c",
            "d0a17cab1dcb4ea19c5dd75382429b63",
            "812d2840d31c4779aa368f8c1d0735e9",
            "50877076cf6745b2b0034d77aa00e221",
            "5cc91e792e9f4791b6aaf8873e89ba7a",
            "f1b0f3d9ec2248dc863eb42c9ee29160",
            "cc15b8e7ed94489c82f4b0b604ee0bb1",
            "2d69cb5ab8fa425dad5934821cf1e31d"
          ]
        },
        "outputId": "a74f89a3-2812-4187-feb0-b5d196add860"
      },
      "source": [
        "# Base model\n",
        "model = T5ForConditionalGeneration.from_pretrained('t5-base', return_dict=True)\n",
        "\n",
        "# Log gradients and model parameters\n",
        "wandb.watch(model)"
      ],
      "execution_count": 27,
      "outputs": [
        {
          "output_type": "display_data",
          "data": {
            "application/vnd.jupyter.widget-view+json": {
              "model_id": "e33f2b90c2bf40179188a24dae004431",
              "version_minor": 0,
              "version_major": 2
            },
            "text/plain": [
              "HBox(children=(FloatProgress(value=0.0, description='Downloading', max=1199.0, style=ProgressStyle(description…"
            ]
          },
          "metadata": {
            "tags": []
          }
        },
        {
          "output_type": "stream",
          "text": [
            "\n"
          ],
          "name": "stdout"
        },
        {
          "output_type": "display_data",
          "data": {
            "application/vnd.jupyter.widget-view+json": {
              "model_id": "1d6ad17ccd2e40618b35a1dfe3b6249c",
              "version_minor": 0,
              "version_major": 2
            },
            "text/plain": [
              "HBox(children=(FloatProgress(value=0.0, description='Downloading', max=891691430.0, style=ProgressStyle(descri…"
            ]
          },
          "metadata": {
            "tags": []
          }
        },
        {
          "output_type": "stream",
          "text": [
            "\n"
          ],
          "name": "stdout"
        },
        {
          "output_type": "execute_result",
          "data": {
            "text/plain": [
              "[<wandb.wandb_torch.TorchGraph at 0x7ff9d04f7390>]"
            ]
          },
          "metadata": {
            "tags": []
          },
          "execution_count": 27
        }
      ]
    },
    {
      "cell_type": "code",
      "metadata": {
        "id": "qCvpkbGCSELv"
      },
      "source": [
        "id_to_label = {'0': 'color', '1': 'size', '2': 'type1', '3': 'type2', '4': 'type3', '5': 'boxes', '6': 'case', \n",
        "                     '7': 'use', '8': 'material', '9': 'thickness', '10': 'length', '11': 'brand', '12': 'company'}"
      ],
      "execution_count": 28,
      "outputs": []
    },
    {
      "cell_type": "code",
      "metadata": {
        "id": "tJQjL-8UUavQ",
        "colab": {
          "base_uri": "https://localhost:8080/",
          "height": 1000,
          "referenced_widgets": [
            "34bea88d46c84978a58547e4c2b6c146",
            "ab7c26956de84148b0b4ba9c3f637c9f",
            "0a1b5a08044b493fa89bc1045a23dc4a",
            "7ac76ed6fd914eb6b8c91496d5dd7ebe",
            "1e59efa4f1894fe99d5fa64b43616c17",
            "68aa471a145f400aa47eee7d72724b68",
            "d7d1f962c2ca4309bcda3cbbe373e33a",
            "4420b7070b2d4f0f84cccd589a2a8f28",
            "8639f04897434b5d9887c83306047d3a",
            "c86ec74753df4bccabf242b5dd7a9bf1",
            "6124b4dac32b4e828ab09a2ec92f12d5",
            "e56cc28464a046249cef282dd84e2fd4",
            "9946d3d6823244fb8e63600505e59c36",
            "0bdd36854080407f8878ace75e6c46a2",
            "8846ead80c6640aa9dcd4bec080a1f1f",
            "033d9cf23484466cae942b33424f57e7"
          ]
        },
        "outputId": "b1b46566-87cc-4d2a-e358-abb290781340"
      },
      "source": [
        "T5 = train_T5(train_df, model, val_df=val_df, batch_size=10, epochs=5, lr=1e-4, log=100, training_type=False, input_length=512,\n",
        "              label_format='Original', id_to_label=id_to_label, val_verbose=False, wand=True)"
      ],
      "execution_count": 29,
      "outputs": [
        {
          "output_type": "stream",
          "text": [
            "Loading model and tokenizer\n",
            "Creating datasets\n"
          ],
          "name": "stdout"
        },
        {
          "output_type": "display_data",
          "data": {
            "application/vnd.jupyter.widget-view+json": {
              "model_id": "34bea88d46c84978a58547e4c2b6c146",
              "version_minor": 0,
              "version_major": 2
            },
            "text/plain": [
              "HBox(children=(FloatProgress(value=0.0, description='Downloading', max=791656.0, style=ProgressStyle(descripti…"
            ]
          },
          "metadata": {
            "tags": []
          }
        },
        {
          "output_type": "stream",
          "text": [
            "\n"
          ],
          "name": "stdout"
        },
        {
          "output_type": "display_data",
          "data": {
            "application/vnd.jupyter.widget-view+json": {
              "model_id": "8639f04897434b5d9887c83306047d3a",
              "version_minor": 0,
              "version_major": 2
            },
            "text/plain": [
              "HBox(children=(FloatProgress(value=0.0, description='Downloading', max=1389353.0, style=ProgressStyle(descript…"
            ]
          },
          "metadata": {
            "tags": []
          }
        },
        {
          "output_type": "stream",
          "text": [
            "\n"
          ],
          "name": "stdout"
        },
        {
          "output_type": "stream",
          "text": [
            "\r0it [00:00, ?it/s]"
          ],
          "name": "stderr"
        },
        {
          "output_type": "stream",
          "text": [
            "Beginning Training\n",
            "Training epoch 1\n"
          ],
          "name": "stdout"
        },
        {
          "output_type": "stream",
          "text": [
            "\r1it [00:01,  1.85s/it]"
          ],
          "name": "stderr"
        },
        {
          "output_type": "stream",
          "text": [
            "Train loss: 14.005777359008789\n"
          ],
          "name": "stdout"
        },
        {
          "output_type": "stream",
          "text": [
            "100it [02:30,  1.54s/it]"
          ],
          "name": "stderr"
        },
        {
          "output_type": "stream",
          "text": [
            "Train loss: 0.4819963195174932\n",
            "Validating Model\n"
          ],
          "name": "stdout"
        },
        {
          "output_type": "stream",
          "text": [
            "\n",
            "0it [00:00, ?it/s]\u001b[A\n",
            "1it [00:02,  2.09s/it]\u001b[A\n",
            "2it [00:04,  2.10s/it]\u001b[A\n",
            "3it [00:06,  2.10s/it]\u001b[A\n",
            "4it [00:08,  2.11s/it]\u001b[A\n",
            "5it [00:10,  2.07s/it]\u001b[A\n",
            "6it [00:12,  2.10s/it]\u001b[A\n",
            "7it [00:14,  2.09s/it]\u001b[A\n",
            "8it [00:16,  2.10s/it]\u001b[A\n",
            "9it [00:18,  2.08s/it]\u001b[A\n",
            "10it [00:20,  2.08s/it]\u001b[A\n",
            "11it [00:23,  2.11s/it]\u001b[A\n",
            "12it [00:25,  2.09s/it]\u001b[A\n",
            "13it [00:27,  2.08s/it]\u001b[A\n",
            "14it [00:29,  2.05s/it]\u001b[A\n",
            "15it [00:31,  2.04s/it]\u001b[A\n",
            "16it [00:33,  2.04s/it]\u001b[A\n",
            "17it [00:35,  2.04s/it]\u001b[A\n",
            "18it [00:37,  2.05s/it]\u001b[A\n",
            "19it [00:39,  2.04s/it]\u001b[A\n",
            "20it [00:41,  2.05s/it]\u001b[A\n",
            "21it [00:43,  2.06s/it]\u001b[A\n",
            "22it [00:45,  2.06s/it]\u001b[A\n",
            "23it [00:47,  2.10s/it]\u001b[A\n",
            "24it [00:49,  2.09s/it]\u001b[A\n",
            "25it [00:51,  2.09s/it]\u001b[A\n",
            "26it [00:54,  2.11s/it]\u001b[A\n",
            "27it [00:56,  2.07s/it]\u001b[A\n",
            "28it [00:58,  2.07s/it]\u001b[A\n",
            "29it [01:00,  2.05s/it]\u001b[A\n",
            "30it [01:02,  2.05s/it]\u001b[A\n",
            "31it [01:04,  2.06s/it]\u001b[A\n",
            "32it [01:06,  2.08s/it]\u001b[A\n",
            "33it [01:08,  2.08s/it]\u001b[A\n",
            "34it [01:10,  2.10s/it]\u001b[A\n",
            "35it [01:11,  2.06s/it]\n",
            "101it [03:45, 23.59s/it]"
          ],
          "name": "stderr"
        },
        {
          "output_type": "stream",
          "text": [
            "Validation Loss: 0.021547212158995015\n",
            "Accuracy of color is: 0.9507246376811594\n",
            "Accuracy of size is: 0.9014492753623189\n",
            "Accuracy of type1 is: 0.9768115942028985\n",
            "Accuracy of type2 is: 0.9884057971014493\n",
            "Accuracy of type3 is: 0.9681159420289855\n",
            "Accuracy of boxes is: 0.9420289855072463\n",
            "Accuracy of case is: 0.9855072463768116\n",
            "Accuracy of use is: 0.9478260869565217\n",
            "Accuracy of material is: 0.936231884057971\n",
            "Accuracy of thickness is: 0.9855072463768116\n",
            "Accuracy of length is: 0.9826086956521739\n",
            "Accuracy of brand is: 0.8260869565217391\n",
            "Accuracy of company is: 0.9304347826086956\n"
          ],
          "name": "stdout"
        },
        {
          "output_type": "stream",
          "text": [
            "200it [06:18,  1.56s/it]"
          ],
          "name": "stderr"
        },
        {
          "output_type": "stream",
          "text": [
            "Train loss: 0.01497873971471563\n",
            "Validating Model\n"
          ],
          "name": "stdout"
        },
        {
          "output_type": "stream",
          "text": [
            "\n",
            "0it [00:00, ?it/s]\u001b[A\n",
            "1it [00:02,  2.20s/it]\u001b[A\n",
            "2it [00:04,  2.20s/it]\u001b[A\n",
            "3it [00:06,  2.15s/it]\u001b[A\n",
            "4it [00:08,  2.13s/it]\u001b[A\n",
            "5it [00:10,  2.11s/it]\u001b[A\n",
            "6it [00:12,  2.10s/it]\u001b[A\n",
            "7it [00:14,  2.07s/it]\u001b[A\n",
            "8it [00:16,  2.06s/it]\u001b[A\n",
            "9it [00:18,  2.08s/it]\u001b[A\n",
            "10it [00:20,  2.10s/it]\u001b[A\n",
            "11it [00:23,  2.11s/it]\u001b[A\n",
            "12it [00:25,  2.12s/it]\u001b[A\n",
            "13it [00:27,  2.10s/it]\u001b[A\n",
            "14it [00:29,  2.11s/it]\u001b[A\n",
            "15it [00:31,  2.10s/it]\u001b[A\n",
            "16it [00:33,  2.11s/it]\u001b[A\n",
            "17it [00:35,  2.11s/it]\u001b[A\n",
            "18it [00:37,  2.10s/it]\u001b[A\n",
            "19it [00:39,  2.12s/it]\u001b[A\n",
            "20it [00:42,  2.10s/it]\u001b[A\n",
            "21it [00:44,  2.11s/it]\u001b[A\n",
            "22it [00:46,  2.12s/it]\u001b[A\n",
            "23it [00:48,  2.12s/it]\u001b[A\n",
            "24it [00:50,  2.11s/it]\u001b[A\n",
            "25it [00:52,  2.09s/it]\u001b[A\n",
            "26it [00:54,  2.10s/it]\u001b[A\n",
            "27it [00:56,  2.08s/it]\u001b[A\n",
            "28it [00:58,  2.08s/it]\u001b[A\n",
            "29it [01:00,  2.10s/it]\u001b[A\n",
            "30it [01:03,  2.10s/it]\u001b[A\n",
            "31it [01:05,  2.10s/it]\u001b[A\n",
            "32it [01:07,  2.11s/it]\u001b[A\n",
            "33it [01:09,  2.13s/it]\u001b[A\n",
            "34it [01:11,  2.12s/it]\u001b[A\n",
            "35it [01:12,  2.08s/it]\n",
            "201it [07:34, 23.96s/it]"
          ],
          "name": "stderr"
        },
        {
          "output_type": "stream",
          "text": [
            "Validation Loss: 0.00847356187711869\n",
            "Accuracy of color is: 0.9855072463768116\n",
            "Accuracy of size is: 0.927536231884058\n",
            "Accuracy of type1 is: 0.9855072463768116\n",
            "Accuracy of type2 is: 0.991304347826087\n",
            "Accuracy of type3 is: 0.9884057971014493\n",
            "Accuracy of boxes is: 0.991304347826087\n",
            "Accuracy of case is: 0.9971014492753624\n",
            "Accuracy of use is: 0.9884057971014493\n",
            "Accuracy of material is: 0.9565217391304348\n",
            "Accuracy of thickness is: 0.9942028985507246\n",
            "Accuracy of length is: 0.9971014492753624\n",
            "Accuracy of brand is: 0.9565217391304348\n",
            "Accuracy of company is: 0.9797101449275363\n"
          ],
          "name": "stdout"
        },
        {
          "output_type": "stream",
          "text": [
            "205it [07:40,  2.24s/it]\n",
            "0it [00:00, ?it/s]"
          ],
          "name": "stderr"
        },
        {
          "output_type": "stream",
          "text": [
            "The average loss for this epoch was 0.31091660560313156\n",
            "Training epoch 2\n"
          ],
          "name": "stdout"
        },
        {
          "output_type": "stream",
          "text": [
            "\r1it [00:01,  1.56s/it]"
          ],
          "name": "stderr"
        },
        {
          "output_type": "stream",
          "text": [
            "Train loss: 0.003323771758005023\n"
          ],
          "name": "stdout"
        },
        {
          "output_type": "stream",
          "text": [
            "100it [02:35,  1.55s/it]"
          ],
          "name": "stderr"
        },
        {
          "output_type": "stream",
          "text": [
            "Train loss: 0.0063193713303189725\n",
            "Validating Model\n"
          ],
          "name": "stdout"
        },
        {
          "output_type": "stream",
          "text": [
            "\n",
            "0it [00:00, ?it/s]\u001b[A\n",
            "1it [00:02,  2.03s/it]\u001b[A\n",
            "2it [00:04,  2.04s/it]\u001b[A\n",
            "3it [00:06,  2.07s/it]\u001b[A\n",
            "4it [00:08,  2.11s/it]\u001b[A\n",
            "5it [00:10,  2.12s/it]\u001b[A\n",
            "6it [00:12,  2.10s/it]\u001b[A\n",
            "7it [00:14,  2.10s/it]\u001b[A\n",
            "8it [00:16,  2.10s/it]\u001b[A\n",
            "9it [00:18,  2.08s/it]\u001b[A\n",
            "10it [00:21,  2.10s/it]\u001b[A\n",
            "11it [00:23,  2.09s/it]\u001b[A\n",
            "12it [00:25,  2.08s/it]\u001b[A\n",
            "13it [00:27,  2.10s/it]\u001b[A\n",
            "14it [00:29,  2.13s/it]\u001b[A\n",
            "15it [00:31,  2.13s/it]\u001b[A\n",
            "16it [00:33,  2.13s/it]\u001b[A\n",
            "17it [00:35,  2.13s/it]\u001b[A\n",
            "18it [00:37,  2.13s/it]\u001b[A\n",
            "19it [00:40,  2.13s/it]\u001b[A\n",
            "20it [00:42,  2.16s/it]\u001b[A\n",
            "21it [00:44,  2.14s/it]\u001b[A\n",
            "22it [00:46,  2.12s/it]\u001b[A\n",
            "23it [00:48,  2.10s/it]\u001b[A\n",
            "24it [00:50,  2.08s/it]\u001b[A\n",
            "25it [00:52,  2.12s/it]\u001b[A\n",
            "26it [00:54,  2.10s/it]\u001b[A\n",
            "27it [00:56,  2.07s/it]\u001b[A\n",
            "28it [00:58,  2.08s/it]\u001b[A\n",
            "29it [01:01,  2.09s/it]\u001b[A\n",
            "30it [01:03,  2.10s/it]\u001b[A\n",
            "31it [01:05,  2.09s/it]\u001b[A\n",
            "32it [01:07,  2.09s/it]\u001b[A\n",
            "33it [01:09,  2.10s/it]\u001b[A\n",
            "34it [01:11,  2.13s/it]\u001b[A\n",
            "35it [01:13,  2.09s/it]\n",
            "101it [03:51, 23.99s/it]"
          ],
          "name": "stderr"
        },
        {
          "output_type": "stream",
          "text": [
            "Validation Loss: 0.0058968197820442065\n",
            "Accuracy of color is: 0.9855072463768116\n",
            "Accuracy of size is: 0.9304347826086956\n",
            "Accuracy of type1 is: 0.9942028985507246\n",
            "Accuracy of type2 is: 0.9942028985507246\n",
            "Accuracy of type3 is: 0.9739130434782609\n",
            "Accuracy of boxes is: 0.991304347826087\n",
            "Accuracy of case is: 0.9971014492753624\n",
            "Accuracy of use is: 0.991304347826087\n",
            "Accuracy of material is: 0.9739130434782609\n",
            "Accuracy of thickness is: 0.9971014492753624\n",
            "Accuracy of length is: 1.0\n",
            "Accuracy of brand is: 0.9739130434782609\n",
            "Accuracy of company is: 0.9797101449275363\n"
          ],
          "name": "stdout"
        },
        {
          "output_type": "stream",
          "text": [
            "200it [06:25,  1.55s/it]"
          ],
          "name": "stderr"
        },
        {
          "output_type": "stream",
          "text": [
            "Train loss: 0.0040639800723874945\n",
            "Validating Model\n"
          ],
          "name": "stdout"
        },
        {
          "output_type": "stream",
          "text": [
            "\n",
            "0it [00:00, ?it/s]\u001b[A\n",
            "1it [00:02,  2.12s/it]\u001b[A\n",
            "2it [00:04,  2.12s/it]\u001b[A\n",
            "3it [00:06,  2.11s/it]\u001b[A\n",
            "4it [00:08,  2.12s/it]\u001b[A\n",
            "5it [00:10,  2.14s/it]\u001b[A\n",
            "6it [00:12,  2.15s/it]\u001b[A\n",
            "7it [00:14,  2.14s/it]\u001b[A\n",
            "8it [00:17,  2.17s/it]\u001b[A\n",
            "9it [00:19,  2.17s/it]\u001b[A\n",
            "10it [00:21,  2.18s/it]\u001b[A\n",
            "11it [00:23,  2.17s/it]\u001b[A\n",
            "12it [00:25,  2.14s/it]\u001b[A\n",
            "13it [00:27,  2.16s/it]\u001b[A\n",
            "14it [00:30,  2.16s/it]\u001b[A\n",
            "15it [00:32,  2.13s/it]\u001b[A\n",
            "16it [00:34,  2.12s/it]\u001b[A\n",
            "17it [00:36,  2.10s/it]\u001b[A\n",
            "18it [00:38,  2.11s/it]\u001b[A\n",
            "19it [00:40,  2.10s/it]\u001b[A\n",
            "20it [00:42,  2.11s/it]\u001b[A\n",
            "21it [00:44,  2.10s/it]\u001b[A\n",
            "22it [00:46,  2.11s/it]\u001b[A\n",
            "23it [00:49,  2.12s/it]\u001b[A\n",
            "24it [00:51,  2.12s/it]\u001b[A\n",
            "25it [00:53,  2.10s/it]\u001b[A\n",
            "26it [00:55,  2.11s/it]\u001b[A\n",
            "27it [00:57,  2.11s/it]\u001b[A\n",
            "28it [00:59,  2.10s/it]\u001b[A\n",
            "29it [01:01,  2.11s/it]\u001b[A\n",
            "30it [01:03,  2.10s/it]\u001b[A\n",
            "31it [01:05,  2.11s/it]\u001b[A\n",
            "32it [01:07,  2.10s/it]\u001b[A\n",
            "33it [01:10,  2.13s/it]\u001b[A\n",
            "34it [01:12,  2.12s/it]\u001b[A\n",
            "35it [01:13,  2.10s/it]\n",
            "201it [07:42, 24.12s/it]"
          ],
          "name": "stderr"
        },
        {
          "output_type": "stream",
          "text": [
            "Validation Loss: 0.004189389292150736\n",
            "Accuracy of color is: 0.9652173913043478\n",
            "Accuracy of size is: 0.9681159420289855\n",
            "Accuracy of type1 is: 0.9942028985507246\n",
            "Accuracy of type2 is: 1.0\n",
            "Accuracy of type3 is: 1.0\n",
            "Accuracy of boxes is: 0.9884057971014493\n",
            "Accuracy of case is: 0.9971014492753624\n",
            "Accuracy of use is: 0.9971014492753624\n",
            "Accuracy of material is: 0.9884057971014493\n",
            "Accuracy of thickness is: 0.9971014492753624\n",
            "Accuracy of length is: 1.0\n",
            "Accuracy of brand is: 0.9942028985507246\n",
            "Accuracy of company is: 0.9884057971014493\n"
          ],
          "name": "stdout"
        },
        {
          "output_type": "stream",
          "text": [
            "205it [07:47,  2.28s/it]\n",
            "0it [00:00, ?it/s]"
          ],
          "name": "stderr"
        },
        {
          "output_type": "stream",
          "text": [
            "The average loss for this epoch was 0.005131898222706939\n",
            "Training epoch 3\n"
          ],
          "name": "stdout"
        },
        {
          "output_type": "stream",
          "text": [
            "\r1it [00:01,  1.57s/it]"
          ],
          "name": "stderr"
        },
        {
          "output_type": "stream",
          "text": [
            "Train loss: 0.004152858164161444\n"
          ],
          "name": "stdout"
        },
        {
          "output_type": "stream",
          "text": [
            "100it [02:35,  1.55s/it]"
          ],
          "name": "stderr"
        },
        {
          "output_type": "stream",
          "text": [
            "Train loss: 0.0019060669612372295\n",
            "Validating Model\n"
          ],
          "name": "stdout"
        },
        {
          "output_type": "stream",
          "text": [
            "\n",
            "0it [00:00, ?it/s]\u001b[A\n",
            "1it [00:02,  2.11s/it]\u001b[A\n",
            "2it [00:04,  2.13s/it]\u001b[A\n",
            "3it [00:06,  2.15s/it]\u001b[A\n",
            "4it [00:08,  2.17s/it]\u001b[A\n",
            "5it [00:10,  2.15s/it]\u001b[A\n",
            "6it [00:12,  2.13s/it]\u001b[A\n",
            "7it [00:14,  2.11s/it]\u001b[A\n",
            "8it [00:17,  2.09s/it]\u001b[A\n",
            "9it [00:19,  2.13s/it]\u001b[A\n",
            "10it [00:21,  2.13s/it]\u001b[A\n",
            "11it [00:23,  2.11s/it]\u001b[A\n",
            "12it [00:25,  2.13s/it]\u001b[A\n",
            "13it [00:27,  2.13s/it]\u001b[A\n",
            "14it [00:29,  2.13s/it]\u001b[A\n",
            "15it [00:31,  2.11s/it]\u001b[A\n",
            "16it [00:33,  2.08s/it]\u001b[A\n",
            "17it [00:35,  2.07s/it]\u001b[A\n",
            "18it [00:38,  2.11s/it]\u001b[A\n",
            "19it [00:40,  2.10s/it]\u001b[A\n",
            "20it [00:42,  2.10s/it]\u001b[A\n",
            "21it [00:44,  2.08s/it]\u001b[A\n",
            "22it [00:46,  2.08s/it]\u001b[A\n",
            "23it [00:48,  2.09s/it]\u001b[A\n",
            "24it [00:50,  2.08s/it]\u001b[A\n",
            "25it [00:52,  2.08s/it]\u001b[A\n",
            "26it [00:54,  2.08s/it]\u001b[A\n",
            "27it [00:56,  2.10s/it]\u001b[A\n",
            "28it [00:59,  2.12s/it]\u001b[A\n",
            "29it [01:01,  2.10s/it]\u001b[A\n",
            "30it [01:03,  2.08s/it]\u001b[A\n",
            "31it [01:05,  2.10s/it]\u001b[A\n",
            "32it [01:07,  2.12s/it]\u001b[A\n",
            "33it [01:09,  2.11s/it]\u001b[A\n",
            "34it [01:11,  2.12s/it]\u001b[A\n",
            "35it [01:13,  2.09s/it]\n",
            "101it [03:52, 24.05s/it]"
          ],
          "name": "stderr"
        },
        {
          "output_type": "stream",
          "text": [
            "Validation Loss: 0.0026364322834914284\n",
            "Accuracy of color is: 0.9768115942028985\n",
            "Accuracy of size is: 0.9710144927536232\n",
            "Accuracy of type1 is: 0.9971014492753624\n",
            "Accuracy of type2 is: 1.0\n",
            "Accuracy of type3 is: 1.0\n",
            "Accuracy of boxes is: 0.9942028985507246\n",
            "Accuracy of case is: 1.0\n",
            "Accuracy of use is: 1.0\n",
            "Accuracy of material is: 0.9971014492753624\n",
            "Accuracy of thickness is: 0.9942028985507246\n",
            "Accuracy of length is: 0.9971014492753624\n",
            "Accuracy of brand is: 0.991304347826087\n",
            "Accuracy of company is: 0.9942028985507246\n"
          ],
          "name": "stdout"
        },
        {
          "output_type": "stream",
          "text": [
            "200it [06:25,  1.55s/it]"
          ],
          "name": "stderr"
        },
        {
          "output_type": "stream",
          "text": [
            "Train loss: 0.0014659534316160715\n",
            "Validating Model\n"
          ],
          "name": "stdout"
        },
        {
          "output_type": "stream",
          "text": [
            "\n",
            "0it [00:00, ?it/s]\u001b[A\n",
            "1it [00:02,  2.19s/it]\u001b[A\n",
            "2it [00:04,  2.18s/it]\u001b[A\n",
            "3it [00:06,  2.16s/it]\u001b[A\n",
            "4it [00:08,  2.13s/it]\u001b[A\n",
            "5it [00:10,  2.11s/it]\u001b[A\n",
            "6it [00:12,  2.10s/it]\u001b[A\n",
            "7it [00:14,  2.09s/it]\u001b[A\n",
            "8it [00:16,  2.07s/it]\u001b[A\n",
            "9it [00:18,  2.10s/it]\u001b[A\n",
            "10it [00:20,  2.08s/it]\u001b[A\n",
            "11it [00:22,  2.07s/it]\u001b[A\n",
            "12it [00:25,  2.07s/it]\u001b[A\n",
            "13it [00:27,  2.08s/it]\u001b[A\n",
            "14it [00:29,  2.06s/it]\u001b[A\n",
            "15it [00:31,  2.08s/it]\u001b[A\n",
            "16it [00:33,  2.09s/it]\u001b[A\n",
            "17it [00:35,  2.11s/it]\u001b[A\n",
            "18it [00:37,  2.11s/it]\u001b[A\n",
            "19it [00:39,  2.11s/it]\u001b[A\n",
            "20it [00:41,  2.11s/it]\u001b[A\n",
            "21it [00:43,  2.09s/it]\u001b[A\n",
            "22it [00:45,  2.07s/it]\u001b[A\n",
            "23it [00:48,  2.07s/it]\u001b[A\n",
            "24it [00:50,  2.07s/it]\u001b[A\n",
            "25it [00:52,  2.05s/it]\u001b[A\n",
            "26it [00:54,  2.07s/it]\u001b[A\n",
            "27it [00:56,  2.11s/it]\u001b[A\n",
            "28it [00:58,  2.12s/it]\u001b[A\n",
            "29it [01:00,  2.10s/it]\u001b[A\n",
            "30it [01:02,  2.09s/it]\u001b[A\n",
            "31it [01:04,  2.12s/it]\u001b[A\n",
            "32it [01:07,  2.13s/it]\u001b[A\n",
            "33it [01:09,  2.13s/it]\u001b[A\n",
            "34it [01:11,  2.12s/it]\u001b[A\n",
            "35it [01:12,  2.08s/it]\n",
            "201it [07:41, 23.87s/it]"
          ],
          "name": "stderr"
        },
        {
          "output_type": "stream",
          "text": [
            "Validation Loss: 0.002528658858084652\n",
            "Accuracy of color is: 0.9768115942028985\n",
            "Accuracy of size is: 0.9884057971014493\n",
            "Accuracy of type1 is: 0.9971014492753624\n",
            "Accuracy of type2 is: 1.0\n",
            "Accuracy of type3 is: 1.0\n",
            "Accuracy of boxes is: 0.9971014492753624\n",
            "Accuracy of case is: 1.0\n",
            "Accuracy of use is: 1.0\n",
            "Accuracy of material is: 0.991304347826087\n",
            "Accuracy of thickness is: 0.9971014492753624\n",
            "Accuracy of length is: 1.0\n",
            "Accuracy of brand is: 0.9884057971014493\n",
            "Accuracy of company is: 0.9942028985507246\n"
          ],
          "name": "stdout"
        },
        {
          "output_type": "stream",
          "text": [
            "205it [07:47,  2.28s/it]\n",
            "0it [00:00, ?it/s]"
          ],
          "name": "stderr"
        },
        {
          "output_type": "stream",
          "text": [
            "The average loss for this epoch was 0.0017228186660071425\n",
            "Training epoch 4\n"
          ],
          "name": "stdout"
        },
        {
          "output_type": "stream",
          "text": [
            "\r1it [00:01,  1.55s/it]"
          ],
          "name": "stderr"
        },
        {
          "output_type": "stream",
          "text": [
            "Train loss: 0.0003967223165091127\n"
          ],
          "name": "stdout"
        },
        {
          "output_type": "stream",
          "text": [
            "100it [02:35,  1.55s/it]"
          ],
          "name": "stderr"
        },
        {
          "output_type": "stream",
          "text": [
            "Train loss: 0.000618046035815496\n",
            "Validating Model\n"
          ],
          "name": "stdout"
        },
        {
          "output_type": "stream",
          "text": [
            "\n",
            "0it [00:00, ?it/s]\u001b[A\n",
            "1it [00:02,  2.03s/it]\u001b[A\n",
            "2it [00:04,  2.06s/it]\u001b[A\n",
            "3it [00:06,  2.11s/it]\u001b[A\n",
            "4it [00:08,  2.09s/it]\u001b[A\n",
            "5it [00:10,  2.08s/it]\u001b[A\n",
            "6it [00:12,  2.09s/it]\u001b[A\n",
            "7it [00:14,  2.11s/it]\u001b[A\n",
            "8it [00:16,  2.12s/it]\u001b[A\n",
            "9it [00:18,  2.10s/it]\u001b[A\n",
            "10it [00:21,  2.11s/it]\u001b[A\n",
            "11it [00:23,  2.12s/it]\u001b[A\n",
            "12it [00:25,  2.10s/it]\u001b[A\n",
            "13it [00:27,  2.08s/it]\u001b[A\n",
            "14it [00:29,  2.07s/it]\u001b[A\n",
            "15it [00:31,  2.06s/it]\u001b[A\n",
            "16it [00:33,  2.10s/it]\u001b[A\n",
            "17it [00:35,  2.08s/it]\u001b[A\n",
            "18it [00:37,  2.10s/it]\u001b[A\n",
            "19it [00:40,  2.14s/it]\u001b[A\n",
            "20it [00:42,  2.12s/it]\u001b[A\n",
            "21it [00:44,  2.11s/it]\u001b[A\n",
            "22it [00:46,  2.11s/it]\u001b[A\n",
            "23it [00:48,  2.13s/it]\u001b[A\n",
            "24it [00:50,  2.10s/it]\u001b[A\n",
            "25it [00:52,  2.09s/it]\u001b[A\n",
            "26it [00:54,  2.10s/it]\u001b[A\n",
            "27it [00:56,  2.08s/it]\u001b[A\n",
            "28it [00:58,  2.07s/it]\u001b[A\n",
            "29it [01:00,  2.08s/it]\u001b[A\n",
            "30it [01:03,  2.11s/it]\u001b[A\n",
            "31it [01:05,  2.10s/it]\u001b[A\n",
            "32it [01:07,  2.09s/it]\u001b[A\n",
            "33it [01:09,  2.07s/it]\u001b[A\n",
            "34it [01:11,  2.09s/it]\u001b[A\n",
            "35it [01:12,  2.08s/it]\n",
            "101it [03:51, 23.85s/it]"
          ],
          "name": "stderr"
        },
        {
          "output_type": "stream",
          "text": [
            "Validation Loss: 0.0016884544766591198\n",
            "Accuracy of color is: 0.9884057971014493\n",
            "Accuracy of size is: 0.9942028985507246\n",
            "Accuracy of type1 is: 0.9971014492753624\n",
            "Accuracy of type2 is: 1.0\n",
            "Accuracy of type3 is: 1.0\n",
            "Accuracy of boxes is: 0.9971014492753624\n",
            "Accuracy of case is: 1.0\n",
            "Accuracy of use is: 1.0\n",
            "Accuracy of material is: 0.9971014492753624\n",
            "Accuracy of thickness is: 0.9971014492753624\n",
            "Accuracy of length is: 1.0\n",
            "Accuracy of brand is: 0.9884057971014493\n",
            "Accuracy of company is: 0.9971014492753624\n"
          ],
          "name": "stdout"
        },
        {
          "output_type": "stream",
          "text": [
            "200it [06:24,  1.55s/it]"
          ],
          "name": "stderr"
        },
        {
          "output_type": "stream",
          "text": [
            "Train loss: 0.0007788899805018446\n",
            "Validating Model\n"
          ],
          "name": "stdout"
        },
        {
          "output_type": "stream",
          "text": [
            "\n",
            "0it [00:00, ?it/s]\u001b[A\n",
            "1it [00:02,  2.19s/it]\u001b[A\n",
            "2it [00:04,  2.18s/it]\u001b[A\n",
            "3it [00:06,  2.17s/it]\u001b[A\n",
            "4it [00:08,  2.14s/it]\u001b[A\n",
            "5it [00:10,  2.09s/it]\u001b[A\n",
            "6it [00:12,  2.07s/it]\u001b[A\n",
            "7it [00:14,  2.08s/it]\u001b[A\n",
            "8it [00:16,  2.06s/it]\u001b[A\n",
            "9it [00:18,  2.06s/it]\u001b[A\n",
            "10it [00:20,  2.06s/it]\u001b[A\n",
            "11it [00:22,  2.06s/it]\u001b[A\n",
            "12it [00:24,  2.07s/it]\u001b[A\n",
            "13it [00:26,  2.07s/it]\u001b[A\n",
            "14it [00:29,  2.10s/it]\u001b[A\n",
            "15it [00:31,  2.07s/it]\u001b[A\n",
            "16it [00:33,  2.08s/it]\u001b[A\n",
            "17it [00:35,  2.11s/it]\u001b[A\n",
            "18it [00:37,  2.10s/it]\u001b[A\n",
            "19it [00:39,  2.14s/it]\u001b[A\n",
            "20it [00:41,  2.13s/it]\u001b[A\n",
            "21it [00:43,  2.11s/it]\u001b[A\n",
            "22it [00:46,  2.11s/it]\u001b[A\n",
            "23it [00:48,  2.08s/it]\u001b[A\n",
            "24it [00:50,  2.08s/it]\u001b[A\n",
            "25it [00:52,  2.10s/it]\u001b[A\n",
            "26it [00:54,  2.08s/it]\u001b[A\n",
            "27it [00:56,  2.10s/it]\u001b[A\n",
            "28it [00:58,  2.08s/it]\u001b[A\n",
            "29it [01:00,  2.07s/it]\u001b[A\n",
            "30it [01:02,  2.07s/it]\u001b[A\n",
            "31it [01:04,  2.09s/it]\u001b[A\n",
            "32it [01:06,  2.09s/it]\u001b[A\n",
            "33it [01:08,  2.08s/it]\u001b[A\n",
            "34it [01:10,  2.08s/it]\u001b[A\n",
            "35it [01:12,  2.07s/it]\n",
            "201it [07:40, 23.80s/it]"
          ],
          "name": "stderr"
        },
        {
          "output_type": "stream",
          "text": [
            "Validation Loss: 0.0019346099330245384\n",
            "Accuracy of color is: 0.9942028985507246\n",
            "Accuracy of size is: 0.9739130434782609\n",
            "Accuracy of type1 is: 0.9971014492753624\n",
            "Accuracy of type2 is: 1.0\n",
            "Accuracy of type3 is: 1.0\n",
            "Accuracy of boxes is: 1.0\n",
            "Accuracy of case is: 1.0\n",
            "Accuracy of use is: 1.0\n",
            "Accuracy of material is: 0.9971014492753624\n",
            "Accuracy of thickness is: 0.9971014492753624\n",
            "Accuracy of length is: 1.0\n",
            "Accuracy of brand is: 0.9826086956521739\n",
            "Accuracy of company is: 0.9971014492753624\n"
          ],
          "name": "stdout"
        },
        {
          "output_type": "stream",
          "text": [
            "205it [07:45,  2.27s/it]\n",
            "0it [00:00, ?it/s]"
          ],
          "name": "stderr"
        },
        {
          "output_type": "stream",
          "text": [
            "The average loss for this epoch was 0.0006923567382306451\n",
            "Training epoch 5\n"
          ],
          "name": "stdout"
        },
        {
          "output_type": "stream",
          "text": [
            "\r1it [00:01,  1.56s/it]"
          ],
          "name": "stderr"
        },
        {
          "output_type": "stream",
          "text": [
            "Train loss: 0.00010433672287035733\n"
          ],
          "name": "stdout"
        },
        {
          "output_type": "stream",
          "text": [
            "100it [02:35,  1.55s/it]"
          ],
          "name": "stderr"
        },
        {
          "output_type": "stream",
          "text": [
            "Train loss: 0.0006052157381054713\n",
            "Validating Model\n"
          ],
          "name": "stdout"
        },
        {
          "output_type": "stream",
          "text": [
            "\n",
            "0it [00:00, ?it/s]\u001b[A\n",
            "1it [00:02,  2.10s/it]\u001b[A\n",
            "2it [00:04,  2.09s/it]\u001b[A\n",
            "3it [00:06,  2.10s/it]\u001b[A\n",
            "4it [00:08,  2.10s/it]\u001b[A\n",
            "5it [00:10,  2.08s/it]\u001b[A\n",
            "6it [00:12,  2.08s/it]\u001b[A\n",
            "7it [00:14,  2.08s/it]\u001b[A\n",
            "8it [00:16,  2.07s/it]\u001b[A\n",
            "9it [00:18,  2.09s/it]\u001b[A\n",
            "10it [00:20,  2.07s/it]\u001b[A\n",
            "11it [00:22,  2.07s/it]\u001b[A\n",
            "12it [00:25,  2.10s/it]\u001b[A\n",
            "13it [00:27,  2.08s/it]\u001b[A\n",
            "14it [00:29,  2.07s/it]\u001b[A\n",
            "15it [00:31,  2.11s/it]\u001b[A\n",
            "16it [00:33,  2.10s/it]\u001b[A\n",
            "17it [00:35,  2.11s/it]\u001b[A\n",
            "18it [00:37,  2.10s/it]\u001b[A\n",
            "19it [00:39,  2.11s/it]\u001b[A\n",
            "20it [00:41,  2.10s/it]\u001b[A\n",
            "21it [00:43,  2.11s/it]\u001b[A\n",
            "22it [00:46,  2.10s/it]\u001b[A\n",
            "23it [00:48,  2.08s/it]\u001b[A\n",
            "24it [00:50,  2.07s/it]\u001b[A\n",
            "25it [00:52,  2.10s/it]\u001b[A\n",
            "26it [00:54,  2.07s/it]\u001b[A\n",
            "27it [00:56,  2.07s/it]\u001b[A\n",
            "28it [00:58,  2.04s/it]\u001b[A\n",
            "29it [01:00,  2.06s/it]\u001b[A\n",
            "30it [01:02,  2.07s/it]\u001b[A\n",
            "31it [01:04,  2.10s/it]\u001b[A\n",
            "32it [01:06,  2.08s/it]\u001b[A\n",
            "33it [01:08,  2.09s/it]\u001b[A\n",
            "34it [01:11,  2.12s/it]\u001b[A\n",
            "35it [01:12,  2.07s/it]\n",
            "101it [03:50, 23.75s/it]"
          ],
          "name": "stderr"
        },
        {
          "output_type": "stream",
          "text": [
            "Validation Loss: 0.0017158355476567522\n",
            "Accuracy of color is: 0.9942028985507246\n",
            "Accuracy of size is: 1.0\n",
            "Accuracy of type1 is: 0.9971014492753624\n",
            "Accuracy of type2 is: 1.0\n",
            "Accuracy of type3 is: 1.0\n",
            "Accuracy of boxes is: 0.9971014492753624\n",
            "Accuracy of case is: 1.0\n",
            "Accuracy of use is: 1.0\n",
            "Accuracy of material is: 0.9942028985507246\n",
            "Accuracy of thickness is: 0.9971014492753624\n",
            "Accuracy of length is: 1.0\n",
            "Accuracy of brand is: 0.991304347826087\n",
            "Accuracy of company is: 0.991304347826087\n"
          ],
          "name": "stdout"
        },
        {
          "output_type": "stream",
          "text": [
            "200it [06:24,  1.55s/it]"
          ],
          "name": "stderr"
        },
        {
          "output_type": "stream",
          "text": [
            "Train loss: 0.0005944426456699148\n",
            "Validating Model\n"
          ],
          "name": "stdout"
        },
        {
          "output_type": "stream",
          "text": [
            "\n",
            "0it [00:00, ?it/s]\u001b[A\n",
            "1it [00:02,  2.06s/it]\u001b[A\n",
            "2it [00:04,  2.05s/it]\u001b[A\n",
            "3it [00:06,  2.05s/it]\u001b[A\n",
            "4it [00:08,  2.07s/it]\u001b[A\n",
            "5it [00:10,  2.07s/it]\u001b[A\n",
            "6it [00:12,  2.06s/it]\u001b[A\n",
            "7it [00:14,  2.09s/it]\u001b[A\n",
            "8it [00:16,  2.07s/it]\u001b[A\n",
            "9it [00:18,  2.07s/it]\u001b[A\n",
            "10it [00:20,  2.10s/it]\u001b[A\n",
            "11it [00:22,  2.09s/it]\u001b[A\n",
            "12it [00:24,  2.06s/it]\u001b[A\n",
            "13it [00:26,  2.05s/it]\u001b[A\n",
            "14it [00:28,  2.06s/it]\u001b[A\n",
            "15it [00:31,  2.10s/it]\u001b[A\n",
            "16it [00:33,  2.09s/it]\u001b[A\n",
            "17it [00:35,  2.11s/it]\u001b[A\n",
            "18it [00:37,  2.14s/it]\u001b[A\n",
            "19it [00:39,  2.11s/it]\u001b[A\n",
            "20it [00:41,  2.09s/it]\u001b[A\n",
            "21it [00:43,  2.08s/it]\u001b[A\n",
            "22it [00:45,  2.09s/it]\u001b[A\n",
            "23it [00:47,  2.08s/it]\u001b[A\n",
            "24it [00:50,  2.12s/it]\u001b[A\n",
            "25it [00:52,  2.12s/it]\u001b[A\n",
            "26it [00:54,  2.12s/it]\u001b[A\n",
            "27it [00:56,  2.13s/it]\u001b[A\n",
            "28it [00:58,  2.14s/it]\u001b[A\n",
            "29it [01:00,  2.13s/it]\u001b[A\n",
            "30it [01:02,  2.11s/it]\u001b[A\n",
            "31it [01:04,  2.09s/it]\u001b[A\n",
            "32it [01:06,  2.08s/it]\u001b[A\n",
            "33it [01:09,  2.09s/it]\u001b[A\n",
            "34it [01:11,  2.09s/it]\u001b[A\n",
            "35it [01:12,  2.07s/it]\n",
            "201it [07:40, 23.81s/it]"
          ],
          "name": "stderr"
        },
        {
          "output_type": "stream",
          "text": [
            "Validation Loss: 0.0024058061236116503\n",
            "Accuracy of color is: 0.9942028985507246\n",
            "Accuracy of size is: 0.991304347826087\n",
            "Accuracy of type1 is: 0.9942028985507246\n",
            "Accuracy of type2 is: 1.0\n",
            "Accuracy of type3 is: 0.9942028985507246\n",
            "Accuracy of boxes is: 0.9971014492753624\n",
            "Accuracy of case is: 1.0\n",
            "Accuracy of use is: 1.0\n",
            "Accuracy of material is: 0.9971014492753624\n",
            "Accuracy of thickness is: 0.9971014492753624\n",
            "Accuracy of length is: 1.0\n",
            "Accuracy of brand is: 0.9942028985507246\n",
            "Accuracy of company is: 0.9884057971014493\n"
          ],
          "name": "stdout"
        },
        {
          "output_type": "stream",
          "text": [
            "205it [07:45,  2.27s/it]"
          ],
          "name": "stderr"
        },
        {
          "output_type": "stream",
          "text": [
            "The average loss for this epoch was 0.0005885098946192757\n",
            "Finished Training!\n"
          ],
          "name": "stdout"
        },
        {
          "output_type": "stream",
          "text": [
            "\n"
          ],
          "name": "stderr"
        }
      ]
    },
    {
      "cell_type": "code",
      "metadata": {
        "id": "PYXJZEyxXxqe"
      },
      "source": [
        "torch.save(T5.cpu().state_dict(), 'folderOnColab/Models/T5_Single_Original_Format_V1.bin')"
      ],
      "execution_count": 30,
      "outputs": []
    },
    {
      "cell_type": "markdown",
      "metadata": {
        "id": "GTe3WFxUB8dS"
      },
      "source": [
        "# Model Evaluation\n",
        "With the trained model, we can evaluate how well it did on the validation set (and Test set if needed)"
      ]
    },
    {
      "cell_type": "markdown",
      "metadata": {
        "id": "H5_11-3_dTg3"
      },
      "source": [
        "## Single Task"
      ]
    },
    {
      "cell_type": "code",
      "metadata": {
        "id": "cGsBXSAiqDyI"
      },
      "source": [
        "tokenizer = T5Tokenizer.from_pretrained('t5-base')\n",
        "val_data = T5MedSearchDataset(val_df, 'Validation')\n",
        "valloader = torch.utils.data.DataLoader(val_data, batch_size=2, shuffle=False)\n",
        "device = torch.device(\"cuda\" if torch.cuda.is_available() else \"cpu\")"
      ],
      "execution_count": null,
      "outputs": []
    },
    {
      "cell_type": "code",
      "metadata": {
        "id": "hGmxcTXFmvKV"
      },
      "source": [
        "test_data = T5MedSearchDataset(test_df, 'Test')\n",
        "testloader = torch.utils.data.DataLoader(test_data, batch_size=1, shuffle=False)"
      ],
      "execution_count": null,
      "outputs": []
    },
    {
      "cell_type": "code",
      "metadata": {
        "id": "OcAgKVEw1Hbf"
      },
      "source": [
        "device = torch.device(\"cuda\" if torch.cuda.is_available() else \"cpu\")\n",
        "T5 = T5ForConditionalGeneration.from_pretrained('t5-base', return_dict=True)\n",
        "#T5.load_state_dict(torch.load(GOOGLE_DRIVE_PATH + 'T5_V5.bin'))\n",
        "T5.load_state_dict(torch.load('folderOnColab/Models/T5_V5_Case_Uncase_1e3.bin'))\n",
        "T5.to(device)"
      ],
      "execution_count": null,
      "outputs": []
    },
    {
      "cell_type": "markdown",
      "metadata": {
        "id": "2pnt5yDNayMM"
      },
      "source": [
        "### Validation"
      ]
    },
    {
      "cell_type": "code",
      "metadata": {
        "id": "9YpwWvwzUeoM"
      },
      "source": [
        "validation_output = []\n",
        "for ind, val in enumerate(valloader):\n",
        "    input_ids = val[\"input_ids\"].to(device).squeeze(1)\n",
        "    attention_mask = val[\"attention_mask\"].to(device).squeeze(1)\n",
        "    labels = val['labels']\n",
        "    targets = val['targets']\n",
        "    generated_ids = T5.generate(input_ids=input_ids, attention_mask=attention_mask, max_length=100).squeeze()\n",
        "    predicted_span = tokenizer.decode(generated_ids, skip_special_tokens=True, clean_up_tokenization_spaces=True)\n",
        "    desc = tokenizer.convert_tokens_to_string(tokenizer.convert_ids_to_tokens(input_ids.squeeze(0), skip_special_tokens=True))\n",
        "    validation_output.append({'description': desc, 'target_output': targets, 'predicted_output': predicted_span})\n",
        "    print('Example ', ind)\n",
        "    print('Description: ', desc)\n",
        "    print('Target Text', targets)\n",
        "    print('T5 Prediction', predicted_span, '\\n')"
      ],
      "execution_count": null,
      "outputs": []
    },
    {
      "cell_type": "code",
      "metadata": {
        "id": "ju_drD9WjzKS"
      },
      "source": [
        "val_output_df = pd.DataFrame(validation_output)\n",
        "val_output_df.to_pickle('folderOnColab/Results/T5_V5_Val_Results_Case_Uncase.pkl')"
      ],
      "execution_count": null,
      "outputs": []
    },
    {
      "cell_type": "code",
      "metadata": {
        "id": "rhdJT3GqUzlv"
      },
      "source": [
        "results = []\n",
        "for i, v in val_output_df.iterrows():\n",
        "    pred_dict = answer_to_dict(v.predicted_output)\n",
        "    targ_dict = answer_to_dict(v.target_output[0])\n",
        "    results.append(comparing_labels(targ_dict, pred_dict))\n",
        "results_val_df = pd.DataFrame(results)"
      ],
      "execution_count": null,
      "outputs": []
    },
    {
      "cell_type": "code",
      "metadata": {
        "id": "PapD48GDtVw7"
      },
      "source": [
        "results_val_df.mean(axis=0)"
      ],
      "execution_count": null,
      "outputs": []
    },
    {
      "cell_type": "code",
      "metadata": {
        "id": "MHkQ7vYbtW6v"
      },
      "source": [
        "# Print out any mislabels\n",
        "label = 'size'\n",
        "for i, v in val_output_df[results_val_df[label].values == 0].iterrows():\n",
        "    print(f'Index {i}')\n",
        "    print(v.description)\n",
        "    print('Target', answer_to_dict(v.target_output[0])[label])\n",
        "    print('Pred', answer_to_dict(v.predicted_output)[label], '\\n')"
      ],
      "execution_count": null,
      "outputs": []
    },
    {
      "cell_type": "markdown",
      "metadata": {
        "id": "U_WK2hWta54g"
      },
      "source": [
        "### Test"
      ]
    },
    {
      "cell_type": "code",
      "metadata": {
        "id": "XABDXSkMjpNU"
      },
      "source": [
        "test_output = []\n",
        "T5.to(device)\n",
        "for ind, val in enumerate(testloader):\n",
        "    input_ids = val[\"input_ids\"].to(device).squeeze(1)\n",
        "    attention_mask = val[\"attention_mask\"].to(device).squeeze(1)\n",
        "    labels = val['labels']\n",
        "    targets = val['targets']\n",
        "    generated_ids = T5.generate(input_ids=input_ids, attention_mask=attention_mask, max_length=100).squeeze()\n",
        "    predicted_span = tokenizer.decode(generated_ids, skip_special_tokens=True, clean_up_tokenization_spaces=True)\n",
        "    desc = tokenizer.convert_tokens_to_string(tokenizer.convert_ids_to_tokens(input_ids.squeeze(0), skip_special_tokens=True))\n",
        "    test_output.append({'description': desc, 'target_output': targets, 'predicted_output': predicted_span})\n",
        "    print('Example ', ind)\n",
        "    print('Description: ', desc)\n",
        "    print('Target Text', targets)\n",
        "    print('T5 Prediction', predicted_span, '\\n')"
      ],
      "execution_count": null,
      "outputs": []
    },
    {
      "cell_type": "code",
      "metadata": {
        "id": "GYqorUSd8vd6"
      },
      "source": [
        "test_output_df = pd.DataFrame(test_output)\n",
        "test_output_df.to_pickle('folderOnColab/Results/T5_V5_Test_Results.pkl')"
      ],
      "execution_count": null,
      "outputs": []
    },
    {
      "cell_type": "code",
      "metadata": {
        "id": "z1_JVWbibJuJ"
      },
      "source": [
        "results = []\n",
        "for i, v in test_output_df.iterrows():\n",
        "    pred_dict = answer_to_dict(v.predicted_output)\n",
        "    targ_dict = answer_to_dict(v.target_output[0])\n",
        "    results.append(comparing_labels(targ_dict, pred_dict))\n",
        "results_test_df = pd.DataFrame(results)"
      ],
      "execution_count": null,
      "outputs": []
    },
    {
      "cell_type": "code",
      "metadata": {
        "id": "EdBtRSyGbSju"
      },
      "source": [
        "results_test_df.mean(axis=0)"
      ],
      "execution_count": null,
      "outputs": []
    },
    {
      "cell_type": "code",
      "metadata": {
        "id": "2nQphbGbbaWb"
      },
      "source": [
        "# Print out any mislabels\n",
        "label = 'company'\n",
        "for i, v in test_output_df[results_test_df[label].values == 0].iterrows():\n",
        "    print(f'Index {i}')\n",
        "    print(v.description)\n",
        "    print('Target', answer_to_dict(v.target_output[0])[label])\n",
        "    try:\n",
        "        print('Pred', answer_to_dict(v.predicted_output)[label], '\\n')\n",
        "    except:\n",
        "        print(v.predicted_output, '\\n')"
      ],
      "execution_count": null,
      "outputs": []
    },
    {
      "cell_type": "markdown",
      "metadata": {
        "id": "Qn9wkI8vddD1"
      },
      "source": [
        "## Multiple Task"
      ]
    },
    {
      "cell_type": "markdown",
      "metadata": {
        "id": "uEeGlf_3CJMO"
      },
      "source": [
        "### Label Format Evaluation\n",
        "Evaluates Model with the Label format ie \n",
        "``` \n",
        "targets: color: none | size: medium | ...\n",
        "```"
      ]
    },
    {
      "cell_type": "code",
      "metadata": {
        "id": "6riZYhwvdfMb"
      },
      "source": [
        "tokenizer = T5Tokenizer.from_pretrained('t5-base')\n",
        "val_data = T5MedSearchDataset(val_df, 'Validation', task='Multiple')\n",
        "valloader = torch.utils.data.DataLoader(val_data, batch_size=10, shuffle=False)\n",
        "device = torch.device(\"cuda\" if torch.cuda.is_available() else \"cpu\")"
      ],
      "execution_count": null,
      "outputs": []
    },
    {
      "cell_type": "code",
      "metadata": {
        "id": "sR1dfHlvdm2A"
      },
      "source": [
        "device = torch.device(\"cuda\" if torch.cuda.is_available() else \"cpu\")\n",
        "#T5 = T5ForConditionalGeneration.from_pretrained('t5-base', return_dict=True)\n",
        "#T5.load_state_dict(torch.load('folderOnColab/Models/T5_Multiple_V1.bin'))\n",
        "T5.to(device)"
      ],
      "execution_count": null,
      "outputs": []
    },
    {
      "cell_type": "code",
      "metadata": {
        "id": "Y2M1MskJdnoX"
      },
      "source": [
        "validation_output = []\n",
        "for ind, val in enumerate(valloader):\n",
        "    # Validation Input\n",
        "    input_ids = val[\"input_ids\"].to(device).squeeze(1)\n",
        "    attention_mask = val[\"attention_mask\"].to(device).squeeze(1)\n",
        "    labels = val['labels']\n",
        "    targets = val['targets']\n",
        "\n",
        "    # Generate model output\n",
        "    generated_ids = T5.generate(input_ids=input_ids, attention_mask=attention_mask, max_length=100).squeeze()\n",
        "    predicted_span = tokenizer.batch_decode(generated_ids, skip_special_tokens=True, clean_up_tokenization_spaces=True)\n",
        "    desc = [tokenizer.convert_tokens_to_string(tokenizer.convert_ids_to_tokens(input_ids[i], skip_special_tokens=True)) for i in range(input_ids.shape[0])]\n",
        "\n",
        "    # Add outputs to list of dfs\n",
        "    tmp_df = pd.DataFrame([desc, targets, predicted_span, val['type']]).transpose()\n",
        "    tmp_df.columns = ['input', 'target_output', 'predicted_output', 'task']\n",
        "    validation_output.append(tmp_df)\n",
        "\n",
        "    # Print outputs/targets\n",
        "    print('Example ', ind)\n",
        "    print('Description: ', desc)\n",
        "    print('Target Text', targets)\n",
        "    print('T5 Prediction', predicted_span, '\\n')"
      ],
      "execution_count": null,
      "outputs": []
    },
    {
      "cell_type": "code",
      "metadata": {
        "id": "WmX1L8g7dwTO"
      },
      "source": [
        "val_output_df = pd.concat(validation_output)\n",
        "val_output_df.to_pickle('folderOnColab/Results/T5_Multiple_V1_Val_Results.pkl')"
      ],
      "execution_count": null,
      "outputs": []
    },
    {
      "cell_type": "code",
      "metadata": {
        "id": "7qVl7k-M7IZ8"
      },
      "source": [
        "val_output_df = pd.read_pickle('/home/Resources/datasets/medical-search/Gloves/T5_Multiple_V1_Val_Results.pkl') # Results Local Runtime\n",
        "val_output_df.head()"
      ],
      "execution_count": null,
      "outputs": []
    },
    {
      "cell_type": "code",
      "metadata": {
        "id": "t6MlUjKQ8Oei"
      },
      "source": [
        "results = []\n",
        "task = 'Query'\n",
        "for i, v in val_output_df[val_output_df.task == task].iterrows():\n",
        "    pred_dict = answer_to_dict_v2(v.predicted_output)\n",
        "    targ_dict = answer_to_dict_v2(v.target_output)\n",
        "    results.append(comparing_labels_V2(targ_dict, pred_dict))\n",
        "results_val_df = pd.DataFrame(results)"
      ],
      "execution_count": null,
      "outputs": []
    },
    {
      "cell_type": "code",
      "metadata": {
        "colab": {
          "base_uri": "https://localhost:8080/"
        },
        "id": "W6ajfCkMd0oF",
        "outputId": "cb873019-e7f3-4fa8-9ea4-cd527d857e28"
      },
      "source": [
        "# This cell gets the accuracy for the tasks\n",
        "print(f'Accuracy for {task} task with none labels')\n",
        "for i in results_val_df.columns:\n",
        "    print(f'Accuracy of {i} is: {np.nanmean(results_val_df[i])}')"
      ],
      "execution_count": null,
      "outputs": [
        {
          "output_type": "stream",
          "text": [
            "Accuracy for Query task with none labels\n",
            "Accuracy of color is: 0.9797101449275363\n",
            "Accuracy of size is: 0.9884057971014493\n",
            "Accuracy of type1 is: 0.9956521739130435\n",
            "Accuracy of type2 is: 1.0\n",
            "Accuracy of type3 is: 0.9942028985507246\n",
            "Accuracy of boxes is: 0.991304347826087\n",
            "Accuracy of cases is: 0.9869565217391304\n",
            "Accuracy of use is: 0.991304347826087\n",
            "Accuracy of material is: 0.991304347826087\n",
            "Accuracy of thickness is: 0.981159420289855\n",
            "Accuracy of length is: 1.0\n",
            "Accuracy of brand is: 0.9768115942028985\n",
            "Accuracy of primary_brand is: 0.8318840579710145\n",
            "Accuracy of secondary_brand is: 0.9536231884057971\n",
            "Accuracy of company is: 0.9884057971014493\n"
          ],
          "name": "stdout"
        }
      ]
    },
    {
      "cell_type": "code",
      "metadata": {
        "id": "Fw2RBUM_d3sN"
      },
      "source": [
        "# Print out any mislabels\n",
        "# Run this without task being set to Query/Description so all mislabels are caught \n",
        "incorrect_labels = []\n",
        "for col in results_val_df.columns:\n",
        "    for i, v in val_output_df[results_val_df[col].values == 0].iterrows():\n",
        "        print(f'Task {v.task}, Label {col}')\n",
        "        print(v.input)\n",
        "        targ = answer_to_dict_v2(v.target_output)[col]\n",
        "        pred = answer_to_dict_v2(v.predicted_output)[col]\n",
        "        print('Target', targ)\n",
        "        print('Pred', pred, '\\n')\n",
        "        incorrect_labels.append({'task': v.task, 'incorrect_label': col, 'input': v.input, 'target_output': targ, 'predicted_output': pred})\n",
        "incorrect_labels_df = pd.DataFrame(incorrect_labels)"
      ],
      "execution_count": null,
      "outputs": []
    },
    {
      "cell_type": "code",
      "metadata": {
        "id": "CEwpU-vSUR1c"
      },
      "source": [
        "incorrect_labels_df.to_pickle('/home/Resources/datasets/medical-search/Gloves/T5_Multiple_V1_Val_Incorrect.pkl')"
      ],
      "execution_count": null,
      "outputs": []
    },
    {
      "cell_type": "markdown",
      "metadata": {
        "id": "Gut68ReECiM1"
      },
      "source": [
        "### Original Format Evaluation\n",
        "Evaluates Model with the Original format ie \\<extra_id_0\\> none \\<extra_id_1\\> medium ..."
      ]
    },
    {
      "cell_type": "code",
      "metadata": {
        "id": "beWAQkFuCvlM"
      },
      "source": [
        "tokenizer = T5Tokenizer.from_pretrained('t5-base')\n",
        "val_data = T5MedSearchDataset(val_df, 'Validation', input_length=512)\n",
        "valloader = torch.utils.data.DataLoader(val_data, batch_size=10, shuffle=False)\n",
        "device = torch.device(\"cuda\" if torch.cuda.is_available() else \"cpu\")"
      ],
      "execution_count": 31,
      "outputs": []
    },
    {
      "cell_type": "code",
      "metadata": {
        "id": "SV-gG5_9C5KN"
      },
      "source": [
        "#device = torch.device(\"cuda\" if torch.cuda.is_available() else \"cpu\")\n",
        "#T5 = T5ForConditionalGeneration.from_pretrained('t5-base', return_dict=True)\n",
        "#T5.load_state_dict(torch.load('folderOnColab/Models/T5_Multiple_Original_Format_V1.bin'))\n",
        "T5.to(device)"
      ],
      "execution_count": null,
      "outputs": []
    },
    {
      "cell_type": "code",
      "metadata": {
        "id": "2WesNTc3DCd_",
        "colab": {
          "base_uri": "https://localhost:8080/"
        },
        "outputId": "7107e38c-6076-4bc9-8c51-8a0c525342a2"
      },
      "source": [
        "validation_output = []\n",
        "for ind, val in enumerate(valloader):\n",
        "    input_ids = val[\"input_ids\"].to(device).squeeze(1)\n",
        "    attention_mask = val[\"attention_mask\"].to(device).squeeze(1)\n",
        "    labels = val['labels']\n",
        "    targets = val['targets']\n",
        "\n",
        "\n",
        "    generated_ids = T5.generate(input_ids=input_ids, attention_mask=attention_mask, max_length=100).squeeze()\n",
        "    predicted_span = tokenizer.batch_decode(generated_ids, skip_special_tokens=False, clean_up_tokenization_spaces=False)\n",
        "    desc = [tokenizer.convert_tokens_to_string(tokenizer.convert_ids_to_tokens(input_ids[i], skip_special_tokens=False)) for i in range(input_ids.shape[0])]\n",
        "    desc = cleanup_T5_tokenization(desc, input=True)\n",
        "    predicted_span = cleanup_T5_tokenization(predicted_span, input=False)\n",
        "    targets = [re.sub('\\<extra_id_[0-9]+\\>$', '', t).strip() for t in targets]\n",
        "    \n",
        "    \n",
        "    tmp_df = pd.DataFrame([desc, targets, predicted_span]).transpose()\n",
        "    tmp_df.columns = ['input', 'target_output', 'predicted_output']\n",
        "    validation_output.append(tmp_df)\n",
        "    \n",
        "    \n",
        "    print('Example ', ind)\n",
        "    print('Description: ', desc)\n",
        "    print('Target Text', targets)\n",
        "    print('T5 Prediction', predicted_span, '\\n')\n"
      ],
      "execution_count": 33,
      "outputs": [
        {
          "output_type": "stream",
          "text": [
            "Example  0\n",
            "Description:  [\"description: nitrile powder free exam gloves black 6 mil 10/100 - ex-large hand armor tranzonic acquisition corp .. The color of this item is <extra_id_0> . The size is <extra_id_1> . This item's sterile status is <extra_id_2> . The powdered status is <extra_id_3> . Its latex-free status is <extra_id_4> . It comes in <extra_id_5> per box. There are <extra_id_6> per case. It is used for <extra_id_7> . The material of this item is <extra_id_8> . This item is <extra_id_9> thick. It is <extra_id_10> long. The product name is <extra_id_11> . <extra_id_12> manufactures this.\", \"description: nitrile powder free exam gloves black 6 mil 10/100 - medium hand armor tranzonic acquisition corp .. The color of this item is <extra_id_0> . The size is <extra_id_1> . This item's sterile status is <extra_id_2> . The powdered status is <extra_id_3> . Its latex-free status is <extra_id_4> . It comes in <extra_id_5> per box. There are <extra_id_6> per case. It is used for <extra_id_7> . The material of this item is <extra_id_8> . This item is <extra_id_9> thick. It is <extra_id_10> long. The product name is <extra_id_11> . <extra_id_12> manufactures this.\", \"description: ambitex glv exam non-sterile stretch vinyl v221 cream powder-free extra large smooth standard length 10/100 ambitex cardinal health 200 , llc. The color of this item is <extra_id_0> . The size is <extra_id_1> . This item's sterile status is <extra_id_2> . The powdered status is <extra_id_3> . Its latex-free status is <extra_id_4> . It comes in <extra_id_5> per box. There are <extra_id_6> per case. It is used for <extra_id_7> . The material of this item is <extra_id_8> . This item is <extra_id_9> thick. It is <extra_id_10> long. The product name is <extra_id_11> . <extra_id_12> manufactures this.\", \"description: nitrile exam blue powder free gloves m=4.5g , finger tip large tradex international cardinal health 200 , llc. The color of this item is <extra_id_0> . The size is <extra_id_1> . This item's sterile status is <extra_id_2> . The powdered status is <extra_id_3> . Its latex-free status is <extra_id_4> . It comes in <extra_id_5> per box. There are <extra_id_6> per case. It is used for <extra_id_7> . The material of this item is <extra_id_8> . This item is <extra_id_9> thick. It is <extra_id_10> long. The product name is <extra_id_11> . <extra_id_12> manufactures this.\", \"description: ambitex glv exam non-sterile nitrile n200blk black powder-free extra large full textured standard length 10/100 ambitex cardinal health 200 , llc. The color of this item is <extra_id_0> . The size is <extra_id_1> . This item's sterile status is <extra_id_2> . The powdered status is <extra_id_3> . Its latex-free status is <extra_id_4> . It comes in <extra_id_5> per box. There are <extra_id_6> per case. It is used for <extra_id_7> . The material of this item is <extra_id_8> . This item is <extra_id_9> thick. It is <extra_id_10> long. The product name is <extra_id_11> . <extra_id_12> manufactures this.\", \"description: ambitex cardinal health 200 , llc ambitex glv exam non-sterile nitrile n400w white powder-free large fingertip textured standard length 10/100. The color of this item is <extra_id_0> . The size is <extra_id_1> . This item's sterile status is <extra_id_2> . The powdered status is <extra_id_3> . Its latex-free status is <extra_id_4> . It comes in <extra_id_5> per box. There are <extra_id_6> per case. It is used for <extra_id_7> . The material of this item is <extra_id_8> . This item is <extra_id_9> thick. It is <extra_id_10> long. The product name is <extra_id_11> . <extra_id_12> manufactures this.\", \"description: tradex international cardinal health 200 , llc vinyl exam clear powder free glove m=5.2g medium. The color of this item is <extra_id_0> . The size is <extra_id_1> . This item's sterile status is <extra_id_2> . The powdered status is <extra_id_3> . Its latex-free status is <extra_id_4> . It comes in <extra_id_5> per box. There are <extra_id_6> per case. It is used for <extra_id_7> . The material of this item is <extra_id_8> . This item is <extra_id_9> thick. It is <extra_id_10> long. The product name is <extra_id_11> . <extra_id_12> manufactures this.\", \"description: ambitex cardinal health 200 , llc ambitex glv exam non-sterile latex l200 cream powder-free extra small full textured standard length 10/100. The color of this item is <extra_id_0> . The size is <extra_id_1> . This item's sterile status is <extra_id_2> . The powdered status is <extra_id_3> . Its latex-free status is <extra_id_4> . It comes in <extra_id_5> per box. There are <extra_id_6> per case. It is used for <extra_id_7> . The material of this item is <extra_id_8> . This item is <extra_id_9> thick. It is <extra_id_10> long. The product name is <extra_id_11> . <extra_id_12> manufactures this.\", \"description: nitrofin pm gloves u s a inc textured premium nitrile examination gloves ( m ). The color of this item is <extra_id_0> . The size is <extra_id_1> . This item's sterile status is <extra_id_2> . The powdered status is <extra_id_3> . Its latex-free status is <extra_id_4> . It comes in <extra_id_5> per box. There are <extra_id_6> per case. It is used for <extra_id_7> . The material of this item is <extra_id_8> . This item is <extra_id_9> thick. It is <extra_id_10> long. The product name is <extra_id_11> . <extra_id_12> manufactures this.\", \"description: textured premium nitrile examination gloves ( s ) nitrofin pm gloves u s a inc. The color of this item is <extra_id_0> . The size is <extra_id_1> . This item's sterile status is <extra_id_2> . The powdered status is <extra_id_3> . Its latex-free status is <extra_id_4> . It comes in <extra_id_5> per box. There are <extra_id_6> per case. It is used for <extra_id_7> . The material of this item is <extra_id_8> . This item is <extra_id_9> thick. It is <extra_id_10> long. The product name is <extra_id_11> . <extra_id_12> manufactures this.\"]\n",
            "Target Text ['targets: <extra_id_0> black <extra_id_1> extra-large <extra_id_2> none <extra_id_3> powder-free <extra_id_4> none <extra_id_5> 100 pairs <extra_id_6> 10 boxes <extra_id_7> exam <extra_id_8> nitrile <extra_id_9> 6mil <extra_id_10> none <extra_id_11> hand armor <extra_id_12> tranzonic acquisition corp.', 'targets: <extra_id_0> black <extra_id_1> medium <extra_id_2> none <extra_id_3> powder-free <extra_id_4> none <extra_id_5> 100 pairs <extra_id_6> 10 boxes <extra_id_7> exam <extra_id_8> nitrile <extra_id_9> 6mil <extra_id_10> none <extra_id_11> hand armor <extra_id_12> tranzonic acquisition corp.', 'targets: <extra_id_0> cream <extra_id_1> extra-large <extra_id_2> non-sterile <extra_id_3> powder-free <extra_id_4> none <extra_id_5> 100 pairs <extra_id_6> 10 boxes <extra_id_7> exam <extra_id_8> vinyl <extra_id_9> none <extra_id_10> none <extra_id_11> ambitex <extra_id_12> cardinal health 200 llc', 'targets: <extra_id_0> blue <extra_id_1> large <extra_id_2> none <extra_id_3> powder-free <extra_id_4> none <extra_id_5> none <extra_id_6> none <extra_id_7> exam <extra_id_8> nitrile <extra_id_9> none <extra_id_10> none <extra_id_11> tradex international <extra_id_12> cardinal health 200 llc', 'targets: <extra_id_0> black <extra_id_1> extra-large <extra_id_2> non-sterile <extra_id_3> powder-free <extra_id_4> none <extra_id_5> 100 pairs <extra_id_6> 10 boxes <extra_id_7> exam <extra_id_8> nitrile <extra_id_9> none <extra_id_10> none <extra_id_11> ambitex <extra_id_12> cardinal health 200 llc', 'targets: <extra_id_0> white <extra_id_1> large <extra_id_2> non-sterile <extra_id_3> powder-free <extra_id_4> none <extra_id_5> 100 pairs <extra_id_6> 10 boxes <extra_id_7> exam <extra_id_8> nitrile <extra_id_9> none <extra_id_10> none <extra_id_11> ambitex <extra_id_12> cardinal health 200 llc', 'targets: <extra_id_0> clear <extra_id_1> medium <extra_id_2> none <extra_id_3> powder-free <extra_id_4> none <extra_id_5> none <extra_id_6> none <extra_id_7> exam <extra_id_8> vinyl <extra_id_9> none <extra_id_10> none <extra_id_11> tradex international <extra_id_12> cardinal health 200 llc', 'targets: <extra_id_0> cream <extra_id_1> extra-small <extra_id_2> non-sterile <extra_id_3> powder-free <extra_id_4> latex <extra_id_5> 100 pairs <extra_id_6> 10 boxes <extra_id_7> exam <extra_id_8> none <extra_id_9> none <extra_id_10> none <extra_id_11> ambitex <extra_id_12> cardinal health 200 llc', 'targets: <extra_id_0> none <extra_id_1> medium <extra_id_2> none <extra_id_3> none <extra_id_4> none <extra_id_5> none <extra_id_6> none <extra_id_7> exam <extra_id_8> nitrile <extra_id_9> none <extra_id_10> none <extra_id_11> nitrofin <extra_id_12> pm gloves u s a inc', 'targets: <extra_id_0> none <extra_id_1> small <extra_id_2> none <extra_id_3> none <extra_id_4> none <extra_id_5> none <extra_id_6> none <extra_id_7> exam <extra_id_8> nitrile <extra_id_9> none <extra_id_10> none <extra_id_11> nitrofin <extra_id_12> pm gloves u s a inc']\n",
            "T5 Prediction ['targets: <extra_id_0> black <extra_id_1> extra-large <extra_id_2> none <extra_id_3> powder-free <extra_id_4> none <extra_id_5> 100 pairs <extra_id_6> 10 boxes <extra_id_7> exam <extra_id_8> nitrile <extra_id_9> 6mil <extra_id_10> none <extra_id_11> tranzonic <extra_id_12> acquisition corp.', 'targets: <extra_id_0> black <extra_id_1> medium <extra_id_2> none <extra_id_3> powder-free <extra_id_4> none <extra_id_5> 100 pairs <extra_id_6> 10 boxes <extra_id_7> exam <extra_id_8> nitrile <extra_id_9> 6mil <extra_id_10> none <extra_id_11> tranzonic <extra_id_12> acquisition corp.', 'targets: <extra_id_0> cream <extra_id_1> extra-large <extra_id_2> non-sterile <extra_id_3> powder-free <extra_id_4> none <extra_id_5> 100 pairs <extra_id_6> 10 boxes <extra_id_7> exam <extra_id_8> vinyl <extra_id_9> none <extra_id_10> none <extra_id_11> ambitex <extra_id_12> cardinal health 200 llc', 'targets: <extra_id_0> blue <extra_id_1> large <extra_id_2> none <extra_id_3> powder-free <extra_id_4> none <extra_id_5> none <extra_id_6> none <extra_id_7> exam <extra_id_8> nitrile <extra_id_9> none <extra_id_10> none <extra_id_11> tradex international <extra_id_12> cardinal health 200 llc', 'targets: <extra_id_0> black <extra_id_1> extra-large <extra_id_2> non-sterile <extra_id_3> powder-free <extra_id_4> none <extra_id_5> 100 pairs <extra_id_6> 10 boxes <extra_id_7> exam <extra_id_8> nitrile <extra_id_9> none <extra_id_10> none <extra_id_11> ambitex <extra_id_12> cardinal health 200 llc', 'targets: <extra_id_0> white <extra_id_1> large <extra_id_2> non-sterile <extra_id_3> powder-free <extra_id_4> none <extra_id_5> 100 pairs <extra_id_6> 10 boxes <extra_id_7> exam <extra_id_8> nitrile <extra_id_9> none <extra_id_10> none <extra_id_11> ambitex <extra_id_12> cardinal health 200 llc', 'targets: <extra_id_0> clear <extra_id_1> medium <extra_id_2> none <extra_id_3> powder-free <extra_id_4> none <extra_id_5> none <extra_id_6> none <extra_id_7> exam <extra_id_8> vinyl <extra_id_9> none <extra_id_10> none <extra_id_11> tradex international <extra_id_12> cardinal health 200 llc', 'targets: <extra_id_0> cream <extra_id_1> extra-small <extra_id_2> non-sterile <extra_id_3> powder-free <extra_id_4> latex <extra_id_5> 100 pairs <extra_id_6> 10 boxes <extra_id_7> exam <extra_id_8> none <extra_id_9> none <extra_id_10> none <extra_id_11> ambitex <extra_id_12> cardinal health 200 llc', 'targets: <extra_id_0> none <extra_id_1> medium <extra_id_2> none <extra_id_3> none <extra_id_4> none <extra_id_5> none <extra_id_6> none <extra_id_7> exam <extra_id_8> nitrile <extra_id_9> none <extra_id_10> none <extra_id_11> nitrofin <extra_id_12> pm gloves u s a inc', 'targets: <extra_id_0> none <extra_id_1> small <extra_id_2> none <extra_id_3> none <extra_id_4> none <extra_id_5> none <extra_id_6> none <extra_id_7> exam <extra_id_8> nitrile <extra_id_9> none <extra_id_10> none <extra_id_11> nitrofin <extra_id_12> pm gloves u s a inc'] \n",
            "\n",
            "Example  1\n",
            "Description:  [\"description: empower adenna llc empower® disposable nitrile exam gloves , powder free , blue , 8 mil , xx-large , 90/bx , 10 bxs/cs. The color of this item is <extra_id_0> . The size is <extra_id_1> . This item's sterile status is <extra_id_2> . The powdered status is <extra_id_3> . Its latex-free status is <extra_id_4> . It comes in <extra_id_5> per box. There are <extra_id_6> per case. It is used for <extra_id_7> . The material of this item is <extra_id_8> . This item is <extra_id_9> thick. It is <extra_id_10> long. The product name is <extra_id_11> . <extra_id_12> manufactures this.\", \"description: empower® disposable nitrile exam gloves , powder free , blue , 8 mil , large , 100/bx , 10 bxs/cs empower adenna llc. The color of this item is <extra_id_0> . The size is <extra_id_1> . This item's sterile status is <extra_id_2> . The powdered status is <extra_id_3> . Its latex-free status is <extra_id_4> . It comes in <extra_id_5> per box. There are <extra_id_6> per case. It is used for <extra_id_7> . The material of this item is <extra_id_8> . This item is <extra_id_9> thick. It is <extra_id_10> long. The product name is <extra_id_11> . <extra_id_12> manufactures this.\", \"description: precision adenna llc precision® disposable nitrile exam gloves , powder free , blue 2 , 4 mil , small , 100/bx , 10 bxs/cs. The color of this item is <extra_id_0> . The size is <extra_id_1> . This item's sterile status is <extra_id_2> . The powdered status is <extra_id_3> . Its latex-free status is <extra_id_4> . It comes in <extra_id_5> per box. There are <extra_id_6> per case. It is used for <extra_id_7> . The material of this item is <extra_id_8> . This item is <extra_id_9> thick. It is <extra_id_10> long. The product name is <extra_id_11> . <extra_id_12> manufactures this.\", \"description: hero® disposable latex exam gloves , powder free , blue , 14 mil , large , 50/bx , 10 bxs/cs hero adenna llc. The color of this item is <extra_id_0> . The size is <extra_id_1> . This item's sterile status is <extra_id_2> . The powdered status is <extra_id_3> . Its latex-free status is <extra_id_4> . It comes in <extra_id_5> per box. There are <extra_id_6> per case. It is used for <extra_id_7> . The material of this item is <extra_id_8> . This item is <extra_id_9> thick. It is <extra_id_10> long. The product name is <extra_id_11> . <extra_id_12> manufactures this.\", \"description: phantom adenna llc phantom® disposable latex exam gloves , powder free , black , 6 mil , small , 100/bx , 10 bxs/cs. The color of this item is <extra_id_0> . The size is <extra_id_1> . This item's sterile status is <extra_id_2> . The powdered status is <extra_id_3> . Its latex-free status is <extra_id_4> . It comes in <extra_id_5> per box. There are <extra_id_6> per case. It is used for <extra_id_7> . The material of this item is <extra_id_8> . This item is <extra_id_9> thick. It is <extra_id_10> long. The product name is <extra_id_11> . <extra_id_12> manufactures this.\", \"description: adenna adenna llc adenna® disposable vinyl exam grade gloves , powder free , clear , 3.9 mil , large , 100/bx , 10 bxs/cs. The color of this item is <extra_id_0> . The size is <extra_id_1> . This item's sterile status is <extra_id_2> . The powdered status is <extra_id_3> . Its latex-free status is <extra_id_4> . It comes in <extra_id_5> per box. There are <extra_id_6> per case. It is used for <extra_id_7> . The material of this item is <extra_id_8> . This item is <extra_id_9> thick. It is <extra_id_10> long. The product name is <extra_id_11> . <extra_id_12> manufactures this.\", \"description: adenna adenna llc adenna® platinum disposable latex exam gloves , powder free , natural , 5.5 mil , ex-small , 100/bx , 10 bxs/cs. The color of this item is <extra_id_0> . The size is <extra_id_1> . This item's sterile status is <extra_id_2> . The powdered status is <extra_id_3> . Its latex-free status is <extra_id_4> . It comes in <extra_id_5> per box. There are <extra_id_6> per case. It is used for <extra_id_7> . The material of this item is <extra_id_8> . This item is <extra_id_9> thick. It is <extra_id_10> long. The product name is <extra_id_11> . <extra_id_12> manufactures this.\", \"description: adenna adenna llc adenna® gold disposable latex exam gloves , powder free , natural , 6 mil , small , 100/bx , 10 bxs/cs. The color of this item is <extra_id_0> . The size is <extra_id_1> . This item's sterile status is <extra_id_2> . The powdered status is <extra_id_3> . Its latex-free status is <extra_id_4> . It comes in <extra_id_5> per box. There are <extra_id_6> per case. It is used for <extra_id_7> . The material of this item is <extra_id_8> . This item is <extra_id_9> thick. It is <extra_id_10> long. The product name is <extra_id_11> . <extra_id_12> manufactures this.\", \"description: adenna® disposable vinyl exam grade gloves , powder free , clear , 3.9 mil , large , 100/bx , 10 bxs/cs adenna adenna llc. The color of this item is <extra_id_0> . The size is <extra_id_1> . This item's sterile status is <extra_id_2> . The powdered status is <extra_id_3> . Its latex-free status is <extra_id_4> . It comes in <extra_id_5> per box. There are <extra_id_6> per case. It is used for <extra_id_7> . The material of this item is <extra_id_8> . This item is <extra_id_9> thick. It is <extra_id_10> long. The product name is <extra_id_11> . <extra_id_12> manufactures this.\", \"description: mckesson mckesson medical-surgical inc. glove , exam nitrile black ldc pf x-large. The color of this item is <extra_id_0> . The size is <extra_id_1> . This item's sterile status is <extra_id_2> . The powdered status is <extra_id_3> . Its latex-free status is <extra_id_4> . It comes in <extra_id_5> per box. There are <extra_id_6> per case. It is used for <extra_id_7> . The material of this item is <extra_id_8> . This item is <extra_id_9> thick. It is <extra_id_10> long. The product name is <extra_id_11> . <extra_id_12> manufactures this.\"]\n",
            "Target Text ['targets: <extra_id_0> blue <extra_id_1> extra-extra-large <extra_id_2> none <extra_id_3> powder-free <extra_id_4> none <extra_id_5> 90 pairs <extra_id_6> 10 boxes <extra_id_7> exam <extra_id_8> nitrile <extra_id_9> 8mil <extra_id_10> none <extra_id_11> empower <extra_id_12> adenna llc', 'targets: <extra_id_0> blue <extra_id_1> large <extra_id_2> none <extra_id_3> powder-free <extra_id_4> none <extra_id_5> 100 pairs <extra_id_6> 10 boxes <extra_id_7> exam <extra_id_8> nitrile <extra_id_9> 8mil <extra_id_10> none <extra_id_11> empower <extra_id_12> adenna llc', 'targets: <extra_id_0> blue <extra_id_1> small <extra_id_2> none <extra_id_3> powder-free <extra_id_4> none <extra_id_5> 100 pairs <extra_id_6> 10 boxes <extra_id_7> exam <extra_id_8> nitrile <extra_id_9> 4mil <extra_id_10> none <extra_id_11> precision <extra_id_12> adenna llc', 'targets: <extra_id_0> blue <extra_id_1> large <extra_id_2> none <extra_id_3> powder-free <extra_id_4> latex <extra_id_5> 50 pairs <extra_id_6> 10 boxes <extra_id_7> exam <extra_id_8> none <extra_id_9> 14mil <extra_id_10> none <extra_id_11> hero <extra_id_12> adenna llc', 'targets: <extra_id_0> black <extra_id_1> small <extra_id_2> none <extra_id_3> powder-free <extra_id_4> latex <extra_id_5> 100 pairs <extra_id_6> 10 boxes <extra_id_7> exam <extra_id_8> none <extra_id_9> 6mil <extra_id_10> none <extra_id_11> phantom <extra_id_12> adenna llc', 'targets: <extra_id_0> clear <extra_id_1> large <extra_id_2> none <extra_id_3> powder-free <extra_id_4> none <extra_id_5> 100 pairs <extra_id_6> 10 boxes <extra_id_7> exam <extra_id_8> vinyl <extra_id_9> 3.9mil <extra_id_10> none <extra_id_11> none <extra_id_12> adenna llc', 'targets: <extra_id_0> natural <extra_id_1> extra-small <extra_id_2> none <extra_id_3> powder-free <extra_id_4> latex <extra_id_5> 100 pairs <extra_id_6> 10 boxes <extra_id_7> exam <extra_id_8> none <extra_id_9> 5.5mil <extra_id_10> none <extra_id_11> none <extra_id_12> adenna llc', 'targets: <extra_id_0> gold <extra_id_1> small <extra_id_2> none <extra_id_3> powder-free <extra_id_4> latex <extra_id_5> 100 pairs <extra_id_6> 10 boxes <extra_id_7> exam <extra_id_8> none <extra_id_9> 6mil <extra_id_10> none <extra_id_11> none <extra_id_12> adenna llc', 'targets: <extra_id_0> clear <extra_id_1> large <extra_id_2> none <extra_id_3> powder-free <extra_id_4> none <extra_id_5> 100 pairs <extra_id_6> 10 boxes <extra_id_7> exam <extra_id_8> vinyl <extra_id_9> 3.9mil <extra_id_10> none <extra_id_11> none <extra_id_12> adenna llc', 'targets: <extra_id_0> black <extra_id_1> extra-large <extra_id_2> none <extra_id_3> powder-free <extra_id_4> none <extra_id_5> none <extra_id_6> none <extra_id_7> exam <extra_id_8> nitrile <extra_id_9> none <extra_id_10> none <extra_id_11> none <extra_id_12> mckesson medical-surgical inc.']\n",
            "T5 Prediction ['targets: <extra_id_0> blue <extra_id_1> extra-extra-large <extra_id_2> none <extra_id_3> powder-free <extra_id_4> none <extra_id_5> 90 pairs <extra_id_6> 10 boxes <extra_id_7> exam <extra_id_8> nitrile <extra_id_9> 8mil <extra_id_10> none <extra_id_11> empower <extra_id_12> adenna llc', 'targets: <extra_id_0> blue <extra_id_1> large <extra_id_2> none <extra_id_3> powder-free <extra_id_4> none <extra_id_5> 100 pairs <extra_id_6> 10 boxes <extra_id_7> exam <extra_id_8> nitrile <extra_id_9> 8mil <extra_id_10> none <extra_id_11> empower <extra_id_12> adenna llc', 'targets: <extra_id_0> blue <extra_id_1> small <extra_id_2> none <extra_id_3> powder-free <extra_id_4> none <extra_id_5> 100 pairs <extra_id_6> 10 boxes <extra_id_7> exam <extra_id_8> nitrile <extra_id_9> 4mil <extra_id_10> none <extra_id_11> precision <extra_id_12> adenna llc', 'targets: <extra_id_0> blue <extra_id_1> large <extra_id_2> none <extra_id_3> powder-free <extra_id_4> latex <extra_id_5> 50 pairs <extra_id_6> 10 boxes <extra_id_7> exam <extra_id_8> none <extra_id_9> 14mil <extra_id_10> none <extra_id_11> hero <extra_id_12> adenna llc', 'targets: <extra_id_0> black <extra_id_1> small <extra_id_2> none <extra_id_3> powder-free <extra_id_4> latex <extra_id_5> 100 pairs <extra_id_6> 10 boxes <extra_id_7> exam <extra_id_8> none <extra_id_9> 6mil <extra_id_10> none <extra_id_11> phantom <extra_id_12> adenna llc', 'targets: <extra_id_0> clear <extra_id_1> large <extra_id_2> none <extra_id_3> powder-free <extra_id_4> none <extra_id_5> 100 pairs <extra_id_6> 10 boxes <extra_id_7> exam <extra_id_8> vinyl <extra_id_9> 3.9mil <extra_id_10> none <extra_id_11> none <extra_id_12> adenna llc', 'targets: <extra_id_0> natural <extra_id_1> extra-small <extra_id_2> none <extra_id_3> powder-free <extra_id_4> latex <extra_id_5> 100 pairs <extra_id_6> 10 boxes <extra_id_7> exam <extra_id_8> none <extra_id_9> 5.5mil <extra_id_10> none <extra_id_11> none <extra_id_12> adenna llc', 'targets: <extra_id_0> gold <extra_id_1> small <extra_id_2> none <extra_id_3> powder-free <extra_id_4> latex <extra_id_5> 100 pairs <extra_id_6> 10 boxes <extra_id_7> exam <extra_id_8> none <extra_id_9> 6mil <extra_id_10> none <extra_id_11> none <extra_id_12> adenna llc', 'targets: <extra_id_0> clear <extra_id_1> large <extra_id_2> none <extra_id_3> powder-free <extra_id_4> none <extra_id_5> 100 pairs <extra_id_6> 10 boxes <extra_id_7> exam <extra_id_8> vinyl <extra_id_9> 3.9mil <extra_id_10> none <extra_id_11> none <extra_id_12> adenna llc', 'targets: <extra_id_0> black <extra_id_1> extra-large <extra_id_2> none <extra_id_3> powder-free <extra_id_4> none <extra_id_5> none <extra_id_6> none <extra_id_7> exam <extra_id_8> nitrile <extra_id_9> none <extra_id_10> none <extra_id_11> none <extra_id_12> mckesson medical-surgical inc.'] \n",
            "\n",
            "Example  2\n",
            "Description:  [\"description: mckesson mckesson medical-surgical inc. gloves , nitrile exam 3.0pf textured fingertips cobalt blue large. The color of this item is <extra_id_0> . The size is <extra_id_1> . This item's sterile status is <extra_id_2> . The powdered status is <extra_id_3> . Its latex-free status is <extra_id_4> . It comes in <extra_id_5> per box. There are <extra_id_6> per case. It is used for <extra_id_7> . The material of this item is <extra_id_8> . This item is <extra_id_9> thick. It is <extra_id_10> long. The product name is <extra_id_11> . <extra_id_12> manufactures this.\", \"description: mckesson mckesson medical-surgical inc. sterile nitrile exam gloves powder-free textured fingertips large. The color of this item is <extra_id_0> . The size is <extra_id_1> . This item's sterile status is <extra_id_2> . The powdered status is <extra_id_3> . Its latex-free status is <extra_id_4> . It comes in <extra_id_5> per box. There are <extra_id_6> per case. It is used for <extra_id_7> . The material of this item is <extra_id_8> . This item is <extra_id_9> thick. It is <extra_id_10> long. The product name is <extra_id_11> . <extra_id_12> manufactures this.\", \"description: mckesson mckesson medical-surgical inc. nitrile exam gloves powder-free textured non-sterile medium. The color of this item is <extra_id_0> . The size is <extra_id_1> . This item's sterile status is <extra_id_2> . The powdered status is <extra_id_3> . Its latex-free status is <extra_id_4> . It comes in <extra_id_5> per box. There are <extra_id_6> per case. It is used for <extra_id_7> . The material of this item is <extra_id_8> . This item is <extra_id_9> thick. It is <extra_id_10> long. The product name is <extra_id_11> . <extra_id_12> manufactures this.\", \"description: mckesson mckesson medical-surgical inc. confiderm® spct synthetic surgical gloves chemo tested size 6. The color of this item is <extra_id_0> . The size is <extra_id_1> . This item's sterile status is <extra_id_2> . The powdered status is <extra_id_3> . Its latex-free status is <extra_id_4> . It comes in <extra_id_5> per box. There are <extra_id_6> per case. It is used for <extra_id_7> . The material of this item is <extra_id_8> . This item is <extra_id_9> thick. It is <extra_id_10> long. The product name is <extra_id_11> . <extra_id_12> manufactures this.\", \"description: mckesson mckesson medical-surgical inc. corium synthetic surgical gloves size 8. The color of this item is <extra_id_0> . The size is <extra_id_1> . This item's sterile status is <extra_id_2> . The powdered status is <extra_id_3> . Its latex-free status is <extra_id_4> . It comes in <extra_id_5> per box. There are <extra_id_6> per case. It is used for <extra_id_7> . The material of this item is <extra_id_8> . This item is <extra_id_9> thick. It is <extra_id_10> long. The product name is <extra_id_11> . <extra_id_12> manufactures this.\", \"description: mckesson mckesson medical-surgical inc. glove , surg str ltx pf sz7.5. The color of this item is <extra_id_0> . The size is <extra_id_1> . This item's sterile status is <extra_id_2> . The powdered status is <extra_id_3> . Its latex-free status is <extra_id_4> . It comes in <extra_id_5> per box. There are <extra_id_6> per case. It is used for <extra_id_7> . The material of this item is <extra_id_8> . This item is <extra_id_9> thick. It is <extra_id_10> long. The product name is <extra_id_11> . <extra_id_12> manufactures this.\", \"description: mckesson mckesson medical-surgical inc. confiderm® spt synthetic surgical gloves size 6. The color of this item is <extra_id_0> . The size is <extra_id_1> . This item's sterile status is <extra_id_2> . The powdered status is <extra_id_3> . Its latex-free status is <extra_id_4> . It comes in <extra_id_5> per box. There are <extra_id_6> per case. It is used for <extra_id_7> . The material of this item is <extra_id_8> . This item is <extra_id_9> thick. It is <extra_id_10> long. The product name is <extra_id_11> . <extra_id_12> manufactures this.\", \"description: gloves , nitrile exam 3.0pf textured fingertips cobalt blue extra large mckesson mckesson medical-surgical inc .. The color of this item is <extra_id_0> . The size is <extra_id_1> . This item's sterile status is <extra_id_2> . The powdered status is <extra_id_3> . Its latex-free status is <extra_id_4> . It comes in <extra_id_5> per box. There are <extra_id_6> per case. It is used for <extra_id_7> . The material of this item is <extra_id_8> . This item is <extra_id_9> thick. It is <extra_id_10> long. The product name is <extra_id_11> . <extra_id_12> manufactures this.\", \"description: mckesson mckesson medical-surgical inc. glove , latex text pf , confiderm® cl , l. The color of this item is <extra_id_0> . The size is <extra_id_1> . This item's sterile status is <extra_id_2> . The powdered status is <extra_id_3> . Its latex-free status is <extra_id_4> . It comes in <extra_id_5> per box. There are <extra_id_6> per case. It is used for <extra_id_7> . The material of this item is <extra_id_8> . This item is <extra_id_9> thick. It is <extra_id_10> long. The product name is <extra_id_11> . <extra_id_12> manufactures this.\", \"description: glove , vinyl pf clear , xl mckesson mckesson medical-surgical inc .. The color of this item is <extra_id_0> . The size is <extra_id_1> . This item's sterile status is <extra_id_2> . The powdered status is <extra_id_3> . Its latex-free status is <extra_id_4> . It comes in <extra_id_5> per box. There are <extra_id_6> per case. It is used for <extra_id_7> . The material of this item is <extra_id_8> . This item is <extra_id_9> thick. It is <extra_id_10> long. The product name is <extra_id_11> . <extra_id_12> manufactures this.\"]\n",
            "Target Text ['targets: <extra_id_0> cobalt blue <extra_id_1> large <extra_id_2> none <extra_id_3> none <extra_id_4> none <extra_id_5> none <extra_id_6> none <extra_id_7> exam <extra_id_8> nitrile <extra_id_9> none <extra_id_10> none <extra_id_11> none <extra_id_12> mckesson medical-surgical inc.', 'targets: <extra_id_0> none <extra_id_1> large <extra_id_2> sterile <extra_id_3> powder-free <extra_id_4> none <extra_id_5> none <extra_id_6> none <extra_id_7> exam <extra_id_8> nitrile <extra_id_9> none <extra_id_10> none <extra_id_11> none <extra_id_12> mckesson medical-surgical inc.', 'targets: <extra_id_0> none <extra_id_1> medium <extra_id_2> non-sterile <extra_id_3> powder-free <extra_id_4> none <extra_id_5> none <extra_id_6> none <extra_id_7> exam <extra_id_8> nitrile <extra_id_9> none <extra_id_10> none <extra_id_11> none <extra_id_12> mckesson medical-surgical inc.', 'targets: <extra_id_0> none <extra_id_1> 6.0 <extra_id_2> none <extra_id_3> none <extra_id_4> none <extra_id_5> none <extra_id_6> none <extra_id_7> surgical, chemo <extra_id_8> synthetic <extra_id_9> none <extra_id_10> none <extra_id_11> none <extra_id_12> mckesson medical-surgical inc.', 'targets: <extra_id_0> none <extra_id_1> 8.0 <extra_id_2> none <extra_id_3> none <extra_id_4> none <extra_id_5> none <extra_id_6> none <extra_id_7> surgical <extra_id_8> synthetic <extra_id_9> none <extra_id_10> none <extra_id_11> none <extra_id_12> mckesson medical-surgical inc.', 'targets: <extra_id_0> none <extra_id_1> none <extra_id_2> sterile <extra_id_3> powder-free <extra_id_4> latex <extra_id_5> none <extra_id_6> none <extra_id_7> surgical <extra_id_8> none <extra_id_9> none <extra_id_10> none <extra_id_11> none <extra_id_12> mckesson medical-surgical inc.', 'targets: <extra_id_0> none <extra_id_1> 6.0 <extra_id_2> none <extra_id_3> none <extra_id_4> none <extra_id_5> none <extra_id_6> none <extra_id_7> surgical <extra_id_8> synthetic <extra_id_9> none <extra_id_10> none <extra_id_11> none <extra_id_12> mckesson medical-surgical inc.', 'targets: <extra_id_0> cobalt blue <extra_id_1> extra-large <extra_id_2> none <extra_id_3> none <extra_id_4> none <extra_id_5> none <extra_id_6> none <extra_id_7> exam <extra_id_8> nitrile <extra_id_9> none <extra_id_10> none <extra_id_11> none <extra_id_12> mckesson medical-surgical inc.', 'targets: <extra_id_0> none <extra_id_1> large <extra_id_2> none <extra_id_3> powder-free <extra_id_4> latex <extra_id_5> none <extra_id_6> none <extra_id_7> none <extra_id_8> none <extra_id_9> none <extra_id_10> none <extra_id_11> none <extra_id_12> mckesson medical-surgical inc.', 'targets: <extra_id_0> clear <extra_id_1> extra-large <extra_id_2> none <extra_id_3> powder-free <extra_id_4> none <extra_id_5> none <extra_id_6> none <extra_id_7> none <extra_id_8> vinyl <extra_id_9> none <extra_id_10> none <extra_id_11> none <extra_id_12> mckesson medical-surgical inc.']\n",
            "T5 Prediction ['targets: <extra_id_0> cobalt blue <extra_id_1> large <extra_id_2> none <extra_id_3> none <extra_id_4> none <extra_id_5> none <extra_id_6> none <extra_id_7> exam <extra_id_8> nitrile <extra_id_9> none <extra_id_10> none <extra_id_11> none <extra_id_12> mckesson medical-surgical inc.', 'targets: <extra_id_0> none <extra_id_1> large <extra_id_2> sterile <extra_id_3> powder-free <extra_id_4> none <extra_id_5> none <extra_id_6> none <extra_id_7> exam <extra_id_8> nitrile <extra_id_9> none <extra_id_10> none <extra_id_11> none <extra_id_12> mckesson medical-surgical inc.', 'targets: <extra_id_0> none <extra_id_1> medium <extra_id_2> non-sterile <extra_id_3> powder-free <extra_id_4> none <extra_id_5> none <extra_id_6> none <extra_id_7> exam <extra_id_8> nitrile <extra_id_9> none <extra_id_10> none <extra_id_11> none <extra_id_12> mckesson medical-surgical inc.', 'targets: <extra_id_0> none <extra_id_1> 6.0 <extra_id_2> none <extra_id_3> none <extra_id_4> none <extra_id_5> none <extra_id_6> none <extra_id_7> surgical, chemo <extra_id_8> synthetic <extra_id_9> none <extra_id_10> none <extra_id_11> none <extra_id_12> mckesson medical-surgical inc.', 'targets: <extra_id_0> none <extra_id_1> 8.0 <extra_id_2> none <extra_id_3> none <extra_id_4> none <extra_id_5> none <extra_id_6> none <extra_id_7> surgical <extra_id_8> synthetic <extra_id_9> none <extra_id_10> none <extra_id_11> none <extra_id_12> mckesson medical-surgical inc.', 'targets: <extra_id_0> none <extra_id_1> none <extra_id_2> sterile <extra_id_3> powder-free <extra_id_4> latex <extra_id_5> none <extra_id_6> none <extra_id_7> surgical <extra_id_8> none <extra_id_9> none <extra_id_10> none <extra_id_11> none <extra_id_12> mckesson medical-surgical inc.', 'targets: <extra_id_0> none <extra_id_1> 6.0 <extra_id_2> none <extra_id_3> none <extra_id_4> none <extra_id_5> none <extra_id_6> none <extra_id_7> surgical <extra_id_8> synthetic <extra_id_9> none <extra_id_10> none <extra_id_11> none <extra_id_12> mckesson medical-surgical inc.', 'targets: <extra_id_0> cobalt blue <extra_id_1> extra-large <extra_id_2> none <extra_id_3> none <extra_id_4> none <extra_id_5> none <extra_id_6> none <extra_id_7> exam <extra_id_8> nitrile <extra_id_9> none <extra_id_10> none <extra_id_11> none <extra_id_12> mckesson medical-surgical inc.', 'targets: <extra_id_0> none <extra_id_1> large <extra_id_2> none <extra_id_3> powder-free <extra_id_4> latex <extra_id_5> none <extra_id_6> none <extra_id_7> none <extra_id_8> none <extra_id_9> none <extra_id_10> none <extra_id_11> none <extra_id_12> mckesson medical-surgical inc.', 'targets: <extra_id_0> clear <extra_id_1> extra-large <extra_id_2> none <extra_id_3> powder-free <extra_id_4> none <extra_id_5> none <extra_id_6> none <extra_id_7> none <extra_id_8> vinyl <extra_id_9> none <extra_id_10> none <extra_id_11> none <extra_id_12> mckesson medical-surgical inc.'] \n",
            "\n",
            "Example  3\n",
            "Description:  [\"description: mckesson mckesson medical-surgical inc. glove , vinyl pf clear , lg. The color of this item is <extra_id_0> . The size is <extra_id_1> . This item's sterile status is <extra_id_2> . The powdered status is <extra_id_3> . Its latex-free status is <extra_id_4> . It comes in <extra_id_5> per box. There are <extra_id_6> per case. It is used for <extra_id_7> . The material of this item is <extra_id_8> . This item is <extra_id_9> thick. It is <extra_id_10> long. The product name is <extra_id_11> . <extra_id_12> manufactures this.\", \"description: mckesson mckesson medical-surgical inc. glove , vinyl pf clear , md. The color of this item is <extra_id_0> . The size is <extra_id_1> . This item's sterile status is <extra_id_2> . The powdered status is <extra_id_3> . Its latex-free status is <extra_id_4> . It comes in <extra_id_5> per box. There are <extra_id_6> per case. It is used for <extra_id_7> . The material of this item is <extra_id_8> . This item is <extra_id_9> thick. It is <extra_id_10> long. The product name is <extra_id_11> . <extra_id_12> manufactures this.\", \"description: glove , exam vnyl pf xsm ( 150/bx ) mckesson mckesson medical-surgical inc .. The color of this item is <extra_id_0> . The size is <extra_id_1> . This item's sterile status is <extra_id_2> . The powdered status is <extra_id_3> . Its latex-free status is <extra_id_4> . It comes in <extra_id_5> per box. There are <extra_id_6> per case. It is used for <extra_id_7> . The material of this item is <extra_id_8> . This item is <extra_id_9> thick. It is <extra_id_10> long. The product name is <extra_id_11> . <extra_id_12> manufactures this.\", \"description: mckesson mckesson medical-surgical inc. 911 powder free nitrile non sterile gloves - purple. The color of this item is <extra_id_0> . The size is <extra_id_1> . This item's sterile status is <extra_id_2> . The powdered status is <extra_id_3> . Its latex-free status is <extra_id_4> . It comes in <extra_id_5> per box. There are <extra_id_6> per case. It is used for <extra_id_7> . The material of this item is <extra_id_8> . This item is <extra_id_9> thick. It is <extra_id_10> long. The product name is <extra_id_11> . <extra_id_12> manufactures this.\", \"description: protector powder free latex gloves textured non-sterile natural to off white mckesson mckesson medical-surgical inc .. The color of this item is <extra_id_0> . The size is <extra_id_1> . This item's sterile status is <extra_id_2> . The powdered status is <extra_id_3> . Its latex-free status is <extra_id_4> . It comes in <extra_id_5> per box. There are <extra_id_6> per case. It is used for <extra_id_7> . The material of this item is <extra_id_8> . This item is <extra_id_9> thick. It is <extra_id_10> long. The product name is <extra_id_11> . <extra_id_12> manufactures this.\", \"description: mckesson mckesson medical-surgical inc. exam glove mckesson nonsterile ivory powder free stretch vinyl ambidextrous smooth not chemo approved x-large. The color of this item is <extra_id_0> . The size is <extra_id_1> . This item's sterile status is <extra_id_2> . The powdered status is <extra_id_3> . Its latex-free status is <extra_id_4> . It comes in <extra_id_5> per box. There are <extra_id_6> per case. It is used for <extra_id_7> . The material of this item is <extra_id_8> . This item is <extra_id_9> thick. It is <extra_id_10> long. The product name is <extra_id_11> . <extra_id_12> manufactures this.\", \"description: mckesson mckesson medical-surgical inc. exam glove mckesson nonsterile ivory powder free stretch vinyl ambidextrous smooth not chemo approved large. The color of this item is <extra_id_0> . The size is <extra_id_1> . This item's sterile status is <extra_id_2> . The powdered status is <extra_id_3> . Its latex-free status is <extra_id_4> . It comes in <extra_id_5> per box. There are <extra_id_6> per case. It is used for <extra_id_7> . The material of this item is <extra_id_8> . This item is <extra_id_9> thick. It is <extra_id_10> long. The product name is <extra_id_11> . <extra_id_12> manufactures this.\", \"description: mckesson mckesson medical-surgical inc. glove , exam vnyl pf lg ( 100/bx ). The color of this item is <extra_id_0> . The size is <extra_id_1> . This item's sterile status is <extra_id_2> . The powdered status is <extra_id_3> . Its latex-free status is <extra_id_4> . It comes in <extra_id_5> per box. There are <extra_id_6> per case. It is used for <extra_id_7> . The material of this item is <extra_id_8> . This item is <extra_id_9> thick. It is <extra_id_10> long. The product name is <extra_id_11> . <extra_id_12> manufactures this.\", \"description: metro-pacifica metro medical supply patient examination gloves powder free nitrile xl. The color of this item is <extra_id_0> . The size is <extra_id_1> . This item's sterile status is <extra_id_2> . The powdered status is <extra_id_3> . Its latex-free status is <extra_id_4> . It comes in <extra_id_5> per box. There are <extra_id_6> per case. It is used for <extra_id_7> . The material of this item is <extra_id_8> . This item is <extra_id_9> thick. It is <extra_id_10> long. The product name is <extra_id_11> . <extra_id_12> manufactures this.\", \"description: ultra patient examination gloves powder free nitrile xl metro-pacifica metro medical supply. The color of this item is <extra_id_0> . The size is <extra_id_1> . This item's sterile status is <extra_id_2> . The powdered status is <extra_id_3> . Its latex-free status is <extra_id_4> . It comes in <extra_id_5> per box. There are <extra_id_6> per case. It is used for <extra_id_7> . The material of this item is <extra_id_8> . This item is <extra_id_9> thick. It is <extra_id_10> long. The product name is <extra_id_11> . <extra_id_12> manufactures this.\"]\n",
            "Target Text ['targets: <extra_id_0> clear <extra_id_1> large <extra_id_2> none <extra_id_3> powder-free <extra_id_4> none <extra_id_5> none <extra_id_6> none <extra_id_7> none <extra_id_8> vinyl <extra_id_9> none <extra_id_10> none <extra_id_11> none <extra_id_12> mckesson medical-surgical inc.', 'targets: <extra_id_0> clear <extra_id_1> medium <extra_id_2> none <extra_id_3> powder-free <extra_id_4> none <extra_id_5> none <extra_id_6> none <extra_id_7> none <extra_id_8> vinyl <extra_id_9> none <extra_id_10> none <extra_id_11> none <extra_id_12> mckesson medical-surgical inc.', 'targets: <extra_id_0> none <extra_id_1> extra-small <extra_id_2> none <extra_id_3> powder-free <extra_id_4> none <extra_id_5> 150 pairs <extra_id_6> none <extra_id_7> exam <extra_id_8> vinyl <extra_id_9> none <extra_id_10> none <extra_id_11> none <extra_id_12> mckesson medical-surgical inc.', 'targets: <extra_id_0> purple <extra_id_1> none <extra_id_2> non-sterile <extra_id_3> powder-free <extra_id_4> none <extra_id_5> none <extra_id_6> none <extra_id_7> none <extra_id_8> nitrile <extra_id_9> none <extra_id_10> none <extra_id_11> none <extra_id_12> mckesson medical-surgical inc.', 'targets: <extra_id_0> natural <extra_id_1> none <extra_id_2> non-sterile <extra_id_3> powder-free <extra_id_4> latex <extra_id_5> none <extra_id_6> none <extra_id_7> none <extra_id_8> none <extra_id_9> none <extra_id_10> none <extra_id_11> none <extra_id_12> mckesson medical-surgical inc.', 'targets: <extra_id_0> ivory <extra_id_1> extra-large <extra_id_2> non-sterile <extra_id_3> powder-free <extra_id_4> none <extra_id_5> none <extra_id_6> none <extra_id_7> exam <extra_id_8> vinyl <extra_id_9> none <extra_id_10> none <extra_id_11> none <extra_id_12> mckesson medical-surgical inc.', 'targets: <extra_id_0> ivory <extra_id_1> large <extra_id_2> non-sterile <extra_id_3> powder-free <extra_id_4> none <extra_id_5> none <extra_id_6> none <extra_id_7> exam <extra_id_8> vinyl <extra_id_9> none <extra_id_10> none <extra_id_11> none <extra_id_12> mckesson medical-surgical inc.', 'targets: <extra_id_0> none <extra_id_1> large <extra_id_2> none <extra_id_3> powder-free <extra_id_4> none <extra_id_5> 100 pairs <extra_id_6> none <extra_id_7> exam <extra_id_8> vinyl <extra_id_9> none <extra_id_10> none <extra_id_11> none <extra_id_12> mckesson medical-surgical inc.', 'targets: <extra_id_0> none <extra_id_1> extra-large <extra_id_2> none <extra_id_3> powder-free <extra_id_4> none <extra_id_5> none <extra_id_6> none <extra_id_7> exam <extra_id_8> nitrile <extra_id_9> none <extra_id_10> none <extra_id_11> metro-pacifica <extra_id_12> metro medical supply', 'targets: <extra_id_0> none <extra_id_1> extra-large <extra_id_2> none <extra_id_3> powder-free <extra_id_4> none <extra_id_5> none <extra_id_6> none <extra_id_7> exam <extra_id_8> nitrile <extra_id_9> none <extra_id_10> none <extra_id_11> metro-pacifica <extra_id_12> metro medical supply']\n",
            "T5 Prediction ['targets: <extra_id_0> clear <extra_id_1> large <extra_id_2> none <extra_id_3> powder-free <extra_id_4> none <extra_id_5> none <extra_id_6> none <extra_id_7> none <extra_id_8> vinyl <extra_id_9> none <extra_id_10> none <extra_id_11> none <extra_id_12> mckesson medical-surgical inc.', 'targets: <extra_id_0> clear <extra_id_1> medium <extra_id_2> none <extra_id_3> powder-free <extra_id_4> none <extra_id_5> none <extra_id_6> none <extra_id_7> none <extra_id_8> vinyl <extra_id_9> none <extra_id_10> none <extra_id_11> none <extra_id_12> mckesson medical-surgical inc.', 'targets: <extra_id_0> none <extra_id_1> extra-small <extra_id_2> none <extra_id_3> powder-free <extra_id_4> none <extra_id_5> 150 pairs <extra_id_6> none <extra_id_7> exam <extra_id_8> vinyl <extra_id_9> none <extra_id_10> none <extra_id_11> none <extra_id_12> mckesson medical-surgical inc.', 'targets: <extra_id_0> purple <extra_id_1> none <extra_id_2> non-sterile <extra_id_3> powder-free <extra_id_4> none <extra_id_5> none <extra_id_6> none <extra_id_7> none <extra_id_8> nitrile <extra_id_9> none <extra_id_10> none <extra_id_11> none <extra_id_12> mckesson medical-surgical inc.', 'targets: <extra_id_0> natural <extra_id_1> none <extra_id_2> non-sterile <extra_id_3> powder-free <extra_id_4> latex <extra_id_5> none <extra_id_6> none <extra_id_7> none <extra_id_8> none <extra_id_9> none <extra_id_10> none <extra_id_11> none <extra_id_12> mckesson medical-surgical inc.', 'targets: <extra_id_0> ivory <extra_id_1> extra-large <extra_id_2> non-sterile <extra_id_3> powder-free <extra_id_4> none <extra_id_5> none <extra_id_6> none <extra_id_7> exam <extra_id_8> vinyl <extra_id_9> none <extra_id_10> none <extra_id_11> none <extra_id_12> mckesson medical-surgical inc.', 'targets: <extra_id_0> ivory <extra_id_1> large <extra_id_2> non-sterile <extra_id_3> powder-free <extra_id_4> none <extra_id_5> none <extra_id_6> none <extra_id_7> exam <extra_id_8> vinyl <extra_id_9> none <extra_id_10> none <extra_id_11> none <extra_id_12> mckesson medical-surgical inc.', 'targets: <extra_id_0> none <extra_id_1> large <extra_id_2> none <extra_id_3> powder-free <extra_id_4> none <extra_id_5> 100 pairs <extra_id_6> none <extra_id_7> exam <extra_id_8> vinyl <extra_id_9> none <extra_id_10> none <extra_id_11> none <extra_id_12> mckesson medical-surgical inc.', 'targets: <extra_id_0> none <extra_id_1> extra-large <extra_id_2> none <extra_id_3> powder-free <extra_id_4> none <extra_id_5> none <extra_id_6> none <extra_id_7> exam <extra_id_8> nitrile <extra_id_9> none <extra_id_10> none <extra_id_11> metro-pacifica <extra_id_12> metro medical supply', 'targets: <extra_id_0> none <extra_id_1> extra-large <extra_id_2> none <extra_id_3> powder-free <extra_id_4> none <extra_id_5> none <extra_id_6> none <extra_id_7> exam <extra_id_8> nitrile <extra_id_9> none <extra_id_10> none <extra_id_11> metro-pacifica <extra_id_12> metro medical supply'] \n",
            "\n",
            "Example  4\n",
            "Description:  [\"description: metro-pacifica metro medical supply patient examination gloves powder-free nitrile xl. The color of this item is <extra_id_0> . The size is <extra_id_1> . This item's sterile status is <extra_id_2> . The powdered status is <extra_id_3> . Its latex-free status is <extra_id_4> . It comes in <extra_id_5> per box. There are <extra_id_6> per case. It is used for <extra_id_7> . The material of this item is <extra_id_8> . This item is <extra_id_9> thick. It is <extra_id_10> long. The product name is <extra_id_11> . <extra_id_12> manufactures this.\", \"description: metro-pacifica metro medical supply patient examination gloves powder-free nitrile s. The color of this item is <extra_id_0> . The size is <extra_id_1> . This item's sterile status is <extra_id_2> . The powdered status is <extra_id_3> . Its latex-free status is <extra_id_4> . It comes in <extra_id_5> per box. There are <extra_id_6> per case. It is used for <extra_id_7> . The material of this item is <extra_id_8> . This item is <extra_id_9> thick. It is <extra_id_10> long. The product name is <extra_id_11> . <extra_id_12> manufactures this.\", \"description: nitrisense ultra 25 ; patient examination gloves ; powder free nitrile ; large metro-pacifica metro medical supply. The color of this item is <extra_id_0> . The size is <extra_id_1> . This item's sterile status is <extra_id_2> . The powdered status is <extra_id_3> . Its latex-free status is <extra_id_4> . It comes in <extra_id_5> per box. There are <extra_id_6> per case. It is used for <extra_id_7> . The material of this item is <extra_id_8> . This item is <extra_id_9> thick. It is <extra_id_10> long. The product name is <extra_id_11> . <extra_id_12> manufactures this.\", \"description: metro-pacifica metro medical supply nitrisense ultra ; patient examination gloves ; powder free nitrile ; large. The color of this item is <extra_id_0> . The size is <extra_id_1> . This item's sterile status is <extra_id_2> . The powdered status is <extra_id_3> . Its latex-free status is <extra_id_4> . It comes in <extra_id_5> per box. There are <extra_id_6> per case. It is used for <extra_id_7> . The material of this item is <extra_id_8> . This item is <extra_id_9> thick. It is <extra_id_10> long. The product name is <extra_id_11> . <extra_id_12> manufactures this.\", \"description: nitrisense ultra ; patient examination gloves ; powder free nitrile ; medium metro-pacifica metro medical supply. The color of this item is <extra_id_0> . The size is <extra_id_1> . This item's sterile status is <extra_id_2> . The powdered status is <extra_id_3> . Its latex-free status is <extra_id_4> . It comes in <extra_id_5> per box. There are <extra_id_6> per case. It is used for <extra_id_7> . The material of this item is <extra_id_8> . This item is <extra_id_9> thick. It is <extra_id_10> long. The product name is <extra_id_11> . <extra_id_12> manufactures this.\", \"description: metro-pacifica metro medical supply nitrisoft ii ; patient examination gloves ; powder free nitrile ; large. The color of this item is <extra_id_0> . The size is <extra_id_1> . This item's sterile status is <extra_id_2> . The powdered status is <extra_id_3> . Its latex-free status is <extra_id_4> . It comes in <extra_id_5> per box. There are <extra_id_6> per case. It is used for <extra_id_7> . The material of this item is <extra_id_8> . This item is <extra_id_9> thick. It is <extra_id_10> long. The product name is <extra_id_11> . <extra_id_12> manufactures this.\", \"description: clinikleen ; powder free latex exam gloves ; xl metro-pacifica metro medical supply. The color of this item is <extra_id_0> . The size is <extra_id_1> . This item's sterile status is <extra_id_2> . The powdered status is <extra_id_3> . Its latex-free status is <extra_id_4> . It comes in <extra_id_5> per box. There are <extra_id_6> per case. It is used for <extra_id_7> . The material of this item is <extra_id_8> . This item is <extra_id_9> thick. It is <extra_id_10> long. The product name is <extra_id_11> . <extra_id_12> manufactures this.\", \"description: clinikleen ; powder free latex exam gloves ; large metro-pacifica metro medical supply. The color of this item is <extra_id_0> . The size is <extra_id_1> . This item's sterile status is <extra_id_2> . The powdered status is <extra_id_3> . Its latex-free status is <extra_id_4> . It comes in <extra_id_5> per box. There are <extra_id_6> per case. It is used for <extra_id_7> . The material of this item is <extra_id_8> . This item is <extra_id_9> thick. It is <extra_id_10> long. The product name is <extra_id_11> . <extra_id_12> manufactures this.\", \"description: metro-pacifica metro medical supply control plus ; tactilex ; patient examination gloves ; powder free latex ; xl. The color of this item is <extra_id_0> . The size is <extra_id_1> . This item's sterile status is <extra_id_2> . The powdered status is <extra_id_3> . Its latex-free status is <extra_id_4> . It comes in <extra_id_5> per box. There are <extra_id_6> per case. It is used for <extra_id_7> . The material of this item is <extra_id_8> . This item is <extra_id_9> thick. It is <extra_id_10> long. The product name is <extra_id_11> . <extra_id_12> manufactures this.\", \"description: metro-pacifica metro medical supply control plus ; tactilex ; patient examination gloves ; powder free latex ; large. The color of this item is <extra_id_0> . The size is <extra_id_1> . This item's sterile status is <extra_id_2> . The powdered status is <extra_id_3> . Its latex-free status is <extra_id_4> . It comes in <extra_id_5> per box. There are <extra_id_6> per case. It is used for <extra_id_7> . The material of this item is <extra_id_8> . This item is <extra_id_9> thick. It is <extra_id_10> long. The product name is <extra_id_11> . <extra_id_12> manufactures this.\"]\n",
            "Target Text ['targets: <extra_id_0> none <extra_id_1> extra-large <extra_id_2> none <extra_id_3> powder-free <extra_id_4> none <extra_id_5> none <extra_id_6> none <extra_id_7> exam <extra_id_8> nitrile <extra_id_9> none <extra_id_10> none <extra_id_11> metro-pacifica <extra_id_12> metro medical supply', 'targets: <extra_id_0> none <extra_id_1> small <extra_id_2> none <extra_id_3> powder-free <extra_id_4> none <extra_id_5> none <extra_id_6> none <extra_id_7> exam <extra_id_8> nitrile <extra_id_9> none <extra_id_10> none <extra_id_11> metro-pacifica <extra_id_12> metro medical supply', 'targets: <extra_id_0> none <extra_id_1> large <extra_id_2> none <extra_id_3> powder-free <extra_id_4> none <extra_id_5> none <extra_id_6> none <extra_id_7> exam <extra_id_8> nitrile <extra_id_9> none <extra_id_10> none <extra_id_11> metro-pacifica <extra_id_12> metro medical supply', 'targets: <extra_id_0> none <extra_id_1> large <extra_id_2> none <extra_id_3> powder-free <extra_id_4> none <extra_id_5> none <extra_id_6> none <extra_id_7> exam <extra_id_8> nitrile <extra_id_9> none <extra_id_10> none <extra_id_11> metro-pacifica <extra_id_12> metro medical supply', 'targets: <extra_id_0> none <extra_id_1> medium <extra_id_2> none <extra_id_3> powder-free <extra_id_4> none <extra_id_5> none <extra_id_6> none <extra_id_7> exam <extra_id_8> nitrile <extra_id_9> none <extra_id_10> none <extra_id_11> metro-pacifica <extra_id_12> metro medical supply', 'targets: <extra_id_0> none <extra_id_1> large <extra_id_2> none <extra_id_3> powder-free <extra_id_4> none <extra_id_5> none <extra_id_6> none <extra_id_7> exam <extra_id_8> nitrile <extra_id_9> none <extra_id_10> none <extra_id_11> metro-pacifica <extra_id_12> metro medical supply', 'targets: <extra_id_0> none <extra_id_1> extra-large <extra_id_2> none <extra_id_3> powder-free <extra_id_4> latex <extra_id_5> none <extra_id_6> none <extra_id_7> exam <extra_id_8> none <extra_id_9> none <extra_id_10> none <extra_id_11> metro-pacifica <extra_id_12> metro medical supply', 'targets: <extra_id_0> none <extra_id_1> large <extra_id_2> none <extra_id_3> powder-free <extra_id_4> latex <extra_id_5> none <extra_id_6> none <extra_id_7> exam <extra_id_8> none <extra_id_9> none <extra_id_10> none <extra_id_11> metro-pacifica <extra_id_12> metro medical supply', 'targets: <extra_id_0> none <extra_id_1> extra-large <extra_id_2> none <extra_id_3> powder-free <extra_id_4> latex <extra_id_5> none <extra_id_6> none <extra_id_7> exam <extra_id_8> none <extra_id_9> none <extra_id_10> none <extra_id_11> metro-pacifica <extra_id_12> metro medical supply', 'targets: <extra_id_0> none <extra_id_1> large <extra_id_2> none <extra_id_3> powder-free <extra_id_4> latex <extra_id_5> none <extra_id_6> none <extra_id_7> exam <extra_id_8> none <extra_id_9> none <extra_id_10> none <extra_id_11> metro-pacifica <extra_id_12> metro medical supply']\n",
            "T5 Prediction ['targets: <extra_id_0> none <extra_id_1> extra-large <extra_id_2> none <extra_id_3> powder-free <extra_id_4> none <extra_id_5> none <extra_id_6> none <extra_id_7> exam <extra_id_8> nitrile <extra_id_9> none <extra_id_10> none <extra_id_11> metro-pacifica <extra_id_12> metro medical supply', 'targets: <extra_id_0> none <extra_id_1> small <extra_id_2> none <extra_id_3> powder-free <extra_id_4> none <extra_id_5> none <extra_id_6> none <extra_id_7> exam <extra_id_8> nitrile <extra_id_9> none <extra_id_10> none <extra_id_11> metro-pacifica <extra_id_12> metro medical supply', 'targets: <extra_id_0> none <extra_id_1> large <extra_id_2> none <extra_id_3> powder-free <extra_id_4> none <extra_id_5> none <extra_id_6> none <extra_id_7> exam <extra_id_8> nitrile <extra_id_9> none <extra_id_10> none <extra_id_11> metro-pacifica <extra_id_12> metro medical supply', 'targets: <extra_id_0> none <extra_id_1> large <extra_id_2> none <extra_id_3> powder-free <extra_id_4> none <extra_id_5> none <extra_id_6> none <extra_id_7> exam <extra_id_8> nitrile <extra_id_9> none <extra_id_10> none <extra_id_11> metro-pacifica <extra_id_12> metro medical supply', 'targets: <extra_id_0> none <extra_id_1> medium <extra_id_2> none <extra_id_3> powder-free <extra_id_4> none <extra_id_5> none <extra_id_6> none <extra_id_7> exam <extra_id_8> nitrile <extra_id_9> none <extra_id_10> none <extra_id_11> metro-pacifica <extra_id_12> metro medical supply', 'targets: <extra_id_0> none <extra_id_1> large <extra_id_2> none <extra_id_3> powder-free <extra_id_4> none <extra_id_5> none <extra_id_6> none <extra_id_7> exam <extra_id_8> nitrile <extra_id_9> none <extra_id_10> none <extra_id_11> metro-pacifica <extra_id_12> metro medical supply', 'targets: <extra_id_0> none <extra_id_1> extra-large <extra_id_2> none <extra_id_3> powder-free <extra_id_4> latex <extra_id_5> none <extra_id_6> none <extra_id_7> exam <extra_id_8> none <extra_id_9> none <extra_id_10> none <extra_id_11> metro-pacifica <extra_id_12> metro medical supply', 'targets: <extra_id_0> none <extra_id_1> large <extra_id_2> none <extra_id_3> powder-free <extra_id_4> latex <extra_id_5> none <extra_id_6> none <extra_id_7> exam <extra_id_8> none <extra_id_9> none <extra_id_10> none <extra_id_11> metro-pacifica <extra_id_12> metro medical supply', 'targets: <extra_id_0> none <extra_id_1> extra-large <extra_id_2> none <extra_id_3> powder-free <extra_id_4> latex <extra_id_5> none <extra_id_6> none <extra_id_7> exam <extra_id_8> none <extra_id_9> none <extra_id_10> none <extra_id_11> metro-pacifica <extra_id_12> metro medical supply', 'targets: <extra_id_0> none <extra_id_1> large <extra_id_2> none <extra_id_3> powder-free <extra_id_4> latex <extra_id_5> none <extra_id_6> none <extra_id_7> exam <extra_id_8> none <extra_id_9> none <extra_id_10> none <extra_id_11> metro-pacifica <extra_id_12> metro medical supply'] \n",
            "\n",
            "Example  5\n",
            "Description:  [\"description: metro-pacifica metro medical supply patient examination gloves powder-free vinyl l. The color of this item is <extra_id_0> . The size is <extra_id_1> . This item's sterile status is <extra_id_2> . The powdered status is <extra_id_3> . Its latex-free status is <extra_id_4> . It comes in <extra_id_5> per box. There are <extra_id_6> per case. It is used for <extra_id_7> . The material of this item is <extra_id_8> . This item is <extra_id_9> thick. It is <extra_id_10> long. The product name is <extra_id_11> . <extra_id_12> manufactures this.\", \"description: metro-pacifica metro medical supply patient examination gloves powder-free vinyl m. The color of this item is <extra_id_0> . The size is <extra_id_1> . This item's sterile status is <extra_id_2> . The powdered status is <extra_id_3> . Its latex-free status is <extra_id_4> . It comes in <extra_id_5> per box. There are <extra_id_6> per case. It is used for <extra_id_7> . The material of this item is <extra_id_8> . This item is <extra_id_9> thick. It is <extra_id_10> long. The product name is <extra_id_11> . <extra_id_12> manufactures this.\", \"description: metro-pacifica metro medical supply patient examination gloves powder-free vinyl s. The color of this item is <extra_id_0> . The size is <extra_id_1> . This item's sterile status is <extra_id_2> . The powdered status is <extra_id_3> . Its latex-free status is <extra_id_4> . It comes in <extra_id_5> per box. There are <extra_id_6> per case. It is used for <extra_id_7> . The material of this item is <extra_id_8> . This item is <extra_id_9> thick. It is <extra_id_10> long. The product name is <extra_id_11> . <extra_id_12> manufactures this.\", \"description: home green leaf uniware houseware corp. 5.0gram medical exam low derma glove. The color of this item is <extra_id_0> . The size is <extra_id_1> . This item's sterile status is <extra_id_2> . The powdered status is <extra_id_3> . Its latex-free status is <extra_id_4> . It comes in <extra_id_5> per box. There are <extra_id_6> per case. It is used for <extra_id_7> . The material of this item is <extra_id_8> . This item is <extra_id_9> thick. It is <extra_id_10> long. The product name is <extra_id_11> . <extra_id_12> manufactures this.\", \"description: gloves geri-gentle corporation gloves vinyl pf n/s sm. The color of this item is <extra_id_0> . The size is <extra_id_1> . This item's sterile status is <extra_id_2> . The powdered status is <extra_id_3> . Its latex-free status is <extra_id_4> . It comes in <extra_id_5> per box. There are <extra_id_6> per case. It is used for <extra_id_7> . The material of this item is <extra_id_8> . This item is <extra_id_9> thick. It is <extra_id_10> long. The product name is <extra_id_11> . <extra_id_12> manufactures this.\", \"description: valugrip benco dental supply co. valugrip x-small nitrile powder-free exam gloves box of 100. The color of this item is <extra_id_0> . The size is <extra_id_1> . This item's sterile status is <extra_id_2> . The powdered status is <extra_id_3> . Its latex-free status is <extra_id_4> . It comes in <extra_id_5> per box. There are <extra_id_6> per case. It is used for <extra_id_7> . The material of this item is <extra_id_8> . This item is <extra_id_9> thick. It is <extra_id_10> long. The product name is <extra_id_11> . <extra_id_12> manufactures this.\", \"description: natural extensions benco dental supply co. natural extensions® ultra 2 blue small nitrile powder-free exam gloves box of 300. The color of this item is <extra_id_0> . The size is <extra_id_1> . This item's sterile status is <extra_id_2> . The powdered status is <extra_id_3> . Its latex-free status is <extra_id_4> . It comes in <extra_id_5> per box. There are <extra_id_6> per case. It is used for <extra_id_7> . The material of this item is <extra_id_8> . This item is <extra_id_9> thick. It is <extra_id_10> long. The product name is <extra_id_11> . <extra_id_12> manufactures this.\", \"description: natural extensions® ultra blue medium nitrile powder-free exam gloves box of 250 natural extensions benco dental supply co .. The color of this item is <extra_id_0> . The size is <extra_id_1> . This item's sterile status is <extra_id_2> . The powdered status is <extra_id_3> . Its latex-free status is <extra_id_4> . It comes in <extra_id_5> per box. There are <extra_id_6> per case. It is used for <extra_id_7> . The material of this item is <extra_id_8> . This item is <extra_id_9> thick. It is <extra_id_10> long. The product name is <extra_id_11> . <extra_id_12> manufactures this.\", \"description: natural extensions benco dental supply co. natural extensions® ultra blue x-small nitrile powder-free exam gloves box of 250. The color of this item is <extra_id_0> . The size is <extra_id_1> . This item's sterile status is <extra_id_2> . The powdered status is <extra_id_3> . Its latex-free status is <extra_id_4> . It comes in <extra_id_5> per box. There are <extra_id_6> per case. It is used for <extra_id_7> . The material of this item is <extra_id_8> . This item is <extra_id_9> thick. It is <extra_id_10> long. The product name is <extra_id_11> . <extra_id_12> manufactures this.\", \"description: medi-first disposable nitrile gloves medique products nitrile patient exam gloves .. The color of this item is <extra_id_0> . The size is <extra_id_1> . This item's sterile status is <extra_id_2> . The powdered status is <extra_id_3> . Its latex-free status is <extra_id_4> . It comes in <extra_id_5> per box. There are <extra_id_6> per case. It is used for <extra_id_7> . The material of this item is <extra_id_8> . This item is <extra_id_9> thick. It is <extra_id_10> long. The product name is <extra_id_11> . <extra_id_12> manufactures this.\"]\n",
            "Target Text ['targets: <extra_id_0> none <extra_id_1> large <extra_id_2> none <extra_id_3> powder-free <extra_id_4> none <extra_id_5> none <extra_id_6> none <extra_id_7> exam <extra_id_8> vinyl <extra_id_9> none <extra_id_10> none <extra_id_11> metro-pacifica <extra_id_12> metro medical supply', 'targets: <extra_id_0> none <extra_id_1> medium <extra_id_2> none <extra_id_3> powder-free <extra_id_4> none <extra_id_5> none <extra_id_6> none <extra_id_7> exam <extra_id_8> vinyl <extra_id_9> none <extra_id_10> none <extra_id_11> metro-pacifica <extra_id_12> metro medical supply', 'targets: <extra_id_0> none <extra_id_1> small <extra_id_2> none <extra_id_3> powder-free <extra_id_4> none <extra_id_5> none <extra_id_6> none <extra_id_7> exam <extra_id_8> vinyl <extra_id_9> none <extra_id_10> none <extra_id_11> metro-pacifica <extra_id_12> metro medical supply', 'targets: <extra_id_0> none <extra_id_1> none <extra_id_2> none <extra_id_3> none <extra_id_4> none <extra_id_5> none <extra_id_6> none <extra_id_7> exam <extra_id_8> none <extra_id_9> none <extra_id_10> none <extra_id_11> home green leaf <extra_id_12> uniware houseware corp.', 'targets: <extra_id_0> none <extra_id_1> small <extra_id_2> non-sterile <extra_id_3> powder-free <extra_id_4> none <extra_id_5> none <extra_id_6> none <extra_id_7> none <extra_id_8> vinyl <extra_id_9> none <extra_id_10> none <extra_id_11> none <extra_id_12> geri-gentle corporation', 'targets: <extra_id_0> none <extra_id_1> extra-small <extra_id_2> none <extra_id_3> powder-free <extra_id_4> none <extra_id_5> 100 pairs <extra_id_6> none <extra_id_7> exam <extra_id_8> nitrile <extra_id_9> none <extra_id_10> none <extra_id_11> valugrip <extra_id_12> benco dental supply co.', 'targets: <extra_id_0> blue <extra_id_1> small <extra_id_2> none <extra_id_3> powder-free <extra_id_4> none <extra_id_5> 300 pairs <extra_id_6> none <extra_id_7> exam <extra_id_8> nitrile <extra_id_9> none <extra_id_10> none <extra_id_11> natural extensions <extra_id_12> benco dental supply co.', 'targets: <extra_id_0> blue <extra_id_1> medium <extra_id_2> none <extra_id_3> powder-free <extra_id_4> none <extra_id_5> 250 pairs <extra_id_6> none <extra_id_7> exam <extra_id_8> nitrile <extra_id_9> none <extra_id_10> none <extra_id_11> natural extensions <extra_id_12> benco dental supply co.', 'targets: <extra_id_0> blue <extra_id_1> extra-small <extra_id_2> none <extra_id_3> powder-free <extra_id_4> none <extra_id_5> 250 pairs <extra_id_6> none <extra_id_7> exam <extra_id_8> nitrile <extra_id_9> none <extra_id_10> none <extra_id_11> natural extensions <extra_id_12> benco dental supply co.', 'targets: <extra_id_0> none <extra_id_1> none <extra_id_2> none <extra_id_3> none <extra_id_4> none <extra_id_5> none <extra_id_6> none <extra_id_7> exam <extra_id_8> nitrile <extra_id_9> none <extra_id_10> none <extra_id_11> medi-first <extra_id_12> medique products']\n",
            "T5 Prediction ['targets: <extra_id_0> none <extra_id_1> large <extra_id_2> none <extra_id_3> powder-free <extra_id_4> none <extra_id_5> none <extra_id_6> none <extra_id_7> exam <extra_id_8> vinyl <extra_id_9> none <extra_id_10> none <extra_id_11> metro-pacifica <extra_id_12> metro medical supply', 'targets: <extra_id_0> none <extra_id_1> medium <extra_id_2> none <extra_id_3> powder-free <extra_id_4> none <extra_id_5> none <extra_id_6> none <extra_id_7> exam <extra_id_8> vinyl <extra_id_9> none <extra_id_10> none <extra_id_11> metro-pacifica <extra_id_12> metro medical supply', 'targets: <extra_id_0> none <extra_id_1> small <extra_id_2> none <extra_id_3> powder-free <extra_id_4> none <extra_id_5> none <extra_id_6> none <extra_id_7> exam <extra_id_8> vinyl <extra_id_9> none <extra_id_10> none <extra_id_11> metro-pacifica <extra_id_12> metro medical supply', 'targets: <extra_id_0> none <extra_id_1> none <extra_id_2> none <extra_id_3> none <extra_id_4> none <extra_id_5> none <extra_id_6> none <extra_id_7> exam <extra_id_8> none <extra_id_9> none <extra_id_10> none <extra_id_11> home green leaf <extra_id_12> uniware houseware corp.', 'targets: <extra_id_0> none <extra_id_1> small <extra_id_2> non-sterile <extra_id_3> powder-free <extra_id_4> none <extra_id_5> none <extra_id_6> none <extra_id_7> none <extra_id_8> vinyl <extra_id_9> none <extra_id_10> none <extra_id_11> none <extra_id_12> geri-gentle corporation', 'targets: <extra_id_0> none <extra_id_1> extra-small <extra_id_2> none <extra_id_3> powder-free <extra_id_4> none <extra_id_5> 100 pairs <extra_id_6> none <extra_id_7> exam <extra_id_8> nitrile <extra_id_9> none <extra_id_10> none <extra_id_11> valugrip <extra_id_12> benco dental supply co.', 'targets: <extra_id_0> blue <extra_id_1> small <extra_id_2> none <extra_id_3> powder-free <extra_id_4> none <extra_id_5> 300 pairs <extra_id_6> none <extra_id_7> exam <extra_id_8> nitrile <extra_id_9> none <extra_id_10> none <extra_id_11> natural extensions <extra_id_12> benco dental supply co.', 'targets: <extra_id_0> blue <extra_id_1> medium <extra_id_2> none <extra_id_3> powder-free <extra_id_4> none <extra_id_5> 250 pairs <extra_id_6> none <extra_id_7> exam <extra_id_8> nitrile <extra_id_9> none <extra_id_10> none <extra_id_11> natural extensions <extra_id_12> benco dental supply co.', 'targets: <extra_id_0> blue <extra_id_1> extra-small <extra_id_2> none <extra_id_3> powder-free <extra_id_4> none <extra_id_5> 250 pairs <extra_id_6> none <extra_id_7> exam <extra_id_8> nitrile <extra_id_9> none <extra_id_10> none <extra_id_11> natural extensions <extra_id_12> benco dental supply co.', 'targets: <extra_id_0> none <extra_id_1> none <extra_id_2> none <extra_id_3> none <extra_id_4> none <extra_id_5> none <extra_id_6> none <extra_id_7> exam <extra_id_8> nitrile <extra_id_9> none <extra_id_10> none <extra_id_11> medi-first <extra_id_12> medique products'] \n",
            "\n",
            "Example  6\n",
            "Description:  [\"description: well at walgreens walgreen co. soft vinyl gloves . medical exam quality . single use only . fits either hand. The color of this item is <extra_id_0> . The size is <extra_id_1> . This item's sterile status is <extra_id_2> . The powdered status is <extra_id_3> . Its latex-free status is <extra_id_4> . It comes in <extra_id_5> per box. There are <extra_id_6> per case. It is used for <extra_id_7> . The material of this item is <extra_id_8> . This item is <extra_id_9> thick. It is <extra_id_10> long. The product name is <extra_id_11> . <extra_id_12> manufactures this.\", \"description: walgreens walgreen co. vinyl exam gloves . medical exam quality . powder free .. The color of this item is <extra_id_0> . The size is <extra_id_1> . This item's sterile status is <extra_id_2> . The powdered status is <extra_id_3> . Its latex-free status is <extra_id_4> . It comes in <extra_id_5> per box. There are <extra_id_6> per case. It is used for <extra_id_7> . The material of this item is <extra_id_8> . This item is <extra_id_9> thick. It is <extra_id_10> long. The product name is <extra_id_11> . <extra_id_12> manufactures this.\", \"description: nytrile x200 pf nitrile medium nytrile x200 pf nitrile henry schein , inc .. The color of this item is <extra_id_0> . The size is <extra_id_1> . This item's sterile status is <extra_id_2> . The powdered status is <extra_id_3> . Its latex-free status is <extra_id_4> . It comes in <extra_id_5> per box. There are <extra_id_6> per case. It is used for <extra_id_7> . The material of this item is <extra_id_8> . This item is <extra_id_9> thick. It is <extra_id_10> long. The product name is <extra_id_11> . <extra_id_12> manufactures this.\", \"description: nytrile x200 pf nitrile large nytrile x200 pf nitrile henry schein , inc .. The color of this item is <extra_id_0> . The size is <extra_id_1> . This item's sterile status is <extra_id_2> . The powdered status is <extra_id_3> . Its latex-free status is <extra_id_4> . It comes in <extra_id_5> per box. There are <extra_id_6> per case. It is used for <extra_id_7> . The material of this item is <extra_id_8> . This item is <extra_id_9> thick. It is <extra_id_10> long. The product name is <extra_id_11> . <extra_id_12> manufactures this.\", \"description: criterion n250 nitrile pf glove henry schein , inc. criterion n250 pf nitrile glove x-large. The color of this item is <extra_id_0> . The size is <extra_id_1> . This item's sterile status is <extra_id_2> . The powdered status is <extra_id_3> . Its latex-free status is <extra_id_4> . It comes in <extra_id_5> per box. There are <extra_id_6> per case. It is used for <extra_id_7> . The material of this item is <extra_id_8> . This item is <extra_id_9> thick. It is <extra_id_10> long. The product name is <extra_id_11> . <extra_id_12> manufactures this.\", \"description: criterion n200 pf nitrile case henry schein , inc. criterion n200 pf nitrile case medium. The color of this item is <extra_id_0> . The size is <extra_id_1> . This item's sterile status is <extra_id_2> . The powdered status is <extra_id_3> . Its latex-free status is <extra_id_4> . It comes in <extra_id_5> per box. There are <extra_id_6> per case. It is used for <extra_id_7> . The material of this item is <extra_id_8> . This item is <extra_id_9> thick. It is <extra_id_10> long. The product name is <extra_id_11> . <extra_id_12> manufactures this.\", \"description: zodiac henry schein , inc. zodiac large. The color of this item is <extra_id_0> . The size is <extra_id_1> . This item's sterile status is <extra_id_2> . The powdered status is <extra_id_3> . Its latex-free status is <extra_id_4> . It comes in <extra_id_5> per box. There are <extra_id_6> per case. It is used for <extra_id_7> . The material of this item is <extra_id_8> . This item is <extra_id_9> thick. It is <extra_id_10> long. The product name is <extra_id_11> . <extra_id_12> manufactures this.\", \"description: criterion n200 pf nitrile case x-large criterion n200 pf nitrile case henry schein , inc .. The color of this item is <extra_id_0> . The size is <extra_id_1> . This item's sterile status is <extra_id_2> . The powdered status is <extra_id_3> . Its latex-free status is <extra_id_4> . It comes in <extra_id_5> per box. There are <extra_id_6> per case. It is used for <extra_id_7> . The material of this item is <extra_id_8> . This item is <extra_id_9> thick. It is <extra_id_10> long. The product name is <extra_id_11> . <extra_id_12> manufactures this.\", \"description: easystretch pf vinyl glove henry schein , inc. easystretch pf vinyl glove x large. The color of this item is <extra_id_0> . The size is <extra_id_1> . This item's sterile status is <extra_id_2> . The powdered status is <extra_id_3> . Its latex-free status is <extra_id_4> . It comes in <extra_id_5> per box. There are <extra_id_6> per case. It is used for <extra_id_7> . The material of this item is <extra_id_8> . This item is <extra_id_9> thick. It is <extra_id_10> long. The product name is <extra_id_11> . <extra_id_12> manufactures this.\", \"description: pure grip henry schein , inc. pure grip medium. The color of this item is <extra_id_0> . The size is <extra_id_1> . This item's sterile status is <extra_id_2> . The powdered status is <extra_id_3> . Its latex-free status is <extra_id_4> . It comes in <extra_id_5> per box. There are <extra_id_6> per case. It is used for <extra_id_7> . The material of this item is <extra_id_8> . This item is <extra_id_9> thick. It is <extra_id_10> long. The product name is <extra_id_11> . <extra_id_12> manufactures this.\"]\n",
            "Target Text ['targets: <extra_id_0> none <extra_id_1> none <extra_id_2> none <extra_id_3> none <extra_id_4> none <extra_id_5> none <extra_id_6> none <extra_id_7> exam <extra_id_8> vinyl <extra_id_9> none <extra_id_10> none <extra_id_11> well at walgreens <extra_id_12> walgreen co.', 'targets: <extra_id_0> none <extra_id_1> none <extra_id_2> none <extra_id_3> powder-free <extra_id_4> none <extra_id_5> none <extra_id_6> none <extra_id_7> exam <extra_id_8> vinyl <extra_id_9> none <extra_id_10> none <extra_id_11> walgreens <extra_id_12> walgreen co.', 'targets: <extra_id_0> none <extra_id_1> medium <extra_id_2> none <extra_id_3> powder-free <extra_id_4> none <extra_id_5> none <extra_id_6> none <extra_id_7> none <extra_id_8> nitrile <extra_id_9> none <extra_id_10> none <extra_id_11> nytrile, x200 <extra_id_12> henry schein inc.', 'targets: <extra_id_0> none <extra_id_1> large <extra_id_2> none <extra_id_3> powder-free <extra_id_4> none <extra_id_5> none <extra_id_6> none <extra_id_7> none <extra_id_8> nitrile <extra_id_9> none <extra_id_10> none <extra_id_11> nytrile, x200 <extra_id_12> henry schein inc.', 'targets: <extra_id_0> none <extra_id_1> extra-large <extra_id_2> none <extra_id_3> powder-free <extra_id_4> none <extra_id_5> none <extra_id_6> none <extra_id_7> none <extra_id_8> nitrile <extra_id_9> none <extra_id_10> none <extra_id_11> criterion, n250 <extra_id_12> henry schein inc.', 'targets: <extra_id_0> none <extra_id_1> medium <extra_id_2> none <extra_id_3> powder-free <extra_id_4> none <extra_id_5> none <extra_id_6> none <extra_id_7> none <extra_id_8> nitrile <extra_id_9> none <extra_id_10> none <extra_id_11> criterion, n200 <extra_id_12> henry schein inc.', 'targets: <extra_id_0> none <extra_id_1> large <extra_id_2> none <extra_id_3> none <extra_id_4> none <extra_id_5> none <extra_id_6> none <extra_id_7> none <extra_id_8> none <extra_id_9> none <extra_id_10> none <extra_id_11> zodiac <extra_id_12> henry schein inc.', 'targets: <extra_id_0> none <extra_id_1> extra-large <extra_id_2> none <extra_id_3> powder-free <extra_id_4> none <extra_id_5> none <extra_id_6> none <extra_id_7> none <extra_id_8> nitrile <extra_id_9> none <extra_id_10> none <extra_id_11> criterion, n200 <extra_id_12> henry schein inc.', 'targets: <extra_id_0> none <extra_id_1> extra-large <extra_id_2> none <extra_id_3> powder-free <extra_id_4> none <extra_id_5> none <extra_id_6> none <extra_id_7> none <extra_id_8> vinyl <extra_id_9> none <extra_id_10> none <extra_id_11> easystretch <extra_id_12> henry schein inc.', 'targets: <extra_id_0> none <extra_id_1> medium <extra_id_2> none <extra_id_3> none <extra_id_4> none <extra_id_5> none <extra_id_6> none <extra_id_7> none <extra_id_8> none <extra_id_9> none <extra_id_10> none <extra_id_11> pure grip <extra_id_12> henry schein inc.']\n",
            "T5 Prediction ['targets: <extra_id_0> none <extra_id_1> none <extra_id_2> none <extra_id_3> none <extra_id_4> none <extra_id_5> none <extra_id_6> none <extra_id_7> exam <extra_id_8> vinyl <extra_id_9> none <extra_id_10> none <extra_id_11> well at walgreens <extra_id_12> walgreen co.', 'targets: <extra_id_0> none <extra_id_1> none <extra_id_2> none <extra_id_3> powder-free <extra_id_4> none <extra_id_5> none <extra_id_6> none <extra_id_7> exam <extra_id_8> vinyl <extra_id_9> none <extra_id_10> none <extra_id_11> walgreens <extra_id_12> walgreen co.', 'targets: <extra_id_0> none <extra_id_1> medium <extra_id_2> none <extra_id_3> powder-free <extra_id_4> none <extra_id_5> none <extra_id_6> none <extra_id_7> none <extra_id_8> nitrile <extra_id_9> none <extra_id_10> none <extra_id_11> nytrile, x200 <extra_id_12> henry schein inc.', 'targets: <extra_id_0> none <extra_id_1> large <extra_id_2> none <extra_id_3> powder-free <extra_id_4> none <extra_id_5> none <extra_id_6> none <extra_id_7> none <extra_id_8> nitrile <extra_id_9> none <extra_id_10> none <extra_id_11> nytrile, x200 <extra_id_12> henry schein inc.', 'targets: <extra_id_0> none <extra_id_1> extra-large <extra_id_2> none <extra_id_3> powder-free <extra_id_4> none <extra_id_5> none <extra_id_6> none <extra_id_7> none <extra_id_8> nitrile <extra_id_9> none <extra_id_10> none <extra_id_11> criterion, n250 <extra_id_12> henry schein inc.', 'targets: <extra_id_0> none <extra_id_1> medium <extra_id_2> none <extra_id_3> powder-free <extra_id_4> none <extra_id_5> none <extra_id_6> none <extra_id_7> none <extra_id_8> nitrile <extra_id_9> none <extra_id_10> none <extra_id_11> criterion, n200 <extra_id_12> henry schein inc.', 'targets: <extra_id_0> none <extra_id_1> large <extra_id_2> none <extra_id_3> none <extra_id_4> none <extra_id_5> none <extra_id_6> none <extra_id_7> none <extra_id_8> none <extra_id_9> none <extra_id_10> none <extra_id_11> zodiac <extra_id_12> henry schein inc.', 'targets: <extra_id_0> none <extra_id_1> extra-large <extra_id_2> none <extra_id_3> powder-free <extra_id_4> none <extra_id_5> none <extra_id_6> none <extra_id_7> none <extra_id_8> nitrile <extra_id_9> none <extra_id_10> none <extra_id_11> criterion, n200 <extra_id_12> henry schein inc.', 'targets: <extra_id_0> none <extra_id_1> extra-large <extra_id_2> none <extra_id_3> powder-free <extra_id_4> none <extra_id_5> none <extra_id_6> none <extra_id_7> none <extra_id_8> vinyl <extra_id_9> none <extra_id_10> none <extra_id_11> easystretch <extra_id_12> henry schein inc.', 'targets: <extra_id_0> none <extra_id_1> medium <extra_id_2> none <extra_id_3> none <extra_id_4> none <extra_id_5> none <extra_id_6> none <extra_id_7> none <extra_id_8> none <extra_id_9> none <extra_id_10> none <extra_id_11> pure grip <extra_id_12> henry schein inc.'] \n",
            "\n",
            "Example  7\n",
            "Description:  [\"description: pure grip x-small pure grip henry schein , inc .. The color of this item is <extra_id_0> . The size is <extra_id_1> . This item's sterile status is <extra_id_2> . The powdered status is <extra_id_3> . Its latex-free status is <extra_id_4> . It comes in <extra_id_5> per box. There are <extra_id_6> per case. It is used for <extra_id_7> . The material of this item is <extra_id_8> . This item is <extra_id_9> thick. It is <extra_id_10> long. The product name is <extra_id_11> . <extra_id_12> manufactures this.\", \"description: supernova purelife , llc supernova nitrile powder-free , small , revolutionary stretchy nitrile provides superior comfort and increased tactile sensitivity , textured fingertips , packaging contains at least 70 % recycled material , more gloves per box reduces packaging. The color of this item is <extra_id_0> . The size is <extra_id_1> . This item's sterile status is <extra_id_2> . The powdered status is <extra_id_3> . Its latex-free status is <extra_id_4> . It comes in <extra_id_5> per box. There are <extra_id_6> per case. It is used for <extra_id_7> . The material of this item is <extra_id_8> . This item is <extra_id_9> thick. It is <extra_id_10> long. The product name is <extra_id_11> . <extra_id_12> manufactures this.\", \"description: supernova purelife , llc supernova nitrile powder-free , x-small , revolutionary stretchy nitrile provides superior comfort and increased tactile sensitivity , textured fingertips , packaging contains at least 70 % recycled material , more gloves per box reduces packaging. The color of this item is <extra_id_0> . The size is <extra_id_1> . This item's sterile status is <extra_id_2> . The powdered status is <extra_id_3> . Its latex-free status is <extra_id_4> . It comes in <extra_id_5> per box. There are <extra_id_6> per case. It is used for <extra_id_7> . The material of this item is <extra_id_8> . This item is <extra_id_9> thick. It is <extra_id_10> long. The product name is <extra_id_11> . <extra_id_12> manufactures this.\", \"description: leader cardinal health , inc. ldr glove latex exam 100 sm pwf. The color of this item is <extra_id_0> . The size is <extra_id_1> . This item's sterile status is <extra_id_2> . The powdered status is <extra_id_3> . Its latex-free status is <extra_id_4> . It comes in <extra_id_5> per box. There are <extra_id_6> per case. It is used for <extra_id_7> . The material of this item is <extra_id_8> . This item is <extra_id_9> thick. It is <extra_id_10> long. The product name is <extra_id_11> . <extra_id_12> manufactures this.\", \"description: proworks tranzonic companies , the proworks® disposable latex exam grade gloves , powder free , natural , 6.5 mil , medium , 100/bx , 10 bxs/cs. The color of this item is <extra_id_0> . The size is <extra_id_1> . This item's sterile status is <extra_id_2> . The powdered status is <extra_id_3> . Its latex-free status is <extra_id_4> . It comes in <extra_id_5> per box. There are <extra_id_6> per case. It is used for <extra_id_7> . The material of this item is <extra_id_8> . This item is <extra_id_9> thick. It is <extra_id_10> long. The product name is <extra_id_11> . <extra_id_12> manufactures this.\", \"description: proworks tranzonic companies , the proworks® disposable latex exam grade gloves , powder free , natural , 6.5 mil , small , 100/bx , 10 bxs/cs. The color of this item is <extra_id_0> . The size is <extra_id_1> . This item's sterile status is <extra_id_2> . The powdered status is <extra_id_3> . Its latex-free status is <extra_id_4> . It comes in <extra_id_5> per box. There are <extra_id_6> per case. It is used for <extra_id_7> . The material of this item is <extra_id_8> . This item is <extra_id_9> thick. It is <extra_id_10> long. The product name is <extra_id_11> . <extra_id_12> manufactures this.\", \"description: proworks® disposable nitrile exam grade gloves , powder free , lime green , 6 mil , large , 100/bx , 10 bxs/cs proworks tranzonic companies , the. The color of this item is <extra_id_0> . The size is <extra_id_1> . This item's sterile status is <extra_id_2> . The powdered status is <extra_id_3> . Its latex-free status is <extra_id_4> . It comes in <extra_id_5> per box. There are <extra_id_6> per case. It is used for <extra_id_7> . The material of this item is <extra_id_8> . This item is <extra_id_9> thick. It is <extra_id_10> long. The product name is <extra_id_11> . <extra_id_12> manufactures this.\", \"description: proworks tranzonic acquisition corp. proworks® disposable nitrile exam grade gloves , powder free , blue , 4 mil , x-large , 100/bx , 10 bxs/cs. The color of this item is <extra_id_0> . The size is <extra_id_1> . This item's sterile status is <extra_id_2> . The powdered status is <extra_id_3> . Its latex-free status is <extra_id_4> . It comes in <extra_id_5> per box. There are <extra_id_6> per case. It is used for <extra_id_7> . The material of this item is <extra_id_8> . This item is <extra_id_9> thick. It is <extra_id_10> long. The product name is <extra_id_11> . <extra_id_12> manufactures this.\", \"description: proworks tranzonic acquisition corp. proworks® disposable nitrile exam grade gloves , powder free , blue-violet , 3 mil , medium , 100/bx , 10 bxs/cs. The color of this item is <extra_id_0> . The size is <extra_id_1> . This item's sterile status is <extra_id_2> . The powdered status is <extra_id_3> . Its latex-free status is <extra_id_4> . It comes in <extra_id_5> per box. There are <extra_id_6> per case. It is used for <extra_id_7> . The material of this item is <extra_id_8> . This item is <extra_id_9> thick. It is <extra_id_10> long. The product name is <extra_id_11> . <extra_id_12> manufactures this.\", \"description: proworks® disposable nitrile exam grade gloves , powder free , blue-violet , 3 mil , x-large , 200/bx , 10 bxs/cs proworks tranzonic acquisition corp .. The color of this item is <extra_id_0> . The size is <extra_id_1> . This item's sterile status is <extra_id_2> . The powdered status is <extra_id_3> . Its latex-free status is <extra_id_4> . It comes in <extra_id_5> per box. There are <extra_id_6> per case. It is used for <extra_id_7> . The material of this item is <extra_id_8> . This item is <extra_id_9> thick. It is <extra_id_10> long. The product name is <extra_id_11> . <extra_id_12> manufactures this.\"]\n",
            "Target Text ['targets: <extra_id_0> none <extra_id_1> extra-small <extra_id_2> none <extra_id_3> none <extra_id_4> none <extra_id_5> none <extra_id_6> none <extra_id_7> none <extra_id_8> none <extra_id_9> none <extra_id_10> none <extra_id_11> pure grip <extra_id_12> henry schein inc.', 'targets: <extra_id_0> none <extra_id_1> small <extra_id_2> none <extra_id_3> powder-free <extra_id_4> none <extra_id_5> none <extra_id_6> none <extra_id_7> none <extra_id_8> nitrile <extra_id_9> none <extra_id_10> none <extra_id_11> supernova <extra_id_12> purelife llc', 'targets: <extra_id_0> none <extra_id_1> extra-small <extra_id_2> none <extra_id_3> powder-free <extra_id_4> none <extra_id_5> none <extra_id_6> none <extra_id_7> none <extra_id_8> nitrile <extra_id_9> none <extra_id_10> none <extra_id_11> supernova <extra_id_12> purelife llc', 'targets: <extra_id_0> none <extra_id_1> small <extra_id_2> none <extra_id_3> powder-free <extra_id_4> latex <extra_id_5> none <extra_id_6> none <extra_id_7> exam <extra_id_8> none <extra_id_9> none <extra_id_10> none <extra_id_11> leader <extra_id_12> cardinal health inc.', 'targets: <extra_id_0> natural <extra_id_1> medium <extra_id_2> none <extra_id_3> powder-free <extra_id_4> latex <extra_id_5> 100 pairs <extra_id_6> 10 boxes <extra_id_7> exam <extra_id_8> none <extra_id_9> 6.5mil <extra_id_10> none <extra_id_11> proworks <extra_id_12> tranzonic companies the', 'targets: <extra_id_0> natural <extra_id_1> small <extra_id_2> none <extra_id_3> powder-free <extra_id_4> latex <extra_id_5> 100 pairs <extra_id_6> 10 boxes <extra_id_7> exam <extra_id_8> none <extra_id_9> 6.5mil <extra_id_10> none <extra_id_11> proworks <extra_id_12> tranzonic companies the', 'targets: <extra_id_0> lime green <extra_id_1> large <extra_id_2> none <extra_id_3> powder-free <extra_id_4> none <extra_id_5> 100 pairs <extra_id_6> 10 boxes <extra_id_7> exam <extra_id_8> nitrile <extra_id_9> 6mil <extra_id_10> none <extra_id_11> proworks <extra_id_12> tranzonic companies the', 'targets: <extra_id_0> blue <extra_id_1> extra-large <extra_id_2> none <extra_id_3> powder-free <extra_id_4> none <extra_id_5> 100 pairs <extra_id_6> 10 boxes <extra_id_7> exam <extra_id_8> nitrile <extra_id_9> 4mil <extra_id_10> none <extra_id_11> proworks <extra_id_12> tranzonic acquisition corp.', 'targets: <extra_id_0> violet <extra_id_1> medium <extra_id_2> none <extra_id_3> powder-free <extra_id_4> none <extra_id_5> 100 pairs <extra_id_6> 10 boxes <extra_id_7> exam <extra_id_8> nitrile <extra_id_9> 3mil <extra_id_10> none <extra_id_11> proworks <extra_id_12> tranzonic acquisition corp.', 'targets: <extra_id_0> violet <extra_id_1> extra-large <extra_id_2> none <extra_id_3> powder-free <extra_id_4> none <extra_id_5> 200 pairs <extra_id_6> 10 boxes <extra_id_7> exam <extra_id_8> nitrile <extra_id_9> 3mil <extra_id_10> none <extra_id_11> proworks <extra_id_12> tranzonic acquisition corp.']\n",
            "T5 Prediction ['targets: <extra_id_0> none <extra_id_1> extra-small <extra_id_2> none <extra_id_3> none <extra_id_4> none <extra_id_5> none <extra_id_6> none <extra_id_7> none <extra_id_8> none <extra_id_9> none <extra_id_10> none <extra_id_11> pure grip <extra_id_12> henry schein inc.', 'targets: <extra_id_0> none <extra_id_1> small <extra_id_2> none <extra_id_3> powder-free <extra_id_4> none <extra_id_5> none <extra_id_6> none <extra_id_7> none <extra_id_8> nitrile <extra_id_9> none <extra_id_10> none <extra_id_11> supernova <extra_id_12> purelife llc', 'targets: <extra_id_0> none <extra_id_1> extra-small <extra_id_2> none <extra_id_3> powder-free <extra_id_4> none <extra_id_5> none <extra_id_6> none <extra_id_7> none <extra_id_8> nitrile <extra_id_9> none <extra_id_10> none <extra_id_11> supernova <extra_id_12> purelife llc', 'targets: <extra_id_0> none <extra_id_1> small <extra_id_2> none <extra_id_3> powder-free <extra_id_4> latex <extra_id_5> none <extra_id_6> none <extra_id_7> exam <extra_id_8> none <extra_id_9> none <extra_id_10> none <extra_id_11> leader <extra_id_12> cardinal health inc.', 'targets: <extra_id_0> natural <extra_id_1> medium <extra_id_2> none <extra_id_3> powder-free <extra_id_4> latex <extra_id_5> 100 pairs <extra_id_6> 10 boxes <extra_id_7> exam <extra_id_8> none <extra_id_9> 6.5mil <extra_id_10> none <extra_id_11> proworks <extra_id_12> tranzonic companies the', 'targets: <extra_id_0> natural <extra_id_1> small <extra_id_2> none <extra_id_3> powder-free <extra_id_4> latex <extra_id_5> 100 pairs <extra_id_6> 10 boxes <extra_id_7> exam <extra_id_8> none <extra_id_9> 6.5mil <extra_id_10> none <extra_id_11> proworks <extra_id_12> tranzonic companies the', 'targets: <extra_id_0> lime green <extra_id_1> large <extra_id_2> none <extra_id_3> powder-free <extra_id_4> none <extra_id_5> 100 pairs <extra_id_6> 10 boxes <extra_id_7> exam <extra_id_8> nitrile <extra_id_9> 6mil <extra_id_10> none <extra_id_11> proworks <extra_id_12> tranzonic companies the', 'targets: <extra_id_0> blue <extra_id_1> extra-large <extra_id_2> none <extra_id_3> powder-free <extra_id_4> none <extra_id_5> 100 pairs <extra_id_6> 10 boxes <extra_id_7> exam <extra_id_8> nitrile <extra_id_9> 4mil <extra_id_10> none <extra_id_11> proworks <extra_id_12> tranzonic acquisition corp.', 'targets: <extra_id_0> violet <extra_id_1> medium <extra_id_2> none <extra_id_3> powder-free <extra_id_4> none <extra_id_5> 100 pairs <extra_id_6> 10 boxes <extra_id_7> exam <extra_id_8> nitrile <extra_id_9> 3mil <extra_id_10> none <extra_id_11> proworks <extra_id_12> tranzonic acquisition corp.', 'targets: <extra_id_0> violet <extra_id_1> extra-large <extra_id_2> none <extra_id_3> powder-free <extra_id_4> none <extra_id_5> 200 pairs <extra_id_6> 10 boxes <extra_id_7> exam <extra_id_8> nitrile <extra_id_9> 3mil <extra_id_10> none <extra_id_11> proworks <extra_id_12> tranzonic acquisition corp.'] \n",
            "\n",
            "Example  8\n",
            "Description:  [\"description: koda tranzonic acquisition corp. koda disposable nitrile exam grade gloves , powder free , chem-fen-derm black 3.5mil 10/100 - xl. The color of this item is <extra_id_0> . The size is <extra_id_1> . This item's sterile status is <extra_id_2> . The powdered status is <extra_id_3> . Its latex-free status is <extra_id_4> . It comes in <extra_id_5> per box. There are <extra_id_6> per case. It is used for <extra_id_7> . The material of this item is <extra_id_8> . This item is <extra_id_9> thick. It is <extra_id_10> long. The product name is <extra_id_11> . <extra_id_12> manufactures this.\", \"description: proworks tranzonic companies , the proworks® disposable nitrile exam grade gloves , powder free , blue , 5 mil , xx-large , 100/bx , 10 bxs/cs. The color of this item is <extra_id_0> . The size is <extra_id_1> . This item's sterile status is <extra_id_2> . The powdered status is <extra_id_3> . Its latex-free status is <extra_id_4> . It comes in <extra_id_5> per box. There are <extra_id_6> per case. It is used for <extra_id_7> . The material of this item is <extra_id_8> . This item is <extra_id_9> thick. It is <extra_id_10> long. The product name is <extra_id_11> . <extra_id_12> manufactures this.\", \"description: careone ahold u.s.a. , inc. powder free nitrile gloves , 50 single use only gloves ( by weight ) , one size. The color of this item is <extra_id_0> . The size is <extra_id_1> . This item's sterile status is <extra_id_2> . The powdered status is <extra_id_3> . Its latex-free status is <extra_id_4> . It comes in <extra_id_5> per box. There are <extra_id_6> per case. It is used for <extra_id_7> . The material of this item is <extra_id_8> . This item is <extra_id_9> thick. It is <extra_id_10> long. The product name is <extra_id_11> . <extra_id_12> manufactures this.\", \"description: examination gloves kimtech spectrum nitrile powder free exam gloves ( m ) kimberly-clark global sales , llc. The color of this item is <extra_id_0> . The size is <extra_id_1> . This item's sterile status is <extra_id_2> . The powdered status is <extra_id_3> . Its latex-free status is <extra_id_4> . It comes in <extra_id_5> per box. There are <extra_id_6> per case. It is used for <extra_id_7> . The material of this item is <extra_id_8> . This item is <extra_id_9> thick. It is <extra_id_10> long. The product name is <extra_id_11> . <extra_id_12> manufactures this.\", \"description: kimtech blue nitrile exam gloves ( l ) kimberly-clark global sales , llc examination gloves. The color of this item is <extra_id_0> . The size is <extra_id_1> . This item's sterile status is <extra_id_2> . The powdered status is <extra_id_3> . Its latex-free status is <extra_id_4> . It comes in <extra_id_5> per box. There are <extra_id_6> per case. It is used for <extra_id_7> . The material of this item is <extra_id_8> . This item is <extra_id_9> thick. It is <extra_id_10> long. The product name is <extra_id_11> . <extra_id_12> manufactures this.\", \"description: examination gloves kimtech pfe-xtra latex exam gloves ( s ) kimberly-clark global sales , llc. The color of this item is <extra_id_0> . The size is <extra_id_1> . This item's sterile status is <extra_id_2> . The powdered status is <extra_id_3> . Its latex-free status is <extra_id_4> . It comes in <extra_id_5> per box. There are <extra_id_6> per case. It is used for <extra_id_7> . The material of this item is <extra_id_8> . This item is <extra_id_9> thick. It is <extra_id_10> long. The product name is <extra_id_11> . <extra_id_12> manufactures this.\", \"description: kimtech spring green nitrile powder free exam gloves ( xl ) kimberly-clark global sales , llc examination gloves. The color of this item is <extra_id_0> . The size is <extra_id_1> . This item's sterile status is <extra_id_2> . The powdered status is <extra_id_3> . Its latex-free status is <extra_id_4> . It comes in <extra_id_5> per box. There are <extra_id_6> per case. It is used for <extra_id_7> . The material of this item is <extra_id_8> . This item is <extra_id_9> thick. It is <extra_id_10> long. The product name is <extra_id_11> . <extra_id_12> manufactures this.\", \"description: kimtech spring green nitrile powder free exam gloves ( xs ) kimberly-clark global sales , llc examination gloves. The color of this item is <extra_id_0> . The size is <extra_id_1> . This item's sterile status is <extra_id_2> . The powdered status is <extra_id_3> . Its latex-free status is <extra_id_4> . It comes in <extra_id_5> per box. There are <extra_id_6> per case. It is used for <extra_id_7> . The material of this item is <extra_id_8> . This item is <extra_id_9> thick. It is <extra_id_10> long. The product name is <extra_id_11> . <extra_id_12> manufactures this.\", \"description: diversamed impact products , llc small nitrile powder free exam glove. The color of this item is <extra_id_0> . The size is <extra_id_1> . This item's sterile status is <extra_id_2> . The powdered status is <extra_id_3> . Its latex-free status is <extra_id_4> . It comes in <extra_id_5> per box. There are <extra_id_6> per case. It is used for <extra_id_7> . The material of this item is <extra_id_8> . This item is <extra_id_9> thick. It is <extra_id_10> long. The product name is <extra_id_11> . <extra_id_12> manufactures this.\", \"description: diversamed impact products , llc large latex powder free exam glove. The color of this item is <extra_id_0> . The size is <extra_id_1> . This item's sterile status is <extra_id_2> . The powdered status is <extra_id_3> . Its latex-free status is <extra_id_4> . It comes in <extra_id_5> per box. There are <extra_id_6> per case. It is used for <extra_id_7> . The material of this item is <extra_id_8> . This item is <extra_id_9> thick. It is <extra_id_10> long. The product name is <extra_id_11> . <extra_id_12> manufactures this.\"]\n",
            "Target Text ['targets: <extra_id_0> black <extra_id_1> extra-large <extra_id_2> none <extra_id_3> powder-free <extra_id_4> none <extra_id_5> 100 pairs <extra_id_6> 10 boxes <extra_id_7> exam <extra_id_8> nitrile <extra_id_9> 3.5mil <extra_id_10> none <extra_id_11> koda <extra_id_12> tranzonic acquisition corp.', 'targets: <extra_id_0> blue <extra_id_1> extra-extra-large <extra_id_2> none <extra_id_3> powder-free <extra_id_4> none <extra_id_5> 100 pairs <extra_id_6> 10 boxes <extra_id_7> exam <extra_id_8> nitrile <extra_id_9> 5mil <extra_id_10> none <extra_id_11> proworks <extra_id_12> tranzonic companies the', 'targets: <extra_id_0> none <extra_id_1> none <extra_id_2> none <extra_id_3> powder-free <extra_id_4> none <extra_id_5> 50 pairs <extra_id_6> none <extra_id_7> none <extra_id_8> nitrile <extra_id_9> none <extra_id_10> none <extra_id_11> careone <extra_id_12> ahold u.s.a. inc.', 'targets: <extra_id_0> none <extra_id_1> medium <extra_id_2> none <extra_id_3> powder-free <extra_id_4> none <extra_id_5> none <extra_id_6> none <extra_id_7> exam <extra_id_8> nitrile <extra_id_9> none <extra_id_10> none <extra_id_11> kimtech, spectrum <extra_id_12> kimberly-clark global sales llc', 'targets: <extra_id_0> blue <extra_id_1> large <extra_id_2> none <extra_id_3> none <extra_id_4> none <extra_id_5> none <extra_id_6> none <extra_id_7> exam <extra_id_8> nitrile <extra_id_9> none <extra_id_10> none <extra_id_11> kimtech <extra_id_12> kimberly-clark global sales llc', 'targets: <extra_id_0> none <extra_id_1> small <extra_id_2> none <extra_id_3> none <extra_id_4> latex <extra_id_5> none <extra_id_6> none <extra_id_7> exam <extra_id_8> none <extra_id_9> none <extra_id_10> none <extra_id_11> kimtech, pfe-xtra <extra_id_12> kimberly-clark global sales llc', 'targets: <extra_id_0> spring green <extra_id_1> extra-large <extra_id_2> none <extra_id_3> powder-free <extra_id_4> none <extra_id_5> none <extra_id_6> none <extra_id_7> exam <extra_id_8> nitrile <extra_id_9> none <extra_id_10> none <extra_id_11> kimtech <extra_id_12> kimberly-clark global sales llc', 'targets: <extra_id_0> spring green <extra_id_1> extra-small <extra_id_2> none <extra_id_3> powder-free <extra_id_4> none <extra_id_5> none <extra_id_6> none <extra_id_7> exam <extra_id_8> nitrile <extra_id_9> none <extra_id_10> none <extra_id_11> kimtech <extra_id_12> kimberly-clark global sales llc', 'targets: <extra_id_0> none <extra_id_1> small <extra_id_2> none <extra_id_3> powder-free <extra_id_4> none <extra_id_5> none <extra_id_6> none <extra_id_7> exam <extra_id_8> nitrile <extra_id_9> none <extra_id_10> none <extra_id_11> diversamed <extra_id_12> impact products llc', 'targets: <extra_id_0> none <extra_id_1> large <extra_id_2> none <extra_id_3> powder-free <extra_id_4> latex <extra_id_5> none <extra_id_6> none <extra_id_7> exam <extra_id_8> none <extra_id_9> none <extra_id_10> none <extra_id_11> diversamed <extra_id_12> impact products llc']\n",
            "T5 Prediction ['targets: <extra_id_0> black <extra_id_1> extra-large <extra_id_2> none <extra_id_3> powder-free <extra_id_4> none <extra_id_5> 100 pairs <extra_id_6> 10 boxes <extra_id_7> exam <extra_id_8> nitrile <extra_id_9> 3.5mil <extra_id_10> none <extra_id_11> koda <extra_id_12> tranzonic acquisition corp.', 'targets: <extra_id_0> blue <extra_id_1> extra-extra-large <extra_id_2> none <extra_id_3> powder-free <extra_id_4> none <extra_id_5> 100 pairs <extra_id_6> 10 boxes <extra_id_7> exam <extra_id_8> nitrile <extra_id_9> 5mil <extra_id_10> none <extra_id_11> proworks <extra_id_12> tranzonic companies the', 'targets: <extra_id_0> none <extra_id_1> none <extra_id_2> none <extra_id_3> powder-free <extra_id_4> none <extra_id_5> 50 pairs <extra_id_6> none <extra_id_7> none <extra_id_8> nitrile <extra_id_9> none <extra_id_10> none <extra_id_11> careone <extra_id_12> ahold u.s.a. inc.', 'targets: <extra_id_0> none <extra_id_1> medium <extra_id_2> none <extra_id_3> powder-free <extra_id_4> none <extra_id_5> none <extra_id_6> none <extra_id_7> exam <extra_id_8> nitrile <extra_id_9> none <extra_id_10> none <extra_id_11> kimtech, spectrum <extra_id_12> kimberly-clark global sales llc', 'targets: <extra_id_0> blue <extra_id_1> large <extra_id_2> none <extra_id_3> none <extra_id_4> none <extra_id_5> none <extra_id_6> none <extra_id_7> exam <extra_id_8> nitrile <extra_id_9> none <extra_id_10> none <extra_id_11> kimtech <extra_id_12> kimberly-clark global sales llc', 'targets: <extra_id_0> none <extra_id_1> small <extra_id_2> none <extra_id_3> none <extra_id_4> latex <extra_id_5> none <extra_id_6> none <extra_id_7> exam <extra_id_8> none <extra_id_9> none <extra_id_10> none <extra_id_11> kimtech, pfe-xtra <extra_id_12> kimberly-clark global sales llc', 'targets: <extra_id_0> spring green <extra_id_1> extra-large <extra_id_2> none <extra_id_3> powder-free <extra_id_4> none <extra_id_5> none <extra_id_6> none <extra_id_7> exam <extra_id_8> nitrile <extra_id_9> none <extra_id_10> none <extra_id_11> kimtech <extra_id_12> kimberly-clark global sales llc', 'targets: <extra_id_0> spring green <extra_id_1> extra-small <extra_id_2> none <extra_id_3> powder-free <extra_id_4> none <extra_id_5> none <extra_id_6> none <extra_id_7> exam <extra_id_8> nitrile <extra_id_9> none <extra_id_10> none <extra_id_11> kimtech <extra_id_12> kimberly-clark global sales llc', 'targets: <extra_id_0> none <extra_id_1> small <extra_id_2> none <extra_id_3> powder-free <extra_id_4> none <extra_id_5> none <extra_id_6> none <extra_id_7> exam <extra_id_8> nitrile <extra_id_9> none <extra_id_10> none <extra_id_11> diversamed <extra_id_12> impact products llc', 'targets: <extra_id_0> none <extra_id_1> large <extra_id_2> none <extra_id_3> powder-free <extra_id_4> latex <extra_id_5> none <extra_id_6> none <extra_id_7> exam <extra_id_8> none <extra_id_9> none <extra_id_10> none <extra_id_11> diversamed <extra_id_12> impact products llc'] \n",
            "\n",
            "Example  9\n",
            "Description:  [\"description: diversamed impact products , llc extra large vinyl stretch exam glove. The color of this item is <extra_id_0> . The size is <extra_id_1> . This item's sterile status is <extra_id_2> . The powdered status is <extra_id_3> . Its latex-free status is <extra_id_4> . It comes in <extra_id_5> per box. There are <extra_id_6> per case. It is used for <extra_id_7> . The material of this item is <extra_id_8> . This item is <extra_id_9> thick. It is <extra_id_10> long. The product name is <extra_id_11> . <extra_id_12> manufactures this.\", \"description: impact products , llc latex powder free exam glove - large. The color of this item is <extra_id_0> . The size is <extra_id_1> . This item's sterile status is <extra_id_2> . The powdered status is <extra_id_3> . Its latex-free status is <extra_id_4> . It comes in <extra_id_5> per box. There are <extra_id_6> per case. It is used for <extra_id_7> . The material of this item is <extra_id_8> . This item is <extra_id_9> thick. It is <extra_id_10> long. The product name is <extra_id_11> . <extra_id_12> manufactures this.\", \"description: latex powder free exam glove - small impact products , llc. The color of this item is <extra_id_0> . The size is <extra_id_1> . This item's sterile status is <extra_id_2> . The powdered status is <extra_id_3> . Its latex-free status is <extra_id_4> . It comes in <extra_id_5> per box. There are <extra_id_6> per case. It is used for <extra_id_7> . The material of this item is <extra_id_8> . This item is <extra_id_9> thick. It is <extra_id_10> long. The product name is <extra_id_11> . <extra_id_12> manufactures this.\", \"description: impact products , llc medium nitrile powder free exam glove. The color of this item is <extra_id_0> . The size is <extra_id_1> . This item's sterile status is <extra_id_2> . The powdered status is <extra_id_3> . Its latex-free status is <extra_id_4> . It comes in <extra_id_5> per box. There are <extra_id_6> per case. It is used for <extra_id_7> . The material of this item is <extra_id_8> . This item is <extra_id_9> thick. It is <extra_id_10> long. The product name is <extra_id_11> . <extra_id_12> manufactures this.\", \"description: protect u guard nitro-lion nitrile patient examination glove protect u guard , llc nitrile patient examination glove , white , extra large. The color of this item is <extra_id_0> . The size is <extra_id_1> . This item's sterile status is <extra_id_2> . The powdered status is <extra_id_3> . Its latex-free status is <extra_id_4> . It comes in <extra_id_5> per box. There are <extra_id_6> per case. It is used for <extra_id_7> . The material of this item is <extra_id_8> . This item is <extra_id_9> thick. It is <extra_id_10> long. The product name is <extra_id_11> . <extra_id_12> manufactures this.\", \"description: nitrile patient examination glove , white , extra large protect u guard nitro-lion nitrile patient examination glove protect u guard , llc. The color of this item is <extra_id_0> . The size is <extra_id_1> . This item's sterile status is <extra_id_2> . The powdered status is <extra_id_3> . Its latex-free status is <extra_id_4> . It comes in <extra_id_5> per box. There are <extra_id_6> per case. It is used for <extra_id_7> . The material of this item is <extra_id_8> . This item is <extra_id_9> thick. It is <extra_id_10> long. The product name is <extra_id_11> . <extra_id_12> manufactures this.\", \"description: medichoice owens & minor distribution , inc. glove exam small nitrile blue for use with some chemotherapy drugs not made with natural rubber latex. The color of this item is <extra_id_0> . The size is <extra_id_1> . This item's sterile status is <extra_id_2> . The powdered status is <extra_id_3> . Its latex-free status is <extra_id_4> . It comes in <extra_id_5> per box. There are <extra_id_6> per case. It is used for <extra_id_7> . The material of this item is <extra_id_8> . This item is <extra_id_9> thick. It is <extra_id_10> long. The product name is <extra_id_11> . <extra_id_12> manufactures this.\", \"description: medichoice owens & minor distribution , inc. glove exam nitrile xt next generation large non-sterile ambidextrous powder-free textured beaded cuff disposable cleared for use with some chemotherapy drugs not made with natural rubber latex medichoice. The color of this item is <extra_id_0> . The size is <extra_id_1> . This item's sterile status is <extra_id_2> . The powdered status is <extra_id_3> . Its latex-free status is <extra_id_4> . It comes in <extra_id_5> per box. There are <extra_id_6> per case. It is used for <extra_id_7> . The material of this item is <extra_id_8> . This item is <extra_id_9> thick. It is <extra_id_10> long. The product name is <extra_id_11> . <extra_id_12> manufactures this.\", \"description: medichoice owens & minor distribution , inc. glove exam nitrile 9.5 - inch cuff large non-sterile ambidextrous powder-free textured beaded cuff disposable cleared for use with some chemotherapy drugs not made with natural rubber latex medichoice. The color of this item is <extra_id_0> . The size is <extra_id_1> . This item's sterile status is <extra_id_2> . The powdered status is <extra_id_3> . Its latex-free status is <extra_id_4> . It comes in <extra_id_5> per box. There are <extra_id_6> per case. It is used for <extra_id_7> . The material of this item is <extra_id_8> . This item is <extra_id_9> thick. It is <extra_id_10> long. The product name is <extra_id_11> . <extra_id_12> manufactures this.\", \"description: glove exam nitrile ice blue 3.5g xlarge powder free textured finger 100ea/bx 10bx/ca non-sterile not made with natural rubber latex medichoice medichoice owens & minor distribution , inc .. The color of this item is <extra_id_0> . The size is <extra_id_1> . This item's sterile status is <extra_id_2> . The powdered status is <extra_id_3> . Its latex-free status is <extra_id_4> . It comes in <extra_id_5> per box. There are <extra_id_6> per case. It is used for <extra_id_7> . The material of this item is <extra_id_8> . This item is <extra_id_9> thick. It is <extra_id_10> long. The product name is <extra_id_11> . <extra_id_12> manufactures this.\"]\n",
            "Target Text ['targets: <extra_id_0> none <extra_id_1> extra-large <extra_id_2> none <extra_id_3> none <extra_id_4> none <extra_id_5> none <extra_id_6> none <extra_id_7> exam <extra_id_8> vinyl <extra_id_9> none <extra_id_10> none <extra_id_11> diversamed <extra_id_12> impact products llc', 'targets: <extra_id_0> none <extra_id_1> large <extra_id_2> none <extra_id_3> powder-free <extra_id_4> latex <extra_id_5> none <extra_id_6> none <extra_id_7> exam <extra_id_8> none <extra_id_9> none <extra_id_10> none <extra_id_11> none <extra_id_12> impact products llc', 'targets: <extra_id_0> none <extra_id_1> small <extra_id_2> none <extra_id_3> powder-free <extra_id_4> latex <extra_id_5> none <extra_id_6> none <extra_id_7> exam <extra_id_8> none <extra_id_9> none <extra_id_10> none <extra_id_11> none <extra_id_12> impact products llc', 'targets: <extra_id_0> none <extra_id_1> medium <extra_id_2> none <extra_id_3> powder-free <extra_id_4> none <extra_id_5> none <extra_id_6> none <extra_id_7> exam <extra_id_8> nitrile <extra_id_9> none <extra_id_10> none <extra_id_11> none <extra_id_12> impact products llc', 'targets: <extra_id_0> white <extra_id_1> extra-large <extra_id_2> none <extra_id_3> none <extra_id_4> none <extra_id_5> none <extra_id_6> none <extra_id_7> exam <extra_id_8> nitrile <extra_id_9> none <extra_id_10> none <extra_id_11> nitro-lion <extra_id_12> protect u guard llc', 'targets: <extra_id_0> white <extra_id_1> extra-large <extra_id_2> none <extra_id_3> none <extra_id_4> none <extra_id_5> none <extra_id_6> none <extra_id_7> exam <extra_id_8> nitrile <extra_id_9> none <extra_id_10> none <extra_id_11> nitro-lion <extra_id_12> protect u guard llc', 'targets: <extra_id_0> blue <extra_id_1> small <extra_id_2> none <extra_id_3> none <extra_id_4> latex-free <extra_id_5> none <extra_id_6> none <extra_id_7> exam, chemotherapy <extra_id_8> nitrile <extra_id_9> none <extra_id_10> none <extra_id_11> medichoice <extra_id_12> owens & minor distribution inc.', 'targets: <extra_id_0> none <extra_id_1> large <extra_id_2> non-sterile <extra_id_3> powder-free <extra_id_4> latex-free <extra_id_5> none <extra_id_6> none <extra_id_7> exam, chemotherapy <extra_id_8> nitrile <extra_id_9> none <extra_id_10> none <extra_id_11> medichoice <extra_id_12> owens & minor distribution inc.', 'targets: <extra_id_0> none <extra_id_1> large <extra_id_2> non-sterile <extra_id_3> powder-free <extra_id_4> latex-free <extra_id_5> none <extra_id_6> none <extra_id_7> exam, chemotherapy <extra_id_8> nitrile <extra_id_9> none <extra_id_10> 9.5in <extra_id_11> medichoice <extra_id_12> owens & minor distribution inc.', 'targets: <extra_id_0> blue <extra_id_1> extra-large <extra_id_2> non-sterile <extra_id_3> powder-free <extra_id_4> latex-free <extra_id_5> none <extra_id_6> none <extra_id_7> exam <extra_id_8> nitrile <extra_id_9> none <extra_id_10> none <extra_id_11> medichoice <extra_id_12> owens & minor distribution inc.']\n",
            "T5 Prediction ['targets: <extra_id_0> none <extra_id_1> extra-large <extra_id_2> none <extra_id_3> none <extra_id_4> none <extra_id_5> none <extra_id_6> none <extra_id_7> exam <extra_id_8> vinyl <extra_id_9> none <extra_id_10> none <extra_id_11> diversamed <extra_id_12> impact products llc', 'targets: <extra_id_0> none <extra_id_1> large <extra_id_2> none <extra_id_3> powder-free <extra_id_4> latex <extra_id_5> none <extra_id_6> none <extra_id_7> exam <extra_id_8> none <extra_id_9> none <extra_id_10> none <extra_id_11> none <extra_id_12> impact products llc', 'targets: <extra_id_0> none <extra_id_1> small <extra_id_2> none <extra_id_3> powder-free <extra_id_4> latex <extra_id_5> none <extra_id_6> none <extra_id_7> exam <extra_id_8> none <extra_id_9> none <extra_id_10> none <extra_id_11> none <extra_id_12> impact products llc', 'targets: <extra_id_0> none <extra_id_1> medium <extra_id_2> none <extra_id_3> powder-free <extra_id_4> none <extra_id_5> none <extra_id_6> none <extra_id_7> exam <extra_id_8> nitrile <extra_id_9> none <extra_id_10> none <extra_id_11> none <extra_id_12> impact products llc', 'targets: <extra_id_0> white <extra_id_1> extra-large <extra_id_2> none <extra_id_3> none <extra_id_4> none <extra_id_5> none <extra_id_6> none <extra_id_7> exam <extra_id_8> nitrile <extra_id_9> none <extra_id_10> none <extra_id_11> nitro-lion <extra_id_12> protect u guard llc', 'targets: <extra_id_0> white <extra_id_1> extra-large <extra_id_2> none <extra_id_3> none <extra_id_4> none <extra_id_5> none <extra_id_6> none <extra_id_7> exam <extra_id_8> nitrile <extra_id_9> none <extra_id_10> none <extra_id_11> nitro-lion <extra_id_12> protect u guard llc', 'targets: <extra_id_0> blue <extra_id_1> small <extra_id_2> none <extra_id_3> none <extra_id_4> latex-free <extra_id_5> none <extra_id_6> none <extra_id_7> exam, chemotherapy <extra_id_8> nitrile <extra_id_9> none <extra_id_10> none <extra_id_11> medichoice <extra_id_12> owens & minor distribution inc.', 'targets: <extra_id_0> none <extra_id_1> large <extra_id_2> non-sterile <extra_id_3> powder-free <extra_id_4> latex-free <extra_id_5> none <extra_id_6> none <extra_id_7> exam, chemotherapy <extra_id_8> nitrile <extra_id_9> none <extra_id_10> none <extra_id_11> medichoice <extra_id_12> owens & minor distribution inc.', 'targets: <extra_id_0> none <extra_id_1> large <extra_id_2> non-sterile <extra_id_3> powder-free <extra_id_4> latex-free <extra_id_5> none <extra_id_6> none <extra_id_7> exam, chemotherapy <extra_id_8> nitrile <extra_id_9> none <extra_id_10> 9.5in <extra_id_11> medichoice <extra_id_12> owens & minor distribution inc.', 'targets: <extra_id_0> blue <extra_id_1> extra-large <extra_id_2> non-sterile <extra_id_3> powder-free <extra_id_4> latex-free <extra_id_5> none <extra_id_6> none <extra_id_7> exam <extra_id_8> nitrile <extra_id_9> none <extra_id_10> none <extra_id_11> medichoice <extra_id_12> owens & minor distribution inc.'] \n",
            "\n",
            "Example  10\n",
            "Description:  [\"description: medichoice owens & minor distribution , inc. glove exam nitrile ice blue 3.5g large powder free textured finger 100ea/bx 10bx/ca non-sterile not made with natural rubber latex medichoice. The color of this item is <extra_id_0> . The size is <extra_id_1> . This item's sterile status is <extra_id_2> . The powdered status is <extra_id_3> . Its latex-free status is <extra_id_4> . It comes in <extra_id_5> per box. There are <extra_id_6> per case. It is used for <extra_id_7> . The material of this item is <extra_id_8> . This item is <extra_id_9> thick. It is <extra_id_10> long. The product name is <extra_id_11> . <extra_id_12> manufactures this.\", \"description: nitrile exam gloves flexal comfort flexal cardinal health 200 , llc. The color of this item is <extra_id_0> . The size is <extra_id_1> . This item's sterile status is <extra_id_2> . The powdered status is <extra_id_3> . Its latex-free status is <extra_id_4> . It comes in <extra_id_5> per box. There are <extra_id_6> per case. It is used for <extra_id_7> . The material of this item is <extra_id_8> . This item is <extra_id_9> thick. It is <extra_id_10> long. The product name is <extra_id_11> . <extra_id_12> manufactures this.\", \"description: nitrile exam gloves flexal cardinal health 200 , llc. The color of this item is <extra_id_0> . The size is <extra_id_1> . This item's sterile status is <extra_id_2> . The powdered status is <extra_id_3> . Its latex-free status is <extra_id_4> . It comes in <extra_id_5> per box. There are <extra_id_6> per case. It is used for <extra_id_7> . The material of this item is <extra_id_8> . This item is <extra_id_9> thick. It is <extra_id_10> long. The product name is <extra_id_11> . <extra_id_12> manufactures this.\", \"description: esteem cardinal health 200 , llc nitrile exam gloves esteem stretchy nitrile fully textured chemotherapy drug tested. The color of this item is <extra_id_0> . The size is <extra_id_1> . This item's sterile status is <extra_id_2> . The powdered status is <extra_id_3> . Its latex-free status is <extra_id_4> . It comes in <extra_id_5> per box. There are <extra_id_6> per case. It is used for <extra_id_7> . The material of this item is <extra_id_8> . This item is <extra_id_9> thick. It is <extra_id_10> long. The product name is <extra_id_11> . <extra_id_12> manufactures this.\", \"description: novaplus cardinal health 200 , llc nitrile exam gloves flexal. The color of this item is <extra_id_0> . The size is <extra_id_1> . This item's sterile status is <extra_id_2> . The powdered status is <extra_id_3> . Its latex-free status is <extra_id_4> . It comes in <extra_id_5> per box. There are <extra_id_6> per case. It is used for <extra_id_7> . The material of this item is <extra_id_8> . This item is <extra_id_9> thick. It is <extra_id_10> long. The product name is <extra_id_11> . <extra_id_12> manufactures this.\", \"description: nitrile ambidextrous gloves , large , 8 mil chemoplus cardinal health , inc .. The color of this item is <extra_id_0> . The size is <extra_id_1> . This item's sterile status is <extra_id_2> . The powdered status is <extra_id_3> . Its latex-free status is <extra_id_4> . It comes in <extra_id_5> per box. There are <extra_id_6> per case. It is used for <extra_id_7> . The material of this item is <extra_id_8> . This item is <extra_id_9> thick. It is <extra_id_10> long. The product name is <extra_id_11> . <extra_id_12> manufactures this.\", \"description: asap orange powder free nitrile exam gloves l asap ascend eagle incorporated. The color of this item is <extra_id_0> . The size is <extra_id_1> . This item's sterile status is <extra_id_2> . The powdered status is <extra_id_3> . Its latex-free status is <extra_id_4> . It comes in <extra_id_5> per box. There are <extra_id_6> per case. It is used for <extra_id_7> . The material of this item is <extra_id_8> . This item is <extra_id_9> thick. It is <extra_id_10> long. The product name is <extra_id_11> . <extra_id_12> manufactures this.\", \"description: green latex powder free exam gloves - l beesure ascend eagle incorporated. The color of this item is <extra_id_0> . The size is <extra_id_1> . This item's sterile status is <extra_id_2> . The powdered status is <extra_id_3> . Its latex-free status is <extra_id_4> . It comes in <extra_id_5> per box. There are <extra_id_6> per case. It is used for <extra_id_7> . The material of this item is <extra_id_8> . This item is <extra_id_9> thick. It is <extra_id_10> long. The product name is <extra_id_11> . <extra_id_12> manufactures this.\", \"description: beesure ascend eagle incorporated superslimTM nitrile powder free exam gloves - s - case. The color of this item is <extra_id_0> . The size is <extra_id_1> . This item's sterile status is <extra_id_2> . The powdered status is <extra_id_3> . Its latex-free status is <extra_id_4> . It comes in <extra_id_5> per box. There are <extra_id_6> per case. It is used for <extra_id_7> . The material of this item is <extra_id_8> . This item is <extra_id_9> thick. It is <extra_id_10> long. The product name is <extra_id_11> . <extra_id_12> manufactures this.\", \"description: beesure ascend eagle incorporated superslimTM nitrile powder free exam gloves - xs - case. The color of this item is <extra_id_0> . The size is <extra_id_1> . This item's sterile status is <extra_id_2> . The powdered status is <extra_id_3> . Its latex-free status is <extra_id_4> . It comes in <extra_id_5> per box. There are <extra_id_6> per case. It is used for <extra_id_7> . The material of this item is <extra_id_8> . This item is <extra_id_9> thick. It is <extra_id_10> long. The product name is <extra_id_11> . <extra_id_12> manufactures this.\"]\n",
            "Target Text ['targets: <extra_id_0> blue <extra_id_1> large <extra_id_2> non-sterile <extra_id_3> powder-free <extra_id_4> latex-free <extra_id_5> none <extra_id_6> none <extra_id_7> exam <extra_id_8> nitrile <extra_id_9> none <extra_id_10> none <extra_id_11> medichoice <extra_id_12> owens & minor distribution inc.', 'targets: <extra_id_0> none <extra_id_1> none <extra_id_2> none <extra_id_3> none <extra_id_4> none <extra_id_5> none <extra_id_6> none <extra_id_7> exam <extra_id_8> nitrile <extra_id_9> none <extra_id_10> none <extra_id_11> flexal <extra_id_12> cardinal health 200 llc', 'targets: <extra_id_0> none <extra_id_1> none <extra_id_2> none <extra_id_3> none <extra_id_4> none <extra_id_5> none <extra_id_6> none <extra_id_7> exam <extra_id_8> nitrile <extra_id_9> none <extra_id_10> none <extra_id_11> flexal <extra_id_12> cardinal health 200 llc', 'targets: <extra_id_0> none <extra_id_1> none <extra_id_2> none <extra_id_3> none <extra_id_4> none <extra_id_5> none <extra_id_6> none <extra_id_7> exam, chemotherapy <extra_id_8> nitrile <extra_id_9> none <extra_id_10> none <extra_id_11> esteem <extra_id_12> cardinal health 200 llc', 'targets: <extra_id_0> none <extra_id_1> none <extra_id_2> none <extra_id_3> none <extra_id_4> none <extra_id_5> none <extra_id_6> none <extra_id_7> exam <extra_id_8> nitrile <extra_id_9> none <extra_id_10> none <extra_id_11> novaplus <extra_id_12> cardinal health 200 llc', 'targets: <extra_id_0> none <extra_id_1> large <extra_id_2> none <extra_id_3> none <extra_id_4> none <extra_id_5> none <extra_id_6> none <extra_id_7> none <extra_id_8> nitrile <extra_id_9> 8mil <extra_id_10> none <extra_id_11> chemoplus <extra_id_12> cardinal health inc.', 'targets: <extra_id_0> orange <extra_id_1> large <extra_id_2> none <extra_id_3> powder-free <extra_id_4> none <extra_id_5> none <extra_id_6> none <extra_id_7> exam <extra_id_8> nitrile <extra_id_9> none <extra_id_10> none <extra_id_11> asap <extra_id_12> ascend eagle incorporated', 'targets: <extra_id_0> green <extra_id_1> large <extra_id_2> none <extra_id_3> powder-free <extra_id_4> latex <extra_id_5> none <extra_id_6> none <extra_id_7> exam <extra_id_8> none <extra_id_9> none <extra_id_10> none <extra_id_11> beesure <extra_id_12> ascend eagle incorporated', 'targets: <extra_id_0> none <extra_id_1> small <extra_id_2> none <extra_id_3> powder-free <extra_id_4> none <extra_id_5> none <extra_id_6> none <extra_id_7> exam <extra_id_8> nitrile <extra_id_9> none <extra_id_10> none <extra_id_11> beesure <extra_id_12> ascend eagle incorporated', 'targets: <extra_id_0> none <extra_id_1> extra-small <extra_id_2> none <extra_id_3> powder-free <extra_id_4> none <extra_id_5> none <extra_id_6> none <extra_id_7> exam <extra_id_8> nitrile <extra_id_9> none <extra_id_10> none <extra_id_11> beesure <extra_id_12> ascend eagle incorporated']\n",
            "T5 Prediction ['targets: <extra_id_0> blue <extra_id_1> large <extra_id_2> non-sterile <extra_id_3> powder-free <extra_id_4> latex-free <extra_id_5> none <extra_id_6> none <extra_id_7> exam <extra_id_8> nitrile <extra_id_9> none <extra_id_10> none <extra_id_11> medichoice <extra_id_12> owens & minor distribution inc.', 'targets: <extra_id_0> none <extra_id_1> none <extra_id_2> none <extra_id_3> none <extra_id_4> none <extra_id_5> none <extra_id_6> none <extra_id_7> exam <extra_id_8> nitrile <extra_id_9> none <extra_id_10> none <extra_id_11> flexal <extra_id_12> flexal comfort 200 llc', 'targets: <extra_id_0> none <extra_id_1> none <extra_id_2> none <extra_id_3> none <extra_id_4> none <extra_id_5> none <extra_id_6> none <extra_id_7> exam <extra_id_8> nitrile <extra_id_9> none <extra_id_10> none <extra_id_11> flexal <extra_id_12> cardinal health 200 llc', 'targets: <extra_id_0> none <extra_id_1> none <extra_id_2> none <extra_id_3> none <extra_id_4> none <extra_id_5> none <extra_id_6> none <extra_id_7> exam, chemotherapy <extra_id_8> nitrile <extra_id_9> none <extra_id_10> none <extra_id_11> esteem <extra_id_12> cardinal health 200 llc', 'targets: <extra_id_0> none <extra_id_1> none <extra_id_2> none <extra_id_3> none <extra_id_4> none <extra_id_5> none <extra_id_6> none <extra_id_7> exam <extra_id_8> nitrile <extra_id_9> none <extra_id_10> none <extra_id_11> novaplus <extra_id_12> cardinal health 200 llc', 'targets: <extra_id_0> none <extra_id_1> large <extra_id_2> none <extra_id_3> none <extra_id_4> none <extra_id_5> none <extra_id_6> none <extra_id_7> none <extra_id_8> nitrile <extra_id_9> 8mil <extra_id_10> none <extra_id_11> chemoplus <extra_id_12> cardinal health inc.', 'targets: <extra_id_0> orange <extra_id_1> large <extra_id_2> none <extra_id_3> powder-free <extra_id_4> none <extra_id_5> none <extra_id_6> none <extra_id_7> exam <extra_id_8> nitrile <extra_id_9> none <extra_id_10> none <extra_id_11> asap <extra_id_12> ascend eagle incorporated', 'targets: <extra_id_0> green <extra_id_1> large <extra_id_2> none <extra_id_3> powder-free <extra_id_4> latex <extra_id_5> none <extra_id_6> none <extra_id_7> exam <extra_id_8> none <extra_id_9> none <extra_id_10> none <extra_id_11> beesure <extra_id_12> ascend eagle incorporated', 'targets: <extra_id_0> none <extra_id_1> small <extra_id_2> none <extra_id_3> powder-free <extra_id_4> none <extra_id_5> none <extra_id_6> none <extra_id_7> exam <extra_id_8> nitrile <extra_id_9> none <extra_id_10> none <extra_id_11> beesure <extra_id_12> ascend eagle incorporated', 'targets: <extra_id_0> none <extra_id_1> extra-small <extra_id_2> none <extra_id_3> powder-free <extra_id_4> none <extra_id_5> none <extra_id_6> none <extra_id_7> exam <extra_id_8> nitrile <extra_id_9> none <extra_id_10> none <extra_id_11> beesure <extra_id_12> ascend eagle incorporated'] \n",
            "\n",
            "Example  11\n",
            "Description:  [\"description: halyard o & m halyard , inc. sterling zero* nitrile powder-free exam gloves , xl. The color of this item is <extra_id_0> . The size is <extra_id_1> . This item's sterile status is <extra_id_2> . The powdered status is <extra_id_3> . Its latex-free status is <extra_id_4> . It comes in <extra_id_5> per box. There are <extra_id_6> per case. It is used for <extra_id_7> . The material of this item is <extra_id_8> . This item is <extra_id_9> thick. It is <extra_id_10> long. The product name is <extra_id_11> . <extra_id_12> manufactures this.\", \"description: halyard o & m halyard , inc. purple nitrile* powder-free exam gloves , xl. The color of this item is <extra_id_0> . The size is <extra_id_1> . This item's sterile status is <extra_id_2> . The powdered status is <extra_id_3> . Its latex-free status is <extra_id_4> . It comes in <extra_id_5> per box. There are <extra_id_6> per case. It is used for <extra_id_7> . The material of this item is <extra_id_8> . This item is <extra_id_9> thick. It is <extra_id_10> long. The product name is <extra_id_11> . <extra_id_12> manufactures this.\", \"description: halyard o & m halyard , inc. lavender* nitrile* powder-free exam gloves , l. The color of this item is <extra_id_0> . The size is <extra_id_1> . This item's sterile status is <extra_id_2> . The powdered status is <extra_id_3> . Its latex-free status is <extra_id_4> . It comes in <extra_id_5> per box. There are <extra_id_6> per case. It is used for <extra_id_7> . The material of this item is <extra_id_8> . This item is <extra_id_9> thick. It is <extra_id_10> long. The product name is <extra_id_11> . <extra_id_12> manufactures this.\", \"description: sterling* nitrile powder-free exam gloves , s halyard o & m halyard , inc .. The color of this item is <extra_id_0> . The size is <extra_id_1> . This item's sterile status is <extra_id_2> . The powdered status is <extra_id_3> . Its latex-free status is <extra_id_4> . It comes in <extra_id_5> per box. There are <extra_id_6> per case. It is used for <extra_id_7> . The material of this item is <extra_id_8> . This item is <extra_id_9> thick. It is <extra_id_10> long. The product name is <extra_id_11> . <extra_id_12> manufactures this.\", \"description: black-fire* powder-free nitrile exam gloves , xs halyard o & m halyard , inc .. The color of this item is <extra_id_0> . The size is <extra_id_1> . This item's sterile status is <extra_id_2> . The powdered status is <extra_id_3> . Its latex-free status is <extra_id_4> . It comes in <extra_id_5> per box. There are <extra_id_6> per case. It is used for <extra_id_7> . The material of this item is <extra_id_8> . This item is <extra_id_9> thick. It is <extra_id_10> long. The product name is <extra_id_11> . <extra_id_12> manufactures this.\", \"description: halyard o & m halyard , inc. eco pull* lavender* nitrile powder-free exam gloves , xl. The color of this item is <extra_id_0> . The size is <extra_id_1> . This item's sterile status is <extra_id_2> . The powdered status is <extra_id_3> . Its latex-free status is <extra_id_4> . It comes in <extra_id_5> per box. There are <extra_id_6> per case. It is used for <extra_id_7> . The material of this item is <extra_id_8> . This item is <extra_id_9> thick. It is <extra_id_10> long. The product name is <extra_id_11> . <extra_id_12> manufactures this.\", \"description: halyard o & m halyard , inc. eco pull* lavender* nitrile powder-free exam gloves , m. The color of this item is <extra_id_0> . The size is <extra_id_1> . This item's sterile status is <extra_id_2> . The powdered status is <extra_id_3> . Its latex-free status is <extra_id_4> . It comes in <extra_id_5> per box. There are <extra_id_6> per case. It is used for <extra_id_7> . The material of this item is <extra_id_8> . This item is <extra_id_9> thick. It is <extra_id_10> long. The product name is <extra_id_11> . <extra_id_12> manufactures this.\", \"description: medline industries , inc. medline industries , inc. neds glove pack 8.5 ( 15 pr ). The color of this item is <extra_id_0> . The size is <extra_id_1> . This item's sterile status is <extra_id_2> . The powdered status is <extra_id_3> . Its latex-free status is <extra_id_4> . It comes in <extra_id_5> per box. There are <extra_id_6> per case. It is used for <extra_id_7> . The material of this item is <extra_id_8> . This item is <extra_id_9> thick. It is <extra_id_10> long. The product name is <extra_id_11> . <extra_id_12> manufactures this.\", \"description: neds glove pack 7.0 ( 15 pr ) medline industries , inc. medline industries , inc .. The color of this item is <extra_id_0> . The size is <extra_id_1> . This item's sterile status is <extra_id_2> . The powdered status is <extra_id_3> . Its latex-free status is <extra_id_4> . It comes in <extra_id_5> per box. There are <extra_id_6> per case. It is used for <extra_id_7> . The material of this item is <extra_id_8> . This item is <extra_id_9> thick. It is <extra_id_10> long. The product name is <extra_id_11> . <extra_id_12> manufactures this.\", \"description: medline industries , inc. medline industries , inc. neds glove pack 6.5 ( 15 pr ). The color of this item is <extra_id_0> . The size is <extra_id_1> . This item's sterile status is <extra_id_2> . The powdered status is <extra_id_3> . Its latex-free status is <extra_id_4> . It comes in <extra_id_5> per box. There are <extra_id_6> per case. It is used for <extra_id_7> . The material of this item is <extra_id_8> . This item is <extra_id_9> thick. It is <extra_id_10> long. The product name is <extra_id_11> . <extra_id_12> manufactures this.\"]\n",
            "Target Text ['targets: <extra_id_0> sterling <extra_id_1> extra-large <extra_id_2> none <extra_id_3> powder-free <extra_id_4> none <extra_id_5> none <extra_id_6> none <extra_id_7> exam <extra_id_8> nitrile <extra_id_9> none <extra_id_10> none <extra_id_11> none <extra_id_12> o&m halyard inc.', 'targets: <extra_id_0> purple <extra_id_1> extra-large <extra_id_2> none <extra_id_3> powder-free <extra_id_4> none <extra_id_5> none <extra_id_6> none <extra_id_7> exam <extra_id_8> nitrile <extra_id_9> none <extra_id_10> none <extra_id_11> none <extra_id_12> o&m halyard inc.', 'targets: <extra_id_0> lavender <extra_id_1> large <extra_id_2> none <extra_id_3> powder-free <extra_id_4> none <extra_id_5> none <extra_id_6> none <extra_id_7> exam <extra_id_8> nitrile <extra_id_9> none <extra_id_10> none <extra_id_11> none <extra_id_12> o&m halyard inc.', 'targets: <extra_id_0> sterling <extra_id_1> small <extra_id_2> none <extra_id_3> powder-free <extra_id_4> none <extra_id_5> none <extra_id_6> none <extra_id_7> exam <extra_id_8> nitrile <extra_id_9> none <extra_id_10> none <extra_id_11> none <extra_id_12> o&m halyard inc.', 'targets: <extra_id_0> black <extra_id_1> extra-small <extra_id_2> none <extra_id_3> powder-free <extra_id_4> none <extra_id_5> none <extra_id_6> none <extra_id_7> exam <extra_id_8> nitrile <extra_id_9> none <extra_id_10> none <extra_id_11> none <extra_id_12> o&m halyard inc.', 'targets: <extra_id_0> lavender <extra_id_1> extra-large <extra_id_2> none <extra_id_3> powder-free <extra_id_4> none <extra_id_5> none <extra_id_6> none <extra_id_7> exam <extra_id_8> nitrile <extra_id_9> none <extra_id_10> none <extra_id_11> none <extra_id_12> o&m halyard inc.', 'targets: <extra_id_0> lavender <extra_id_1> medium <extra_id_2> none <extra_id_3> powder-free <extra_id_4> none <extra_id_5> none <extra_id_6> none <extra_id_7> exam <extra_id_8> nitrile <extra_id_9> none <extra_id_10> none <extra_id_11> none <extra_id_12> o&m halyard inc.', 'targets: <extra_id_0> none <extra_id_1> none <extra_id_2> none <extra_id_3> none <extra_id_4> none <extra_id_5> none <extra_id_6> none <extra_id_7> none <extra_id_8> none <extra_id_9> none <extra_id_10> none <extra_id_11> none <extra_id_12> medline industries inc.', 'targets: <extra_id_0> none <extra_id_1> none <extra_id_2> none <extra_id_3> none <extra_id_4> none <extra_id_5> none <extra_id_6> none <extra_id_7> none <extra_id_8> none <extra_id_9> none <extra_id_10> none <extra_id_11> none <extra_id_12> medline industries inc.', 'targets: <extra_id_0> none <extra_id_1> none <extra_id_2> none <extra_id_3> none <extra_id_4> none <extra_id_5> none <extra_id_6> none <extra_id_7> none <extra_id_8> none <extra_id_9> none <extra_id_10> none <extra_id_11> none <extra_id_12> medline industries inc.']\n",
            "T5 Prediction ['targets: <extra_id_0> sterling <extra_id_1> extra-large <extra_id_2> none <extra_id_3> powder-free <extra_id_4> none <extra_id_5> none <extra_id_6> none <extra_id_7> exam <extra_id_8> nitrile <extra_id_9> none <extra_id_10> none <extra_id_11> none <extra_id_12> o&m halyard inc.', 'targets: <extra_id_0> purple <extra_id_1> extra-large <extra_id_2> none <extra_id_3> powder-free <extra_id_4> none <extra_id_5> none <extra_id_6> none <extra_id_7> exam <extra_id_8> nitrile <extra_id_9> none <extra_id_10> none <extra_id_11> none <extra_id_12> o&m halyard inc.', 'targets: <extra_id_0> lavender <extra_id_1> large <extra_id_2> none <extra_id_3> powder-free <extra_id_4> none <extra_id_5> none <extra_id_6> none <extra_id_7> exam <extra_id_8> nitrile <extra_id_9> none <extra_id_10> none <extra_id_11> none <extra_id_12> o&m halyard inc.', 'targets: <extra_id_0> sterling <extra_id_1> small <extra_id_2> none <extra_id_3> powder-free <extra_id_4> none <extra_id_5> none <extra_id_6> none <extra_id_7> exam <extra_id_8> nitrile <extra_id_9> none <extra_id_10> none <extra_id_11> none <extra_id_12> o&m halyard inc.', 'targets: <extra_id_0> black <extra_id_1> extra-small <extra_id_2> none <extra_id_3> powder-free <extra_id_4> none <extra_id_5> none <extra_id_6> none <extra_id_7> exam <extra_id_8> nitrile <extra_id_9> none <extra_id_10> none <extra_id_11> none <extra_id_12> o&m halyard inc.', 'targets: <extra_id_0> lavender <extra_id_1> extra-large <extra_id_2> none <extra_id_3> powder-free <extra_id_4> none <extra_id_5> none <extra_id_6> none <extra_id_7> exam <extra_id_8> nitrile <extra_id_9> none <extra_id_10> none <extra_id_11> none <extra_id_12> o&m halyard inc.', 'targets: <extra_id_0> lavender <extra_id_1> medium <extra_id_2> none <extra_id_3> powder-free <extra_id_4> none <extra_id_5> none <extra_id_6> none <extra_id_7> exam <extra_id_8> nitrile <extra_id_9> none <extra_id_10> none <extra_id_11> none <extra_id_12> o&m halyard inc.', 'targets: <extra_id_0> none <extra_id_1> none <extra_id_2> none <extra_id_3> none <extra_id_4> none <extra_id_5> none <extra_id_6> none <extra_id_7> none <extra_id_8> none <extra_id_9> none <extra_id_10> none <extra_id_11> none <extra_id_12> medline industries inc.', 'targets: <extra_id_0> none <extra_id_1> none <extra_id_2> none <extra_id_3> none <extra_id_4> none <extra_id_5> none <extra_id_6> none <extra_id_7> none <extra_id_8> none <extra_id_9> none <extra_id_10> none <extra_id_11> none <extra_id_12> medline industries inc.', 'targets: <extra_id_0> none <extra_id_1> none <extra_id_2> none <extra_id_3> none <extra_id_4> none <extra_id_5> none <extra_id_6> none <extra_id_7> none <extra_id_8> none <extra_id_9> none <extra_id_10> none <extra_id_11> none <extra_id_12> medline industries inc.'] \n",
            "\n",
            "Example  12\n",
            "Description:  [\"description: medline industries , inc. medline industries , inc. glove kit 8. The color of this item is <extra_id_0> . The size is <extra_id_1> . This item's sterile status is <extra_id_2> . The powdered status is <extra_id_3> . Its latex-free status is <extra_id_4> . It comes in <extra_id_5> per box. There are <extra_id_6> per case. It is used for <extra_id_7> . The material of this item is <extra_id_8> . This item is <extra_id_9> thick. It is <extra_id_10> long. The product name is <extra_id_11> . <extra_id_12> manufactures this.\", \"description: medline industries , inc. medline industries , inc. glove kit size 7.5. The color of this item is <extra_id_0> . The size is <extra_id_1> . This item's sterile status is <extra_id_2> . The powdered status is <extra_id_3> . Its latex-free status is <extra_id_4> . It comes in <extra_id_5> per box. There are <extra_id_6> per case. It is used for <extra_id_7> . The material of this item is <extra_id_8> . This item is <extra_id_9> thick. It is <extra_id_10> long. The product name is <extra_id_11> . <extra_id_12> manufactures this.\", \"description: strl dci glove pack 6 half kit cardinal health cardinal health 200 , llc. The color of this item is <extra_id_0> . The size is <extra_id_1> . This item's sterile status is <extra_id_2> . The powdered status is <extra_id_3> . Its latex-free status is <extra_id_4> . It comes in <extra_id_5> per box. There are <extra_id_6> per case. It is used for <extra_id_7> . The material of this item is <extra_id_8> . This item is <extra_id_9> thick. It is <extra_id_10> long. The product name is <extra_id_11> . <extra_id_12> manufactures this.\", \"description: gloves size 6 5 kit cardinal health cardinal health 200 , llc. The color of this item is <extra_id_0> . The size is <extra_id_1> . This item's sterile status is <extra_id_2> . The powdered status is <extra_id_3> . Its latex-free status is <extra_id_4> . It comes in <extra_id_5> per box. There are <extra_id_6> per case. It is used for <extra_id_7> . The material of this item is <extra_id_8> . This item is <extra_id_9> thick. It is <extra_id_10> long. The product name is <extra_id_11> . <extra_id_12> manufactures this.\", \"description: cardinal health cardinal health 200 , llc gloves size 7 5 kit. The color of this item is <extra_id_0> . The size is <extra_id_1> . This item's sterile status is <extra_id_2> . The powdered status is <extra_id_3> . Its latex-free status is <extra_id_4> . It comes in <extra_id_5> per box. There are <extra_id_6> per case. It is used for <extra_id_7> . The material of this item is <extra_id_8> . This item is <extra_id_9> thick. It is <extra_id_10> long. The product name is <extra_id_11> . <extra_id_12> manufactures this.\", \"description: cardinal health cardinal health 200 , llc glove 8 half pack. The color of this item is <extra_id_0> . The size is <extra_id_1> . This item's sterile status is <extra_id_2> . The powdered status is <extra_id_3> . Its latex-free status is <extra_id_4> . It comes in <extra_id_5> per box. There are <extra_id_6> per case. It is used for <extra_id_7> . The material of this item is <extra_id_8> . This item is <extra_id_9> thick. It is <extra_id_10> long. The product name is <extra_id_11> . <extra_id_12> manufactures this.\", \"description: sterile gloves size 6 5 kit cardinal health cardinal health 200 , llc. The color of this item is <extra_id_0> . The size is <extra_id_1> . This item's sterile status is <extra_id_2> . The powdered status is <extra_id_3> . Its latex-free status is <extra_id_4> . It comes in <extra_id_5> per box. There are <extra_id_6> per case. It is used for <extra_id_7> . The material of this item is <extra_id_8> . This item is <extra_id_9> thick. It is <extra_id_10> long. The product name is <extra_id_11> . <extra_id_12> manufactures this.\", \"description: protexis cardinal health 200 , llc sterile synthetic polyisoprene powder-free surgical gloves with hydrogel coating. The color of this item is <extra_id_0> . The size is <extra_id_1> . This item's sterile status is <extra_id_2> . The powdered status is <extra_id_3> . Its latex-free status is <extra_id_4> . It comes in <extra_id_5> per box. There are <extra_id_6> per case. It is used for <extra_id_7> . The material of this item is <extra_id_8> . This item is <extra_id_9> thick. It is <extra_id_10> long. The product name is <extra_id_11> . <extra_id_12> manufactures this.\", \"description: chemoplus cardinal health , inc. chemotherapy patient examination gloves 8 mil , nitrile , powder-free , x-large. The color of this item is <extra_id_0> . The size is <extra_id_1> . This item's sterile status is <extra_id_2> . The powdered status is <extra_id_3> . Its latex-free status is <extra_id_4> . It comes in <extra_id_5> per box. There are <extra_id_6> per case. It is used for <extra_id_7> . The material of this item is <extra_id_8> . This item is <extra_id_9> thick. It is <extra_id_10> long. The product name is <extra_id_11> . <extra_id_12> manufactures this.\", \"description: chemoplus cardinal health , inc. chemotherapy patient examination gloves 8 mil , nitrile , powder-free , small. The color of this item is <extra_id_0> . The size is <extra_id_1> . This item's sterile status is <extra_id_2> . The powdered status is <extra_id_3> . Its latex-free status is <extra_id_4> . It comes in <extra_id_5> per box. There are <extra_id_6> per case. It is used for <extra_id_7> . The material of this item is <extra_id_8> . This item is <extra_id_9> thick. It is <extra_id_10> long. The product name is <extra_id_11> . <extra_id_12> manufactures this.\"]\n",
            "Target Text ['targets: <extra_id_0> none <extra_id_1> none <extra_id_2> none <extra_id_3> none <extra_id_4> none <extra_id_5> none <extra_id_6> none <extra_id_7> none <extra_id_8> none <extra_id_9> none <extra_id_10> none <extra_id_11> none <extra_id_12> medline industries inc.', 'targets: <extra_id_0> none <extra_id_1> 7.5 <extra_id_2> none <extra_id_3> none <extra_id_4> none <extra_id_5> none <extra_id_6> none <extra_id_7> none <extra_id_8> none <extra_id_9> none <extra_id_10> none <extra_id_11> none <extra_id_12> medline industries inc.', 'targets: <extra_id_0> none <extra_id_1> none <extra_id_2> sterile <extra_id_3> none <extra_id_4> none <extra_id_5> none <extra_id_6> none <extra_id_7> none <extra_id_8> none <extra_id_9> none <extra_id_10> none <extra_id_11> none <extra_id_12> cardinal health 200 llc', 'targets: <extra_id_0> none <extra_id_1> 6.0 <extra_id_2> none <extra_id_3> none <extra_id_4> none <extra_id_5> none <extra_id_6> none <extra_id_7> none <extra_id_8> none <extra_id_9> none <extra_id_10> none <extra_id_11> none <extra_id_12> cardinal health 200 llc', 'targets: <extra_id_0> none <extra_id_1> 7.0 <extra_id_2> none <extra_id_3> none <extra_id_4> none <extra_id_5> none <extra_id_6> none <extra_id_7> none <extra_id_8> none <extra_id_9> none <extra_id_10> none <extra_id_11> none <extra_id_12> cardinal health 200 llc', 'targets: <extra_id_0> none <extra_id_1> none <extra_id_2> none <extra_id_3> none <extra_id_4> none <extra_id_5> none <extra_id_6> none <extra_id_7> none <extra_id_8> none <extra_id_9> none <extra_id_10> none <extra_id_11> none <extra_id_12> cardinal health 200 llc', 'targets: <extra_id_0> none <extra_id_1> 6.0 <extra_id_2> sterile <extra_id_3> none <extra_id_4> none <extra_id_5> none <extra_id_6> none <extra_id_7> none <extra_id_8> none <extra_id_9> none <extra_id_10> none <extra_id_11> none <extra_id_12> cardinal health 200 llc', 'targets: <extra_id_0> none <extra_id_1> none <extra_id_2> sterile <extra_id_3> powder-free <extra_id_4> none <extra_id_5> none <extra_id_6> none <extra_id_7> surgical <extra_id_8> polyisoprene, synthetic <extra_id_9> none <extra_id_10> none <extra_id_11> protexis <extra_id_12> cardinal health 200 llc', 'targets: <extra_id_0> none <extra_id_1> extra-large <extra_id_2> none <extra_id_3> powder-free <extra_id_4> none <extra_id_5> none <extra_id_6> none <extra_id_7> exam, chemotherapy <extra_id_8> nitrile <extra_id_9> 8mil <extra_id_10> none <extra_id_11> chemoplus <extra_id_12> cardinal health inc.', 'targets: <extra_id_0> none <extra_id_1> small <extra_id_2> none <extra_id_3> powder-free <extra_id_4> none <extra_id_5> none <extra_id_6> none <extra_id_7> exam, chemotherapy <extra_id_8> nitrile <extra_id_9> 8mil <extra_id_10> none <extra_id_11> chemoplus <extra_id_12> cardinal health inc.']\n",
            "T5 Prediction ['targets: <extra_id_0> none <extra_id_1> none <extra_id_2> none <extra_id_3> none <extra_id_4> none <extra_id_5> none <extra_id_6> none <extra_id_7> none <extra_id_8> none <extra_id_9> none <extra_id_10> none <extra_id_11> none <extra_id_12> medline industries inc.', 'targets: <extra_id_0> none <extra_id_1> 7.5 <extra_id_2> none <extra_id_3> none <extra_id_4> none <extra_id_5> none <extra_id_6> none <extra_id_7> none <extra_id_8> none <extra_id_9> none <extra_id_10> none <extra_id_11> none <extra_id_12> medline industries inc.', 'targets: <extra_id_0> none <extra_id_1> none <extra_id_2> none <extra_id_3> none <extra_id_4> none <extra_id_5> none <extra_id_6> none <extra_id_7> none <extra_id_8> none <extra_id_9> none <extra_id_10> none <extra_id_11> none <extra_id_12> cardinal health 200 llc', 'targets: <extra_id_0> none <extra_id_1> 6.0 <extra_id_2> none <extra_id_3> none <extra_id_4> none <extra_id_5> none <extra_id_6> none <extra_id_7> none <extra_id_8> none <extra_id_9> none <extra_id_10> none <extra_id_11> none <extra_id_12> cardinal health 200 llc', 'targets: <extra_id_0> none <extra_id_1> 7.0 <extra_id_2> none <extra_id_3> none <extra_id_4> none <extra_id_5> none <extra_id_6> none <extra_id_7> none <extra_id_8> none <extra_id_9> none <extra_id_10> none <extra_id_11> none <extra_id_12> cardinal health 200 llc', 'targets: <extra_id_0> none <extra_id_1> none <extra_id_2> none <extra_id_3> none <extra_id_4> none <extra_id_5> none <extra_id_6> none <extra_id_7> none <extra_id_8> none <extra_id_9> none <extra_id_10> none <extra_id_11> none <extra_id_12> cardinal health 200 llc', 'targets: <extra_id_0> none <extra_id_1> 6.0 <extra_id_2> sterile <extra_id_3> none <extra_id_4> none <extra_id_5> none <extra_id_6> none <extra_id_7> none <extra_id_8> none <extra_id_9> none <extra_id_10> none <extra_id_11> none <extra_id_12> cardinal health 200 llc', 'targets: <extra_id_0> none <extra_id_1> none <extra_id_2> sterile <extra_id_3> powder-free <extra_id_4> none <extra_id_5> none <extra_id_6> none <extra_id_7> surgical <extra_id_8> polyisoprene, synthetic <extra_id_9> none <extra_id_10> none <extra_id_11> protexis <extra_id_12> cardinal health 200 llc', 'targets: <extra_id_0> none <extra_id_1> extra-large <extra_id_2> none <extra_id_3> powder-free <extra_id_4> none <extra_id_5> none <extra_id_6> none <extra_id_7> exam, chemotherapy <extra_id_8> nitrile <extra_id_9> 8mil <extra_id_10> none <extra_id_11> chemoplus <extra_id_12> cardinal health inc.', 'targets: <extra_id_0> none <extra_id_1> small <extra_id_2> none <extra_id_3> powder-free <extra_id_4> none <extra_id_5> none <extra_id_6> none <extra_id_7> exam, chemotherapy <extra_id_8> nitrile <extra_id_9> 8mil <extra_id_10> none <extra_id_11> chemoplus <extra_id_12> cardinal health inc.'] \n",
            "\n",
            "Example  13\n",
            "Description:  [\"description: chemoplus cardinal health , inc. chemotherapy patient examination gloves 8 mil , nitrile , powder-free , medium. The color of this item is <extra_id_0> . The size is <extra_id_1> . This item's sterile status is <extra_id_2> . The powdered status is <extra_id_3> . Its latex-free status is <extra_id_4> . It comes in <extra_id_5> per box. There are <extra_id_6> per case. It is used for <extra_id_7> . The material of this item is <extra_id_8> . This item is <extra_id_9> thick. It is <extra_id_10> long. The product name is <extra_id_11> . <extra_id_12> manufactures this.\", \"description: chemoplus cardinal health , inc. chemotherapy patient examination gloves 8 mil , nitrile , powder-free , large. The color of this item is <extra_id_0> . The size is <extra_id_1> . This item's sterile status is <extra_id_2> . The powdered status is <extra_id_3> . Its latex-free status is <extra_id_4> . It comes in <extra_id_5> per box. There are <extra_id_6> per case. It is used for <extra_id_7> . The material of this item is <extra_id_8> . This item is <extra_id_9> thick. It is <extra_id_10> long. The product name is <extra_id_11> . <extra_id_12> manufactures this.\", \"description: 8 mil nitrile exam powder free glove- x-large 1/10/50 oem clean safety inc .. The color of this item is <extra_id_0> . The size is <extra_id_1> . This item's sterile status is <extra_id_2> . The powdered status is <extra_id_3> . Its latex-free status is <extra_id_4> . It comes in <extra_id_5> per box. There are <extra_id_6> per case. It is used for <extra_id_7> . The material of this item is <extra_id_8> . This item is <extra_id_9> thick. It is <extra_id_10> long. The product name is <extra_id_11> . <extra_id_12> manufactures this.\", \"description: clean safety clean safety inc. iris blue nitrile exam glove x-large ( case ) 1/10/100. The color of this item is <extra_id_0> . The size is <extra_id_1> . This item's sterile status is <extra_id_2> . The powdered status is <extra_id_3> . Its latex-free status is <extra_id_4> . It comes in <extra_id_5> per box. There are <extra_id_6> per case. It is used for <extra_id_7> . The material of this item is <extra_id_8> . This item is <extra_id_9> thick. It is <extra_id_10> long. The product name is <extra_id_11> . <extra_id_12> manufactures this.\", \"description: clean safety clean safety inc. iris blue nitrile exam glove medium ( case ) 1/10/100. The color of this item is <extra_id_0> . The size is <extra_id_1> . This item's sterile status is <extra_id_2> . The powdered status is <extra_id_3> . Its latex-free status is <extra_id_4> . It comes in <extra_id_5> per box. There are <extra_id_6> per case. It is used for <extra_id_7> . The material of this item is <extra_id_8> . This item is <extra_id_9> thick. It is <extra_id_10> long. The product name is <extra_id_11> . <extra_id_12> manufactures this.\", \"description: iris blue nitrile exam glove x-small ( case ) 1/10/100 clean safety clean safety inc .. The color of this item is <extra_id_0> . The size is <extra_id_1> . This item's sterile status is <extra_id_2> . The powdered status is <extra_id_3> . Its latex-free status is <extra_id_4> . It comes in <extra_id_5> per box. There are <extra_id_6> per case. It is used for <extra_id_7> . The material of this item is <extra_id_8> . This item is <extra_id_9> thick. It is <extra_id_10> long. The product name is <extra_id_11> . <extra_id_12> manufactures this.\", \"description: radiation reduction gloves , size 7 fluoro-shield mundy medical marketing inc. The color of this item is <extra_id_0> . The size is <extra_id_1> . This item's sterile status is <extra_id_2> . The powdered status is <extra_id_3> . Its latex-free status is <extra_id_4> . It comes in <extra_id_5> per box. There are <extra_id_6> per case. It is used for <extra_id_7> . The material of this item is <extra_id_8> . This item is <extra_id_9> thick. It is <extra_id_10> long. The product name is <extra_id_11> . <extra_id_12> manufactures this.\", \"description: oem clean safety inc. white stretch vinyl exam pf - x-large 1/10/100. The color of this item is <extra_id_0> . The size is <extra_id_1> . This item's sterile status is <extra_id_2> . The powdered status is <extra_id_3> . Its latex-free status is <extra_id_4> . It comes in <extra_id_5> per box. There are <extra_id_6> per case. It is used for <extra_id_7> . The material of this item is <extra_id_8> . This item is <extra_id_9> thick. It is <extra_id_10> long. The product name is <extra_id_11> . <extra_id_12> manufactures this.\", \"description: oem clean safety inc. yellow stretch vinyl exam powder free - medium 1/10/100. The color of this item is <extra_id_0> . The size is <extra_id_1> . This item's sterile status is <extra_id_2> . The powdered status is <extra_id_3> . Its latex-free status is <extra_id_4> . It comes in <extra_id_5> per box. There are <extra_id_6> per case. It is used for <extra_id_7> . The material of this item is <extra_id_8> . This item is <extra_id_9> thick. It is <extra_id_10> long. The product name is <extra_id_11> . <extra_id_12> manufactures this.\", \"description: oem clean safety inc. yellow stretch vinyl exam powder free - x-small 1/10/100. The color of this item is <extra_id_0> . The size is <extra_id_1> . This item's sterile status is <extra_id_2> . The powdered status is <extra_id_3> . Its latex-free status is <extra_id_4> . It comes in <extra_id_5> per box. There are <extra_id_6> per case. It is used for <extra_id_7> . The material of this item is <extra_id_8> . This item is <extra_id_9> thick. It is <extra_id_10> long. The product name is <extra_id_11> . <extra_id_12> manufactures this.\"]\n",
            "Target Text ['targets: <extra_id_0> none <extra_id_1> medium <extra_id_2> none <extra_id_3> powder-free <extra_id_4> none <extra_id_5> none <extra_id_6> none <extra_id_7> exam, chemotherapy <extra_id_8> nitrile <extra_id_9> 8mil <extra_id_10> none <extra_id_11> chemoplus <extra_id_12> cardinal health inc.', 'targets: <extra_id_0> none <extra_id_1> large <extra_id_2> none <extra_id_3> powder-free <extra_id_4> none <extra_id_5> none <extra_id_6> none <extra_id_7> exam, chemotherapy <extra_id_8> nitrile <extra_id_9> 8mil <extra_id_10> none <extra_id_11> chemoplus <extra_id_12> cardinal health inc.', 'targets: <extra_id_0> none <extra_id_1> extra-large <extra_id_2> none <extra_id_3> powder-free <extra_id_4> none <extra_id_5> 10 pairs <extra_id_6> 1 boxes <extra_id_7> exam <extra_id_8> nitrile <extra_id_9> 8mil <extra_id_10> none <extra_id_11> oem <extra_id_12> clean safety inc.', 'targets: <extra_id_0> blue <extra_id_1> extra-large <extra_id_2> none <extra_id_3> none <extra_id_4> none <extra_id_5> 10 pairs <extra_id_6> 1 boxes <extra_id_7> exam <extra_id_8> nitrile <extra_id_9> none <extra_id_10> none <extra_id_11> none <extra_id_12> clean safety inc.', 'targets: <extra_id_0> blue <extra_id_1> medium <extra_id_2> none <extra_id_3> none <extra_id_4> none <extra_id_5> 10 pairs <extra_id_6> 1 boxes <extra_id_7> exam <extra_id_8> nitrile <extra_id_9> none <extra_id_10> none <extra_id_11> none <extra_id_12> clean safety inc.', 'targets: <extra_id_0> blue <extra_id_1> extra-small <extra_id_2> none <extra_id_3> none <extra_id_4> none <extra_id_5> 10 pairs <extra_id_6> 1 boxes <extra_id_7> exam <extra_id_8> nitrile <extra_id_9> none <extra_id_10> none <extra_id_11> none <extra_id_12> clean safety inc.', 'targets: <extra_id_0> none <extra_id_1> 7.0 <extra_id_2> none <extra_id_3> none <extra_id_4> none <extra_id_5> none <extra_id_6> none <extra_id_7> radiation <extra_id_8> none <extra_id_9> none <extra_id_10> none <extra_id_11> fluoro-shield <extra_id_12> mundy medical marketing inc', 'targets: <extra_id_0> white <extra_id_1> extra-large <extra_id_2> none <extra_id_3> powder-free <extra_id_4> none <extra_id_5> 10 pairs <extra_id_6> 1 boxes <extra_id_7> exam <extra_id_8> vinyl <extra_id_9> none <extra_id_10> none <extra_id_11> oem <extra_id_12> clean safety inc.', 'targets: <extra_id_0> yellow <extra_id_1> medium <extra_id_2> none <extra_id_3> powder-free <extra_id_4> none <extra_id_5> 10 pairs <extra_id_6> 1 boxes <extra_id_7> exam <extra_id_8> vinyl <extra_id_9> none <extra_id_10> none <extra_id_11> oem <extra_id_12> clean safety inc.', 'targets: <extra_id_0> yellow <extra_id_1> extra-small <extra_id_2> none <extra_id_3> powder-free <extra_id_4> none <extra_id_5> 10 pairs <extra_id_6> 1 boxes <extra_id_7> exam <extra_id_8> vinyl <extra_id_9> none <extra_id_10> none <extra_id_11> oem <extra_id_12> clean safety inc.']\n",
            "T5 Prediction ['targets: <extra_id_0> none <extra_id_1> medium <extra_id_2> none <extra_id_3> powder-free <extra_id_4> none <extra_id_5> none <extra_id_6> none <extra_id_7> exam, chemotherapy <extra_id_8> nitrile <extra_id_9> 8mil <extra_id_10> none <extra_id_11> chemoplus <extra_id_12> cardinal health inc.', 'targets: <extra_id_0> none <extra_id_1> large <extra_id_2> none <extra_id_3> powder-free <extra_id_4> none <extra_id_5> none <extra_id_6> none <extra_id_7> exam, chemotherapy <extra_id_8> nitrile <extra_id_9> 8mil <extra_id_10> none <extra_id_11> chemoplus <extra_id_12> cardinal health inc.', 'targets: <extra_id_0> none <extra_id_1> extra-large <extra_id_2> none <extra_id_3> powder-free <extra_id_4> none <extra_id_5> 10 pairs <extra_id_6> 1 boxes <extra_id_7> exam <extra_id_8> nitrile <extra_id_9> 8mil <extra_id_10> none <extra_id_11> oem <extra_id_12> clean safety inc.', 'targets: <extra_id_0> blue <extra_id_1> extra-large <extra_id_2> none <extra_id_3> none <extra_id_4> none <extra_id_5> 10 pairs <extra_id_6> 1 boxes <extra_id_7> exam <extra_id_8> nitrile <extra_id_9> none <extra_id_10> none <extra_id_11> none <extra_id_12> clean safety inc.', 'targets: <extra_id_0> blue <extra_id_1> medium <extra_id_2> none <extra_id_3> none <extra_id_4> none <extra_id_5> 10 pairs <extra_id_6> 1 boxes <extra_id_7> exam <extra_id_8> nitrile <extra_id_9> none <extra_id_10> none <extra_id_11> none <extra_id_12> clean safety inc.', 'targets: <extra_id_0> blue <extra_id_1> extra-small <extra_id_2> none <extra_id_3> none <extra_id_4> none <extra_id_5> 10 pairs <extra_id_6> 1 boxes <extra_id_7> exam <extra_id_8> nitrile <extra_id_9> none <extra_id_10> none <extra_id_11> none <extra_id_12> clean safety inc.', 'targets: <extra_id_0> none <extra_id_1> 7.0 <extra_id_2> none <extra_id_3> none <extra_id_4> none <extra_id_5> none <extra_id_6> none <extra_id_7> radiation <extra_id_8> none <extra_id_9> none <extra_id_10> none <extra_id_11> fluoro-shield <extra_id_12> mundy medical marketing inc', 'targets: <extra_id_0> white <extra_id_1> extra-large <extra_id_2> none <extra_id_3> powder-free <extra_id_4> none <extra_id_5> 10 pairs <extra_id_6> 1 boxes <extra_id_7> exam <extra_id_8> vinyl <extra_id_9> none <extra_id_10> none <extra_id_11> oem <extra_id_12> clean safety inc.', 'targets: <extra_id_0> yellow <extra_id_1> medium <extra_id_2> none <extra_id_3> powder-free <extra_id_4> none <extra_id_5> 10 pairs <extra_id_6> 1 boxes <extra_id_7> exam <extra_id_8> vinyl <extra_id_9> none <extra_id_10> none <extra_id_11> oem <extra_id_12> clean safety inc.', 'targets: <extra_id_0> yellow <extra_id_1> extra-small <extra_id_2> none <extra_id_3> powder-free <extra_id_4> none <extra_id_5> 10 pairs <extra_id_6> 1 boxes <extra_id_7> exam <extra_id_8> vinyl <extra_id_9> none <extra_id_10> none <extra_id_11> oem <extra_id_12> clean safety inc.'] \n",
            "\n",
            "Example  14\n",
            "Description:  [\"description: oem clean safety inc. superb nitrile powder free glove 200 series- large 1/10/200. The color of this item is <extra_id_0> . The size is <extra_id_1> . This item's sterile status is <extra_id_2> . The powdered status is <extra_id_3> . Its latex-free status is <extra_id_4> . It comes in <extra_id_5> per box. There are <extra_id_6> per case. It is used for <extra_id_7> . The material of this item is <extra_id_8> . This item is <extra_id_9> thick. It is <extra_id_10> long. The product name is <extra_id_11> . <extra_id_12> manufactures this.\", \"description: oem clean safety inc. superb nitrile powder free glove 200 series medium 1/10/200. The color of this item is <extra_id_0> . The size is <extra_id_1> . This item's sterile status is <extra_id_2> . The powdered status is <extra_id_3> . Its latex-free status is <extra_id_4> . It comes in <extra_id_5> per box. There are <extra_id_6> per case. It is used for <extra_id_7> . The material of this item is <extra_id_8> . This item is <extra_id_9> thick. It is <extra_id_10> long. The product name is <extra_id_11> . <extra_id_12> manufactures this.\", \"description: oem clean safety inc. superb nitrile powder free glove 200 series x-small 1/10/200. The color of this item is <extra_id_0> . The size is <extra_id_1> . This item's sterile status is <extra_id_2> . The powdered status is <extra_id_3> . Its latex-free status is <extra_id_4> . It comes in <extra_id_5> per box. There are <extra_id_6> per case. It is used for <extra_id_7> . The material of this item is <extra_id_8> . This item is <extra_id_9> thick. It is <extra_id_10> long. The product name is <extra_id_11> . <extra_id_12> manufactures this.\", \"description: blue nitrile exam powder free - medium 1/10/100 oem clean safety inc .. The color of this item is <extra_id_0> . The size is <extra_id_1> . This item's sterile status is <extra_id_2> . The powdered status is <extra_id_3> . Its latex-free status is <extra_id_4> . It comes in <extra_id_5> per box. There are <extra_id_6> per case. It is used for <extra_id_7> . The material of this item is <extra_id_8> . This item is <extra_id_9> thick. It is <extra_id_10> long. The product name is <extra_id_11> . <extra_id_12> manufactures this.\", \"description: oem clean safety inc. black nitrile exam powder free - small 1/10/100. The color of this item is <extra_id_0> . The size is <extra_id_1> . This item's sterile status is <extra_id_2> . The powdered status is <extra_id_3> . Its latex-free status is <extra_id_4> . It comes in <extra_id_5> per box. There are <extra_id_6> per case. It is used for <extra_id_7> . The material of this item is <extra_id_8> . This item is <extra_id_9> thick. It is <extra_id_10> long. The product name is <extra_id_11> . <extra_id_12> manufactures this.\", \"description: uline black exam nitrile glvs-l uline , inc. size large gloves. The color of this item is <extra_id_0> . The size is <extra_id_1> . This item's sterile status is <extra_id_2> . The powdered status is <extra_id_3> . Its latex-free status is <extra_id_4> . It comes in <extra_id_5> per box. There are <extra_id_6> per case. It is used for <extra_id_7> . The material of this item is <extra_id_8> . This item is <extra_id_9> thick. It is <extra_id_10> long. The product name is <extra_id_11> . <extra_id_12> manufactures this.\", \"description: uline wht 3 mil nitrile glvs - m uline , inc. size medium. The color of this item is <extra_id_0> . The size is <extra_id_1> . This item's sterile status is <extra_id_2> . The powdered status is <extra_id_3> . Its latex-free status is <extra_id_4> . It comes in <extra_id_5> per box. There are <extra_id_6> per case. It is used for <extra_id_7> . The material of this item is <extra_id_8> . This item is <extra_id_9> thick. It is <extra_id_10> long. The product name is <extra_id_11> . <extra_id_12> manufactures this.\", \"description: uline safe-flex 6 mil nitrile glove - l uline , inc. nan. The color of this item is <extra_id_0> . The size is <extra_id_1> . This item's sterile status is <extra_id_2> . The powdered status is <extra_id_3> . Its latex-free status is <extra_id_4> . It comes in <extra_id_5> per box. There are <extra_id_6> per case. It is used for <extra_id_7> . The material of this item is <extra_id_8> . This item is <extra_id_9> thick. It is <extra_id_10> long. The product name is <extra_id_11> . <extra_id_12> manufactures this.\", \"description: uline safe-flex 6 mil nitrile glove - s uline , inc. nan. The color of this item is <extra_id_0> . The size is <extra_id_1> . This item's sterile status is <extra_id_2> . The powdered status is <extra_id_3> . Its latex-free status is <extra_id_4> . It comes in <extra_id_5> per box. There are <extra_id_6> per case. It is used for <extra_id_7> . The material of this item is <extra_id_8> . This item is <extra_id_9> thick. It is <extra_id_10> long. The product name is <extra_id_11> . <extra_id_12> manufactures this.\", \"description: size x-large gloves uline black exam nitrile glvs-xl uline , inc .. The color of this item is <extra_id_0> . The size is <extra_id_1> . This item's sterile status is <extra_id_2> . The powdered status is <extra_id_3> . Its latex-free status is <extra_id_4> . It comes in <extra_id_5> per box. There are <extra_id_6> per case. It is used for <extra_id_7> . The material of this item is <extra_id_8> . This item is <extra_id_9> thick. It is <extra_id_10> long. The product name is <extra_id_11> . <extra_id_12> manufactures this.\"]\n",
            "Target Text ['targets: <extra_id_0> none <extra_id_1> large <extra_id_2> none <extra_id_3> powder-free <extra_id_4> none <extra_id_5> 10 pairs <extra_id_6> 1 boxes <extra_id_7> none <extra_id_8> nitrile <extra_id_9> none <extra_id_10> none <extra_id_11> oem <extra_id_12> clean safety inc.', 'targets: <extra_id_0> none <extra_id_1> medium <extra_id_2> none <extra_id_3> powder-free <extra_id_4> none <extra_id_5> 10 pairs <extra_id_6> 1 boxes <extra_id_7> none <extra_id_8> nitrile <extra_id_9> none <extra_id_10> none <extra_id_11> oem <extra_id_12> clean safety inc.', 'targets: <extra_id_0> none <extra_id_1> extra-small <extra_id_2> none <extra_id_3> powder-free <extra_id_4> none <extra_id_5> 10 pairs <extra_id_6> 1 boxes <extra_id_7> none <extra_id_8> nitrile <extra_id_9> none <extra_id_10> none <extra_id_11> oem <extra_id_12> clean safety inc.', 'targets: <extra_id_0> blue <extra_id_1> medium <extra_id_2> none <extra_id_3> powder-free <extra_id_4> none <extra_id_5> 10 pairs <extra_id_6> 1 boxes <extra_id_7> exam <extra_id_8> nitrile <extra_id_9> none <extra_id_10> none <extra_id_11> oem <extra_id_12> clean safety inc.', 'targets: <extra_id_0> black <extra_id_1> small <extra_id_2> none <extra_id_3> powder-free <extra_id_4> none <extra_id_5> 10 pairs <extra_id_6> 1 boxes <extra_id_7> exam <extra_id_8> nitrile <extra_id_9> none <extra_id_10> none <extra_id_11> oem <extra_id_12> clean safety inc.', 'targets: <extra_id_0> black <extra_id_1> large <extra_id_2> none <extra_id_3> none <extra_id_4> none <extra_id_5> none <extra_id_6> none <extra_id_7> exam <extra_id_8> nitrile <extra_id_9> none <extra_id_10> none <extra_id_11> none <extra_id_12> uline inc.', 'targets: <extra_id_0> white <extra_id_1> medium <extra_id_2> none <extra_id_3> none <extra_id_4> none <extra_id_5> none <extra_id_6> none <extra_id_7> none <extra_id_8> nitrile <extra_id_9> 3mil <extra_id_10> none <extra_id_11> none <extra_id_12> uline inc.', 'targets: <extra_id_0> none <extra_id_1> large <extra_id_2> none <extra_id_3> none <extra_id_4> none <extra_id_5> none <extra_id_6> none <extra_id_7> none <extra_id_8> nitrile <extra_id_9> 6mil <extra_id_10> none <extra_id_11> safe-flex <extra_id_12> uline inc.', 'targets: <extra_id_0> none <extra_id_1> small <extra_id_2> none <extra_id_3> none <extra_id_4> none <extra_id_5> none <extra_id_6> none <extra_id_7> none <extra_id_8> nitrile <extra_id_9> 6mil <extra_id_10> none <extra_id_11> safe-flex <extra_id_12> uline inc.', 'targets: <extra_id_0> black <extra_id_1> extra-large <extra_id_2> none <extra_id_3> none <extra_id_4> none <extra_id_5> none <extra_id_6> none <extra_id_7> exam <extra_id_8> nitrile <extra_id_9> none <extra_id_10> none <extra_id_11> none <extra_id_12> uline inc.']\n",
            "T5 Prediction ['targets: <extra_id_0> none <extra_id_1> large <extra_id_2> none <extra_id_3> powder-free <extra_id_4> none <extra_id_5> 10 pairs <extra_id_6> 1 boxes <extra_id_7> none <extra_id_8> nitrile <extra_id_9> none <extra_id_10> none <extra_id_11> oem <extra_id_12> clean safety inc.', 'targets: <extra_id_0> none <extra_id_1> medium <extra_id_2> none <extra_id_3> powder-free <extra_id_4> none <extra_id_5> 10 pairs <extra_id_6> 1 boxes <extra_id_7> none <extra_id_8> nitrile <extra_id_9> none <extra_id_10> none <extra_id_11> oem <extra_id_12> clean safety inc.', 'targets: <extra_id_0> none <extra_id_1> extra-small <extra_id_2> none <extra_id_3> powder-free <extra_id_4> none <extra_id_5> 10 pairs <extra_id_6> 1 boxes <extra_id_7> none <extra_id_8> nitrile <extra_id_9> none <extra_id_10> none <extra_id_11> oem <extra_id_12> clean safety inc.', 'targets: <extra_id_0> blue <extra_id_1> medium <extra_id_2> none <extra_id_3> powder-free <extra_id_4> none <extra_id_5> 10 pairs <extra_id_6> 1 boxes <extra_id_7> exam <extra_id_8> nitrile <extra_id_9> none <extra_id_10> none <extra_id_11> oem <extra_id_12> clean safety inc.', 'targets: <extra_id_0> black <extra_id_1> small <extra_id_2> none <extra_id_3> powder-free <extra_id_4> none <extra_id_5> 10 pairs <extra_id_6> 1 boxes <extra_id_7> exam <extra_id_8> nitrile <extra_id_9> none <extra_id_10> none <extra_id_11> oem <extra_id_12> clean safety inc.', 'targets: <extra_id_0> black <extra_id_1> large <extra_id_2> none <extra_id_3> none <extra_id_4> none <extra_id_5> none <extra_id_6> none <extra_id_7> exam <extra_id_8> nitrile <extra_id_9> none <extra_id_10> none <extra_id_11> none <extra_id_12> uline inc.', 'targets: <extra_id_0> white <extra_id_1> medium <extra_id_2> none <extra_id_3> none <extra_id_4> none <extra_id_5> none <extra_id_6> none <extra_id_7> none <extra_id_8> nitrile <extra_id_9> 3mil <extra_id_10> none <extra_id_11> none <extra_id_12> uline inc.', 'targets: <extra_id_0> none <extra_id_1> large <extra_id_2> none <extra_id_3> none <extra_id_4> none <extra_id_5> none <extra_id_6> none <extra_id_7> none <extra_id_8> nitrile <extra_id_9> 6mil <extra_id_10> none <extra_id_11> safe-flex <extra_id_12> uline inc.', 'targets: <extra_id_0> none <extra_id_1> small <extra_id_2> none <extra_id_3> none <extra_id_4> none <extra_id_5> none <extra_id_6> none <extra_id_7> none <extra_id_8> nitrile <extra_id_9> 6mil <extra_id_10> none <extra_id_11> safe-flex <extra_id_12> uline inc.', 'targets: <extra_id_0> black <extra_id_1> extra-large <extra_id_2> none <extra_id_3> none <extra_id_4> none <extra_id_5> none <extra_id_6> none <extra_id_7> exam <extra_id_8> nitrile <extra_id_9> none <extra_id_10> none <extra_id_11> none <extra_id_12> uline inc.'] \n",
            "\n",
            "Example  15\n",
            "Description:  [\"description: uline 5 mil latex exam gloves - m uline , inc. size medium gloves. The color of this item is <extra_id_0> . The size is <extra_id_1> . This item's sterile status is <extra_id_2> . The powdered status is <extra_id_3> . Its latex-free status is <extra_id_4> . It comes in <extra_id_5> per box. There are <extra_id_6> per case. It is used for <extra_id_7> . The material of this item is <extra_id_8> . This item is <extra_id_9> thick. It is <extra_id_10> long. The product name is <extra_id_11> . <extra_id_12> manufactures this.\", \"description: uline 5 mil latex exam gloves - xl uline , inc. size extra large. The color of this item is <extra_id_0> . The size is <extra_id_1> . This item's sterile status is <extra_id_2> . The powdered status is <extra_id_3> . Its latex-free status is <extra_id_4> . It comes in <extra_id_5> per box. There are <extra_id_6> per case. It is used for <extra_id_7> . The material of this item is <extra_id_8> . This item is <extra_id_9> thick. It is <extra_id_10> long. The product name is <extra_id_11> . <extra_id_12> manufactures this.\", \"description: gloves nitrile thin powder-free large 3.0 g , pkg/300 midway select midway dental supply , llc. The color of this item is <extra_id_0> . The size is <extra_id_1> . This item's sterile status is <extra_id_2> . The powdered status is <extra_id_3> . Its latex-free status is <extra_id_4> . It comes in <extra_id_5> per box. There are <extra_id_6> per case. It is used for <extra_id_7> . The material of this item is <extra_id_8> . This item is <extra_id_9> thick. It is <extra_id_10> long. The product name is <extra_id_11> . <extra_id_12> manufactures this.\", \"description: midway select midway dental supply , llc gloves nitrile thin powder-free medium 3.0g , pkg/300. The color of this item is <extra_id_0> . The size is <extra_id_1> . This item's sterile status is <extra_id_2> . The powdered status is <extra_id_3> . Its latex-free status is <extra_id_4> . It comes in <extra_id_5> per box. There are <extra_id_6> per case. It is used for <extra_id_7> . The material of this item is <extra_id_8> . This item is <extra_id_9> thick. It is <extra_id_10> long. The product name is <extra_id_11> . <extra_id_12> manufactures this.\", \"description: medadv medas inc latex surgical gloves - powder free 7.5. The color of this item is <extra_id_0> . The size is <extra_id_1> . This item's sterile status is <extra_id_2> . The powdered status is <extra_id_3> . Its latex-free status is <extra_id_4> . It comes in <extra_id_5> per box. There are <extra_id_6> per case. It is used for <extra_id_7> . The material of this item is <extra_id_8> . This item is <extra_id_9> thick. It is <extra_id_10> long. The product name is <extra_id_11> . <extra_id_12> manufactures this.\", \"description: asap ascend eagle incorporated asap black powder free nitrile exam gloves s. The color of this item is <extra_id_0> . The size is <extra_id_1> . This item's sterile status is <extra_id_2> . The powdered status is <extra_id_3> . Its latex-free status is <extra_id_4> . It comes in <extra_id_5> per box. There are <extra_id_6> per case. It is used for <extra_id_7> . The material of this item is <extra_id_8> . This item is <extra_id_9> thick. It is <extra_id_10> long. The product name is <extra_id_11> . <extra_id_12> manufactures this.\", \"description: beesure ascend eagle incorporated naturals forest nitrile power free exam gloves - l. The color of this item is <extra_id_0> . The size is <extra_id_1> . This item's sterile status is <extra_id_2> . The powdered status is <extra_id_3> . Its latex-free status is <extra_id_4> . It comes in <extra_id_5> per box. There are <extra_id_6> per case. It is used for <extra_id_7> . The material of this item is <extra_id_8> . This item is <extra_id_9> thick. It is <extra_id_10> long. The product name is <extra_id_11> . <extra_id_12> manufactures this.\", \"description: beesure ascend eagle incorporated latex powder free exam gloves - xl. The color of this item is <extra_id_0> . The size is <extra_id_1> . This item's sterile status is <extra_id_2> . The powdered status is <extra_id_3> . Its latex-free status is <extra_id_4> . It comes in <extra_id_5> per box. There are <extra_id_6> per case. It is used for <extra_id_7> . The material of this item is <extra_id_8> . This item is <extra_id_9> thick. It is <extra_id_10> long. The product name is <extra_id_11> . <extra_id_12> manufactures this.\", \"description: beesure ascend eagle incorporated nitrile powder free exam gloves - m - inner pack. The color of this item is <extra_id_0> . The size is <extra_id_1> . This item's sterile status is <extra_id_2> . The powdered status is <extra_id_3> . Its latex-free status is <extra_id_4> . It comes in <extra_id_5> per box. There are <extra_id_6> per case. It is used for <extra_id_7> . The material of this item is <extra_id_8> . This item is <extra_id_9> thick. It is <extra_id_10> long. The product name is <extra_id_11> . <extra_id_12> manufactures this.\", \"description: mckesson mckesson medical-surgical inc. gloves , nitrile text pf exam tactile touch blu , md. The color of this item is <extra_id_0> . The size is <extra_id_1> . This item's sterile status is <extra_id_2> . The powdered status is <extra_id_3> . Its latex-free status is <extra_id_4> . It comes in <extra_id_5> per box. There are <extra_id_6> per case. It is used for <extra_id_7> . The material of this item is <extra_id_8> . This item is <extra_id_9> thick. It is <extra_id_10> long. The product name is <extra_id_11> . <extra_id_12> manufactures this.\"]\n",
            "Target Text ['targets: <extra_id_0> none <extra_id_1> medium <extra_id_2> none <extra_id_3> none <extra_id_4> latex <extra_id_5> none <extra_id_6> none <extra_id_7> exam <extra_id_8> none <extra_id_9> 5 mil <extra_id_10> none <extra_id_11> none <extra_id_12> uline inc.', 'targets: <extra_id_0> none <extra_id_1> extra-large <extra_id_2> none <extra_id_3> none <extra_id_4> latex <extra_id_5> none <extra_id_6> none <extra_id_7> exam <extra_id_8> none <extra_id_9> 5mil <extra_id_10> none <extra_id_11> none <extra_id_12> uline inc.', 'targets: <extra_id_0> none <extra_id_1> large <extra_id_2> none <extra_id_3> powder-free <extra_id_4> none <extra_id_5> none <extra_id_6> none <extra_id_7> none <extra_id_8> nitrile <extra_id_9> none <extra_id_10> none <extra_id_11> midway select <extra_id_12> midway dental supply llc', 'targets: <extra_id_0> none <extra_id_1> medium <extra_id_2> none <extra_id_3> powder-free <extra_id_4> none <extra_id_5> none <extra_id_6> none <extra_id_7> none <extra_id_8> nitrile <extra_id_9> none <extra_id_10> none <extra_id_11> midway select <extra_id_12> midway dental supply llc', 'targets: <extra_id_0> none <extra_id_1> none <extra_id_2> none <extra_id_3> powder-free <extra_id_4> latex <extra_id_5> none <extra_id_6> none <extra_id_7> surgical <extra_id_8> none <extra_id_9> none <extra_id_10> none <extra_id_11> medadv <extra_id_12> medas inc', 'targets: <extra_id_0> black <extra_id_1> small <extra_id_2> none <extra_id_3> powder-free <extra_id_4> none <extra_id_5> none <extra_id_6> none <extra_id_7> exam <extra_id_8> nitrile <extra_id_9> none <extra_id_10> none <extra_id_11> asap <extra_id_12> ascend eagle incorporated', 'targets: <extra_id_0> forest <extra_id_1> large <extra_id_2> none <extra_id_3> none <extra_id_4> none <extra_id_5> none <extra_id_6> none <extra_id_7> exam <extra_id_8> nitrile <extra_id_9> none <extra_id_10> none <extra_id_11> beesure <extra_id_12> ascend eagle incorporated', 'targets: <extra_id_0> none <extra_id_1> extra-large <extra_id_2> none <extra_id_3> powder-free <extra_id_4> latex <extra_id_5> none <extra_id_6> none <extra_id_7> exam <extra_id_8> none <extra_id_9> none <extra_id_10> none <extra_id_11> beesure <extra_id_12> ascend eagle incorporated', 'targets: <extra_id_0> none <extra_id_1> medium <extra_id_2> none <extra_id_3> powder-free <extra_id_4> none <extra_id_5> none <extra_id_6> none <extra_id_7> exam <extra_id_8> nitrile <extra_id_9> none <extra_id_10> none <extra_id_11> beesure <extra_id_12> ascend eagle incorporated', 'targets: <extra_id_0> blue <extra_id_1> medium <extra_id_2> none <extra_id_3> powder-free <extra_id_4> none <extra_id_5> none <extra_id_6> none <extra_id_7> exam <extra_id_8> nitrile <extra_id_9> none <extra_id_10> none <extra_id_11> none <extra_id_12> mckesson medical-surgical inc.']\n",
            "T5 Prediction ['targets: <extra_id_0> none <extra_id_1> medium <extra_id_2> none <extra_id_3> none <extra_id_4> latex <extra_id_5> none <extra_id_6> none <extra_id_7> exam <extra_id_8> none <extra_id_9> 5mil <extra_id_10> none <extra_id_11> none <extra_id_12> uline inc.', 'targets: <extra_id_0> none <extra_id_1> extra-large <extra_id_2> none <extra_id_3> none <extra_id_4> latex <extra_id_5> none <extra_id_6> none <extra_id_7> exam <extra_id_8> none <extra_id_9> 5mil <extra_id_10> none <extra_id_11> none <extra_id_12> uline inc.', 'targets: <extra_id_0> none <extra_id_1> large <extra_id_2> none <extra_id_3> powder-free <extra_id_4> none <extra_id_5> none <extra_id_6> none <extra_id_7> none <extra_id_8> nitrile <extra_id_9> none <extra_id_10> none <extra_id_11> midway select <extra_id_12> midway dental supply llc', 'targets: <extra_id_0> none <extra_id_1> medium <extra_id_2> none <extra_id_3> powder-free <extra_id_4> none <extra_id_5> none <extra_id_6> none <extra_id_7> none <extra_id_8> nitrile <extra_id_9> none <extra_id_10> none <extra_id_11> midway select <extra_id_12> midway dental supply llc', 'targets: <extra_id_0> none <extra_id_1> none <extra_id_2> none <extra_id_3> powder-free <extra_id_4> latex <extra_id_5> none <extra_id_6> none <extra_id_7> surgical <extra_id_8> none <extra_id_9> none <extra_id_10> none <extra_id_11> medadv <extra_id_12> medas inc', 'targets: <extra_id_0> black <extra_id_1> small <extra_id_2> none <extra_id_3> powder-free <extra_id_4> none <extra_id_5> none <extra_id_6> none <extra_id_7> exam <extra_id_8> nitrile <extra_id_9> none <extra_id_10> none <extra_id_11> asap <extra_id_12> ascend eagle incorporated', 'targets: <extra_id_0> forest <extra_id_1> large <extra_id_2> none <extra_id_3> none <extra_id_4> none <extra_id_5> none <extra_id_6> none <extra_id_7> exam <extra_id_8> nitrile <extra_id_9> none <extra_id_10> none <extra_id_11> beesure <extra_id_12> ascend eagle incorporated', 'targets: <extra_id_0> none <extra_id_1> extra-large <extra_id_2> none <extra_id_3> powder-free <extra_id_4> latex <extra_id_5> none <extra_id_6> none <extra_id_7> exam <extra_id_8> none <extra_id_9> none <extra_id_10> none <extra_id_11> beesure <extra_id_12> ascend eagle incorporated', 'targets: <extra_id_0> none <extra_id_1> medium <extra_id_2> none <extra_id_3> powder-free <extra_id_4> none <extra_id_5> none <extra_id_6> none <extra_id_7> exam <extra_id_8> nitrile <extra_id_9> none <extra_id_10> none <extra_id_11> beesure <extra_id_12> ascend eagle incorporated', 'targets: <extra_id_0> blue <extra_id_1> medium <extra_id_2> none <extra_id_3> powder-free <extra_id_4> none <extra_id_5> none <extra_id_6> none <extra_id_7> exam <extra_id_8> nitrile <extra_id_9> none <extra_id_10> none <extra_id_11> none <extra_id_12> mckesson medical-surgical inc.'] \n",
            "\n",
            "Example  16\n",
            "Description:  [\"description: cypress mckesson medical-surgical inc. glove , vinyl trilon 2000 pf synthetic , l. The color of this item is <extra_id_0> . The size is <extra_id_1> . This item's sterile status is <extra_id_2> . The powdered status is <extra_id_3> . Its latex-free status is <extra_id_4> . It comes in <extra_id_5> per box. There are <extra_id_6> per case. It is used for <extra_id_7> . The material of this item is <extra_id_8> . This item is <extra_id_9> thick. It is <extra_id_10> long. The product name is <extra_id_11> . <extra_id_12> manufactures this.\", \"description: cypress mckesson medical-surgical inc. glove , vinyl trilon 2000 pf synthetic , s. The color of this item is <extra_id_0> . The size is <extra_id_1> . This item's sterile status is <extra_id_2> . The powdered status is <extra_id_3> . Its latex-free status is <extra_id_4> . It comes in <extra_id_5> per box. There are <extra_id_6> per case. It is used for <extra_id_7> . The material of this item is <extra_id_8> . This item is <extra_id_9> thick. It is <extra_id_10> long. The product name is <extra_id_11> . <extra_id_12> manufactures this.\", \"description: cypress mckesson medical-surgical inc. glove , vinyl trilon pf clear , m. The color of this item is <extra_id_0> . The size is <extra_id_1> . This item's sterile status is <extra_id_2> . The powdered status is <extra_id_3> . Its latex-free status is <extra_id_4> . It comes in <extra_id_5> per box. There are <extra_id_6> per case. It is used for <extra_id_7> . The material of this item is <extra_id_8> . This item is <extra_id_9> thick. It is <extra_id_10> long. The product name is <extra_id_11> . <extra_id_12> manufactures this.\", \"description: cyber-gel glove pf latex large cyber-gel glove pf latex henry schein , inc .. The color of this item is <extra_id_0> . The size is <extra_id_1> . This item's sterile status is <extra_id_2> . The powdered status is <extra_id_3> . Its latex-free status is <extra_id_4> . It comes in <extra_id_5> per box. There are <extra_id_6> per case. It is used for <extra_id_7> . The material of this item is <extra_id_8> . This item is <extra_id_9> thick. It is <extra_id_10> long. The product name is <extra_id_11> . <extra_id_12> manufactures this.\", \"description: cyber-gel glove pf latex medium cyber-gel glove pf latex henry schein , inc .. The color of this item is <extra_id_0> . The size is <extra_id_1> . This item's sterile status is <extra_id_2> . The powdered status is <extra_id_3> . Its latex-free status is <extra_id_4> . It comes in <extra_id_5> per box. There are <extra_id_6> per case. It is used for <extra_id_7> . The material of this item is <extra_id_8> . This item is <extra_id_9> thick. It is <extra_id_10> long. The product name is <extra_id_11> . <extra_id_12> manufactures this.\", \"description: nitrile exam gloves , powder-free , small , box advance plus TM nitrile exam gloves , powder-free southern anesthesia & surgical , inc .. The color of this item is <extra_id_0> . The size is <extra_id_1> . This item's sterile status is <extra_id_2> . The powdered status is <extra_id_3> . Its latex-free status is <extra_id_4> . It comes in <extra_id_5> per box. There are <extra_id_6> per case. It is used for <extra_id_7> . The material of this item is <extra_id_8> . This item is <extra_id_9> thick. It is <extra_id_10> long. The product name is <extra_id_11> . <extra_id_12> manufactures this.\", \"description: advance plus TM nitrile exam gloves , powder-free southern anesthesia & surgical , inc. nitrile exam gloves , powder-free , medium , box. The color of this item is <extra_id_0> . The size is <extra_id_1> . This item's sterile status is <extra_id_2> . The powdered status is <extra_id_3> . Its latex-free status is <extra_id_4> . It comes in <extra_id_5> per box. There are <extra_id_6> per case. It is used for <extra_id_7> . The material of this item is <extra_id_8> . This item is <extra_id_9> thick. It is <extra_id_10> long. The product name is <extra_id_11> . <extra_id_12> manufactures this.\", \"description: amd-ritmed premium amd medicom inc amd-ritmed premium nitrile examination gloves blue powder-free small. The color of this item is <extra_id_0> . The size is <extra_id_1> . This item's sterile status is <extra_id_2> . The powdered status is <extra_id_3> . Its latex-free status is <extra_id_4> . It comes in <extra_id_5> per box. There are <extra_id_6> per case. It is used for <extra_id_7> . The material of this item is <extra_id_8> . This item is <extra_id_9> thick. It is <extra_id_10> long. The product name is <extra_id_11> . <extra_id_12> manufactures this.\", \"description: amd-ritmed premium amd medicom inc amd-ritmed premium nitrile examination gloves blue powder-free x-small. The color of this item is <extra_id_0> . The size is <extra_id_1> . This item's sterile status is <extra_id_2> . The powdered status is <extra_id_3> . Its latex-free status is <extra_id_4> . It comes in <extra_id_5> per box. There are <extra_id_6> per case. It is used for <extra_id_7> . The material of this item is <extra_id_8> . This item is <extra_id_9> thick. It is <extra_id_10> long. The product name is <extra_id_11> . <extra_id_12> manufactures this.\", \"description: pure grip g2 medium pure grip g2 henry schein , inc .. The color of this item is <extra_id_0> . The size is <extra_id_1> . This item's sterile status is <extra_id_2> . The powdered status is <extra_id_3> . Its latex-free status is <extra_id_4> . It comes in <extra_id_5> per box. There are <extra_id_6> per case. It is used for <extra_id_7> . The material of this item is <extra_id_8> . This item is <extra_id_9> thick. It is <extra_id_10> long. The product name is <extra_id_11> . <extra_id_12> manufactures this.\"]\n",
            "Target Text ['targets: <extra_id_0> none <extra_id_1> large <extra_id_2> none <extra_id_3> powder-free <extra_id_4> none <extra_id_5> none <extra_id_6> none <extra_id_7> none <extra_id_8> vinyl, synthetic <extra_id_9> none <extra_id_10> none <extra_id_11> cypress <extra_id_12> mckesson medical-surgical inc.', 'targets: <extra_id_0> none <extra_id_1> small <extra_id_2> none <extra_id_3> powder-free <extra_id_4> none <extra_id_5> none <extra_id_6> none <extra_id_7> none <extra_id_8> vinyl, synthetic <extra_id_9> none <extra_id_10> none <extra_id_11> cypress <extra_id_12> mckesson medical-surgical inc.', 'targets: <extra_id_0> clear <extra_id_1> medium <extra_id_2> none <extra_id_3> powder-free <extra_id_4> none <extra_id_5> none <extra_id_6> none <extra_id_7> none <extra_id_8> vinyl <extra_id_9> none <extra_id_10> none <extra_id_11> cypress <extra_id_12> mckesson medical-surgical inc.', 'targets: <extra_id_0> none <extra_id_1> large <extra_id_2> none <extra_id_3> powder-free <extra_id_4> latex <extra_id_5> none <extra_id_6> none <extra_id_7> none <extra_id_8> none <extra_id_9> none <extra_id_10> none <extra_id_11> cyber-gel <extra_id_12> henry schein inc.', 'targets: <extra_id_0> none <extra_id_1> medium <extra_id_2> none <extra_id_3> powder-free <extra_id_4> latex <extra_id_5> none <extra_id_6> none <extra_id_7> none <extra_id_8> none <extra_id_9> none <extra_id_10> none <extra_id_11> cyber-gel <extra_id_12> henry schein inc.', 'targets: <extra_id_0> none <extra_id_1> small <extra_id_2> none <extra_id_3> powder-free <extra_id_4> none <extra_id_5> none <extra_id_6> none <extra_id_7> exam <extra_id_8> nitrile <extra_id_9> none <extra_id_10> none <extra_id_11> advance plus <extra_id_12> southern anesthesia & surgical inc.', 'targets: <extra_id_0> none <extra_id_1> medium <extra_id_2> none <extra_id_3> powder-free <extra_id_4> none <extra_id_5> none <extra_id_6> none <extra_id_7> exam <extra_id_8> nitrile <extra_id_9> none <extra_id_10> none <extra_id_11> advance plus <extra_id_12> southern anesthesia & surgical inc.', 'targets: <extra_id_0> blue <extra_id_1> small <extra_id_2> none <extra_id_3> powder-free <extra_id_4> none <extra_id_5> none <extra_id_6> none <extra_id_7> exam <extra_id_8> nitrile <extra_id_9> none <extra_id_10> none <extra_id_11> amd-ritmed premium <extra_id_12> amd medicom inc', 'targets: <extra_id_0> blue <extra_id_1> extra-small <extra_id_2> none <extra_id_3> powder-free <extra_id_4> none <extra_id_5> none <extra_id_6> none <extra_id_7> exam <extra_id_8> nitrile <extra_id_9> none <extra_id_10> none <extra_id_11> amd-ritmed premium <extra_id_12> amd medicom inc', 'targets: <extra_id_0> none <extra_id_1> medium <extra_id_2> none <extra_id_3> none <extra_id_4> none <extra_id_5> none <extra_id_6> none <extra_id_7> none <extra_id_8> none <extra_id_9> none <extra_id_10> none <extra_id_11> pure grip, g2 <extra_id_12> henry schein inc.']\n",
            "T5 Prediction ['targets: <extra_id_0> none <extra_id_1> large <extra_id_2> none <extra_id_3> powder-free <extra_id_4> none <extra_id_5> none <extra_id_6> none <extra_id_7> none <extra_id_8> vinyl, synthetic <extra_id_9> none <extra_id_10> none <extra_id_11> cypress <extra_id_12> mckesson medical-surgical inc.', 'targets: <extra_id_0> none <extra_id_1> small <extra_id_2> none <extra_id_3> powder-free <extra_id_4> none <extra_id_5> none <extra_id_6> none <extra_id_7> none <extra_id_8> vinyl, synthetic <extra_id_9> none <extra_id_10> none <extra_id_11> cypress <extra_id_12> mckesson medical-surgical inc.', 'targets: <extra_id_0> clear <extra_id_1> medium <extra_id_2> none <extra_id_3> powder-free <extra_id_4> none <extra_id_5> none <extra_id_6> none <extra_id_7> none <extra_id_8> vinyl <extra_id_9> none <extra_id_10> none <extra_id_11> cypress <extra_id_12> mckesson medical-surgical inc.', 'targets: <extra_id_0> none <extra_id_1> large <extra_id_2> none <extra_id_3> powder-free <extra_id_4> latex <extra_id_5> none <extra_id_6> none <extra_id_7> none <extra_id_8> none <extra_id_9> none <extra_id_10> none <extra_id_11> cyber-gel <extra_id_12> henry schein inc.', 'targets: <extra_id_0> none <extra_id_1> medium <extra_id_2> none <extra_id_3> powder-free <extra_id_4> latex <extra_id_5> none <extra_id_6> none <extra_id_7> none <extra_id_8> none <extra_id_9> none <extra_id_10> none <extra_id_11> cyber-gel <extra_id_12> henry schein inc.', 'targets: <extra_id_0> none <extra_id_1> small <extra_id_2> none <extra_id_3> powder-free <extra_id_4> none <extra_id_5> none <extra_id_6> none <extra_id_7> exam <extra_id_8> nitrile <extra_id_9> none <extra_id_10> none <extra_id_11> advance plus <extra_id_12> southern anesthesia & surgical inc.', 'targets: <extra_id_0> none <extra_id_1> medium <extra_id_2> none <extra_id_3> powder-free <extra_id_4> none <extra_id_5> none <extra_id_6> none <extra_id_7> exam <extra_id_8> nitrile <extra_id_9> none <extra_id_10> none <extra_id_11> advance plus <extra_id_12> southern anesthesia & surgical inc.', 'targets: <extra_id_0> blue <extra_id_1> small <extra_id_2> none <extra_id_3> powder-free <extra_id_4> none <extra_id_5> none <extra_id_6> none <extra_id_7> exam <extra_id_8> nitrile <extra_id_9> none <extra_id_10> none <extra_id_11> amd-ritmed premium <extra_id_12> amd medicom inc', 'targets: <extra_id_0> blue <extra_id_1> extra-small <extra_id_2> none <extra_id_3> powder-free <extra_id_4> none <extra_id_5> none <extra_id_6> none <extra_id_7> exam <extra_id_8> nitrile <extra_id_9> none <extra_id_10> none <extra_id_11> amd-ritmed premium <extra_id_12> amd medicom inc', 'targets: <extra_id_0> none <extra_id_1> medium <extra_id_2> none <extra_id_3> none <extra_id_4> none <extra_id_5> none <extra_id_6> none <extra_id_7> none <extra_id_8> none <extra_id_9> none <extra_id_10> none <extra_id_11> pure grip, g2 <extra_id_12> henry schein inc.'] \n",
            "\n",
            "Example  17\n",
            "Description:  [\"description: criterion n250 nitrile glove henry schein , inc. criterion n250 nitrile glove , x-small. The color of this item is <extra_id_0> . The size is <extra_id_1> . This item's sterile status is <extra_id_2> . The powdered status is <extra_id_3> . Its latex-free status is <extra_id_4> . It comes in <extra_id_5> per box. There are <extra_id_6> per case. It is used for <extra_id_7> . The material of this item is <extra_id_8> . This item is <extra_id_9> thick. It is <extra_id_10> long. The product name is <extra_id_11> . <extra_id_12> manufactures this.\", \"description: criterion cl2 pf latex glove small criterion cl2 henry schein , inc .. The color of this item is <extra_id_0> . The size is <extra_id_1> . This item's sterile status is <extra_id_2> . The powdered status is <extra_id_3> . Its latex-free status is <extra_id_4> . It comes in <extra_id_5> per box. There are <extra_id_6> per case. It is used for <extra_id_7> . The material of this item is <extra_id_8> . This item is <extra_id_9> thick. It is <extra_id_10> long. The product name is <extra_id_11> . <extra_id_12> manufactures this.\", \"description: criterion cr chloroprene glove x-small criterion cr chloroprene glove henry schein , inc .. The color of this item is <extra_id_0> . The size is <extra_id_1> . This item's sterile status is <extra_id_2> . The powdered status is <extra_id_3> . Its latex-free status is <extra_id_4> . It comes in <extra_id_5> per box. There are <extra_id_6> per case. It is used for <extra_id_7> . The material of this item is <extra_id_8> . This item is <extra_id_9> thick. It is <extra_id_10> long. The product name is <extra_id_11> . <extra_id_12> manufactures this.\", \"description: henry schein henry schein , inc. nytrile x300 electra blue powder-free nitrile examination gloves x-small. The color of this item is <extra_id_0> . The size is <extra_id_1> . This item's sterile status is <extra_id_2> . The powdered status is <extra_id_3> . Its latex-free status is <extra_id_4> . It comes in <extra_id_5> per box. There are <extra_id_6> per case. It is used for <extra_id_7> . The material of this item is <extra_id_8> . This item is <extra_id_9> thick. It is <extra_id_10> long. The product name is <extra_id_11> . <extra_id_12> manufactures this.\", \"description: criterion cr4g chlor glove henry schein , inc. criterion cr4g chlor glove x-large. The color of this item is <extra_id_0> . The size is <extra_id_1> . This item's sterile status is <extra_id_2> . The powdered status is <extra_id_3> . Its latex-free status is <extra_id_4> . It comes in <extra_id_5> per box. There are <extra_id_6> per case. It is used for <extra_id_7> . The material of this item is <extra_id_8> . This item is <extra_id_9> thick. It is <extra_id_10> long. The product name is <extra_id_11> . <extra_id_12> manufactures this.\", \"description: essentials pf nitrile glove henry schein , inc. essentials pf nitrile glove small. The color of this item is <extra_id_0> . The size is <extra_id_1> . This item's sterile status is <extra_id_2> . The powdered status is <extra_id_3> . Its latex-free status is <extra_id_4> . It comes in <extra_id_5> per box. There are <extra_id_6> per case. It is used for <extra_id_7> . The material of this item is <extra_id_8> . This item is <extra_id_9> thick. It is <extra_id_10> long. The product name is <extra_id_11> . <extra_id_12> manufactures this.\", \"description: essentials pf nitrile glove henry schein , inc. essentials pf nitrile glove x-small. The color of this item is <extra_id_0> . The size is <extra_id_1> . This item's sterile status is <extra_id_2> . The powdered status is <extra_id_3> . Its latex-free status is <extra_id_4> . It comes in <extra_id_5> per box. There are <extra_id_6> per case. It is used for <extra_id_7> . The material of this item is <extra_id_8> . This item is <extra_id_9> thick. It is <extra_id_10> long. The product name is <extra_id_11> . <extra_id_12> manufactures this.\", \"description: criterion glove pf nitrile lf henry schein , inc. criterion glove pf nitrile lf small. The color of this item is <extra_id_0> . The size is <extra_id_1> . This item's sterile status is <extra_id_2> . The powdered status is <extra_id_3> . Its latex-free status is <extra_id_4> . It comes in <extra_id_5> per box. There are <extra_id_6> per case. It is used for <extra_id_7> . The material of this item is <extra_id_8> . This item is <extra_id_9> thick. It is <extra_id_10> long. The product name is <extra_id_11> . <extra_id_12> manufactures this.\", \"description: criterion pc glove pf latex henry schein , inc. criterion pc glove pf latex large. The color of this item is <extra_id_0> . The size is <extra_id_1> . This item's sterile status is <extra_id_2> . The powdered status is <extra_id_3> . Its latex-free status is <extra_id_4> . It comes in <extra_id_5> per box. There are <extra_id_6> per case. It is used for <extra_id_7> . The material of this item is <extra_id_8> . This item is <extra_id_9> thick. It is <extra_id_10> long. The product name is <extra_id_11> . <extra_id_12> manufactures this.\", \"description: criterion razz nitrile glove small criterion razz nitrile glove henry schein , inc .. The color of this item is <extra_id_0> . The size is <extra_id_1> . This item's sterile status is <extra_id_2> . The powdered status is <extra_id_3> . Its latex-free status is <extra_id_4> . It comes in <extra_id_5> per box. There are <extra_id_6> per case. It is used for <extra_id_7> . The material of this item is <extra_id_8> . This item is <extra_id_9> thick. It is <extra_id_10> long. The product name is <extra_id_11> . <extra_id_12> manufactures this.\"]\n",
            "Target Text ['targets: <extra_id_0> none <extra_id_1> extra-small <extra_id_2> none <extra_id_3> none <extra_id_4> none <extra_id_5> none <extra_id_6> none <extra_id_7> none <extra_id_8> nitrile <extra_id_9> none <extra_id_10> none <extra_id_11> criterion, n250 <extra_id_12> henry schein inc.', 'targets: <extra_id_0> none <extra_id_1> small <extra_id_2> none <extra_id_3> powder-free <extra_id_4> latex <extra_id_5> none <extra_id_6> none <extra_id_7> none <extra_id_8> none <extra_id_9> none <extra_id_10> none <extra_id_11> criterion, cl2 <extra_id_12> henry schein inc.', 'targets: <extra_id_0> none <extra_id_1> extra-small <extra_id_2> none <extra_id_3> none <extra_id_4> none <extra_id_5> none <extra_id_6> none <extra_id_7> none <extra_id_8> chloroprene <extra_id_9> none <extra_id_10> none <extra_id_11> criterion, cr <extra_id_12> henry schein inc.', 'targets: <extra_id_0> electra blue <extra_id_1> extra-small <extra_id_2> none <extra_id_3> powder-free <extra_id_4> none <extra_id_5> none <extra_id_6> none <extra_id_7> exam <extra_id_8> nitrile <extra_id_9> none <extra_id_10> none <extra_id_11> none <extra_id_12> henry schein inc.', 'targets: <extra_id_0> none <extra_id_1> extra-large <extra_id_2> none <extra_id_3> none <extra_id_4> none <extra_id_5> none <extra_id_6> none <extra_id_7> none <extra_id_8> chloroprene <extra_id_9> none <extra_id_10> none <extra_id_11> criterion, cr4g <extra_id_12> henry schein inc.', 'targets: <extra_id_0> none <extra_id_1> small <extra_id_2> none <extra_id_3> powder-free <extra_id_4> none <extra_id_5> none <extra_id_6> none <extra_id_7> none <extra_id_8> nitrile <extra_id_9> none <extra_id_10> none <extra_id_11> essentials <extra_id_12> henry schein inc.', 'targets: <extra_id_0> none <extra_id_1> extra-small <extra_id_2> none <extra_id_3> powder-free <extra_id_4> none <extra_id_5> none <extra_id_6> none <extra_id_7> none <extra_id_8> nitrile <extra_id_9> none <extra_id_10> none <extra_id_11> essentials <extra_id_12> henry schein inc.', 'targets: <extra_id_0> none <extra_id_1> small <extra_id_2> none <extra_id_3> powder-free <extra_id_4> latex-free <extra_id_5> none <extra_id_6> none <extra_id_7> none <extra_id_8> nitrile <extra_id_9> none <extra_id_10> none <extra_id_11> criterion <extra_id_12> henry schein inc.', 'targets: <extra_id_0> none <extra_id_1> large <extra_id_2> none <extra_id_3> powder-free <extra_id_4> latex <extra_id_5> none <extra_id_6> none <extra_id_7> none <extra_id_8> none <extra_id_9> none <extra_id_10> none <extra_id_11> criterion, pc <extra_id_12> henry schein inc.', 'targets: <extra_id_0> none <extra_id_1> small <extra_id_2> none <extra_id_3> none <extra_id_4> none <extra_id_5> none <extra_id_6> none <extra_id_7> none <extra_id_8> nitrile <extra_id_9> none <extra_id_10> none <extra_id_11> criterion, razz <extra_id_12> henry schein inc.']\n",
            "T5 Prediction ['targets: <extra_id_0> none <extra_id_1> extra-small <extra_id_2> none <extra_id_3> none <extra_id_4> none <extra_id_5> none <extra_id_6> none <extra_id_7> none <extra_id_8> nitrile <extra_id_9> none <extra_id_10> none <extra_id_11> criterion, n250 <extra_id_12> henry schein inc.', 'targets: <extra_id_0> none <extra_id_1> small <extra_id_2> none <extra_id_3> powder-free <extra_id_4> latex <extra_id_5> none <extra_id_6> none <extra_id_7> none <extra_id_8> none <extra_id_9> none <extra_id_10> none <extra_id_11> criterion, cl2 <extra_id_12> henry schein inc.', 'targets: <extra_id_0> none <extra_id_1> extra-small <extra_id_2> none <extra_id_3> none <extra_id_4> none <extra_id_5> none <extra_id_6> none <extra_id_7> none <extra_id_8> chloroprene <extra_id_9> none <extra_id_10> none <extra_id_11> criterion, cr <extra_id_12> henry schein inc.', 'targets: <extra_id_0> electra blue <extra_id_1> extra-small <extra_id_2> none <extra_id_3> powder-free <extra_id_4> none <extra_id_5> none <extra_id_6> none <extra_id_7> exam <extra_id_8> nitrile <extra_id_9> none <extra_id_10> none <extra_id_11> none <extra_id_12> henry schein inc.', 'targets: <extra_id_0> none <extra_id_1> extra-large <extra_id_2> none <extra_id_3> none <extra_id_4> none <extra_id_5> none <extra_id_6> none <extra_id_7> none <extra_id_8> chloroprene <extra_id_9> none <extra_id_10> none <extra_id_11> criterion, cr4g <extra_id_12> henry schein inc.', 'targets: <extra_id_0> none <extra_id_1> small <extra_id_2> none <extra_id_3> powder-free <extra_id_4> none <extra_id_5> none <extra_id_6> none <extra_id_7> none <extra_id_8> nitrile <extra_id_9> none <extra_id_10> none <extra_id_11> essentials <extra_id_12> henry schein inc.', 'targets: <extra_id_0> none <extra_id_1> extra-small <extra_id_2> none <extra_id_3> powder-free <extra_id_4> none <extra_id_5> none <extra_id_6> none <extra_id_7> none <extra_id_8> nitrile <extra_id_9> none <extra_id_10> none <extra_id_11> essentials <extra_id_12> henry schein inc.', 'targets: <extra_id_0> none <extra_id_1> small <extra_id_2> none <extra_id_3> powder-free <extra_id_4> none <extra_id_5> none <extra_id_6> none <extra_id_7> none <extra_id_8> nitrile <extra_id_9> none <extra_id_10> none <extra_id_11> criterion <extra_id_12> henry schein inc.', 'targets: <extra_id_0> none <extra_id_1> large <extra_id_2> none <extra_id_3> powder-free <extra_id_4> latex <extra_id_5> none <extra_id_6> none <extra_id_7> none <extra_id_8> none <extra_id_9> none <extra_id_10> none <extra_id_11> criterion, pc <extra_id_12> henry schein inc.', 'targets: <extra_id_0> none <extra_id_1> small <extra_id_2> none <extra_id_3> none <extra_id_4> none <extra_id_5> none <extra_id_6> none <extra_id_7> none <extra_id_8> nitrile <extra_id_9> none <extra_id_10> none <extra_id_11> criterion, razz <extra_id_12> henry schein inc.'] \n",
            "\n",
            "Example  18\n",
            "Description:  [\"description: nytrile xt pf nitrile glove large nytrile xt pf nitrile glove henry schein , inc .. The color of this item is <extra_id_0> . The size is <extra_id_1> . This item's sterile status is <extra_id_2> . The powdered status is <extra_id_3> . Its latex-free status is <extra_id_4> . It comes in <extra_id_5> per box. There are <extra_id_6> per case. It is used for <extra_id_7> . The material of this item is <extra_id_8> . This item is <extra_id_9> thick. It is <extra_id_10> long. The product name is <extra_id_11> . <extra_id_12> manufactures this.\", \"description: nytrile x300 white pf nitrile henry schein , inc. nytrile x300 white pf nitrile medium. The color of this item is <extra_id_0> . The size is <extra_id_1> . This item's sterile status is <extra_id_2> . The powdered status is <extra_id_3> . Its latex-free status is <extra_id_4> . It comes in <extra_id_5> per box. There are <extra_id_6> per case. It is used for <extra_id_7> . The material of this item is <extra_id_8> . This item is <extra_id_9> thick. It is <extra_id_10> long. The product name is <extra_id_11> . <extra_id_12> manufactures this.\", \"description: criterion n300 ultra pf nitrile henry schein , inc. criterion n300 ultra pf nitrile x-small. The color of this item is <extra_id_0> . The size is <extra_id_1> . This item's sterile status is <extra_id_2> . The powdered status is <extra_id_3> . Its latex-free status is <extra_id_4> . It comes in <extra_id_5> per box. There are <extra_id_6> per case. It is used for <extra_id_7> . The material of this item is <extra_id_8> . This item is <extra_id_9> thick. It is <extra_id_10> long. The product name is <extra_id_11> . <extra_id_12> manufactures this.\", \"description: criterion n300 ultra pf nitrile henry schein , inc. criterion n300 ultra pf nitrile small. The color of this item is <extra_id_0> . The size is <extra_id_1> . This item's sterile status is <extra_id_2> . The powdered status is <extra_id_3> . Its latex-free status is <extra_id_4> . It comes in <extra_id_5> per box. There are <extra_id_6> per case. It is used for <extra_id_7> . The material of this item is <extra_id_8> . This item is <extra_id_9> thick. It is <extra_id_10> long. The product name is <extra_id_11> . <extra_id_12> manufactures this.\", \"description: illusion glove strawberry henry schein , inc. illusion glove strawberry small. The color of this item is <extra_id_0> . The size is <extra_id_1> . This item's sterile status is <extra_id_2> . The powdered status is <extra_id_3> . Its latex-free status is <extra_id_4> . It comes in <extra_id_5> per box. There are <extra_id_6> per case. It is used for <extra_id_7> . The material of this item is <extra_id_8> . This item is <extra_id_9> thick. It is <extra_id_10> long. The product name is <extra_id_11> . <extra_id_12> manufactures this.\", \"description: illusion glove pf latex grape henry schein , inc. illusion glove pf latex grape small. The color of this item is <extra_id_0> . The size is <extra_id_1> . This item's sterile status is <extra_id_2> . The powdered status is <extra_id_3> . Its latex-free status is <extra_id_4> . It comes in <extra_id_5> per box. There are <extra_id_6> per case. It is used for <extra_id_7> . The material of this item is <extra_id_8> . This item is <extra_id_9> thick. It is <extra_id_10> long. The product name is <extra_id_11> . <extra_id_12> manufactures this.\", \"description: criterion cr surgeons glove size 7.0 criterion cr surgeons glove henry schein , inc .. The color of this item is <extra_id_0> . The size is <extra_id_1> . This item's sterile status is <extra_id_2> . The powdered status is <extra_id_3> . Its latex-free status is <extra_id_4> . It comes in <extra_id_5> per box. There are <extra_id_6> per case. It is used for <extra_id_7> . The material of this item is <extra_id_8> . This item is <extra_id_9> thick. It is <extra_id_10> long. The product name is <extra_id_11> . <extra_id_12> manufactures this.\", \"description: aloesoft plus nitrile pf henry schein , inc. aloesoft plus nitrile pf small. The color of this item is <extra_id_0> . The size is <extra_id_1> . This item's sterile status is <extra_id_2> . The powdered status is <extra_id_3> . Its latex-free status is <extra_id_4> . It comes in <extra_id_5> per box. There are <extra_id_6> per case. It is used for <extra_id_7> . The material of this item is <extra_id_8> . This item is <extra_id_9> thick. It is <extra_id_10> long. The product name is <extra_id_11> . <extra_id_12> manufactures this.\", \"description: aloesoft plus nitrile pf henry schein , inc. aloesoft plus nitrile pf x-large. The color of this item is <extra_id_0> . The size is <extra_id_1> . This item's sterile status is <extra_id_2> . The powdered status is <extra_id_3> . Its latex-free status is <extra_id_4> . It comes in <extra_id_5> per box. There are <extra_id_6> per case. It is used for <extra_id_7> . The material of this item is <extra_id_8> . This item is <extra_id_9> thick. It is <extra_id_10> long. The product name is <extra_id_11> . <extra_id_12> manufactures this.\", \"description: glove pack 6.0 - latex ( 15pk ) medline industries , inc. medline industries , inc .. The color of this item is <extra_id_0> . The size is <extra_id_1> . This item's sterile status is <extra_id_2> . The powdered status is <extra_id_3> . Its latex-free status is <extra_id_4> . It comes in <extra_id_5> per box. There are <extra_id_6> per case. It is used for <extra_id_7> . The material of this item is <extra_id_8> . This item is <extra_id_9> thick. It is <extra_id_10> long. The product name is <extra_id_11> . <extra_id_12> manufactures this.\"]\n",
            "Target Text ['targets: <extra_id_0> none <extra_id_1> large <extra_id_2> none <extra_id_3> powder-free <extra_id_4> none <extra_id_5> none <extra_id_6> none <extra_id_7> none <extra_id_8> nitrile <extra_id_9> none <extra_id_10> none <extra_id_11> nytrile, xt <extra_id_12> henry schein inc.', 'targets: <extra_id_0> white <extra_id_1> medium <extra_id_2> none <extra_id_3> powder-free <extra_id_4> none <extra_id_5> none <extra_id_6> none <extra_id_7> none <extra_id_8> nitrile <extra_id_9> none <extra_id_10> none <extra_id_11> nytrile, x300 <extra_id_12> henry schein inc.', 'targets: <extra_id_0> none <extra_id_1> extra-small <extra_id_2> none <extra_id_3> powder-free <extra_id_4> none <extra_id_5> none <extra_id_6> none <extra_id_7> none <extra_id_8> nitrile <extra_id_9> none <extra_id_10> none <extra_id_11> criterion, n300 ultra <extra_id_12> henry schein inc.', 'targets: <extra_id_0> none <extra_id_1> small <extra_id_2> none <extra_id_3> powder-free <extra_id_4> none <extra_id_5> none <extra_id_6> none <extra_id_7> none <extra_id_8> nitrile <extra_id_9> none <extra_id_10> none <extra_id_11> criterion, n300 ultra <extra_id_12> henry schein inc.', 'targets: <extra_id_0> strawberry <extra_id_1> small <extra_id_2> none <extra_id_3> none <extra_id_4> none <extra_id_5> none <extra_id_6> none <extra_id_7> none <extra_id_8> none <extra_id_9> none <extra_id_10> none <extra_id_11> illusion <extra_id_12> henry schein inc.', 'targets: <extra_id_0> grape <extra_id_1> small <extra_id_2> none <extra_id_3> powder-free <extra_id_4> latex <extra_id_5> none <extra_id_6> none <extra_id_7> none <extra_id_8> none <extra_id_9> none <extra_id_10> none <extra_id_11> illusion <extra_id_12> henry schein inc.', 'targets: <extra_id_0> none <extra_id_1> 7.0 <extra_id_2> none <extra_id_3> none <extra_id_4> none <extra_id_5> none <extra_id_6> none <extra_id_7> surgical <extra_id_8> none <extra_id_9> none <extra_id_10> none <extra_id_11> criterion, cr <extra_id_12> henry schein inc.', 'targets: <extra_id_0> none <extra_id_1> small <extra_id_2> none <extra_id_3> powder-free <extra_id_4> none <extra_id_5> none <extra_id_6> none <extra_id_7> none <extra_id_8> nitrile <extra_id_9> none <extra_id_10> none <extra_id_11> aloesoft plus <extra_id_12> henry schein inc.', 'targets: <extra_id_0> none <extra_id_1> extra-large <extra_id_2> none <extra_id_3> powder-free <extra_id_4> none <extra_id_5> none <extra_id_6> none <extra_id_7> none <extra_id_8> nitrile <extra_id_9> none <extra_id_10> none <extra_id_11> aloesoft plus <extra_id_12> henry schein inc.', 'targets: <extra_id_0> none <extra_id_1> none <extra_id_2> none <extra_id_3> none <extra_id_4> latex <extra_id_5> none <extra_id_6> none <extra_id_7> none <extra_id_8> none <extra_id_9> none <extra_id_10> none <extra_id_11> none <extra_id_12> medline industries inc.']\n",
            "T5 Prediction ['targets: <extra_id_0> none <extra_id_1> large <extra_id_2> none <extra_id_3> powder-free <extra_id_4> none <extra_id_5> none <extra_id_6> none <extra_id_7> none <extra_id_8> nitrile <extra_id_9> none <extra_id_10> none <extra_id_11> nytrile, xt <extra_id_12> henry schein inc.', 'targets: <extra_id_0> white <extra_id_1> medium <extra_id_2> none <extra_id_3> powder-free <extra_id_4> none <extra_id_5> none <extra_id_6> none <extra_id_7> none <extra_id_8> nitrile <extra_id_9> none <extra_id_10> none <extra_id_11> nytrile, x300 <extra_id_12> henry schein inc.', 'targets: <extra_id_0> none <extra_id_1> extra-small <extra_id_2> none <extra_id_3> powder-free <extra_id_4> none <extra_id_5> none <extra_id_6> none <extra_id_7> none <extra_id_8> nitrile <extra_id_9> none <extra_id_10> none <extra_id_11> criterion, n300 ultra <extra_id_12> henry schein inc.', 'targets: <extra_id_0> none <extra_id_1> small <extra_id_2> none <extra_id_3> powder-free <extra_id_4> none <extra_id_5> none <extra_id_6> none <extra_id_7> none <extra_id_8> nitrile <extra_id_9> none <extra_id_10> none <extra_id_11> criterion, n300 ultra <extra_id_12> henry schein inc.', 'targets: <extra_id_0> strawberry <extra_id_1> small <extra_id_2> none <extra_id_3> none <extra_id_4> none <extra_id_5> none <extra_id_6> none <extra_id_7> none <extra_id_8> none <extra_id_9> none <extra_id_10> none <extra_id_11> illusion <extra_id_12> henry schein inc.', 'targets: <extra_id_0> grape <extra_id_1> small <extra_id_2> none <extra_id_3> powder-free <extra_id_4> latex <extra_id_5> none <extra_id_6> none <extra_id_7> none <extra_id_8> none <extra_id_9> none <extra_id_10> none <extra_id_11> illusion <extra_id_12> henry schein inc.', 'targets: <extra_id_0> none <extra_id_1> 7.0 <extra_id_2> none <extra_id_3> none <extra_id_4> none <extra_id_5> none <extra_id_6> none <extra_id_7> surgical <extra_id_8> none <extra_id_9> none <extra_id_10> none <extra_id_11> criterion, cr <extra_id_12> henry schein inc.', 'targets: <extra_id_0> none <extra_id_1> small <extra_id_2> none <extra_id_3> powder-free <extra_id_4> none <extra_id_5> none <extra_id_6> none <extra_id_7> none <extra_id_8> nitrile <extra_id_9> none <extra_id_10> none <extra_id_11> aloesoft plus <extra_id_12> henry schein inc.', 'targets: <extra_id_0> none <extra_id_1> extra-large <extra_id_2> none <extra_id_3> powder-free <extra_id_4> none <extra_id_5> none <extra_id_6> none <extra_id_7> none <extra_id_8> nitrile <extra_id_9> none <extra_id_10> none <extra_id_11> aloesoft plus <extra_id_12> henry schein inc.', 'targets: <extra_id_0> none <extra_id_1> none <extra_id_2> none <extra_id_3> none <extra_id_4> latex <extra_id_5> none <extra_id_6> none <extra_id_7> none <extra_id_8> none <extra_id_9> none <extra_id_10> none <extra_id_11> none <extra_id_12> medline industries inc.'] \n",
            "\n",
            "Example  19\n",
            "Description:  [\"description: medline industries , inc. medline industries , inc. glove size 8.5 ( 15 pr ). The color of this item is <extra_id_0> . The size is <extra_id_1> . This item's sterile status is <extra_id_2> . The powdered status is <extra_id_3> . Its latex-free status is <extra_id_4> . It comes in <extra_id_5> per box. There are <extra_id_6> per case. It is used for <extra_id_7> . The material of this item is <extra_id_8> . This item is <extra_id_9> thick. It is <extra_id_10> long. The product name is <extra_id_11> . <extra_id_12> manufactures this.\", \"description: medline industries , inc. medline industries , inc. glove size 7.0 pi ( 8pr ). The color of this item is <extra_id_0> . The size is <extra_id_1> . This item's sterile status is <extra_id_2> . The powdered status is <extra_id_3> . Its latex-free status is <extra_id_4> . It comes in <extra_id_5> per box. There are <extra_id_6> per case. It is used for <extra_id_7> . The material of this item is <extra_id_8> . This item is <extra_id_9> thick. It is <extra_id_10> long. The product name is <extra_id_11> . <extra_id_12> manufactures this.\", \"description: glove size 8.5 pi ( 8pr ) medline industries , inc. medline industries , inc .. The color of this item is <extra_id_0> . The size is <extra_id_1> . This item's sterile status is <extra_id_2> . The powdered status is <extra_id_3> . Its latex-free status is <extra_id_4> . It comes in <extra_id_5> per box. There are <extra_id_6> per case. It is used for <extra_id_7> . The material of this item is <extra_id_8> . This item is <extra_id_9> thick. It is <extra_id_10> long. The product name is <extra_id_11> . <extra_id_12> manufactures this.\", \"description: glove tray 7.5 ( 15 pr ) medline industries , inc. medline industries , inc .. The color of this item is <extra_id_0> . The size is <extra_id_1> . This item's sterile status is <extra_id_2> . The powdered status is <extra_id_3> . Its latex-free status is <extra_id_4> . It comes in <extra_id_5> per box. There are <extra_id_6> per case. It is used for <extra_id_7> . The material of this item is <extra_id_8> . This item is <extra_id_9> thick. It is <extra_id_10> long. The product name is <extra_id_11> . <extra_id_12> manufactures this.\", \"description: 2.5mils powder free blue nitrile exam/disposable glove , size xxl finesoft alliance rubber products sdn . bhd .. The color of this item is <extra_id_0> . The size is <extra_id_1> . This item's sterile status is <extra_id_2> . The powdered status is <extra_id_3> . Its latex-free status is <extra_id_4> . It comes in <extra_id_5> per box. There are <extra_id_6> per case. It is used for <extra_id_7> . The material of this item is <extra_id_8> . This item is <extra_id_9> thick. It is <extra_id_10> long. The product name is <extra_id_11> . <extra_id_12> manufactures this.\", \"description: finesoft alliance rubber products sdn . bhd . 2.5mils powder free blue nitrile exam/disposable glove , size m. The color of this item is <extra_id_0> . The size is <extra_id_1> . This item's sterile status is <extra_id_2> . The powdered status is <extra_id_3> . Its latex-free status is <extra_id_4> . It comes in <extra_id_5> per box. There are <extra_id_6> per case. It is used for <extra_id_7> . The material of this item is <extra_id_8> . This item is <extra_id_9> thick. It is <extra_id_10> long. The product name is <extra_id_11> . <extra_id_12> manufactures this.\", \"description: finecare alliance rubber products sdn . bhd . 3mils powder free blue nitrile exam/disposable glove , size m. The color of this item is <extra_id_0> . The size is <extra_id_1> . This item's sterile status is <extra_id_2> . The powdered status is <extra_id_3> . Its latex-free status is <extra_id_4> . It comes in <extra_id_5> per box. There are <extra_id_6> per case. It is used for <extra_id_7> . The material of this item is <extra_id_8> . This item is <extra_id_9> thick. It is <extra_id_10> long. The product name is <extra_id_11> . <extra_id_12> manufactures this.\", \"description: arsoft alliance rubber products sdn . bhd . 5mils powder free dark green nitrile exam/disposable glove , size l. The color of this item is <extra_id_0> . The size is <extra_id_1> . This item's sterile status is <extra_id_2> . The powdered status is <extra_id_3> . Its latex-free status is <extra_id_4> . It comes in <extra_id_5> per box. There are <extra_id_6> per case. It is used for <extra_id_7> . The material of this item is <extra_id_8> . This item is <extra_id_9> thick. It is <extra_id_10> long. The product name is <extra_id_11> . <extra_id_12> manufactures this.\", \"description: 4mils powder free blue nitrile exam/disposable glove , size xl arsoft alliance rubber products sdn . bhd .. The color of this item is <extra_id_0> . The size is <extra_id_1> . This item's sterile status is <extra_id_2> . The powdered status is <extra_id_3> . Its latex-free status is <extra_id_4> . It comes in <extra_id_5> per box. There are <extra_id_6> per case. It is used for <extra_id_7> . The material of this item is <extra_id_8> . This item is <extra_id_9> thick. It is <extra_id_10> long. The product name is <extra_id_11> . <extra_id_12> manufactures this.\", \"description: safe plus alliance rubber products sdn . bhd . powder free polymer coated latex exam/disposable glove , size xl. The color of this item is <extra_id_0> . The size is <extra_id_1> . This item's sterile status is <extra_id_2> . The powdered status is <extra_id_3> . Its latex-free status is <extra_id_4> . It comes in <extra_id_5> per box. There are <extra_id_6> per case. It is used for <extra_id_7> . The material of this item is <extra_id_8> . This item is <extra_id_9> thick. It is <extra_id_10> long. The product name is <extra_id_11> . <extra_id_12> manufactures this.\"]\n",
            "Target Text ['targets: <extra_id_0> none <extra_id_1> 8.5 <extra_id_2> none <extra_id_3> none <extra_id_4> none <extra_id_5> none <extra_id_6> none <extra_id_7> none <extra_id_8> none <extra_id_9> none <extra_id_10> none <extra_id_11> none <extra_id_12> medline industries inc.', 'targets: <extra_id_0> none <extra_id_1> 7.0 <extra_id_2> none <extra_id_3> none <extra_id_4> none <extra_id_5> none <extra_id_6> none <extra_id_7> none <extra_id_8> none <extra_id_9> none <extra_id_10> none <extra_id_11> none <extra_id_12> medline industries inc.', 'targets: <extra_id_0> none <extra_id_1> 8.5 <extra_id_2> none <extra_id_3> none <extra_id_4> none <extra_id_5> none <extra_id_6> none <extra_id_7> none <extra_id_8> none <extra_id_9> none <extra_id_10> none <extra_id_11> none <extra_id_12> medline industries inc.', 'targets: <extra_id_0> none <extra_id_1> none <extra_id_2> none <extra_id_3> none <extra_id_4> none <extra_id_5> none <extra_id_6> none <extra_id_7> none <extra_id_8> none <extra_id_9> none <extra_id_10> none <extra_id_11> none <extra_id_12> medline industries inc.', 'targets: <extra_id_0> blue <extra_id_1> extra-extra-large <extra_id_2> none <extra_id_3> powder-free <extra_id_4> none <extra_id_5> none <extra_id_6> none <extra_id_7> exam <extra_id_8> nitrile <extra_id_9> 2.5mils <extra_id_10> none <extra_id_11> finesoft <extra_id_12> alliance rubber products sdn. bhd.', 'targets: <extra_id_0> blue <extra_id_1> medium <extra_id_2> none <extra_id_3> powder-free <extra_id_4> none <extra_id_5> none <extra_id_6> none <extra_id_7> exam <extra_id_8> nitrile <extra_id_9> 2.5mils <extra_id_10> none <extra_id_11> finesoft <extra_id_12> alliance rubber products sdn. bhd.', 'targets: <extra_id_0> blue <extra_id_1> medium <extra_id_2> none <extra_id_3> powder-free <extra_id_4> none <extra_id_5> none <extra_id_6> none <extra_id_7> exam <extra_id_8> nitrile <extra_id_9> 3mils <extra_id_10> none <extra_id_11> finecare <extra_id_12> alliance rubber products sdn. bhd.', 'targets: <extra_id_0> dark green <extra_id_1> large <extra_id_2> none <extra_id_3> powder-free <extra_id_4> none <extra_id_5> none <extra_id_6> none <extra_id_7> exam <extra_id_8> nitrile <extra_id_9> 5mils <extra_id_10> none <extra_id_11> arsoft <extra_id_12> alliance rubber products sdn. bhd.', 'targets: <extra_id_0> blue <extra_id_1> extra-large <extra_id_2> none <extra_id_3> powder-free <extra_id_4> none <extra_id_5> none <extra_id_6> none <extra_id_7> exam <extra_id_8> nitrile <extra_id_9> 4mils <extra_id_10> none <extra_id_11> arsoft <extra_id_12> alliance rubber products sdn. bhd.', 'targets: <extra_id_0> none <extra_id_1> extra-large <extra_id_2> none <extra_id_3> powder-free <extra_id_4> latex <extra_id_5> none <extra_id_6> none <extra_id_7> exam <extra_id_8> polymer <extra_id_9> none <extra_id_10> none <extra_id_11> safe plus <extra_id_12> alliance rubber products sdn. bhd.']\n",
            "T5 Prediction ['targets: <extra_id_0> none <extra_id_1> 8.5 <extra_id_2> none <extra_id_3> none <extra_id_4> none <extra_id_5> none <extra_id_6> none <extra_id_7> none <extra_id_8> none <extra_id_9> none <extra_id_10> none <extra_id_11> none <extra_id_12> medline industries inc.', 'targets: <extra_id_0> none <extra_id_1> 7.0 <extra_id_2> none <extra_id_3> none <extra_id_4> none <extra_id_5> none <extra_id_6> none <extra_id_7> none <extra_id_8> none <extra_id_9> none <extra_id_10> none <extra_id_11> none <extra_id_12> medline industries inc.', 'targets: <extra_id_0> none <extra_id_1> 8.5 <extra_id_2> none <extra_id_3> none <extra_id_4> none <extra_id_5> none <extra_id_6> none <extra_id_7> none <extra_id_8> none <extra_id_9> none <extra_id_10> none <extra_id_11> none <extra_id_12> medline industries inc.', 'targets: <extra_id_0> none <extra_id_1> none <extra_id_2> none <extra_id_3> none <extra_id_4> none <extra_id_5> none <extra_id_6> none <extra_id_7> none <extra_id_8> none <extra_id_9> none <extra_id_10> none <extra_id_11> none <extra_id_12> medline industries inc.', 'targets: <extra_id_0> blue <extra_id_1> extra-extra-large <extra_id_2> none <extra_id_3> powder-free <extra_id_4> none <extra_id_5> none <extra_id_6> none <extra_id_7> exam <extra_id_8> nitrile <extra_id_9> 2.5mils <extra_id_10> none <extra_id_11> finesoft <extra_id_12> alliance rubber products sdn. bhd.', 'targets: <extra_id_0> blue <extra_id_1> medium <extra_id_2> none <extra_id_3> powder-free <extra_id_4> none <extra_id_5> none <extra_id_6> none <extra_id_7> exam <extra_id_8> nitrile <extra_id_9> 2.5mils <extra_id_10> none <extra_id_11> finesoft <extra_id_12> alliance rubber products sdn. bhd.', 'targets: <extra_id_0> blue <extra_id_1> medium <extra_id_2> none <extra_id_3> powder-free <extra_id_4> none <extra_id_5> none <extra_id_6> none <extra_id_7> exam <extra_id_8> nitrile <extra_id_9> 3mils <extra_id_10> none <extra_id_11> finecare <extra_id_12> alliance rubber products sdn. bhd.', 'targets: <extra_id_0> dark green <extra_id_1> large <extra_id_2> none <extra_id_3> powder-free <extra_id_4> none <extra_id_5> none <extra_id_6> none <extra_id_7> exam <extra_id_8> nitrile <extra_id_9> 5mils <extra_id_10> none <extra_id_11> arsoft <extra_id_12> alliance rubber products sdn. bhd.', 'targets: <extra_id_0> blue <extra_id_1> extra-large <extra_id_2> none <extra_id_3> powder-free <extra_id_4> none <extra_id_5> none <extra_id_6> none <extra_id_7> exam <extra_id_8> nitrile <extra_id_9> 4mils <extra_id_10> none <extra_id_11> arsoft <extra_id_12> alliance rubber products sdn. bhd.', 'targets: <extra_id_0> none <extra_id_1> extra-large <extra_id_2> none <extra_id_3> powder-free <extra_id_4> latex <extra_id_5> none <extra_id_6> none <extra_id_7> exam <extra_id_8> polymer <extra_id_9> none <extra_id_10> none <extra_id_11> safe plus <extra_id_12> alliance rubber products sdn. bhd.'] \n",
            "\n",
            "Example  20\n",
            "Description:  [\"description: freeguard emerson & co srl radiation attenuating surgical glove. The color of this item is <extra_id_0> . The size is <extra_id_1> . This item's sterile status is <extra_id_2> . The powdered status is <extra_id_3> . Its latex-free status is <extra_id_4> . It comes in <extra_id_5> per box. There are <extra_id_6> per case. It is used for <extra_id_7> . The material of this item is <extra_id_8> . This item is <extra_id_9> thick. It is <extra_id_10> long. The product name is <extra_id_11> . <extra_id_12> manufactures this.\", \"description: protech proguard emerson & co srl radiation attenuating surgical glove. The color of this item is <extra_id_0> . The size is <extra_id_1> . This item's sterile status is <extra_id_2> . The powdered status is <extra_id_3> . Its latex-free status is <extra_id_4> . It comes in <extra_id_5> per box. There are <extra_id_6> per case. It is used for <extra_id_7> . The material of this item is <extra_id_8> . This item is <extra_id_9> thick. It is <extra_id_10> long. The product name is <extra_id_11> . <extra_id_12> manufactures this.\", \"description: radiation reducing glove xguard emerson & co srl. The color of this item is <extra_id_0> . The size is <extra_id_1> . This item's sterile status is <extra_id_2> . The powdered status is <extra_id_3> . Its latex-free status is <extra_id_4> . It comes in <extra_id_5> per box. There are <extra_id_6> per case. It is used for <extra_id_7> . The material of this item is <extra_id_8> . This item is <extra_id_9> thick. It is <extra_id_10> long. The product name is <extra_id_11> . <extra_id_12> manufactures this.\", \"description: safehealth pm gloves u s a inc nitrile examination gloves , blue ( m ). The color of this item is <extra_id_0> . The size is <extra_id_1> . This item's sterile status is <extra_id_2> . The powdered status is <extra_id_3> . Its latex-free status is <extra_id_4> . It comes in <extra_id_5> per box. There are <extra_id_6> per case. It is used for <extra_id_7> . The material of this item is <extra_id_8> . This item is <extra_id_9> thick. It is <extra_id_10> long. The product name is <extra_id_11> . <extra_id_12> manufactures this.\", \"description: criterion razz nitrile glove henry schein , inc. criterion razz nitrile glove small. The color of this item is <extra_id_0> . The size is <extra_id_1> . This item's sterile status is <extra_id_2> . The powdered status is <extra_id_3> . Its latex-free status is <extra_id_4> . It comes in <extra_id_5> per box. There are <extra_id_6> per case. It is used for <extra_id_7> . The material of this item is <extra_id_8> . This item is <extra_id_9> thick. It is <extra_id_10> long. The product name is <extra_id_11> . <extra_id_12> manufactures this.\", \"description: nytrile x300 electra blue pf nitrile henry schein , inc. nytrile x300 electra blue pf nitrile x-small. The color of this item is <extra_id_0> . The size is <extra_id_1> . This item's sterile status is <extra_id_2> . The powdered status is <extra_id_3> . Its latex-free status is <extra_id_4> . It comes in <extra_id_5> per box. There are <extra_id_6> per case. It is used for <extra_id_7> . The material of this item is <extra_id_8> . This item is <extra_id_9> thick. It is <extra_id_10> long. The product name is <extra_id_11> . <extra_id_12> manufactures this.\", \"description: aloesoft plus nitrile pf small aloesoft plus nitrile pf henry schein , inc .. The color of this item is <extra_id_0> . The size is <extra_id_1> . This item's sterile status is <extra_id_2> . The powdered status is <extra_id_3> . Its latex-free status is <extra_id_4> . It comes in <extra_id_5> per box. There are <extra_id_6> per case. It is used for <extra_id_7> . The material of this item is <extra_id_8> . This item is <extra_id_9> thick. It is <extra_id_10> long. The product name is <extra_id_11> . <extra_id_12> manufactures this.\", \"description: henry schein henry schein , inc. criterion coats ntrl glov. The color of this item is <extra_id_0> . The size is <extra_id_1> . This item's sterile status is <extra_id_2> . The powdered status is <extra_id_3> . Its latex-free status is <extra_id_4> . It comes in <extra_id_5> per box. There are <extra_id_6> per case. It is used for <extra_id_7> . The material of this item is <extra_id_8> . This item is <extra_id_9> thick. It is <extra_id_10> long. The product name is <extra_id_11> . <extra_id_12> manufactures this.\", \"description: criterion aloe advance latex henry schein , inc. criterion aloe advance latex large. The color of this item is <extra_id_0> . The size is <extra_id_1> . This item's sterile status is <extra_id_2> . The powdered status is <extra_id_3> . Its latex-free status is <extra_id_4> . It comes in <extra_id_5> per box. There are <extra_id_6> per case. It is used for <extra_id_7> . The material of this item is <extra_id_8> . This item is <extra_id_9> thick. It is <extra_id_10> long. The product name is <extra_id_11> . <extra_id_12> manufactures this.\", \"description: nytrile xt pf nitrile glove medium nytrile xt pf nitrile glove henry schein , inc .. The color of this item is <extra_id_0> . The size is <extra_id_1> . This item's sterile status is <extra_id_2> . The powdered status is <extra_id_3> . Its latex-free status is <extra_id_4> . It comes in <extra_id_5> per box. There are <extra_id_6> per case. It is used for <extra_id_7> . The material of this item is <extra_id_8> . This item is <extra_id_9> thick. It is <extra_id_10> long. The product name is <extra_id_11> . <extra_id_12> manufactures this.\"]\n",
            "Target Text ['targets: <extra_id_0> none <extra_id_1> none <extra_id_2> none <extra_id_3> none <extra_id_4> none <extra_id_5> none <extra_id_6> none <extra_id_7> surgical, radiation <extra_id_8> none <extra_id_9> none <extra_id_10> none <extra_id_11> freeguard <extra_id_12> emerson & co srl', 'targets: <extra_id_0> none <extra_id_1> none <extra_id_2> none <extra_id_3> none <extra_id_4> none <extra_id_5> none <extra_id_6> none <extra_id_7> surgical, radiation <extra_id_8> none <extra_id_9> none <extra_id_10> none <extra_id_11> protech proguard <extra_id_12> emerson & co srl', 'targets: <extra_id_0> none <extra_id_1> none <extra_id_2> none <extra_id_3> none <extra_id_4> none <extra_id_5> none <extra_id_6> none <extra_id_7> radiation <extra_id_8> none <extra_id_9> none <extra_id_10> none <extra_id_11> xguard <extra_id_12> emerson & co srl', 'targets: <extra_id_0> blue <extra_id_1> medium <extra_id_2> none <extra_id_3> none <extra_id_4> none <extra_id_5> none <extra_id_6> none <extra_id_7> exam <extra_id_8> nitrile <extra_id_9> none <extra_id_10> none <extra_id_11> safehealth <extra_id_12> pm gloves u s a inc', 'targets: <extra_id_0> none <extra_id_1> small <extra_id_2> none <extra_id_3> none <extra_id_4> none <extra_id_5> none <extra_id_6> none <extra_id_7> none <extra_id_8> nitrile <extra_id_9> none <extra_id_10> none <extra_id_11> criterion, razz <extra_id_12> henry schein inc.', 'targets: <extra_id_0> electra blue <extra_id_1> extra-small <extra_id_2> none <extra_id_3> powder-free <extra_id_4> none <extra_id_5> none <extra_id_6> none <extra_id_7> none <extra_id_8> nitrile <extra_id_9> none <extra_id_10> none <extra_id_11> nytrile, x300 <extra_id_12> henry schein inc.', 'targets: <extra_id_0> none <extra_id_1> small <extra_id_2> none <extra_id_3> powder-free <extra_id_4> none <extra_id_5> none <extra_id_6> none <extra_id_7> none <extra_id_8> nitrile <extra_id_9> none <extra_id_10> none <extra_id_11> aloesoft plus <extra_id_12> henry schein inc.', 'targets: <extra_id_0> none <extra_id_1> none <extra_id_2> none <extra_id_3> none <extra_id_4> none <extra_id_5> none <extra_id_6> none <extra_id_7> none <extra_id_8> nitrile <extra_id_9> none <extra_id_10> none <extra_id_11> none <extra_id_12> henry schein inc.', 'targets: <extra_id_0> none <extra_id_1> large <extra_id_2> none <extra_id_3> none <extra_id_4> latex <extra_id_5> none <extra_id_6> none <extra_id_7> none <extra_id_8> none <extra_id_9> none <extra_id_10> none <extra_id_11> criterion <extra_id_12> henry schein inc.', 'targets: <extra_id_0> none <extra_id_1> medium <extra_id_2> none <extra_id_3> powder-free <extra_id_4> none <extra_id_5> none <extra_id_6> none <extra_id_7> none <extra_id_8> nitrile <extra_id_9> none <extra_id_10> none <extra_id_11> nytrile, xt <extra_id_12> henry schein inc.']\n",
            "T5 Prediction ['targets: <extra_id_0> none <extra_id_1> none <extra_id_2> none <extra_id_3> none <extra_id_4> none <extra_id_5> none <extra_id_6> none <extra_id_7> surgical, radiation <extra_id_8> none <extra_id_9> none <extra_id_10> none <extra_id_11> freeguard <extra_id_12> emerson & co srl', 'targets: <extra_id_0> none <extra_id_1> none <extra_id_2> none <extra_id_3> none <extra_id_4> none <extra_id_5> none <extra_id_6> none <extra_id_7> surgical, radiation <extra_id_8> none <extra_id_9> none <extra_id_10> none <extra_id_11> protech proguard <extra_id_12> emerson & co srl', 'targets: <extra_id_0> none <extra_id_1> none <extra_id_2> none <extra_id_3> none <extra_id_4> none <extra_id_5> none <extra_id_6> none <extra_id_7> radiation <extra_id_8> none <extra_id_9> none <extra_id_10> none <extra_id_11> xguard <extra_id_12> emerson & co srl', 'targets: <extra_id_0> blue <extra_id_1> medium <extra_id_2> none <extra_id_3> none <extra_id_4> none <extra_id_5> none <extra_id_6> none <extra_id_7> exam <extra_id_8> nitrile <extra_id_9> none <extra_id_10> none <extra_id_11> safehealth <extra_id_12> pm gloves u s a inc', 'targets: <extra_id_0> none <extra_id_1> small <extra_id_2> none <extra_id_3> none <extra_id_4> none <extra_id_5> none <extra_id_6> none <extra_id_7> none <extra_id_8> nitrile <extra_id_9> none <extra_id_10> none <extra_id_11> criterion, razz <extra_id_12> henry schein inc.', 'targets: <extra_id_0> electra blue <extra_id_1> extra-small <extra_id_2> none <extra_id_3> powder-free <extra_id_4> none <extra_id_5> none <extra_id_6> none <extra_id_7> none <extra_id_8> nitrile <extra_id_9> none <extra_id_10> none <extra_id_11> nytrile, x300 <extra_id_12> henry schein inc.', 'targets: <extra_id_0> none <extra_id_1> small <extra_id_2> none <extra_id_3> powder-free <extra_id_4> none <extra_id_5> none <extra_id_6> none <extra_id_7> none <extra_id_8> nitrile <extra_id_9> none <extra_id_10> none <extra_id_11> aloesoft plus <extra_id_12> henry schein inc.', 'targets: <extra_id_0> none <extra_id_1> none <extra_id_2> non-sterile <extra_id_3> none <extra_id_4> none <extra_id_5> none <extra_id_6> none <extra_id_7> none <extra_id_8> nitrile <extra_id_9> none <extra_id_10> none <extra_id_11> none <extra_id_12> henry schein inc.', 'targets: <extra_id_0> none <extra_id_1> large <extra_id_2> none <extra_id_3> none <extra_id_4> latex <extra_id_5> none <extra_id_6> none <extra_id_7> none <extra_id_8> none <extra_id_9> none <extra_id_10> none <extra_id_11> criterion <extra_id_12> henry schein inc.', 'targets: <extra_id_0> none <extra_id_1> medium <extra_id_2> none <extra_id_3> powder-free <extra_id_4> none <extra_id_5> none <extra_id_6> none <extra_id_7> none <extra_id_8> nitrile <extra_id_9> none <extra_id_10> none <extra_id_11> nytrile, xt <extra_id_12> henry schein inc.'] \n",
            "\n",
            "Example  21\n",
            "Description:  [\"description: henry schein henry schein , inc. nytrile xt glove pf. The color of this item is <extra_id_0> . The size is <extra_id_1> . This item's sterile status is <extra_id_2> . The powdered status is <extra_id_3> . Its latex-free status is <extra_id_4> . It comes in <extra_id_5> per box. There are <extra_id_6> per case. It is used for <extra_id_7> . The material of this item is <extra_id_8> . This item is <extra_id_9> thick. It is <extra_id_10> long. The product name is <extra_id_11> . <extra_id_12> manufactures this.\", \"description: henry schein henry schein , inc. criterion aloe green ltx glv. The color of this item is <extra_id_0> . The size is <extra_id_1> . This item's sterile status is <extra_id_2> . The powdered status is <extra_id_3> . Its latex-free status is <extra_id_4> . It comes in <extra_id_5> per box. There are <extra_id_6> per case. It is used for <extra_id_7> . The material of this item is <extra_id_8> . This item is <extra_id_9> thick. It is <extra_id_10> long. The product name is <extra_id_11> . <extra_id_12> manufactures this.\", \"description: illusion glove pf latex grape henry schein , inc. illusion glove pf latex grape x-large. The color of this item is <extra_id_0> . The size is <extra_id_1> . This item's sterile status is <extra_id_2> . The powdered status is <extra_id_3> . Its latex-free status is <extra_id_4> . It comes in <extra_id_5> per box. There are <extra_id_6> per case. It is used for <extra_id_7> . The material of this item is <extra_id_8> . This item is <extra_id_9> thick. It is <extra_id_10> long. The product name is <extra_id_11> . <extra_id_12> manufactures this.\", \"description: criterion cl glove pf latex x-small criterion cl glove pf latex henry schein , inc .. The color of this item is <extra_id_0> . The size is <extra_id_1> . This item's sterile status is <extra_id_2> . The powdered status is <extra_id_3> . Its latex-free status is <extra_id_4> . It comes in <extra_id_5> per box. There are <extra_id_6> per case. It is used for <extra_id_7> . The material of this item is <extra_id_8> . This item is <extra_id_9> thick. It is <extra_id_10> long. The product name is <extra_id_11> . <extra_id_12> manufactures this.\", \"description: gloves nitri prof hands on xl darby darby dental supply , llc darby dental supply , llc. The color of this item is <extra_id_0> . The size is <extra_id_1> . This item's sterile status is <extra_id_2> . The powdered status is <extra_id_3> . Its latex-free status is <extra_id_4> . It comes in <extra_id_5> per box. There are <extra_id_6> per case. It is used for <extra_id_7> . The material of this item is <extra_id_8> . This item is <extra_id_9> thick. It is <extra_id_10> long. The product name is <extra_id_11> . <extra_id_12> manufactures this.\", \"description: darby dental supply , llc darby dental supply , llc gloves nitri prof hands on lg darby. The color of this item is <extra_id_0> . The size is <extra_id_1> . This item's sterile status is <extra_id_2> . The powdered status is <extra_id_3> . Its latex-free status is <extra_id_4> . It comes in <extra_id_5> per box. There are <extra_id_6> per case. It is used for <extra_id_7> . The material of this item is <extra_id_8> . This item is <extra_id_9> thick. It is <extra_id_10> long. The product name is <extra_id_11> . <extra_id_12> manufactures this.\", \"description: darby dental supply , llc darby dental supply , llc gloves nitri prof hands on md darby. The color of this item is <extra_id_0> . The size is <extra_id_1> . This item's sterile status is <extra_id_2> . The powdered status is <extra_id_3> . Its latex-free status is <extra_id_4> . It comes in <extra_id_5> per box. There are <extra_id_6> per case. It is used for <extra_id_7> . The material of this item is <extra_id_8> . This item is <extra_id_9> thick. It is <extra_id_10> long. The product name is <extra_id_11> . <extra_id_12> manufactures this.\", \"description: gloves nitril dx pf hndson xs darby darby dental supply , llc darby dental supply , llc. The color of this item is <extra_id_0> . The size is <extra_id_1> . This item's sterile status is <extra_id_2> . The powdered status is <extra_id_3> . Its latex-free status is <extra_id_4> . It comes in <extra_id_5> per box. There are <extra_id_6> per case. It is used for <extra_id_7> . The material of this item is <extra_id_8> . This item is <extra_id_9> thick. It is <extra_id_10> long. The product name is <extra_id_11> . <extra_id_12> manufactures this.\", \"description: darby dental supply , llc darby dental supply , llc gloves nitrile elegant pf xl darby. The color of this item is <extra_id_0> . The size is <extra_id_1> . This item's sterile status is <extra_id_2> . The powdered status is <extra_id_3> . Its latex-free status is <extra_id_4> . It comes in <extra_id_5> per box. There are <extra_id_6> per case. It is used for <extra_id_7> . The material of this item is <extra_id_8> . This item is <extra_id_9> thick. It is <extra_id_10> long. The product name is <extra_id_11> . <extra_id_12> manufactures this.\", \"description: darby dental supply , llc darby dental supply , llc gloves nitr pf aloe & vit e xsm darby. The color of this item is <extra_id_0> . The size is <extra_id_1> . This item's sterile status is <extra_id_2> . The powdered status is <extra_id_3> . Its latex-free status is <extra_id_4> . It comes in <extra_id_5> per box. There are <extra_id_6> per case. It is used for <extra_id_7> . The material of this item is <extra_id_8> . This item is <extra_id_9> thick. It is <extra_id_10> long. The product name is <extra_id_11> . <extra_id_12> manufactures this.\"]\n",
            "Target Text ['targets: <extra_id_0> none <extra_id_1> none <extra_id_2> none <extra_id_3> powder-free <extra_id_4> none <extra_id_5> none <extra_id_6> none <extra_id_7> none <extra_id_8> none <extra_id_9> none <extra_id_10> none <extra_id_11> none <extra_id_12> henry schein inc.', 'targets: <extra_id_0> green <extra_id_1> none <extra_id_2> none <extra_id_3> none <extra_id_4> latex <extra_id_5> none <extra_id_6> none <extra_id_7> none <extra_id_8> none <extra_id_9> none <extra_id_10> none <extra_id_11> none <extra_id_12> henry schein inc.', 'targets: <extra_id_0> grape <extra_id_1> extra-large <extra_id_2> none <extra_id_3> powder-free <extra_id_4> latex <extra_id_5> none <extra_id_6> none <extra_id_7> none <extra_id_8> none <extra_id_9> none <extra_id_10> none <extra_id_11> illusion <extra_id_12> henry schein inc.', 'targets: <extra_id_0> none <extra_id_1> extra-small <extra_id_2> none <extra_id_3> powder-free <extra_id_4> latex <extra_id_5> none <extra_id_6> none <extra_id_7> none <extra_id_8> none <extra_id_9> none <extra_id_10> none <extra_id_11> criterion, cl <extra_id_12> henry schein inc.', 'targets: <extra_id_0> none <extra_id_1> extra-large <extra_id_2> none <extra_id_3> none <extra_id_4> none <extra_id_5> none <extra_id_6> none <extra_id_7> none <extra_id_8> nitrile <extra_id_9> none <extra_id_10> none <extra_id_11> none <extra_id_12> darby dental supply llc', 'targets: <extra_id_0> none <extra_id_1> large <extra_id_2> none <extra_id_3> none <extra_id_4> none <extra_id_5> none <extra_id_6> none <extra_id_7> none <extra_id_8> nitrile <extra_id_9> none <extra_id_10> none <extra_id_11> none <extra_id_12> darby dental supply llc', 'targets: <extra_id_0> none <extra_id_1> medium <extra_id_2> none <extra_id_3> none <extra_id_4> none <extra_id_5> none <extra_id_6> none <extra_id_7> none <extra_id_8> nitrile <extra_id_9> none <extra_id_10> none <extra_id_11> none <extra_id_12> darby dental supply llc', 'targets: <extra_id_0> none <extra_id_1> extra-small <extra_id_2> none <extra_id_3> powder-free <extra_id_4> none <extra_id_5> none <extra_id_6> none <extra_id_7> none <extra_id_8> nitrile <extra_id_9> none <extra_id_10> none <extra_id_11> none <extra_id_12> darby dental supply llc', 'targets: <extra_id_0> none <extra_id_1> extra-large <extra_id_2> none <extra_id_3> powder-free <extra_id_4> none <extra_id_5> none <extra_id_6> none <extra_id_7> none <extra_id_8> nitrile <extra_id_9> none <extra_id_10> none <extra_id_11> none <extra_id_12> darby dental supply llc', 'targets: <extra_id_0> none <extra_id_1> extra-small <extra_id_2> none <extra_id_3> powder-free <extra_id_4> none <extra_id_5> none <extra_id_6> none <extra_id_7> none <extra_id_8> nitrile <extra_id_9> none <extra_id_10> none <extra_id_11> none <extra_id_12> darby dental supply llc']\n",
            "T5 Prediction ['targets: <extra_id_0> none <extra_id_1> extra-small <extra_id_2> none <extra_id_3> powder-free <extra_id_4> none <extra_id_5> none <extra_id_6> none <extra_id_7> none <extra_id_8> nytrile <extra_id_9> none <extra_id_10> none <extra_id_11> none <extra_id_12> henry schein inc.', 'targets: <extra_id_0> green <extra_id_1> none <extra_id_2> none <extra_id_3> none <extra_id_4> none <extra_id_5> none <extra_id_6> none <extra_id_7> none <extra_id_8> none <extra_id_9> none <extra_id_10> none <extra_id_11> none <extra_id_12> henry schein inc.', 'targets: <extra_id_0> grape <extra_id_1> extra-large <extra_id_2> none <extra_id_3> powder-free <extra_id_4> latex <extra_id_5> none <extra_id_6> none <extra_id_7> none <extra_id_8> none <extra_id_9> none <extra_id_10> none <extra_id_11> illusion <extra_id_12> henry schein inc.', 'targets: <extra_id_0> none <extra_id_1> extra-small <extra_id_2> none <extra_id_3> powder-free <extra_id_4> latex <extra_id_5> none <extra_id_6> none <extra_id_7> none <extra_id_8> none <extra_id_9> none <extra_id_10> none <extra_id_11> criterion, cl <extra_id_12> henry schein inc.', 'targets: <extra_id_0> none <extra_id_1> extra-large <extra_id_2> none <extra_id_3> none <extra_id_4> none <extra_id_5> none <extra_id_6> none <extra_id_7> none <extra_id_8> nitrile <extra_id_9> none <extra_id_10> none <extra_id_11> none <extra_id_12> darby dental supply llc', 'targets: <extra_id_0> none <extra_id_1> large <extra_id_2> none <extra_id_3> none <extra_id_4> none <extra_id_5> none <extra_id_6> none <extra_id_7> none <extra_id_8> nitrile <extra_id_9> none <extra_id_10> none <extra_id_11> none <extra_id_12> darby dental supply llc', 'targets: <extra_id_0> none <extra_id_1> medium <extra_id_2> none <extra_id_3> none <extra_id_4> none <extra_id_5> none <extra_id_6> none <extra_id_7> none <extra_id_8> nitrile <extra_id_9> none <extra_id_10> none <extra_id_11> none <extra_id_12> darby dental supply llc', 'targets: <extra_id_0> none <extra_id_1> extra-small <extra_id_2> none <extra_id_3> powder-free <extra_id_4> none <extra_id_5> none <extra_id_6> none <extra_id_7> none <extra_id_8> nitrile <extra_id_9> none <extra_id_10> none <extra_id_11> none <extra_id_12> darby dental supply llc', 'targets: <extra_id_0> none <extra_id_1> extra-large <extra_id_2> none <extra_id_3> powder-free <extra_id_4> none <extra_id_5> none <extra_id_6> none <extra_id_7> none <extra_id_8> nitrile <extra_id_9> none <extra_id_10> none <extra_id_11> none <extra_id_12> darby dental supply llc', 'targets: <extra_id_0> none <extra_id_1> extra-small <extra_id_2> none <extra_id_3> powder-free <extra_id_4> none <extra_id_5> none <extra_id_6> none <extra_id_7> none <extra_id_8> nitrile <extra_id_9> none <extra_id_10> none <extra_id_11> none <extra_id_12> darby dental supply llc'] \n",
            "\n",
            "Example  22\n",
            "Description:  [\"description: glove samp pr nitrl aloe sm 3270001 darby dental supply , llc darby dental supply , llc. The color of this item is <extra_id_0> . The size is <extra_id_1> . This item's sterile status is <extra_id_2> . The powdered status is <extra_id_3> . Its latex-free status is <extra_id_4> . It comes in <extra_id_5> per box. There are <extra_id_6> per case. It is used for <extra_id_7> . The material of this item is <extra_id_8> . This item is <extra_id_9> thick. It is <extra_id_10> long. The product name is <extra_id_11> . <extra_id_12> manufactures this.\", \"description: darby dental supply , llc darby dental supply , llc glove samp ltx pf handson m 3182324. The color of this item is <extra_id_0> . The size is <extra_id_1> . This item's sterile status is <extra_id_2> . The powdered status is <extra_id_3> . Its latex-free status is <extra_id_4> . It comes in <extra_id_5> per box. There are <extra_id_6> per case. It is used for <extra_id_7> . The material of this item is <extra_id_8> . This item is <extra_id_9> thick. It is <extra_id_10> long. The product name is <extra_id_11> . <extra_id_12> manufactures this.\", \"description: medical components , inc. picc accessory pack arrowhead. The color of this item is <extra_id_0> . The size is <extra_id_1> . This item's sterile status is <extra_id_2> . The powdered status is <extra_id_3> . Its latex-free status is <extra_id_4> . It comes in <extra_id_5> per box. There are <extra_id_6> per case. It is used for <extra_id_7> . The material of this item is <extra_id_8> . This item is <extra_id_9> thick. It is <extra_id_10> long. The product name is <extra_id_11> . <extra_id_12> manufactures this.\", \"description: resq-grip p h & s products llc 6mil fingertip , 9.5 '' in length , ambidextrous , examination grade glove , powder free , raised diamond pattern , beaded cuff , blue , size large. The color of this item is <extra_id_0> . The size is <extra_id_1> . This item's sterile status is <extra_id_2> . The powdered status is <extra_id_3> . Its latex-free status is <extra_id_4> . It comes in <extra_id_5> per box. There are <extra_id_6> per case. It is used for <extra_id_7> . The material of this item is <extra_id_8> . This item is <extra_id_9> thick. It is <extra_id_10> long. The product name is <extra_id_11> . <extra_id_12> manufactures this.\", \"description: basic medical maveric medical llc nitrile pf exam gloves - md , 100/bx , 1,000/cs. The color of this item is <extra_id_0> . The size is <extra_id_1> . This item's sterile status is <extra_id_2> . The powdered status is <extra_id_3> . Its latex-free status is <extra_id_4> . It comes in <extra_id_5> per box. There are <extra_id_6> per case. It is used for <extra_id_7> . The material of this item is <extra_id_8> . This item is <extra_id_9> thick. It is <extra_id_10> long. The product name is <extra_id_11> . <extra_id_12> manufactures this.\", \"description: glove exam nitrile n/s pf x-large royal blue , 90/bx dealmed dealmed medical supplies llc. The color of this item is <extra_id_0> . The size is <extra_id_1> . This item's sterile status is <extra_id_2> . The powdered status is <extra_id_3> . Its latex-free status is <extra_id_4> . It comes in <extra_id_5> per box. There are <extra_id_6> per case. It is used for <extra_id_7> . The material of this item is <extra_id_8> . This item is <extra_id_9> thick. It is <extra_id_10> long. The product name is <extra_id_11> . <extra_id_12> manufactures this.\", \"description: glove exam latex n/s pf small cream , 100/bx dealmed dealmed medical supplies llc. The color of this item is <extra_id_0> . The size is <extra_id_1> . This item's sterile status is <extra_id_2> . The powdered status is <extra_id_3> . Its latex-free status is <extra_id_4> . It comes in <extra_id_5> per box. There are <extra_id_6> per case. It is used for <extra_id_7> . The material of this item is <extra_id_8> . This item is <extra_id_9> thick. It is <extra_id_10> long. The product name is <extra_id_11> . <extra_id_12> manufactures this.\", \"description: advancefit summit glove inc. 4.5mil , 9.5 '' in length , nitrile , examination grade , ambidextrous , powder free , beaded cuff , orange color , size 2x-large. The color of this item is <extra_id_0> . The size is <extra_id_1> . This item's sterile status is <extra_id_2> . The powdered status is <extra_id_3> . Its latex-free status is <extra_id_4> . It comes in <extra_id_5> per box. There are <extra_id_6> per case. It is used for <extra_id_7> . The material of this item is <extra_id_8> . This item is <extra_id_9> thick. It is <extra_id_10> long. The product name is <extra_id_11> . <extra_id_12> manufactures this.\", \"description: get-a-grip summit glove inc. 5mil , 9.5 '' in length , ambidextrous , examination grade glove , powder free , raised diamond pattern , beaded cuff , blue , size large. The color of this item is <extra_id_0> . The size is <extra_id_1> . This item's sterile status is <extra_id_2> . The powdered status is <extra_id_3> . Its latex-free status is <extra_id_4> . It comes in <extra_id_5> per box. There are <extra_id_6> per case. It is used for <extra_id_7> . The material of this item is <extra_id_8> . This item is <extra_id_9> thick. It is <extra_id_10> long. The product name is <extra_id_11> . <extra_id_12> manufactures this.\", \"description: 5mil , 9.5 '' in length , ambidextrous , examination grade glove , powder free , raised diamond pattern , beaded cuff , blue , size medium get-a-grip summit glove inc .. The color of this item is <extra_id_0> . The size is <extra_id_1> . This item's sterile status is <extra_id_2> . The powdered status is <extra_id_3> . Its latex-free status is <extra_id_4> . It comes in <extra_id_5> per box. There are <extra_id_6> per case. It is used for <extra_id_7> . The material of this item is <extra_id_8> . This item is <extra_id_9> thick. It is <extra_id_10> long. The product name is <extra_id_11> . <extra_id_12> manufactures this.\"]\n",
            "Target Text ['targets: <extra_id_0> none <extra_id_1> small <extra_id_2> none <extra_id_3> none <extra_id_4> none <extra_id_5> none <extra_id_6> none <extra_id_7> none <extra_id_8> nitrile <extra_id_9> none <extra_id_10> none <extra_id_11> none <extra_id_12> darby dental supply llc', 'targets: <extra_id_0> none <extra_id_1> medium <extra_id_2> none <extra_id_3> powder-free <extra_id_4> latex <extra_id_5> none <extra_id_6> none <extra_id_7> none <extra_id_8> none <extra_id_9> none <extra_id_10> none <extra_id_11> none <extra_id_12> darby dental supply llc', 'targets: <extra_id_0> none <extra_id_1> none <extra_id_2> none <extra_id_3> none <extra_id_4> none <extra_id_5> none <extra_id_6> none <extra_id_7> none <extra_id_8> none <extra_id_9> none <extra_id_10> none <extra_id_11> none <extra_id_12> medical components inc.', 'targets: <extra_id_0> blue <extra_id_1> large <extra_id_2> none <extra_id_3> powder-free <extra_id_4> none <extra_id_5> none <extra_id_6> none <extra_id_7> exam <extra_id_8> none <extra_id_9> 6mil <extra_id_10> 9.5in <extra_id_11> resq-grip <extra_id_12> p h & s products llc', 'targets: <extra_id_0> none <extra_id_1> medium <extra_id_2> none <extra_id_3> powder-free <extra_id_4> none <extra_id_5> 100 pairs <extra_id_6> 000 boxes <extra_id_7> exam <extra_id_8> nitrile <extra_id_9> none <extra_id_10> none <extra_id_11> basic medical <extra_id_12> maveric medical llc', 'targets: <extra_id_0> royal blue <extra_id_1> extra-large <extra_id_2> non-sterile <extra_id_3> powder-free <extra_id_4> none <extra_id_5> 90 pairs <extra_id_6> none <extra_id_7> exam <extra_id_8> nitrile <extra_id_9> none <extra_id_10> none <extra_id_11> none <extra_id_12> dealmed medical supplies llc', 'targets: <extra_id_0> cream <extra_id_1> small <extra_id_2> non-sterile <extra_id_3> powder-free <extra_id_4> latex <extra_id_5> 100 pairs <extra_id_6> none <extra_id_7> exam <extra_id_8> none <extra_id_9> none <extra_id_10> none <extra_id_11> none <extra_id_12> dealmed medical supplies llc', 'targets: <extra_id_0> orange <extra_id_1> extra-extra-large <extra_id_2> none <extra_id_3> powder-free <extra_id_4> none <extra_id_5> none <extra_id_6> none <extra_id_7> exam <extra_id_8> nitrile <extra_id_9> 4.5mil <extra_id_10> 9.5in <extra_id_11> advancefit <extra_id_12> summit glove inc.', 'targets: <extra_id_0> blue <extra_id_1> large <extra_id_2> none <extra_id_3> powder-free <extra_id_4> none <extra_id_5> none <extra_id_6> none <extra_id_7> exam <extra_id_8> none <extra_id_9> 5mil <extra_id_10> 9.5in <extra_id_11> get-a-grip <extra_id_12> summit glove inc.', 'targets: <extra_id_0> blue <extra_id_1> medium <extra_id_2> none <extra_id_3> powder-free <extra_id_4> none <extra_id_5> none <extra_id_6> none <extra_id_7> exam <extra_id_8> none <extra_id_9> 5mil <extra_id_10> 9.5in <extra_id_11> get-a-grip <extra_id_12> summit glove inc.']\n",
            "T5 Prediction ['targets: <extra_id_0> none <extra_id_1> small <extra_id_2> none <extra_id_3> none <extra_id_4> none <extra_id_5> none <extra_id_6> none <extra_id_7> none <extra_id_8> nitrile <extra_id_9> none <extra_id_10> none <extra_id_11> none <extra_id_12> darby dental supply llc', 'targets: <extra_id_0> none <extra_id_1> medium <extra_id_2> none <extra_id_3> powder-free <extra_id_4> latex <extra_id_5> none <extra_id_6> none <extra_id_7> none <extra_id_8> none <extra_id_9> none <extra_id_10> none <extra_id_11> none <extra_id_12> darby dental supply llc', 'targets: <extra_id_0> none <extra_id_1> none <extra_id_2> none <extra_id_3> none <extra_id_4> none <extra_id_5> none <extra_id_6> none <extra_id_7> none <extra_id_8> none <extra_id_9> none <extra_id_10> none <extra_id_11> none <extra_id_12> medical components inc.', 'targets: <extra_id_0> blue <extra_id_1> large <extra_id_2> none <extra_id_3> powder-free <extra_id_4> none <extra_id_5> none <extra_id_6> none <extra_id_7> exam <extra_id_8> none <extra_id_9> 6mil <extra_id_10> 9.5in <extra_id_11> resq-grip <extra_id_12> p h & s products llc', 'targets: <extra_id_0> none <extra_id_1> medium <extra_id_2> none <extra_id_3> powder-free <extra_id_4> none <extra_id_5> 100 pairs <extra_id_6> 000 boxes <extra_id_7> exam <extra_id_8> nitrile <extra_id_9> none <extra_id_10> none <extra_id_11> basic medical <extra_id_12> maveric medical llc', 'targets: <extra_id_0> royal blue <extra_id_1> extra-large <extra_id_2> non-sterile <extra_id_3> powder-free <extra_id_4> none <extra_id_5> 90 pairs <extra_id_6> none <extra_id_7> exam <extra_id_8> nitrile <extra_id_9> none <extra_id_10> none <extra_id_11> none <extra_id_12> dealmed medical supplies llc', 'targets: <extra_id_0> cream <extra_id_1> small <extra_id_2> non-sterile <extra_id_3> powder-free <extra_id_4> latex <extra_id_5> 100 pairs <extra_id_6> none <extra_id_7> exam <extra_id_8> none <extra_id_9> none <extra_id_10> none <extra_id_11> none <extra_id_12> dealmed medical supplies llc', 'targets: <extra_id_0> orange <extra_id_1> extra-extra-large <extra_id_2> none <extra_id_3> powder-free <extra_id_4> none <extra_id_5> none <extra_id_6> none <extra_id_7> exam <extra_id_8> nitrile <extra_id_9> 4.5mil <extra_id_10> 9.5in <extra_id_11> advancefit <extra_id_12> summit glove inc.', 'targets: <extra_id_0> blue <extra_id_1> large <extra_id_2> none <extra_id_3> powder-free <extra_id_4> none <extra_id_5> none <extra_id_6> none <extra_id_7> exam <extra_id_8> none <extra_id_9> 5mil <extra_id_10> 9.5in <extra_id_11> get-a-grip <extra_id_12> summit glove inc.', 'targets: <extra_id_0> blue <extra_id_1> medium <extra_id_2> none <extra_id_3> powder-free <extra_id_4> none <extra_id_5> none <extra_id_6> none <extra_id_7> exam <extra_id_8> none <extra_id_9> 5mil <extra_id_10> 9.5in <extra_id_11> get-a-grip <extra_id_12> summit glove inc.'] \n",
            "\n",
            "Example  23\n",
            "Description:  [\"description: disposable nitrile gloves class 400 - size largehepro.us nitrile disposable gloves deluxe class 400 blue 9 '' non-powdered textured 1 box of 100pcs- 10 boxes per case hepro.us disposable nitrile gloves class 400 - size large hepro.us inc .. The color of this item is <extra_id_0> . The size is <extra_id_1> . This item's sterile status is <extra_id_2> . The powdered status is <extra_id_3> . Its latex-free status is <extra_id_4> . It comes in <extra_id_5> per box. There are <extra_id_6> per case. It is used for <extra_id_7> . The material of this item is <extra_id_8> . This item is <extra_id_9> thick. It is <extra_id_10> long. The product name is <extra_id_11> . <extra_id_12> manufactures this.\", \"description: hepro.us- exam class latex gloves size x-large - case hepro.us inc. hepro.us- exam class latex gloves 100pcs per box , 10 boxes per carton. The color of this item is <extra_id_0> . The size is <extra_id_1> . This item's sterile status is <extra_id_2> . The powdered status is <extra_id_3> . Its latex-free status is <extra_id_4> . It comes in <extra_id_5> per box. There are <extra_id_6> per case. It is used for <extra_id_7> . The material of this item is <extra_id_8> . This item is <extra_id_9> thick. It is <extra_id_10> long. The product name is <extra_id_11> . <extra_id_12> manufactures this.\", \"description: premierpro svs llc premierpro powder free standard stretch vinyl exam glove x-large 100 count. The color of this item is <extra_id_0> . The size is <extra_id_1> . This item's sterile status is <extra_id_2> . The powdered status is <extra_id_3> . Its latex-free status is <extra_id_4> . It comes in <extra_id_5> per box. There are <extra_id_6> per case. It is used for <extra_id_7> . The material of this item is <extra_id_8> . This item is <extra_id_9> thick. It is <extra_id_10> long. The product name is <extra_id_11> . <extra_id_12> manufactures this.\", \"description: premierpro svs llc premierpro powder free standard stretch vinyl exam glove small 100 count. The color of this item is <extra_id_0> . The size is <extra_id_1> . This item's sterile status is <extra_id_2> . The powdered status is <extra_id_3> . Its latex-free status is <extra_id_4> . It comes in <extra_id_5> per box. There are <extra_id_6> per case. It is used for <extra_id_7> . The material of this item is <extra_id_8> . This item is <extra_id_9> thick. It is <extra_id_10> long. The product name is <extra_id_11> . <extra_id_12> manufactures this.\", \"description: premierpro svs llc premierpro powder free vinyl exam glove standard large 100 count. The color of this item is <extra_id_0> . The size is <extra_id_1> . This item's sterile status is <extra_id_2> . The powdered status is <extra_id_3> . Its latex-free status is <extra_id_4> . It comes in <extra_id_5> per box. There are <extra_id_6> per case. It is used for <extra_id_7> . The material of this item is <extra_id_8> . This item is <extra_id_9> thick. It is <extra_id_10> long. The product name is <extra_id_11> . <extra_id_12> manufactures this.\", \"description: premierpro svs llc premierpro powder free vinyl exam glove standard medium 100 count. The color of this item is <extra_id_0> . The size is <extra_id_1> . This item's sterile status is <extra_id_2> . The powdered status is <extra_id_3> . Its latex-free status is <extra_id_4> . It comes in <extra_id_5> per box. There are <extra_id_6> per case. It is used for <extra_id_7> . The material of this item is <extra_id_8> . This item is <extra_id_9> thick. It is <extra_id_10> long. The product name is <extra_id_11> . <extra_id_12> manufactures this.\", \"description: first call-in bag junior emergency medical products emergency medical products , inc .. The color of this item is <extra_id_0> . The size is <extra_id_1> . This item's sterile status is <extra_id_2> . The powdered status is <extra_id_3> . Its latex-free status is <extra_id_4> . It comes in <extra_id_5> per box. There are <extra_id_6> per case. It is used for <extra_id_7> . The material of this item is <extra_id_8> . This item is <extra_id_9> thick. It is <extra_id_10> long. The product name is <extra_id_11> . <extra_id_12> manufactures this.\", \"description: wisconsin first responder pediatric kit emergency medical products emergency medical products , inc .. The color of this item is <extra_id_0> . The size is <extra_id_1> . This item's sterile status is <extra_id_2> . The powdered status is <extra_id_3> . Its latex-free status is <extra_id_4> . It comes in <extra_id_5> per box. There are <extra_id_6> per case. It is used for <extra_id_7> . The material of this item is <extra_id_8> . This item is <extra_id_9> thick. It is <extra_id_10> long. The product name is <extra_id_11> . <extra_id_12> manufactures this.\", \"description: ifak officer down kit - orange pouch - basic emergency medical products emergency medical products , inc .. The color of this item is <extra_id_0> . The size is <extra_id_1> . This item's sterile status is <extra_id_2> . The powdered status is <extra_id_3> . Its latex-free status is <extra_id_4> . It comes in <extra_id_5> per box. There are <extra_id_6> per case. It is used for <extra_id_7> . The material of this item is <extra_id_8> . This item is <extra_id_9> thick. It is <extra_id_10> long. The product name is <extra_id_11> . <extra_id_12> manufactures this.\", \"description: hepro.us disposable nitrile gloves class 450 xl hepro.us inc. hepro.us nitrile disposable gloves deluxe class 450 , color blue , non-powdered , textured , size x-large , 1case of 10 boxes = 1,000 pcs. The color of this item is <extra_id_0> . The size is <extra_id_1> . This item's sterile status is <extra_id_2> . The powdered status is <extra_id_3> . Its latex-free status is <extra_id_4> . It comes in <extra_id_5> per box. There are <extra_id_6> per case. It is used for <extra_id_7> . The material of this item is <extra_id_8> . This item is <extra_id_9> thick. It is <extra_id_10> long. The product name is <extra_id_11> . <extra_id_12> manufactures this.\"]\n",
            "Target Text ['targets: <extra_id_0> blue <extra_id_1> large <extra_id_2> none <extra_id_3> powder-free <extra_id_4> none <extra_id_5> 100 pairs <extra_id_6> 10 boxes <extra_id_7> none <extra_id_8> nitrile <extra_id_9> none <extra_id_10> 9in <extra_id_11> 400 <extra_id_12> hepro.us inc.', 'targets: <extra_id_0> none <extra_id_1> extra-large <extra_id_2> none <extra_id_3> none <extra_id_4> latex <extra_id_5> 100 pairs <extra_id_6> 10 boxes <extra_id_7> exam <extra_id_8> none <extra_id_9> none <extra_id_10> none <extra_id_11> none <extra_id_12> hepro.us inc.', 'targets: <extra_id_0> none <extra_id_1> extra-large <extra_id_2> none <extra_id_3> powder-free <extra_id_4> none <extra_id_5> none <extra_id_6> none <extra_id_7> exam <extra_id_8> vinyl <extra_id_9> none <extra_id_10> none <extra_id_11> premierpro <extra_id_12> svs llc', 'targets: <extra_id_0> none <extra_id_1> small <extra_id_2> none <extra_id_3> powder-free <extra_id_4> none <extra_id_5> none <extra_id_6> none <extra_id_7> exam <extra_id_8> vinyl <extra_id_9> none <extra_id_10> none <extra_id_11> premierpro <extra_id_12> svs llc', 'targets: <extra_id_0> none <extra_id_1> large <extra_id_2> none <extra_id_3> powder-free <extra_id_4> none <extra_id_5> none <extra_id_6> none <extra_id_7> exam <extra_id_8> vinyl <extra_id_9> none <extra_id_10> none <extra_id_11> premierpro <extra_id_12> svs llc', 'targets: <extra_id_0> none <extra_id_1> medium <extra_id_2> none <extra_id_3> powder-free <extra_id_4> none <extra_id_5> none <extra_id_6> none <extra_id_7> exam <extra_id_8> vinyl <extra_id_9> none <extra_id_10> none <extra_id_11> premierpro <extra_id_12> svs llc', 'targets: <extra_id_0> none <extra_id_1> none <extra_id_2> none <extra_id_3> none <extra_id_4> none <extra_id_5> none <extra_id_6> none <extra_id_7> none <extra_id_8> none <extra_id_9> none <extra_id_10> none <extra_id_11> none <extra_id_12> emergency medical products inc.', 'targets: <extra_id_0> none <extra_id_1> none <extra_id_2> none <extra_id_3> none <extra_id_4> none <extra_id_5> none <extra_id_6> none <extra_id_7> none <extra_id_8> none <extra_id_9> none <extra_id_10> none <extra_id_11> none <extra_id_12> emergency medical products inc.', 'targets: <extra_id_0> orange <extra_id_1> none <extra_id_2> none <extra_id_3> none <extra_id_4> none <extra_id_5> none <extra_id_6> none <extra_id_7> none <extra_id_8> none <extra_id_9> none <extra_id_10> none <extra_id_11> none <extra_id_12> emergency medical products inc.', 'targets: <extra_id_0> blue <extra_id_1> extra-large <extra_id_2> none <extra_id_3> powder-free <extra_id_4> none <extra_id_5> 000 pairs <extra_id_6> 1 boxes <extra_id_7> none <extra_id_8> nitrile <extra_id_9> none <extra_id_10> none <extra_id_11> 450 <extra_id_12> hepro.us inc.']\n",
            "T5 Prediction ['targets: <extra_id_0> blue <extra_id_1> large <extra_id_2> none <extra_id_3> powder-free <extra_id_4> none <extra_id_5> 100 pairs <extra_id_6> 10 boxes <extra_id_7> none <extra_id_8> nitrile <extra_id_9> none <extra_id_10> 9in <extra_id_11> 400 <extra_id_12> hepro.us inc.', 'targets: <extra_id_0> none <extra_id_1> extra-large <extra_id_2> none <extra_id_3> none <extra_id_4> latex <extra_id_5> 100 pairs <extra_id_6> 10 boxes <extra_id_7> exam <extra_id_8> none <extra_id_9> none <extra_id_10> none <extra_id_11> none <extra_id_12> hepro.us inc.', 'targets: <extra_id_0> none <extra_id_1> extra-large <extra_id_2> none <extra_id_3> powder-free <extra_id_4> none <extra_id_5> none <extra_id_6> none <extra_id_7> exam <extra_id_8> vinyl <extra_id_9> none <extra_id_10> none <extra_id_11> premierpro <extra_id_12> svs llc', 'targets: <extra_id_0> none <extra_id_1> small <extra_id_2> none <extra_id_3> powder-free <extra_id_4> none <extra_id_5> none <extra_id_6> none <extra_id_7> exam <extra_id_8> vinyl <extra_id_9> none <extra_id_10> none <extra_id_11> premierpro <extra_id_12> svs llc', 'targets: <extra_id_0> none <extra_id_1> large <extra_id_2> none <extra_id_3> powder-free <extra_id_4> none <extra_id_5> none <extra_id_6> none <extra_id_7> exam <extra_id_8> vinyl <extra_id_9> none <extra_id_10> none <extra_id_11> premierpro <extra_id_12> svs llc', 'targets: <extra_id_0> none <extra_id_1> medium <extra_id_2> none <extra_id_3> powder-free <extra_id_4> none <extra_id_5> none <extra_id_6> none <extra_id_7> exam <extra_id_8> vinyl <extra_id_9> none <extra_id_10> none <extra_id_11> premierpro <extra_id_12> svs llc', 'targets: <extra_id_0> none <extra_id_1> none <extra_id_2> none <extra_id_3> none <extra_id_4> none <extra_id_5> none <extra_id_6> none <extra_id_7> none <extra_id_8> none <extra_id_9> none <extra_id_10> none <extra_id_11> none <extra_id_12> emergency medical products inc.', 'targets: <extra_id_0> none <extra_id_1> none <extra_id_2> none <extra_id_3> none <extra_id_4> none <extra_id_5> none <extra_id_6> none <extra_id_7> none <extra_id_8> none <extra_id_9> none <extra_id_10> none <extra_id_11> first responder <extra_id_12> emergency medical products inc.', 'targets: <extra_id_0> orange <extra_id_1> none <extra_id_2> none <extra_id_3> none <extra_id_4> none <extra_id_5> none <extra_id_6> none <extra_id_7> none <extra_id_8> none <extra_id_9> none <extra_id_10> none <extra_id_11> none <extra_id_12> emergency medical products inc.', 'targets: <extra_id_0> blue <extra_id_1> extra-large <extra_id_2> none <extra_id_3> powder-free <extra_id_4> none <extra_id_5> 000 pairs <extra_id_6> 1 boxes <extra_id_7> none <extra_id_8> nitrile <extra_id_9> none <extra_id_10> none <extra_id_11> 450 <extra_id_12> hepro.us inc.'] \n",
            "\n",
            "Example  24\n",
            "Description:  [\"description: hepro.us disposable nitrile gloves class 450 medium hepro.us inc. hepro.us nitrile disposable gloves deluxe class 450 , color blue , non-powdered , texture , size medium , 1case of 10 boxes = 1,000 pcs. The color of this item is <extra_id_0> . The size is <extra_id_1> . This item's sterile status is <extra_id_2> . The powdered status is <extra_id_3> . Its latex-free status is <extra_id_4> . It comes in <extra_id_5> per box. There are <extra_id_6> per case. It is used for <extra_id_7> . The material of this item is <extra_id_8> . This item is <extra_id_9> thick. It is <extra_id_10> long. The product name is <extra_id_11> . <extra_id_12> manufactures this.\", \"description: hepro.us nitrile standard class series 400 medium hepro.us inc. hepro.us nitrile standard class series 400disposable nitrile gloves series 400 , ambidextrous , color blue , size medium 1 box 100pcs. The color of this item is <extra_id_0> . The size is <extra_id_1> . This item's sterile status is <extra_id_2> . The powdered status is <extra_id_3> . Its latex-free status is <extra_id_4> . It comes in <extra_id_5> per box. There are <extra_id_6> per case. It is used for <extra_id_7> . The material of this item is <extra_id_8> . This item is <extra_id_9> thick. It is <extra_id_10> long. The product name is <extra_id_11> . <extra_id_12> manufactures this.\", \"description: primapro primary products company primapro gentleguard latex powder free examination glove large , 100 gloves/box , 10 box/case , 1,000 gloves/case , ambidextrous , beaded cuff , non-sterile , single use. The color of this item is <extra_id_0> . The size is <extra_id_1> . This item's sterile status is <extra_id_2> . The powdered status is <extra_id_3> . Its latex-free status is <extra_id_4> . It comes in <extra_id_5> per box. There are <extra_id_6> per case. It is used for <extra_id_7> . The material of this item is <extra_id_8> . This item is <extra_id_9> thick. It is <extra_id_10> long. The product name is <extra_id_11> . <extra_id_12> manufactures this.\", \"description: primapro gentleguard latex powder free examination glove medium , 100 gloves/box , 10 box/case , 1,000 gloves/case , ambidextrous , beaded cuff , non-sterile , single use primapro primary products company. The color of this item is <extra_id_0> . The size is <extra_id_1> . This item's sterile status is <extra_id_2> . The powdered status is <extra_id_3> . Its latex-free status is <extra_id_4> . It comes in <extra_id_5> per box. There are <extra_id_6> per case. It is used for <extra_id_7> . The material of this item is <extra_id_8> . This item is <extra_id_9> thick. It is <extra_id_10> long. The product name is <extra_id_11> . <extra_id_12> manufactures this.\", \"description: primapro primary products company primapro gentleguard comfort fit bagged nitrile powder free examination glove x-large , 200 gloves/bag , 10 bag/case , 2,000 gloves/case , ambidextrous , beaded cuff , non-sterile , single use. The color of this item is <extra_id_0> . The size is <extra_id_1> . This item's sterile status is <extra_id_2> . The powdered status is <extra_id_3> . Its latex-free status is <extra_id_4> . It comes in <extra_id_5> per box. There are <extra_id_6> per case. It is used for <extra_id_7> . The material of this item is <extra_id_8> . This item is <extra_id_9> thick. It is <extra_id_10> long. The product name is <extra_id_11> . <extra_id_12> manufactures this.\", \"description: primapro gentleguard comfort fit bagged nitrile powder free examination glove medium , 200 gloves/bag , 10 bag/case , 2,000 gloves/case , ambidextrous , beaded cuff , non-sterile , single use primapro primary products company. The color of this item is <extra_id_0> . The size is <extra_id_1> . This item's sterile status is <extra_id_2> . The powdered status is <extra_id_3> . Its latex-free status is <extra_id_4> . It comes in <extra_id_5> per box. There are <extra_id_6> per case. It is used for <extra_id_7> . The material of this item is <extra_id_8> . This item is <extra_id_9> thick. It is <extra_id_10> long. The product name is <extra_id_11> . <extra_id_12> manufactures this.\", \"description: primapro gentleguard comfort fit bagged nitrile powder free examination glove x-small , 200 gloves/bag , 10 bag/case , 2,000 gloves/case , ambidextrous , beaded cuff , non-sterile , single use primapro primary products company. The color of this item is <extra_id_0> . The size is <extra_id_1> . This item's sterile status is <extra_id_2> . The powdered status is <extra_id_3> . Its latex-free status is <extra_id_4> . It comes in <extra_id_5> per box. There are <extra_id_6> per case. It is used for <extra_id_7> . The material of this item is <extra_id_8> . This item is <extra_id_9> thick. It is <extra_id_10> long. The product name is <extra_id_11> . <extra_id_12> manufactures this.\", \"description: primapro primary products company primapro endurance black nitrile powder free examination glove xx-large , 90 gloves/box , 10 box/case , 900 gloves/case , ambidextrous , beaded cuff , non-sterile , single use. The color of this item is <extra_id_0> . The size is <extra_id_1> . This item's sterile status is <extra_id_2> . The powdered status is <extra_id_3> . Its latex-free status is <extra_id_4> . It comes in <extra_id_5> per box. There are <extra_id_6> per case. It is used for <extra_id_7> . The material of this item is <extra_id_8> . This item is <extra_id_9> thick. It is <extra_id_10> long. The product name is <extra_id_11> . <extra_id_12> manufactures this.\", \"description: 767pf series summit glove inc. 4mil , 9.5 '' in length , ambidextrous , examination grade glove , powder free , diamond pattern , blue , size 3x-large sample pack. The color of this item is <extra_id_0> . The size is <extra_id_1> . This item's sterile status is <extra_id_2> . The powdered status is <extra_id_3> . Its latex-free status is <extra_id_4> . It comes in <extra_id_5> per box. There are <extra_id_6> per case. It is used for <extra_id_7> . The material of this item is <extra_id_8> . This item is <extra_id_9> thick. It is <extra_id_10> long. The product name is <extra_id_11> . <extra_id_12> manufactures this.\", \"description: 4mil , 9.5 '' in length , ambidextrous , examination grade glove , powder free , diamond pattern , blue , size x-large 767pf series summit glove inc .. The color of this item is <extra_id_0> . The size is <extra_id_1> . This item's sterile status is <extra_id_2> . The powdered status is <extra_id_3> . Its latex-free status is <extra_id_4> . It comes in <extra_id_5> per box. There are <extra_id_6> per case. It is used for <extra_id_7> . The material of this item is <extra_id_8> . This item is <extra_id_9> thick. It is <extra_id_10> long. The product name is <extra_id_11> . <extra_id_12> manufactures this.\"]\n",
            "Target Text ['targets: <extra_id_0> blue <extra_id_1> medium <extra_id_2> none <extra_id_3> powder-free <extra_id_4> none <extra_id_5> 000 pairs <extra_id_6> 1 boxes <extra_id_7> none <extra_id_8> nitrile <extra_id_9> none <extra_id_10> none <extra_id_11> 450 <extra_id_12> hepro.us inc.', 'targets: <extra_id_0> blue <extra_id_1> medium <extra_id_2> none <extra_id_3> none <extra_id_4> none <extra_id_5> 100 pairs <extra_id_6> none <extra_id_7> none <extra_id_8> nitrile <extra_id_9> none <extra_id_10> none <extra_id_11> 400 <extra_id_12> hepro.us inc.', 'targets: <extra_id_0> none <extra_id_1> large <extra_id_2> non-sterile <extra_id_3> powder-free <extra_id_4> latex <extra_id_5> none <extra_id_6> 10 boxes <extra_id_7> exam <extra_id_8> none <extra_id_9> none <extra_id_10> none <extra_id_11> primapro <extra_id_12> primary products company', 'targets: <extra_id_0> none <extra_id_1> medium <extra_id_2> non-sterile <extra_id_3> powder-free <extra_id_4> latex <extra_id_5> none <extra_id_6> 10 boxes <extra_id_7> exam <extra_id_8> none <extra_id_9> none <extra_id_10> none <extra_id_11> primapro <extra_id_12> primary products company', 'targets: <extra_id_0> none <extra_id_1> extra-large <extra_id_2> non-sterile <extra_id_3> powder-free <extra_id_4> none <extra_id_5> none <extra_id_6> 10 boxes <extra_id_7> exam <extra_id_8> nitrile <extra_id_9> none <extra_id_10> none <extra_id_11> primapro <extra_id_12> primary products company', 'targets: <extra_id_0> none <extra_id_1> medium <extra_id_2> non-sterile <extra_id_3> powder-free <extra_id_4> none <extra_id_5> none <extra_id_6> 10 boxes <extra_id_7> exam <extra_id_8> nitrile <extra_id_9> none <extra_id_10> none <extra_id_11> primapro <extra_id_12> primary products company', 'targets: <extra_id_0> none <extra_id_1> extra-small <extra_id_2> non-sterile <extra_id_3> powder-free <extra_id_4> none <extra_id_5> none <extra_id_6> 10 boxes <extra_id_7> exam <extra_id_8> nitrile <extra_id_9> none <extra_id_10> none <extra_id_11> primapro <extra_id_12> primary products company', 'targets: <extra_id_0> black <extra_id_1> extra-extra-large <extra_id_2> non-sterile <extra_id_3> powder-free <extra_id_4> none <extra_id_5> none <extra_id_6> 10 boxes <extra_id_7> exam <extra_id_8> nitrile <extra_id_9> none <extra_id_10> none <extra_id_11> primapro <extra_id_12> primary products company', 'targets: <extra_id_0> blue <extra_id_1> extra-extra-extra-large <extra_id_2> none <extra_id_3> powder-free <extra_id_4> none <extra_id_5> none <extra_id_6> none <extra_id_7> exam <extra_id_8> none <extra_id_9> 4mil <extra_id_10> 9.5in <extra_id_11> 767pf <extra_id_12> summit glove inc.', 'targets: <extra_id_0> blue <extra_id_1> extra-large <extra_id_2> none <extra_id_3> powder-free <extra_id_4> none <extra_id_5> none <extra_id_6> none <extra_id_7> exam <extra_id_8> none <extra_id_9> 4mil <extra_id_10> 9.5in <extra_id_11> 767pf <extra_id_12> summit glove inc.']\n",
            "T5 Prediction ['targets: <extra_id_0> blue <extra_id_1> medium <extra_id_2> none <extra_id_3> powder-free <extra_id_4> none <extra_id_5> 000 pairs <extra_id_6> 1 boxes <extra_id_7> none <extra_id_8> nitrile <extra_id_9> none <extra_id_10> none <extra_id_11> 450 <extra_id_12> hepro.us inc.', 'targets: <extra_id_0> blue <extra_id_1> medium <extra_id_2> none <extra_id_3> none <extra_id_4> none <extra_id_5> 100 pairs <extra_id_6> none <extra_id_7> none <extra_id_8> nitrile <extra_id_9> none <extra_id_10> none <extra_id_11> 400 <extra_id_12> hepro.us inc.', 'targets: <extra_id_0> none <extra_id_1> large <extra_id_2> non-sterile <extra_id_3> powder-free <extra_id_4> latex <extra_id_5> none <extra_id_6> 10 boxes <extra_id_7> exam <extra_id_8> none <extra_id_9> none <extra_id_10> none <extra_id_11> primapro <extra_id_12> primary products company', 'targets: <extra_id_0> none <extra_id_1> medium <extra_id_2> non-sterile <extra_id_3> powder-free <extra_id_4> latex <extra_id_5> none <extra_id_6> 10 boxes <extra_id_7> exam <extra_id_8> none <extra_id_9> none <extra_id_10> none <extra_id_11> primapro <extra_id_12> primary products company', 'targets: <extra_id_0> none <extra_id_1> extra-large <extra_id_2> non-sterile <extra_id_3> powder-free <extra_id_4> none <extra_id_5> none <extra_id_6> 10 boxes <extra_id_7> exam <extra_id_8> nitrile <extra_id_9> none <extra_id_10> none <extra_id_11> primapro <extra_id_12> primary products company', 'targets: <extra_id_0> none <extra_id_1> medium <extra_id_2> non-sterile <extra_id_3> powder-free <extra_id_4> none <extra_id_5> none <extra_id_6> 10 boxes <extra_id_7> exam <extra_id_8> nitrile <extra_id_9> none <extra_id_10> none <extra_id_11> primapro <extra_id_12> primary products company', 'targets: <extra_id_0> none <extra_id_1> extra-small <extra_id_2> non-sterile <extra_id_3> powder-free <extra_id_4> none <extra_id_5> none <extra_id_6> 10 boxes <extra_id_7> exam <extra_id_8> nitrile <extra_id_9> none <extra_id_10> none <extra_id_11> primapro <extra_id_12> primary products company', 'targets: <extra_id_0> black <extra_id_1> extra-extra-large <extra_id_2> non-sterile <extra_id_3> powder-free <extra_id_4> none <extra_id_5> none <extra_id_6> 10 boxes <extra_id_7> exam <extra_id_8> nitrile <extra_id_9> none <extra_id_10> none <extra_id_11> primapro <extra_id_12> primary products company', 'targets: <extra_id_0> blue <extra_id_1> extra-extra-extra-large <extra_id_2> none <extra_id_3> powder-free <extra_id_4> none <extra_id_5> none <extra_id_6> none <extra_id_7> exam <extra_id_8> none <extra_id_9> 4mil <extra_id_10> 9.5in <extra_id_11> 767pf <extra_id_12> summit glove inc.', 'targets: <extra_id_0> blue <extra_id_1> extra-large <extra_id_2> none <extra_id_3> powder-free <extra_id_4> none <extra_id_5> none <extra_id_6> none <extra_id_7> exam <extra_id_8> none <extra_id_9> 4mil <extra_id_10> 9.5in <extra_id_11> 767pf <extra_id_12> summit glove inc.'] \n",
            "\n",
            "Example  25\n",
            "Description:  [\"description: get-a-grip summit glove inc. 5mil , 9.5 '' in length , ambidextrous , examination grade glove , powder free , raised diamond pattern , beaded cuff , blue , size 3x-large sample pack. The color of this item is <extra_id_0> . The size is <extra_id_1> . This item's sterile status is <extra_id_2> . The powdered status is <extra_id_3> . Its latex-free status is <extra_id_4> . It comes in <extra_id_5> per box. There are <extra_id_6> per case. It is used for <extra_id_7> . The material of this item is <extra_id_8> . This item is <extra_id_9> thick. It is <extra_id_10> long. The product name is <extra_id_11> . <extra_id_12> manufactures this.\", \"description: 4mil , 9.5 '' in length , nitrile , examination grade , ambidextrous , textured fingertips , powder free , aqua green , size small sample pack summit glove inc .. The color of this item is <extra_id_0> . The size is <extra_id_1> . This item's sterile status is <extra_id_2> . The powdered status is <extra_id_3> . Its latex-free status is <extra_id_4> . It comes in <extra_id_5> per box. There are <extra_id_6> per case. It is used for <extra_id_7> . The material of this item is <extra_id_8> . This item is <extra_id_9> thick. It is <extra_id_10> long. The product name is <extra_id_11> . <extra_id_12> manufactures this.\", \"description: nitritech ss summit glove inc. 3mil , 9.5 '' in length , nitrile , examination grade , ambidextrous , single use , powder free , beaded cuff , blue , size large sample pack. The color of this item is <extra_id_0> . The size is <extra_id_1> . This item's sterile status is <extra_id_2> . The powdered status is <extra_id_3> . Its latex-free status is <extra_id_4> . It comes in <extra_id_5> per box. There are <extra_id_6> per case. It is used for <extra_id_7> . The material of this item is <extra_id_8> . This item is <extra_id_9> thick. It is <extra_id_10> long. The product name is <extra_id_11> . <extra_id_12> manufactures this.\", \"description: nitritech ss summit glove inc. 3mil , 9.5 '' in length , nitrile , examination grade , ambidextrous , single use , powder free , beaded cuff , blue , size x-small sample pack. The color of this item is <extra_id_0> . The size is <extra_id_1> . This item's sterile status is <extra_id_2> . The powdered status is <extra_id_3> . Its latex-free status is <extra_id_4> . It comes in <extra_id_5> per box. There are <extra_id_6> per case. It is used for <extra_id_7> . The material of this item is <extra_id_8> . This item is <extra_id_9> thick. It is <extra_id_10> long. The product name is <extra_id_11> . <extra_id_12> manufactures this.\", \"description: resq-grip p h & s products llc 6mil fingertip , 9.5 '' in length , ambidextrous , examination grade glove , powder free , raised diamond pattern , beaded cuff , blue , size 2x-large sample pack. The color of this item is <extra_id_0> . The size is <extra_id_1> . This item's sterile status is <extra_id_2> . The powdered status is <extra_id_3> . Its latex-free status is <extra_id_4> . It comes in <extra_id_5> per box. There are <extra_id_6> per case. It is used for <extra_id_7> . The material of this item is <extra_id_8> . This item is <extra_id_9> thick. It is <extra_id_10> long. The product name is <extra_id_11> . <extra_id_12> manufactures this.\", \"description: resq-grip p h & s products llc 6mil fingertip , 9.5 '' in length , ambidextrous , examination grade glove , powder free , raised diamond pattern , beaded cuff , blue , size x-large sample pack. The color of this item is <extra_id_0> . The size is <extra_id_1> . This item's sterile status is <extra_id_2> . The powdered status is <extra_id_3> . Its latex-free status is <extra_id_4> . It comes in <extra_id_5> per box. There are <extra_id_6> per case. It is used for <extra_id_7> . The material of this item is <extra_id_8> . This item is <extra_id_9> thick. It is <extra_id_10> long. The product name is <extra_id_11> . <extra_id_12> manufactures this.\", \"description: resq-grip p h & s products llc 6mil fingertip , 9.5 '' in length , ambidextrous , examination grade glove , powder free , raised diamond pattern , beaded cuff , blue , size large sample pack. The color of this item is <extra_id_0> . The size is <extra_id_1> . This item's sterile status is <extra_id_2> . The powdered status is <extra_id_3> . Its latex-free status is <extra_id_4> . It comes in <extra_id_5> per box. There are <extra_id_6> per case. It is used for <extra_id_7> . The material of this item is <extra_id_8> . This item is <extra_id_9> thick. It is <extra_id_10> long. The product name is <extra_id_11> . <extra_id_12> manufactures this.\", \"description: resq-grip p h & s products llc 6mil fingertip , 9.5 '' in length , ambidextrous , examination grade glove , powder free , raised diamond pattern , beaded cuff , blue , size small sample pack. The color of this item is <extra_id_0> . The size is <extra_id_1> . This item's sterile status is <extra_id_2> . The powdered status is <extra_id_3> . Its latex-free status is <extra_id_4> . It comes in <extra_id_5> per box. There are <extra_id_6> per case. It is used for <extra_id_7> . The material of this item is <extra_id_8> . This item is <extra_id_9> thick. It is <extra_id_10> long. The product name is <extra_id_11> . <extra_id_12> manufactures this.\", \"description: 6mil , 12 '' in length , nitrile , examination grade , ambidextrous , powder free , microtextured finish , single use , beaded cuff , blue , size large sample pack nitritech ultra summit glove inc .. The color of this item is <extra_id_0> . The size is <extra_id_1> . This item's sterile status is <extra_id_2> . The powdered status is <extra_id_3> . Its latex-free status is <extra_id_4> . It comes in <extra_id_5> per box. There are <extra_id_6> per case. It is used for <extra_id_7> . The material of this item is <extra_id_8> . This item is <extra_id_9> thick. It is <extra_id_10> long. The product name is <extra_id_11> . <extra_id_12> manufactures this.\", \"description: ambinitrile summit glove inc. 11.5mil , 13 '' in length , nitrile , examination grade , ambidextrous , unlined , raised diamond pattern , beaded cuff , blue , size large sample pack. The color of this item is <extra_id_0> . The size is <extra_id_1> . This item's sterile status is <extra_id_2> . The powdered status is <extra_id_3> . Its latex-free status is <extra_id_4> . It comes in <extra_id_5> per box. There are <extra_id_6> per case. It is used for <extra_id_7> . The material of this item is <extra_id_8> . This item is <extra_id_9> thick. It is <extra_id_10> long. The product name is <extra_id_11> . <extra_id_12> manufactures this.\"]\n",
            "Target Text ['targets: <extra_id_0> blue <extra_id_1> extra-extra-extra-large <extra_id_2> none <extra_id_3> powder-free <extra_id_4> none <extra_id_5> none <extra_id_6> none <extra_id_7> exam <extra_id_8> none <extra_id_9> 5mil <extra_id_10> 9.5in <extra_id_11> get-a-grip <extra_id_12> summit glove inc.', 'targets: <extra_id_0> aqua green <extra_id_1> small <extra_id_2> none <extra_id_3> powder-free <extra_id_4> none <extra_id_5> none <extra_id_6> none <extra_id_7> exam <extra_id_8> nitrile <extra_id_9> 4mil <extra_id_10> 9.5in <extra_id_11> none <extra_id_12> summit glove inc.', 'targets: <extra_id_0> blue <extra_id_1> large <extra_id_2> none <extra_id_3> powder-free <extra_id_4> none <extra_id_5> none <extra_id_6> none <extra_id_7> exam <extra_id_8> nitrile <extra_id_9> 3mil <extra_id_10> 9.5in <extra_id_11> nitritech, ss <extra_id_12> summit glove inc.', 'targets: <extra_id_0> blue <extra_id_1> extra-small <extra_id_2> none <extra_id_3> powder-free <extra_id_4> none <extra_id_5> none <extra_id_6> none <extra_id_7> exam <extra_id_8> nitrile <extra_id_9> 3mil <extra_id_10> 9.5in <extra_id_11> nitritech, ss <extra_id_12> summit glove inc.', 'targets: <extra_id_0> blue <extra_id_1> extra-extra-large <extra_id_2> none <extra_id_3> powder-free <extra_id_4> none <extra_id_5> none <extra_id_6> none <extra_id_7> exam <extra_id_8> none <extra_id_9> 6mil <extra_id_10> 9.5in <extra_id_11> resq-grip <extra_id_12> p h & s products llc', 'targets: <extra_id_0> blue <extra_id_1> extra-large <extra_id_2> none <extra_id_3> powder-free <extra_id_4> none <extra_id_5> none <extra_id_6> none <extra_id_7> exam <extra_id_8> none <extra_id_9> 6mil <extra_id_10> 9.5in <extra_id_11> resq-grip <extra_id_12> p h & s products llc', 'targets: <extra_id_0> blue <extra_id_1> large <extra_id_2> none <extra_id_3> powder-free <extra_id_4> none <extra_id_5> none <extra_id_6> none <extra_id_7> exam <extra_id_8> none <extra_id_9> 6mil <extra_id_10> 9.5in <extra_id_11> resq-grip <extra_id_12> p h & s products llc', 'targets: <extra_id_0> blue <extra_id_1> small <extra_id_2> none <extra_id_3> powder-free <extra_id_4> none <extra_id_5> none <extra_id_6> none <extra_id_7> exam <extra_id_8> none <extra_id_9> 6mil <extra_id_10> 9.5in <extra_id_11> resq-grip <extra_id_12> p h & s products llc', 'targets: <extra_id_0> blue <extra_id_1> large <extra_id_2> none <extra_id_3> powder-free <extra_id_4> none <extra_id_5> none <extra_id_6> none <extra_id_7> exam <extra_id_8> nitrile <extra_id_9> 6mil <extra_id_10> 12in <extra_id_11> nitritech, ultra <extra_id_12> summit glove inc.', 'targets: <extra_id_0> blue <extra_id_1> large <extra_id_2> none <extra_id_3> none <extra_id_4> none <extra_id_5> none <extra_id_6> none <extra_id_7> exam <extra_id_8> nitrile <extra_id_9> 11.5mil <extra_id_10> 13in <extra_id_11> ambinitrile <extra_id_12> summit glove inc.']\n",
            "T5 Prediction ['targets: <extra_id_0> blue <extra_id_1> extra-extra-extra-large <extra_id_2> none <extra_id_3> powder-free <extra_id_4> none <extra_id_5> none <extra_id_6> none <extra_id_7> exam <extra_id_8> none <extra_id_9> 5mil <extra_id_10> 9.5in <extra_id_11> get-a-grip <extra_id_12> summit glove inc.', 'targets: <extra_id_0> aqua green <extra_id_1> small <extra_id_2> none <extra_id_3> powder-free <extra_id_4> none <extra_id_5> none <extra_id_6> none <extra_id_7> exam <extra_id_8> nitrile <extra_id_9> 4mil <extra_id_10> 9.5in <extra_id_11> none <extra_id_12> summit glove inc.', 'targets: <extra_id_0> blue <extra_id_1> large <extra_id_2> none <extra_id_3> powder-free <extra_id_4> none <extra_id_5> none <extra_id_6> none <extra_id_7> exam <extra_id_8> nitrile <extra_id_9> 3mil <extra_id_10> 9.5in <extra_id_11> nitritech, ss <extra_id_12> summit glove inc.', 'targets: <extra_id_0> blue <extra_id_1> extra-small <extra_id_2> none <extra_id_3> powder-free <extra_id_4> none <extra_id_5> none <extra_id_6> none <extra_id_7> exam <extra_id_8> nitrile <extra_id_9> 3mil <extra_id_10> 9.5in <extra_id_11> nitritech, ss <extra_id_12> summit glove inc.', 'targets: <extra_id_0> blue <extra_id_1> extra-extra-large <extra_id_2> none <extra_id_3> powder-free <extra_id_4> none <extra_id_5> none <extra_id_6> none <extra_id_7> exam <extra_id_8> none <extra_id_9> 6mil <extra_id_10> 9.5in <extra_id_11> resq-grip <extra_id_12> p h & s products llc', 'targets: <extra_id_0> blue <extra_id_1> extra-large <extra_id_2> none <extra_id_3> powder-free <extra_id_4> none <extra_id_5> none <extra_id_6> none <extra_id_7> exam <extra_id_8> none <extra_id_9> 6mil <extra_id_10> 9.5in <extra_id_11> resq-grip <extra_id_12> p h & s products llc', 'targets: <extra_id_0> blue <extra_id_1> large <extra_id_2> none <extra_id_3> powder-free <extra_id_4> none <extra_id_5> none <extra_id_6> none <extra_id_7> exam <extra_id_8> none <extra_id_9> 6mil <extra_id_10> 9.5in <extra_id_11> resq-grip <extra_id_12> p h & s products llc', 'targets: <extra_id_0> blue <extra_id_1> small <extra_id_2> none <extra_id_3> powder-free <extra_id_4> none <extra_id_5> none <extra_id_6> none <extra_id_7> exam <extra_id_8> none <extra_id_9> 6mil <extra_id_10> 9.5in <extra_id_11> resq-grip <extra_id_12> p h & s products llc', 'targets: <extra_id_0> blue <extra_id_1> large <extra_id_2> none <extra_id_3> powder-free <extra_id_4> none <extra_id_5> none <extra_id_6> none <extra_id_7> exam <extra_id_8> nitrile <extra_id_9> 6mil <extra_id_10> 12in <extra_id_11> nitritech, ultra <extra_id_12> summit glove inc.', 'targets: <extra_id_0> blue <extra_id_1> large <extra_id_2> none <extra_id_3> none <extra_id_4> none <extra_id_5> none <extra_id_6> none <extra_id_7> exam <extra_id_8> nitrile <extra_id_9> 11.5mil <extra_id_10> 13in <extra_id_11> ambinitrile <extra_id_12> summit glove inc.'] \n",
            "\n",
            "Example  26\n",
            "Description:  [\"description: ambinitrile summit glove inc. 11.5mil , 13 '' in length , nitrile , examination grade , ambidextrous , unlined , raised diamond pattern , beaded cuff , blue , size medium sample pack. The color of this item is <extra_id_0> . The size is <extra_id_1> . This item's sterile status is <extra_id_2> . The powdered status is <extra_id_3> . Its latex-free status is <extra_id_4> . It comes in <extra_id_5> per box. There are <extra_id_6> per case. It is used for <extra_id_7> . The material of this item is <extra_id_8> . This item is <extra_id_9> thick. It is <extra_id_10> long. The product name is <extra_id_11> . <extra_id_12> manufactures this.\", \"description: ambicanner summit glove inc. 12mil , 12 '' in length , latex , examination grade , unlined , ambidextrous , fishscale , beaded cuff , amber color , size medium sample pack. The color of this item is <extra_id_0> . The size is <extra_id_1> . This item's sterile status is <extra_id_2> . The powdered status is <extra_id_3> . Its latex-free status is <extra_id_4> . It comes in <extra_id_5> per box. There are <extra_id_6> per case. It is used for <extra_id_7> . The material of this item is <extra_id_8> . This item is <extra_id_9> thick. It is <extra_id_10> long. The product name is <extra_id_11> . <extra_id_12> manufactures this.\", \"description: 4.5mil , 9.5 '' in length , nitrile , examination grade , ambidextrous , powder free , beaded cuff , light blue color , size x-large sample pack advancefit summit glove inc .. The color of this item is <extra_id_0> . The size is <extra_id_1> . This item's sterile status is <extra_id_2> . The powdered status is <extra_id_3> . Its latex-free status is <extra_id_4> . It comes in <extra_id_5> per box. There are <extra_id_6> per case. It is used for <extra_id_7> . The material of this item is <extra_id_8> . This item is <extra_id_9> thick. It is <extra_id_10> long. The product name is <extra_id_11> . <extra_id_12> manufactures this.\", \"description: advancefit summit glove inc. 4.5mil , 9.5 '' in length , nitrile , examination grade , ambidextrous , powder free , beaded cuff , black color , size small sample pack. The color of this item is <extra_id_0> . The size is <extra_id_1> . This item's sterile status is <extra_id_2> . The powdered status is <extra_id_3> . Its latex-free status is <extra_id_4> . It comes in <extra_id_5> per box. There are <extra_id_6> per case. It is used for <extra_id_7> . The material of this item is <extra_id_8> . This item is <extra_id_9> thick. It is <extra_id_10> long. The product name is <extra_id_11> . <extra_id_12> manufactures this.\", \"description: advancefit summit glove inc. 4.5mil , 9.5 '' in length , nitrile , examination grade , ambidextrous , powder free , beaded cuff , orange color , size large sample pack. The color of this item is <extra_id_0> . The size is <extra_id_1> . This item's sterile status is <extra_id_2> . The powdered status is <extra_id_3> . Its latex-free status is <extra_id_4> . It comes in <extra_id_5> per box. There are <extra_id_6> per case. It is used for <extra_id_7> . The material of this item is <extra_id_8> . This item is <extra_id_9> thick. It is <extra_id_10> long. The product name is <extra_id_11> . <extra_id_12> manufactures this.\", \"description: resq-grip summit glove inc. 5mil , 9.5 '' in length , ambidextrous , examination grade glove , powder free , raised diamond pattern , beaded cuff , black , size small. The color of this item is <extra_id_0> . The size is <extra_id_1> . This item's sterile status is <extra_id_2> . The powdered status is <extra_id_3> . Its latex-free status is <extra_id_4> . It comes in <extra_id_5> per box. There are <extra_id_6> per case. It is used for <extra_id_7> . The material of this item is <extra_id_8> . This item is <extra_id_9> thick. It is <extra_id_10> long. The product name is <extra_id_11> . <extra_id_12> manufactures this.\", \"description: resq-grip summit glove inc. 5mil , 9.5 '' in length , ambidextrous , examination grade glove , powder free , raised diamond pattern , beaded cuff , blue , size 3x-large. The color of this item is <extra_id_0> . The size is <extra_id_1> . This item's sterile status is <extra_id_2> . The powdered status is <extra_id_3> . Its latex-free status is <extra_id_4> . It comes in <extra_id_5> per box. There are <extra_id_6> per case. It is used for <extra_id_7> . The material of this item is <extra_id_8> . This item is <extra_id_9> thick. It is <extra_id_10> long. The product name is <extra_id_11> . <extra_id_12> manufactures this.\", \"description: resq-grip summit glove inc. 5mil , 9.5 '' in length , ambidextrous , examination grade glove , powder free , raised diamond pattern , beaded cuff , blue , size small. The color of this item is <extra_id_0> . The size is <extra_id_1> . This item's sterile status is <extra_id_2> . The powdered status is <extra_id_3> . Its latex-free status is <extra_id_4> . It comes in <extra_id_5> per box. There are <extra_id_6> per case. It is used for <extra_id_7> . The material of this item is <extra_id_8> . This item is <extra_id_9> thick. It is <extra_id_10> long. The product name is <extra_id_11> . <extra_id_12> manufactures this.\", \"description: 4.5mil , 9.5 '' in length , nitrile , examination grade , ambidextrous , powder free , beaded cuff , light blue color , size medium advancefit summit glove inc .. The color of this item is <extra_id_0> . The size is <extra_id_1> . This item's sterile status is <extra_id_2> . The powdered status is <extra_id_3> . Its latex-free status is <extra_id_4> . It comes in <extra_id_5> per box. There are <extra_id_6> per case. It is used for <extra_id_7> . The material of this item is <extra_id_8> . This item is <extra_id_9> thick. It is <extra_id_10> long. The product name is <extra_id_11> . <extra_id_12> manufactures this.\", \"description: 4mil , 9.5 '' in length , nitrile , examination grade , ambidextrous , textured fingertips , powder free , aqua green , size 2x-large summit glove inc .. The color of this item is <extra_id_0> . The size is <extra_id_1> . This item's sterile status is <extra_id_2> . The powdered status is <extra_id_3> . Its latex-free status is <extra_id_4> . It comes in <extra_id_5> per box. There are <extra_id_6> per case. It is used for <extra_id_7> . The material of this item is <extra_id_8> . This item is <extra_id_9> thick. It is <extra_id_10> long. The product name is <extra_id_11> . <extra_id_12> manufactures this.\"]\n",
            "Target Text ['targets: <extra_id_0> blue <extra_id_1> medium <extra_id_2> none <extra_id_3> none <extra_id_4> none <extra_id_5> none <extra_id_6> none <extra_id_7> exam <extra_id_8> nitrile <extra_id_9> 11.5mil <extra_id_10> 13in <extra_id_11> ambinitrile <extra_id_12> summit glove inc.', 'targets: <extra_id_0> amber <extra_id_1> medium <extra_id_2> none <extra_id_3> none <extra_id_4> latex <extra_id_5> none <extra_id_6> none <extra_id_7> exam <extra_id_8> none <extra_id_9> 12mil <extra_id_10> 12in <extra_id_11> ambicanner <extra_id_12> summit glove inc.', 'targets: <extra_id_0> light blue <extra_id_1> extra-large <extra_id_2> none <extra_id_3> powder-free <extra_id_4> none <extra_id_5> none <extra_id_6> none <extra_id_7> exam <extra_id_8> nitrile <extra_id_9> 4.5mil <extra_id_10> 9.5in <extra_id_11> advancefit <extra_id_12> summit glove inc.', 'targets: <extra_id_0> black <extra_id_1> small <extra_id_2> none <extra_id_3> powder-free <extra_id_4> none <extra_id_5> none <extra_id_6> none <extra_id_7> exam <extra_id_8> nitrile <extra_id_9> 4.5mil <extra_id_10> 9.5in <extra_id_11> advancefit <extra_id_12> summit glove inc.', 'targets: <extra_id_0> orange <extra_id_1> large <extra_id_2> none <extra_id_3> powder-free <extra_id_4> none <extra_id_5> none <extra_id_6> none <extra_id_7> exam <extra_id_8> nitrile <extra_id_9> 4.5mil <extra_id_10> 9.5in <extra_id_11> advancefit <extra_id_12> summit glove inc.', 'targets: <extra_id_0> black <extra_id_1> small <extra_id_2> none <extra_id_3> powder-free <extra_id_4> none <extra_id_5> none <extra_id_6> none <extra_id_7> exam <extra_id_8> none <extra_id_9> 5mil <extra_id_10> 9.5in <extra_id_11> resq-grip <extra_id_12> summit glove inc.', 'targets: <extra_id_0> blue <extra_id_1> extra-extra-extra-large <extra_id_2> none <extra_id_3> powder-free <extra_id_4> none <extra_id_5> none <extra_id_6> none <extra_id_7> exam <extra_id_8> none <extra_id_9> 5mil <extra_id_10> 9.5in <extra_id_11> resq-grip <extra_id_12> summit glove inc.', 'targets: <extra_id_0> blue <extra_id_1> small <extra_id_2> none <extra_id_3> powder-free <extra_id_4> none <extra_id_5> none <extra_id_6> none <extra_id_7> exam <extra_id_8> none <extra_id_9> 5mil <extra_id_10> 9.5in <extra_id_11> resq-grip <extra_id_12> summit glove inc.', 'targets: <extra_id_0> light blue <extra_id_1> medium <extra_id_2> none <extra_id_3> powder-free <extra_id_4> none <extra_id_5> none <extra_id_6> none <extra_id_7> exam <extra_id_8> nitrile <extra_id_9> 4.5mil <extra_id_10> 9.5in <extra_id_11> advancefit <extra_id_12> summit glove inc.', 'targets: <extra_id_0> aqua green <extra_id_1> extra-extra-large <extra_id_2> none <extra_id_3> powder-free <extra_id_4> none <extra_id_5> none <extra_id_6> none <extra_id_7> exam <extra_id_8> nitrile <extra_id_9> 4mil <extra_id_10> 9.5in <extra_id_11> none <extra_id_12> summit glove inc.']\n",
            "T5 Prediction ['targets: <extra_id_0> blue <extra_id_1> medium <extra_id_2> none <extra_id_3> none <extra_id_4> none <extra_id_5> none <extra_id_6> none <extra_id_7> exam <extra_id_8> nitrile <extra_id_9> 11.5mil <extra_id_10> 13in <extra_id_11> ambinitrile <extra_id_12> summit glove inc.', 'targets: <extra_id_0> amber <extra_id_1> medium <extra_id_2> none <extra_id_3> none <extra_id_4> latex <extra_id_5> none <extra_id_6> none <extra_id_7> exam <extra_id_8> none <extra_id_9> 12mil <extra_id_10> 12in <extra_id_11> ambicanner <extra_id_12> summit glove inc.', 'targets: <extra_id_0> light blue <extra_id_1> extra-large <extra_id_2> none <extra_id_3> powder-free <extra_id_4> none <extra_id_5> none <extra_id_6> none <extra_id_7> exam <extra_id_8> nitrile <extra_id_9> 4.5mil <extra_id_10> 9.5in <extra_id_11> advancefit <extra_id_12> summit glove inc.', 'targets: <extra_id_0> black <extra_id_1> small <extra_id_2> none <extra_id_3> powder-free <extra_id_4> none <extra_id_5> none <extra_id_6> none <extra_id_7> exam <extra_id_8> nitrile <extra_id_9> 4.5mil <extra_id_10> 9.5in <extra_id_11> advancefit <extra_id_12> summit glove inc.', 'targets: <extra_id_0> orange <extra_id_1> large <extra_id_2> none <extra_id_3> powder-free <extra_id_4> none <extra_id_5> none <extra_id_6> none <extra_id_7> exam <extra_id_8> nitrile <extra_id_9> 4.5mil <extra_id_10> 9.5in <extra_id_11> advancefit <extra_id_12> summit glove inc.', 'targets: <extra_id_0> black <extra_id_1> small <extra_id_2> none <extra_id_3> powder-free <extra_id_4> none <extra_id_5> none <extra_id_6> none <extra_id_7> exam <extra_id_8> none <extra_id_9> 5mil <extra_id_10> 9.5in <extra_id_11> resq-grip <extra_id_12> summit glove inc.', 'targets: <extra_id_0> blue <extra_id_1> extra-extra-extra-large <extra_id_2> none <extra_id_3> powder-free <extra_id_4> none <extra_id_5> none <extra_id_6> none <extra_id_7> exam <extra_id_8> none <extra_id_9> 5mil <extra_id_10> 9.5in <extra_id_11> resq-grip <extra_id_12> summit glove inc.', 'targets: <extra_id_0> blue <extra_id_1> small <extra_id_2> none <extra_id_3> powder-free <extra_id_4> none <extra_id_5> none <extra_id_6> none <extra_id_7> exam <extra_id_8> none <extra_id_9> 5mil <extra_id_10> 9.5in <extra_id_11> resq-grip <extra_id_12> summit glove inc.', 'targets: <extra_id_0> light blue <extra_id_1> medium <extra_id_2> none <extra_id_3> powder-free <extra_id_4> none <extra_id_5> none <extra_id_6> none <extra_id_7> exam <extra_id_8> nitrile <extra_id_9> 4.5mil <extra_id_10> 9.5in <extra_id_11> advancefit <extra_id_12> summit glove inc.', 'targets: <extra_id_0> aqua green <extra_id_1> extra-extra-large <extra_id_2> none <extra_id_3> powder-free <extra_id_4> none <extra_id_5> none <extra_id_6> none <extra_id_7> exam <extra_id_8> nitrile <extra_id_9> 4mil <extra_id_10> 9.5in <extra_id_11> none <extra_id_12> summit glove inc.'] \n",
            "\n",
            "Example  27\n",
            "Description:  [\"description: nitritech summit glove inc. 4.5mil , 9.5 '' in length , nitrile , examination grade , ambidextrous , single use , micro-textured finish , powder free , beaded cuff , blue , size medium. The color of this item is <extra_id_0> . The size is <extra_id_1> . This item's sterile status is <extra_id_2> . The powdered status is <extra_id_3> . Its latex-free status is <extra_id_4> . It comes in <extra_id_5> per box. There are <extra_id_6> per case. It is used for <extra_id_7> . The material of this item is <extra_id_8> . This item is <extra_id_9> thick. It is <extra_id_10> long. The product name is <extra_id_11> . <extra_id_12> manufactures this.\", \"description: milker 's helpers summit glove inc. 5mil , 9.5 '' in length , nitrile , examination grade , micro-textured , ambidextrous , single use , rolled cuff , powder free , blue , size medium. The color of this item is <extra_id_0> . The size is <extra_id_1> . This item's sterile status is <extra_id_2> . The powdered status is <extra_id_3> . Its latex-free status is <extra_id_4> . It comes in <extra_id_5> per box. There are <extra_id_6> per case. It is used for <extra_id_7> . The material of this item is <extra_id_8> . This item is <extra_id_9> thick. It is <extra_id_10> long. The product name is <extra_id_11> . <extra_id_12> manufactures this.\", \"description: 6mil , 12 '' in length , nitrile , examination grade , ambidextrous , powder free , microtextured finish , single use , beaded cuff , blue , size 4xlarge nitritech ultra summit glove inc .. The color of this item is <extra_id_0> . The size is <extra_id_1> . This item's sterile status is <extra_id_2> . The powdered status is <extra_id_3> . Its latex-free status is <extra_id_4> . It comes in <extra_id_5> per box. There are <extra_id_6> per case. It is used for <extra_id_7> . The material of this item is <extra_id_8> . This item is <extra_id_9> thick. It is <extra_id_10> long. The product name is <extra_id_11> . <extra_id_12> manufactures this.\", \"description: ambinitrile summit glove inc. 11.5mil , 13 '' in length , nitrile , examination grade , ambidextrous , unlined , raised diamond pattern , beaded cuff , blue , size large. The color of this item is <extra_id_0> . The size is <extra_id_1> . This item's sterile status is <extra_id_2> . The powdered status is <extra_id_3> . Its latex-free status is <extra_id_4> . It comes in <extra_id_5> per box. There are <extra_id_6> per case. It is used for <extra_id_7> . The material of this item is <extra_id_8> . This item is <extra_id_9> thick. It is <extra_id_10> long. The product name is <extra_id_11> . <extra_id_12> manufactures this.\", \"description: ambicanner summit glove inc. 12mil , 12 '' in length , latex , examination grade , unlined , ambidextrous , fishscale , beaded cuff , blue color , size large. The color of this item is <extra_id_0> . The size is <extra_id_1> . This item's sterile status is <extra_id_2> . The powdered status is <extra_id_3> . Its latex-free status is <extra_id_4> . It comes in <extra_id_5> per box. There are <extra_id_6> per case. It is used for <extra_id_7> . The material of this item is <extra_id_8> . This item is <extra_id_9> thick. It is <extra_id_10> long. The product name is <extra_id_11> . <extra_id_12> manufactures this.\", \"description: ambicanner summit glove inc. 12mil , 12 '' in length , latex , examination grade , unlined , ambidextrous , fishscale , beaded cuff , blue color , size medium. The color of this item is <extra_id_0> . The size is <extra_id_1> . This item's sterile status is <extra_id_2> . The powdered status is <extra_id_3> . Its latex-free status is <extra_id_4> . It comes in <extra_id_5> per box. There are <extra_id_6> per case. It is used for <extra_id_7> . The material of this item is <extra_id_8> . This item is <extra_id_9> thick. It is <extra_id_10> long. The product name is <extra_id_11> . <extra_id_12> manufactures this.\", \"description: mh mazza healthcare llc nitrile examination gloves , 3.0 g , chemo rated , latex-free , powder-free , non-sterile , x-small , 100/box. The color of this item is <extra_id_0> . The size is <extra_id_1> . This item's sterile status is <extra_id_2> . The powdered status is <extra_id_3> . Its latex-free status is <extra_id_4> . It comes in <extra_id_5> per box. There are <extra_id_6> per case. It is used for <extra_id_7> . The material of this item is <extra_id_8> . This item is <extra_id_9> thick. It is <extra_id_10> long. The product name is <extra_id_11> . <extra_id_12> manufactures this.\", \"description: mh mazza healthcare llc nitrile examination gloves , 3.2 g , low dermatitis , chemo rated , latex-free , powder-free , non-sterile , medium , 100/box. The color of this item is <extra_id_0> . The size is <extra_id_1> . This item's sterile status is <extra_id_2> . The powdered status is <extra_id_3> . Its latex-free status is <extra_id_4> . It comes in <extra_id_5> per box. There are <extra_id_6> per case. It is used for <extra_id_7> . The material of this item is <extra_id_8> . This item is <extra_id_9> thick. It is <extra_id_10> long. The product name is <extra_id_11> . <extra_id_12> manufactures this.\", \"description: mh mazza healthcare llc nitrile examination gloves , 3.0 g , chemo rated , latex-free , powder-free , non-sterile , medium , 100/box. The color of this item is <extra_id_0> . The size is <extra_id_1> . This item's sterile status is <extra_id_2> . The powdered status is <extra_id_3> . Its latex-free status is <extra_id_4> . It comes in <extra_id_5> per box. There are <extra_id_6> per case. It is used for <extra_id_7> . The material of this item is <extra_id_8> . This item is <extra_id_9> thick. It is <extra_id_10> long. The product name is <extra_id_11> . <extra_id_12> manufactures this.\", \"description: mh mazza healthcare llc nitrile examination gloves , 3.0 g , chemo rated , latex-free , powder-free , non-sterile , small , 100/box. The color of this item is <extra_id_0> . The size is <extra_id_1> . This item's sterile status is <extra_id_2> . The powdered status is <extra_id_3> . Its latex-free status is <extra_id_4> . It comes in <extra_id_5> per box. There are <extra_id_6> per case. It is used for <extra_id_7> . The material of this item is <extra_id_8> . This item is <extra_id_9> thick. It is <extra_id_10> long. The product name is <extra_id_11> . <extra_id_12> manufactures this.\"]\n",
            "Target Text ['targets: <extra_id_0> blue <extra_id_1> medium <extra_id_2> none <extra_id_3> powder-free <extra_id_4> none <extra_id_5> none <extra_id_6> none <extra_id_7> exam <extra_id_8> nitrile <extra_id_9> 4.5mil <extra_id_10> 9.5in <extra_id_11> nitritech <extra_id_12> summit glove inc.', 'targets: <extra_id_0> blue <extra_id_1> medium <extra_id_2> none <extra_id_3> powder-free <extra_id_4> none <extra_id_5> none <extra_id_6> none <extra_id_7> exam <extra_id_8> nitrile <extra_id_9> 5mil <extra_id_10> 9.5in <extra_id_11> none <extra_id_12> summit glove inc.', 'targets: <extra_id_0> blue <extra_id_1> none <extra_id_2> none <extra_id_3> powder-free <extra_id_4> none <extra_id_5> none <extra_id_6> none <extra_id_7> exam <extra_id_8> nitrile <extra_id_9> 6mil <extra_id_10> 12in <extra_id_11> nitritech, ultra <extra_id_12> summit glove inc.', 'targets: <extra_id_0> blue <extra_id_1> large <extra_id_2> none <extra_id_3> none <extra_id_4> none <extra_id_5> none <extra_id_6> none <extra_id_7> exam <extra_id_8> nitrile <extra_id_9> 11.5mil <extra_id_10> 13in <extra_id_11> ambinitrile <extra_id_12> summit glove inc.', 'targets: <extra_id_0> blue <extra_id_1> large <extra_id_2> none <extra_id_3> none <extra_id_4> latex <extra_id_5> none <extra_id_6> none <extra_id_7> exam <extra_id_8> none <extra_id_9> 12mil <extra_id_10> 12in <extra_id_11> ambicanner <extra_id_12> summit glove inc.', 'targets: <extra_id_0> blue <extra_id_1> medium <extra_id_2> none <extra_id_3> none <extra_id_4> latex <extra_id_5> none <extra_id_6> none <extra_id_7> exam <extra_id_8> none <extra_id_9> 12mil <extra_id_10> 12in <extra_id_11> ambicanner <extra_id_12> summit glove inc.', 'targets: <extra_id_0> none <extra_id_1> extra-small <extra_id_2> non-sterile <extra_id_3> powder-free <extra_id_4> latex-free <extra_id_5> 100 pairs <extra_id_6> none <extra_id_7> exam, chemo <extra_id_8> nitrile <extra_id_9> none <extra_id_10> none <extra_id_11> none <extra_id_12> mazza healthcare llc', 'targets: <extra_id_0> none <extra_id_1> medium <extra_id_2> non-sterile <extra_id_3> powder-free <extra_id_4> latex-free <extra_id_5> 100 pairs <extra_id_6> none <extra_id_7> exam, chemo <extra_id_8> nitrile <extra_id_9> none <extra_id_10> none <extra_id_11> none <extra_id_12> mazza healthcare llc', 'targets: <extra_id_0> none <extra_id_1> medium <extra_id_2> non-sterile <extra_id_3> powder-free <extra_id_4> latex-free <extra_id_5> 100 pairs <extra_id_6> none <extra_id_7> exam, chemo <extra_id_8> nitrile <extra_id_9> none <extra_id_10> none <extra_id_11> none <extra_id_12> mazza healthcare llc', 'targets: <extra_id_0> none <extra_id_1> small <extra_id_2> non-sterile <extra_id_3> powder-free <extra_id_4> latex-free <extra_id_5> 100 pairs <extra_id_6> none <extra_id_7> exam, chemo <extra_id_8> nitrile <extra_id_9> none <extra_id_10> none <extra_id_11> none <extra_id_12> mazza healthcare llc']\n",
            "T5 Prediction ['targets: <extra_id_0> blue <extra_id_1> medium <extra_id_2> none <extra_id_3> powder-free <extra_id_4> none <extra_id_5> none <extra_id_6> none <extra_id_7> exam <extra_id_8> nitrile <extra_id_9> 4.5mil <extra_id_10> 9.5in <extra_id_11> nitritech <extra_id_12> summit glove inc.', 'targets: <extra_id_0> blue <extra_id_1> medium <extra_id_2> none <extra_id_3> powder-free <extra_id_4> none <extra_id_5> none <extra_id_6> none <extra_id_7> exam <extra_id_8> nitrile <extra_id_9> 5mil <extra_id_10> 9.5in <extra_id_11> none <extra_id_12> summit glove inc.', 'targets: <extra_id_0> blue <extra_id_1> extra-extra-large <extra_id_2> none <extra_id_3> powder-free <extra_id_4> none <extra_id_5> none <extra_id_6> none <extra_id_7> exam <extra_id_8> nitrile <extra_id_9> 6mil <extra_id_10> 12in <extra_id_11> nitritech, ultra <extra_id_12> summit glove inc.', 'targets: <extra_id_0> blue <extra_id_1> large <extra_id_2> none <extra_id_3> none <extra_id_4> none <extra_id_5> none <extra_id_6> none <extra_id_7> exam <extra_id_8> nitrile <extra_id_9> 11.5mil <extra_id_10> 13in <extra_id_11> ambinitrile <extra_id_12> summit glove inc.', 'targets: <extra_id_0> blue <extra_id_1> large <extra_id_2> none <extra_id_3> none <extra_id_4> latex <extra_id_5> none <extra_id_6> none <extra_id_7> exam <extra_id_8> none <extra_id_9> 12mil <extra_id_10> 12in <extra_id_11> ambicanner <extra_id_12> summit glove inc.', 'targets: <extra_id_0> blue <extra_id_1> medium <extra_id_2> none <extra_id_3> none <extra_id_4> latex <extra_id_5> none <extra_id_6> none <extra_id_7> exam <extra_id_8> none <extra_id_9> 12mil <extra_id_10> 12in <extra_id_11> ambicanner <extra_id_12> summit glove inc.', 'targets: <extra_id_0> none <extra_id_1> extra-small <extra_id_2> non-sterile <extra_id_3> powder-free <extra_id_4> latex-free <extra_id_5> 100 pairs <extra_id_6> none <extra_id_7> exam, chemo <extra_id_8> nitrile <extra_id_9> none <extra_id_10> none <extra_id_11> none <extra_id_12> mazza healthcare llc', 'targets: <extra_id_0> none <extra_id_1> medium <extra_id_2> non-sterile <extra_id_3> powder-free <extra_id_4> latex-free <extra_id_5> 100 pairs <extra_id_6> none <extra_id_7> exam, chemo <extra_id_8> nitrile <extra_id_9> none <extra_id_10> none <extra_id_11> none <extra_id_12> mazza healthcare llc', 'targets: <extra_id_0> none <extra_id_1> medium <extra_id_2> non-sterile <extra_id_3> powder-free <extra_id_4> latex-free <extra_id_5> 100 pairs <extra_id_6> none <extra_id_7> exam, chemo <extra_id_8> nitrile <extra_id_9> none <extra_id_10> none <extra_id_11> none <extra_id_12> mazza healthcare llc', 'targets: <extra_id_0> none <extra_id_1> small <extra_id_2> non-sterile <extra_id_3> powder-free <extra_id_4> latex-free <extra_id_5> 100 pairs <extra_id_6> none <extra_id_7> exam, chemo <extra_id_8> nitrile <extra_id_9> none <extra_id_10> none <extra_id_11> none <extra_id_12> mazza healthcare llc'] \n",
            "\n",
            "Example  28\n",
            "Description:  [\"description: mh mazza healthcare llc nitrile examination gloves , 3.0g , chemo rated , latex-free , powder-free , non-sterile , medium , 250/box. The color of this item is <extra_id_0> . The size is <extra_id_1> . This item's sterile status is <extra_id_2> . The powdered status is <extra_id_3> . Its latex-free status is <extra_id_4> . It comes in <extra_id_5> per box. There are <extra_id_6> per case. It is used for <extra_id_7> . The material of this item is <extra_id_8> . This item is <extra_id_9> thick. It is <extra_id_10> long. The product name is <extra_id_11> . <extra_id_12> manufactures this.\", \"description: intercept p h & s products llc 7mil fingertip , 12 '' in length , nitrile , nfpa approved , accelerator , sulfur & zinc free , powder free , textured finger tips , steel blue , size large. The color of this item is <extra_id_0> . The size is <extra_id_1> . This item's sterile status is <extra_id_2> . The powdered status is <extra_id_3> . Its latex-free status is <extra_id_4> . It comes in <extra_id_5> per box. There are <extra_id_6> per case. It is used for <extra_id_7> . The material of this item is <extra_id_8> . This item is <extra_id_9> thick. It is <extra_id_10> long. The product name is <extra_id_11> . <extra_id_12> manufactures this.\", \"description: flextreme p h & s products llc 5mil fingertip , 12 '' in length , nitrile , nfpa approved , accelerator , sulfur & zinc free , powder free , textured finger tips , steel blue , size small. The color of this item is <extra_id_0> . The size is <extra_id_1> . This item's sterile status is <extra_id_2> . The powdered status is <extra_id_3> . Its latex-free status is <extra_id_4> . It comes in <extra_id_5> per box. There are <extra_id_6> per case. It is used for <extra_id_7> . The material of this item is <extra_id_8> . This item is <extra_id_9> thick. It is <extra_id_10> long. The product name is <extra_id_11> . <extra_id_12> manufactures this.\", \"description: vital shield sc p h & s products llc 7mil fingertip , 9.5 '' in length , nitrile , nfpa approved , accelerator , sulfur & zinc free , powder free , textured finger tips , white , size small. The color of this item is <extra_id_0> . The size is <extra_id_1> . This item's sterile status is <extra_id_2> . The powdered status is <extra_id_3> . Its latex-free status is <extra_id_4> . It comes in <extra_id_5> per box. There are <extra_id_6> per case. It is used for <extra_id_7> . The material of this item is <extra_id_8> . This item is <extra_id_9> thick. It is <extra_id_10> long. The product name is <extra_id_11> . <extra_id_12> manufactures this.\", \"description: intercept free p h & s products llc 8.25mil fingertip , 12 '' in length , nitrile , nfpa approved , accelerator , sulfur & zinc free , powder free , textured finger tips , white/green , size 3x-large. The color of this item is <extra_id_0> . The size is <extra_id_1> . This item's sterile status is <extra_id_2> . The powdered status is <extra_id_3> . Its latex-free status is <extra_id_4> . It comes in <extra_id_5> per box. There are <extra_id_6> per case. It is used for <extra_id_7> . The material of this item is <extra_id_8> . This item is <extra_id_9> thick. It is <extra_id_10> long. The product name is <extra_id_11> . <extra_id_12> manufactures this.\", \"description: thin nitrile exam gloves-xs amg arrow medsource group limited. The color of this item is <extra_id_0> . The size is <extra_id_1> . This item's sterile status is <extra_id_2> . The powdered status is <extra_id_3> . Its latex-free status is <extra_id_4> . It comes in <extra_id_5> per box. There are <extra_id_6> per case. It is used for <extra_id_7> . The material of this item is <extra_id_8> . This item is <extra_id_9> thick. It is <extra_id_10> long. The product name is <extra_id_11> . <extra_id_12> manufactures this.\", \"description: hcs dyad medical sourcing , llc glove , exam , x-large , latex , powder-free , 5.7 gm , chlorinated , non-sterile. The color of this item is <extra_id_0> . The size is <extra_id_1> . This item's sterile status is <extra_id_2> . The powdered status is <extra_id_3> . Its latex-free status is <extra_id_4> . It comes in <extra_id_5> per box. There are <extra_id_6> per case. It is used for <extra_id_7> . The material of this item is <extra_id_8> . This item is <extra_id_9> thick. It is <extra_id_10> long. The product name is <extra_id_11> . <extra_id_12> manufactures this.\", \"description: hcs dyad medical sourcing , llc nitrile examination gloves , 3.0 gram chemo rated , powder-free , non-sterile , x-large. The color of this item is <extra_id_0> . The size is <extra_id_1> . This item's sterile status is <extra_id_2> . The powdered status is <extra_id_3> . Its latex-free status is <extra_id_4> . It comes in <extra_id_5> per box. There are <extra_id_6> per case. It is used for <extra_id_7> . The material of this item is <extra_id_8> . This item is <extra_id_9> thick. It is <extra_id_10> long. The product name is <extra_id_11> . <extra_id_12> manufactures this.\", \"description: hcs dyad medical sourcing , llc nitrile examination gloves , 3.0 gram chemo rated , powder-free , non-sterile , small. The color of this item is <extra_id_0> . The size is <extra_id_1> . This item's sterile status is <extra_id_2> . The powdered status is <extra_id_3> . Its latex-free status is <extra_id_4> . It comes in <extra_id_5> per box. There are <extra_id_6> per case. It is used for <extra_id_7> . The material of this item is <extra_id_8> . This item is <extra_id_9> thick. It is <extra_id_10> long. The product name is <extra_id_11> . <extra_id_12> manufactures this.\", \"description: hcs dyad medical sourcing , llc stretch vinyl examination gloves , powder-free , dinp/dop/dehp free , non-sterile , small. The color of this item is <extra_id_0> . The size is <extra_id_1> . This item's sterile status is <extra_id_2> . The powdered status is <extra_id_3> . Its latex-free status is <extra_id_4> . It comes in <extra_id_5> per box. There are <extra_id_6> per case. It is used for <extra_id_7> . The material of this item is <extra_id_8> . This item is <extra_id_9> thick. It is <extra_id_10> long. The product name is <extra_id_11> . <extra_id_12> manufactures this.\"]\n",
            "Target Text ['targets: <extra_id_0> none <extra_id_1> medium <extra_id_2> non-sterile <extra_id_3> powder-free <extra_id_4> latex-free <extra_id_5> 250 pairs <extra_id_6> none <extra_id_7> exam, chemo <extra_id_8> nitrile <extra_id_9> none <extra_id_10> none <extra_id_11> none <extra_id_12> mazza healthcare llc', 'targets: <extra_id_0> steel blue <extra_id_1> large <extra_id_2> none <extra_id_3> powder-free <extra_id_4> none <extra_id_5> none <extra_id_6> none <extra_id_7> none <extra_id_8> nitrile <extra_id_9> 7mil <extra_id_10> 12in <extra_id_11> intercept <extra_id_12> p h & s products llc', 'targets: <extra_id_0> steel blue <extra_id_1> small <extra_id_2> none <extra_id_3> powder-free <extra_id_4> none <extra_id_5> none <extra_id_6> none <extra_id_7> none <extra_id_8> nitrile <extra_id_9> 5mil <extra_id_10> 12in <extra_id_11> flextreme <extra_id_12> p h & s products llc', 'targets: <extra_id_0> white <extra_id_1> small <extra_id_2> none <extra_id_3> powder-free <extra_id_4> none <extra_id_5> none <extra_id_6> none <extra_id_7> none <extra_id_8> nitrile <extra_id_9> 7mil <extra_id_10> 9.5in <extra_id_11> vital shield sc <extra_id_12> p h & s products llc', 'targets: <extra_id_0> green <extra_id_1> extra-extra-extra-large <extra_id_2> none <extra_id_3> powder-free <extra_id_4> none <extra_id_5> none <extra_id_6> none <extra_id_7> none <extra_id_8> nitrile <extra_id_9> 8.25mil <extra_id_10> 12in <extra_id_11> intercept, free <extra_id_12> p h & s products llc', 'targets: <extra_id_0> none <extra_id_1> none <extra_id_2> none <extra_id_3> none <extra_id_4> none <extra_id_5> none <extra_id_6> none <extra_id_7> exam <extra_id_8> nitrile <extra_id_9> none <extra_id_10> none <extra_id_11> amg <extra_id_12> arrow medsource group limited', 'targets: <extra_id_0> none <extra_id_1> extra-large <extra_id_2> non-sterile <extra_id_3> powder-free <extra_id_4> latex <extra_id_5> none <extra_id_6> none <extra_id_7> exam <extra_id_8> none <extra_id_9> none <extra_id_10> none <extra_id_11> hcs <extra_id_12> dyad medical sourcing llc', 'targets: <extra_id_0> none <extra_id_1> extra-large <extra_id_2> non-sterile <extra_id_3> powder-free <extra_id_4> none <extra_id_5> none <extra_id_6> none <extra_id_7> exam, chemo <extra_id_8> nitrile <extra_id_9> none <extra_id_10> none <extra_id_11> hcs <extra_id_12> dyad medical sourcing llc', 'targets: <extra_id_0> none <extra_id_1> small <extra_id_2> non-sterile <extra_id_3> powder-free <extra_id_4> none <extra_id_5> none <extra_id_6> none <extra_id_7> exam, chemo <extra_id_8> nitrile <extra_id_9> none <extra_id_10> none <extra_id_11> hcs <extra_id_12> dyad medical sourcing llc', 'targets: <extra_id_0> none <extra_id_1> small <extra_id_2> non-sterile <extra_id_3> powder-free <extra_id_4> none <extra_id_5> none <extra_id_6> none <extra_id_7> exam <extra_id_8> vinyl <extra_id_9> none <extra_id_10> none <extra_id_11> hcs <extra_id_12> dyad medical sourcing llc']\n",
            "T5 Prediction ['targets: <extra_id_0> none <extra_id_1> medium <extra_id_2> non-sterile <extra_id_3> powder-free <extra_id_4> latex-free <extra_id_5> 250 pairs <extra_id_6> none <extra_id_7> exam, chemo <extra_id_8> nitrile <extra_id_9> none <extra_id_10> none <extra_id_11> none <extra_id_12> mazza healthcare llc', 'targets: <extra_id_0> steel blue <extra_id_1> large <extra_id_2> none <extra_id_3> powder-free <extra_id_4> none <extra_id_5> none <extra_id_6> none <extra_id_7> none <extra_id_8> nitrile <extra_id_9> 7mil <extra_id_10> 12in <extra_id_11> intercept <extra_id_12> p h & s products llc', 'targets: <extra_id_0> steel blue <extra_id_1> small <extra_id_2> none <extra_id_3> powder-free <extra_id_4> none <extra_id_5> none <extra_id_6> none <extra_id_7> none <extra_id_8> nitrile <extra_id_9> 5mil <extra_id_10> 12in <extra_id_11> flextreme <extra_id_12> p h & s products llc', 'targets: <extra_id_0> white <extra_id_1> small <extra_id_2> none <extra_id_3> powder-free <extra_id_4> none <extra_id_5> none <extra_id_6> none <extra_id_7> none <extra_id_8> nitrile <extra_id_9> 7mil <extra_id_10> 9.5in <extra_id_11> vital shield sc <extra_id_12> p h & s products llc', 'targets: <extra_id_0> green <extra_id_1> extra-extra-extra-large <extra_id_2> none <extra_id_3> powder-free <extra_id_4> none <extra_id_5> none <extra_id_6> none <extra_id_7> none <extra_id_8> nitrile <extra_id_9> 8.25mil <extra_id_10> 12in <extra_id_11> intercept, free <extra_id_12> p h & s products llc', 'targets: <extra_id_0> none <extra_id_1> extra-small <extra_id_2> none <extra_id_3> none <extra_id_4> none <extra_id_5> none <extra_id_6> none <extra_id_7> exam <extra_id_8> nitrile <extra_id_9> none <extra_id_10> none <extra_id_11> amg <extra_id_12> arrow medsource group limited', 'targets: <extra_id_0> none <extra_id_1> extra-large <extra_id_2> non-sterile <extra_id_3> powder-free <extra_id_4> latex <extra_id_5> none <extra_id_6> none <extra_id_7> exam <extra_id_8> none <extra_id_9> none <extra_id_10> none <extra_id_11> hcs <extra_id_12> dyad medical sourcing llc', 'targets: <extra_id_0> none <extra_id_1> extra-large <extra_id_2> non-sterile <extra_id_3> powder-free <extra_id_4> none <extra_id_5> none <extra_id_6> none <extra_id_7> exam, chemo <extra_id_8> nitrile <extra_id_9> none <extra_id_10> none <extra_id_11> hcs <extra_id_12> dyad medical sourcing llc', 'targets: <extra_id_0> none <extra_id_1> small <extra_id_2> non-sterile <extra_id_3> powder-free <extra_id_4> none <extra_id_5> none <extra_id_6> none <extra_id_7> exam, chemo <extra_id_8> nitrile <extra_id_9> none <extra_id_10> none <extra_id_11> hcs <extra_id_12> dyad medical sourcing llc', 'targets: <extra_id_0> none <extra_id_1> small <extra_id_2> non-sterile <extra_id_3> powder-free <extra_id_4> none <extra_id_5> none <extra_id_6> none <extra_id_7> exam <extra_id_8> vinyl <extra_id_9> none <extra_id_10> none <extra_id_11> hcs <extra_id_12> dyad medical sourcing llc'] \n",
            "\n",
            "Example  29\n",
            "Description:  [\"description: nitrile examination gloves , 3.5 g , chemo rated , latex-free , powder-free , non-sterile , large hcs dyad medical sourcing , llc. The color of this item is <extra_id_0> . The size is <extra_id_1> . This item's sterile status is <extra_id_2> . The powdered status is <extra_id_3> . Its latex-free status is <extra_id_4> . It comes in <extra_id_5> per box. There are <extra_id_6> per case. It is used for <extra_id_7> . The material of this item is <extra_id_8> . This item is <extra_id_9> thick. It is <extra_id_10> long. The product name is <extra_id_11> . <extra_id_12> manufactures this.\", \"description: sempershield black nitrile exam glove sempermed usa , inc. sempershield black nitrile exam glove , size l. The color of this item is <extra_id_0> . The size is <extra_id_1> . This item's sterile status is <extra_id_2> . The powdered status is <extra_id_3> . Its latex-free status is <extra_id_4> . It comes in <extra_id_5> per box. There are <extra_id_6> per case. It is used for <extra_id_7> . The material of this item is <extra_id_8> . This item is <extra_id_9> thick. It is <extra_id_10> long. The product name is <extra_id_11> . <extra_id_12> manufactures this.\", \"description: sempershield black nitrile exam glove , size xs sempershield black nitrile exam glove sempermed usa , inc .. The color of this item is <extra_id_0> . The size is <extra_id_1> . This item's sterile status is <extra_id_2> . The powdered status is <extra_id_3> . Its latex-free status is <extra_id_4> . It comes in <extra_id_5> per box. There are <extra_id_6> per case. It is used for <extra_id_7> . The material of this item is <extra_id_8> . This item is <extra_id_9> thick. It is <extra_id_10> long. The product name is <extra_id_11> . <extra_id_12> manufactures this.\", \"description: semperforce orange nitrile exam glove , size l semperforce orange nitrile exam glove sempermed usa , inc .. The color of this item is <extra_id_0> . The size is <extra_id_1> . This item's sterile status is <extra_id_2> . The powdered status is <extra_id_3> . Its latex-free status is <extra_id_4> . It comes in <extra_id_5> per box. There are <extra_id_6> per case. It is used for <extra_id_7> . The material of this item is <extra_id_8> . This item is <extra_id_9> thick. It is <extra_id_10> long. The product name is <extra_id_11> . <extra_id_12> manufactures this.\", \"description: semperforce orange nitrile exam glove sempermed usa , inc. semperforce orange nitrile exam glove , size xs. The color of this item is <extra_id_0> . The size is <extra_id_1> . This item's sterile status is <extra_id_2> . The powdered status is <extra_id_3> . Its latex-free status is <extra_id_4> . It comes in <extra_id_5> per box. There are <extra_id_6> per case. It is used for <extra_id_7> . The material of this item is <extra_id_8> . This item is <extra_id_9> thick. It is <extra_id_10> long. The product name is <extra_id_11> . <extra_id_12> manufactures this.\", \"description: semperforce blue nitrile exam glove sempermed usa , inc. semperforce blue nitrile exam glove , size xl. The color of this item is <extra_id_0> . The size is <extra_id_1> . This item's sterile status is <extra_id_2> . The powdered status is <extra_id_3> . Its latex-free status is <extra_id_4> . It comes in <extra_id_5> per box. There are <extra_id_6> per case. It is used for <extra_id_7> . The material of this item is <extra_id_8> . This item is <extra_id_9> thick. It is <extra_id_10> long. The product name is <extra_id_11> . <extra_id_12> manufactures this.\", \"description: semperforce blue nitrile exam glove sempermed usa , inc. semperforce blue nitrile exam glove , size s. The color of this item is <extra_id_0> . The size is <extra_id_1> . This item's sterile status is <extra_id_2> . The powdered status is <extra_id_3> . Its latex-free status is <extra_id_4> . It comes in <extra_id_5> per box. There are <extra_id_6> per case. It is used for <extra_id_7> . The material of this item is <extra_id_8> . This item is <extra_id_9> thick. It is <extra_id_10> long. The product name is <extra_id_11> . <extra_id_12> manufactures this.\", \"description: sempershield ec nitrile exam glove sempermed usa , inc. sempershield ec nitrile exam glove , sample pack. The color of this item is <extra_id_0> . The size is <extra_id_1> . This item's sterile status is <extra_id_2> . The powdered status is <extra_id_3> . Its latex-free status is <extra_id_4> . It comes in <extra_id_5> per box. There are <extra_id_6> per case. It is used for <extra_id_7> . The material of this item is <extra_id_8> . This item is <extra_id_9> thick. It is <extra_id_10> long. The product name is <extra_id_11> . <extra_id_12> manufactures this.\", \"description: sempershield ec nitrile exam glove sempermed usa , inc. sempershield ec nitrile exam glove , size m. The color of this item is <extra_id_0> . The size is <extra_id_1> . This item's sterile status is <extra_id_2> . The powdered status is <extra_id_3> . Its latex-free status is <extra_id_4> . It comes in <extra_id_5> per box. There are <extra_id_6> per case. It is used for <extra_id_7> . The material of this item is <extra_id_8> . This item is <extra_id_9> thick. It is <extra_id_10> long. The product name is <extra_id_11> . <extra_id_12> manufactures this.\", \"description: sempersure green nitrile exam glove , size s sempersure green nitrile exam glove sempermed usa , inc .. The color of this item is <extra_id_0> . The size is <extra_id_1> . This item's sterile status is <extra_id_2> . The powdered status is <extra_id_3> . Its latex-free status is <extra_id_4> . It comes in <extra_id_5> per box. There are <extra_id_6> per case. It is used for <extra_id_7> . The material of this item is <extra_id_8> . This item is <extra_id_9> thick. It is <extra_id_10> long. The product name is <extra_id_11> . <extra_id_12> manufactures this.\"]\n",
            "Target Text ['targets: <extra_id_0> none <extra_id_1> large <extra_id_2> non-sterile <extra_id_3> powder-free <extra_id_4> latex-free <extra_id_5> none <extra_id_6> none <extra_id_7> exam, chemo <extra_id_8> nitrile <extra_id_9> none <extra_id_10> none <extra_id_11> hcs <extra_id_12> dyad medical sourcing llc', 'targets: <extra_id_0> black <extra_id_1> large <extra_id_2> none <extra_id_3> none <extra_id_4> none <extra_id_5> none <extra_id_6> none <extra_id_7> exam <extra_id_8> nitrile <extra_id_9> none <extra_id_10> none <extra_id_11> sempershield <extra_id_12> sempermed usa inc.', 'targets: <extra_id_0> black <extra_id_1> extra-small <extra_id_2> none <extra_id_3> none <extra_id_4> none <extra_id_5> none <extra_id_6> none <extra_id_7> exam <extra_id_8> nitrile <extra_id_9> none <extra_id_10> none <extra_id_11> sempershield <extra_id_12> sempermed usa inc.', 'targets: <extra_id_0> orange <extra_id_1> large <extra_id_2> none <extra_id_3> none <extra_id_4> none <extra_id_5> none <extra_id_6> none <extra_id_7> exam <extra_id_8> nitrile <extra_id_9> none <extra_id_10> none <extra_id_11> semperforce <extra_id_12> sempermed usa inc.', 'targets: <extra_id_0> orange <extra_id_1> extra-small <extra_id_2> none <extra_id_3> none <extra_id_4> none <extra_id_5> none <extra_id_6> none <extra_id_7> exam <extra_id_8> nitrile <extra_id_9> none <extra_id_10> none <extra_id_11> semperforce <extra_id_12> sempermed usa inc.', 'targets: <extra_id_0> blue <extra_id_1> extra-large <extra_id_2> none <extra_id_3> none <extra_id_4> none <extra_id_5> none <extra_id_6> none <extra_id_7> exam <extra_id_8> nitrile <extra_id_9> none <extra_id_10> none <extra_id_11> semperforce <extra_id_12> sempermed usa inc.', 'targets: <extra_id_0> blue <extra_id_1> small <extra_id_2> none <extra_id_3> none <extra_id_4> none <extra_id_5> none <extra_id_6> none <extra_id_7> exam <extra_id_8> nitrile <extra_id_9> none <extra_id_10> none <extra_id_11> semperforce <extra_id_12> sempermed usa inc.', 'targets: <extra_id_0> none <extra_id_1> none <extra_id_2> none <extra_id_3> none <extra_id_4> none <extra_id_5> none <extra_id_6> none <extra_id_7> exam <extra_id_8> nitrile <extra_id_9> none <extra_id_10> none <extra_id_11> sempershield <extra_id_12> sempermed usa inc.', 'targets: <extra_id_0> none <extra_id_1> medium <extra_id_2> none <extra_id_3> none <extra_id_4> none <extra_id_5> none <extra_id_6> none <extra_id_7> exam <extra_id_8> nitrile <extra_id_9> none <extra_id_10> none <extra_id_11> sempershield <extra_id_12> sempermed usa inc.', 'targets: <extra_id_0> green <extra_id_1> small <extra_id_2> none <extra_id_3> none <extra_id_4> none <extra_id_5> none <extra_id_6> none <extra_id_7> exam <extra_id_8> nitrile <extra_id_9> none <extra_id_10> none <extra_id_11> sempersure <extra_id_12> sempermed usa inc.']\n",
            "T5 Prediction ['targets: <extra_id_0> none <extra_id_1> large <extra_id_2> non-sterile <extra_id_3> powder-free <extra_id_4> latex-free <extra_id_5> none <extra_id_6> none <extra_id_7> exam, chemo <extra_id_8> nitrile <extra_id_9> none <extra_id_10> none <extra_id_11> hcs <extra_id_12> dyad medical sourcing llc', 'targets: <extra_id_0> black <extra_id_1> large <extra_id_2> none <extra_id_3> none <extra_id_4> none <extra_id_5> none <extra_id_6> none <extra_id_7> exam <extra_id_8> nitrile <extra_id_9> none <extra_id_10> none <extra_id_11> sempershield <extra_id_12> sempermed usa inc.', 'targets: <extra_id_0> black <extra_id_1> extra-small <extra_id_2> none <extra_id_3> none <extra_id_4> none <extra_id_5> none <extra_id_6> none <extra_id_7> exam <extra_id_8> nitrile <extra_id_9> none <extra_id_10> none <extra_id_11> sempershield <extra_id_12> sempermed usa inc.', 'targets: <extra_id_0> orange <extra_id_1> large <extra_id_2> none <extra_id_3> none <extra_id_4> none <extra_id_5> none <extra_id_6> none <extra_id_7> exam <extra_id_8> nitrile <extra_id_9> none <extra_id_10> none <extra_id_11> semperforce <extra_id_12> sempermed usa inc.', 'targets: <extra_id_0> orange <extra_id_1> extra-small <extra_id_2> none <extra_id_3> none <extra_id_4> none <extra_id_5> none <extra_id_6> none <extra_id_7> exam <extra_id_8> nitrile <extra_id_9> none <extra_id_10> none <extra_id_11> semperforce <extra_id_12> sempermed usa inc.', 'targets: <extra_id_0> blue <extra_id_1> extra-large <extra_id_2> none <extra_id_3> none <extra_id_4> none <extra_id_5> none <extra_id_6> none <extra_id_7> exam <extra_id_8> nitrile <extra_id_9> none <extra_id_10> none <extra_id_11> semperforce <extra_id_12> sempermed usa inc.', 'targets: <extra_id_0> blue <extra_id_1> small <extra_id_2> none <extra_id_3> none <extra_id_4> none <extra_id_5> none <extra_id_6> none <extra_id_7> exam <extra_id_8> nitrile <extra_id_9> none <extra_id_10> none <extra_id_11> semperforce <extra_id_12> sempermed usa inc.', 'targets: <extra_id_0> none <extra_id_1> none <extra_id_2> none <extra_id_3> none <extra_id_4> none <extra_id_5> none <extra_id_6> none <extra_id_7> exam <extra_id_8> nitrile <extra_id_9> none <extra_id_10> none <extra_id_11> sempershield <extra_id_12> sempermed usa inc.', 'targets: <extra_id_0> none <extra_id_1> medium <extra_id_2> none <extra_id_3> none <extra_id_4> none <extra_id_5> none <extra_id_6> none <extra_id_7> exam <extra_id_8> nitrile <extra_id_9> none <extra_id_10> none <extra_id_11> sempershield <extra_id_12> sempermed usa inc.', 'targets: <extra_id_0> green <extra_id_1> small <extra_id_2> none <extra_id_3> none <extra_id_4> none <extra_id_5> none <extra_id_6> none <extra_id_7> exam <extra_id_8> nitrile <extra_id_9> none <extra_id_10> none <extra_id_11> sempersure <extra_id_12> sempermed usa inc.'] \n",
            "\n",
            "Example  30\n",
            "Description:  [\"description: sempershield nitrile exam glove sempermed usa , inc. sempershield nitrile exam glove , sample pack. The color of this item is <extra_id_0> . The size is <extra_id_1> . This item's sterile status is <extra_id_2> . The powdered status is <extra_id_3> . Its latex-free status is <extra_id_4> . It comes in <extra_id_5> per box. There are <extra_id_6> per case. It is used for <extra_id_7> . The material of this item is <extra_id_8> . This item is <extra_id_9> thick. It is <extra_id_10> long. The product name is <extra_id_11> . <extra_id_12> manufactures this.\", \"description: latex examination gloves powder free non-sterile - 100 units - ambidextrous - textured surface - size medium medadv medas inc. The color of this item is <extra_id_0> . The size is <extra_id_1> . This item's sterile status is <extra_id_2> . The powdered status is <extra_id_3> . Its latex-free status is <extra_id_4> . It comes in <extra_id_5> per box. There are <extra_id_6> per case. It is used for <extra_id_7> . The material of this item is <extra_id_8> . This item is <extra_id_9> thick. It is <extra_id_10> long. The product name is <extra_id_11> . <extra_id_12> manufactures this.\", \"description: nitrile examination gloves powder free non-sterile - 100 units - ambidextrous - textured surface - size medium medadv medas inc. The color of this item is <extra_id_0> . The size is <extra_id_1> . This item's sterile status is <extra_id_2> . The powdered status is <extra_id_3> . Its latex-free status is <extra_id_4> . It comes in <extra_id_5> per box. There are <extra_id_6> per case. It is used for <extra_id_7> . The material of this item is <extra_id_8> . This item is <extra_id_9> thick. It is <extra_id_10> long. The product name is <extra_id_11> . <extra_id_12> manufactures this.\", \"description: medadv medas inc nitrile examination gloves powder free non-sterile - 100 units - ambidextrous - textured surface - size small. The color of this item is <extra_id_0> . The size is <extra_id_1> . This item's sterile status is <extra_id_2> . The powdered status is <extra_id_3> . Its latex-free status is <extra_id_4> . It comes in <extra_id_5> per box. There are <extra_id_6> per case. It is used for <extra_id_7> . The material of this item is <extra_id_8> . This item is <extra_id_9> thick. It is <extra_id_10> long. The product name is <extra_id_11> . <extra_id_12> manufactures this.\", \"description: premierpro pf plus nitrile exam glove small 200count premierpro svs llc. The color of this item is <extra_id_0> . The size is <extra_id_1> . This item's sterile status is <extra_id_2> . The powdered status is <extra_id_3> . Its latex-free status is <extra_id_4> . It comes in <extra_id_5> per box. There are <extra_id_6> per case. It is used for <extra_id_7> . The material of this item is <extra_id_8> . This item is <extra_id_9> thick. It is <extra_id_10> long. The product name is <extra_id_11> . <extra_id_12> manufactures this.\", \"description: premierpro svs llc premierpro plus improved thinner technology nitrile exam glove small 200count. The color of this item is <extra_id_0> . The size is <extra_id_1> . This item's sterile status is <extra_id_2> . The powdered status is <extra_id_3> . Its latex-free status is <extra_id_4> . It comes in <extra_id_5> per box. There are <extra_id_6> per case. It is used for <extra_id_7> . The material of this item is <extra_id_8> . This item is <extra_id_9> thick. It is <extra_id_10> long. The product name is <extra_id_11> . <extra_id_12> manufactures this.\", \"description: premierpro svs llc premierpro powder free textured latex exam glove large 100count. The color of this item is <extra_id_0> . The size is <extra_id_1> . This item's sterile status is <extra_id_2> . The powdered status is <extra_id_3> . Its latex-free status is <extra_id_4> . It comes in <extra_id_5> per box. There are <extra_id_6> per case. It is used for <extra_id_7> . The material of this item is <extra_id_8> . This item is <extra_id_9> thick. It is <extra_id_10> long. The product name is <extra_id_11> . <extra_id_12> manufactures this.\", \"description: premierpro svs llc premierpro sterile nitrile exam glove pair x-large. The color of this item is <extra_id_0> . The size is <extra_id_1> . This item's sterile status is <extra_id_2> . The powdered status is <extra_id_3> . Its latex-free status is <extra_id_4> . It comes in <extra_id_5> per box. There are <extra_id_6> per case. It is used for <extra_id_7> . The material of this item is <extra_id_8> . This item is <extra_id_9> thick. It is <extra_id_10> long. The product name is <extra_id_11> . <extra_id_12> manufactures this.\", \"description: code blue latex gloves small 50/pk hopkins medical products® hopkins uniform company. The color of this item is <extra_id_0> . The size is <extra_id_1> . This item's sterile status is <extra_id_2> . The powdered status is <extra_id_3> . Its latex-free status is <extra_id_4> . It comes in <extra_id_5> per box. There are <extra_id_6> per case. It is used for <extra_id_7> . The material of this item is <extra_id_8> . This item is <extra_id_9> thick. It is <extra_id_10> long. The product name is <extra_id_11> . <extra_id_12> manufactures this.\", \"description: nitrile gloves , x-large 100/pk hopkins medical products® hopkins uniform company. The color of this item is <extra_id_0> . The size is <extra_id_1> . This item's sterile status is <extra_id_2> . The powdered status is <extra_id_3> . Its latex-free status is <extra_id_4> . It comes in <extra_id_5> per box. There are <extra_id_6> per case. It is used for <extra_id_7> . The material of this item is <extra_id_8> . This item is <extra_id_9> thick. It is <extra_id_10> long. The product name is <extra_id_11> . <extra_id_12> manufactures this.\"]\n",
            "Target Text ['targets: <extra_id_0> none <extra_id_1> none <extra_id_2> none <extra_id_3> none <extra_id_4> none <extra_id_5> none <extra_id_6> none <extra_id_7> exam <extra_id_8> nitrile <extra_id_9> none <extra_id_10> none <extra_id_11> sempershield <extra_id_12> sempermed usa inc.', 'targets: <extra_id_0> none <extra_id_1> medium <extra_id_2> non-sterile <extra_id_3> powder-free <extra_id_4> latex <extra_id_5> none <extra_id_6> none <extra_id_7> exam <extra_id_8> none <extra_id_9> none <extra_id_10> none <extra_id_11> medadv <extra_id_12> medas inc', 'targets: <extra_id_0> none <extra_id_1> medium <extra_id_2> non-sterile <extra_id_3> powder-free <extra_id_4> none <extra_id_5> none <extra_id_6> none <extra_id_7> exam <extra_id_8> nitrile <extra_id_9> none <extra_id_10> none <extra_id_11> medadv <extra_id_12> medas inc', 'targets: <extra_id_0> none <extra_id_1> small <extra_id_2> non-sterile <extra_id_3> powder-free <extra_id_4> none <extra_id_5> none <extra_id_6> none <extra_id_7> exam <extra_id_8> nitrile <extra_id_9> none <extra_id_10> none <extra_id_11> medadv <extra_id_12> medas inc', 'targets: <extra_id_0> none <extra_id_1> small <extra_id_2> none <extra_id_3> powder-free <extra_id_4> none <extra_id_5> none <extra_id_6> none <extra_id_7> exam <extra_id_8> nitrile <extra_id_9> none <extra_id_10> none <extra_id_11> premierpro <extra_id_12> svs llc', 'targets: <extra_id_0> none <extra_id_1> small <extra_id_2> none <extra_id_3> none <extra_id_4> none <extra_id_5> none <extra_id_6> none <extra_id_7> exam <extra_id_8> nitrile <extra_id_9> none <extra_id_10> none <extra_id_11> premierpro <extra_id_12> svs llc', 'targets: <extra_id_0> none <extra_id_1> large <extra_id_2> none <extra_id_3> powder-free <extra_id_4> latex <extra_id_5> none <extra_id_6> none <extra_id_7> exam <extra_id_8> none <extra_id_9> none <extra_id_10> none <extra_id_11> premierpro <extra_id_12> svs llc', 'targets: <extra_id_0> none <extra_id_1> extra-large <extra_id_2> sterile <extra_id_3> none <extra_id_4> none <extra_id_5> none <extra_id_6> none <extra_id_7> exam <extra_id_8> nitrile <extra_id_9> none <extra_id_10> none <extra_id_11> premierpro <extra_id_12> svs llc', 'targets: <extra_id_0> blue <extra_id_1> small <extra_id_2> none <extra_id_3> none <extra_id_4> latex <extra_id_5> none <extra_id_6> none <extra_id_7> none <extra_id_8> none <extra_id_9> none <extra_id_10> none <extra_id_11> hopkins medical products <extra_id_12> hopkins uniform company', 'targets: <extra_id_0> none <extra_id_1> extra-large <extra_id_2> none <extra_id_3> none <extra_id_4> none <extra_id_5> none <extra_id_6> none <extra_id_7> none <extra_id_8> nitrile <extra_id_9> none <extra_id_10> none <extra_id_11> hopkins medical products <extra_id_12> hopkins uniform company']\n",
            "T5 Prediction ['targets: <extra_id_0> none <extra_id_1> none <extra_id_2> none <extra_id_3> none <extra_id_4> none <extra_id_5> none <extra_id_6> none <extra_id_7> exam <extra_id_8> nitrile <extra_id_9> none <extra_id_10> none <extra_id_11> sempershield <extra_id_12> sempermed usa inc.', 'targets: <extra_id_0> none <extra_id_1> medium <extra_id_2> non-sterile <extra_id_3> powder-free <extra_id_4> latex <extra_id_5> none <extra_id_6> none <extra_id_7> exam <extra_id_8> none <extra_id_9> none <extra_id_10> none <extra_id_11> medadv <extra_id_12> medas inc', 'targets: <extra_id_0> none <extra_id_1> medium <extra_id_2> non-sterile <extra_id_3> powder-free <extra_id_4> none <extra_id_5> none <extra_id_6> none <extra_id_7> exam <extra_id_8> nitrile <extra_id_9> none <extra_id_10> none <extra_id_11> medadv <extra_id_12> medas inc', 'targets: <extra_id_0> none <extra_id_1> small <extra_id_2> non-sterile <extra_id_3> powder-free <extra_id_4> none <extra_id_5> none <extra_id_6> none <extra_id_7> exam <extra_id_8> nitrile <extra_id_9> none <extra_id_10> none <extra_id_11> medadv <extra_id_12> medas inc', 'targets: <extra_id_0> none <extra_id_1> small <extra_id_2> none <extra_id_3> powder-free <extra_id_4> none <extra_id_5> none <extra_id_6> none <extra_id_7> exam <extra_id_8> nitrile <extra_id_9> none <extra_id_10> none <extra_id_11> premierpro <extra_id_12> svs llc', 'targets: <extra_id_0> none <extra_id_1> small <extra_id_2> none <extra_id_3> none <extra_id_4> none <extra_id_5> none <extra_id_6> none <extra_id_7> exam <extra_id_8> nitrile <extra_id_9> none <extra_id_10> none <extra_id_11> premierpro <extra_id_12> svs llc', 'targets: <extra_id_0> none <extra_id_1> large <extra_id_2> none <extra_id_3> powder-free <extra_id_4> latex <extra_id_5> none <extra_id_6> none <extra_id_7> exam <extra_id_8> none <extra_id_9> none <extra_id_10> none <extra_id_11> premierpro <extra_id_12> svs llc', 'targets: <extra_id_0> none <extra_id_1> extra-large <extra_id_2> sterile <extra_id_3> none <extra_id_4> none <extra_id_5> none <extra_id_6> none <extra_id_7> exam <extra_id_8> nitrile <extra_id_9> none <extra_id_10> none <extra_id_11> premierpro <extra_id_12> svs llc', 'targets: <extra_id_0> blue <extra_id_1> small <extra_id_2> none <extra_id_3> none <extra_id_4> latex <extra_id_5> none <extra_id_6> none <extra_id_7> none <extra_id_8> none <extra_id_9> none <extra_id_10> none <extra_id_11> hopkins medical products <extra_id_12> hopkins uniform company', 'targets: <extra_id_0> none <extra_id_1> extra-large <extra_id_2> none <extra_id_3> none <extra_id_4> none <extra_id_5> none <extra_id_6> none <extra_id_7> none <extra_id_8> nitrile <extra_id_9> none <extra_id_10> none <extra_id_11> hopkins medical products <extra_id_12> hopkins uniform company'] \n",
            "\n",
            "Example  31\n",
            "Description:  [\"description: hopkins medical products® hopkins uniform company nitrile gloves , small 100/pk. The color of this item is <extra_id_0> . The size is <extra_id_1> . This item's sterile status is <extra_id_2> . The powdered status is <extra_id_3> . Its latex-free status is <extra_id_4> . It comes in <extra_id_5> per box. There are <extra_id_6> per case. It is used for <extra_id_7> . The material of this item is <extra_id_8> . This item is <extra_id_9> thick. It is <extra_id_10> long. The product name is <extra_id_11> . <extra_id_12> manufactures this.\", \"description: hopkins medical products® hopkins uniform company powder free latex gloves medium 100/pk. The color of this item is <extra_id_0> . The size is <extra_id_1> . This item's sterile status is <extra_id_2> . The powdered status is <extra_id_3> . Its latex-free status is <extra_id_4> . It comes in <extra_id_5> per box. There are <extra_id_6> per case. It is used for <extra_id_7> . The material of this item is <extra_id_8> . This item is <extra_id_9> thick. It is <extra_id_10> long. The product name is <extra_id_11> . <extra_id_12> manufactures this.\", \"description: powder free latex gloves large 100/pk hopkins medical products® hopkins uniform company. The color of this item is <extra_id_0> . The size is <extra_id_1> . This item's sterile status is <extra_id_2> . The powdered status is <extra_id_3> . Its latex-free status is <extra_id_4> . It comes in <extra_id_5> per box. There are <extra_id_6> per case. It is used for <extra_id_7> . The material of this item is <extra_id_8> . This item is <extra_id_9> thick. It is <extra_id_10> long. The product name is <extra_id_11> . <extra_id_12> manufactures this.\", \"description: hopkins medical products® hopkins uniform company powder free latex glove each medium. The color of this item is <extra_id_0> . The size is <extra_id_1> . This item's sterile status is <extra_id_2> . The powdered status is <extra_id_3> . Its latex-free status is <extra_id_4> . It comes in <extra_id_5> per box. There are <extra_id_6> per case. It is used for <extra_id_7> . The material of this item is <extra_id_8> . This item is <extra_id_9> thick. It is <extra_id_10> long. The product name is <extra_id_11> . <extra_id_12> manufactures this.\", \"description: hopkins medical products® hopkins uniform company bag compliance kit. The color of this item is <extra_id_0> . The size is <extra_id_1> . This item's sterile status is <extra_id_2> . The powdered status is <extra_id_3> . Its latex-free status is <extra_id_4> . It comes in <extra_id_5> per box. There are <extra_id_6> per case. It is used for <extra_id_7> . The material of this item is <extra_id_8> . This item is <extra_id_9> thick. It is <extra_id_10> long. The product name is <extra_id_11> . <extra_id_12> manufactures this.\", \"description: premium spill kit polybag latex free hopkins medical products® hopkins uniform company. The color of this item is <extra_id_0> . The size is <extra_id_1> . This item's sterile status is <extra_id_2> . The powdered status is <extra_id_3> . Its latex-free status is <extra_id_4> . It comes in <extra_id_5> per box. There are <extra_id_6> per case. It is used for <extra_id_7> . The material of this item is <extra_id_8> . This item is <extra_id_9> thick. It is <extra_id_10> long. The product name is <extra_id_11> . <extra_id_12> manufactures this.\", \"description: curaplex bound tree medical , llc curaplex tritongrip se gloves , xl , blue nitrile , powder free 90/bx 10bx/cs. The color of this item is <extra_id_0> . The size is <extra_id_1> . This item's sterile status is <extra_id_2> . The powdered status is <extra_id_3> . Its latex-free status is <extra_id_4> . It comes in <extra_id_5> per box. There are <extra_id_6> per case. It is used for <extra_id_7> . The material of this item is <extra_id_8> . This item is <extra_id_9> thick. It is <extra_id_10> long. The product name is <extra_id_11> . <extra_id_12> manufactures this.\", \"description: curaplex bound tree medical , llc curaplex tritongrip se gloves , lg , blue nitrile , powder free 100/bx 10bx/cs. The color of this item is <extra_id_0> . The size is <extra_id_1> . This item's sterile status is <extra_id_2> . The powdered status is <extra_id_3> . Its latex-free status is <extra_id_4> . It comes in <extra_id_5> per box. There are <extra_id_6> per case. It is used for <extra_id_7> . The material of this item is <extra_id_8> . This item is <extra_id_9> thick. It is <extra_id_10> long. The product name is <extra_id_11> . <extra_id_12> manufactures this.\", \"description: curaplex bound tree medical , llc curaplex tritongrip se gloves , med , blue nitrile , powder free 100/bx 10bx/cs. The color of this item is <extra_id_0> . The size is <extra_id_1> . This item's sterile status is <extra_id_2> . The powdered status is <extra_id_3> . Its latex-free status is <extra_id_4> . It comes in <extra_id_5> per box. There are <extra_id_6> per case. It is used for <extra_id_7> . The material of this item is <extra_id_8> . This item is <extra_id_9> thick. It is <extra_id_10> long. The product name is <extra_id_11> . <extra_id_12> manufactures this.\", \"description: curaplex tritongrip se gloves , sm , blue nitrile , powder free 100/bx 10bx/cs curaplex bound tree medical , llc. The color of this item is <extra_id_0> . The size is <extra_id_1> . This item's sterile status is <extra_id_2> . The powdered status is <extra_id_3> . Its latex-free status is <extra_id_4> . It comes in <extra_id_5> per box. There are <extra_id_6> per case. It is used for <extra_id_7> . The material of this item is <extra_id_8> . This item is <extra_id_9> thick. It is <extra_id_10> long. The product name is <extra_id_11> . <extra_id_12> manufactures this.\"]\n",
            "Target Text ['targets: <extra_id_0> none <extra_id_1> small <extra_id_2> none <extra_id_3> none <extra_id_4> none <extra_id_5> none <extra_id_6> none <extra_id_7> none <extra_id_8> nitrile <extra_id_9> none <extra_id_10> none <extra_id_11> hopkins medical products <extra_id_12> hopkins uniform company', 'targets: <extra_id_0> none <extra_id_1> medium <extra_id_2> none <extra_id_3> powder-free <extra_id_4> latex <extra_id_5> none <extra_id_6> none <extra_id_7> none <extra_id_8> none <extra_id_9> none <extra_id_10> none <extra_id_11> hopkins medical products <extra_id_12> hopkins uniform company', 'targets: <extra_id_0> none <extra_id_1> large <extra_id_2> none <extra_id_3> powder-free <extra_id_4> latex <extra_id_5> none <extra_id_6> none <extra_id_7> none <extra_id_8> none <extra_id_9> none <extra_id_10> none <extra_id_11> hopkins medical products <extra_id_12> hopkins uniform company', 'targets: <extra_id_0> none <extra_id_1> medium <extra_id_2> none <extra_id_3> powder-free <extra_id_4> latex <extra_id_5> none <extra_id_6> none <extra_id_7> none <extra_id_8> none <extra_id_9> none <extra_id_10> none <extra_id_11> hopkins medical products <extra_id_12> hopkins uniform company', 'targets: <extra_id_0> none <extra_id_1> none <extra_id_2> none <extra_id_3> none <extra_id_4> none <extra_id_5> none <extra_id_6> none <extra_id_7> none <extra_id_8> none <extra_id_9> none <extra_id_10> none <extra_id_11> hopkins medical products <extra_id_12> hopkins uniform company', 'targets: <extra_id_0> none <extra_id_1> none <extra_id_2> none <extra_id_3> none <extra_id_4> latex-free <extra_id_5> none <extra_id_6> none <extra_id_7> none <extra_id_8> none <extra_id_9> none <extra_id_10> none <extra_id_11> hopkins medical products <extra_id_12> hopkins uniform company', 'targets: <extra_id_0> blue <extra_id_1> extra-large <extra_id_2> none <extra_id_3> powder-free <extra_id_4> none <extra_id_5> 90 pairs <extra_id_6> 10 boxes <extra_id_7> none <extra_id_8> nitrile <extra_id_9> none <extra_id_10> none <extra_id_11> curaplex <extra_id_12> bound tree medical llc', 'targets: <extra_id_0> blue <extra_id_1> large <extra_id_2> none <extra_id_3> powder-free <extra_id_4> none <extra_id_5> 100 pairs <extra_id_6> 10 boxes <extra_id_7> none <extra_id_8> nitrile <extra_id_9> none <extra_id_10> none <extra_id_11> curaplex <extra_id_12> bound tree medical llc', 'targets: <extra_id_0> blue <extra_id_1> medium <extra_id_2> none <extra_id_3> powder-free <extra_id_4> none <extra_id_5> 100 pairs <extra_id_6> 10 boxes <extra_id_7> none <extra_id_8> nitrile <extra_id_9> none <extra_id_10> none <extra_id_11> curaplex <extra_id_12> bound tree medical llc', 'targets: <extra_id_0> blue <extra_id_1> small <extra_id_2> none <extra_id_3> powder-free <extra_id_4> none <extra_id_5> 100 pairs <extra_id_6> 10 boxes <extra_id_7> none <extra_id_8> nitrile <extra_id_9> none <extra_id_10> none <extra_id_11> curaplex <extra_id_12> bound tree medical llc']\n",
            "T5 Prediction ['targets: <extra_id_0> none <extra_id_1> small <extra_id_2> none <extra_id_3> none <extra_id_4> none <extra_id_5> none <extra_id_6> none <extra_id_7> none <extra_id_8> nitrile <extra_id_9> none <extra_id_10> none <extra_id_11> hopkins medical products <extra_id_12> hopkins uniform company', 'targets: <extra_id_0> none <extra_id_1> medium <extra_id_2> none <extra_id_3> powder-free <extra_id_4> latex <extra_id_5> none <extra_id_6> none <extra_id_7> none <extra_id_8> none <extra_id_9> none <extra_id_10> none <extra_id_11> hopkins medical products <extra_id_12> hopkins uniform company', 'targets: <extra_id_0> none <extra_id_1> large <extra_id_2> none <extra_id_3> powder-free <extra_id_4> latex <extra_id_5> none <extra_id_6> none <extra_id_7> none <extra_id_8> none <extra_id_9> none <extra_id_10> none <extra_id_11> hopkins medical products <extra_id_12> hopkins uniform company', 'targets: <extra_id_0> none <extra_id_1> medium <extra_id_2> none <extra_id_3> powder-free <extra_id_4> latex <extra_id_5> none <extra_id_6> none <extra_id_7> none <extra_id_8> none <extra_id_9> none <extra_id_10> none <extra_id_11> hopkins medical products <extra_id_12> hopkins uniform company', 'targets: <extra_id_0> none <extra_id_1> none <extra_id_2> none <extra_id_3> none <extra_id_4> none <extra_id_5> none <extra_id_6> none <extra_id_7> none <extra_id_8> none <extra_id_9> none <extra_id_10> none <extra_id_11> hopkins medical products <extra_id_12> hopkins uniform company', 'targets: <extra_id_0> none <extra_id_1> none <extra_id_2> none <extra_id_3> none <extra_id_4> latex-free <extra_id_5> none <extra_id_6> none <extra_id_7> none <extra_id_8> none <extra_id_9> none <extra_id_10> none <extra_id_11> hopkins medical products <extra_id_12> hopkins uniform company', 'targets: <extra_id_0> blue <extra_id_1> extra-large <extra_id_2> none <extra_id_3> powder-free <extra_id_4> none <extra_id_5> 90 pairs <extra_id_6> 10 boxes <extra_id_7> none <extra_id_8> nitrile <extra_id_9> none <extra_id_10> none <extra_id_11> curaplex <extra_id_12> bound tree medical llc', 'targets: <extra_id_0> blue <extra_id_1> large <extra_id_2> none <extra_id_3> powder-free <extra_id_4> none <extra_id_5> 100 pairs <extra_id_6> 10 boxes <extra_id_7> none <extra_id_8> nitrile <extra_id_9> none <extra_id_10> none <extra_id_11> curaplex <extra_id_12> bound tree medical llc', 'targets: <extra_id_0> blue <extra_id_1> medium <extra_id_2> none <extra_id_3> powder-free <extra_id_4> none <extra_id_5> 100 pairs <extra_id_6> 10 boxes <extra_id_7> none <extra_id_8> nitrile <extra_id_9> none <extra_id_10> none <extra_id_11> curaplex <extra_id_12> bound tree medical llc', 'targets: <extra_id_0> blue <extra_id_1> small <extra_id_2> none <extra_id_3> powder-free <extra_id_4> none <extra_id_5> 100 pairs <extra_id_6> 10 boxes <extra_id_7> none <extra_id_8> nitrile <extra_id_9> none <extra_id_10> none <extra_id_11> curaplex <extra_id_12> bound tree medical llc'] \n",
            "\n",
            "Example  32\n",
            "Description:  [\"description: green latex powder free exam gloves - xs beesure ascend eagle incorporated. The color of this item is <extra_id_0> . The size is <extra_id_1> . This item's sterile status is <extra_id_2> . The powdered status is <extra_id_3> . Its latex-free status is <extra_id_4> . It comes in <extra_id_5> per box. There are <extra_id_6> per case. It is used for <extra_id_7> . The material of this item is <extra_id_8> . This item is <extra_id_9> thick. It is <extra_id_10> long. The product name is <extra_id_11> . <extra_id_12> manufactures this.\", \"description: beesure ascend eagle incorporated slimTM nitrile powder free exam gloves - xl. The color of this item is <extra_id_0> . The size is <extra_id_1> . This item's sterile status is <extra_id_2> . The powdered status is <extra_id_3> . Its latex-free status is <extra_id_4> . It comes in <extra_id_5> per box. There are <extra_id_6> per case. It is used for <extra_id_7> . The material of this item is <extra_id_8> . This item is <extra_id_9> thick. It is <extra_id_10> long. The product name is <extra_id_11> . <extra_id_12> manufactures this.\", \"description: beesure ascend eagle incorporated superslimTM nitrile powder free exam gloves - s. The color of this item is <extra_id_0> . The size is <extra_id_1> . This item's sterile status is <extra_id_2> . The powdered status is <extra_id_3> . Its latex-free status is <extra_id_4> . It comes in <extra_id_5> per box. There are <extra_id_6> per case. It is used for <extra_id_7> . The material of this item is <extra_id_8> . This item is <extra_id_9> thick. It is <extra_id_10> long. The product name is <extra_id_11> . <extra_id_12> manufactures this.\", \"description: dealmed dealmed medical supplies llc glove exam nitrile n/s pf large purple , 300/bx. The color of this item is <extra_id_0> . The size is <extra_id_1> . This item's sterile status is <extra_id_2> . The powdered status is <extra_id_3> . Its latex-free status is <extra_id_4> . It comes in <extra_id_5> per box. There are <extra_id_6> per case. It is used for <extra_id_7> . The material of this item is <extra_id_8> . This item is <extra_id_9> thick. It is <extra_id_10> long. The product name is <extra_id_11> . <extra_id_12> manufactures this.\", \"description: cypress mckesson medical-surgical inc. glove , latex codeblue 12 '' 14 ml pf blu , m. The color of this item is <extra_id_0> . The size is <extra_id_1> . This item's sterile status is <extra_id_2> . The powdered status is <extra_id_3> . Its latex-free status is <extra_id_4> . It comes in <extra_id_5> per box. There are <extra_id_6> per case. It is used for <extra_id_7> . The material of this item is <extra_id_8> . This item is <extra_id_9> thick. It is <extra_id_10> long. The product name is <extra_id_11> . <extra_id_12> manufactures this.\", \"description: chlorosense polychloroprene surgical gloves , non-latex and powder free . sterile by gamma r. size 6.5. pair . ad surgical applied dental , inc .. The color of this item is <extra_id_0> . The size is <extra_id_1> . This item's sterile status is <extra_id_2> . The powdered status is <extra_id_3> . Its latex-free status is <extra_id_4> . It comes in <extra_id_5> per box. There are <extra_id_6> per case. It is used for <extra_id_7> . The material of this item is <extra_id_8> . This item is <extra_id_9> thick. It is <extra_id_10> long. The product name is <extra_id_11> . <extra_id_12> manufactures this.\", \"description: rospital productos medicos atlas medical products llc latex polymer powder free surgical gloves ( palm texture ) size 6 , pair. The color of this item is <extra_id_0> . The size is <extra_id_1> . This item's sterile status is <extra_id_2> . The powdered status is <extra_id_3> . Its latex-free status is <extra_id_4> . It comes in <extra_id_5> per box. There are <extra_id_6> per case. It is used for <extra_id_7> . The material of this item is <extra_id_8> . This item is <extra_id_9> thick. It is <extra_id_10> long. The product name is <extra_id_11> . <extra_id_12> manufactures this.\", \"description: rospital productos medicos atlas medical products llc latex polymer powder free surgical gloves ( palm texture ) size 7.5 , pair. The color of this item is <extra_id_0> . The size is <extra_id_1> . This item's sterile status is <extra_id_2> . The powdered status is <extra_id_3> . Its latex-free status is <extra_id_4> . It comes in <extra_id_5> per box. There are <extra_id_6> per case. It is used for <extra_id_7> . The material of this item is <extra_id_8> . This item is <extra_id_9> thick. It is <extra_id_10> long. The product name is <extra_id_11> . <extra_id_12> manufactures this.\", \"description: curaplex vinyl gloves lg , 100/bx 10bx/cs curaplex bound tree medical , llc. The color of this item is <extra_id_0> . The size is <extra_id_1> . This item's sterile status is <extra_id_2> . The powdered status is <extra_id_3> . Its latex-free status is <extra_id_4> . It comes in <extra_id_5> per box. There are <extra_id_6> per case. It is used for <extra_id_7> . The material of this item is <extra_id_8> . This item is <extra_id_9> thick. It is <extra_id_10> long. The product name is <extra_id_11> . <extra_id_12> manufactures this.\", \"description: premierpro surgeons glove svs llc latex micro , pf , size 8.5 , paircolor brown50pair/box , 4bx/case. The color of this item is <extra_id_0> . The size is <extra_id_1> . This item's sterile status is <extra_id_2> . The powdered status is <extra_id_3> . Its latex-free status is <extra_id_4> . It comes in <extra_id_5> per box. There are <extra_id_6> per case. It is used for <extra_id_7> . The material of this item is <extra_id_8> . This item is <extra_id_9> thick. It is <extra_id_10> long. The product name is <extra_id_11> . <extra_id_12> manufactures this.\"]\n",
            "Target Text ['targets: <extra_id_0> green <extra_id_1> extra-small <extra_id_2> none <extra_id_3> powder-free <extra_id_4> latex <extra_id_5> none <extra_id_6> none <extra_id_7> exam <extra_id_8> none <extra_id_9> none <extra_id_10> none <extra_id_11> beesure <extra_id_12> ascend eagle incorporated', 'targets: <extra_id_0> none <extra_id_1> extra-large <extra_id_2> none <extra_id_3> powder-free <extra_id_4> none <extra_id_5> none <extra_id_6> none <extra_id_7> exam <extra_id_8> nitrile <extra_id_9> none <extra_id_10> none <extra_id_11> beesure <extra_id_12> ascend eagle incorporated', 'targets: <extra_id_0> none <extra_id_1> small <extra_id_2> none <extra_id_3> powder-free <extra_id_4> none <extra_id_5> none <extra_id_6> none <extra_id_7> exam <extra_id_8> nitrile <extra_id_9> none <extra_id_10> none <extra_id_11> beesure <extra_id_12> ascend eagle incorporated', 'targets: <extra_id_0> purple <extra_id_1> large <extra_id_2> non-sterile <extra_id_3> powder-free <extra_id_4> none <extra_id_5> 300 pairs <extra_id_6> none <extra_id_7> exam <extra_id_8> nitrile <extra_id_9> none <extra_id_10> none <extra_id_11> none <extra_id_12> dealmed medical supplies llc', 'targets: <extra_id_0> blue <extra_id_1> medium <extra_id_2> none <extra_id_3> powder-free <extra_id_4> latex <extra_id_5> none <extra_id_6> none <extra_id_7> none <extra_id_8> none <extra_id_9> 14mil <extra_id_10> 12in <extra_id_11> cypress <extra_id_12> mckesson medical-surgical inc.', 'targets: <extra_id_0> none <extra_id_1> 6.5 <extra_id_2> sterile <extra_id_3> powder-free <extra_id_4> latex-free <extra_id_5> none <extra_id_6> none <extra_id_7> surgical <extra_id_8> none <extra_id_9> none <extra_id_10> none <extra_id_11> none <extra_id_12> applied dental inc.', 'targets: <extra_id_0> none <extra_id_1> 6.0 <extra_id_2> none <extra_id_3> powder-free <extra_id_4> latex <extra_id_5> none <extra_id_6> none <extra_id_7> surgical <extra_id_8> polymer <extra_id_9> none <extra_id_10> none <extra_id_11> rospital productos medicos <extra_id_12> atlas medical products llc', 'targets: <extra_id_0> none <extra_id_1> 7.5 <extra_id_2> none <extra_id_3> powder-free <extra_id_4> latex <extra_id_5> none <extra_id_6> none <extra_id_7> surgical <extra_id_8> polymer <extra_id_9> none <extra_id_10> none <extra_id_11> rospital productos medicos <extra_id_12> atlas medical products llc', 'targets: <extra_id_0> none <extra_id_1> large <extra_id_2> none <extra_id_3> none <extra_id_4> none <extra_id_5> 100 pairs <extra_id_6> 10 boxes <extra_id_7> none <extra_id_8> vinyl <extra_id_9> none <extra_id_10> none <extra_id_11> curaplex <extra_id_12> bound tree medical llc', 'targets: <extra_id_0> none <extra_id_1> 8.5 <extra_id_2> none <extra_id_3> powder-free <extra_id_4> latex <extra_id_5> 50 pairs <extra_id_6> 4 boxes <extra_id_7> surgical <extra_id_8> none <extra_id_9> none <extra_id_10> none <extra_id_11> premierpro <extra_id_12> svs llc']\n",
            "T5 Prediction ['targets: <extra_id_0> green <extra_id_1> extra-small <extra_id_2> none <extra_id_3> powder-free <extra_id_4> latex <extra_id_5> none <extra_id_6> none <extra_id_7> exam <extra_id_8> none <extra_id_9> none <extra_id_10> none <extra_id_11> beesure <extra_id_12> ascend eagle incorporated', 'targets: <extra_id_0> none <extra_id_1> extra-large <extra_id_2> none <extra_id_3> powder-free <extra_id_4> none <extra_id_5> none <extra_id_6> none <extra_id_7> exam <extra_id_8> nitrile <extra_id_9> none <extra_id_10> none <extra_id_11> beesure <extra_id_12> ascend eagle incorporated', 'targets: <extra_id_0> none <extra_id_1> small <extra_id_2> none <extra_id_3> powder-free <extra_id_4> none <extra_id_5> none <extra_id_6> none <extra_id_7> exam <extra_id_8> nitrile <extra_id_9> none <extra_id_10> none <extra_id_11> beesure <extra_id_12> ascend eagle incorporated', 'targets: <extra_id_0> purple <extra_id_1> large <extra_id_2> non-sterile <extra_id_3> powder-free <extra_id_4> none <extra_id_5> 300 pairs <extra_id_6> none <extra_id_7> exam <extra_id_8> nitrile <extra_id_9> none <extra_id_10> none <extra_id_11> none <extra_id_12> dealmed medical supplies llc', 'targets: <extra_id_0> blue <extra_id_1> medium <extra_id_2> none <extra_id_3> powder-free <extra_id_4> latex <extra_id_5> none <extra_id_6> none <extra_id_7> none <extra_id_8> none <extra_id_9> 14mil <extra_id_10> 12in <extra_id_11> cypress <extra_id_12> mckesson medical-surgical inc.', 'targets: <extra_id_0> none <extra_id_1> 6.5 <extra_id_2> sterile <extra_id_3> powder-free <extra_id_4> latex-free <extra_id_5> 6.5 pairs <extra_id_6> none <extra_id_7> surgical <extra_id_8> none <extra_id_9> none <extra_id_10> none <extra_id_11> none <extra_id_12> ad surgical applied dental inc.', 'targets: <extra_id_0> none <extra_id_1> 6.0 <extra_id_2> none <extra_id_3> powder-free <extra_id_4> latex <extra_id_5> none <extra_id_6> none <extra_id_7> surgical <extra_id_8> polymer <extra_id_9> none <extra_id_10> none <extra_id_11> rospital productos medicos <extra_id_12> atlas medical products llc', 'targets: <extra_id_0> none <extra_id_1> 7.5 <extra_id_2> none <extra_id_3> powder-free <extra_id_4> latex <extra_id_5> none <extra_id_6> none <extra_id_7> surgical <extra_id_8> polymer <extra_id_9> none <extra_id_10> none <extra_id_11> rospital productos medicos <extra_id_12> atlas medical products llc', 'targets: <extra_id_0> none <extra_id_1> large <extra_id_2> none <extra_id_3> none <extra_id_4> none <extra_id_5> 100 pairs <extra_id_6> 10 boxes <extra_id_7> none <extra_id_8> vinyl <extra_id_9> none <extra_id_10> none <extra_id_11> curaplex <extra_id_12> bound tree medical llc', 'targets: <extra_id_0> none <extra_id_1> 8.5 <extra_id_2> none <extra_id_3> powder-free <extra_id_4> latex <extra_id_5> 50 pairs <extra_id_6> 4 boxes <extra_id_7> surgical <extra_id_8> none <extra_id_9> none <extra_id_10> none <extra_id_11> premierpro <extra_id_12> svs llc'] \n",
            "\n",
            "Example  33\n",
            "Description:  [\"description: premierpro surgeons glove svs llc latex underglove , pf , size 6.0 , paircolor green50pair/box , 4bx/case. The color of this item is <extra_id_0> . The size is <extra_id_1> . This item's sterile status is <extra_id_2> . The powdered status is <extra_id_3> . Its latex-free status is <extra_id_4> . It comes in <extra_id_5> per box. There are <extra_id_6> per case. It is used for <extra_id_7> . The material of this item is <extra_id_8> . This item is <extra_id_9> thick. It is <extra_id_10> long. The product name is <extra_id_11> . <extra_id_12> manufactures this.\", \"description: latex , pf , size 8.0 , paircolor natural50pair/box , 4bx/case premierpro surgeons glove svs llc. The color of this item is <extra_id_0> . The size is <extra_id_1> . This item's sterile status is <extra_id_2> . The powdered status is <extra_id_3> . Its latex-free status is <extra_id_4> . It comes in <extra_id_5> per box. There are <extra_id_6> per case. It is used for <extra_id_7> . The material of this item is <extra_id_8> . This item is <extra_id_9> thick. It is <extra_id_10> long. The product name is <extra_id_11> . <extra_id_12> manufactures this.\", \"description: premierpro surgeons glove svs llc latex , pf , size 6.5 , paircolor natural50pair/box , 4bx/case. The color of this item is <extra_id_0> . The size is <extra_id_1> . This item's sterile status is <extra_id_2> . The powdered status is <extra_id_3> . Its latex-free status is <extra_id_4> . It comes in <extra_id_5> per box. There are <extra_id_6> per case. It is used for <extra_id_7> . The material of this item is <extra_id_8> . This item is <extra_id_9> thick. It is <extra_id_10> long. The product name is <extra_id_11> . <extra_id_12> manufactures this.\", \"description: premierpro surgeons glove svs llc latex , pf , size 5.5 , paircolor natural 50pair/box , 4bx/case. The color of this item is <extra_id_0> . The size is <extra_id_1> . This item's sterile status is <extra_id_2> . The powdered status is <extra_id_3> . Its latex-free status is <extra_id_4> . It comes in <extra_id_5> per box. There are <extra_id_6> per case. It is used for <extra_id_7> . The material of this item is <extra_id_8> . This item is <extra_id_9> thick. It is <extra_id_10> long. The product name is <extra_id_11> . <extra_id_12> manufactures this.\", \"description: premierpro surgeons glove svs llc polyisoprene , pf , micro , size 8.0 , paircolor white50pair/box , 4bx/case. The color of this item is <extra_id_0> . The size is <extra_id_1> . This item's sterile status is <extra_id_2> . The powdered status is <extra_id_3> . Its latex-free status is <extra_id_4> . It comes in <extra_id_5> per box. There are <extra_id_6> per case. It is used for <extra_id_7> . The material of this item is <extra_id_8> . This item is <extra_id_9> thick. It is <extra_id_10> long. The product name is <extra_id_11> . <extra_id_12> manufactures this.\", \"description: premierpro surgeons glove svs llc polyisoprene , pf , micro , size 7.0 , paircolor white50pair/box , 4bx/case. The color of this item is <extra_id_0> . The size is <extra_id_1> . This item's sterile status is <extra_id_2> . The powdered status is <extra_id_3> . Its latex-free status is <extra_id_4> . It comes in <extra_id_5> per box. There are <extra_id_6> per case. It is used for <extra_id_7> . The material of this item is <extra_id_8> . This item is <extra_id_9> thick. It is <extra_id_10> long. The product name is <extra_id_11> . <extra_id_12> manufactures this.\", \"description: premierpro surgeons glove svs llc polyisoprene , pf , micro , size 6.5 , paircolor white50pair/box , 4bx/case. The color of this item is <extra_id_0> . The size is <extra_id_1> . This item's sterile status is <extra_id_2> . The powdered status is <extra_id_3> . Its latex-free status is <extra_id_4> . It comes in <extra_id_5> per box. There are <extra_id_6> per case. It is used for <extra_id_7> . The material of this item is <extra_id_8> . This item is <extra_id_9> thick. It is <extra_id_10> long. The product name is <extra_id_11> . <extra_id_12> manufactures this.\", \"description: premierpro surgeons glove svs llc neoprene , pf , micro , size 7.5 , paircolor neutral. The color of this item is <extra_id_0> . The size is <extra_id_1> . This item's sterile status is <extra_id_2> . The powdered status is <extra_id_3> . Its latex-free status is <extra_id_4> . It comes in <extra_id_5> per box. There are <extra_id_6> per case. It is used for <extra_id_7> . The material of this item is <extra_id_8> . This item is <extra_id_9> thick. It is <extra_id_10> long. The product name is <extra_id_11> . <extra_id_12> manufactures this.\", \"description: premierpro surgeons glove svs llc neoprene , pf , micro , size 6.5 , paircolor neutral. The color of this item is <extra_id_0> . The size is <extra_id_1> . This item's sterile status is <extra_id_2> . The powdered status is <extra_id_3> . Its latex-free status is <extra_id_4> . It comes in <extra_id_5> per box. There are <extra_id_6> per case. It is used for <extra_id_7> . The material of this item is <extra_id_8> . This item is <extra_id_9> thick. It is <extra_id_10> long. The product name is <extra_id_11> . <extra_id_12> manufactures this.\", \"description: pair of polyisoprene , and neoprene , hybrid glovessize 8.5 , color : natural premierpro surgeons glove svs llc. The color of this item is <extra_id_0> . The size is <extra_id_1> . This item's sterile status is <extra_id_2> . The powdered status is <extra_id_3> . Its latex-free status is <extra_id_4> . It comes in <extra_id_5> per box. There are <extra_id_6> per case. It is used for <extra_id_7> . The material of this item is <extra_id_8> . This item is <extra_id_9> thick. It is <extra_id_10> long. The product name is <extra_id_11> . <extra_id_12> manufactures this.\"]\n",
            "Target Text ['targets: <extra_id_0> none <extra_id_1> 6.0 <extra_id_2> none <extra_id_3> powder-free <extra_id_4> latex <extra_id_5> 50 pairs <extra_id_6> 4 boxes <extra_id_7> surgical <extra_id_8> none <extra_id_9> none <extra_id_10> none <extra_id_11> premierpro <extra_id_12> svs llc', 'targets: <extra_id_0> none <extra_id_1> 8.0 <extra_id_2> none <extra_id_3> powder-free <extra_id_4> latex <extra_id_5> 50 pairs <extra_id_6> 4 boxes <extra_id_7> surgical <extra_id_8> none <extra_id_9> none <extra_id_10> none <extra_id_11> premierpro <extra_id_12> svs llc', 'targets: <extra_id_0> none <extra_id_1> 6.5 <extra_id_2> none <extra_id_3> powder-free <extra_id_4> latex <extra_id_5> 50 pairs <extra_id_6> 4 boxes <extra_id_7> surgical <extra_id_8> none <extra_id_9> none <extra_id_10> none <extra_id_11> premierpro <extra_id_12> svs llc', 'targets: <extra_id_0> natural <extra_id_1> 5.5 <extra_id_2> none <extra_id_3> powder-free <extra_id_4> latex <extra_id_5> 50 pairs <extra_id_6> 4 boxes <extra_id_7> surgical <extra_id_8> none <extra_id_9> none <extra_id_10> none <extra_id_11> premierpro <extra_id_12> svs llc', 'targets: <extra_id_0> none <extra_id_1> 8.0 <extra_id_2> none <extra_id_3> powder-free <extra_id_4> none <extra_id_5> 50 pairs <extra_id_6> 4 boxes <extra_id_7> surgical <extra_id_8> polyisoprene <extra_id_9> none <extra_id_10> none <extra_id_11> premierpro <extra_id_12> svs llc', 'targets: <extra_id_0> none <extra_id_1> 7.0 <extra_id_2> none <extra_id_3> powder-free <extra_id_4> none <extra_id_5> 50 pairs <extra_id_6> 4 boxes <extra_id_7> surgical <extra_id_8> polyisoprene <extra_id_9> none <extra_id_10> none <extra_id_11> premierpro <extra_id_12> svs llc', 'targets: <extra_id_0> none <extra_id_1> 6.5 <extra_id_2> none <extra_id_3> powder-free <extra_id_4> none <extra_id_5> 50 pairs <extra_id_6> 4 boxes <extra_id_7> surgical <extra_id_8> polyisoprene <extra_id_9> none <extra_id_10> none <extra_id_11> premierpro <extra_id_12> svs llc', 'targets: <extra_id_0> none <extra_id_1> 7.5 <extra_id_2> none <extra_id_3> powder-free <extra_id_4> none <extra_id_5> none <extra_id_6> none <extra_id_7> surgical <extra_id_8> neoprene <extra_id_9> none <extra_id_10> none <extra_id_11> premierpro <extra_id_12> svs llc', 'targets: <extra_id_0> none <extra_id_1> 6.5 <extra_id_2> none <extra_id_3> powder-free <extra_id_4> none <extra_id_5> none <extra_id_6> none <extra_id_7> surgical <extra_id_8> neoprene <extra_id_9> none <extra_id_10> none <extra_id_11> premierpro <extra_id_12> svs llc', 'targets: <extra_id_0> natural <extra_id_1> none <extra_id_2> none <extra_id_3> none <extra_id_4> none <extra_id_5> none <extra_id_6> none <extra_id_7> surgical <extra_id_8> polyisoprene, neoprene <extra_id_9> none <extra_id_10> none <extra_id_11> premierpro <extra_id_12> svs llc']\n",
            "T5 Prediction ['targets: <extra_id_0> none <extra_id_1> 6.0 <extra_id_2> none <extra_id_3> powder-free <extra_id_4> latex <extra_id_5> 50 pairs <extra_id_6> 4 boxes <extra_id_7> surgical <extra_id_8> none <extra_id_9> none <extra_id_10> none <extra_id_11> premierpro <extra_id_12> svs llc', 'targets: <extra_id_0> none <extra_id_1> 8.0 <extra_id_2> none <extra_id_3> powder-free <extra_id_4> latex <extra_id_5> 50 pairs <extra_id_6> 4 boxes <extra_id_7> surgical <extra_id_8> none <extra_id_9> none <extra_id_10> none <extra_id_11> premierpro <extra_id_12> svs llc', 'targets: <extra_id_0> none <extra_id_1> 6.5 <extra_id_2> none <extra_id_3> powder-free <extra_id_4> latex <extra_id_5> 50 pairs <extra_id_6> 4 boxes <extra_id_7> surgical <extra_id_8> none <extra_id_9> none <extra_id_10> none <extra_id_11> premierpro <extra_id_12> svs llc', 'targets: <extra_id_0> natural <extra_id_1> 5.5 <extra_id_2> none <extra_id_3> powder-free <extra_id_4> latex <extra_id_5> 50 pairs <extra_id_6> 4 boxes <extra_id_7> surgical <extra_id_8> none <extra_id_9> none <extra_id_10> none <extra_id_11> premierpro <extra_id_12> svs llc', 'targets: <extra_id_0> none <extra_id_1> 8.0 <extra_id_2> none <extra_id_3> powder-free <extra_id_4> none <extra_id_5> 50 pairs <extra_id_6> 4 boxes <extra_id_7> surgical <extra_id_8> polyisoprene <extra_id_9> none <extra_id_10> none <extra_id_11> premierpro <extra_id_12> svs llc', 'targets: <extra_id_0> none <extra_id_1> 7.0 <extra_id_2> none <extra_id_3> powder-free <extra_id_4> none <extra_id_5> 50 pairs <extra_id_6> 4 boxes <extra_id_7> surgical <extra_id_8> polyisoprene <extra_id_9> none <extra_id_10> none <extra_id_11> premierpro <extra_id_12> svs llc', 'targets: <extra_id_0> none <extra_id_1> 6.5 <extra_id_2> none <extra_id_3> powder-free <extra_id_4> none <extra_id_5> 50 pairs <extra_id_6> 4 boxes <extra_id_7> surgical <extra_id_8> polyisoprene <extra_id_9> none <extra_id_10> none <extra_id_11> premierpro <extra_id_12> svs llc', 'targets: <extra_id_0> neutral <extra_id_1> 7.5 <extra_id_2> none <extra_id_3> powder-free <extra_id_4> none <extra_id_5> none <extra_id_6> none <extra_id_7> surgical <extra_id_8> neoprene <extra_id_9> none <extra_id_10> none <extra_id_11> premierpro <extra_id_12> svs llc', 'targets: <extra_id_0> neutral <extra_id_1> 6.5 <extra_id_2> none <extra_id_3> powder-free <extra_id_4> none <extra_id_5> none <extra_id_6> none <extra_id_7> surgical <extra_id_8> neoprene <extra_id_9> none <extra_id_10> none <extra_id_11> premierpro <extra_id_12> svs llc', 'targets: <extra_id_0> natural <extra_id_1> none <extra_id_2> none <extra_id_3> none <extra_id_4> none <extra_id_5> none <extra_id_6> none <extra_id_7> surgical <extra_id_8> polyisoprene, neoprene <extra_id_9> none <extra_id_10> none <extra_id_11> premierpro <extra_id_12> svs llc'] \n",
            "\n",
            "Example  34\n",
            "Description:  [\"description: premierpro surgeons glove svs llc pair of polyisoprene , and neoprene , hybrid glovessize 8.0 , color : natural. The color of this item is <extra_id_0> . The size is <extra_id_1> . This item's sterile status is <extra_id_2> . The powdered status is <extra_id_3> . Its latex-free status is <extra_id_4> . It comes in <extra_id_5> per box. There are <extra_id_6> per case. It is used for <extra_id_7> . The material of this item is <extra_id_8> . This item is <extra_id_9> thick. It is <extra_id_10> long. The product name is <extra_id_11> . <extra_id_12> manufactures this.\", \"description: premierpro surgeons glove svs llc pair of polyisoprene , and neoprene , hybrid glovessize 5.5 , color natural. The color of this item is <extra_id_0> . The size is <extra_id_1> . This item's sterile status is <extra_id_2> . The powdered status is <extra_id_3> . Its latex-free status is <extra_id_4> . It comes in <extra_id_5> per box. There are <extra_id_6> per case. It is used for <extra_id_7> . The material of this item is <extra_id_8> . This item is <extra_id_9> thick. It is <extra_id_10> long. The product name is <extra_id_11> . <extra_id_12> manufactures this.\", \"description: premierpro surgeons glove svs llc pair of sterile polyisoprene surgical glovessize 5.5color : green. The color of this item is <extra_id_0> . The size is <extra_id_1> . This item's sterile status is <extra_id_2> . The powdered status is <extra_id_3> . Its latex-free status is <extra_id_4> . It comes in <extra_id_5> per box. There are <extra_id_6> per case. It is used for <extra_id_7> . The material of this item is <extra_id_8> . This item is <extra_id_9> thick. It is <extra_id_10> long. The product name is <extra_id_11> . <extra_id_12> manufactures this.\", \"description: advance plus TM latex exam gloves , powder-free southern anesthesia & surgical , inc. latex exam gloves , powder-free , medium , box. The color of this item is <extra_id_0> . The size is <extra_id_1> . This item's sterile status is <extra_id_2> . The powdered status is <extra_id_3> . Its latex-free status is <extra_id_4> . It comes in <extra_id_5> per box. There are <extra_id_6> per case. It is used for <extra_id_7> . The material of this item is <extra_id_8> . This item is <extra_id_9> thick. It is <extra_id_10> long. The product name is <extra_id_11> . <extra_id_12> manufactures this.\", \"description: advance plus TM latex exam gloves , powder-free southern anesthesia & surgical , inc. latex exam gloves , powder-free , xs , box. The color of this item is <extra_id_0> . The size is <extra_id_1> . This item's sterile status is <extra_id_2> . The powdered status is <extra_id_3> . Its latex-free status is <extra_id_4> . It comes in <extra_id_5> per box. There are <extra_id_6> per case. It is used for <extra_id_7> . The material of this item is <extra_id_8> . This item is <extra_id_9> thick. It is <extra_id_10> long. The product name is <extra_id_11> . <extra_id_12> manufactures this.\"]\n",
            "Target Text ['targets: <extra_id_0> natural <extra_id_1> none <extra_id_2> none <extra_id_3> none <extra_id_4> none <extra_id_5> none <extra_id_6> none <extra_id_7> surgical <extra_id_8> polyisoprene, neoprene <extra_id_9> none <extra_id_10> none <extra_id_11> premierpro <extra_id_12> svs llc', 'targets: <extra_id_0> natural <extra_id_1> none <extra_id_2> none <extra_id_3> none <extra_id_4> none <extra_id_5> none <extra_id_6> none <extra_id_7> surgical <extra_id_8> polyisoprene, neoprene <extra_id_9> none <extra_id_10> none <extra_id_11> premierpro <extra_id_12> svs llc', 'targets: <extra_id_0> green <extra_id_1> none <extra_id_2> sterile <extra_id_3> none <extra_id_4> none <extra_id_5> none <extra_id_6> none <extra_id_7> surgical <extra_id_8> polyisoprene <extra_id_9> none <extra_id_10> none <extra_id_11> premierpro <extra_id_12> svs llc', 'targets: <extra_id_0> none <extra_id_1> medium <extra_id_2> none <extra_id_3> powder-free <extra_id_4> latex <extra_id_5> none <extra_id_6> none <extra_id_7> exam <extra_id_8> none <extra_id_9> none <extra_id_10> none <extra_id_11> advance plus <extra_id_12> southern anesthesia & surgical inc.', 'targets: <extra_id_0> none <extra_id_1> extra-small <extra_id_2> none <extra_id_3> powder-free <extra_id_4> latex <extra_id_5> none <extra_id_6> none <extra_id_7> exam <extra_id_8> none <extra_id_9> none <extra_id_10> none <extra_id_11> advance plus <extra_id_12> southern anesthesia & surgical inc.']\n",
            "T5 Prediction ['targets: <extra_id_0> natural <extra_id_1> none <extra_id_2> none <extra_id_3> none <extra_id_4> none <extra_id_5> none <extra_id_6> none <extra_id_7> surgical <extra_id_8> polyisoprene, neoprene <extra_id_9> none <extra_id_10> none <extra_id_11> premierpro <extra_id_12> svs llc', 'targets: <extra_id_0> natural <extra_id_1> none <extra_id_2> none <extra_id_3> none <extra_id_4> none <extra_id_5> none <extra_id_6> none <extra_id_7> surgical <extra_id_8> polyisoprene, neoprene <extra_id_9> none <extra_id_10> none <extra_id_11> premierpro <extra_id_12> svs llc', 'targets: <extra_id_0> green <extra_id_1> none <extra_id_2> sterile <extra_id_3> none <extra_id_4> none <extra_id_5> none <extra_id_6> none <extra_id_7> surgical <extra_id_8> polyisoprene <extra_id_9> none <extra_id_10> none <extra_id_11> premierpro <extra_id_12> svs llc', 'targets: <extra_id_0> none <extra_id_1> medium <extra_id_2> none <extra_id_3> powder-free <extra_id_4> latex <extra_id_5> none <extra_id_6> none <extra_id_7> exam <extra_id_8> none <extra_id_9> none <extra_id_10> none <extra_id_11> advance plus <extra_id_12> southern anesthesia & surgical inc.', 'targets: <extra_id_0> none <extra_id_1> extra-small <extra_id_2> none <extra_id_3> powder-free <extra_id_4> latex <extra_id_5> none <extra_id_6> none <extra_id_7> exam <extra_id_8> none <extra_id_9> none <extra_id_10> none <extra_id_11> advance plus <extra_id_12> southern anesthesia & surgical inc.'] \n",
            "\n"
          ],
          "name": "stdout"
        }
      ]
    },
    {
      "cell_type": "code",
      "metadata": {
        "id": "N1KPUYvrDGRr"
      },
      "source": [
        "val_output_df = pd.concat(validation_output)\n",
        "val_output_df.to_pickle('folderOnColab/Results/T5_Single_Original_Format_V1_Val_Results.pkl')"
      ],
      "execution_count": 34,
      "outputs": []
    },
    {
      "cell_type": "code",
      "metadata": {
        "id": "wJ7gG4p4DJ_M",
        "colab": {
          "base_uri": "https://localhost:8080/",
          "height": 204
        },
        "outputId": "7fef4368-5138-4039-b6ab-66bc1624dde0"
      },
      "source": [
        "val_output_df = pd.read_pickle('folderOnColab/Results/T5_Single_Original_Format_V1_Val_Results.pkl') # Results Local Runtime\n",
        "val_output_df.head()"
      ],
      "execution_count": 35,
      "outputs": [
        {
          "output_type": "execute_result",
          "data": {
            "text/html": [
              "<div>\n",
              "<style scoped>\n",
              "    .dataframe tbody tr th:only-of-type {\n",
              "        vertical-align: middle;\n",
              "    }\n",
              "\n",
              "    .dataframe tbody tr th {\n",
              "        vertical-align: top;\n",
              "    }\n",
              "\n",
              "    .dataframe thead th {\n",
              "        text-align: right;\n",
              "    }\n",
              "</style>\n",
              "<table border=\"1\" class=\"dataframe\">\n",
              "  <thead>\n",
              "    <tr style=\"text-align: right;\">\n",
              "      <th></th>\n",
              "      <th>input</th>\n",
              "      <th>target_output</th>\n",
              "      <th>predicted_output</th>\n",
              "    </tr>\n",
              "  </thead>\n",
              "  <tbody>\n",
              "    <tr>\n",
              "      <th>0</th>\n",
              "      <td>description: nitrile powder free exam gloves b...</td>\n",
              "      <td>targets: &lt;extra_id_0&gt; black &lt;extra_id_1&gt; extra...</td>\n",
              "      <td>targets: &lt;extra_id_0&gt; black &lt;extra_id_1&gt; extra...</td>\n",
              "    </tr>\n",
              "    <tr>\n",
              "      <th>1</th>\n",
              "      <td>description: nitrile powder free exam gloves b...</td>\n",
              "      <td>targets: &lt;extra_id_0&gt; black &lt;extra_id_1&gt; mediu...</td>\n",
              "      <td>targets: &lt;extra_id_0&gt; black &lt;extra_id_1&gt; mediu...</td>\n",
              "    </tr>\n",
              "    <tr>\n",
              "      <th>2</th>\n",
              "      <td>description: ambitex glv exam non-sterile stre...</td>\n",
              "      <td>targets: &lt;extra_id_0&gt; cream &lt;extra_id_1&gt; extra...</td>\n",
              "      <td>targets: &lt;extra_id_0&gt; cream &lt;extra_id_1&gt; extra...</td>\n",
              "    </tr>\n",
              "    <tr>\n",
              "      <th>3</th>\n",
              "      <td>description: nitrile exam blue powder free glo...</td>\n",
              "      <td>targets: &lt;extra_id_0&gt; blue &lt;extra_id_1&gt; large ...</td>\n",
              "      <td>targets: &lt;extra_id_0&gt; blue &lt;extra_id_1&gt; large ...</td>\n",
              "    </tr>\n",
              "    <tr>\n",
              "      <th>4</th>\n",
              "      <td>description: ambitex glv exam non-sterile nitr...</td>\n",
              "      <td>targets: &lt;extra_id_0&gt; black &lt;extra_id_1&gt; extra...</td>\n",
              "      <td>targets: &lt;extra_id_0&gt; black &lt;extra_id_1&gt; extra...</td>\n",
              "    </tr>\n",
              "  </tbody>\n",
              "</table>\n",
              "</div>"
            ],
            "text/plain": [
              "                                               input  ...                                   predicted_output\n",
              "0  description: nitrile powder free exam gloves b...  ...  targets: <extra_id_0> black <extra_id_1> extra...\n",
              "1  description: nitrile powder free exam gloves b...  ...  targets: <extra_id_0> black <extra_id_1> mediu...\n",
              "2  description: ambitex glv exam non-sterile stre...  ...  targets: <extra_id_0> cream <extra_id_1> extra...\n",
              "3  description: nitrile exam blue powder free glo...  ...  targets: <extra_id_0> blue <extra_id_1> large ...\n",
              "4  description: ambitex glv exam non-sterile nitr...  ...  targets: <extra_id_0> black <extra_id_1> extra...\n",
              "\n",
              "[5 rows x 3 columns]"
            ]
          },
          "metadata": {
            "tags": []
          },
          "execution_count": 35
        }
      ]
    },
    {
      "cell_type": "code",
      "metadata": {
        "id": "9miEuGiYfQU7"
      },
      "source": [
        "# Dicts for extra_id number to label name\n",
        "query_id_to_label = {'0': 'color', '1': 'size', '2': 'type1', '3': 'type2', '4': 'type3', '5': 'boxes', '6': 'case', \n",
        "                     '7': 'use', '8': 'material', '9': 'thickness', '10': 'length', '11': 'brand'}\n",
        "desc_id_to_label = {'0': 'color', '1': 'size', '2': 'type1', '3': 'type2', '4': 'boxes', '5': 'case', \n",
        "                     '6': 'use', '7': 'material', '8': 'thickness', '9': 'length', '10': 'primary_brand',\n",
        "                    '11': 'secondary_brand', '12': 'company'}"
      ],
      "execution_count": null,
      "outputs": []
    },
    {
      "cell_type": "code",
      "metadata": {
        "id": "mQ6rpM2Z1jRi"
      },
      "source": [
        "results = []\n",
        "task = 'Query'\n",
        "# [val_output_df.task == task]\n",
        "for i, v in val_output_df.iterrows():\n",
        "    pred_dict = answer_to_dict_v2(v.predicted_output,  'Original', id_to_label)\n",
        "    targ_dict = answer_to_dict_v2(v.target_output,  'Original', id_to_label)\n",
        "    results.append(comparing_labels_V2(targ_dict, pred_dict, n_a=True))\n",
        "results_val_df = pd.DataFrame(results)"
      ],
      "execution_count": 38,
      "outputs": []
    },
    {
      "cell_type": "code",
      "metadata": {
        "id": "U0p3Za2v1rzU",
        "colab": {
          "base_uri": "https://localhost:8080/"
        },
        "outputId": "9adb95aa-a186-4175-a99a-2da80b514abc"
      },
      "source": [
        "# This cell gets the accuracy for the tasks\n",
        "print(f'Accuracy for {task} task without none labels Original Label Setup')\n",
        "for i in results_val_df.columns:\n",
        "    print(f'Accuracy of {i} is: {np.nanmean(results_val_df[i])}')"
      ],
      "execution_count": 39,
      "outputs": [
        {
          "output_type": "stream",
          "text": [
            "Accuracy for Query task without none labels Original Label Setup\n",
            "Accuracy of color is: 0.9867549668874173\n",
            "Accuracy of size is: 0.9901960784313726\n",
            "Accuracy of type1 is: 0.9555555555555556\n",
            "Accuracy of type2 is: 1.0\n",
            "Accuracy of type3 is: 0.9733333333333334\n",
            "Accuracy of boxes is: 0.9857142857142858\n",
            "Accuracy of case is: 1.0\n",
            "Accuracy of use is: 1.0\n",
            "Accuracy of material is: 0.9958677685950413\n",
            "Accuracy of thickness is: 0.9861111111111112\n",
            "Accuracy of length is: 1.0\n",
            "Accuracy of brand is: 0.9884169884169884\n",
            "Accuracy of company is: 0.9884057971014493\n"
          ],
          "name": "stdout"
        }
      ]
    },
    {
      "cell_type": "markdown",
      "metadata": {
        "id": "QBn3bKKjIXkA"
      },
      "source": [
        "# Medequip Query Evaluation"
      ]
    },
    {
      "cell_type": "code",
      "metadata": {
        "colab": {
          "base_uri": "https://localhost:8080/",
          "height": 204
        },
        "id": "8Dp02EkECzPJ",
        "outputId": "15159ccb-efa6-46ce-c7ef-bad59d472833"
      },
      "source": [
        "df = pd.read_pickle('/content/folderOnColab/Data/MedEquip_glove_search_history-auto-NL.pkl')\n",
        "df.head()"
      ],
      "execution_count": 6,
      "outputs": [
        {
          "output_type": "execute_result",
          "data": {
            "text/html": [
              "<div>\n",
              "<style scoped>\n",
              "    .dataframe tbody tr th:only-of-type {\n",
              "        vertical-align: middle;\n",
              "    }\n",
              "\n",
              "    .dataframe tbody tr th {\n",
              "        vertical-align: top;\n",
              "    }\n",
              "\n",
              "    .dataframe thead th {\n",
              "        text-align: right;\n",
              "    }\n",
              "</style>\n",
              "<table border=\"1\" class=\"dataframe\">\n",
              "  <thead>\n",
              "    <tr style=\"text-align: right;\">\n",
              "      <th></th>\n",
              "      <th>Search Term</th>\n",
              "      <th>Total Unique Searches</th>\n",
              "      <th>Gloves</th>\n",
              "    </tr>\n",
              "  </thead>\n",
              "  <tbody>\n",
              "    <tr>\n",
              "      <th>33</th>\n",
              "      <td>gloves</td>\n",
              "      <td>44</td>\n",
              "      <td>True</td>\n",
              "    </tr>\n",
              "    <tr>\n",
              "      <th>135</th>\n",
              "      <td>nitrile gloves</td>\n",
              "      <td>26</td>\n",
              "      <td>True</td>\n",
              "    </tr>\n",
              "    <tr>\n",
              "      <th>1277</th>\n",
              "      <td>sterile gloves</td>\n",
              "      <td>7</td>\n",
              "      <td>True</td>\n",
              "    </tr>\n",
              "    <tr>\n",
              "      <th>1637</th>\n",
              "      <td>exam gloves</td>\n",
              "      <td>6</td>\n",
              "      <td>True</td>\n",
              "    </tr>\n",
              "    <tr>\n",
              "      <th>2310</th>\n",
              "      <td>latex gloves</td>\n",
              "      <td>5</td>\n",
              "      <td>True</td>\n",
              "    </tr>\n",
              "  </tbody>\n",
              "</table>\n",
              "</div>"
            ],
            "text/plain": [
              "         Search Term Total Unique Searches  Gloves\n",
              "33            gloves                    44    True\n",
              "135   nitrile gloves                    26    True\n",
              "1277  sterile gloves                     7    True\n",
              "1637     exam gloves                     6    True\n",
              "2310    latex gloves                     5    True"
            ]
          },
          "metadata": {
            "tags": []
          },
          "execution_count": 6
        }
      ]
    },
    {
      "cell_type": "code",
      "metadata": {
        "id": "K3T_WtLlUQhs"
      },
      "source": [
        "device = torch.device(\"cuda\" if torch.cuda.is_available() else \"cpu\")\n",
        "T5 = T5ForConditionalGeneration.from_pretrained('t5-base', return_dict=True)\n",
        "T5.load_state_dict(torch.load('folderOnColab/Models/T5_Single_Original_Format_V1.bin'))\n",
        "T5.to(device)"
      ],
      "execution_count": null,
      "outputs": []
    },
    {
      "cell_type": "code",
      "metadata": {
        "id": "2UIDQqMxVEdi"
      },
      "source": [
        "id_to_label = {'0': 'color', '1': 'size', '2': 'type1', '3': 'type2', '4': 'type3', '5': 'boxes', '6': 'case', \n",
        "                     '7': 'use', '8': 'material', '9': 'thickness', '10': 'length', '11': 'brand', '12': 'company'}\n",
        "\n",
        "input_prompts = '''The color of this item is <extra_id_0>. The size is <extra_id_1>. This item's sterile status is <extra_id_2>. ''' \\\n",
        "            + '''The powdered status is <extra_id_3>. Its latex-free status is <extra_id_4>. It comes in <extra_id_5> per box. ''' \\\n",
        "            + '''There are <extra_id_6> per case. It is used for <extra_id_7>. The material of this item is <extra_id_8>. This item ''' \\\n",
        "            + '''is <extra_id_9> thick. It is <extra_id_10> long. The product name is <extra_id_11>. <extra_id_12> manufactures this.'''"
      ],
      "execution_count": 12,
      "outputs": []
    },
    {
      "cell_type": "code",
      "metadata": {
        "id": "4WM6NdFUDXCg",
        "colab": {
          "base_uri": "https://localhost:8080/",
          "height": 1000
        },
        "outputId": "db0893f6-1c63-4c0f-de97-2a6ad95f7493"
      },
      "source": [
        "tokenizer = T5Tokenizer.from_pretrained('t5-base')\n",
        "results = []\n",
        "for ind, val in df.iterrows():\n",
        "    input = str(val['Search Term']).lower()\n",
        "    input = 'description: ' + \\\n",
        "            re.sub(r'(?<![a-zA-Z])-(?=[a-zA-Z])',' - ',' '.join(nltk.word_tokenize(input))) \\\n",
        "             + '. ' + input_prompts\n",
        "\n",
        "    dct = tokenizer(input, max_length=512, padding='max_length', return_tensors='pt')\n",
        "    input_ids = dct[\"input_ids\"].to(device).squeeze(1)\n",
        "    attention_mask = dct[\"attention_mask\"].to(device).squeeze(1)\n",
        "    \n",
        "    generated_ids = T5.generate(input_ids=input_ids, attention_mask=attention_mask, max_length=100)#.squeeze()\n",
        "    predicted_span = tokenizer.batch_decode(generated_ids, skip_special_tokens=False, clean_up_tokenization_spaces=False)\n",
        "\n",
        "    inference_tokens = cleanup_T5_tokenization(predicted_span, input=False)[0]\n",
        "    inference_tokens = answer_to_dict_v2(inference_tokens, 'Original', id_to_label, na = False)\n",
        "    \n",
        "    \n",
        "    tmp = {'search_term': val['Search Term'], 'input': input, 'labels': inference_tokens, \n",
        "           'total_unique_searches': val['Total Unique Searches'], 'gloves': val['Gloves']}\n",
        "    results.append(tmp)\n",
        "    print('Search Term: ', val['Search Term'])\n",
        "    print('Model Input: ', input)\n",
        "    print(predicted_span, '\\n')\n",
        "results_df = pd.DataFrame(results)\n",
        "results_df.head()   "
      ],
      "execution_count": 18,
      "outputs": [
        {
          "output_type": "stream",
          "text": [
            "Search Term:  gloves\n",
            "Model Input:  description: gloves. The color of this item is <extra_id_0>. The size is <extra_id_1>. This item's sterile status is <extra_id_2>. The powdered status is <extra_id_3>. Its latex-free status is <extra_id_4>. It comes in <extra_id_5> per box. There are <extra_id_6> per case. It is used for <extra_id_7>. The material of this item is <extra_id_8>. This item is <extra_id_9> thick. It is <extra_id_10> long. The product name is <extra_id_11>. <extra_id_12> manufactures this.\n",
            "['targets: <extra_id_0> none <extra_id_1> none <extra_id_2> none <extra_id_3> none <extra_id_4> none <extra_id_5> none <extra_id_6> none <extra_id_7> none <extra_id_8> none <extra_id_9> none <extra_id_10> none <extra_id_11> none <extra_id_12> none'] \n",
            "\n",
            "Search Term:  nitrile gloves\n",
            "Model Input:  description: nitrile gloves. The color of this item is <extra_id_0>. The size is <extra_id_1>. This item's sterile status is <extra_id_2>. The powdered status is <extra_id_3>. Its latex-free status is <extra_id_4>. It comes in <extra_id_5> per box. There are <extra_id_6> per case. It is used for <extra_id_7>. The material of this item is <extra_id_8>. This item is <extra_id_9> thick. It is <extra_id_10> long. The product name is <extra_id_11>. <extra_id_12> manufactures this.\n",
            "['targets: <extra_id_0> none <extra_id_1> none <extra_id_2> none <extra_id_3> none <extra_id_4> none <extra_id_5> none <extra_id_6> none <extra_id_7> none <extra_id_8> nitrile <extra_id_9> none <extra_id_10> none <extra_id_11> none <extra_id_12> target'] \n",
            "\n",
            "Search Term:  sterile gloves\n",
            "Model Input:  description: sterile gloves. The color of this item is <extra_id_0>. The size is <extra_id_1>. This item's sterile status is <extra_id_2>. The powdered status is <extra_id_3>. Its latex-free status is <extra_id_4>. It comes in <extra_id_5> per box. There are <extra_id_6> per case. It is used for <extra_id_7>. The material of this item is <extra_id_8>. This item is <extra_id_9> thick. It is <extra_id_10> long. The product name is <extra_id_11>. <extra_id_12> manufactures this.\n",
            "['targets: <extra_id_0> none <extra_id_1> none <extra_id_2> sterile <extra_id_3> none <extra_id_4> none <extra_id_5> none <extra_id_6> none <extra_id_7> none <extra_id_8> none <extra_id_9> none <extra_id_10> none <extra_id_11> none <extra_id_12> target'] \n",
            "\n",
            "Search Term:  exam gloves\n",
            "Model Input:  description: exam gloves. The color of this item is <extra_id_0>. The size is <extra_id_1>. This item's sterile status is <extra_id_2>. The powdered status is <extra_id_3>. Its latex-free status is <extra_id_4>. It comes in <extra_id_5> per box. There are <extra_id_6> per case. It is used for <extra_id_7>. The material of this item is <extra_id_8>. This item is <extra_id_9> thick. It is <extra_id_10> long. The product name is <extra_id_11>. <extra_id_12> manufactures this.\n",
            "['targets: <extra_id_0> none <extra_id_1> none <extra_id_2> none <extra_id_3> none <extra_id_4> none <extra_id_5> none <extra_id_6> none <extra_id_7> exam <extra_id_8> none <extra_id_9> none <extra_id_10> none <extra_id_11> none <extra_id_12> exam gloves'] \n",
            "\n",
            "Search Term:  latex gloves\n",
            "Model Input:  description: latex gloves. The color of this item is <extra_id_0>. The size is <extra_id_1>. This item's sterile status is <extra_id_2>. The powdered status is <extra_id_3>. Its latex-free status is <extra_id_4>. It comes in <extra_id_5> per box. There are <extra_id_6> per case. It is used for <extra_id_7>. The material of this item is <extra_id_8>. This item is <extra_id_9> thick. It is <extra_id_10> long. The product name is <extra_id_11>. <extra_id_12> manufactures this.\n",
            "['targets: <extra_id_0> none <extra_id_1> none <extra_id_2> none <extra_id_3> none <extra_id_4> latex <extra_id_5> none <extra_id_6> none <extra_id_7> none <extra_id_8> none <extra_id_9> none <extra_id_10> none <extra_id_11> none <extra_id_12> none'] \n",
            "\n",
            "Search Term:  surgical gloves\n",
            "Model Input:  description: surgical gloves. The color of this item is <extra_id_0>. The size is <extra_id_1>. This item's sterile status is <extra_id_2>. The powdered status is <extra_id_3>. Its latex-free status is <extra_id_4>. It comes in <extra_id_5> per box. There are <extra_id_6> per case. It is used for <extra_id_7>. The material of this item is <extra_id_8>. This item is <extra_id_9> thick. It is <extra_id_10> long. The product name is <extra_id_11>. <extra_id_12> manufactures this.\n",
            "['targets: <extra_id_0> none <extra_id_1> none <extra_id_2> none <extra_id_3> none <extra_id_4> none <extra_id_5> none <extra_id_6> none <extra_id_7> surgical <extra_id_8> none <extra_id_9> none <extra_id_10> none <extra_id_11> none <extra_id_12> none'] \n",
            "\n",
            "Search Term:  glove\n",
            "Model Input:  description: glove. The color of this item is <extra_id_0>. The size is <extra_id_1>. This item's sterile status is <extra_id_2>. The powdered status is <extra_id_3>. Its latex-free status is <extra_id_4>. It comes in <extra_id_5> per box. There are <extra_id_6> per case. It is used for <extra_id_7>. The material of this item is <extra_id_8>. This item is <extra_id_9> thick. It is <extra_id_10> long. The product name is <extra_id_11>. <extra_id_12> manufactures this.\n",
            "['targets: <extra_id_0> none <extra_id_1> none <extra_id_2> none <extra_id_3> none <extra_id_4> none <extra_id_5> none <extra_id_6> none <extra_id_7> none <extra_id_8> none <extra_id_9> none <extra_id_10> none <extra_id_11> none <extra_id_12> none'] \n",
            "\n",
            "Search Term:  GLOVES\n",
            "Model Input:  description: gloves. The color of this item is <extra_id_0>. The size is <extra_id_1>. This item's sterile status is <extra_id_2>. The powdered status is <extra_id_3>. Its latex-free status is <extra_id_4>. It comes in <extra_id_5> per box. There are <extra_id_6> per case. It is used for <extra_id_7>. The material of this item is <extra_id_8>. This item is <extra_id_9> thick. It is <extra_id_10> long. The product name is <extra_id_11>. <extra_id_12> manufactures this.\n",
            "['targets: <extra_id_0> none <extra_id_1> none <extra_id_2> none <extra_id_3> none <extra_id_4> none <extra_id_5> none <extra_id_6> none <extra_id_7> none <extra_id_8> none <extra_id_9> none <extra_id_10> none <extra_id_11> none <extra_id_12> none'] \n",
            "\n",
            "Search Term:  Nitrile gloves\n",
            "Model Input:  description: nitrile gloves. The color of this item is <extra_id_0>. The size is <extra_id_1>. This item's sterile status is <extra_id_2>. The powdered status is <extra_id_3>. Its latex-free status is <extra_id_4>. It comes in <extra_id_5> per box. There are <extra_id_6> per case. It is used for <extra_id_7>. The material of this item is <extra_id_8>. This item is <extra_id_9> thick. It is <extra_id_10> long. The product name is <extra_id_11>. <extra_id_12> manufactures this.\n",
            "['targets: <extra_id_0> none <extra_id_1> none <extra_id_2> none <extra_id_3> none <extra_id_4> none <extra_id_5> none <extra_id_6> none <extra_id_7> none <extra_id_8> nitrile <extra_id_9> none <extra_id_10> none <extra_id_11> none <extra_id_12> target'] \n",
            "\n",
            "Search Term:  black gloves\n",
            "Model Input:  description: black gloves. The color of this item is <extra_id_0>. The size is <extra_id_1>. This item's sterile status is <extra_id_2>. The powdered status is <extra_id_3>. Its latex-free status is <extra_id_4>. It comes in <extra_id_5> per box. There are <extra_id_6> per case. It is used for <extra_id_7>. The material of this item is <extra_id_8>. This item is <extra_id_9> thick. It is <extra_id_10> long. The product name is <extra_id_11>. <extra_id_12> manufactures this.\n",
            "['targets: <extra_id_0> black <extra_id_1> none <extra_id_2> none <extra_id_3> none <extra_id_4> none <extra_id_5> none <extra_id_6> none <extra_id_7> none <extra_id_8> none <extra_id_9> none <extra_id_10> none <extra_id_11> none <extra_id_12> none'] \n",
            "\n",
            "Search Term:  dynarex gloves\n",
            "Model Input:  description: dynarex gloves. The color of this item is <extra_id_0>. The size is <extra_id_1>. This item's sterile status is <extra_id_2>. The powdered status is <extra_id_3>. Its latex-free status is <extra_id_4>. It comes in <extra_id_5> per box. There are <extra_id_6> per case. It is used for <extra_id_7>. The material of this item is <extra_id_8>. This item is <extra_id_9> thick. It is <extra_id_10> long. The product name is <extra_id_11>. <extra_id_12> manufactures this.\n",
            "['targets: <extra_id_0> none <extra_id_1> none <extra_id_2> none <extra_id_3> none <extra_id_4> none <extra_id_5> none <extra_id_6> none <extra_id_7> none <extra_id_8> none <extra_id_9> none <extra_id_10> none <extra_id_11> dynarex <extra_id_12> dynarex'] \n",
            "\n",
            "Search Term:  gloves medium\n",
            "Model Input:  description: gloves medium. The color of this item is <extra_id_0>. The size is <extra_id_1>. This item's sterile status is <extra_id_2>. The powdered status is <extra_id_3>. Its latex-free status is <extra_id_4>. It comes in <extra_id_5> per box. There are <extra_id_6> per case. It is used for <extra_id_7>. The material of this item is <extra_id_8>. This item is <extra_id_9> thick. It is <extra_id_10> long. The product name is <extra_id_11>. <extra_id_12> manufactures this.\n",
            "['targets: <extra_id_0> none <extra_id_1> medium <extra_id_2> none <extra_id_3> none <extra_id_4> none <extra_id_5> none <extra_id_6> none <extra_id_7> none <extra_id_8> none <extra_id_9> none <extra_id_10> none <extra_id_11> none <extra_id_12> none'] \n",
            "\n",
            "Search Term:  innovative gloves\n",
            "Model Input:  description: innovative gloves. The color of this item is <extra_id_0>. The size is <extra_id_1>. This item's sterile status is <extra_id_2>. The powdered status is <extra_id_3>. Its latex-free status is <extra_id_4>. It comes in <extra_id_5> per box. There are <extra_id_6> per case. It is used for <extra_id_7>. The material of this item is <extra_id_8>. This item is <extra_id_9> thick. It is <extra_id_10> long. The product name is <extra_id_11>. <extra_id_12> manufactures this.\n",
            "['targets: <extra_id_0> none <extra_id_1> none <extra_id_2> none <extra_id_3> none <extra_id_4> none <extra_id_5> none <extra_id_6> none <extra_id_7> none <extra_id_8> none <extra_id_9> none <extra_id_10> none <extra_id_11> none <extra_id_12> innovative gloves'] \n",
            "\n",
            "Search Term:  latex free gloves\n",
            "Model Input:  description: latex free gloves. The color of this item is <extra_id_0>. The size is <extra_id_1>. This item's sterile status is <extra_id_2>. The powdered status is <extra_id_3>. Its latex-free status is <extra_id_4>. It comes in <extra_id_5> per box. There are <extra_id_6> per case. It is used for <extra_id_7>. The material of this item is <extra_id_8>. This item is <extra_id_9> thick. It is <extra_id_10> long. The product name is <extra_id_11>. <extra_id_12> manufactures this.\n",
            "['targets: <extra_id_0> none <extra_id_1> none <extra_id_2> none <extra_id_3> none <extra_id_4> latex-free <extra_id_5> none <extra_id_6> none <extra_id_7> none <extra_id_8> none <extra_id_9> none <extra_id_10> none <extra_id_11> none <extra_id_12> none'] \n",
            "\n",
            "Search Term:  nitrile glove\n",
            "Model Input:  description: nitrile glove. The color of this item is <extra_id_0>. The size is <extra_id_1>. This item's sterile status is <extra_id_2>. The powdered status is <extra_id_3>. Its latex-free status is <extra_id_4>. It comes in <extra_id_5> per box. There are <extra_id_6> per case. It is used for <extra_id_7>. The material of this item is <extra_id_8>. This item is <extra_id_9> thick. It is <extra_id_10> long. The product name is <extra_id_11>. <extra_id_12> manufactures this.\n",
            "['targets: <extra_id_0> none <extra_id_1> none <extra_id_2> none <extra_id_3> none <extra_id_4> none <extra_id_5> none <extra_id_6> none <extra_id_7> none <extra_id_8> nitrile <extra_id_9> none <extra_id_10> none <extra_id_11> none <extra_id_12> target'] \n",
            "\n",
            "Search Term:  vinyl gloves\n",
            "Model Input:  description: vinyl gloves. The color of this item is <extra_id_0>. The size is <extra_id_1>. This item's sterile status is <extra_id_2>. The powdered status is <extra_id_3>. Its latex-free status is <extra_id_4>. It comes in <extra_id_5> per box. There are <extra_id_6> per case. It is used for <extra_id_7>. The material of this item is <extra_id_8>. This item is <extra_id_9> thick. It is <extra_id_10> long. The product name is <extra_id_11>. <extra_id_12> manufactures this.\n",
            "['targets: <extra_id_0> none <extra_id_1> none <extra_id_2> none <extra_id_3> none <extra_id_4> none <extra_id_5> none <extra_id_6> none <extra_id_7> none <extra_id_8> vinyl <extra_id_9> none <extra_id_10> none <extra_id_11> none <extra_id_12> target: none'] \n",
            "\n",
            "Search Term:  Dynarex Nitrile Exam Glove\n",
            "Model Input:  description: dynarex nitrile exam glove. The color of this item is <extra_id_0>. The size is <extra_id_1>. This item's sterile status is <extra_id_2>. The powdered status is <extra_id_3>. Its latex-free status is <extra_id_4>. It comes in <extra_id_5> per box. There are <extra_id_6> per case. It is used for <extra_id_7>. The material of this item is <extra_id_8>. This item is <extra_id_9> thick. It is <extra_id_10> long. The product name is <extra_id_11>. <extra_id_12> manufactures this.\n",
            "['targets: <extra_id_0> none <extra_id_1> none <extra_id_2> none <extra_id_3> none <extra_id_4> none <extra_id_5> none <extra_id_6> none <extra_id_7> exam <extra_id_8> nitrile <extra_id_9> none <extra_id_10> none <extra_id_11> dynarex <extra_id_12> dynarex'] \n",
            "\n",
            "Search Term:  Gloves\n",
            "Model Input:  description: gloves. The color of this item is <extra_id_0>. The size is <extra_id_1>. This item's sterile status is <extra_id_2>. The powdered status is <extra_id_3>. Its latex-free status is <extra_id_4>. It comes in <extra_id_5> per box. There are <extra_id_6> per case. It is used for <extra_id_7>. The material of this item is <extra_id_8>. This item is <extra_id_9> thick. It is <extra_id_10> long. The product name is <extra_id_11>. <extra_id_12> manufactures this.\n",
            "['targets: <extra_id_0> none <extra_id_1> none <extra_id_2> none <extra_id_3> none <extra_id_4> none <extra_id_5> none <extra_id_6> none <extra_id_7> none <extra_id_8> none <extra_id_9> none <extra_id_10> none <extra_id_11> none <extra_id_12> none'] \n",
            "\n",
            "Search Term:  Lead Gloves\n",
            "Model Input:  description: lead gloves. The color of this item is <extra_id_0>. The size is <extra_id_1>. This item's sterile status is <extra_id_2>. The powdered status is <extra_id_3>. Its latex-free status is <extra_id_4>. It comes in <extra_id_5> per box. There are <extra_id_6> per case. It is used for <extra_id_7>. The material of this item is <extra_id_8>. This item is <extra_id_9> thick. It is <extra_id_10> long. The product name is <extra_id_11>. <extra_id_12> manufactures this.\n",
            "['targets: <extra_id_0> none <extra_id_1> none <extra_id_2> none <extra_id_3> none <extra_id_4> none <extra_id_5> none <extra_id_6> none <extra_id_7> none <extra_id_8> none <extra_id_9> none <extra_id_10> none <extra_id_11> none <extra_id_12> none'] \n",
            "\n",
            "Search Term:  Nitrile gloves case\n",
            "Model Input:  description: nitrile gloves case. The color of this item is <extra_id_0>. The size is <extra_id_1>. This item's sterile status is <extra_id_2>. The powdered status is <extra_id_3>. Its latex-free status is <extra_id_4>. It comes in <extra_id_5> per box. There are <extra_id_6> per case. It is used for <extra_id_7>. The material of this item is <extra_id_8>. This item is <extra_id_9> thick. It is <extra_id_10> long. The product name is <extra_id_11>. <extra_id_12> manufactures this.\n",
            "['targets: <extra_id_0> none <extra_id_1> none <extra_id_2> none <extra_id_3> none <extra_id_4> none <extra_id_5> none <extra_id_6> none <extra_id_7> none <extra_id_8> nitrile <extra_id_9> none <extra_id_10> none <extra_id_11> none <extra_id_12> target'] \n",
            "\n",
            "Search Term:  Sharps Disposal Wall Cabinet Combo with Sharps Container and Glove Box\n",
            "Model Input:  description: sharps disposal wall cabinet combo with sharps container and glove box. The color of this item is <extra_id_0>. The size is <extra_id_1>. This item's sterile status is <extra_id_2>. The powdered status is <extra_id_3>. Its latex-free status is <extra_id_4>. It comes in <extra_id_5> per box. There are <extra_id_6> per case. It is used for <extra_id_7>. The material of this item is <extra_id_8>. This item is <extra_id_9> thick. It is <extra_id_10> long. The product name is <extra_id_11>. <extra_id_12> manufactures this.\n",
            "['targets: <extra_id_0> none <extra_id_1> none <extra_id_2> none <extra_id_3> none <extra_id_4> none <extra_id_5> none <extra_id_6> none <extra_id_7> none <extra_id_8> none <extra_id_9> none <extra_id_10> none <extra_id_11> sharps <extra_id_12> disposal wall cabinet combo with sharps container and glove box'] \n",
            "\n",
            "Search Term:  ansell gloves\n",
            "Model Input:  description: ansell gloves. The color of this item is <extra_id_0>. The size is <extra_id_1>. This item's sterile status is <extra_id_2>. The powdered status is <extra_id_3>. Its latex-free status is <extra_id_4>. It comes in <extra_id_5> per box. There are <extra_id_6> per case. It is used for <extra_id_7>. The material of this item is <extra_id_8>. This item is <extra_id_9> thick. It is <extra_id_10> long. The product name is <extra_id_11>. <extra_id_12> manufactures this.\n",
            "['targets: <extra_id_0> none <extra_id_1> none <extra_id_2> none <extra_id_3> none <extra_id_4> none <extra_id_5> none <extra_id_6> none <extra_id_7> none <extra_id_8> none <extra_id_9> none <extra_id_10> none <extra_id_11> none <extra_id_12> ansell'] \n",
            "\n",
            "Search Term:  chemo gloves\n",
            "Model Input:  description: chemo gloves. The color of this item is <extra_id_0>. The size is <extra_id_1>. This item's sterile status is <extra_id_2>. The powdered status is <extra_id_3>. Its latex-free status is <extra_id_4>. It comes in <extra_id_5> per box. There are <extra_id_6> per case. It is used for <extra_id_7>. The material of this item is <extra_id_8>. This item is <extra_id_9> thick. It is <extra_id_10> long. The product name is <extra_id_11>. <extra_id_12> manufactures this.\n",
            "['targets: <extra_id_0> none <extra_id_1> none <extra_id_2> none <extra_id_3> none <extra_id_4> none <extra_id_5> none <extra_id_6> none <extra_id_7> chemo <extra_id_8> none <extra_id_9> none <extra_id_10> none <extra_id_11> none <extra_id_12> ipc'] \n",
            "\n",
            "Search Term:  extra large gloves\n",
            "Model Input:  description: extra large gloves. The color of this item is <extra_id_0>. The size is <extra_id_1>. This item's sterile status is <extra_id_2>. The powdered status is <extra_id_3>. Its latex-free status is <extra_id_4>. It comes in <extra_id_5> per box. There are <extra_id_6> per case. It is used for <extra_id_7>. The material of this item is <extra_id_8>. This item is <extra_id_9> thick. It is <extra_id_10> long. The product name is <extra_id_11>. <extra_id_12> manufactures this.\n",
            "['targets: <extra_id_0> none <extra_id_1> extra-large <extra_id_2> none <extra_id_3> none <extra_id_4> none <extra_id_5> none <extra_id_6> none <extra_id_7> none <extra_id_8> none <extra_id_9> none <extra_id_10> none <extra_id_11> none <extra_id_12> none'] \n",
            "\n",
            "Search Term:  gloves powder-free S\n",
            "Model Input:  description: gloves powder-free s. The color of this item is <extra_id_0>. The size is <extra_id_1>. This item's sterile status is <extra_id_2>. The powdered status is <extra_id_3>. Its latex-free status is <extra_id_4>. It comes in <extra_id_5> per box. There are <extra_id_6> per case. It is used for <extra_id_7>. The material of this item is <extra_id_8>. This item is <extra_id_9> thick. It is <extra_id_10> long. The product name is <extra_id_11>. <extra_id_12> manufactures this.\n",
            "['targets: <extra_id_0> none <extra_id_1> small <extra_id_2> none <extra_id_3> powder-free <extra_id_4> none <extra_id_5> none <extra_id_6> none <extra_id_7> none <extra_id_8> none <extra_id_9> none <extra_id_10> none <extra_id_11> none <extra_id_12> none'] \n",
            "\n",
            "Search Term:  green gloves\n",
            "Model Input:  description: green gloves. The color of this item is <extra_id_0>. The size is <extra_id_1>. This item's sterile status is <extra_id_2>. The powdered status is <extra_id_3>. Its latex-free status is <extra_id_4>. It comes in <extra_id_5> per box. There are <extra_id_6> per case. It is used for <extra_id_7>. The material of this item is <extra_id_8>. This item is <extra_id_9> thick. It is <extra_id_10> long. The product name is <extra_id_11>. <extra_id_12> manufactures this.\n",
            "['targets: <extra_id_0> green <extra_id_1> none <extra_id_2> none <extra_id_3> none <extra_id_4> none <extra_id_5> none <extra_id_6> none <extra_id_7> none <extra_id_8> none <extra_id_9> none <extra_id_10> none <extra_id_11> none <extra_id_12> none'] \n",
            "\n",
            "Search Term:  large exam gloves\n",
            "Model Input:  description: large exam gloves. The color of this item is <extra_id_0>. The size is <extra_id_1>. This item's sterile status is <extra_id_2>. The powdered status is <extra_id_3>. Its latex-free status is <extra_id_4>. It comes in <extra_id_5> per box. There are <extra_id_6> per case. It is used for <extra_id_7>. The material of this item is <extra_id_8>. This item is <extra_id_9> thick. It is <extra_id_10> long. The product name is <extra_id_11>. <extra_id_12> manufactures this.\n",
            "['targets: <extra_id_0> none <extra_id_1> large <extra_id_2> none <extra_id_3> none <extra_id_4> none <extra_id_5> none <extra_id_6> none <extra_id_7> exam <extra_id_8> none <extra_id_9> none <extra_id_10> none <extra_id_11> none <extra_id_12> exam gloves large'] \n",
            "\n",
            "Search Term:  nitrile disposable gloves\n",
            "Model Input:  description: nitrile disposable gloves. The color of this item is <extra_id_0>. The size is <extra_id_1>. This item's sterile status is <extra_id_2>. The powdered status is <extra_id_3>. Its latex-free status is <extra_id_4>. It comes in <extra_id_5> per box. There are <extra_id_6> per case. It is used for <extra_id_7>. The material of this item is <extra_id_8>. This item is <extra_id_9> thick. It is <extra_id_10> long. The product name is <extra_id_11>. <extra_id_12> manufactures this.\n",
            "['targets: <extra_id_0> none <extra_id_1> none <extra_id_2> none <extra_id_3> none <extra_id_4> none <extra_id_5> none <extra_id_6> none <extra_id_7> none <extra_id_8> nitrile <extra_id_9> none <extra_id_10> none <extra_id_11> none <extra_id_12> target'] \n",
            "\n",
            "Search Term:  nitrile exam gloves\n",
            "Model Input:  description: nitrile exam gloves. The color of this item is <extra_id_0>. The size is <extra_id_1>. This item's sterile status is <extra_id_2>. The powdered status is <extra_id_3>. Its latex-free status is <extra_id_4>. It comes in <extra_id_5> per box. There are <extra_id_6> per case. It is used for <extra_id_7>. The material of this item is <extra_id_8>. This item is <extra_id_9> thick. It is <extra_id_10> long. The product name is <extra_id_11>. <extra_id_12> manufactures this.\n",
            "['targets: <extra_id_0> none <extra_id_1> none <extra_id_2> none <extra_id_3> none <extra_id_4> none <extra_id_5> none <extra_id_6> none <extra_id_7> exam <extra_id_8> nitrile <extra_id_9> none <extra_id_10> none <extra_id_11> none <extra_id_12> target'] \n",
            "\n",
            "Search Term:  nitrile gloves xl\n",
            "Model Input:  description: nitrile gloves xl. The color of this item is <extra_id_0>. The size is <extra_id_1>. This item's sterile status is <extra_id_2>. The powdered status is <extra_id_3>. Its latex-free status is <extra_id_4>. It comes in <extra_id_5> per box. There are <extra_id_6> per case. It is used for <extra_id_7>. The material of this item is <extra_id_8>. This item is <extra_id_9> thick. It is <extra_id_10> long. The product name is <extra_id_11>. <extra_id_12> manufactures this.\n",
            "['targets: <extra_id_0> none <extra_id_1> extra-large <extra_id_2> none <extra_id_3> none <extra_id_4> none <extra_id_5> none <extra_id_6> none <extra_id_7> none <extra_id_8> nitrile <extra_id_9> none <extra_id_10> none <extra_id_11> none <extra_id_12> target'] \n",
            "\n",
            "Search Term:  small latex gloves\n",
            "Model Input:  description: small latex gloves. The color of this item is <extra_id_0>. The size is <extra_id_1>. This item's sterile status is <extra_id_2>. The powdered status is <extra_id_3>. Its latex-free status is <extra_id_4>. It comes in <extra_id_5> per box. There are <extra_id_6> per case. It is used for <extra_id_7>. The material of this item is <extra_id_8>. This item is <extra_id_9> thick. It is <extra_id_10> long. The product name is <extra_id_11>. <extra_id_12> manufactures this.\n",
            "['targets: <extra_id_0> none <extra_id_1> small <extra_id_2> none <extra_id_3> none <extra_id_4> latex <extra_id_5> none <extra_id_6> none <extra_id_7> none <extra_id_8> none <extra_id_9> none <extra_id_10> none <extra_id_11> none <extra_id_12> none'] \n",
            "\n",
            "Search Term:  sterile vinyl gloves\n",
            "Model Input:  description: sterile vinyl gloves. The color of this item is <extra_id_0>. The size is <extra_id_1>. This item's sterile status is <extra_id_2>. The powdered status is <extra_id_3>. Its latex-free status is <extra_id_4>. It comes in <extra_id_5> per box. There are <extra_id_6> per case. It is used for <extra_id_7>. The material of this item is <extra_id_8>. This item is <extra_id_9> thick. It is <extra_id_10> long. The product name is <extra_id_11>. <extra_id_12> manufactures this.\n",
            "['targets: <extra_id_0> none <extra_id_1> none <extra_id_2> sterile <extra_id_3> none <extra_id_4> none <extra_id_5> none <extra_id_6> none <extra_id_7> none <extra_id_8> vinyl <extra_id_9> none <extra_id_10> none <extra_id_11> none <extra_id_12> target'] \n",
            "\n",
            "Search Term:  wheelchair gloves\n",
            "Model Input:  description: wheelchair gloves. The color of this item is <extra_id_0>. The size is <extra_id_1>. This item's sterile status is <extra_id_2>. The powdered status is <extra_id_3>. Its latex-free status is <extra_id_4>. It comes in <extra_id_5> per box. There are <extra_id_6> per case. It is used for <extra_id_7>. The material of this item is <extra_id_8>. This item is <extra_id_9> thick. It is <extra_id_10> long. The product name is <extra_id_11>. <extra_id_12> manufactures this.\n",
            "['targets: <extra_id_0> none <extra_id_1> none <extra_id_2> none <extra_id_3> none <extra_id_4> none <extra_id_5> none <extra_id_6> none <extra_id_7> none <extra_id_8> none <extra_id_9> none <extra_id_10> none <extra_id_11> none <extra_id_12> none'] \n",
            "\n",
            "Search Term:  12\" nitrile gloves\n",
            "Model Input:  description: 12 '' nitrile gloves. The color of this item is <extra_id_0>. The size is <extra_id_1>. This item's sterile status is <extra_id_2>. The powdered status is <extra_id_3>. Its latex-free status is <extra_id_4>. It comes in <extra_id_5> per box. There are <extra_id_6> per case. It is used for <extra_id_7>. The material of this item is <extra_id_8>. This item is <extra_id_9> thick. It is <extra_id_10> long. The product name is <extra_id_11>. <extra_id_12> manufactures this.\n",
            "['targets: <extra_id_0> none <extra_id_1> none <extra_id_2> none <extra_id_3> none <extra_id_4> none <extra_id_5> none <extra_id_6> none <extra_id_7> none <extra_id_8> nitrile <extra_id_9> none <extra_id_10> 12in <extra_id_11> none <extra_id_12> target'] \n",
            "\n",
            "Search Term:  22-99 GLOVE\n",
            "Model Input:  description: 22-99 glove. The color of this item is <extra_id_0>. The size is <extra_id_1>. This item's sterile status is <extra_id_2>. The powdered status is <extra_id_3>. Its latex-free status is <extra_id_4>. It comes in <extra_id_5> per box. There are <extra_id_6> per case. It is used for <extra_id_7>. The material of this item is <extra_id_8>. This item is <extra_id_9> thick. It is <extra_id_10> long. The product name is <extra_id_11>. <extra_id_12> manufactures this.\n",
            "['targets: <extra_id_0> none <extra_id_1> none <extra_id_2> none <extra_id_3> none <extra_id_4> none <extra_id_5> none <extra_id_6> none <extra_id_7> none <extra_id_8> none <extra_id_9> none <extra_id_10> none <extra_id_11> none <extra_id_12> target'] \n",
            "\n",
            "Search Term:  27-99 CYPRESS WHITE XXL NITRILE EXAM POWDER FREE GLOVES\n",
            "Model Input:  description: 27-99 cypress white xxl nitrile exam powder free gloves. The color of this item is <extra_id_0>. The size is <extra_id_1>. This item's sterile status is <extra_id_2>. The powdered status is <extra_id_3>. Its latex-free status is <extra_id_4>. It comes in <extra_id_5> per box. There are <extra_id_6> per case. It is used for <extra_id_7>. The material of this item is <extra_id_8>. This item is <extra_id_9> thick. It is <extra_id_10> long. The product name is <extra_id_11>. <extra_id_12> manufactures this.\n",
            "['targets: <extra_id_0> white <extra_id_1> extra-extra-large <extra_id_2> none <extra_id_3> powder-free <extra_id_4> none <extra_id_5> none <extra_id_6> none <extra_id_7> exam <extra_id_8> nitrile <extra_id_9> none <extra_id_10> none <extra_id_11> cypress <extra_id_12> cypress'] \n",
            "\n",
            "Search Term:  550629 Patterson Medical Deluxe Traction Exercise Glove with Thumb, Large/X-Large Left\n",
            "Model Input:  description: 550629 patterson medical deluxe traction exercise glove with thumb , large/x-large left. The color of this item is <extra_id_0>. The size is <extra_id_1>. This item's sterile status is <extra_id_2>. The powdered status is <extra_id_3>. Its latex-free status is <extra_id_4>. It comes in <extra_id_5> per box. There are <extra_id_6> per case. It is used for <extra_id_7>. The material of this item is <extra_id_8>. This item is <extra_id_9> thick. It is <extra_id_10> long. The product name is <extra_id_11>. <extra_id_12> manufactures this.\n",
            "['targets: <extra_id_0> none <extra_id_1> large <extra_id_2> none <extra_id_3> none <extra_id_4> none <extra_id_5> none <extra_id_6> none <extra_id_7> none <extra_id_8> none <extra_id_9> none <extra_id_10> none <extra_id_11> 550629 <extra_id_12> patterson medical deluxe'] \n",
            "\n",
            "Search Term:  6034252 Ansell Exam Gloves, Sterile, X-small\n",
            "Model Input:  description: 6034252 ansell exam gloves , sterile , x-small. The color of this item is <extra_id_0>. The size is <extra_id_1>. This item's sterile status is <extra_id_2>. The powdered status is <extra_id_3>. Its latex-free status is <extra_id_4>. It comes in <extra_id_5> per box. There are <extra_id_6> per case. It is used for <extra_id_7>. The material of this item is <extra_id_8>. This item is <extra_id_9> thick. It is <extra_id_10> long. The product name is <extra_id_11>. <extra_id_12> manufactures this.\n",
            "['targets: <extra_id_0> none <extra_id_1> extra-small <extra_id_2> sterile <extra_id_3> none <extra_id_4> none <extra_id_5> none <extra_id_6> none <extra_id_7> exam <extra_id_8> none <extra_id_9> none <extra_id_10> none <extra_id_11> none <extra_id_12> ansell'] \n",
            "\n",
            "Search Term:  ANSELL ISOTOUCH PF SYNTHETIC STERILE SURGICAL GLOVES\n",
            "Model Input:  description: ansell isotouch pf synthetic sterile surgical gloves. The color of this item is <extra_id_0>. The size is <extra_id_1>. This item's sterile status is <extra_id_2>. The powdered status is <extra_id_3>. Its latex-free status is <extra_id_4>. It comes in <extra_id_5> per box. There are <extra_id_6> per case. It is used for <extra_id_7>. The material of this item is <extra_id_8>. This item is <extra_id_9> thick. It is <extra_id_10> long. The product name is <extra_id_11>. <extra_id_12> manufactures this.\n",
            "['targets: <extra_id_0> none <extra_id_1> none <extra_id_2> sterile <extra_id_3> powder-free <extra_id_4> none <extra_id_5> none <extra_id_6> none <extra_id_7> surgical <extra_id_8> synthetic <extra_id_9> none <extra_id_10> none <extra_id_11> isotouch <extra_id_12> isotouch'] \n",
            "\n",
            "Search Term:  Ansell Original Perry Sterile Surgical Gloves\n",
            "Model Input:  description: ansell original perry sterile surgical gloves. The color of this item is <extra_id_0>. The size is <extra_id_1>. This item's sterile status is <extra_id_2>. The powdered status is <extra_id_3>. Its latex-free status is <extra_id_4>. It comes in <extra_id_5> per box. There are <extra_id_6> per case. It is used for <extra_id_7>. The material of this item is <extra_id_8>. This item is <extra_id_9> thick. It is <extra_id_10> long. The product name is <extra_id_11>. <extra_id_12> manufactures this.\n",
            "['targets: <extra_id_0> none <extra_id_1> none <extra_id_2> sterile <extra_id_3> none <extra_id_4> none <extra_id_5> none <extra_id_6> none <extra_id_7> surgical <extra_id_8> none <extra_id_9> none <extra_id_10> none <extra_id_11> none <extra_id_12> ansell original perry'] \n",
            "\n",
            "Search Term:  CHEMO GLOVES -LARGE\n",
            "Model Input:  description: chemo gloves  - large. The color of this item is <extra_id_0>. The size is <extra_id_1>. This item's sterile status is <extra_id_2>. The powdered status is <extra_id_3>. Its latex-free status is <extra_id_4>. It comes in <extra_id_5> per box. There are <extra_id_6> per case. It is used for <extra_id_7>. The material of this item is <extra_id_8>. This item is <extra_id_9> thick. It is <extra_id_10> long. The product name is <extra_id_11>. <extra_id_12> manufactures this.\n",
            "['targets: <extra_id_0> none <extra_id_1> large <extra_id_2> none <extra_id_3> none <extra_id_4> none <extra_id_5> none <extra_id_6> none <extra_id_7> chemo <extra_id_8> none <extra_id_9> none <extra_id_10> none <extra_id_11> none <extra_id_12> cnc'] \n",
            "\n",
            "Search Term:  CHEMOTHERAPY GLOVES\n",
            "Model Input:  description: chemotherapy gloves. The color of this item is <extra_id_0>. The size is <extra_id_1>. This item's sterile status is <extra_id_2>. The powdered status is <extra_id_3>. Its latex-free status is <extra_id_4>. It comes in <extra_id_5> per box. There are <extra_id_6> per case. It is used for <extra_id_7>. The material of this item is <extra_id_8>. This item is <extra_id_9> thick. It is <extra_id_10> long. The product name is <extra_id_11>. <extra_id_12> manufactures this.\n",
            "['targets: <extra_id_0> none <extra_id_1> none <extra_id_2> none <extra_id_3> none <extra_id_4> none <extra_id_5> none <extra_id_6> none <extra_id_7> chemotherapy <extra_id_8> none <extra_id_9> none <extra_id_10> none <extra_id_11> none <extra_id_12> xenia'] \n",
            "\n",
            "Search Term:  Compression gloves\n",
            "Model Input:  description: compression gloves. The color of this item is <extra_id_0>. The size is <extra_id_1>. This item's sterile status is <extra_id_2>. The powdered status is <extra_id_3>. Its latex-free status is <extra_id_4>. It comes in <extra_id_5> per box. There are <extra_id_6> per case. It is used for <extra_id_7>. The material of this item is <extra_id_8>. This item is <extra_id_9> thick. It is <extra_id_10> long. The product name is <extra_id_11>. <extra_id_12> manufactures this.\n",
            "['targets: <extra_id_0> none <extra_id_1> none <extra_id_2> none <extra_id_3> none <extra_id_4> none <extra_id_5> none <extra_id_6> none <extra_id_7> none <extra_id_8> none <extra_id_9> none <extra_id_10> none <extra_id_11> none <extra_id_12> xyz'] \n",
            "\n",
            "Search Term:  Cut Resistant Glove\n",
            "Model Input:  description: cut resistant glove. The color of this item is <extra_id_0>. The size is <extra_id_1>. This item's sterile status is <extra_id_2>. The powdered status is <extra_id_3>. Its latex-free status is <extra_id_4>. It comes in <extra_id_5> per box. There are <extra_id_6> per case. It is used for <extra_id_7>. The material of this item is <extra_id_8>. This item is <extra_id_9> thick. It is <extra_id_10> long. The product name is <extra_id_11>. <extra_id_12> manufactures this.\n",
            "['targets: <extra_id_0> none <extra_id_1> none <extra_id_2> none <extra_id_3> none <extra_id_4> none <extra_id_5> none <extra_id_6> none <extra_id_7> none <extra_id_8> none <extra_id_9> none <extra_id_10> none <extra_id_11> none <extra_id_12> target'] \n",
            "\n",
            "Search Term:  Exam Glove box holder\n",
            "Model Input:  description: exam glove box holder. The color of this item is <extra_id_0>. The size is <extra_id_1>. This item's sterile status is <extra_id_2>. The powdered status is <extra_id_3>. Its latex-free status is <extra_id_4>. It comes in <extra_id_5> per box. There are <extra_id_6> per case. It is used for <extra_id_7>. The material of this item is <extra_id_8>. This item is <extra_id_9> thick. It is <extra_id_10> long. The product name is <extra_id_11>. <extra_id_12> manufactures this.\n",
            "['targets: <extra_id_0> none <extra_id_1> none <extra_id_2> none <extra_id_3> none <extra_id_4> none <extra_id_5> none <extra_id_6> none <extra_id_7> exam <extra_id_8> none <extra_id_9> none <extra_id_10> none <extra_id_11> none <extra_id_12> exam glove box holder'] \n",
            "\n",
            "Search Term:  Exam gloves\n",
            "Model Input:  description: exam gloves. The color of this item is <extra_id_0>. The size is <extra_id_1>. This item's sterile status is <extra_id_2>. The powdered status is <extra_id_3>. Its latex-free status is <extra_id_4>. It comes in <extra_id_5> per box. There are <extra_id_6> per case. It is used for <extra_id_7>. The material of this item is <extra_id_8>. This item is <extra_id_9> thick. It is <extra_id_10> long. The product name is <extra_id_11>. <extra_id_12> manufactures this.\n",
            "['targets: <extra_id_0> none <extra_id_1> none <extra_id_2> none <extra_id_3> none <extra_id_4> none <extra_id_5> none <extra_id_6> none <extra_id_7> exam <extra_id_8> none <extra_id_9> none <extra_id_10> none <extra_id_11> none <extra_id_12> exam gloves'] \n",
            "\n",
            "Search Term:  Examination Gloves\n",
            "Model Input:  description: examination gloves. The color of this item is <extra_id_0>. The size is <extra_id_1>. This item's sterile status is <extra_id_2>. The powdered status is <extra_id_3>. Its latex-free status is <extra_id_4>. It comes in <extra_id_5> per box. There are <extra_id_6> per case. It is used for <extra_id_7>. The material of this item is <extra_id_8>. This item is <extra_id_9> thick. It is <extra_id_10> long. The product name is <extra_id_11>. <extra_id_12> manufactures this.\n",
            "['targets: <extra_id_0> none <extra_id_1> none <extra_id_2> none <extra_id_3> none <extra_id_4> none <extra_id_5> none <extra_id_6> none <extra_id_7> exam <extra_id_8> none <extra_id_9> none <extra_id_10> none <extra_id_11> none <extra_id_12> exam gloves'] \n",
            "\n",
            "Search Term:  Freeform EC gloves\n",
            "Model Input:  description: freeform ec gloves. The color of this item is <extra_id_0>. The size is <extra_id_1>. This item's sterile status is <extra_id_2>. The powdered status is <extra_id_3>. Its latex-free status is <extra_id_4>. It comes in <extra_id_5> per box. There are <extra_id_6> per case. It is used for <extra_id_7>. The material of this item is <extra_id_8>. This item is <extra_id_9> thick. It is <extra_id_10> long. The product name is <extra_id_11>. <extra_id_12> manufactures this.\n",
            "['targets: <extra_id_0> none <extra_id_1> none <extra_id_2> none <extra_id_3> none <extra_id_4> none <extra_id_5> none <extra_id_6> none <extra_id_7> none <extra_id_8> none <extra_id_9> none <extra_id_10> none <extra_id_11> none <extra_id_12> freeform ec'] \n",
            "\n",
            "Search Term:  GARMENT PRESSURE GLOVE\n",
            "Model Input:  description: garment pressure glove. The color of this item is <extra_id_0>. The size is <extra_id_1>. This item's sterile status is <extra_id_2>. The powdered status is <extra_id_3>. Its latex-free status is <extra_id_4>. It comes in <extra_id_5> per box. There are <extra_id_6> per case. It is used for <extra_id_7>. The material of this item is <extra_id_8>. This item is <extra_id_9> thick. It is <extra_id_10> long. The product name is <extra_id_11>. <extra_id_12> manufactures this.\n",
            "['targets: <extra_id_0> none <extra_id_1> none <extra_id_2> none <extra_id_3> none <extra_id_4> none <extra_id_5> none <extra_id_6> none <extra_id_7> pressure <extra_id_8> none <extra_id_9> none <extra_id_10> none <extra_id_11> none <extra_id_12> garment pressure glove'] \n",
            "\n",
            "Search Term:  GARMENT PRESSURE GLOVE CLOSED FINGER ISOTONER\n",
            "Model Input:  description: garment pressure glove closed finger isotoner. The color of this item is <extra_id_0>. The size is <extra_id_1>. This item's sterile status is <extra_id_2>. The powdered status is <extra_id_3>. Its latex-free status is <extra_id_4>. It comes in <extra_id_5> per box. There are <extra_id_6> per case. It is used for <extra_id_7>. The material of this item is <extra_id_8>. This item is <extra_id_9> thick. It is <extra_id_10> long. The product name is <extra_id_11>. <extra_id_12> manufactures this.\n",
            "['targets: <extra_id_0> none <extra_id_1> none <extra_id_2> none <extra_id_3> none <extra_id_4> none <extra_id_5> none <extra_id_6> none <extra_id_7> none <extra_id_8> none <extra_id_9> none <extra_id_10> none <extra_id_11> none <extra_id_12> target: none'] \n",
            "\n",
            "Search Term:  GENERAL PURPOSE POWDER FREE BLUE NITRILE GLOVES\n",
            "Model Input:  description: general purpose powder free blue nitrile gloves. The color of this item is <extra_id_0>. The size is <extra_id_1>. This item's sterile status is <extra_id_2>. The powdered status is <extra_id_3>. Its latex-free status is <extra_id_4>. It comes in <extra_id_5> per box. There are <extra_id_6> per case. It is used for <extra_id_7>. The material of this item is <extra_id_8>. This item is <extra_id_9> thick. It is <extra_id_10> long. The product name is <extra_id_11>. <extra_id_12> manufactures this.\n",
            "['targets: <extra_id_0> blue <extra_id_1> none <extra_id_2> none <extra_id_3> powder-free <extra_id_4> none <extra_id_5> none <extra_id_6> none <extra_id_7> none <extra_id_8> nitrile <extra_id_9> none <extra_id_10> none <extra_id_11> none <extra_id_12> target'] \n",
            "\n",
            "Search Term:  GLOVE BOX HOLDER\n",
            "Model Input:  description: glove box holder. The color of this item is <extra_id_0>. The size is <extra_id_1>. This item's sterile status is <extra_id_2>. The powdered status is <extra_id_3>. Its latex-free status is <extra_id_4>. It comes in <extra_id_5> per box. There are <extra_id_6> per case. It is used for <extra_id_7>. The material of this item is <extra_id_8>. This item is <extra_id_9> thick. It is <extra_id_10> long. The product name is <extra_id_11>. <extra_id_12> manufactures this.\n",
            "['targets: <extra_id_0> none <extra_id_1> none <extra_id_2> none <extra_id_3> none <extra_id_4> none <extra_id_5> none <extra_id_6> none <extra_id_7> none <extra_id_8> none <extra_id_9> none <extra_id_10> none <extra_id_11> none <extra_id_12> none'] \n",
            "\n",
            "Search Term:  GLOVE DISPENSER\n",
            "Model Input:  description: glove dispenser. The color of this item is <extra_id_0>. The size is <extra_id_1>. This item's sterile status is <extra_id_2>. The powdered status is <extra_id_3>. Its latex-free status is <extra_id_4>. It comes in <extra_id_5> per box. There are <extra_id_6> per case. It is used for <extra_id_7>. The material of this item is <extra_id_8>. This item is <extra_id_9> thick. It is <extra_id_10> long. The product name is <extra_id_11>. <extra_id_12> manufactures this.\n",
            "['targets: <extra_id_0> none <extra_id_1> none <extra_id_2> none <extra_id_3> none <extra_id_4> none <extra_id_5> none <extra_id_6> none <extra_id_7> none <extra_id_8> none <extra_id_9> none <extra_id_10> none <extra_id_11> none <extra_id_12> none'] \n",
            "\n",
            "Search Term:  GLOVE SURGICAL LATEX HYPOALLERGENIC 8 STERILE\n",
            "Model Input:  description: glove surgical latex hypoallergenic 8 sterile. The color of this item is <extra_id_0>. The size is <extra_id_1>. This item's sterile status is <extra_id_2>. The powdered status is <extra_id_3>. Its latex-free status is <extra_id_4>. It comes in <extra_id_5> per box. There are <extra_id_6> per case. It is used for <extra_id_7>. The material of this item is <extra_id_8>. This item is <extra_id_9> thick. It is <extra_id_10> long. The product name is <extra_id_11>. <extra_id_12> manufactures this.\n",
            "['targets: <extra_id_0> none <extra_id_1> none <extra_id_2> sterile <extra_id_3> none <extra_id_4> latex <extra_id_5> none <extra_id_6> none <extra_id_7> surgical <extra_id_8> none <extra_id_9> none <extra_id_10> none <extra_id_11> none <extra_id_12> none'] \n",
            "\n",
            "Search Term:  GLOVE SURGICAL LATEX HYPOALLERGENIC SIZE 8 STERILE POWDER FREE\n",
            "Model Input:  description: glove surgical latex hypoallergenic size 8 sterile powder free. The color of this item is <extra_id_0>. The size is <extra_id_1>. This item's sterile status is <extra_id_2>. The powdered status is <extra_id_3>. Its latex-free status is <extra_id_4>. It comes in <extra_id_5> per box. There are <extra_id_6> per case. It is used for <extra_id_7>. The material of this item is <extra_id_8>. This item is <extra_id_9> thick. It is <extra_id_10> long. The product name is <extra_id_11>. <extra_id_12> manufactures this.\n",
            "['targets: <extra_id_0> none <extra_id_1> 8.0 <extra_id_2> sterile <extra_id_3> powder-free <extra_id_4> latex <extra_id_5> none <extra_id_6> none <extra_id_7> surgical <extra_id_8> none <extra_id_9> none <extra_id_10> none <extra_id_11> none <extra_id_12> none'] \n",
            "\n",
            "Search Term:  GLOVE SURGICAL LATEX ROUGH 7 STERILE WITH POWDER\n",
            "Model Input:  description: glove surgical latex rough 7 sterile with powder. The color of this item is <extra_id_0>. The size is <extra_id_1>. This item's sterile status is <extra_id_2>. The powdered status is <extra_id_3>. Its latex-free status is <extra_id_4>. It comes in <extra_id_5> per box. There are <extra_id_6> per case. It is used for <extra_id_7>. The material of this item is <extra_id_8>. This item is <extra_id_9> thick. It is <extra_id_10> long. The product name is <extra_id_11>. <extra_id_12> manufactures this.\n",
            "['targets: <extra_id_0> none <extra_id_1> none <extra_id_2> sterile <extra_id_3> powder-free <extra_id_4> latex <extra_id_5> none <extra_id_6> none <extra_id_7> surgical <extra_id_8> none <extra_id_9> none <extra_id_10> none <extra_id_11> none <extra_id_12> surgical gloves rough 7'] \n",
            "\n",
            "Search Term:  GLOVES NITRILE SMALL WHITE PF 100/BOX\n",
            "Model Input:  description: gloves nitrile small white pf 100/box. The color of this item is <extra_id_0>. The size is <extra_id_1>. This item's sterile status is <extra_id_2>. The powdered status is <extra_id_3>. Its latex-free status is <extra_id_4>. It comes in <extra_id_5> per box. There are <extra_id_6> per case. It is used for <extra_id_7>. The material of this item is <extra_id_8>. This item is <extra_id_9> thick. It is <extra_id_10> long. The product name is <extra_id_11>. <extra_id_12> manufactures this.\n",
            "['targets: <extra_id_0> white <extra_id_1> small <extra_id_2> none <extra_id_3> powder-free <extra_id_4> none <extra_id_5> 100 pairs <extra_id_6> none <extra_id_7> none <extra_id_8> nitrile <extra_id_9> none <extra_id_10> none <extra_id_11> none <extra_id_12> target'] \n",
            "\n",
            "Search Term:  GLOVES NITRILE XS\n",
            "Model Input:  description: gloves nitrile xs. The color of this item is <extra_id_0>. The size is <extra_id_1>. This item's sterile status is <extra_id_2>. The powdered status is <extra_id_3>. Its latex-free status is <extra_id_4>. It comes in <extra_id_5> per box. There are <extra_id_6> per case. It is used for <extra_id_7>. The material of this item is <extra_id_8>. This item is <extra_id_9> thick. It is <extra_id_10> long. The product name is <extra_id_11>. <extra_id_12> manufactures this.\n",
            "['targets: <extra_id_0> none <extra_id_1> extra-small <extra_id_2> none <extra_id_3> none <extra_id_4> none <extra_id_5> none <extra_id_6> none <extra_id_7> none <extra_id_8> nitrile <extra_id_9> none <extra_id_10> none <extra_id_11> none <extra_id_12> target'] \n",
            "\n",
            "Search Term:  GLOVES, SURGICAL CRITERION\n",
            "Model Input:  description: gloves , surgical criterion. The color of this item is <extra_id_0>. The size is <extra_id_1>. This item's sterile status is <extra_id_2>. The powdered status is <extra_id_3>. Its latex-free status is <extra_id_4>. It comes in <extra_id_5> per box. There are <extra_id_6> per case. It is used for <extra_id_7>. The material of this item is <extra_id_8>. This item is <extra_id_9> thick. It is <extra_id_10> long. The product name is <extra_id_11>. <extra_id_12> manufactures this.\n",
            "['targets: <extra_id_0> none <extra_id_1> none <extra_id_2> none <extra_id_3> none <extra_id_4> none <extra_id_5> none <extra_id_6> none <extra_id_7> surgical <extra_id_8> none <extra_id_9> none <extra_id_10> none <extra_id_11> none <extra_id_12> target:'] \n",
            "\n",
            "Search Term:  Glove medical\n",
            "Model Input:  description: glove medical. The color of this item is <extra_id_0>. The size is <extra_id_1>. This item's sterile status is <extra_id_2>. The powdered status is <extra_id_3>. Its latex-free status is <extra_id_4>. It comes in <extra_id_5> per box. There are <extra_id_6> per case. It is used for <extra_id_7>. The material of this item is <extra_id_8>. This item is <extra_id_9> thick. It is <extra_id_10> long. The product name is <extra_id_11>. <extra_id_12> manufactures this.\n",
            "['targets: <extra_id_0> none <extra_id_1> none <extra_id_2> none <extra_id_3> none <extra_id_4> none <extra_id_5> none <extra_id_6> none <extra_id_7> none <extra_id_8> none <extra_id_9> none <extra_id_10> none <extra_id_11> none <extra_id_12> none'] \n",
            "\n",
            "Search Term:  HENRY SCHINE GLOVES\n",
            "Model Input:  description: henry schine gloves. The color of this item is <extra_id_0>. The size is <extra_id_1>. This item's sterile status is <extra_id_2>. The powdered status is <extra_id_3>. Its latex-free status is <extra_id_4>. It comes in <extra_id_5> per box. There are <extra_id_6> per case. It is used for <extra_id_7>. The material of this item is <extra_id_8>. This item is <extra_id_9> thick. It is <extra_id_10> long. The product name is <extra_id_11>. <extra_id_12> manufactures this.\n",
            "['targets: <extra_id_0> none <extra_id_1> none <extra_id_2> none <extra_id_3> none <extra_id_4> none <extra_id_5> none <extra_id_6> none <extra_id_7> none <extra_id_8> none <extra_id_9> none <extra_id_10> none <extra_id_11> none <extra_id_12> henry schine'] \n",
            "\n",
            "Search Term:  Innovative Healthcare DermAssist Vinyl Synthetic Powder Free Exam Gloves\n",
            "Model Input:  description: innovative healthcare dermassist vinyl synthetic powder free exam gloves. The color of this item is <extra_id_0>. The size is <extra_id_1>. This item's sterile status is <extra_id_2>. The powdered status is <extra_id_3>. Its latex-free status is <extra_id_4>. It comes in <extra_id_5> per box. There are <extra_id_6> per case. It is used for <extra_id_7>. The material of this item is <extra_id_8>. This item is <extra_id_9> thick. It is <extra_id_10> long. The product name is <extra_id_11>. <extra_id_12> manufactures this.\n",
            "['targets: <extra_id_0> none <extra_id_1> none <extra_id_2> none <extra_id_3> powder-free <extra_id_4> none <extra_id_5> none <extra_id_6> none <extra_id_7> exam <extra_id_8> vinyl, synthetic <extra_id_9> none <extra_id_10> none <extra_id_11> innovative healthcare <extra_id_12> dermasist'] \n",
            "\n",
            "Search Term:  KIMBERLY CLARK GLOVES\n",
            "Model Input:  description: kimberly clark gloves. The color of this item is <extra_id_0>. The size is <extra_id_1>. This item's sterile status is <extra_id_2>. The powdered status is <extra_id_3>. Its latex-free status is <extra_id_4>. It comes in <extra_id_5> per box. There are <extra_id_6> per case. It is used for <extra_id_7>. The material of this item is <extra_id_8>. This item is <extra_id_9> thick. It is <extra_id_10> long. The product name is <extra_id_11>. <extra_id_12> manufactures this.\n",
            "['targets: <extra_id_0> none <extra_id_1> none <extra_id_2> none <extra_id_3> none <extra_id_4> none <extra_id_5> none <extra_id_6> none <extra_id_7> none <extra_id_8> none <extra_id_9> none <extra_id_10> none <extra_id_11> kimberly clark <extra_id_12> kimberly clark'] \n",
            "\n",
            "Search Term:  LATEX HYPOALLERGENIC glove\n",
            "Model Input:  description: latex hypoallergenic glove. The color of this item is <extra_id_0>. The size is <extra_id_1>. This item's sterile status is <extra_id_2>. The powdered status is <extra_id_3>. Its latex-free status is <extra_id_4>. It comes in <extra_id_5> per box. There are <extra_id_6> per case. It is used for <extra_id_7>. The material of this item is <extra_id_8>. This item is <extra_id_9> thick. It is <extra_id_10> long. The product name is <extra_id_11>. <extra_id_12> manufactures this.\n",
            "['targets: <extra_id_0> none <extra_id_1> none <extra_id_2> none <extra_id_3> none <extra_id_4> latex <extra_id_5> none <extra_id_6> none <extra_id_7> none <extra_id_8> none <extra_id_9> none <extra_id_10> none <extra_id_11> none <extra_id_12> none'] \n",
            "\n",
            "Search Term:  Large nitrile gloves\n",
            "Model Input:  description: large nitrile gloves. The color of this item is <extra_id_0>. The size is <extra_id_1>. This item's sterile status is <extra_id_2>. The powdered status is <extra_id_3>. Its latex-free status is <extra_id_4>. It comes in <extra_id_5> per box. There are <extra_id_6> per case. It is used for <extra_id_7>. The material of this item is <extra_id_8>. This item is <extra_id_9> thick. It is <extra_id_10> long. The product name is <extra_id_11>. <extra_id_12> manufactures this.\n",
            "['targets: <extra_id_0> none <extra_id_1> large <extra_id_2> none <extra_id_3> none <extra_id_4> none <extra_id_5> none <extra_id_6> none <extra_id_7> none <extra_id_8> nitrile <extra_id_9> none <extra_id_10> none <extra_id_11> none <extra_id_12> target'] \n",
            "\n",
            "Search Term:  MAPA Chem-Ply N-360 Neoprene Glove\n",
            "Model Input:  description: mapa chem-ply n-360 neoprene glove. The color of this item is <extra_id_0>. The size is <extra_id_1>. This item's sterile status is <extra_id_2>. The powdered status is <extra_id_3>. Its latex-free status is <extra_id_4>. It comes in <extra_id_5> per box. There are <extra_id_6> per case. It is used for <extra_id_7>. The material of this item is <extra_id_8>. This item is <extra_id_9> thick. It is <extra_id_10> long. The product name is <extra_id_11>. <extra_id_12> manufactures this.\n",
            "['targets: <extra_id_0> none <extra_id_1> none <extra_id_2> none <extra_id_3> none <extra_id_4> none <extra_id_5> none <extra_id_6> none <extra_id_7> none <extra_id_8> neoprene <extra_id_9> none <extra_id_10> none <extra_id_11> mapa <extra_id_12> chem-ply'] \n",
            "\n",
            "Search Term:  MEDLINE BLUE GLOVES\n",
            "Model Input:  description: medline blue gloves. The color of this item is <extra_id_0>. The size is <extra_id_1>. This item's sterile status is <extra_id_2>. The powdered status is <extra_id_3>. Its latex-free status is <extra_id_4>. It comes in <extra_id_5> per box. There are <extra_id_6> per case. It is used for <extra_id_7>. The material of this item is <extra_id_8>. This item is <extra_id_9> thick. It is <extra_id_10> long. The product name is <extra_id_11>. <extra_id_12> manufactures this.\n",
            "['targets: <extra_id_0> blue <extra_id_1> none <extra_id_2> none <extra_id_3> none <extra_id_4> none <extra_id_5> none <extra_id_6> none <extra_id_7> none <extra_id_8> none <extra_id_9> none <extra_id_10> none <extra_id_11> none <extra_id_12> medline blue'] \n",
            "\n",
            "Search Term:  MSG6065 surgeon Gloves\n",
            "Model Input:  description: msg6065 surgeon gloves. The color of this item is <extra_id_0>. The size is <extra_id_1>. This item's sterile status is <extra_id_2>. The powdered status is <extra_id_3>. Its latex-free status is <extra_id_4>. It comes in <extra_id_5> per box. There are <extra_id_6> per case. It is used for <extra_id_7>. The material of this item is <extra_id_8>. This item is <extra_id_9> thick. It is <extra_id_10> long. The product name is <extra_id_11>. <extra_id_12> manufactures this.\n",
            "['targets: <extra_id_0> none <extra_id_1> medium <extra_id_2> none <extra_id_3> none <extra_id_4> none <extra_id_5> none <extra_id_6> none <extra_id_7> surgical <extra_id_8> none <extra_id_9> none <extra_id_10> none <extra_id_11> none <extra_id_12> msg6065 surgeon gloves'] \n",
            "\n",
            "Search Term:  MediGuard Non-Sterile Powdered Latex Exam Gloves Medium\n",
            "Model Input:  description: mediguard non-sterile powdered latex exam gloves medium. The color of this item is <extra_id_0>. The size is <extra_id_1>. This item's sterile status is <extra_id_2>. The powdered status is <extra_id_3>. Its latex-free status is <extra_id_4>. It comes in <extra_id_5> per box. There are <extra_id_6> per case. It is used for <extra_id_7>. The material of this item is <extra_id_8>. This item is <extra_id_9> thick. It is <extra_id_10> long. The product name is <extra_id_11>. <extra_id_12> manufactures this.\n",
            "['targets: <extra_id_0> none <extra_id_1> medium <extra_id_2> non-sterile <extra_id_3> powder-free <extra_id_4> latex <extra_id_5> none <extra_id_6> none <extra_id_7> exam <extra_id_8> none <extra_id_9> none <extra_id_10> none <extra_id_11> mediguard <extra_id_12> mediguard'] \n",
            "\n",
            "Search Term:  Medical Isotoner Therapeutic Gloves\n",
            "Model Input:  description: medical isotoner therapeutic gloves. The color of this item is <extra_id_0>. The size is <extra_id_1>. This item's sterile status is <extra_id_2>. The powdered status is <extra_id_3>. Its latex-free status is <extra_id_4>. It comes in <extra_id_5> per box. There are <extra_id_6> per case. It is used for <extra_id_7>. The material of this item is <extra_id_8>. This item is <extra_id_9> thick. It is <extra_id_10> long. The product name is <extra_id_11>. <extra_id_12> manufactures this.\n",
            "['targets: <extra_id_0> none <extra_id_1> none <extra_id_2> none <extra_id_3> none <extra_id_4> none <extra_id_5> none <extra_id_6> none <extra_id_7> none <extra_id_8> none <extra_id_9> none <extra_id_10> none <extra_id_11> isotoner <extra_id_12> isotoner'] \n",
            "\n",
            "Search Term:  Medium Nitrile Gloves\n",
            "Model Input:  description: medium nitrile gloves. The color of this item is <extra_id_0>. The size is <extra_id_1>. This item's sterile status is <extra_id_2>. The powdered status is <extra_id_3>. Its latex-free status is <extra_id_4>. It comes in <extra_id_5> per box. There are <extra_id_6> per case. It is used for <extra_id_7>. The material of this item is <extra_id_8>. This item is <extra_id_9> thick. It is <extra_id_10> long. The product name is <extra_id_11>. <extra_id_12> manufactures this.\n",
            "['targets: <extra_id_0> none <extra_id_1> medium <extra_id_2> none <extra_id_3> none <extra_id_4> none <extra_id_5> none <extra_id_6> none <extra_id_7> none <extra_id_8> nitrile <extra_id_9> none <extra_id_10> none <extra_id_11> none <extra_id_12> target'] \n",
            "\n",
            "Search Term:  Microflex™ Diamond Grip™ Powder-Free Latex Exam Gloves\n",
            "Model Input:  description: microflex™ diamond grip™ powder-free latex exam gloves. The color of this item is <extra_id_0>. The size is <extra_id_1>. This item's sterile status is <extra_id_2>. The powdered status is <extra_id_3>. Its latex-free status is <extra_id_4>. It comes in <extra_id_5> per box. There are <extra_id_6> per case. It is used for <extra_id_7>. The material of this item is <extra_id_8>. This item is <extra_id_9> thick. It is <extra_id_10> long. The product name is <extra_id_11>. <extra_id_12> manufactures this.\n",
            "['targets: <extra_id_0> none <extra_id_1> none <extra_id_2> none <extra_id_3> powder-free <extra_id_4> latex <extra_id_5> none <extra_id_6> none <extra_id_7> exam <extra_id_8> none <extra_id_9> none <extra_id_10> none <extra_id_11> microflex <extra_id_12> microflex'] \n",
            "\n",
            "Search Term:  N dex gloves\n",
            "Model Input:  description: n dex gloves. The color of this item is <extra_id_0>. The size is <extra_id_1>. This item's sterile status is <extra_id_2>. The powdered status is <extra_id_3>. Its latex-free status is <extra_id_4>. It comes in <extra_id_5> per box. There are <extra_id_6> per case. It is used for <extra_id_7>. The material of this item is <extra_id_8>. This item is <extra_id_9> thick. It is <extra_id_10> long. The product name is <extra_id_11>. <extra_id_12> manufactures this.\n",
            "['targets: <extra_id_0> none <extra_id_1> none <extra_id_2> none <extra_id_3> none <extra_id_4> none <extra_id_5> none <extra_id_6> none <extra_id_7> none <extra_id_8> none <extra_id_9> none <extra_id_10> none <extra_id_11> none <extra_id_12> n dex'] \n",
            "\n",
            "Search Term:  NEOPRENE STERILE GLOVES\n",
            "Model Input:  description: neoprene sterile gloves. The color of this item is <extra_id_0>. The size is <extra_id_1>. This item's sterile status is <extra_id_2>. The powdered status is <extra_id_3>. Its latex-free status is <extra_id_4>. It comes in <extra_id_5> per box. There are <extra_id_6> per case. It is used for <extra_id_7>. The material of this item is <extra_id_8>. This item is <extra_id_9> thick. It is <extra_id_10> long. The product name is <extra_id_11>. <extra_id_12> manufactures this.\n",
            "['targets: <extra_id_0> none <extra_id_1> none <extra_id_2> sterile <extra_id_3> none <extra_id_4> none <extra_id_5> none <extra_id_6> none <extra_id_7> none <extra_id_8> neoprene <extra_id_9> none <extra_id_10> none <extra_id_11> none <extra_id_12> target'] \n",
            "\n",
            "Search Term:  PGLOVE-L\n",
            "Model Input:  description: pglove-l. The color of this item is <extra_id_0>. The size is <extra_id_1>. This item's sterile status is <extra_id_2>. The powdered status is <extra_id_3>. Its latex-free status is <extra_id_4>. It comes in <extra_id_5> per box. There are <extra_id_6> per case. It is used for <extra_id_7>. The material of this item is <extra_id_8>. This item is <extra_id_9> thick. It is <extra_id_10> long. The product name is <extra_id_11>. <extra_id_12> manufactures this.\n",
            "['targets: <extra_id_0> none <extra_id_1> large <extra_id_2> none <extra_id_3> powder-free <extra_id_4> none <extra_id_5> none <extra_id_6> none <extra_id_7> none <extra_id_8> none <extra_id_9> none <extra_id_10> none <extra_id_11> none <extra_id_12> pglove-l'] \n",
            "\n",
            "Search Term:  Patterson Medical ShearStop Push Gloves with LiquiCell Palm Protection, Half-Finger Gloves\n",
            "Model Input:  description: patterson medical shearstop push gloves with liquicell palm protection , half-finger gloves. The color of this item is <extra_id_0>. The size is <extra_id_1>. This item's sterile status is <extra_id_2>. The powdered status is <extra_id_3>. Its latex-free status is <extra_id_4>. It comes in <extra_id_5> per box. There are <extra_id_6> per case. It is used for <extra_id_7>. The material of this item is <extra_id_8>. This item is <extra_id_9> thick. It is <extra_id_10> long. The product name is <extra_id_11>. <extra_id_12> manufactures this.\n",
            "['targets: <extra_id_0> none <extra_id_1> none <extra_id_2> none <extra_id_3> none <extra_id_4> none <extra_id_5> none <extra_id_6> none <extra_id_7> none <extra_id_8> liquicell <extra_id_9> none <extra_id_10> none <extra_id_11> none <extra_id_12> patterson medical supplies and'] \n",
            "\n",
            "Search Term:  Patterson Rolyan Leather Glove right small\n",
            "Model Input:  description: patterson rolyan leather glove right small. The color of this item is <extra_id_0>. The size is <extra_id_1>. This item's sterile status is <extra_id_2>. The powdered status is <extra_id_3>. Its latex-free status is <extra_id_4>. It comes in <extra_id_5> per box. There are <extra_id_6> per case. It is used for <extra_id_7>. The material of this item is <extra_id_8>. This item is <extra_id_9> thick. It is <extra_id_10> long. The product name is <extra_id_11>. <extra_id_12> manufactures this.\n",
            "['targets: <extra_id_0> none <extra_id_1> small <extra_id_2> none <extra_id_3> none <extra_id_4> none <extra_id_5> none <extra_id_6> none <extra_id_7> none <extra_id_8> leather <extra_id_9> none <extra_id_10> none <extra_id_11> patterson <extra_id_12> patterson'] \n",
            "\n",
            "Search Term:  Polyethylene gloves\n",
            "Model Input:  description: polyethylene gloves. The color of this item is <extra_id_0>. The size is <extra_id_1>. This item's sterile status is <extra_id_2>. The powdered status is <extra_id_3>. Its latex-free status is <extra_id_4>. It comes in <extra_id_5> per box. There are <extra_id_6> per case. It is used for <extra_id_7>. The material of this item is <extra_id_8>. This item is <extra_id_9> thick. It is <extra_id_10> long. The product name is <extra_id_11>. <extra_id_12> manufactures this.\n",
            "['targets: <extra_id_0> none <extra_id_1> none <extra_id_2> none <extra_id_3> none <extra_id_4> none <extra_id_5> none <extra_id_6> none <extra_id_7> none <extra_id_8> polyethylene <extra_id_9> none <extra_id_10> none <extra_id_11> none <extra_id_12> target'] \n",
            "\n",
            "Search Term:  SKINTX GLOVES\n",
            "Model Input:  description: skintx gloves. The color of this item is <extra_id_0>. The size is <extra_id_1>. This item's sterile status is <extra_id_2>. The powdered status is <extra_id_3>. Its latex-free status is <extra_id_4>. It comes in <extra_id_5> per box. There are <extra_id_6> per case. It is used for <extra_id_7>. The material of this item is <extra_id_8>. This item is <extra_id_9> thick. It is <extra_id_10> long. The product name is <extra_id_11>. <extra_id_12> manufactures this.\n",
            "['targets: <extra_id_0> none <extra_id_1> none <extra_id_2> none <extra_id_3> none <extra_id_4> none <extra_id_5> none <extra_id_6> none <extra_id_7> none <extra_id_8> none <extra_id_9> none <extra_id_10> none <extra_id_11> none <extra_id_12> skintx'] \n",
            "\n",
            "Search Term:  SURGICAL GLOVE POWDERED\n",
            "Model Input:  description: surgical glove powdered. The color of this item is <extra_id_0>. The size is <extra_id_1>. This item's sterile status is <extra_id_2>. The powdered status is <extra_id_3>. Its latex-free status is <extra_id_4>. It comes in <extra_id_5> per box. There are <extra_id_6> per case. It is used for <extra_id_7>. The material of this item is <extra_id_8>. This item is <extra_id_9> thick. It is <extra_id_10> long. The product name is <extra_id_11>. <extra_id_12> manufactures this.\n",
            "['targets: <extra_id_0> none <extra_id_1> none <extra_id_2> none <extra_id_3> powder <extra_id_4> none <extra_id_5> none <extra_id_6> none <extra_id_7> surgical <extra_id_8> none <extra_id_9> none <extra_id_10> none <extra_id_11> none <extra_id_12> none'] \n",
            "\n",
            "Search Term:  SURGICAL GLOVES\n",
            "Model Input:  description: surgical gloves. The color of this item is <extra_id_0>. The size is <extra_id_1>. This item's sterile status is <extra_id_2>. The powdered status is <extra_id_3>. Its latex-free status is <extra_id_4>. It comes in <extra_id_5> per box. There are <extra_id_6> per case. It is used for <extra_id_7>. The material of this item is <extra_id_8>. This item is <extra_id_9> thick. It is <extra_id_10> long. The product name is <extra_id_11>. <extra_id_12> manufactures this.\n",
            "['targets: <extra_id_0> none <extra_id_1> none <extra_id_2> none <extra_id_3> none <extra_id_4> none <extra_id_5> none <extra_id_6> none <extra_id_7> surgical <extra_id_8> none <extra_id_9> none <extra_id_10> none <extra_id_11> none <extra_id_12> none'] \n",
            "\n",
            "Search Term:  SURGICAL GLOVES POWDER FREE\n",
            "Model Input:  description: surgical gloves powder free. The color of this item is <extra_id_0>. The size is <extra_id_1>. This item's sterile status is <extra_id_2>. The powdered status is <extra_id_3>. Its latex-free status is <extra_id_4>. It comes in <extra_id_5> per box. There are <extra_id_6> per case. It is used for <extra_id_7>. The material of this item is <extra_id_8>. This item is <extra_id_9> thick. It is <extra_id_10> long. The product name is <extra_id_11>. <extra_id_12> manufactures this.\n",
            "['targets: <extra_id_0> none <extra_id_1> none <extra_id_2> none <extra_id_3> powder-free <extra_id_4> none <extra_id_5> none <extra_id_6> none <extra_id_7> surgical <extra_id_8> none <extra_id_9> none <extra_id_10> none <extra_id_11> none <extra_id_12> none'] \n",
            "\n",
            "Search Term:  SURGICAL GLOVES STERILE\n",
            "Model Input:  description: surgical gloves sterile. The color of this item is <extra_id_0>. The size is <extra_id_1>. This item's sterile status is <extra_id_2>. The powdered status is <extra_id_3>. Its latex-free status is <extra_id_4>. It comes in <extra_id_5> per box. There are <extra_id_6> per case. It is used for <extra_id_7>. The material of this item is <extra_id_8>. This item is <extra_id_9> thick. It is <extra_id_10> long. The product name is <extra_id_11>. <extra_id_12> manufactures this.\n",
            "['targets: <extra_id_0> none <extra_id_1> none <extra_id_2> sterile <extra_id_3> none <extra_id_4> none <extra_id_5> none <extra_id_6> none <extra_id_7> surgical <extra_id_8> none <extra_id_9> none <extra_id_10> none <extra_id_11> none <extra_id_12> none'] \n",
            "\n",
            "Search Term:  SURGICAL GLOVES STERILE LIGHTLY POWEDERED\n",
            "Model Input:  description: surgical gloves sterile lightly powedered. The color of this item is <extra_id_0>. The size is <extra_id_1>. This item's sterile status is <extra_id_2>. The powdered status is <extra_id_3>. Its latex-free status is <extra_id_4>. It comes in <extra_id_5> per box. There are <extra_id_6> per case. It is used for <extra_id_7>. The material of this item is <extra_id_8>. This item is <extra_id_9> thick. It is <extra_id_10> long. The product name is <extra_id_11>. <extra_id_12> manufactures this.\n",
            "['targets: <extra_id_0> none <extra_id_1> none <extra_id_2> sterile <extra_id_3> powder-free <extra_id_4> none <extra_id_5> none <extra_id_6> none <extra_id_7> surgical <extra_id_8> none <extra_id_9> none <extra_id_10> none <extra_id_11> none <extra_id_12> none'] \n",
            "\n",
            "Search Term:  Sharps Disposal Wall Cabinet with glove box\n",
            "Model Input:  description: sharps disposal wall cabinet with glove box. The color of this item is <extra_id_0>. The size is <extra_id_1>. This item's sterile status is <extra_id_2>. The powdered status is <extra_id_3>. Its latex-free status is <extra_id_4>. It comes in <extra_id_5> per box. There are <extra_id_6> per case. It is used for <extra_id_7>. The material of this item is <extra_id_8>. This item is <extra_id_9> thick. It is <extra_id_10> long. The product name is <extra_id_11>. <extra_id_12> manufactures this.\n",
            "['targets: <extra_id_0> none <extra_id_1> none <extra_id_2> none <extra_id_3> none <extra_id_4> none <extra_id_5> none <extra_id_6> none <extra_id_7> none <extra_id_8> none <extra_id_9> none <extra_id_10> none <extra_id_11> sharps disposal <extra_id_12> sharps disposal'] \n",
            "\n",
            "Search Term:  Sharps Disposal Wall Cabinet with gloves\n",
            "Model Input:  description: sharps disposal wall cabinet with gloves. The color of this item is <extra_id_0>. The size is <extra_id_1>. This item's sterile status is <extra_id_2>. The powdered status is <extra_id_3>. Its latex-free status is <extra_id_4>. It comes in <extra_id_5> per box. There are <extra_id_6> per case. It is used for <extra_id_7>. The material of this item is <extra_id_8>. This item is <extra_id_9> thick. It is <extra_id_10> long. The product name is <extra_id_11>. <extra_id_12> manufactures this.\n",
            "['targets: <extra_id_0> none <extra_id_1> none <extra_id_2> none <extra_id_3> none <extra_id_4> none <extra_id_5> none <extra_id_6> none <extra_id_7> none <extra_id_8> none <extra_id_9> none <extra_id_10> none <extra_id_11> sharps disposal <extra_id_12> disposal wall cabinet with gloves'] \n",
            "\n",
            "Search Term:  Spray-on gloves\n",
            "Model Input:  description: spray-on gloves. The color of this item is <extra_id_0>. The size is <extra_id_1>. This item's sterile status is <extra_id_2>. The powdered status is <extra_id_3>. Its latex-free status is <extra_id_4>. It comes in <extra_id_5> per box. There are <extra_id_6> per case. It is used for <extra_id_7>. The material of this item is <extra_id_8>. This item is <extra_id_9> thick. It is <extra_id_10> long. The product name is <extra_id_11>. <extra_id_12> manufactures this.\n",
            "['targets: <extra_id_0> none <extra_id_1> none <extra_id_2> none <extra_id_3> none <extra_id_4> none <extra_id_5> none <extra_id_6> none <extra_id_7> none <extra_id_8> none <extra_id_9> none <extra_id_10> none <extra_id_11> none <extra_id_12> target'] \n",
            "\n",
            "Search Term:  Sterile gloves\n",
            "Model Input:  description: sterile gloves. The color of this item is <extra_id_0>. The size is <extra_id_1>. This item's sterile status is <extra_id_2>. The powdered status is <extra_id_3>. Its latex-free status is <extra_id_4>. It comes in <extra_id_5> per box. There are <extra_id_6> per case. It is used for <extra_id_7>. The material of this item is <extra_id_8>. This item is <extra_id_9> thick. It is <extra_id_10> long. The product name is <extra_id_11>. <extra_id_12> manufactures this.\n",
            "['targets: <extra_id_0> none <extra_id_1> none <extra_id_2> sterile <extra_id_3> none <extra_id_4> none <extra_id_5> none <extra_id_6> none <extra_id_7> none <extra_id_8> none <extra_id_9> none <extra_id_10> none <extra_id_11> none <extra_id_12> target'] \n",
            "\n",
            "Search Term:  Sterile latex Disposable Surgical Gloves\n",
            "Model Input:  description: sterile latex disposable surgical gloves. The color of this item is <extra_id_0>. The size is <extra_id_1>. This item's sterile status is <extra_id_2>. The powdered status is <extra_id_3>. Its latex-free status is <extra_id_4>. It comes in <extra_id_5> per box. There are <extra_id_6> per case. It is used for <extra_id_7>. The material of this item is <extra_id_8>. This item is <extra_id_9> thick. It is <extra_id_10> long. The product name is <extra_id_11>. <extra_id_12> manufactures this.\n",
            "['targets: <extra_id_0> none <extra_id_1> none <extra_id_2> sterile <extra_id_3> none <extra_id_4> latex <extra_id_5> none <extra_id_6> none <extra_id_7> surgical <extra_id_8> none <extra_id_9> none <extra_id_10> none <extra_id_11> none <extra_id_12> none'] \n",
            "\n",
            "Search Term:  Surgical gloves, size 6.5\n",
            "Model Input:  description: surgical gloves , size 6.5. The color of this item is <extra_id_0>. The size is <extra_id_1>. This item's sterile status is <extra_id_2>. The powdered status is <extra_id_3>. Its latex-free status is <extra_id_4>. It comes in <extra_id_5> per box. There are <extra_id_6> per case. It is used for <extra_id_7>. The material of this item is <extra_id_8>. This item is <extra_id_9> thick. It is <extra_id_10> long. The product name is <extra_id_11>. <extra_id_12> manufactures this.\n",
            "['targets: <extra_id_0> none <extra_id_1> 6.5 <extra_id_2> none <extra_id_3> none <extra_id_4> none <extra_id_5> none <extra_id_6> none <extra_id_7> surgical <extra_id_8> none <extra_id_9> none <extra_id_10> none <extra_id_11> none <extra_id_12> surgical gloves'] \n",
            "\n",
            "Search Term:  VINAYL GLOVES\n",
            "Model Input:  description: vinayl gloves. The color of this item is <extra_id_0>. The size is <extra_id_1>. This item's sterile status is <extra_id_2>. The powdered status is <extra_id_3>. Its latex-free status is <extra_id_4>. It comes in <extra_id_5> per box. There are <extra_id_6> per case. It is used for <extra_id_7>. The material of this item is <extra_id_8>. This item is <extra_id_9> thick. It is <extra_id_10> long. The product name is <extra_id_11>. <extra_id_12> manufactures this.\n",
            "['targets: <extra_id_0> none <extra_id_1> none <extra_id_2> none <extra_id_3> none <extra_id_4> none <extra_id_5> none <extra_id_6> none <extra_id_7> none <extra_id_8> none <extra_id_9> none <extra_id_10> none <extra_id_11> vinayl <extra_id_12> vinayl targets'] \n",
            "\n",
            "Search Term:  VINYL GLOVES\n",
            "Model Input:  description: vinyl gloves. The color of this item is <extra_id_0>. The size is <extra_id_1>. This item's sterile status is <extra_id_2>. The powdered status is <extra_id_3>. Its latex-free status is <extra_id_4>. It comes in <extra_id_5> per box. There are <extra_id_6> per case. It is used for <extra_id_7>. The material of this item is <extra_id_8>. This item is <extra_id_9> thick. It is <extra_id_10> long. The product name is <extra_id_11>. <extra_id_12> manufactures this.\n",
            "['targets: <extra_id_0> none <extra_id_1> none <extra_id_2> none <extra_id_3> none <extra_id_4> none <extra_id_5> none <extra_id_6> none <extra_id_7> none <extra_id_8> vinyl <extra_id_9> none <extra_id_10> none <extra_id_11> none <extra_id_12> target: none'] \n",
            "\n",
            "Search Term:  Vinyl gloves\n",
            "Model Input:  description: vinyl gloves. The color of this item is <extra_id_0>. The size is <extra_id_1>. This item's sterile status is <extra_id_2>. The powdered status is <extra_id_3>. Its latex-free status is <extra_id_4>. It comes in <extra_id_5> per box. There are <extra_id_6> per case. It is used for <extra_id_7>. The material of this item is <extra_id_8>. This item is <extra_id_9> thick. It is <extra_id_10> long. The product name is <extra_id_11>. <extra_id_12> manufactures this.\n",
            "['targets: <extra_id_0> none <extra_id_1> none <extra_id_2> none <extra_id_3> none <extra_id_4> none <extra_id_5> none <extra_id_6> none <extra_id_7> none <extra_id_8> vinyl <extra_id_9> none <extra_id_10> none <extra_id_11> none <extra_id_12> target: none'] \n",
            "\n",
            "Search Term:  WHEELCHAIR PUSHING GLOVES HAND\n",
            "Model Input:  description: wheelchair pushing gloves hand. The color of this item is <extra_id_0>. The size is <extra_id_1>. This item's sterile status is <extra_id_2>. The powdered status is <extra_id_3>. Its latex-free status is <extra_id_4>. It comes in <extra_id_5> per box. There are <extra_id_6> per case. It is used for <extra_id_7>. The material of this item is <extra_id_8>. This item is <extra_id_9> thick. It is <extra_id_10> long. The product name is <extra_id_11>. <extra_id_12> manufactures this.\n",
            "['targets: <extra_id_0> none <extra_id_1> none <extra_id_2> none <extra_id_3> none <extra_id_4> none <extra_id_5> none <extra_id_6> none <extra_id_7> pushing <extra_id_8> none <extra_id_9> none <extra_id_10> none <extra_id_11> none <extra_id_12> wheelchair pushing gloves hand'] \n",
            "\n",
            "Search Term:  WIRE GLOVE BOX HOLDER\n",
            "Model Input:  description: wire glove box holder. The color of this item is <extra_id_0>. The size is <extra_id_1>. This item's sterile status is <extra_id_2>. The powdered status is <extra_id_3>. Its latex-free status is <extra_id_4>. It comes in <extra_id_5> per box. There are <extra_id_6> per case. It is used for <extra_id_7>. The material of this item is <extra_id_8>. This item is <extra_id_9> thick. It is <extra_id_10> long. The product name is <extra_id_11>. <extra_id_12> manufactures this.\n",
            "['targets: <extra_id_0> none <extra_id_1> none <extra_id_2> none <extra_id_3> none <extra_id_4> none <extra_id_5> none <extra_id_6> none <extra_id_7> none <extra_id_8> none <extra_id_9> none <extra_id_10> none <extra_id_11> none <extra_id_12> none'] \n",
            "\n",
            "Search Term:  X-RAY PROTECTIVE GLOVES\n",
            "Model Input:  description: x-ray protective gloves. The color of this item is <extra_id_0>. The size is <extra_id_1>. This item's sterile status is <extra_id_2>. The powdered status is <extra_id_3>. Its latex-free status is <extra_id_4>. It comes in <extra_id_5> per box. There are <extra_id_6> per case. It is used for <extra_id_7>. The material of this item is <extra_id_8>. This item is <extra_id_9> thick. It is <extra_id_10> long. The product name is <extra_id_11>. <extra_id_12> manufactures this.\n",
            "['targets: <extra_id_0> none <extra_id_1> none <extra_id_2> none <extra_id_3> none <extra_id_4> none <extra_id_5> none <extra_id_6> none <extra_id_7> none <extra_id_8> none <extra_id_9> none <extra_id_10> none <extra_id_11> none <extra_id_12> target'] \n",
            "\n",
            "Search Term:  advantage glove\n",
            "Model Input:  description: advantage glove. The color of this item is <extra_id_0>. The size is <extra_id_1>. This item's sterile status is <extra_id_2>. The powdered status is <extra_id_3>. Its latex-free status is <extra_id_4>. It comes in <extra_id_5> per box. There are <extra_id_6> per case. It is used for <extra_id_7>. The material of this item is <extra_id_8>. This item is <extra_id_9> thick. It is <extra_id_10> long. The product name is <extra_id_11>. <extra_id_12> manufactures this.\n",
            "['targets: <extra_id_0> none <extra_id_1> none <extra_id_2> none <extra_id_3> none <extra_id_4> none <extra_id_5> none <extra_id_6> none <extra_id_7> none <extra_id_8> none <extra_id_9> none <extra_id_10> none <extra_id_11> none <extra_id_12> advantage glove'] \n",
            "\n",
            "Search Term:  ansell encore style 42 gloves\n",
            "Model Input:  description: ansell encore style 42 gloves. The color of this item is <extra_id_0>. The size is <extra_id_1>. This item's sterile status is <extra_id_2>. The powdered status is <extra_id_3>. Its latex-free status is <extra_id_4>. It comes in <extra_id_5> per box. There are <extra_id_6> per case. It is used for <extra_id_7>. The material of this item is <extra_id_8>. This item is <extra_id_9> thick. It is <extra_id_10> long. The product name is <extra_id_11>. <extra_id_12> manufactures this.\n",
            "['targets: <extra_id_0> none <extra_id_1> none <extra_id_2> none <extra_id_3> none <extra_id_4> none <extra_id_5> none <extra_id_6> none <extra_id_7> none <extra_id_8> none <extra_id_9> none <extra_id_10> none <extra_id_11> none <extra_id_12> ansell encore style 42 gloves'] \n",
            "\n",
            "Search Term:  ansell exam gloves pink\n",
            "Model Input:  description: ansell exam gloves pink. The color of this item is <extra_id_0>. The size is <extra_id_1>. This item's sterile status is <extra_id_2>. The powdered status is <extra_id_3>. Its latex-free status is <extra_id_4>. It comes in <extra_id_5> per box. There are <extra_id_6> per case. It is used for <extra_id_7>. The material of this item is <extra_id_8>. This item is <extra_id_9> thick. It is <extra_id_10> long. The product name is <extra_id_11>. <extra_id_12> manufactures this.\n",
            "['targets: <extra_id_0> pink <extra_id_1> none <extra_id_2> none <extra_id_3> none <extra_id_4> none <extra_id_5> none <extra_id_6> none <extra_id_7> exam <extra_id_8> none <extra_id_9> none <extra_id_10> none <extra_id_11> none <extra_id_12> ansell'] \n",
            "\n",
            "Search Term:  ansell medigrip sterile gloves\n",
            "Model Input:  description: ansell medigrip sterile gloves. The color of this item is <extra_id_0>. The size is <extra_id_1>. This item's sterile status is <extra_id_2>. The powdered status is <extra_id_3>. Its latex-free status is <extra_id_4>. It comes in <extra_id_5> per box. There are <extra_id_6> per case. It is used for <extra_id_7>. The material of this item is <extra_id_8>. This item is <extra_id_9> thick. It is <extra_id_10> long. The product name is <extra_id_11>. <extra_id_12> manufactures this.\n",
            "['targets: <extra_id_0> none <extra_id_1> none <extra_id_2> sterile <extra_id_3> none <extra_id_4> none <extra_id_5> none <extra_id_6> none <extra_id_7> none <extra_id_8> none <extra_id_9> none <extra_id_10> none <extra_id_11> none <extra_id_12> ansell'] \n",
            "\n",
            "Search Term:  ansell perry orthpedic gloves\n",
            "Model Input:  description: ansell perry orthpedic gloves. The color of this item is <extra_id_0>. The size is <extra_id_1>. This item's sterile status is <extra_id_2>. The powdered status is <extra_id_3>. Its latex-free status is <extra_id_4>. It comes in <extra_id_5> per box. There are <extra_id_6> per case. It is used for <extra_id_7>. The material of this item is <extra_id_8>. This item is <extra_id_9> thick. It is <extra_id_10> long. The product name is <extra_id_11>. <extra_id_12> manufactures this.\n",
            "['targets: <extra_id_0> none <extra_id_1> none <extra_id_2> none <extra_id_3> none <extra_id_4> none <extra_id_5> none <extra_id_6> none <extra_id_7> none <extra_id_8> none <extra_id_9> none <extra_id_10> none <extra_id_11> none <extra_id_12> ansell perry orthpedic'] \n",
            "\n",
            "Search Term:  ansell surgical gloves size 8 1/2\n",
            "Model Input:  description: ansell surgical gloves size 8 1/2. The color of this item is <extra_id_0>. The size is <extra_id_1>. This item's sterile status is <extra_id_2>. The powdered status is <extra_id_3>. Its latex-free status is <extra_id_4>. It comes in <extra_id_5> per box. There are <extra_id_6> per case. It is used for <extra_id_7>. The material of this item is <extra_id_8>. This item is <extra_id_9> thick. It is <extra_id_10> long. The product name is <extra_id_11>. <extra_id_12> manufactures this.\n",
            "['targets: <extra_id_0> none <extra_id_1> 8.5 <extra_id_2> none <extra_id_3> none <extra_id_4> none <extra_id_5> none <extra_id_6> none <extra_id_7> surgical <extra_id_8> none <extra_id_9> none <extra_id_10> none <extra_id_11> none <extra_id_12> ansell'] \n",
            "\n",
            "Search Term:  average medium glove\n",
            "Model Input:  description: average medium glove. The color of this item is <extra_id_0>. The size is <extra_id_1>. This item's sterile status is <extra_id_2>. The powdered status is <extra_id_3>. Its latex-free status is <extra_id_4>. It comes in <extra_id_5> per box. There are <extra_id_6> per case. It is used for <extra_id_7>. The material of this item is <extra_id_8>. This item is <extra_id_9> thick. It is <extra_id_10> long. The product name is <extra_id_11>. <extra_id_12> manufactures this.\n",
            "['targets: <extra_id_0> none <extra_id_1> medium <extra_id_2> none <extra_id_3> none <extra_id_4> none <extra_id_5> none <extra_id_6> none <extra_id_7> none <extra_id_8> none <extra_id_9> none <extra_id_10> none <extra_id_11> none <extra_id_12> none'] \n",
            "\n",
            "Search Term:  best touch nitrate gloves\n",
            "Model Input:  description: best touch nitrate gloves. The color of this item is <extra_id_0>. The size is <extra_id_1>. This item's sterile status is <extra_id_2>. The powdered status is <extra_id_3>. Its latex-free status is <extra_id_4>. It comes in <extra_id_5> per box. There are <extra_id_6> per case. It is used for <extra_id_7>. The material of this item is <extra_id_8>. This item is <extra_id_9> thick. It is <extra_id_10> long. The product name is <extra_id_11>. <extra_id_12> manufactures this.\n",
            "['targets: <extra_id_0> none <extra_id_1> none <extra_id_2> none <extra_id_3> none <extra_id_4> none <extra_id_5> none <extra_id_6> none <extra_id_7> none <extra_id_8> nitrate <extra_id_9> none <extra_id_10> none <extra_id_11> best touch <extra_id_12> touch nitrate'] \n",
            "\n",
            "Search Term:  biogel gloves\n",
            "Model Input:  description: biogel gloves. The color of this item is <extra_id_0>. The size is <extra_id_1>. This item's sterile status is <extra_id_2>. The powdered status is <extra_id_3>. Its latex-free status is <extra_id_4>. It comes in <extra_id_5> per box. There are <extra_id_6> per case. It is used for <extra_id_7>. The material of this item is <extra_id_8>. This item is <extra_id_9> thick. It is <extra_id_10> long. The product name is <extra_id_11>. <extra_id_12> manufactures this.\n",
            "['targets: <extra_id_0> none <extra_id_1> none <extra_id_2> none <extra_id_3> none <extra_id_4> none <extra_id_5> none <extra_id_6> none <extra_id_7> none <extra_id_8> none <extra_id_9> none <extra_id_10> none <extra_id_11> biogel <extra_id_12> biogel'] \n",
            "\n",
            "Search Term:  biogel sterile glove\n",
            "Model Input:  description: biogel sterile glove. The color of this item is <extra_id_0>. The size is <extra_id_1>. This item's sterile status is <extra_id_2>. The powdered status is <extra_id_3>. Its latex-free status is <extra_id_4>. It comes in <extra_id_5> per box. There are <extra_id_6> per case. It is used for <extra_id_7>. The material of this item is <extra_id_8>. This item is <extra_id_9> thick. It is <extra_id_10> long. The product name is <extra_id_11>. <extra_id_12> manufactures this.\n",
            "['targets: <extra_id_0> none <extra_id_1> none <extra_id_2> sterile <extra_id_3> none <extra_id_4> none <extra_id_5> none <extra_id_6> none <extra_id_7> none <extra_id_8> biogel <extra_id_9> none <extra_id_10> none <extra_id_11> none <extra_id_12> biogel'] \n",
            "\n",
            "Search Term:  black exam gloves\n",
            "Model Input:  description: black exam gloves. The color of this item is <extra_id_0>. The size is <extra_id_1>. This item's sterile status is <extra_id_2>. The powdered status is <extra_id_3>. Its latex-free status is <extra_id_4>. It comes in <extra_id_5> per box. There are <extra_id_6> per case. It is used for <extra_id_7>. The material of this item is <extra_id_8>. This item is <extra_id_9> thick. It is <extra_id_10> long. The product name is <extra_id_11>. <extra_id_12> manufactures this.\n",
            "['targets: <extra_id_0> black <extra_id_1> none <extra_id_2> none <extra_id_3> none <extra_id_4> none <extra_id_5> none <extra_id_6> none <extra_id_7> exam <extra_id_8> none <extra_id_9> none <extra_id_10> none <extra_id_11> none <extra_id_12> exam gloves'] \n",
            "\n",
            "Search Term:  black nitrile gloves\n",
            "Model Input:  description: black nitrile gloves. The color of this item is <extra_id_0>. The size is <extra_id_1>. This item's sterile status is <extra_id_2>. The powdered status is <extra_id_3>. Its latex-free status is <extra_id_4>. It comes in <extra_id_5> per box. There are <extra_id_6> per case. It is used for <extra_id_7>. The material of this item is <extra_id_8>. This item is <extra_id_9> thick. It is <extra_id_10> long. The product name is <extra_id_11>. <extra_id_12> manufactures this.\n",
            "['targets: <extra_id_0> black <extra_id_1> none <extra_id_2> none <extra_id_3> none <extra_id_4> none <extra_id_5> none <extra_id_6> none <extra_id_7> none <extra_id_8> nitrile <extra_id_9> none <extra_id_10> none <extra_id_11> none <extra_id_12> target'] \n",
            "\n",
            "Search Term:  cURITY SURGICAL GLOVES STERILE\n",
            "Model Input:  description: curity surgical gloves sterile. The color of this item is <extra_id_0>. The size is <extra_id_1>. This item's sterile status is <extra_id_2>. The powdered status is <extra_id_3>. Its latex-free status is <extra_id_4>. It comes in <extra_id_5> per box. There are <extra_id_6> per case. It is used for <extra_id_7>. The material of this item is <extra_id_8>. This item is <extra_id_9> thick. It is <extra_id_10> long. The product name is <extra_id_11>. <extra_id_12> manufactures this.\n",
            "['targets: <extra_id_0> none <extra_id_1> none <extra_id_2> sterile <extra_id_3> none <extra_id_4> none <extra_id_5> none <extra_id_6> none <extra_id_7> surgical <extra_id_8> none <extra_id_9> none <extra_id_10> none <extra_id_11> none <extra_id_12> curity surgical gloves'] \n",
            "\n",
            "Search Term:  chemoplus gloves\n",
            "Model Input:  description: chemoplus gloves. The color of this item is <extra_id_0>. The size is <extra_id_1>. This item's sterile status is <extra_id_2>. The powdered status is <extra_id_3>. Its latex-free status is <extra_id_4>. It comes in <extra_id_5> per box. There are <extra_id_6> per case. It is used for <extra_id_7>. The material of this item is <extra_id_8>. This item is <extra_id_9> thick. It is <extra_id_10> long. The product name is <extra_id_11>. <extra_id_12> manufactures this.\n",
            "['targets: <extra_id_0> none <extra_id_1> none <extra_id_2> none <extra_id_3> none <extra_id_4> none <extra_id_5> none <extra_id_6> none <extra_id_7> chemo <extra_id_8> none <extra_id_9> none <extra_id_10> none <extra_id_11> none <extra_id_12> chemoplus'] \n",
            "\n",
            "Search Term:  cranberry contour nitrile gloves\n",
            "Model Input:  description: cranberry contour nitrile gloves. The color of this item is <extra_id_0>. The size is <extra_id_1>. This item's sterile status is <extra_id_2>. The powdered status is <extra_id_3>. Its latex-free status is <extra_id_4>. It comes in <extra_id_5> per box. There are <extra_id_6> per case. It is used for <extra_id_7>. The material of this item is <extra_id_8>. This item is <extra_id_9> thick. It is <extra_id_10> long. The product name is <extra_id_11>. <extra_id_12> manufactures this.\n",
            "['targets: <extra_id_0> cranberry <extra_id_1> none <extra_id_2> none <extra_id_3> none <extra_id_4> none <extra_id_5> none <extra_id_6> none <extra_id_7> none <extra_id_8> nitrile <extra_id_9> none <extra_id_10> none <extra_id_11> cranberry <extra_id_12> contour nitrile'] \n",
            "\n",
            "Search Term:  cranberry gloves\n",
            "Model Input:  description: cranberry gloves. The color of this item is <extra_id_0>. The size is <extra_id_1>. This item's sterile status is <extra_id_2>. The powdered status is <extra_id_3>. Its latex-free status is <extra_id_4>. It comes in <extra_id_5> per box. There are <extra_id_6> per case. It is used for <extra_id_7>. The material of this item is <extra_id_8>. This item is <extra_id_9> thick. It is <extra_id_10> long. The product name is <extra_id_11>. <extra_id_12> manufactures this.\n",
            "['targets: <extra_id_0> cranberry <extra_id_1> none <extra_id_2> none <extra_id_3> none <extra_id_4> none <extra_id_5> none <extra_id_6> none <extra_id_7> none <extra_id_8> none <extra_id_9> none <extra_id_10> none <extra_id_11> cranberry <extra_id_12> target'] \n",
            "\n",
            "Search Term:  cryo gloves\n",
            "Model Input:  description: cryo gloves. The color of this item is <extra_id_0>. The size is <extra_id_1>. This item's sterile status is <extra_id_2>. The powdered status is <extra_id_3>. Its latex-free status is <extra_id_4>. It comes in <extra_id_5> per box. There are <extra_id_6> per case. It is used for <extra_id_7>. The material of this item is <extra_id_8>. This item is <extra_id_9> thick. It is <extra_id_10> long. The product name is <extra_id_11>. <extra_id_12> manufactures this.\n",
            "['targets: <extra_id_0> none <extra_id_1> none <extra_id_2> none <extra_id_3> none <extra_id_4> none <extra_id_5> none <extra_id_6> none <extra_id_7> cryo <extra_id_8> none <extra_id_9> none <extra_id_10> none <extra_id_11> none <extra_id_12> Cryo gloves manufacturer'] \n",
            "\n",
            "Search Term:  curity surgical gloves\n",
            "Model Input:  description: curity surgical gloves. The color of this item is <extra_id_0>. The size is <extra_id_1>. This item's sterile status is <extra_id_2>. The powdered status is <extra_id_3>. Its latex-free status is <extra_id_4>. It comes in <extra_id_5> per box. There are <extra_id_6> per case. It is used for <extra_id_7>. The material of this item is <extra_id_8>. This item is <extra_id_9> thick. It is <extra_id_10> long. The product name is <extra_id_11>. <extra_id_12> manufactures this.\n",
            "['targets: <extra_id_0> none <extra_id_1> none <extra_id_2> none <extra_id_3> none <extra_id_4> none <extra_id_5> none <extra_id_6> none <extra_id_7> surgical <extra_id_8> none <extra_id_9> none <extra_id_10> none <extra_id_11> curity <extra_id_12> curity surgical gloves'] \n",
            "\n",
            "Search Term:  cypress gloves\n",
            "Model Input:  description: cypress gloves. The color of this item is <extra_id_0>. The size is <extra_id_1>. This item's sterile status is <extra_id_2>. The powdered status is <extra_id_3>. Its latex-free status is <extra_id_4>. It comes in <extra_id_5> per box. There are <extra_id_6> per case. It is used for <extra_id_7>. The material of this item is <extra_id_8>. This item is <extra_id_9> thick. It is <extra_id_10> long. The product name is <extra_id_11>. <extra_id_12> manufactures this.\n",
            "['targets: <extra_id_0> none <extra_id_1> none <extra_id_2> none <extra_id_3> none <extra_id_4> none <extra_id_5> none <extra_id_6> none <extra_id_7> none <extra_id_8> cypress <extra_id_9> none <extra_id_10> none <extra_id_11> cypress <extra_id_12> cypress'] \n",
            "\n",
            "Search Term:  cypress nitrile gloves\n",
            "Model Input:  description: cypress nitrile gloves. The color of this item is <extra_id_0>. The size is <extra_id_1>. This item's sterile status is <extra_id_2>. The powdered status is <extra_id_3>. Its latex-free status is <extra_id_4>. It comes in <extra_id_5> per box. There are <extra_id_6> per case. It is used for <extra_id_7>. The material of this item is <extra_id_8>. This item is <extra_id_9> thick. It is <extra_id_10> long. The product name is <extra_id_11>. <extra_id_12> manufactures this.\n",
            "['targets: <extra_id_0> none <extra_id_1> none <extra_id_2> none <extra_id_3> none <extra_id_4> none <extra_id_5> none <extra_id_6> none <extra_id_7> none <extra_id_8> nitrile <extra_id_9> none <extra_id_10> none <extra_id_11> cypress <extra_id_12> cypress'] \n",
            "\n",
            "Search Term:  disposable gloves\n",
            "Model Input:  description: disposable gloves. The color of this item is <extra_id_0>. The size is <extra_id_1>. This item's sterile status is <extra_id_2>. The powdered status is <extra_id_3>. Its latex-free status is <extra_id_4>. It comes in <extra_id_5> per box. There are <extra_id_6> per case. It is used for <extra_id_7>. The material of this item is <extra_id_8>. This item is <extra_id_9> thick. It is <extra_id_10> long. The product name is <extra_id_11>. <extra_id_12> manufactures this.\n",
            "['targets: <extra_id_0> none <extra_id_1> none <extra_id_2> none <extra_id_3> none <extra_id_4> none <extra_id_5> none <extra_id_6> none <extra_id_7> none <extra_id_8> none <extra_id_9> none <extra_id_10> none <extra_id_11> none <extra_id_12> none'] \n",
            "\n",
            "Search Term:  dynarex black glove nitrile\n",
            "Model Input:  description: dynarex black glove nitrile. The color of this item is <extra_id_0>. The size is <extra_id_1>. This item's sterile status is <extra_id_2>. The powdered status is <extra_id_3>. Its latex-free status is <extra_id_4>. It comes in <extra_id_5> per box. There are <extra_id_6> per case. It is used for <extra_id_7>. The material of this item is <extra_id_8>. This item is <extra_id_9> thick. It is <extra_id_10> long. The product name is <extra_id_11>. <extra_id_12> manufactures this.\n",
            "['targets: <extra_id_0> black <extra_id_1> none <extra_id_2> none <extra_id_3> none <extra_id_4> none <extra_id_5> none <extra_id_6> none <extra_id_7> none <extra_id_8> nitrile <extra_id_9> none <extra_id_10> none <extra_id_11> dynarex <extra_id_12> dynarex'] \n",
            "\n",
            "Search Term:  dynarex safe touch pf vinyl exam gloves non-sterile\n",
            "Model Input:  description: dynarex safe touch pf vinyl exam gloves non-sterile. The color of this item is <extra_id_0>. The size is <extra_id_1>. This item's sterile status is <extra_id_2>. The powdered status is <extra_id_3>. Its latex-free status is <extra_id_4>. It comes in <extra_id_5> per box. There are <extra_id_6> per case. It is used for <extra_id_7>. The material of this item is <extra_id_8>. This item is <extra_id_9> thick. It is <extra_id_10> long. The product name is <extra_id_11>. <extra_id_12> manufactures this.\n",
            "['targets: <extra_id_0> none <extra_id_1> none <extra_id_2> non-sterile <extra_id_3> powder-free <extra_id_4> none <extra_id_5> none <extra_id_6> none <extra_id_7> exam <extra_id_8> vinyl <extra_id_9> none <extra_id_10> none <extra_id_11> dynarex <extra_id_12> dynarex'] \n",
            "\n",
            "Search Term:  dynarex safe touch pf vinyl exam gloves: medium powder-fee, non-sterile\n",
            "Model Input:  description: dynarex safe touch pf vinyl exam gloves : medium powder-fee , non-sterile. The color of this item is <extra_id_0>. The size is <extra_id_1>. This item's sterile status is <extra_id_2>. The powdered status is <extra_id_3>. Its latex-free status is <extra_id_4>. It comes in <extra_id_5> per box. There are <extra_id_6> per case. It is used for <extra_id_7>. The material of this item is <extra_id_8>. This item is <extra_id_9> thick. It is <extra_id_10> long. The product name is <extra_id_11>. <extra_id_12> manufactures this.\n",
            "['targets: <extra_id_0> none <extra_id_1> medium <extra_id_2> non-sterile <extra_id_3> powder-free <extra_id_4> none <extra_id_5> none <extra_id_6> none <extra_id_7> exam <extra_id_8> vinyl <extra_id_9> none <extra_id_10> none <extra_id_11> dynarex <extra_id_12> dynarex'] \n",
            "\n",
            "Search Term:  elasto gel gloves\n",
            "Model Input:  description: elasto gel gloves. The color of this item is <extra_id_0>. The size is <extra_id_1>. This item's sterile status is <extra_id_2>. The powdered status is <extra_id_3>. Its latex-free status is <extra_id_4>. It comes in <extra_id_5> per box. There are <extra_id_6> per case. It is used for <extra_id_7>. The material of this item is <extra_id_8>. This item is <extra_id_9> thick. It is <extra_id_10> long. The product name is <extra_id_11>. <extra_id_12> manufactures this.\n",
            "['targets: <extra_id_0> none <extra_id_1> none <extra_id_2> none <extra_id_3> none <extra_id_4> none <extra_id_5> none <extra_id_6> none <extra_id_7> none <extra_id_8> none <extra_id_9> none <extra_id_10> none <extra_id_11> none <extra_id_12> none'] \n",
            "\n",
            "Search Term:  exam glove\n",
            "Model Input:  description: exam glove. The color of this item is <extra_id_0>. The size is <extra_id_1>. This item's sterile status is <extra_id_2>. The powdered status is <extra_id_3>. Its latex-free status is <extra_id_4>. It comes in <extra_id_5> per box. There are <extra_id_6> per case. It is used for <extra_id_7>. The material of this item is <extra_id_8>. This item is <extra_id_9> thick. It is <extra_id_10> long. The product name is <extra_id_11>. <extra_id_12> manufactures this.\n",
            "['targets: <extra_id_0> none <extra_id_1> none <extra_id_2> none <extra_id_3> none <extra_id_4> none <extra_id_5> none <extra_id_6> none <extra_id_7> exam <extra_id_8> none <extra_id_9> none <extra_id_10> none <extra_id_11> none <extra_id_12> exam glove'] \n",
            "\n",
            "Search Term:  exam gloves small\n",
            "Model Input:  description: exam gloves small. The color of this item is <extra_id_0>. The size is <extra_id_1>. This item's sterile status is <extra_id_2>. The powdered status is <extra_id_3>. Its latex-free status is <extra_id_4>. It comes in <extra_id_5> per box. There are <extra_id_6> per case. It is used for <extra_id_7>. The material of this item is <extra_id_8>. This item is <extra_id_9> thick. It is <extra_id_10> long. The product name is <extra_id_11>. <extra_id_12> manufactures this.\n",
            "['targets: <extra_id_0> none <extra_id_1> small <extra_id_2> none <extra_id_3> none <extra_id_4> none <extra_id_5> none <extra_id_6> none <extra_id_7> exam <extra_id_8> none <extra_id_9> none <extra_id_10> none <extra_id_11> none <extra_id_12> exam gloves small'] \n",
            "\n",
            "Search Term:  exam gloves unisize\n",
            "Model Input:  description: exam gloves unisize. The color of this item is <extra_id_0>. The size is <extra_id_1>. This item's sterile status is <extra_id_2>. The powdered status is <extra_id_3>. Its latex-free status is <extra_id_4>. It comes in <extra_id_5> per box. There are <extra_id_6> per case. It is used for <extra_id_7>. The material of this item is <extra_id_8>. This item is <extra_id_9> thick. It is <extra_id_10> long. The product name is <extra_id_11>. <extra_id_12> manufactures this.\n",
            "['targets: <extra_id_0> none <extra_id_1> none <extra_id_2> none <extra_id_3> none <extra_id_4> none <extra_id_5> none <extra_id_6> none <extra_id_7> exam <extra_id_8> none <extra_id_9> none <extra_id_10> none <extra_id_11> none <extra_id_12> unisize'] \n",
            "\n",
            "Search Term:  gammex gloves\n",
            "Model Input:  description: gammex gloves. The color of this item is <extra_id_0>. The size is <extra_id_1>. This item's sterile status is <extra_id_2>. The powdered status is <extra_id_3>. Its latex-free status is <extra_id_4>. It comes in <extra_id_5> per box. There are <extra_id_6> per case. It is used for <extra_id_7>. The material of this item is <extra_id_8>. This item is <extra_id_9> thick. It is <extra_id_10> long. The product name is <extra_id_11>. <extra_id_12> manufactures this.\n",
            "['targets: <extra_id_0> none <extra_id_1> none <extra_id_2> none <extra_id_3> none <extra_id_4> none <extra_id_5> none <extra_id_6> none <extra_id_7> none <extra_id_8> none <extra_id_9> none <extra_id_10> none <extra_id_11> none <extra_id_12> gammex'] \n",
            "\n",
            "Search Term:  glove dispen\n",
            "Model Input:  description: glove dispen. The color of this item is <extra_id_0>. The size is <extra_id_1>. This item's sterile status is <extra_id_2>. The powdered status is <extra_id_3>. Its latex-free status is <extra_id_4>. It comes in <extra_id_5> per box. There are <extra_id_6> per case. It is used for <extra_id_7>. The material of this item is <extra_id_8>. This item is <extra_id_9> thick. It is <extra_id_10> long. The product name is <extra_id_11>. <extra_id_12> manufactures this.\n",
            "['targets: <extra_id_0> none <extra_id_1> none <extra_id_2> none <extra_id_3> none <extra_id_4> none <extra_id_5> none <extra_id_6> none <extra_id_7> none <extra_id_8> none <extra_id_9> none <extra_id_10> none <extra_id_11> none <extra_id_12> none'] \n",
            "\n",
            "Search Term:  glove dispenser\n",
            "Model Input:  description: glove dispenser. The color of this item is <extra_id_0>. The size is <extra_id_1>. This item's sterile status is <extra_id_2>. The powdered status is <extra_id_3>. Its latex-free status is <extra_id_4>. It comes in <extra_id_5> per box. There are <extra_id_6> per case. It is used for <extra_id_7>. The material of this item is <extra_id_8>. This item is <extra_id_9> thick. It is <extra_id_10> long. The product name is <extra_id_11>. <extra_id_12> manufactures this.\n",
            "['targets: <extra_id_0> none <extra_id_1> none <extra_id_2> none <extra_id_3> none <extra_id_4> none <extra_id_5> none <extra_id_6> none <extra_id_7> none <extra_id_8> none <extra_id_9> none <extra_id_10> none <extra_id_11> none <extra_id_12> none'] \n",
            "\n",
            "Search Term:  glove dispenser, metal\n",
            "Model Input:  description: glove dispenser , metal. The color of this item is <extra_id_0>. The size is <extra_id_1>. This item's sterile status is <extra_id_2>. The powdered status is <extra_id_3>. Its latex-free status is <extra_id_4>. It comes in <extra_id_5> per box. There are <extra_id_6> per case. It is used for <extra_id_7>. The material of this item is <extra_id_8>. This item is <extra_id_9> thick. It is <extra_id_10> long. The product name is <extra_id_11>. <extra_id_12> manufactures this.\n",
            "['targets: <extra_id_0> none <extra_id_1> none <extra_id_2> none <extra_id_3> none <extra_id_4> none <extra_id_5> none <extra_id_6> none <extra_id_7> none <extra_id_8> none <extra_id_9> none <extra_id_10> none <extra_id_11> none <extra_id_12> none'] \n",
            "\n",
            "Search Term:  glove dispensor\n",
            "Model Input:  description: glove dispensor. The color of this item is <extra_id_0>. The size is <extra_id_1>. This item's sterile status is <extra_id_2>. The powdered status is <extra_id_3>. Its latex-free status is <extra_id_4>. It comes in <extra_id_5> per box. There are <extra_id_6> per case. It is used for <extra_id_7>. The material of this item is <extra_id_8>. This item is <extra_id_9> thick. It is <extra_id_10> long. The product name is <extra_id_11>. <extra_id_12> manufactures this.\n",
            "['targets: <extra_id_0> none <extra_id_1> none <extra_id_2> none <extra_id_3> none <extra_id_4> none <extra_id_5> none <extra_id_6> none <extra_id_7> none <extra_id_8> none <extra_id_9> none <extra_id_10> none <extra_id_11> none <extra_id_12> target'] \n",
            "\n",
            "Search Term:  gloves biogel and indicator\n",
            "Model Input:  description: gloves biogel and indicator. The color of this item is <extra_id_0>. The size is <extra_id_1>. This item's sterile status is <extra_id_2>. The powdered status is <extra_id_3>. Its latex-free status is <extra_id_4>. It comes in <extra_id_5> per box. There are <extra_id_6> per case. It is used for <extra_id_7>. The material of this item is <extra_id_8>. This item is <extra_id_9> thick. It is <extra_id_10> long. The product name is <extra_id_11>. <extra_id_12> manufactures this.\n",
            "['targets: <extra_id_0> none <extra_id_1> none <extra_id_2> none <extra_id_3> none <extra_id_4> none <extra_id_5> none <extra_id_6> none <extra_id_7> none <extra_id_8> biogel <extra_id_9> none <extra_id_10> none <extra_id_11> biogel <extra_id_12> indicator'] \n",
            "\n",
            "Search Term:  gloves extra small\n",
            "Model Input:  description: gloves extra small. The color of this item is <extra_id_0>. The size is <extra_id_1>. This item's sterile status is <extra_id_2>. The powdered status is <extra_id_3>. Its latex-free status is <extra_id_4>. It comes in <extra_id_5> per box. There are <extra_id_6> per case. It is used for <extra_id_7>. The material of this item is <extra_id_8>. This item is <extra_id_9> thick. It is <extra_id_10> long. The product name is <extra_id_11>. <extra_id_12> manufactures this.\n",
            "['targets: <extra_id_0> none <extra_id_1> extra-small <extra_id_2> none <extra_id_3> none <extra_id_4> none <extra_id_5> none <extra_id_6> none <extra_id_7> none <extra_id_8> none <extra_id_9> none <extra_id_10> none <extra_id_11> none <extra_id_12> none'] \n",
            "\n",
            "Search Term:  gloves latex power free\n",
            "Model Input:  description: gloves latex power free. The color of this item is <extra_id_0>. The size is <extra_id_1>. This item's sterile status is <extra_id_2>. The powdered status is <extra_id_3>. Its latex-free status is <extra_id_4>. It comes in <extra_id_5> per box. There are <extra_id_6> per case. It is used for <extra_id_7>. The material of this item is <extra_id_8>. This item is <extra_id_9> thick. It is <extra_id_10> long. The product name is <extra_id_11>. <extra_id_12> manufactures this.\n",
            "['targets: <extra_id_0> none <extra_id_1> none <extra_id_2> none <extra_id_3> none <extra_id_4> latex <extra_id_5> none <extra_id_6> none <extra_id_7> none <extra_id_8> none <extra_id_9> none <extra_id_10> none <extra_id_11> none <extra_id_12> power-free'] \n",
            "\n",
            "Search Term:  gloves medicum\n",
            "Model Input:  description: gloves medicum. The color of this item is <extra_id_0>. The size is <extra_id_1>. This item's sterile status is <extra_id_2>. The powdered status is <extra_id_3>. Its latex-free status is <extra_id_4>. It comes in <extra_id_5> per box. There are <extra_id_6> per case. It is used for <extra_id_7>. The material of this item is <extra_id_8>. This item is <extra_id_9> thick. It is <extra_id_10> long. The product name is <extra_id_11>. <extra_id_12> manufactures this.\n",
            "['targets: <extra_id_0> none <extra_id_1> none <extra_id_2> none <extra_id_3> none <extra_id_4> none <extra_id_5> none <extra_id_6> none <extra_id_7> none <extra_id_8> none <extra_id_9> none <extra_id_10> none <extra_id_11> none <extra_id_12> medicum'] \n",
            "\n",
            "Search Term:  gloves nitrile 6x\n",
            "Model Input:  description: gloves nitrile 6x. The color of this item is <extra_id_0>. The size is <extra_id_1>. This item's sterile status is <extra_id_2>. The powdered status is <extra_id_3>. Its latex-free status is <extra_id_4>. It comes in <extra_id_5> per box. There are <extra_id_6> per case. It is used for <extra_id_7>. The material of this item is <extra_id_8>. This item is <extra_id_9> thick. It is <extra_id_10> long. The product name is <extra_id_11>. <extra_id_12> manufactures this.\n",
            "['targets: <extra_id_0> none <extra_id_1> none <extra_id_2> none <extra_id_3> none <extra_id_4> none <extra_id_5> none <extra_id_6> none <extra_id_7> none <extra_id_8> nitrile <extra_id_9> none <extra_id_10> none <extra_id_11> none <extra_id_12> target'] \n",
            "\n",
            "Search Term:  gloves, nitrile\n",
            "Model Input:  description: gloves , nitrile. The color of this item is <extra_id_0>. The size is <extra_id_1>. This item's sterile status is <extra_id_2>. The powdered status is <extra_id_3>. Its latex-free status is <extra_id_4>. It comes in <extra_id_5> per box. There are <extra_id_6> per case. It is used for <extra_id_7>. The material of this item is <extra_id_8>. This item is <extra_id_9> thick. It is <extra_id_10> long. The product name is <extra_id_11>. <extra_id_12> manufactures this.\n",
            "['targets: <extra_id_0> none <extra_id_1> none <extra_id_2> none <extra_id_3> none <extra_id_4> none <extra_id_5> none <extra_id_6> none <extra_id_7> none <extra_id_8> nitrile <extra_id_9> none <extra_id_10> none <extra_id_11> none <extra_id_12> target'] \n",
            "\n",
            "Search Term:  halyard purple nitrile gloves\n",
            "Model Input:  description: halyard purple nitrile gloves. The color of this item is <extra_id_0>. The size is <extra_id_1>. This item's sterile status is <extra_id_2>. The powdered status is <extra_id_3>. Its latex-free status is <extra_id_4>. It comes in <extra_id_5> per box. There are <extra_id_6> per case. It is used for <extra_id_7>. The material of this item is <extra_id_8>. This item is <extra_id_9> thick. It is <extra_id_10> long. The product name is <extra_id_11>. <extra_id_12> manufactures this.\n",
            "['targets: <extra_id_0> purple <extra_id_1> none <extra_id_2> none <extra_id_3> none <extra_id_4> none <extra_id_5> none <extra_id_6> none <extra_id_7> none <extra_id_8> nitrile <extra_id_9> none <extra_id_10> none <extra_id_11> halyard <extra_id_12> halyard'] \n",
            "\n",
            "Search Term:  hatch VGB500 Leather/Lycra Anti-Vibration Gloves\n",
            "Model Input:  description: hatch vgb500 leather/lycra anti-vibration gloves. The color of this item is <extra_id_0>. The size is <extra_id_1>. This item's sterile status is <extra_id_2>. The powdered status is <extra_id_3>. Its latex-free status is <extra_id_4>. It comes in <extra_id_5> per box. There are <extra_id_6> per case. It is used for <extra_id_7>. The material of this item is <extra_id_8>. This item is <extra_id_9> thick. It is <extra_id_10> long. The product name is <extra_id_11>. <extra_id_12> manufactures this.\n",
            "['targets: <extra_id_0> none <extra_id_1> none <extra_id_2> none <extra_id_3> none <extra_id_4> none <extra_id_5> none <extra_id_6> none <extra_id_7> none <extra_id_8> leather <extra_id_9> none <extra_id_10> none <extra_id_11> hatch <extra_id_12> vgb500'] \n",
            "\n",
            "Search Term:  hatch gloves\n",
            "Model Input:  description: hatch gloves. The color of this item is <extra_id_0>. The size is <extra_id_1>. This item's sterile status is <extra_id_2>. The powdered status is <extra_id_3>. Its latex-free status is <extra_id_4>. It comes in <extra_id_5> per box. There are <extra_id_6> per case. It is used for <extra_id_7>. The material of this item is <extra_id_8>. This item is <extra_id_9> thick. It is <extra_id_10> long. The product name is <extra_id_11>. <extra_id_12> manufactures this.\n",
            "['targets: <extra_id_0> none <extra_id_1> none <extra_id_2> none <extra_id_3> none <extra_id_4> none <extra_id_5> none <extra_id_6> none <extra_id_7> none <extra_id_8> none <extra_id_9> none <extra_id_10> none <extra_id_11> none <extra_id_12> hatch gloves'] \n",
            "\n",
            "Search Term:  healthmark gloves\n",
            "Model Input:  description: healthmark gloves. The color of this item is <extra_id_0>. The size is <extra_id_1>. This item's sterile status is <extra_id_2>. The powdered status is <extra_id_3>. Its latex-free status is <extra_id_4>. It comes in <extra_id_5> per box. There are <extra_id_6> per case. It is used for <extra_id_7>. The material of this item is <extra_id_8>. This item is <extra_id_9> thick. It is <extra_id_10> long. The product name is <extra_id_11>. <extra_id_12> manufactures this.\n",
            "['targets: <extra_id_0> none <extra_id_1> none <extra_id_2> none <extra_id_3> none <extra_id_4> none <extra_id_5> none <extra_id_6> none <extra_id_7> none <extra_id_8> none <extra_id_9> none <extra_id_10> none <extra_id_11> healthmark <extra_id_12> target'] \n",
            "\n",
            "Search Term:  henry schein gloves\n",
            "Model Input:  description: henry schein gloves. The color of this item is <extra_id_0>. The size is <extra_id_1>. This item's sterile status is <extra_id_2>. The powdered status is <extra_id_3>. Its latex-free status is <extra_id_4>. It comes in <extra_id_5> per box. There are <extra_id_6> per case. It is used for <extra_id_7>. The material of this item is <extra_id_8>. This item is <extra_id_9> thick. It is <extra_id_10> long. The product name is <extra_id_11>. <extra_id_12> manufactures this.\n",
            "['targets: <extra_id_0> none <extra_id_1> none <extra_id_2> none <extra_id_3> none <extra_id_4> none <extra_id_5> none <extra_id_6> none <extra_id_7> none <extra_id_8> none <extra_id_9> none <extra_id_10> none <extra_id_11> none <extra_id_12> henry schein'] \n",
            "\n",
            "Search Term:  ihc gloves\n",
            "Model Input:  description: ihc gloves. The color of this item is <extra_id_0>. The size is <extra_id_1>. This item's sterile status is <extra_id_2>. The powdered status is <extra_id_3>. Its latex-free status is <extra_id_4>. It comes in <extra_id_5> per box. There are <extra_id_6> per case. It is used for <extra_id_7>. The material of this item is <extra_id_8>. This item is <extra_id_9> thick. It is <extra_id_10> long. The product name is <extra_id_11>. <extra_id_12> manufactures this.\n",
            "['targets: <extra_id_0> none <extra_id_1> none <extra_id_2> none <extra_id_3> none <extra_id_4> none <extra_id_5> none <extra_id_6> none <extra_id_7> none <extra_id_8> none <extra_id_9> none <extra_id_10> none <extra_id_11> none <extra_id_12> ihc'] \n",
            "\n",
            "Search Term:  ihc gloves, exam, small, nitrile,\n",
            "Model Input:  description: ihc gloves , exam , small , nitrile ,. The color of this item is <extra_id_0>. The size is <extra_id_1>. This item's sterile status is <extra_id_2>. The powdered status is <extra_id_3>. Its latex-free status is <extra_id_4>. It comes in <extra_id_5> per box. There are <extra_id_6> per case. It is used for <extra_id_7>. The material of this item is <extra_id_8>. This item is <extra_id_9> thick. It is <extra_id_10> long. The product name is <extra_id_11>. <extra_id_12> manufactures this.\n",
            "['targets: <extra_id_0> none <extra_id_1> small <extra_id_2> none <extra_id_3> none <extra_id_4> none <extra_id_5> none <extra_id_6> none <extra_id_7> exam <extra_id_8> nitrile <extra_id_9> none <extra_id_10> none <extra_id_11> ihc <extra_id_12> ihc'] \n",
            "\n",
            "Search Term:  invonotavie gloves\n",
            "Model Input:  description: invonotavie gloves. The color of this item is <extra_id_0>. The size is <extra_id_1>. This item's sterile status is <extra_id_2>. The powdered status is <extra_id_3>. Its latex-free status is <extra_id_4>. It comes in <extra_id_5> per box. There are <extra_id_6> per case. It is used for <extra_id_7>. The material of this item is <extra_id_8>. This item is <extra_id_9> thick. It is <extra_id_10> long. The product name is <extra_id_11>. <extra_id_12> manufactures this.\n",
            "['targets: <extra_id_0> none <extra_id_1> none <extra_id_2> none <extra_id_3> none <extra_id_4> none <extra_id_5> none <extra_id_6> none <extra_id_7> none <extra_id_8> none <extra_id_9> none <extra_id_10> none <extra_id_11> none <extra_id_12> vonotavie'] \n",
            "\n",
            "Search Term:  isotoner glove\n",
            "Model Input:  description: isotoner glove. The color of this item is <extra_id_0>. The size is <extra_id_1>. This item's sterile status is <extra_id_2>. The powdered status is <extra_id_3>. Its latex-free status is <extra_id_4>. It comes in <extra_id_5> per box. There are <extra_id_6> per case. It is used for <extra_id_7>. The material of this item is <extra_id_8>. This item is <extra_id_9> thick. It is <extra_id_10> long. The product name is <extra_id_11>. <extra_id_12> manufactures this.\n",
            "['targets: <extra_id_0> none <extra_id_1> none <extra_id_2> none <extra_id_3> none <extra_id_4> none <extra_id_5> none <extra_id_6> none <extra_id_7> isotoner <extra_id_8> none <extra_id_9> none <extra_id_10> none <extra_id_11> isotoner <extra_id_12> isotoner'] \n",
            "\n",
            "Search Term:  kendall glove\n",
            "Model Input:  description: kendall glove. The color of this item is <extra_id_0>. The size is <extra_id_1>. This item's sterile status is <extra_id_2>. The powdered status is <extra_id_3>. Its latex-free status is <extra_id_4>. It comes in <extra_id_5> per box. There are <extra_id_6> per case. It is used for <extra_id_7>. The material of this item is <extra_id_8>. This item is <extra_id_9> thick. It is <extra_id_10> long. The product name is <extra_id_11>. <extra_id_12> manufactures this.\n",
            "['targets: <extra_id_0> none <extra_id_1> none <extra_id_2> none <extra_id_3> none <extra_id_4> none <extra_id_5> none <extra_id_6> none <extra_id_7> none <extra_id_8> none <extra_id_9> none <extra_id_10> none <extra_id_11> kendall <extra_id_12> kendall'] \n",
            "\n",
            "Search Term:  kimber clark gloves\n",
            "Model Input:  description: kimber clark gloves. The color of this item is <extra_id_0>. The size is <extra_id_1>. This item's sterile status is <extra_id_2>. The powdered status is <extra_id_3>. Its latex-free status is <extra_id_4>. It comes in <extra_id_5> per box. There are <extra_id_6> per case. It is used for <extra_id_7>. The material of this item is <extra_id_8>. This item is <extra_id_9> thick. It is <extra_id_10> long. The product name is <extra_id_11>. <extra_id_12> manufactures this.\n",
            "['targets: <extra_id_0> none <extra_id_1> none <extra_id_2> none <extra_id_3> none <extra_id_4> none <extra_id_5> none <extra_id_6> none <extra_id_7> none <extra_id_8> none <extra_id_9> none <extra_id_10> none <extra_id_11> kimber clark <extra_id_12> kimber clark'] \n",
            "\n",
            "Search Term:  kimberly clark gloves\n",
            "Model Input:  description: kimberly clark gloves. The color of this item is <extra_id_0>. The size is <extra_id_1>. This item's sterile status is <extra_id_2>. The powdered status is <extra_id_3>. Its latex-free status is <extra_id_4>. It comes in <extra_id_5> per box. There are <extra_id_6> per case. It is used for <extra_id_7>. The material of this item is <extra_id_8>. This item is <extra_id_9> thick. It is <extra_id_10> long. The product name is <extra_id_11>. <extra_id_12> manufactures this.\n",
            "['targets: <extra_id_0> none <extra_id_1> none <extra_id_2> none <extra_id_3> none <extra_id_4> none <extra_id_5> none <extra_id_6> none <extra_id_7> none <extra_id_8> none <extra_id_9> none <extra_id_10> none <extra_id_11> kimberly clark <extra_id_12> kimberly clark'] \n",
            "\n",
            "Search Term:  kimtech gloves\n",
            "Model Input:  description: kimtech gloves. The color of this item is <extra_id_0>. The size is <extra_id_1>. This item's sterile status is <extra_id_2>. The powdered status is <extra_id_3>. Its latex-free status is <extra_id_4>. It comes in <extra_id_5> per box. There are <extra_id_6> per case. It is used for <extra_id_7>. The material of this item is <extra_id_8>. This item is <extra_id_9> thick. It is <extra_id_10> long. The product name is <extra_id_11>. <extra_id_12> manufactures this.\n",
            "['targets: <extra_id_0> none <extra_id_1> none <extra_id_2> none <extra_id_3> none <extra_id_4> none <extra_id_5> none <extra_id_6> none <extra_id_7> none <extra_id_8> none <extra_id_9> none <extra_id_10> none <extra_id_11> kimtech <extra_id_12> kimtech'] \n",
            "\n",
            "Search Term:  large nitrile exam gloves\n",
            "Model Input:  description: large nitrile exam gloves. The color of this item is <extra_id_0>. The size is <extra_id_1>. This item's sterile status is <extra_id_2>. The powdered status is <extra_id_3>. Its latex-free status is <extra_id_4>. It comes in <extra_id_5> per box. There are <extra_id_6> per case. It is used for <extra_id_7>. The material of this item is <extra_id_8>. This item is <extra_id_9> thick. It is <extra_id_10> long. The product name is <extra_id_11>. <extra_id_12> manufactures this.\n",
            "['targets: <extra_id_0> none <extra_id_1> large <extra_id_2> none <extra_id_3> none <extra_id_4> none <extra_id_5> none <extra_id_6> none <extra_id_7> exam <extra_id_8> nitrile <extra_id_9> none <extra_id_10> none <extra_id_11> none <extra_id_12> target'] \n",
            "\n",
            "Search Term:  large nitrile gloves\n",
            "Model Input:  description: large nitrile gloves. The color of this item is <extra_id_0>. The size is <extra_id_1>. This item's sterile status is <extra_id_2>. The powdered status is <extra_id_3>. Its latex-free status is <extra_id_4>. It comes in <extra_id_5> per box. There are <extra_id_6> per case. It is used for <extra_id_7>. The material of this item is <extra_id_8>. This item is <extra_id_9> thick. It is <extra_id_10> long. The product name is <extra_id_11>. <extra_id_12> manufactures this.\n",
            "['targets: <extra_id_0> none <extra_id_1> large <extra_id_2> none <extra_id_3> none <extra_id_4> none <extra_id_5> none <extra_id_6> none <extra_id_7> none <extra_id_8> nitrile <extra_id_9> none <extra_id_10> none <extra_id_11> none <extra_id_12> target'] \n",
            "\n",
            "Search Term:  latex exam gloves\n",
            "Model Input:  description: latex exam gloves. The color of this item is <extra_id_0>. The size is <extra_id_1>. This item's sterile status is <extra_id_2>. The powdered status is <extra_id_3>. Its latex-free status is <extra_id_4>. It comes in <extra_id_5> per box. There are <extra_id_6> per case. It is used for <extra_id_7>. The material of this item is <extra_id_8>. This item is <extra_id_9> thick. It is <extra_id_10> long. The product name is <extra_id_11>. <extra_id_12> manufactures this.\n",
            "['targets: <extra_id_0> none <extra_id_1> none <extra_id_2> none <extra_id_3> none <extra_id_4> latex <extra_id_5> none <extra_id_6> none <extra_id_7> exam <extra_id_8> none <extra_id_9> none <extra_id_10> none <extra_id_11> none <extra_id_12> none'] \n",
            "\n",
            "Search Term:  latex free and powder free gloves\n",
            "Model Input:  description: latex free and powder free gloves. The color of this item is <extra_id_0>. The size is <extra_id_1>. This item's sterile status is <extra_id_2>. The powdered status is <extra_id_3>. Its latex-free status is <extra_id_4>. It comes in <extra_id_5> per box. There are <extra_id_6> per case. It is used for <extra_id_7>. The material of this item is <extra_id_8>. This item is <extra_id_9> thick. It is <extra_id_10> long. The product name is <extra_id_11>. <extra_id_12> manufactures this.\n",
            "['targets: <extra_id_0> none <extra_id_1> none <extra_id_2> none <extra_id_3> powder-free <extra_id_4> latex-free <extra_id_5> none <extra_id_6> none <extra_id_7> none <extra_id_8> none <extra_id_9> none <extra_id_10> none <extra_id_11> none <extra_id_12> none'] \n",
            "\n",
            "Search Term:  latex free exam gloves\n",
            "Model Input:  description: latex free exam gloves. The color of this item is <extra_id_0>. The size is <extra_id_1>. This item's sterile status is <extra_id_2>. The powdered status is <extra_id_3>. Its latex-free status is <extra_id_4>. It comes in <extra_id_5> per box. There are <extra_id_6> per case. It is used for <extra_id_7>. The material of this item is <extra_id_8>. This item is <extra_id_9> thick. It is <extra_id_10> long. The product name is <extra_id_11>. <extra_id_12> manufactures this.\n",
            "['targets: <extra_id_0> none <extra_id_1> none <extra_id_2> none <extra_id_3> none <extra_id_4> latex-free <extra_id_5> none <extra_id_6> none <extra_id_7> exam <extra_id_8> none <extra_id_9> none <extra_id_10> none <extra_id_11> none <extra_id_12> none'] \n",
            "\n",
            "Search Term:  latex free powder free surgical gloves\n",
            "Model Input:  description: latex free powder free surgical gloves. The color of this item is <extra_id_0>. The size is <extra_id_1>. This item's sterile status is <extra_id_2>. The powdered status is <extra_id_3>. Its latex-free status is <extra_id_4>. It comes in <extra_id_5> per box. There are <extra_id_6> per case. It is used for <extra_id_7>. The material of this item is <extra_id_8>. This item is <extra_id_9> thick. It is <extra_id_10> long. The product name is <extra_id_11>. <extra_id_12> manufactures this.\n",
            "['targets: <extra_id_0> none <extra_id_1> none <extra_id_2> none <extra_id_3> powder-free <extra_id_4> latex-free <extra_id_5> none <extra_id_6> none <extra_id_7> surgical <extra_id_8> none <extra_id_9> none <extra_id_10> none <extra_id_11> none <extra_id_12> none'] \n",
            "\n",
            "Search Term:  latex free pwoder free vinyl gloves\n",
            "Model Input:  description: latex free pwoder free vinyl gloves. The color of this item is <extra_id_0>. The size is <extra_id_1>. This item's sterile status is <extra_id_2>. The powdered status is <extra_id_3>. Its latex-free status is <extra_id_4>. It comes in <extra_id_5> per box. There are <extra_id_6> per case. It is used for <extra_id_7>. The material of this item is <extra_id_8>. This item is <extra_id_9> thick. It is <extra_id_10> long. The product name is <extra_id_11>. <extra_id_12> manufactures this.\n",
            "['targets: <extra_id_0> none <extra_id_1> none <extra_id_2> none <extra_id_3> powder-free <extra_id_4> latex-free <extra_id_5> none <extra_id_6> none <extra_id_7> none <extra_id_8> vinyl <extra_id_9> none <extra_id_10> none <extra_id_11> none <extra_id_12> none'] \n",
            "\n",
            "Search Term:  latex free sterile gloves\n",
            "Model Input:  description: latex free sterile gloves. The color of this item is <extra_id_0>. The size is <extra_id_1>. This item's sterile status is <extra_id_2>. The powdered status is <extra_id_3>. Its latex-free status is <extra_id_4>. It comes in <extra_id_5> per box. There are <extra_id_6> per case. It is used for <extra_id_7>. The material of this item is <extra_id_8>. This item is <extra_id_9> thick. It is <extra_id_10> long. The product name is <extra_id_11>. <extra_id_12> manufactures this.\n",
            "['targets: <extra_id_0> none <extra_id_1> none <extra_id_2> sterile <extra_id_3> none <extra_id_4> latex-free <extra_id_5> none <extra_id_6> none <extra_id_7> none <extra_id_8> none <extra_id_9> none <extra_id_10> none <extra_id_11> none <extra_id_12> none'] \n",
            "\n",
            "Search Term:  latex glove 8\n",
            "Model Input:  description: latex glove 8. The color of this item is <extra_id_0>. The size is <extra_id_1>. This item's sterile status is <extra_id_2>. The powdered status is <extra_id_3>. Its latex-free status is <extra_id_4>. It comes in <extra_id_5> per box. There are <extra_id_6> per case. It is used for <extra_id_7>. The material of this item is <extra_id_8>. This item is <extra_id_9> thick. It is <extra_id_10> long. The product name is <extra_id_11>. <extra_id_12> manufactures this.\n",
            "['targets: <extra_id_0> none <extra_id_1> none <extra_id_2> none <extra_id_3> none <extra_id_4> latex <extra_id_5> none <extra_id_6> none <extra_id_7> none <extra_id_8> none <extra_id_9> none <extra_id_10> none <extra_id_11> none <extra_id_12> none'] \n",
            "\n",
            "Search Term:  lead gloves\n",
            "Model Input:  description: lead gloves. The color of this item is <extra_id_0>. The size is <extra_id_1>. This item's sterile status is <extra_id_2>. The powdered status is <extra_id_3>. Its latex-free status is <extra_id_4>. It comes in <extra_id_5> per box. There are <extra_id_6> per case. It is used for <extra_id_7>. The material of this item is <extra_id_8>. This item is <extra_id_9> thick. It is <extra_id_10> long. The product name is <extra_id_11>. <extra_id_12> manufactures this.\n",
            "['targets: <extra_id_0> none <extra_id_1> none <extra_id_2> none <extra_id_3> none <extra_id_4> none <extra_id_5> none <extra_id_6> none <extra_id_7> none <extra_id_8> none <extra_id_9> none <extra_id_10> none <extra_id_11> none <extra_id_12> none'] \n",
            "\n",
            "Search Term:  leather gloves\n",
            "Model Input:  description: leather gloves. The color of this item is <extra_id_0>. The size is <extra_id_1>. This item's sterile status is <extra_id_2>. The powdered status is <extra_id_3>. Its latex-free status is <extra_id_4>. It comes in <extra_id_5> per box. There are <extra_id_6> per case. It is used for <extra_id_7>. The material of this item is <extra_id_8>. This item is <extra_id_9> thick. It is <extra_id_10> long. The product name is <extra_id_11>. <extra_id_12> manufactures this.\n",
            "['targets: <extra_id_0> none <extra_id_1> none <extra_id_2> none <extra_id_3> none <extra_id_4> none <extra_id_5> none <extra_id_6> none <extra_id_7> none <extra_id_8> none <extra_id_9> none <extra_id_10> none <extra_id_11> none <extra_id_12> target'] \n",
            "\n",
            "Search Term:  long cuff surgical glove\n",
            "Model Input:  description: long cuff surgical glove. The color of this item is <extra_id_0>. The size is <extra_id_1>. This item's sterile status is <extra_id_2>. The powdered status is <extra_id_3>. Its latex-free status is <extra_id_4>. It comes in <extra_id_5> per box. There are <extra_id_6> per case. It is used for <extra_id_7>. The material of this item is <extra_id_8>. This item is <extra_id_9> thick. It is <extra_id_10> long. The product name is <extra_id_11>. <extra_id_12> manufactures this.\n",
            "['targets: <extra_id_0> none <extra_id_1> none <extra_id_2> none <extra_id_3> none <extra_id_4> none <extra_id_5> none <extra_id_6> none <extra_id_7> surgical <extra_id_8> none <extra_id_9> none <extra_id_10> none <extra_id_11> none <extra_id_12> surgical gloves'] \n",
            "\n",
            "Search Term:  medicom glove\n",
            "Model Input:  description: medicom glove. The color of this item is <extra_id_0>. The size is <extra_id_1>. This item's sterile status is <extra_id_2>. The powdered status is <extra_id_3>. Its latex-free status is <extra_id_4>. It comes in <extra_id_5> per box. There are <extra_id_6> per case. It is used for <extra_id_7>. The material of this item is <extra_id_8>. This item is <extra_id_9> thick. It is <extra_id_10> long. The product name is <extra_id_11>. <extra_id_12> manufactures this.\n",
            "['targets: <extra_id_0> none <extra_id_1> none <extra_id_2> none <extra_id_3> none <extra_id_4> none <extra_id_5> none <extra_id_6> none <extra_id_7> none <extra_id_8> none <extra_id_9> none <extra_id_10> none <extra_id_11> none <extra_id_12> medicom'] \n",
            "\n",
            "Search Term:  medline fitguard gloves\n",
            "Model Input:  description: medline fitguard gloves. The color of this item is <extra_id_0>. The size is <extra_id_1>. This item's sterile status is <extra_id_2>. The powdered status is <extra_id_3>. Its latex-free status is <extra_id_4>. It comes in <extra_id_5> per box. There are <extra_id_6> per case. It is used for <extra_id_7>. The material of this item is <extra_id_8>. This item is <extra_id_9> thick. It is <extra_id_10> long. The product name is <extra_id_11>. <extra_id_12> manufactures this.\n",
            "['targets: <extra_id_0> none <extra_id_1> none <extra_id_2> none <extra_id_3> none <extra_id_4> none <extra_id_5> none <extra_id_6> none <extra_id_7> none <extra_id_8> none <extra_id_9> none <extra_id_10> none <extra_id_11> none <extra_id_12> medline fitguard'] \n",
            "\n",
            "Search Term:  medline surgical gloves\n",
            "Model Input:  description: medline surgical gloves. The color of this item is <extra_id_0>. The size is <extra_id_1>. This item's sterile status is <extra_id_2>. The powdered status is <extra_id_3>. Its latex-free status is <extra_id_4>. It comes in <extra_id_5> per box. There are <extra_id_6> per case. It is used for <extra_id_7>. The material of this item is <extra_id_8>. This item is <extra_id_9> thick. It is <extra_id_10> long. The product name is <extra_id_11>. <extra_id_12> manufactures this.\n",
            "['targets: <extra_id_0> none <extra_id_1> none <extra_id_2> none <extra_id_3> none <extra_id_4> none <extra_id_5> none <extra_id_6> none <extra_id_7> surgical <extra_id_8> none <extra_id_9> none <extra_id_10> none <extra_id_11> none <extra_id_12> medline surgical gloves'] \n",
            "\n",
            "Search Term:  microfiber glove\n",
            "Model Input:  description: microfiber glove. The color of this item is <extra_id_0>. The size is <extra_id_1>. This item's sterile status is <extra_id_2>. The powdered status is <extra_id_3>. Its latex-free status is <extra_id_4>. It comes in <extra_id_5> per box. There are <extra_id_6> per case. It is used for <extra_id_7>. The material of this item is <extra_id_8>. This item is <extra_id_9> thick. It is <extra_id_10> long. The product name is <extra_id_11>. <extra_id_12> manufactures this.\n",
            "['targets: <extra_id_0> none <extra_id_1> none <extra_id_2> none <extra_id_3> none <extra_id_4> none <extra_id_5> none <extra_id_6> none <extra_id_7> none <extra_id_8> microfiber <extra_id_9> none <extra_id_10> none <extra_id_11> none <extra_id_12> target'] \n",
            "\n",
            "Search Term:  n DEX GLOVES\n",
            "Model Input:  description: n dex gloves. The color of this item is <extra_id_0>. The size is <extra_id_1>. This item's sterile status is <extra_id_2>. The powdered status is <extra_id_3>. Its latex-free status is <extra_id_4>. It comes in <extra_id_5> per box. There are <extra_id_6> per case. It is used for <extra_id_7>. The material of this item is <extra_id_8>. This item is <extra_id_9> thick. It is <extra_id_10> long. The product name is <extra_id_11>. <extra_id_12> manufactures this.\n",
            "['targets: <extra_id_0> none <extra_id_1> none <extra_id_2> none <extra_id_3> none <extra_id_4> none <extra_id_5> none <extra_id_6> none <extra_id_7> none <extra_id_8> none <extra_id_9> none <extra_id_10> none <extra_id_11> none <extra_id_12> n dex'] \n",
            "\n",
            "Search Term:  n-dex gloves\n",
            "Model Input:  description: n-dex gloves. The color of this item is <extra_id_0>. The size is <extra_id_1>. This item's sterile status is <extra_id_2>. The powdered status is <extra_id_3>. Its latex-free status is <extra_id_4>. It comes in <extra_id_5> per box. There are <extra_id_6> per case. It is used for <extra_id_7>. The material of this item is <extra_id_8>. This item is <extra_id_9> thick. It is <extra_id_10> long. The product name is <extra_id_11>. <extra_id_12> manufactures this.\n",
            "['targets: <extra_id_0> none <extra_id_1> none <extra_id_2> none <extra_id_3> none <extra_id_4> none <extra_id_5> none <extra_id_6> none <extra_id_7> none <extra_id_8> nex <extra_id_9> none <extra_id_10> none <extra_id_11> none <extra_id_12> target'] \n",
            "\n",
            "Search Term:  neoprene gloves\n",
            "Model Input:  description: neoprene gloves. The color of this item is <extra_id_0>. The size is <extra_id_1>. This item's sterile status is <extra_id_2>. The powdered status is <extra_id_3>. Its latex-free status is <extra_id_4>. It comes in <extra_id_5> per box. There are <extra_id_6> per case. It is used for <extra_id_7>. The material of this item is <extra_id_8>. This item is <extra_id_9> thick. It is <extra_id_10> long. The product name is <extra_id_11>. <extra_id_12> manufactures this.\n",
            "['targets: <extra_id_0> none <extra_id_1> none <extra_id_2> none <extra_id_3> none <extra_id_4> none <extra_id_5> none <extra_id_6> none <extra_id_7> none <extra_id_8> neoprene <extra_id_9> none <extra_id_10> none <extra_id_11> none <extra_id_12> target'] \n",
            "\n",
            "Search Term:  neoprene surgical gloves\n",
            "Model Input:  description: neoprene surgical gloves. The color of this item is <extra_id_0>. The size is <extra_id_1>. This item's sterile status is <extra_id_2>. The powdered status is <extra_id_3>. Its latex-free status is <extra_id_4>. It comes in <extra_id_5> per box. There are <extra_id_6> per case. It is used for <extra_id_7>. The material of this item is <extra_id_8>. This item is <extra_id_9> thick. It is <extra_id_10> long. The product name is <extra_id_11>. <extra_id_12> manufactures this.\n",
            "['targets: <extra_id_0> none <extra_id_1> none <extra_id_2> none <extra_id_3> none <extra_id_4> none <extra_id_5> none <extra_id_6> none <extra_id_7> surgical <extra_id_8> neoprene <extra_id_9> none <extra_id_10> none <extra_id_11> none <extra_id_12> target'] \n",
            "\n",
            "Search Term:  nitricare powder free gloves\n",
            "Model Input:  description: nitricare powder free gloves. The color of this item is <extra_id_0>. The size is <extra_id_1>. This item's sterile status is <extra_id_2>. The powdered status is <extra_id_3>. Its latex-free status is <extra_id_4>. It comes in <extra_id_5> per box. There are <extra_id_6> per case. It is used for <extra_id_7>. The material of this item is <extra_id_8>. This item is <extra_id_9> thick. It is <extra_id_10> long. The product name is <extra_id_11>. <extra_id_12> manufactures this.\n",
            "['targets: <extra_id_0> none <extra_id_1> none <extra_id_2> none <extra_id_3> powder-free <extra_id_4> none <extra_id_5> none <extra_id_6> none <extra_id_7> none <extra_id_8> none <extra_id_9> none <extra_id_10> none <extra_id_11> nitricare <extra_id_12> nitricare'] \n",
            "\n",
            "Search Term:  nitrile exam gloves-blue\n",
            "Model Input:  description: nitrile exam gloves-blue. The color of this item is <extra_id_0>. The size is <extra_id_1>. This item's sterile status is <extra_id_2>. The powdered status is <extra_id_3>. Its latex-free status is <extra_id_4>. It comes in <extra_id_5> per box. There are <extra_id_6> per case. It is used for <extra_id_7>. The material of this item is <extra_id_8>. This item is <extra_id_9> thick. It is <extra_id_10> long. The product name is <extra_id_11>. <extra_id_12> manufactures this.\n",
            "['targets: <extra_id_0> blue <extra_id_1> none <extra_id_2> none <extra_id_3> none <extra_id_4> none <extra_id_5> none <extra_id_6> none <extra_id_7> exam <extra_id_8> nitrile <extra_id_9> none <extra_id_10> none <extra_id_11> none <extra_id_12> target'] \n",
            "\n",
            "Search Term:  nitrile examination gloves\n",
            "Model Input:  description: nitrile examination gloves. The color of this item is <extra_id_0>. The size is <extra_id_1>. This item's sterile status is <extra_id_2>. The powdered status is <extra_id_3>. Its latex-free status is <extra_id_4>. It comes in <extra_id_5> per box. There are <extra_id_6> per case. It is used for <extra_id_7>. The material of this item is <extra_id_8>. This item is <extra_id_9> thick. It is <extra_id_10> long. The product name is <extra_id_11>. <extra_id_12> manufactures this.\n",
            "['targets: <extra_id_0> none <extra_id_1> none <extra_id_2> none <extra_id_3> none <extra_id_4> none <extra_id_5> none <extra_id_6> none <extra_id_7> exam <extra_id_8> nitrile <extra_id_9> none <extra_id_10> none <extra_id_11> none <extra_id_12> target'] \n",
            "\n",
            "Search Term:  nitrile gloves 5mil\n",
            "Model Input:  description: nitrile gloves 5mil. The color of this item is <extra_id_0>. The size is <extra_id_1>. This item's sterile status is <extra_id_2>. The powdered status is <extra_id_3>. Its latex-free status is <extra_id_4>. It comes in <extra_id_5> per box. There are <extra_id_6> per case. It is used for <extra_id_7>. The material of this item is <extra_id_8>. This item is <extra_id_9> thick. It is <extra_id_10> long. The product name is <extra_id_11>. <extra_id_12> manufactures this.\n",
            "['targets: <extra_id_0> none <extra_id_1> none <extra_id_2> none <extra_id_3> none <extra_id_4> none <extra_id_5> none <extra_id_6> none <extra_id_7> none <extra_id_8> nitrile <extra_id_9> 5mil <extra_id_10> none <extra_id_11> none <extra_id_12> target'] \n",
            "\n",
            "Search Term:  nitrile gloves 6x xs\n",
            "Model Input:  description: nitrile gloves 6x xs. The color of this item is <extra_id_0>. The size is <extra_id_1>. This item's sterile status is <extra_id_2>. The powdered status is <extra_id_3>. Its latex-free status is <extra_id_4>. It comes in <extra_id_5> per box. There are <extra_id_6> per case. It is used for <extra_id_7>. The material of this item is <extra_id_8>. This item is <extra_id_9> thick. It is <extra_id_10> long. The product name is <extra_id_11>. <extra_id_12> manufactures this.\n",
            "['targets: <extra_id_0> none <extra_id_1> extra-small <extra_id_2> none <extra_id_3> none <extra_id_4> none <extra_id_5> none <extra_id_6> none <extra_id_7> none <extra_id_8> nitrile <extra_id_9> none <extra_id_10> none <extra_id_11> none <extra_id_12> target'] \n",
            "\n",
            "Search Term:  nitrile medical exam gloves\n",
            "Model Input:  description: nitrile medical exam gloves. The color of this item is <extra_id_0>. The size is <extra_id_1>. This item's sterile status is <extra_id_2>. The powdered status is <extra_id_3>. Its latex-free status is <extra_id_4>. It comes in <extra_id_5> per box. There are <extra_id_6> per case. It is used for <extra_id_7>. The material of this item is <extra_id_8>. This item is <extra_id_9> thick. It is <extra_id_10> long. The product name is <extra_id_11>. <extra_id_12> manufactures this.\n",
            "['targets: <extra_id_0> none <extra_id_1> none <extra_id_2> none <extra_id_3> none <extra_id_4> none <extra_id_5> none <extra_id_6> none <extra_id_7> exam <extra_id_8> nitrile <extra_id_9> none <extra_id_10> none <extra_id_11> none <extra_id_12> none'] \n",
            "\n",
            "Search Term:  nitrile powder free gloves\n",
            "Model Input:  description: nitrile powder free gloves. The color of this item is <extra_id_0>. The size is <extra_id_1>. This item's sterile status is <extra_id_2>. The powdered status is <extra_id_3>. Its latex-free status is <extra_id_4>. It comes in <extra_id_5> per box. There are <extra_id_6> per case. It is used for <extra_id_7>. The material of this item is <extra_id_8>. This item is <extra_id_9> thick. It is <extra_id_10> long. The product name is <extra_id_11>. <extra_id_12> manufactures this.\n",
            "['targets: <extra_id_0> none <extra_id_1> none <extra_id_2> none <extra_id_3> powder-free <extra_id_4> none <extra_id_5> none <extra_id_6> none <extra_id_7> none <extra_id_8> nitrile <extra_id_9> none <extra_id_10> none <extra_id_11> none <extra_id_12> target'] \n",
            "\n",
            "Search Term:  non latex surgical gloves\n",
            "Model Input:  description: non latex surgical gloves. The color of this item is <extra_id_0>. The size is <extra_id_1>. This item's sterile status is <extra_id_2>. The powdered status is <extra_id_3>. Its latex-free status is <extra_id_4>. It comes in <extra_id_5> per box. There are <extra_id_6> per case. It is used for <extra_id_7>. The material of this item is <extra_id_8>. This item is <extra_id_9> thick. It is <extra_id_10> long. The product name is <extra_id_11>. <extra_id_12> manufactures this.\n",
            "['targets: <extra_id_0> none <extra_id_1> none <extra_id_2> none <extra_id_3> none <extra_id_4> latex <extra_id_5> none <extra_id_6> none <extra_id_7> surgical <extra_id_8> none <extra_id_9> none <extra_id_10> none <extra_id_11> none <extra_id_12> none'] \n",
            "\n",
            "Search Term:  non surgical gloves\n",
            "Model Input:  description: non surgical gloves. The color of this item is <extra_id_0>. The size is <extra_id_1>. This item's sterile status is <extra_id_2>. The powdered status is <extra_id_3>. Its latex-free status is <extra_id_4>. It comes in <extra_id_5> per box. There are <extra_id_6> per case. It is used for <extra_id_7>. The material of this item is <extra_id_8>. This item is <extra_id_9> thick. It is <extra_id_10> long. The product name is <extra_id_11>. <extra_id_12> manufactures this.\n",
            "['targets: <extra_id_0> none <extra_id_1> none <extra_id_2> none <extra_id_3> none <extra_id_4> none <extra_id_5> none <extra_id_6> none <extra_id_7> surgical <extra_id_8> none <extra_id_9> none <extra_id_10> none <extra_id_11> none <extra_id_12> none'] \n",
            "\n",
            "Search Term:  non-latex sterile gloves\n",
            "Model Input:  description: non-latex sterile gloves. The color of this item is <extra_id_0>. The size is <extra_id_1>. This item's sterile status is <extra_id_2>. The powdered status is <extra_id_3>. Its latex-free status is <extra_id_4>. It comes in <extra_id_5> per box. There are <extra_id_6> per case. It is used for <extra_id_7>. The material of this item is <extra_id_8>. This item is <extra_id_9> thick. It is <extra_id_10> long. The product name is <extra_id_11>. <extra_id_12> manufactures this.\n",
            "['targets: <extra_id_0> none <extra_id_1> none <extra_id_2> sterile <extra_id_3> none <extra_id_4> latex <extra_id_5> none <extra_id_6> none <extra_id_7> none <extra_id_8> none <extra_id_9> none <extra_id_10> none <extra_id_11> none <extra_id_12> target'] \n",
            "\n",
            "Search Term:  powder free latex exam gloves\n",
            "Model Input:  description: powder free latex exam gloves. The color of this item is <extra_id_0>. The size is <extra_id_1>. This item's sterile status is <extra_id_2>. The powdered status is <extra_id_3>. Its latex-free status is <extra_id_4>. It comes in <extra_id_5> per box. There are <extra_id_6> per case. It is used for <extra_id_7>. The material of this item is <extra_id_8>. This item is <extra_id_9> thick. It is <extra_id_10> long. The product name is <extra_id_11>. <extra_id_12> manufactures this.\n",
            "['targets: <extra_id_0> none <extra_id_1> none <extra_id_2> none <extra_id_3> powder-free <extra_id_4> latex <extra_id_5> none <extra_id_6> none <extra_id_7> exam <extra_id_8> none <extra_id_9> none <extra_id_10> none <extra_id_11> none <extra_id_12> none'] \n",
            "\n",
            "Search Term:  powder-free nitrile general purpose gloves, large, black,\n",
            "Model Input:  description: powder-free nitrile general purpose gloves , large , black ,. The color of this item is <extra_id_0>. The size is <extra_id_1>. This item's sterile status is <extra_id_2>. The powdered status is <extra_id_3>. Its latex-free status is <extra_id_4>. It comes in <extra_id_5> per box. There are <extra_id_6> per case. It is used for <extra_id_7>. The material of this item is <extra_id_8>. This item is <extra_id_9> thick. It is <extra_id_10> long. The product name is <extra_id_11>. <extra_id_12> manufactures this.\n",
            "['targets: <extra_id_0> black <extra_id_1> large <extra_id_2> none <extra_id_3> powder-free <extra_id_4> none <extra_id_5> none <extra_id_6> none <extra_id_7> none <extra_id_8> nitrile <extra_id_9> none <extra_id_10> none <extra_id_11> none <extra_id_12> target'] \n",
            "\n",
            "Search Term:  powder-free nitrile general purpose gloves, large, black, 100/bx\n",
            "Model Input:  description: powder-free nitrile general purpose gloves , large , black , 100/bx. The color of this item is <extra_id_0>. The size is <extra_id_1>. This item's sterile status is <extra_id_2>. The powdered status is <extra_id_3>. Its latex-free status is <extra_id_4>. It comes in <extra_id_5> per box. There are <extra_id_6> per case. It is used for <extra_id_7>. The material of this item is <extra_id_8>. This item is <extra_id_9> thick. It is <extra_id_10> long. The product name is <extra_id_11>. <extra_id_12> manufactures this.\n",
            "['targets: <extra_id_0> black <extra_id_1> large <extra_id_2> none <extra_id_3> powder-free <extra_id_4> none <extra_id_5> 100 pairs <extra_id_6> none <extra_id_7> none <extra_id_8> nitrile <extra_id_9> none <extra_id_10> none <extra_id_11> none <extra_id_12> target'] \n",
            "\n",
            "Search Term:  powderfree gloves\n",
            "Model Input:  description: powderfree gloves. The color of this item is <extra_id_0>. The size is <extra_id_1>. This item's sterile status is <extra_id_2>. The powdered status is <extra_id_3>. Its latex-free status is <extra_id_4>. It comes in <extra_id_5> per box. There are <extra_id_6> per case. It is used for <extra_id_7>. The material of this item is <extra_id_8>. This item is <extra_id_9> thick. It is <extra_id_10> long. The product name is <extra_id_11>. <extra_id_12> manufactures this.\n",
            "['targets: <extra_id_0> none <extra_id_1> none <extra_id_2> none <extra_id_3> powder-free <extra_id_4> none <extra_id_5> none <extra_id_6> none <extra_id_7> none <extra_id_8> none <extra_id_9> none <extra_id_10> none <extra_id_11> none <extra_id_12> none'] \n",
            "\n",
            "Search Term:  pro advantage nitrile gloves\n",
            "Model Input:  description: pro advantage nitrile gloves. The color of this item is <extra_id_0>. The size is <extra_id_1>. This item's sterile status is <extra_id_2>. The powdered status is <extra_id_3>. Its latex-free status is <extra_id_4>. It comes in <extra_id_5> per box. There are <extra_id_6> per case. It is used for <extra_id_7>. The material of this item is <extra_id_8>. This item is <extra_id_9> thick. It is <extra_id_10> long. The product name is <extra_id_11>. <extra_id_12> manufactures this.\n",
            "['targets: <extra_id_0> none <extra_id_1> none <extra_id_2> none <extra_id_3> none <extra_id_4> none <extra_id_5> none <extra_id_6> none <extra_id_7> none <extra_id_8> nitrile <extra_id_9> none <extra_id_10> none <extra_id_11> pro advantage <extra_id_12> pro advantage'] \n",
            "\n",
            "Search Term:  pro avantage glove medium\n",
            "Model Input:  description: pro avantage glove medium. The color of this item is <extra_id_0>. The size is <extra_id_1>. This item's sterile status is <extra_id_2>. The powdered status is <extra_id_3>. Its latex-free status is <extra_id_4>. It comes in <extra_id_5> per box. There are <extra_id_6> per case. It is used for <extra_id_7>. The material of this item is <extra_id_8>. This item is <extra_id_9> thick. It is <extra_id_10> long. The product name is <extra_id_11>. <extra_id_12> manufactures this.\n",
            "['targets: <extra_id_0> none <extra_id_1> medium <extra_id_2> none <extra_id_3> none <extra_id_4> none <extra_id_5> none <extra_id_6> none <extra_id_7> none <extra_id_8> none <extra_id_9> none <extra_id_10> none <extra_id_11> proavantage <extra_id_12> avantage'] \n",
            "\n",
            "Search Term:  proadvantage gloves\n",
            "Model Input:  description: proadvantage gloves. The color of this item is <extra_id_0>. The size is <extra_id_1>. This item's sterile status is <extra_id_2>. The powdered status is <extra_id_3>. Its latex-free status is <extra_id_4>. It comes in <extra_id_5> per box. There are <extra_id_6> per case. It is used for <extra_id_7>. The material of this item is <extra_id_8>. This item is <extra_id_9> thick. It is <extra_id_10> long. The product name is <extra_id_11>. <extra_id_12> manufactures this.\n",
            "['targets: <extra_id_0> none <extra_id_1> none <extra_id_2> none <extra_id_3> none <extra_id_4> none <extra_id_5> none <extra_id_6> none <extra_id_7> none <extra_id_8> none <extra_id_9> none <extra_id_10> none <extra_id_11> proadvantage <extra_id_12> proadvantage'] \n",
            "\n",
            "Search Term:  proadvantage nitrile gloves medium\n",
            "Model Input:  description: proadvantage nitrile gloves medium. The color of this item is <extra_id_0>. The size is <extra_id_1>. This item's sterile status is <extra_id_2>. The powdered status is <extra_id_3>. Its latex-free status is <extra_id_4>. It comes in <extra_id_5> per box. There are <extra_id_6> per case. It is used for <extra_id_7>. The material of this item is <extra_id_8>. This item is <extra_id_9> thick. It is <extra_id_10> long. The product name is <extra_id_11>. <extra_id_12> manufactures this.\n",
            "['targets: <extra_id_0> none <extra_id_1> medium <extra_id_2> none <extra_id_3> none <extra_id_4> none <extra_id_5> none <extra_id_6> none <extra_id_7> none <extra_id_8> nitrile <extra_id_9> none <extra_id_10> none <extra_id_11> proadvantage <extra_id_12> proadvantage'] \n",
            "\n",
            "Search Term:  safeguard powder-free nitrile general purpose gloves, large, black, 100/bx\n",
            "Model Input:  description: safeguard powder-free nitrile general purpose gloves , large , black , 100/bx. The color of this item is <extra_id_0>. The size is <extra_id_1>. This item's sterile status is <extra_id_2>. The powdered status is <extra_id_3>. Its latex-free status is <extra_id_4>. It comes in <extra_id_5> per box. There are <extra_id_6> per case. It is used for <extra_id_7>. The material of this item is <extra_id_8>. This item is <extra_id_9> thick. It is <extra_id_10> long. The product name is <extra_id_11>. <extra_id_12> manufactures this.\n",
            "['targets: <extra_id_0> black <extra_id_1> large <extra_id_2> none <extra_id_3> powder-free <extra_id_4> none <extra_id_5> 100 pairs <extra_id_6> none <extra_id_7> none <extra_id_8> nitrile <extra_id_9> none <extra_id_10> none <extra_id_11> safeguard <extra_id_12> ac'] \n",
            "\n",
            "Search Term:  single exam glove\n",
            "Model Input:  description: single exam glove. The color of this item is <extra_id_0>. The size is <extra_id_1>. This item's sterile status is <extra_id_2>. The powdered status is <extra_id_3>. Its latex-free status is <extra_id_4>. It comes in <extra_id_5> per box. There are <extra_id_6> per case. It is used for <extra_id_7>. The material of this item is <extra_id_8>. This item is <extra_id_9> thick. It is <extra_id_10> long. The product name is <extra_id_11>. <extra_id_12> manufactures this.\n",
            "['targets: <extra_id_0> none <extra_id_1> none <extra_id_2> none <extra_id_3> none <extra_id_4> none <extra_id_5> none <extra_id_6> none <extra_id_7> exam <extra_id_8> none <extra_id_9> none <extra_id_10> none <extra_id_11> none <extra_id_12> target:'] \n",
            "\n",
            "Search Term:  size large exam gloves\n",
            "Model Input:  description: size large exam gloves. The color of this item is <extra_id_0>. The size is <extra_id_1>. This item's sterile status is <extra_id_2>. The powdered status is <extra_id_3>. Its latex-free status is <extra_id_4>. It comes in <extra_id_5> per box. There are <extra_id_6> per case. It is used for <extra_id_7>. The material of this item is <extra_id_8>. This item is <extra_id_9> thick. It is <extra_id_10> long. The product name is <extra_id_11>. <extra_id_12> manufactures this.\n",
            "['targets: <extra_id_0> none <extra_id_1> large <extra_id_2> none <extra_id_3> none <extra_id_4> none <extra_id_5> none <extra_id_6> none <extra_id_7> exam <extra_id_8> none <extra_id_9> none <extra_id_10> none <extra_id_11> none <extra_id_12> exam gloves company'] \n",
            "\n",
            "Search Term:  small nitrile powder gloves\n",
            "Model Input:  description: small nitrile powder gloves. The color of this item is <extra_id_0>. The size is <extra_id_1>. This item's sterile status is <extra_id_2>. The powdered status is <extra_id_3>. Its latex-free status is <extra_id_4>. It comes in <extra_id_5> per box. There are <extra_id_6> per case. It is used for <extra_id_7>. The material of this item is <extra_id_8>. This item is <extra_id_9> thick. It is <extra_id_10> long. The product name is <extra_id_11>. <extra_id_12> manufactures this.\n",
            "['targets: <extra_id_0> none <extra_id_1> small <extra_id_2> none <extra_id_3> powder-free <extra_id_4> none <extra_id_5> none <extra_id_6> none <extra_id_7> none <extra_id_8> nitrile <extra_id_9> none <extra_id_10> none <extra_id_11> none <extra_id_12> target'] \n",
            "\n",
            "Search Term:  sterile glove latex\n",
            "Model Input:  description: sterile glove latex. The color of this item is <extra_id_0>. The size is <extra_id_1>. This item's sterile status is <extra_id_2>. The powdered status is <extra_id_3>. Its latex-free status is <extra_id_4>. It comes in <extra_id_5> per box. There are <extra_id_6> per case. It is used for <extra_id_7>. The material of this item is <extra_id_8>. This item is <extra_id_9> thick. It is <extra_id_10> long. The product name is <extra_id_11>. <extra_id_12> manufactures this.\n",
            "['targets: <extra_id_0> none <extra_id_1> none <extra_id_2> sterile <extra_id_3> none <extra_id_4> latex <extra_id_5> none <extra_id_6> none <extra_id_7> none <extra_id_8> none <extra_id_9> none <extra_id_10> none <extra_id_11> none <extra_id_12> none'] \n",
            "\n",
            "Search Term:  sterile gloves - latex free\n",
            "Model Input:  description: sterile gloves - latex free. The color of this item is <extra_id_0>. The size is <extra_id_1>. This item's sterile status is <extra_id_2>. The powdered status is <extra_id_3>. Its latex-free status is <extra_id_4>. It comes in <extra_id_5> per box. There are <extra_id_6> per case. It is used for <extra_id_7>. The material of this item is <extra_id_8>. This item is <extra_id_9> thick. It is <extra_id_10> long. The product name is <extra_id_11>. <extra_id_12> manufactures this.\n",
            "['targets: <extra_id_0> none <extra_id_1> none <extra_id_2> sterile <extra_id_3> none <extra_id_4> latex-free <extra_id_5> none <extra_id_6> none <extra_id_7> none <extra_id_8> none <extra_id_9> none <extra_id_10> none <extra_id_11> none <extra_id_12> none'] \n",
            "\n",
            "Search Term:  sterile polyisoprene gloves\n",
            "Model Input:  description: sterile polyisoprene gloves. The color of this item is <extra_id_0>. The size is <extra_id_1>. This item's sterile status is <extra_id_2>. The powdered status is <extra_id_3>. Its latex-free status is <extra_id_4>. It comes in <extra_id_5> per box. There are <extra_id_6> per case. It is used for <extra_id_7>. The material of this item is <extra_id_8>. This item is <extra_id_9> thick. It is <extra_id_10> long. The product name is <extra_id_11>. <extra_id_12> manufactures this.\n",
            "['targets: <extra_id_0> none <extra_id_1> none <extra_id_2> sterile <extra_id_3> none <extra_id_4> none <extra_id_5> none <extra_id_6> none <extra_id_7> none <extra_id_8> polyisoprene <extra_id_9> none <extra_id_10> none <extra_id_11> none <extra_id_12> is'] \n",
            "\n",
            "Search Term:  sterile surgeons gloves latex free\n",
            "Model Input:  description: sterile surgeons gloves latex free. The color of this item is <extra_id_0>. The size is <extra_id_1>. This item's sterile status is <extra_id_2>. The powdered status is <extra_id_3>. Its latex-free status is <extra_id_4>. It comes in <extra_id_5> per box. There are <extra_id_6> per case. It is used for <extra_id_7>. The material of this item is <extra_id_8>. This item is <extra_id_9> thick. It is <extra_id_10> long. The product name is <extra_id_11>. <extra_id_12> manufactures this.\n",
            "['targets: <extra_id_0> none <extra_id_1> none <extra_id_2> sterile <extra_id_3> none <extra_id_4> latex-free <extra_id_5> none <extra_id_6> none <extra_id_7> surgical <extra_id_8> none <extra_id_9> none <extra_id_10> none <extra_id_11> none <extra_id_12> none'] \n",
            "\n",
            "Search Term:  sterilzation gloves\n",
            "Model Input:  description: sterilzation gloves. The color of this item is <extra_id_0>. The size is <extra_id_1>. This item's sterile status is <extra_id_2>. The powdered status is <extra_id_3>. Its latex-free status is <extra_id_4>. It comes in <extra_id_5> per box. There are <extra_id_6> per case. It is used for <extra_id_7>. The material of this item is <extra_id_8>. This item is <extra_id_9> thick. It is <extra_id_10> long. The product name is <extra_id_11>. <extra_id_12> manufactures this.\n",
            "['targets: <extra_id_0> none <extra_id_1> none <extra_id_2> sterile <extra_id_3> none <extra_id_4> none <extra_id_5> none <extra_id_6> none <extra_id_7> none <extra_id_8> none <extra_id_9> none <extra_id_10> none <extra_id_11> none <extra_id_12> target'] \n",
            "\n",
            "Search Term:  strong nitrile large gloves\n",
            "Model Input:  description: strong nitrile large gloves. The color of this item is <extra_id_0>. The size is <extra_id_1>. This item's sterile status is <extra_id_2>. The powdered status is <extra_id_3>. Its latex-free status is <extra_id_4>. It comes in <extra_id_5> per box. There are <extra_id_6> per case. It is used for <extra_id_7>. The material of this item is <extra_id_8>. This item is <extra_id_9> thick. It is <extra_id_10> long. The product name is <extra_id_11>. <extra_id_12> manufactures this.\n",
            "['targets: <extra_id_0> none <extra_id_1> large <extra_id_2> none <extra_id_3> none <extra_id_4> none <extra_id_5> none <extra_id_6> none <extra_id_7> none <extra_id_8> nitrile <extra_id_9> none <extra_id_10> none <extra_id_11> none <extra_id_12> target'] \n",
            "\n",
            "Search Term:  surgical glove\n",
            "Model Input:  description: surgical glove. The color of this item is <extra_id_0>. The size is <extra_id_1>. This item's sterile status is <extra_id_2>. The powdered status is <extra_id_3>. Its latex-free status is <extra_id_4>. It comes in <extra_id_5> per box. There are <extra_id_6> per case. It is used for <extra_id_7>. The material of this item is <extra_id_8>. This item is <extra_id_9> thick. It is <extra_id_10> long. The product name is <extra_id_11>. <extra_id_12> manufactures this.\n",
            "['targets: <extra_id_0> none <extra_id_1> none <extra_id_2> none <extra_id_3> none <extra_id_4> none <extra_id_5> none <extra_id_6> none <extra_id_7> surgical <extra_id_8> none <extra_id_9> none <extra_id_10> none <extra_id_11> none <extra_id_12> surgical gloves manufacturer'] \n",
            "\n",
            "Search Term:  surgical gloves latex-free\n",
            "Model Input:  description: surgical gloves latex-free. The color of this item is <extra_id_0>. The size is <extra_id_1>. This item's sterile status is <extra_id_2>. The powdered status is <extra_id_3>. Its latex-free status is <extra_id_4>. It comes in <extra_id_5> per box. There are <extra_id_6> per case. It is used for <extra_id_7>. The material of this item is <extra_id_8>. This item is <extra_id_9> thick. It is <extra_id_10> long. The product name is <extra_id_11>. <extra_id_12> manufactures this.\n",
            "['targets: <extra_id_0> none <extra_id_1> none <extra_id_2> none <extra_id_3> none <extra_id_4> latex-free <extra_id_5> none <extra_id_6> none <extra_id_7> surgical <extra_id_8> none <extra_id_9> none <extra_id_10> none <extra_id_11> none <extra_id_12> none'] \n",
            "\n",
            "Search Term:  surgical gloves, size 6.5\n",
            "Model Input:  description: surgical gloves , size 6.5. The color of this item is <extra_id_0>. The size is <extra_id_1>. This item's sterile status is <extra_id_2>. The powdered status is <extra_id_3>. Its latex-free status is <extra_id_4>. It comes in <extra_id_5> per box. There are <extra_id_6> per case. It is used for <extra_id_7>. The material of this item is <extra_id_8>. This item is <extra_id_9> thick. It is <extra_id_10> long. The product name is <extra_id_11>. <extra_id_12> manufactures this.\n",
            "['targets: <extra_id_0> none <extra_id_1> 6.5 <extra_id_2> none <extra_id_3> none <extra_id_4> none <extra_id_5> none <extra_id_6> none <extra_id_7> surgical <extra_id_8> none <extra_id_9> none <extra_id_10> none <extra_id_11> none <extra_id_12> surgical gloves'] \n",
            "\n",
            "Search Term:  syntegra CR Neoprene surgical gloves\n",
            "Model Input:  description: syntegra cr neoprene surgical gloves. The color of this item is <extra_id_0>. The size is <extra_id_1>. This item's sterile status is <extra_id_2>. The powdered status is <extra_id_3>. Its latex-free status is <extra_id_4>. It comes in <extra_id_5> per box. There are <extra_id_6> per case. It is used for <extra_id_7>. The material of this item is <extra_id_8>. This item is <extra_id_9> thick. It is <extra_id_10> long. The product name is <extra_id_11>. <extra_id_12> manufactures this.\n",
            "['targets: <extra_id_0> none <extra_id_1> none <extra_id_2> none <extra_id_3> none <extra_id_4> none <extra_id_5> none <extra_id_6> none <extra_id_7> surgical <extra_id_8> neoprene <extra_id_9> none <extra_id_10> none <extra_id_11> syntegra <extra_id_12> syntegra'] \n",
            "\n",
            "Search Term:  top glove\n",
            "Model Input:  description: top glove. The color of this item is <extra_id_0>. The size is <extra_id_1>. This item's sterile status is <extra_id_2>. The powdered status is <extra_id_3>. Its latex-free status is <extra_id_4>. It comes in <extra_id_5> per box. There are <extra_id_6> per case. It is used for <extra_id_7>. The material of this item is <extra_id_8>. This item is <extra_id_9> thick. It is <extra_id_10> long. The product name is <extra_id_11>. <extra_id_12> manufactures this.\n",
            "['targets: <extra_id_0> none <extra_id_1> none <extra_id_2> none <extra_id_3> none <extra_id_4> none <extra_id_5> none <extra_id_6> none <extra_id_7> none <extra_id_8> none <extra_id_9> none <extra_id_10> none <extra_id_11> none <extra_id_12> none'] \n",
            "\n",
            "Search Term:  top glove xs\n",
            "Model Input:  description: top glove xs. The color of this item is <extra_id_0>. The size is <extra_id_1>. This item's sterile status is <extra_id_2>. The powdered status is <extra_id_3>. Its latex-free status is <extra_id_4>. It comes in <extra_id_5> per box. There are <extra_id_6> per case. It is used for <extra_id_7>. The material of this item is <extra_id_8>. This item is <extra_id_9> thick. It is <extra_id_10> long. The product name is <extra_id_11>. <extra_id_12> manufactures this.\n",
            "['targets: <extra_id_0> none <extra_id_1> extra-small <extra_id_2> none <extra_id_3> none <extra_id_4> none <extra_id_5> none <extra_id_6> none <extra_id_7> none <extra_id_8> none <extra_id_9> none <extra_id_10> none <extra_id_11> none <extra_id_12> none'] \n",
            "\n",
            "Search Term:  tronex powder free gloves\n",
            "Model Input:  description: tronex powder free gloves. The color of this item is <extra_id_0>. The size is <extra_id_1>. This item's sterile status is <extra_id_2>. The powdered status is <extra_id_3>. Its latex-free status is <extra_id_4>. It comes in <extra_id_5> per box. There are <extra_id_6> per case. It is used for <extra_id_7>. The material of this item is <extra_id_8>. This item is <extra_id_9> thick. It is <extra_id_10> long. The product name is <extra_id_11>. <extra_id_12> manufactures this.\n",
            "['targets: <extra_id_0> none <extra_id_1> none <extra_id_2> none <extra_id_3> powder-free <extra_id_4> none <extra_id_5> none <extra_id_6> none <extra_id_7> none <extra_id_8> none <extra_id_9> none <extra_id_10> none <extra_id_11> tronex <extra_id_12> none'] \n",
            "\n",
            "Search Term:  unisize exam glove\n",
            "Model Input:  description: unisize exam glove. The color of this item is <extra_id_0>. The size is <extra_id_1>. This item's sterile status is <extra_id_2>. The powdered status is <extra_id_3>. Its latex-free status is <extra_id_4>. It comes in <extra_id_5> per box. There are <extra_id_6> per case. It is used for <extra_id_7>. The material of this item is <extra_id_8>. This item is <extra_id_9> thick. It is <extra_id_10> long. The product name is <extra_id_11>. <extra_id_12> manufactures this.\n",
            "['targets: <extra_id_0> none <extra_id_1> none <extra_id_2> none <extra_id_3> none <extra_id_4> none <extra_id_5> none <extra_id_6> none <extra_id_7> exam <extra_id_8> none <extra_id_9> none <extra_id_10> none <extra_id_11> none <extra_id_12> unisize'] \n",
            "\n",
            "Search Term:  uroplast copolymer glove\n",
            "Model Input:  description: uroplast copolymer glove. The color of this item is <extra_id_0>. The size is <extra_id_1>. This item's sterile status is <extra_id_2>. The powdered status is <extra_id_3>. Its latex-free status is <extra_id_4>. It comes in <extra_id_5> per box. There are <extra_id_6> per case. It is used for <extra_id_7>. The material of this item is <extra_id_8>. This item is <extra_id_9> thick. It is <extra_id_10> long. The product name is <extra_id_11>. <extra_id_12> manufactures this.\n",
            "['targets: <extra_id_0> none <extra_id_1> none <extra_id_2> none <extra_id_3> none <extra_id_4> none <extra_id_5> none <extra_id_6> none <extra_id_7> none <extra_id_8> uroplast <extra_id_9> none <extra_id_10> none <extra_id_11> none <extra_id_12> uroplast'] \n",
            "\n",
            "Search Term:  vinal gloves\n",
            "Model Input:  description: vinal gloves. The color of this item is <extra_id_0>. The size is <extra_id_1>. This item's sterile status is <extra_id_2>. The powdered status is <extra_id_3>. Its latex-free status is <extra_id_4>. It comes in <extra_id_5> per box. There are <extra_id_6> per case. It is used for <extra_id_7>. The material of this item is <extra_id_8>. This item is <extra_id_9> thick. It is <extra_id_10> long. The product name is <extra_id_11>. <extra_id_12> manufactures this.\n",
            "['targets: <extra_id_0> none <extra_id_1> none <extra_id_2> none <extra_id_3> none <extra_id_4> none <extra_id_5> none <extra_id_6> none <extra_id_7> none <extra_id_8> none <extra_id_9> none <extra_id_10> none <extra_id_11> vinal <extra_id_12> vinal targets'] \n",
            "\n",
            "Search Term:  vinyl exam gloves\n",
            "Model Input:  description: vinyl exam gloves. The color of this item is <extra_id_0>. The size is <extra_id_1>. This item's sterile status is <extra_id_2>. The powdered status is <extra_id_3>. Its latex-free status is <extra_id_4>. It comes in <extra_id_5> per box. There are <extra_id_6> per case. It is used for <extra_id_7>. The material of this item is <extra_id_8>. This item is <extra_id_9> thick. It is <extra_id_10> long. The product name is <extra_id_11>. <extra_id_12> manufactures this.\n",
            "['targets: <extra_id_0> none <extra_id_1> none <extra_id_2> none <extra_id_3> none <extra_id_4> none <extra_id_5> none <extra_id_6> none <extra_id_7> exam <extra_id_8> vinyl <extra_id_9> none <extra_id_10> none <extra_id_11> none <extra_id_12> target:'] \n",
            "\n",
            "Search Term:  vinyl glove liners\n",
            "Model Input:  description: vinyl glove liners. The color of this item is <extra_id_0>. The size is <extra_id_1>. This item's sterile status is <extra_id_2>. The powdered status is <extra_id_3>. Its latex-free status is <extra_id_4>. It comes in <extra_id_5> per box. There are <extra_id_6> per case. It is used for <extra_id_7>. The material of this item is <extra_id_8>. This item is <extra_id_9> thick. It is <extra_id_10> long. The product name is <extra_id_11>. <extra_id_12> manufactures this.\n",
            "['targets: <extra_id_0> none <extra_id_1> none <extra_id_2> none <extra_id_3> none <extra_id_4> none <extra_id_5> none <extra_id_6> none <extra_id_7> none <extra_id_8> vinyl <extra_id_9> none <extra_id_10> none <extra_id_11> none <extra_id_12> target'] \n",
            "\n",
            "Search Term:  wheel chair gloves\n",
            "Model Input:  description: wheel chair gloves. The color of this item is <extra_id_0>. The size is <extra_id_1>. This item's sterile status is <extra_id_2>. The powdered status is <extra_id_3>. Its latex-free status is <extra_id_4>. It comes in <extra_id_5> per box. There are <extra_id_6> per case. It is used for <extra_id_7>. The material of this item is <extra_id_8>. This item is <extra_id_9> thick. It is <extra_id_10> long. The product name is <extra_id_11>. <extra_id_12> manufactures this.\n",
            "['targets: <extra_id_0> none <extra_id_1> none <extra_id_2> none <extra_id_3> none <extra_id_4> none <extra_id_5> none <extra_id_6> none <extra_id_7> wheel chair <extra_id_8> none <extra_id_9> none <extra_id_10> none <extra_id_11> none <extra_id_12> wheelchair gloves manufacturer'] \n",
            "\n",
            "Search Term:  wheelchair push glove\n",
            "Model Input:  description: wheelchair push glove. The color of this item is <extra_id_0>. The size is <extra_id_1>. This item's sterile status is <extra_id_2>. The powdered status is <extra_id_3>. Its latex-free status is <extra_id_4>. It comes in <extra_id_5> per box. There are <extra_id_6> per case. It is used for <extra_id_7>. The material of this item is <extra_id_8>. This item is <extra_id_9> thick. It is <extra_id_10> long. The product name is <extra_id_11>. <extra_id_12> manufactures this.\n",
            "['targets: <extra_id_0> none <extra_id_1> none <extra_id_2> none <extra_id_3> none <extra_id_4> none <extra_id_5> none <extra_id_6> none <extra_id_7> none <extra_id_8> none <extra_id_9> none <extra_id_10> none <extra_id_11> none <extra_id_12> wheelchair push glove'] \n",
            "\n",
            "Search Term:  xl sterile gloves\n",
            "Model Input:  description: xl sterile gloves. The color of this item is <extra_id_0>. The size is <extra_id_1>. This item's sterile status is <extra_id_2>. The powdered status is <extra_id_3>. Its latex-free status is <extra_id_4>. It comes in <extra_id_5> per box. There are <extra_id_6> per case. It is used for <extra_id_7>. The material of this item is <extra_id_8>. This item is <extra_id_9> thick. It is <extra_id_10> long. The product name is <extra_id_11>. <extra_id_12> manufactures this.\n",
            "['targets: <extra_id_0> none <extra_id_1> extra-large <extra_id_2> sterile <extra_id_3> none <extra_id_4> none <extra_id_5> none <extra_id_6> none <extra_id_7> none <extra_id_8> none <extra_id_9> none <extra_id_10> none <extra_id_11> none <extra_id_12> none'] \n",
            "\n",
            "Search Term:  xxl gloves\n",
            "Model Input:  description: xxl gloves. The color of this item is <extra_id_0>. The size is <extra_id_1>. This item's sterile status is <extra_id_2>. The powdered status is <extra_id_3>. Its latex-free status is <extra_id_4>. It comes in <extra_id_5> per box. There are <extra_id_6> per case. It is used for <extra_id_7>. The material of this item is <extra_id_8>. This item is <extra_id_9> thick. It is <extra_id_10> long. The product name is <extra_id_11>. <extra_id_12> manufactures this.\n",
            "['targets: <extra_id_0> none <extra_id_1> extra-extra-large <extra_id_2> none <extra_id_3> none <extra_id_4> none <extra_id_5> none <extra_id_6> none <extra_id_7> none <extra_id_8> none <extra_id_9> none <extra_id_10> none <extra_id_11> none <extra_id_12> none'] \n",
            "\n"
          ],
          "name": "stdout"
        },
        {
          "output_type": "execute_result",
          "data": {
            "text/html": [
              "<div>\n",
              "<style scoped>\n",
              "    .dataframe tbody tr th:only-of-type {\n",
              "        vertical-align: middle;\n",
              "    }\n",
              "\n",
              "    .dataframe tbody tr th {\n",
              "        vertical-align: top;\n",
              "    }\n",
              "\n",
              "    .dataframe thead th {\n",
              "        text-align: right;\n",
              "    }\n",
              "</style>\n",
              "<table border=\"1\" class=\"dataframe\">\n",
              "  <thead>\n",
              "    <tr style=\"text-align: right;\">\n",
              "      <th></th>\n",
              "      <th>search_term</th>\n",
              "      <th>input</th>\n",
              "      <th>labels</th>\n",
              "      <th>total_unique_searches</th>\n",
              "      <th>gloves</th>\n",
              "    </tr>\n",
              "  </thead>\n",
              "  <tbody>\n",
              "    <tr>\n",
              "      <th>0</th>\n",
              "      <td>gloves</td>\n",
              "      <td>description: gloves. The color of this item is...</td>\n",
              "      <td>{}</td>\n",
              "      <td>44</td>\n",
              "      <td>True</td>\n",
              "    </tr>\n",
              "    <tr>\n",
              "      <th>1</th>\n",
              "      <td>nitrile gloves</td>\n",
              "      <td>description: nitrile gloves. The color of this...</td>\n",
              "      <td>{'material': ['nitrile'], 'company': ['target']}</td>\n",
              "      <td>26</td>\n",
              "      <td>True</td>\n",
              "    </tr>\n",
              "    <tr>\n",
              "      <th>2</th>\n",
              "      <td>sterile gloves</td>\n",
              "      <td>description: sterile gloves. The color of this...</td>\n",
              "      <td>{'type1': ['sterile'], 'company': ['target']}</td>\n",
              "      <td>7</td>\n",
              "      <td>True</td>\n",
              "    </tr>\n",
              "    <tr>\n",
              "      <th>3</th>\n",
              "      <td>exam gloves</td>\n",
              "      <td>description: exam gloves. The color of this it...</td>\n",
              "      <td>{'use': ['exam'], 'company': ['exam gloves']}</td>\n",
              "      <td>6</td>\n",
              "      <td>True</td>\n",
              "    </tr>\n",
              "    <tr>\n",
              "      <th>4</th>\n",
              "      <td>latex gloves</td>\n",
              "      <td>description: latex gloves. The color of this i...</td>\n",
              "      <td>{'type3': ['latex']}</td>\n",
              "      <td>5</td>\n",
              "      <td>True</td>\n",
              "    </tr>\n",
              "  </tbody>\n",
              "</table>\n",
              "</div>"
            ],
            "text/plain": [
              "      search_term  ... gloves\n",
              "0          gloves  ...   True\n",
              "1  nitrile gloves  ...   True\n",
              "2  sterile gloves  ...   True\n",
              "3     exam gloves  ...   True\n",
              "4    latex gloves  ...   True\n",
              "\n",
              "[5 rows x 5 columns]"
            ]
          },
          "metadata": {
            "tags": []
          },
          "execution_count": 18
        }
      ]
    },
    {
      "cell_type": "code",
      "metadata": {
        "id": "W069ejciFuv_"
      },
      "source": [
        "results_df.to_pickle('/content/folderOnColab/Results/medequip_search_results_single_original_format_v1.pkl')"
      ],
      "execution_count": 19,
      "outputs": []
    },
    {
      "cell_type": "markdown",
      "metadata": {
        "id": "4XcSvUs-D8iX"
      },
      "source": [
        "# Check Out Medequip Results\n",
        "This section tests the Medequip descriptions of the rows intersecting the Medequip and GUDID databases"
      ]
    },
    {
      "cell_type": "code",
      "metadata": {
        "id": "fHqkSFJLIT6S"
      },
      "source": [
        "df = pd.read_csv('folderOnColab/Data/full_gloves_gudid_with_brand_corrected.tsv', sep='\\t')\n",
        "brand_df = pd.read_pickle('folderOnColab/Data/clean_brand_diff_gloves_gudid_V3.pkl').drop_duplicates(subset='_brand_name_diff')\n",
        "label_df = pd.read_pickle('folderOnColab/Data/gudid_gloves_labelled_V3.pkl').reset_index()"
      ],
      "execution_count": null,
      "outputs": []
    },
    {
      "cell_type": "code",
      "metadata": {
        "id": "6A6l6D0qD_yV"
      },
      "source": [
        "label_df = label_df[~pd.isnull(label_df.ProductID)]\n",
        "label_df['input_text'] = [re.sub(r'(?<![a-zA-Z])-(?=[a-zA-Z])',' - ',' '.join(nltk.word_tokenize(str(x)))) for x in label_df.ItemDescription]\n",
        "label_df.input_text = 'description: ' + label_df.input_text"
      ],
      "execution_count": null,
      "outputs": []
    },
    {
      "cell_type": "code",
      "metadata": {
        "id": "o_LQXpKVHT9d"
      },
      "source": [
        "tokenizer = T5Tokenizer.from_pretrained('t5-base')\n",
        "results = []\n",
        "for ind, val in label_df.iterrows():\n",
        "    input = str(val.input_text)\n",
        "    dct = tokenizer(input, max_length=256, padding='max_length', return_tensors='pt')\n",
        "    input_ids = dct[\"input_ids\"].to(device).squeeze(1)\n",
        "    attention_mask = dct[\"attention_mask\"].to(device).squeeze(1)\n",
        "    generated_ids = T5.generate(input_ids=input_ids, attention_mask=attention_mask, max_length=100)#.squeeze()\n",
        "    predicted_span = tokenizer.batch_decode(generated_ids, skip_special_tokens=True, clean_up_tokenization_spaces=True)\n",
        "    tmp = {'primary_di': val['primary_di'], 'input': input, 'labels': predicted_span, \n",
        "           'ProductID': val['ProductID'], 'device_description': val['device_description'],\n",
        "           'brand_name': val['brand_name']}\n",
        "    results.append(tmp)\n",
        "    print('Description: ', val['ItemDescription'])\n",
        "    print('Model Input: ', input)\n",
        "    print(predicted_span, '\\n')\n",
        "results_df = pd.DataFrame(results)\n",
        "results_df.head()   "
      ],
      "execution_count": null,
      "outputs": []
    },
    {
      "cell_type": "code",
      "metadata": {
        "id": "2szPazkmOLMl"
      },
      "source": [
        "results_df['ItemDescription'] = label_df.ItemDescription"
      ],
      "execution_count": null,
      "outputs": []
    },
    {
      "cell_type": "code",
      "metadata": {
        "id": "ErzDtd5NK5yI"
      },
      "source": [
        "results_df.to_pickle('/content/folderOnColab/Results/medequip_description_gudid_intersection_cased_results.pkl')"
      ],
      "execution_count": null,
      "outputs": []
    },
    {
      "cell_type": "markdown",
      "metadata": {
        "id": "ZWWt3A45rcLc"
      },
      "source": [
        "## Evaluate"
      ]
    },
    {
      "cell_type": "code",
      "metadata": {
        "id": "KLAcGQjGSd77"
      },
      "source": [
        "label_df = label_df[['primary_di', 'labels', 'brand_labels', 'ProductID', 'ItemDescription', 'catalog_number']]\n",
        "df.primary_di = df.primary_di.apply(lambda x: x.zfill(14) if x[0].isdigit() else x)\n",
        "\n",
        "# Join dataframes\n",
        "df = df.merge(label_df, on='primary_di', how='left')\n",
        "df.head()"
      ],
      "execution_count": null,
      "outputs": []
    },
    {
      "cell_type": "code",
      "metadata": {
        "id": "ffxwcyoxrqj5"
      },
      "source": [
        "df.secondary_brand = ['None' if pd.isnull(x) else x for x in df.secondary_brand]\n",
        "df.primary_brand = ['None' if pd.isnull(x) else x for x in df.primary_brand]\n",
        "df.brand_name = ['' if pd.isnull(x) else x for x in df.brand_name]"
      ],
      "execution_count": null,
      "outputs": []
    },
    {
      "cell_type": "code",
      "metadata": {
        "id": "w_7qipE1SMiI"
      },
      "source": [
        "temp_df = pd.read_pickle('/content/folderOnColab/Results/medequip_description_gudid_intersection_cased_results.pkl')\n",
        "temp_df.head()"
      ],
      "execution_count": null,
      "outputs": []
    },
    {
      "cell_type": "code",
      "metadata": {
        "id": "5VCVo4WZS70s"
      },
      "source": [
        "df = pd.merge(temp_df, df[['primary_di', 'company_name', 'primary_brand', 'secondary_brand']], on='primary_di')\n",
        "df = df.rename(columns={'labels': 'predicted'})"
      ],
      "execution_count": null,
      "outputs": []
    },
    {
      "cell_type": "code",
      "metadata": {
        "id": "Rd9ZVyBUSTUL"
      },
      "source": [
        "df = pd.merge(df, label_df[['primary_di', 'catalog_number', 'labels', 'brand_labels']], on='primary_di')"
      ],
      "execution_count": null,
      "outputs": []
    },
    {
      "cell_type": "code",
      "metadata": {
        "id": "bvdi2P1gTruk"
      },
      "source": [
        "results = []\n",
        "for i, v in df.iterrows():\n",
        "    targ_text = output_label(v.labels,v.brand_labels, v.company_name, (v.primary_brand, v.secondary_brand))\n",
        "    pred_dict = answer_to_dict(v.predicted[0])\n",
        "    targ_dict = answer_to_dict(targ_text)\n",
        "    results.append(comparing_labels(targ_dict, pred_dict))\n",
        "results_test_df = pd.DataFrame(results)"
      ],
      "execution_count": null,
      "outputs": []
    },
    {
      "cell_type": "code",
      "metadata": {
        "id": "dVUC1YgeUIx1",
        "colab": {
          "base_uri": "https://localhost:8080/"
        },
        "outputId": "e9a903c3-106c-4f86-b51e-95b0f93df6a3"
      },
      "source": [
        "results_test_df.mean(axis=0)"
      ],
      "execution_count": null,
      "outputs": [
        {
          "output_type": "execute_result",
          "data": {
            "text/plain": [
              "color              0.547445\n",
              "size               0.879562\n",
              "type1              0.739051\n",
              "type2              0.563869\n",
              "use                0.784672\n",
              "material           0.691606\n",
              "thickness          0.952555\n",
              "length             0.934307\n",
              "primary_brand      0.206204\n",
              "secondary_brand    0.928832\n",
              "company            0.000000\n",
              "dtype: float64"
            ]
          },
          "metadata": {
            "tags": []
          },
          "execution_count": 61
        }
      ]
    },
    {
      "cell_type": "code",
      "metadata": {
        "id": "q080y0b_1CkQ"
      },
      "source": [
        "# Print out any mislabels\n",
        "label = 'color'\n",
        "for i, v in df[results_test_df[label].values == 0].iterrows():\n",
        "    print(f'Index {i}')\n",
        "    print(v.input)\n",
        "    print('Target', v.labels[label])\n",
        "    try:\n",
        "        print('Pred', answer_to_dict(v.predicted)[label], '\\n')\n",
        "    except:\n",
        "        print(v.predicted, '\\n')"
      ],
      "execution_count": null,
      "outputs": []
    },
    {
      "cell_type": "code",
      "metadata": {
        "id": "YT3x2p042hiR"
      },
      "source": [
        "df.to_pickle('/content/folderOnColab/Results/medequip_description_gudid_intersection_cased_results_updated.pkl')"
      ],
      "execution_count": null,
      "outputs": []
    }
  ]
}